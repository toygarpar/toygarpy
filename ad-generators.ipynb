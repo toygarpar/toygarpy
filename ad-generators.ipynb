{
 "cells": [
  {
   "cell_type": "markdown",
   "metadata": {},
   "source": [
    "## GENERATORS\n",
    "\n",
    "Generator functions - are coded as normal def statements, but use yield statements to return results one at a time, suspending and resuming their state between each.\n",
    "\n",
    "\n",
    "Generator expressions - are similar to the list comprehensions, but they return an object that produces results on demand instead of building a result list.\n",
    "\n",
    "-write functions that may send back a value and later be resumed, picking up where they left off\n",
    "\n",
    "-generator functions generate a sequence of values over time.\n",
    "\n",
    "-when created, they are compiled specially into an object that supports the iteration protocol.\n",
    "\n",
    "-when called, they don’t return a result: they return a result generator that can appear in any iteration context.\n",
    "\n",
    "\n",
    "State Suspension \n",
    "\n",
    "- Unlike normal functions that return a value and exit, generator functions automatically suspend and resume their execution and state around the point of value generation.\n",
    "\n",
    "-useful alternative to both computing an entire series of values up front and manually saving and restoring state in classes. \n",
    "\n",
    "-the state that genrator functions retain when they are suspended included their code location and their entire local scope.\n",
    "\n",
    "-their local variable retain info between results and make it available when the funcs are resumed\n",
    "\n",
    "-a generator yieldsa value, rahter than returning one - the yield statement suspends the function and sends a value back to the caller, but retains enough state to enable the function to resume from where it left off\n",
    "\n",
    "Iteration Protocol Integration\n",
    "\n",
    "- the generator’s ```__next__``` method resumes the function and runs until either the next yield result is returned or a StopIteration is raised.\n",
    "\n",
    "\n",
    "\n"
   ]
  },
  {
   "cell_type": "code",
   "execution_count": 1,
   "metadata": {},
   "outputs": [],
   "source": [
    "def kare_yarat(num):\n",
    "    for i in range(num):\n",
    "        yield i ** 2"
   ]
  },
  {
   "cell_type": "code",
   "execution_count": 2,
   "metadata": {},
   "outputs": [
    {
     "name": "stdout",
     "output_type": "stream",
     "text": [
      "0 : 1 : 4 : 9 : 16 : 25 : 36 : "
     ]
    }
   ],
   "source": [
    "for i in kare_yarat(7):\n",
    "    print(i, end=\" : \")"
   ]
  },
  {
   "cell_type": "code",
   "execution_count": 3,
   "metadata": {},
   "outputs": [
    {
     "data": {
      "text/plain": [
       "<generator object kare_yarat at 0x76a3ff524790>"
      ]
     },
     "execution_count": 3,
     "metadata": {},
     "output_type": "execute_result"
    }
   ],
   "source": [
    "gen = kare_yarat(7)\n",
    "\n",
    "gen"
   ]
  },
  {
   "cell_type": "code",
   "execution_count": 4,
   "metadata": {},
   "outputs": [
    {
     "data": {
      "text/plain": [
       "0"
      ]
     },
     "execution_count": 4,
     "metadata": {},
     "output_type": "execute_result"
    }
   ],
   "source": [
    "next(gen)"
   ]
  },
  {
   "cell_type": "code",
   "execution_count": 7,
   "metadata": {},
   "outputs": [],
   "source": [
    "def counter(max):\n",
    "    num = 1\n",
    "    nums =[]\n",
    "    while num <= max:\n",
    "        nums.append(num)\n",
    "        num += 1\n",
    "\n",
    "    return nums"
   ]
  },
  {
   "cell_type": "code",
   "execution_count": 8,
   "metadata": {},
   "outputs": [
    {
     "data": {
      "text/plain": [
       "[1, 2, 3, 4, 5, 6, 7, 8, 9, 10, 11, 12, 13, 14, 15, 16, 17, 18, 19, 20]"
      ]
     },
     "execution_count": 8,
     "metadata": {},
     "output_type": "execute_result"
    }
   ],
   "source": [
    "counter(20)"
   ]
  },
  {
   "cell_type": "code",
   "execution_count": 26,
   "metadata": {},
   "outputs": [],
   "source": [
    "def sayac(max):\n",
    "\n",
    "    sayi = 1\n",
    "\n",
    "    while sayi <= max:\n",
    "        yield sayi\n",
    "        sayi +=1"
   ]
  },
  {
   "cell_type": "code",
   "execution_count": 27,
   "metadata": {},
   "outputs": [
    {
     "data": {
      "text/plain": [
       "<generator object sayac at 0x76a3f28bb7c0>"
      ]
     },
     "execution_count": 27,
     "metadata": {},
     "output_type": "execute_result"
    }
   ],
   "source": [
    "sayac(20)"
   ]
  },
  {
   "cell_type": "code",
   "execution_count": 41,
   "metadata": {},
   "outputs": [],
   "source": [
    "ite3 = sayac(20)"
   ]
  },
  {
   "cell_type": "code",
   "execution_count": 37,
   "metadata": {},
   "outputs": [
    {
     "data": {
      "text/plain": [
       "1"
      ]
     },
     "execution_count": 37,
     "metadata": {},
     "output_type": "execute_result"
    }
   ],
   "source": [
    "next(ite3)\n"
   ]
  },
  {
   "cell_type": "code",
   "execution_count": 38,
   "metadata": {},
   "outputs": [
    {
     "data": {
      "text/plain": [
       "2"
      ]
     },
     "execution_count": 38,
     "metadata": {},
     "output_type": "execute_result"
    }
   ],
   "source": [
    "next(ite3)"
   ]
  },
  {
   "cell_type": "code",
   "execution_count": 39,
   "metadata": {},
   "outputs": [
    {
     "name": "stdout",
     "output_type": "stream",
     "text": [
      "3\n",
      "4\n",
      "5\n",
      "6\n",
      "7\n",
      "8\n",
      "9\n",
      "10\n",
      "11\n",
      "12\n",
      "13\n",
      "14\n",
      "15\n",
      "16\n",
      "17\n",
      "18\n",
      "19\n",
      "20\n"
     ]
    }
   ],
   "source": [
    "for i in ite3:\n",
    "    print(i)\n",
    "    "
   ]
  },
  {
   "cell_type": "code",
   "execution_count": 45,
   "metadata": {},
   "outputs": [
    {
     "data": {
      "text/plain": [
       "[1, 2, 3, 4, 5, 6, 7, 8, 9, 10, 11, 12, 13, 14, 15, 16, 17, 18, 19, 20]"
      ]
     },
     "execution_count": 45,
     "metadata": {},
     "output_type": "execute_result"
    }
   ],
   "source": [
    "#generatoru listeye çevirebilirsiniz\n",
    "ite4 = sayac(20)\n",
    "\n",
    "liste4 = list(ite4)\n",
    "\n",
    "liste4"
   ]
  },
  {
   "cell_type": "code",
   "execution_count": null,
   "metadata": {},
   "outputs": [
    {
     "data": {
      "text/plain": [
       "[1, 2, 3, 4, 5, 6, 7, 8, 9, 10, 11, 12, 13, 14, 15]"
      ]
     },
     "execution_count": 63,
     "metadata": {},
     "output_type": "execute_result"
    }
   ],
   "source": [
    "#using generator object in list comprehension\n",
    "\n",
    "ite5 = sayac(15)\n",
    "\n",
    "[i for i in ite5]"
   ]
  },
  {
   "cell_type": "code",
   "execution_count": 73,
   "metadata": {},
   "outputs": [
    {
     "data": {
      "text/plain": [
       "<generator object <genexpr> at 0x76a3f26356c0>"
      ]
     },
     "execution_count": 73,
     "metadata": {},
     "output_type": "execute_result"
    }
   ],
   "source": [
    "#make the list comprehension a generator\n",
    "\n",
    "ite7 = sayac(17)\n",
    "\n",
    "(i for i in ite7)"
   ]
  },
  {
   "cell_type": "code",
   "execution_count": 74,
   "metadata": {},
   "outputs": [
    {
     "data": {
      "text/plain": [
       "1"
      ]
     },
     "execution_count": 74,
     "metadata": {},
     "output_type": "execute_result"
    }
   ],
   "source": [
    "next(ite7)"
   ]
  },
  {
   "cell_type": "code",
   "execution_count": 75,
   "metadata": {},
   "outputs": [
    {
     "data": {
      "text/plain": [
       "[2, 3, 4, 5, 6, 7, 8, 9, 10, 11, 12, 13, 14, 15, 16, 17]"
      ]
     },
     "execution_count": 75,
     "metadata": {},
     "output_type": "execute_result"
    }
   ],
   "source": [
    "ite8 = (i for i in ite7)\n",
    "\n",
    "list(ite8)"
   ]
  },
  {
   "cell_type": "code",
   "execution_count": 48,
   "metadata": {},
   "outputs": [],
   "source": [
    "#why use generator functions?\n",
    "\n",
    "def kare_yapar(x):\n",
    "    liste5 = []\n",
    "    for i in range(x): liste5.append(i ** 2)\n",
    "    return liste5\n",
    "\n"
   ]
  },
  {
   "cell_type": "code",
   "execution_count": null,
   "metadata": {},
   "outputs": [
    {
     "name": "stdout",
     "output_type": "stream",
     "text": [
      "0-->1-->4-->9-->16-->25-->36-->"
     ]
    }
   ],
   "source": [
    "#for loop\n",
    "\n",
    "for x in kare_yapar(7): print(x, end=\"-->\")"
   ]
  },
  {
   "cell_type": "code",
   "execution_count": 52,
   "metadata": {},
   "outputs": [
    {
     "name": "stdout",
     "output_type": "stream",
     "text": [
      "0-->1-->4-->9-->16-->25-->36-->"
     ]
    }
   ],
   "source": [
    "#list comphrension\n",
    "\n",
    "for x in [i ** 2 for i in range(7)]:\n",
    "    print(x, end=\"-->\")"
   ]
  },
  {
   "cell_type": "code",
   "execution_count": 53,
   "metadata": {},
   "outputs": [
    {
     "name": "stdout",
     "output_type": "stream",
     "text": [
      "0-->1-->4-->9-->16-->25-->36-->"
     ]
    }
   ],
   "source": [
    "#map func using lambda\n",
    "\n",
    "for x in map((lambda x: x ** 2), range(7)):\n",
    "    print(x, end=\"-->\")"
   ]
  },
  {
   "cell_type": "code",
   "execution_count": 54,
   "metadata": {},
   "outputs": [],
   "source": [
    "#substring generator\n",
    "\n",
    "def upz(line):\n",
    "    for sub in line.split(\",\"):\n",
    "        yield sub.upper()"
   ]
  },
  {
   "cell_type": "code",
   "execution_count": 59,
   "metadata": {},
   "outputs": [
    {
     "data": {
      "text/plain": [
       "<generator object upz at 0x76a3f27eb920>"
      ]
     },
     "execution_count": 59,
     "metadata": {},
     "output_type": "execute_result"
    }
   ],
   "source": [
    "upz(\"aaa, bbb, ccc\") "
   ]
  },
  {
   "cell_type": "code",
   "execution_count": 57,
   "metadata": {},
   "outputs": [
    {
     "data": {
      "text/plain": [
       "('AAA', ' BBB', ' CCC')"
      ]
     },
     "execution_count": 57,
     "metadata": {},
     "output_type": "execute_result"
    }
   ],
   "source": [
    "tuple( upz(\"aaa, bbb, ccc\") )"
   ]
  },
  {
   "cell_type": "code",
   "execution_count": 58,
   "metadata": {},
   "outputs": [
    {
     "data": {
      "text/plain": [
       "['AAA', ' BBB', ' CCC']"
      ]
     },
     "execution_count": 58,
     "metadata": {},
     "output_type": "execute_result"
    }
   ],
   "source": [
    "list( upz(\"aaa, bbb, ccc\") )"
   ]
  },
  {
   "cell_type": "code",
   "execution_count": 62,
   "metadata": {},
   "outputs": [
    {
     "data": {
      "text/plain": [
       "{0: 'AAA', 1: ' BBB', 2: ' CCC'}"
      ]
     },
     "execution_count": 62,
     "metadata": {},
     "output_type": "execute_result"
    }
   ],
   "source": [
    "#enumerate\n",
    " \n",
    "{ k : v for (k, v) in enumerate(upz(\"aaa, bbb, ccc\") )}"
   ]
  },
  {
   "cell_type": "code",
   "execution_count": null,
   "metadata": {},
   "outputs": [],
   "source": [
    "#send method, implemented on built-in generator objects only\n",
    "def gen():\n",
    "    for i in range(7):\n",
    "        j = yield i\n",
    "        print(j)\n"
   ]
  },
  {
   "cell_type": "code",
   "execution_count": 77,
   "metadata": {},
   "outputs": [],
   "source": [
    "g = gen()"
   ]
  },
  {
   "cell_type": "code",
   "execution_count": 78,
   "metadata": {},
   "outputs": [
    {
     "data": {
      "text/plain": [
       "0"
      ]
     },
     "execution_count": 78,
     "metadata": {},
     "output_type": "execute_result"
    }
   ],
   "source": [
    "next(g)"
   ]
  },
  {
   "cell_type": "code",
   "execution_count": 79,
   "metadata": {},
   "outputs": [
    {
     "name": "stdout",
     "output_type": "stream",
     "text": [
      "hello\n"
     ]
    },
    {
     "data": {
      "text/plain": [
       "1"
      ]
     },
     "execution_count": 79,
     "metadata": {},
     "output_type": "execute_result"
    }
   ],
   "source": [
    "g.send(\"hello\")"
   ]
  },
  {
   "cell_type": "code",
   "execution_count": null,
   "metadata": {},
   "outputs": [
    {
     "name": "stdout",
     "output_type": "stream",
     "text": [
      "<function <lambda> at 0x76a3f26bbce0>\n"
     ]
    },
    {
     "data": {
      "text/plain": [
       "3"
      ]
     },
     "execution_count": 82,
     "metadata": {},
     "output_type": "execute_result"
    }
   ],
   "source": [
    "# iterationda 2'yi atla direk 3'e geç\n",
    "\n",
    "#redirect by passing a new position in data being processed inside the generator.\n",
    "\n",
    "g.send(lambda x: x[3] if x == x[2] else next(g))\n"
   ]
  },
  {
   "cell_type": "code",
   "execution_count": 83,
   "metadata": {},
   "outputs": [
    {
     "name": "stdout",
     "output_type": "stream",
     "text": [
      "3'den devam\n"
     ]
    },
    {
     "data": {
      "text/plain": [
       "4"
      ]
     },
     "execution_count": 83,
     "metadata": {},
     "output_type": "execute_result"
    }
   ],
   "source": [
    "g.send(\"3'den devam\")"
   ]
  },
  {
   "cell_type": "code",
   "execution_count": 88,
   "metadata": {},
   "outputs": [
    {
     "data": {
      "text/plain": [
       "<generator object <genexpr> at 0x76a3f26c5220>"
      ]
     },
     "execution_count": 88,
     "metadata": {},
     "output_type": "execute_result"
    }
   ],
   "source": [
    "#under generator expression for loops trigger next iterator automatically\n",
    "\n",
    "(x ** 2 for x in range(5))"
   ]
  },
  {
   "cell_type": "code",
   "execution_count": 94,
   "metadata": {},
   "outputs": [
    {
     "data": {
      "text/plain": [
       "0"
      ]
     },
     "execution_count": 94,
     "metadata": {},
     "output_type": "execute_result"
    }
   ],
   "source": [
    "next((x ** 2 for x in range(5)))"
   ]
  },
  {
   "cell_type": "code",
   "execution_count": 95,
   "metadata": {},
   "outputs": [
    {
     "data": {
      "text/plain": [
       "0"
      ]
     },
     "execution_count": 95,
     "metadata": {},
     "output_type": "execute_result"
    }
   ],
   "source": [
    "numb = (x ** 2 for x in range(5))\n",
    "next(numb)"
   ]
  },
  {
   "cell_type": "code",
   "execution_count": 96,
   "metadata": {},
   "outputs": [
    {
     "name": "stdout",
     "output_type": "stream",
     "text": [
      " 1 : also multiplied by 2, the result is 0.5\n",
      " 4 : also multiplied by 2, the result is 2.0\n",
      " 9 : also multiplied by 2, the result is 4.5\n",
      " 16 : also multiplied by 2, the result is 8.0\n"
     ]
    }
   ],
   "source": [
    "#for num in (x ** 2 for x in range(5)):\n",
    "for num in numb:    #continue iteration from 1\n",
    "    print(f\" {num} : also multiplied by 2, the result is {num/2}\".format(num, num/2))"
   ]
  },
  {
   "cell_type": "code",
   "execution_count": null,
   "metadata": {},
   "outputs": [
    {
     "data": {
      "text/plain": [
       "'NABER?'"
      ]
     },
     "execution_count": 97,
     "metadata": {},
     "output_type": "execute_result"
    }
   ],
   "source": [
    "#join runs thegenerator and joins the substrings it produces with nothing between—to simply concatenate:\n",
    "\n",
    "\"\".join(x.upper() for x in \"n,a,b,e,r,?\".split(\",\"))"
   ]
  },
  {
   "cell_type": "code",
   "execution_count": 98,
   "metadata": {},
   "outputs": [
    {
     "data": {
      "text/plain": [
       "('xxx\\n', 'zzz\\n')"
      ]
     },
     "execution_count": 98,
     "metadata": {},
     "output_type": "execute_result"
    }
   ],
   "source": [
    "x, y, z = (x + \"\\n\" for x in \"xxx,yyy,zzz\".split(\",\"))\n",
    "\n",
    "x, z"
   ]
  },
  {
   "cell_type": "code",
   "execution_count": 100,
   "metadata": {},
   "outputs": [
    {
     "data": {
      "text/plain": [
       "[16, 9, 4, 1, 0]"
      ]
     },
     "execution_count": 100,
     "metadata": {},
     "output_type": "execute_result"
    }
   ],
   "source": [
    "sorted((x ** 2 for x in range(5)), reverse=True)  #gen ex is the sole item, extra parentheses are not required"
   ]
  },
  {
   "cell_type": "code",
   "execution_count": 101,
   "metadata": {},
   "outputs": [
    {
     "data": {
      "text/plain": [
       "30"
      ]
     },
     "execution_count": 101,
     "metadata": {},
     "output_type": "execute_result"
    }
   ],
   "source": [
    "#parens not required\n",
    "\n",
    "sum(x ** 2 for x in range(5))"
   ]
  },
  {
   "cell_type": "code",
   "execution_count": 102,
   "metadata": {},
   "outputs": [
    {
     "data": {
      "text/plain": [
       "[1, 2, 3, 4, 5]"
      ]
     },
     "execution_count": 102,
     "metadata": {},
     "output_type": "execute_result"
    }
   ],
   "source": [
    "#comparison of generator and map func\n",
    "\n",
    "list(map(abs,(-1,-2,-3,-4,-5)))\n"
   ]
  },
  {
   "cell_type": "code",
   "execution_count": 105,
   "metadata": {},
   "outputs": [
    {
     "data": {
      "text/plain": [
       "[5, 4, 3, 2, 1]"
      ]
     },
     "execution_count": 105,
     "metadata": {},
     "output_type": "execute_result"
    }
   ],
   "source": [
    "list(abs(x)for x in range(-5, 0))"
   ]
  },
  {
   "cell_type": "code",
   "execution_count": 106,
   "metadata": {},
   "outputs": [
    {
     "data": {
      "text/plain": [
       "[1, 8, 27, 64, 125]"
      ]
     },
     "execution_count": 106,
     "metadata": {},
     "output_type": "execute_result"
    }
   ],
   "source": [
    "list(map(lambda x: x ** 3, (1,2,3,4,5)))"
   ]
  },
  {
   "cell_type": "code",
   "execution_count": 107,
   "metadata": {},
   "outputs": [
    {
     "data": {
      "text/plain": [
       "[1, 8, 27, 64, 125]"
      ]
     },
     "execution_count": 107,
     "metadata": {},
     "output_type": "execute_result"
    }
   ],
   "source": [
    "list(x **3 for x in (1,2,3,4,5))"
   ]
  },
  {
   "cell_type": "code",
   "execution_count": 108,
   "metadata": {},
   "outputs": [
    {
     "data": {
      "text/plain": [
       "<generator object <genexpr> at 0x76a3f26c72a0>"
      ]
     },
     "execution_count": 108,
     "metadata": {},
     "output_type": "execute_result"
    }
   ],
   "source": [
    "#nested generator\n",
    "\n",
    "(x ** 3 for x in (abs(x) for x in (-1,-2,-3,-4,-5)))"
   ]
  },
  {
   "cell_type": "code",
   "execution_count": 109,
   "metadata": {},
   "outputs": [
    {
     "data": {
      "text/plain": [
       "[1, 8, 27, 64, 125]"
      ]
     },
     "execution_count": 109,
     "metadata": {},
     "output_type": "execute_result"
    }
   ],
   "source": [
    "list(x ** 3 for x in (abs(x) for x in (-1,-2,-3,-4,-5)))"
   ]
  },
  {
   "cell_type": "code",
   "execution_count": null,
   "metadata": {},
   "outputs": [
    {
     "data": {
      "text/plain": [
       "[2.449489742783178, 2.6457513110645907, 2.8284271247461903, 3.0]"
      ]
     },
     "execution_count": 119,
     "metadata": {},
     "output_type": "execute_result"
    }
   ],
   "source": [
    "#nest generator  and combine with map\n",
    "import random, math\n",
    "\n",
    "liste6 = [[1, 2, 3, 4, 5], [-5,-4,-3,-2,-1]]\n",
    "liste7 = [range(5), range(6,10)]      #when used provides three levels of value generation\n",
    "\n",
    "list(map(math.sqrt, (x for x in random.choice(liste7))))"
   ]
  },
  {
   "cell_type": "code",
   "execution_count": 54,
   "metadata": {},
   "outputs": [
    {
     "data": {
      "text/plain": [
       "'XXX-YYYY'"
      ]
     },
     "execution_count": 54,
     "metadata": {},
     "output_type": "execute_result"
    }
   ],
   "source": [
    "#map-filter-gen kombinasyonu\n",
    "\n",
    "dizi = \"xxx yyyy z\"\n",
    "\n",
    "\"-\".join(map(str.upper, filter(lambda x: len(x) > 1, dizi.split())))"
   ]
  },
  {
   "cell_type": "markdown",
   "metadata": {},
   "source": [
    "step-by-step:\n",
    "\n",
    "dizi.split() splits the string into a list of words: [\"xxx\", \"yyyy\", \"z\"].\n",
    "\n",
    "filter(lambda x: len(x) > 1, dizi.split()) filters out words with only one character, leaving [\"xxx\", \"yyyy\"].\n",
    "\n",
    "map(str.upper, ...) then applies str.upper to each of the remaining words, converting them to uppercase: [\"XXX\", \"YYYY\"].\n",
    "\n",
    "Finally, \"\".join(...) joins these uppercase words into a single string: \"XXXYYYY\""
   ]
  },
  {
   "cell_type": "code",
   "execution_count": 52,
   "metadata": {},
   "outputs": [
    {
     "data": {
      "text/plain": [
       "'XXX-YYYY'"
      ]
     },
     "execution_count": 52,
     "metadata": {},
     "output_type": "execute_result"
    }
   ],
   "source": [
    "#gen only version is a lot simpler\n",
    "\n",
    "\"-\".join(x.upper() for x in dizi.split() if len(x) > 1)"
   ]
  },
  {
   "cell_type": "markdown",
   "metadata": {},
   "source": [
    "UYGULAMA : BELLEK YÖNETİMİ"
   ]
  },
  {
   "cell_type": "code",
   "execution_count": 6,
   "metadata": {},
   "outputs": [],
   "source": [
    "#sonsuza kadar sayı getiren genatör fonksiyon, 100'de keseceğiz\n",
    "\n",
    "def num_maker():\n",
    "\n",
    "    num = 0\n",
    "\n",
    "    while True:\n",
    "        yield num\n",
    "        num += 1"
   ]
  },
  {
   "cell_type": "code",
   "execution_count": 7,
   "metadata": {},
   "outputs": [],
   "source": [
    "gen = num_maker()"
   ]
  },
  {
   "cell_type": "code",
   "execution_count": 8,
   "metadata": {},
   "outputs": [
    {
     "data": {
      "text/plain": [
       "0"
      ]
     },
     "execution_count": 8,
     "metadata": {},
     "output_type": "execute_result"
    }
   ],
   "source": [
    "next(gen)"
   ]
  },
  {
   "cell_type": "code",
   "execution_count": 9,
   "metadata": {},
   "outputs": [
    {
     "data": {
      "text/plain": [
       "1"
      ]
     },
     "execution_count": 9,
     "metadata": {},
     "output_type": "execute_result"
    }
   ],
   "source": [
    "next(gen)"
   ]
  },
  {
   "cell_type": "code",
   "execution_count": 10,
   "metadata": {},
   "outputs": [
    {
     "name": "stdout",
     "output_type": "stream",
     "text": [
      "2\n",
      "3\n",
      "4\n",
      "5\n",
      "6\n",
      "7\n",
      "8\n",
      "9\n",
      "10\n",
      "11\n",
      "12\n",
      "13\n",
      "14\n",
      "15\n",
      "16\n",
      "17\n",
      "18\n",
      "19\n",
      "20\n",
      "21\n",
      "22\n",
      "23\n",
      "24\n",
      "25\n",
      "26\n",
      "27\n",
      "28\n",
      "29\n",
      "30\n",
      "31\n",
      "32\n",
      "33\n",
      "34\n",
      "35\n",
      "36\n",
      "37\n",
      "38\n",
      "39\n",
      "40\n",
      "41\n",
      "42\n",
      "43\n",
      "44\n",
      "45\n",
      "46\n",
      "47\n",
      "48\n",
      "49\n",
      "50\n",
      "51\n",
      "52\n",
      "53\n",
      "54\n",
      "55\n",
      "56\n",
      "57\n",
      "58\n",
      "59\n",
      "60\n",
      "61\n",
      "62\n",
      "63\n",
      "64\n",
      "65\n",
      "66\n",
      "67\n",
      "68\n",
      "69\n",
      "70\n",
      "71\n",
      "72\n",
      "73\n",
      "74\n",
      "75\n",
      "76\n",
      "77\n",
      "78\n",
      "79\n",
      "80\n",
      "81\n",
      "82\n",
      "83\n",
      "84\n",
      "85\n",
      "86\n",
      "87\n",
      "88\n",
      "89\n",
      "90\n",
      "91\n",
      "92\n",
      "93\n",
      "94\n",
      "95\n",
      "96\n",
      "97\n",
      "98\n",
      "99\n",
      "100\n"
     ]
    }
   ],
   "source": [
    "for i in gen:\n",
    "    print(i)\n",
    "    if i == 100:\n",
    "        break\n"
   ]
  },
  {
   "cell_type": "code",
   "execution_count": null,
   "metadata": {},
   "outputs": [],
   "source": [
    "#fibonacci serisini hem fonk hem gen ile oluşturalım\n",
    "\n",
    "#first fibo func\n",
    "\n",
    "def fibo_list(max):\n",
    "\n",
    "    fibo_nums = []\n",
    "\n",
    "    a, b = 0 ,1 \n",
    "\n",
    "    while len(fibo_nums) < max:\n",
    "\n",
    "        fibo_nums.append(b)\n",
    "\n",
    "\n",
    "        a, b = b, a + b\n",
    "\n",
    "\n",
    "    return fibo_nums\n"
   ]
  },
  {
   "cell_type": "code",
   "execution_count": 25,
   "metadata": {},
   "outputs": [
    {
     "data": {
      "text/plain": [
       "[1,\n",
       " 1,\n",
       " 2,\n",
       " 3,\n",
       " 5,\n",
       " 8,\n",
       " 13,\n",
       " 21,\n",
       " 34,\n",
       " 55,\n",
       " 89,\n",
       " 144,\n",
       " 233,\n",
       " 377,\n",
       " 610,\n",
       " 987,\n",
       " 1597,\n",
       " 2584,\n",
       " 4181,\n",
       " 6765,\n",
       " 10946,\n",
       " 17711,\n",
       " 28657,\n",
       " 46368,\n",
       " 75025,\n",
       " 121393,\n",
       " 196418,\n",
       " 317811,\n",
       " 514229,\n",
       " 832040,\n",
       " 1346269,\n",
       " 2178309,\n",
       " 3524578,\n",
       " 5702887,\n",
       " 9227465,\n",
       " 14930352,\n",
       " 24157817,\n",
       " 39088169,\n",
       " 63245986,\n",
       " 102334155,\n",
       " 165580141,\n",
       " 267914296,\n",
       " 433494437,\n",
       " 701408733,\n",
       " 1134903170,\n",
       " 1836311903,\n",
       " 2971215073,\n",
       " 4807526976,\n",
       " 7778742049,\n",
       " 12586269025]"
      ]
     },
     "execution_count": 25,
     "metadata": {},
     "output_type": "execute_result"
    }
   ],
   "source": [
    "fibo_list(50)"
   ]
  },
  {
   "cell_type": "code",
   "execution_count": 35,
   "metadata": {},
   "outputs": [],
   "source": [
    "#fibo gen\n",
    "\n",
    "def fibo_gen(max):\n",
    "\n",
    "    \n",
    "\n",
    "    a, b = 0 ,1 \n",
    "    sayac = 0\n",
    "\n",
    "    while sayac < max:      \n",
    "\n",
    "\n",
    "        a, b = b, a + b\n",
    "        yield b\n",
    "        sayac += 1\n",
    "\n"
   ]
  },
  {
   "cell_type": "code",
   "execution_count": 33,
   "metadata": {},
   "outputs": [
    {
     "data": {
      "text/plain": [
       "[1,\n",
       " 2,\n",
       " 3,\n",
       " 5,\n",
       " 8,\n",
       " 13,\n",
       " 21,\n",
       " 34,\n",
       " 55,\n",
       " 89,\n",
       " 144,\n",
       " 233,\n",
       " 377,\n",
       " 610,\n",
       " 987,\n",
       " 1597,\n",
       " 2584,\n",
       " 4181,\n",
       " 6765,\n",
       " 10946,\n",
       " 17711,\n",
       " 28657,\n",
       " 46368,\n",
       " 75025,\n",
       " 121393,\n",
       " 196418,\n",
       " 317811,\n",
       " 514229,\n",
       " 832040,\n",
       " 1346269,\n",
       " 2178309,\n",
       " 3524578,\n",
       " 5702887,\n",
       " 9227465,\n",
       " 14930352,\n",
       " 24157817,\n",
       " 39088169,\n",
       " 63245986,\n",
       " 102334155,\n",
       " 165580141,\n",
       " 267914296,\n",
       " 433494437,\n",
       " 701408733,\n",
       " 1134903170,\n",
       " 1836311903,\n",
       " 2971215073,\n",
       " 4807526976,\n",
       " 7778742049,\n",
       " 12586269025,\n",
       " 20365011074]"
      ]
     },
     "execution_count": 33,
     "metadata": {},
     "output_type": "execute_result"
    }
   ],
   "source": [
    "list(fibo_gen(50))\n"
   ]
  },
  {
   "cell_type": "code",
   "execution_count": 37,
   "metadata": {},
   "outputs": [
    {
     "name": "stdout",
     "output_type": "stream",
     "text": [
      "1:2:3:5:8:13:21:34:55:89:144:233:377:610:987:1597:2584:4181:6765:10946:17711:28657:46368:75025:121393:196418:317811:514229:832040:1346269:2178309:3524578:5702887:9227465:14930352:24157817:39088169:63245986:102334155:165580141:267914296:433494437:701408733:1134903170:1836311903:2971215073:4807526976:7778742049:12586269025:20365011074:"
     ]
    }
   ],
   "source": [
    "for i in fibo_gen(50):\n",
    "\n",
    "    print(i, end=\":\")"
   ]
  },
  {
   "cell_type": "code",
   "execution_count": null,
   "metadata": {},
   "outputs": [
    {
     "name": "stdout",
     "output_type": "stream",
     "text": [
      "85176\n"
     ]
    }
   ],
   "source": [
    "#bellek üzerinde func ve gen'in kapladığı alana bakalım ve karşılaştıralım, sys.getsizeof()\n",
    "import sys\n",
    "\n",
    "liste9 = [ n for n in range(9999)]\n",
    "print(sys.getsizeof(liste9))"
   ]
  },
  {
   "cell_type": "code",
   "execution_count": 39,
   "metadata": {},
   "outputs": [
    {
     "name": "stdout",
     "output_type": "stream",
     "text": [
      "192\n"
     ]
    }
   ],
   "source": [
    "gen9 = ( n for n in range(9999))\n",
    "print(sys.getsizeof(gen9))"
   ]
  },
  {
   "cell_type": "code",
   "execution_count": 46,
   "metadata": {},
   "outputs": [
    {
     "data": {
      "text/plain": [
       "0.03546929359436035"
      ]
     },
     "execution_count": 46,
     "metadata": {},
     "output_type": "execute_result"
    }
   ],
   "source": [
    "#zaman açısından\n",
    "\n",
    "import time \n",
    "\n",
    "start = time.time()\n",
    "\n",
    "sum([ n for n in range(999999)])\n",
    "\n",
    "stop = time.time() - start\n",
    "\n",
    "stop\n"
   ]
  },
  {
   "cell_type": "code",
   "execution_count": 47,
   "metadata": {},
   "outputs": [
    {
     "data": {
      "text/plain": [
       "0.021268844604492188"
      ]
     },
     "execution_count": 47,
     "metadata": {},
     "output_type": "execute_result"
    }
   ],
   "source": [
    "start = time.time()\n",
    "\n",
    "sum(n for n in range(999999))\n",
    "\n",
    "stop = time.time() - start\n",
    "\n",
    "stop"
   ]
  },
  {
   "cell_type": "markdown",
   "metadata": {},
   "source": [
    "GEN İN BUILT-IN TYPES, CLASSES AND TOOLS"
   ]
  },
  {
   "cell_type": "code",
   "execution_count": null,
   "metadata": {},
   "outputs": [],
   "source": [
    "# dictionary keys may be iterated over both manually and with automatic iteration tools including for loops, map calls, list comprehensions\n",
    "\n",
    "\n",
    "d = {\"a\": 1, \"b\": 2, \"c\": 3}"
   ]
  },
  {
   "cell_type": "code",
   "execution_count": 56,
   "metadata": {},
   "outputs": [],
   "source": [
    "ite9 = iter(d)"
   ]
  },
  {
   "cell_type": "code",
   "execution_count": 57,
   "metadata": {},
   "outputs": [
    {
     "data": {
      "text/plain": [
       "'a'"
      ]
     },
     "execution_count": 57,
     "metadata": {},
     "output_type": "execute_result"
    }
   ],
   "source": [
    "next(ite9)"
   ]
  },
  {
   "cell_type": "code",
   "execution_count": 58,
   "metadata": {},
   "outputs": [
    {
     "data": {
      "text/plain": [
       "'b'"
      ]
     },
     "execution_count": 58,
     "metadata": {},
     "output_type": "execute_result"
    }
   ],
   "source": [
    "next(ite9)"
   ]
  },
  {
   "cell_type": "code",
   "execution_count": 59,
   "metadata": {},
   "outputs": [
    {
     "name": "stdout",
     "output_type": "stream",
     "text": [
      "a 1\n",
      "b 2\n",
      "c 3\n"
     ]
    }
   ],
   "source": [
    "for k in d:\n",
    "    print(k, d[k])"
   ]
  },
  {
   "cell_type": "code",
   "execution_count": null,
   "metadata": {},
   "outputs": [],
   "source": []
  },
  {
   "cell_type": "code",
   "execution_count": null,
   "metadata": {},
   "outputs": [
    {
     "name": "stdout",
     "output_type": "stream",
     "text": [
      ". ad-listcomprehension.ipynb\n",
      ". ad-objectoriented.ipynb\n",
      ". ad-lambda.ipynb\n",
      ". ad-generators.ipynb\n",
      ". ad-oop.ipynb\n"
     ]
    }
   ],
   "source": [
    "#the standard directory walker—which at each level of a tree yields a tuple of the current directory, its subdirectories, and its files:\n",
    "\n",
    "\n",
    "import os\n",
    "\n",
    "for(root, subs, files) in os.walk(\".\"):\n",
    "    for name in files:\n",
    "        if name.startswith(\"ad\"):\n",
    "            print(root,name)"
   ]
  },
  {
   "cell_type": "code",
   "execution_count": 63,
   "metadata": {},
   "outputs": [
    {
     "name": "stdout",
     "output_type": "stream",
     "text": [
      "('.', ['__pycache__'], ['script2.py', 'functions.ipynb', 'countwordsinfile.py', 'main.py', 'üçlü.py', 'deneme.db', 'deneme.ipynb', 'files.ipynb', 'donguler.ipynb', 'classtools.py', 'logicoperators.ipynb', 'veritabani.ipynb', 'person-oop.py', 'sonuclar.txt', 'modules.ipynb', 'kosullu.py', 'script1.py', 'gettingstarted2.ipynb', 'ad-listcomprehension.ipynb', 'sinav_notlari.txt', 'composite-oop.ipynb', 'file-update.txt', 'ad-objectoriented.ipynb', 'listcomprehension.ipynb', 'standard-module.py', 'module3.py', 'helloworld.py', 'sys', 'person-dept.ipynb', 'bankamatik.ipynb', 'module.py', 'ad-lambda.ipynb', 'ad-generators.ipynb', 'ad-oop.ipynb', 'kosullu.ipynb', 'chinook.db', 'deneme.txt', 'module1.py', 'iterable.ipynb', 'module2.py', 'myfile.py', 'classtools.ipynb', 'oop.ipynb', 'saveit.txt', 'w-deneme.txt', 'gettingstarted.ipynb', 'errors.ipynb'])\n",
      "('./__pycache__', [], ['module.cpython-312.pyc', 'üçlü.cpython-312.pyc', 'myfile.cpython-312.pyc', 'module2.cpython-312.pyc', 'module1.cpython-312.pyc', 'classtools.cpython-312.pyc'])\n"
     ]
    }
   ],
   "source": [
    "#os.walk is coded as a recursive func and uses yield to return results, iterable object and a normal gen func\n",
    "\n",
    "\n",
    "gen = os.walk(\".\")\n",
    "\n",
    "for file in gen:\n",
    "    print(file)"
   ]
  },
  {
   "cell_type": "code",
   "execution_count": null,
   "metadata": {},
   "outputs": [],
   "source": []
  },
  {
   "cell_type": "code",
   "execution_count": 64,
   "metadata": {},
   "outputs": [],
   "source": [
    "#starred arguments can unpack an iterable into individual arguments\n",
    "\n",
    "def unpack(x, y, z):\n",
    "    print(\" {}, {} and {}\".format(x, y, z))"
   ]
  },
  {
   "cell_type": "code",
   "execution_count": 65,
   "metadata": {},
   "outputs": [
    {
     "name": "stdout",
     "output_type": "stream",
     "text": [
      " 1, 2 and 3\n"
     ]
    }
   ],
   "source": [
    "unpack(1,2,3)"
   ]
  },
  {
   "cell_type": "code",
   "execution_count": null,
   "metadata": {},
   "outputs": [
    {
     "name": "stdout",
     "output_type": "stream",
     "text": [
      " 1, 2 and 3\n"
     ]
    }
   ],
   "source": [
    "unpack(*range(1,4))  #unpack range values"
   ]
  },
  {
   "cell_type": "code",
   "execution_count": 68,
   "metadata": {},
   "outputs": [
    {
     "name": "stdout",
     "output_type": "stream",
     "text": [
      " 1, 2 and 3\n"
     ]
    }
   ],
   "source": [
    "# Unpack generator expression values\n",
    "\n",
    "unpack(*(n for n in range(1,4)))"
   ]
  },
  {
   "cell_type": "code",
   "execution_count": 73,
   "metadata": {},
   "outputs": [
    {
     "name": "stdout",
     "output_type": "stream",
     "text": [
      " Toygar, newbie and 50\n"
     ]
    }
   ],
   "source": [
    "#assign keywords to params\n",
    "unpack(x=\"Toygar\", y=\"newbie\", z = 50)"
   ]
  },
  {
   "cell_type": "code",
   "execution_count": 75,
   "metadata": {},
   "outputs": [],
   "source": [
    "d = {\"x\": 1, \"y\": 2, \"z\": 3}"
   ]
  },
  {
   "cell_type": "code",
   "execution_count": 77,
   "metadata": {},
   "outputs": [
    {
     "name": "stdout",
     "output_type": "stream",
     "text": [
      " 1, 2 and 3\n"
     ]
    }
   ],
   "source": [
    "unpack(**d)          # Unpack dict: key=value"
   ]
  },
  {
   "cell_type": "code",
   "execution_count": null,
   "metadata": {},
   "outputs": [
    {
     "name": "stdout",
     "output_type": "stream",
     "text": [
      " x, y and z\n"
     ]
    }
   ],
   "source": [
    "unpack(*d)      # Unpack keys iterator"
   ]
  },
  {
   "cell_type": "code",
   "execution_count": null,
   "metadata": {},
   "outputs": [
    {
     "name": "stdout",
     "output_type": "stream",
     "text": [
      " 1, 2 and 3\n"
     ]
    }
   ],
   "source": [
    "unpack(*d.values())     #Unpack view iterator"
   ]
  },
  {
   "cell_type": "code",
   "execution_count": null,
   "metadata": {},
   "outputs": [],
   "source": [
    "#MixItUp - Gen expressions-functions\n",
    "\n",
    "\n",
    "def mix_it_up(seq):\n",
    "\n",
    "    mlist = []\n",
    "\n",
    "    for i in range(len(seq)):\n",
    "        mlist.append(seq[i:] + seq[:i])\n",
    "\n",
    "    yield mlist\n"
   ]
  },
  {
   "cell_type": "code",
   "execution_count": 86,
   "metadata": {},
   "outputs": [
    {
     "data": {
      "text/plain": [
       "[['TÜRK', 'ÜRKT', 'RKTÜ', 'KTÜR']]"
      ]
     },
     "execution_count": 86,
     "metadata": {},
     "output_type": "execute_result"
    }
   ],
   "source": [
    "list( mix_it_up(\"TÜRK\") )"
   ]
  },
  {
   "cell_type": "code",
   "execution_count": 95,
   "metadata": {},
   "outputs": [],
   "source": [
    "def mix_it_up2(seq):\n",
    "    yield [ seq[i:] + seq[:i] for i in range(len(seq))]"
   ]
  },
  {
   "cell_type": "code",
   "execution_count": null,
   "metadata": {},
   "outputs": [
    {
     "name": "stdout",
     "output_type": "stream",
     "text": [
      "[(1, 2, 3), (2, 3, 1), (3, 1, 2)]\n"
     ]
    }
   ],
   "source": [
    "for n in mix_it_up2((1,2,3)):\n",
    "    print(n)"
   ]
  },
  {
   "cell_type": "code",
   "execution_count": null,
   "metadata": {},
   "outputs": [],
   "source": [
    "#generator expression—comprehension\n",
    "\n",
    "gen1 = lambda seq: (seq[i:] + seq[:i] for i in range(len(seq)))"
   ]
  },
  {
   "cell_type": "code",
   "execution_count": 99,
   "metadata": {},
   "outputs": [
    {
     "data": {
      "text/plain": [
       "[[5, 6, 7, 8, 9],\n",
       " [6, 7, 8, 9, 5],\n",
       " [7, 8, 9, 5, 6],\n",
       " [8, 9, 5, 6, 7],\n",
       " [9, 5, 6, 7, 8]]"
      ]
     },
     "execution_count": 99,
     "metadata": {},
     "output_type": "execute_result"
    }
   ],
   "source": [
    "liste10 = [ 5, 6, 7, 8, 9]\n",
    "\n",
    "list(gen1(liste10))"
   ]
  },
  {
   "cell_type": "code",
   "execution_count": 100,
   "metadata": {},
   "outputs": [
    {
     "name": "stdout",
     "output_type": "stream",
     "text": [
      "(1, 2, 3)\n",
      "(2, 3, 1)\n",
      "(3, 1, 2)\n"
     ]
    }
   ],
   "source": [
    "for n in gen1((1,2,3)):\n",
    "    print(n)"
   ]
  },
  {
   "cell_type": "code",
   "execution_count": null,
   "metadata": {},
   "outputs": [],
   "source": [
    "#Perfect NUmbers - define a generator of perfect numbers using the yield statement\n",
    "\n",
    "# perfect number is a positive integer that is equal to the sum of its proper divisors (excluding itself\n",
    "\n",
    "def perfect(num):\n",
    "    faktor = [1]\n",
    "\n",
    "    for n in range(2, (num // 2) + 1):      #collect all factors\n",
    "        if num % n == 0:\n",
    "            faktor.append(n)\n",
    "\n",
    "    if num == sum(faktor):          #check the sum after collecting all factors, loop thru possible divisors\n",
    "        return [True, faktor]       #where True indicates that num is a perfect number, and faktor contains the divisors\n",
    "    else:\n",
    "        return [False, []]\n",
    "\n",
    "def perfect_gen(n=50):\n",
    "    for i in range(1, n + 1):       #test positive numbers up to n, oop to go through each integer i from 1 to n (inclusive)\n",
    "        test = perfect(i)\n",
    "        if test[0]:                 #test[0] will be True if i is a perfect number\n",
    "            yield [i, test[1]]      #test[1] contains the list of divisors if i is a perfect number\n"
   ]
  },
  {
   "cell_type": "code",
   "execution_count": 159,
   "metadata": {},
   "outputs": [
    {
     "name": "stdout",
     "output_type": "stream",
     "text": [
      "<generator object perfect_gen at 0x7de76309a500>\n"
     ]
    }
   ],
   "source": [
    "perfectler = perfect_gen(1000)\n",
    "print(perfectler)"
   ]
  },
  {
   "cell_type": "code",
   "execution_count": 160,
   "metadata": {},
   "outputs": [
    {
     "data": {
      "text/plain": [
       "[1, [1]]"
      ]
     },
     "execution_count": 160,
     "metadata": {},
     "output_type": "execute_result"
    }
   ],
   "source": [
    "next(perfectler)"
   ]
  },
  {
   "cell_type": "code",
   "execution_count": 161,
   "metadata": {},
   "outputs": [
    {
     "name": "stdout",
     "output_type": "stream",
     "text": [
      "[6, [1, 2, 3]]\n",
      "[28, [1, 2, 4, 7, 14]]\n",
      "[496, [1, 2, 4, 8, 16, 31, 62, 124, 248]]\n"
     ]
    }
   ],
   "source": [
    "for p in perfectler:\n",
    "    print(p)"
   ]
  },
  {
   "cell_type": "code",
   "execution_count": 168,
   "metadata": {},
   "outputs": [],
   "source": [
    "#generator for collecting all the divisors for a given a num\n",
    "\n",
    "def divisors(num):\n",
    "    faktor = [1]\n",
    "\n",
    "    for n in range(2, (num // 2) + 1):      #collect all factors\n",
    "        if num % n == 0:\n",
    "            faktor.append(n)\n",
    "\n",
    "    yield faktor"
   ]
  },
  {
   "cell_type": "code",
   "execution_count": 169,
   "metadata": {},
   "outputs": [
    {
     "name": "stdout",
     "output_type": "stream",
     "text": [
      "[1, 2, 4, 5, 10, 20, 25, 50]\n"
     ]
    }
   ],
   "source": [
    "for i in divisors(100):\n",
    "    print(i)"
   ]
  },
  {
   "cell_type": "code",
   "execution_count": null,
   "metadata": {},
   "outputs": [],
   "source": []
  },
  {
   "cell_type": "code",
   "execution_count": null,
   "metadata": {},
   "outputs": [],
   "source": []
  }
 ],
 "metadata": {
  "kernelspec": {
   "display_name": "base",
   "language": "python",
   "name": "python3"
  },
  "language_info": {
   "codemirror_mode": {
    "name": "ipython",
    "version": 3
   },
   "file_extension": ".py",
   "mimetype": "text/x-python",
   "name": "python",
   "nbconvert_exporter": "python",
   "pygments_lexer": "ipython3",
   "version": "3.12.7"
  }
 },
 "nbformat": 4,
 "nbformat_minor": 2
}
