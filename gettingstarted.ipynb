{
 "cells": [
  {
   "cell_type": "code",
   "execution_count": 2,
   "metadata": {},
   "outputs": [
    {
     "data": {
      "text/plain": [
       "'/media/data/CS/python/PythonBasics'"
      ]
     },
     "execution_count": 2,
     "metadata": {},
     "output_type": "execute_result"
    }
   ],
   "source": [
    "#get present current working directory\n",
    "import os\n",
    "os.getcwd()"
   ]
  },
  {
   "cell_type": "code",
   "execution_count": 3,
   "metadata": {},
   "outputs": [
    {
     "name": "stdout",
     "output_type": "stream",
     "text": [
      "t\n",
      "o\n",
      "y\n",
      "g\n",
      "a\n",
      "r\n"
     ]
    }
   ],
   "source": [
    "#compound statement\n",
    "for x in \"toygar\":\n",
    "    print(x)"
   ]
  },
  {
   "cell_type": "code",
   "execution_count": 2,
   "metadata": {},
   "outputs": [
    {
     "name": "stdout",
     "output_type": "stream",
     "text": [
      "linux\n",
      "['/media/data/CS/python/PythonBasics', '/home/toygar/anaconda3/lib/python312.zip', '/home/toygar/anaconda3/lib/python3.12', '/home/toygar/anaconda3/lib/python3.12/lib-dynload', '', '/home/toygar/anaconda3/lib/python3.12/site-packages']\n"
     ]
    }
   ],
   "source": [
    "import sys, os\n",
    "print(sys.platform)\n",
    "print(sys.path)"
   ]
  },
  {
   "cell_type": "code",
   "execution_count": 1,
   "metadata": {},
   "outputs": [
    {
     "name": "stdout",
     "output_type": "stream",
     "text": [
      "linux\n",
      "1267650600228229401496703205376\n",
      "ReRoRöReRoRöReRoRöReRoRöReRoRöReRoRöReRoRö\n"
     ]
    }
   ],
   "source": [
    "#using exec to run module files\n",
    "\n",
    "exec(open(\"script1.py\").read())"
   ]
  },
  {
   "cell_type": "markdown",
   "metadata": {},
   "source": [
    "KARAKTER DİZİSİ/STRINGS\n",
    "Her karakter ayrı ayrı indekslenir\n"
   ]
  },
  {
   "cell_type": "code",
   "execution_count": 1,
   "metadata": {},
   "outputs": [],
   "source": [
    "monitor = \"Samsung\""
   ]
  },
  {
   "cell_type": "code",
   "execution_count": 3,
   "metadata": {},
   "outputs": [],
   "source": [
    "ders = \"Python Programlama\"\n",
    "dersAciklama = \"Başlangıç Seviyesi\"\n",
    "derssuresi = \"40 saat\""
   ]
  },
  {
   "cell_type": "code",
   "execution_count": 4,
   "metadata": {},
   "outputs": [
    {
     "name": "stdout",
     "output_type": "stream",
     "text": [
      "Ders Adı: Python Programlama Ders Açıklaması: Başlangıç Seviyesi Ders Süresi: 40 saat\n"
     ]
    }
   ],
   "source": [
    "message = \"Ders Adı: \" + ders + \" \" + \"Ders Açıklaması: \" + dersAciklama + \" \" + \"Ders Süresi: \" + derssuresi\n",
    "\n",
    "print(message)"
   ]
  },
  {
   "cell_type": "code",
   "execution_count": 5,
   "metadata": {},
   "outputs": [
    {
     "name": "stdout",
     "output_type": "stream",
     "text": [
      "t\n"
     ]
    }
   ],
   "source": [
    "print(message[-1])"
   ]
  },
  {
   "cell_type": "code",
   "execution_count": 6,
   "metadata": {},
   "outputs": [
    {
     "name": "stdout",
     "output_type": "stream",
     "text": [
      "85\n"
     ]
    }
   ],
   "source": [
    "print(len(message))"
   ]
  },
  {
   "cell_type": "code",
   "execution_count": 32,
   "metadata": {},
   "outputs": [
    {
     "name": "stdout",
     "output_type": "stream",
     "text": [
      "Ders Adı: Python Programlama\n",
      "28\n",
      "a\n",
      "Ders Adı: Python\n",
      "Ders Adı: Python\n",
      "Programlama\n",
      "Ders Açıklaması: Başlangıç Seviyesi Ders Süresi: 40 saat\n",
      "Programlama\n",
      "Programlama\n",
      "Dr d:Pto rgalm\n",
      "amalmargorP nohtyP :ıdA sreD\n"
     ]
    }
   ],
   "source": [
    "#string slicing\n",
    "\n",
    "\n",
    "print(message[0:28])\n",
    "\n",
    "ders1 = message[0:28]\n",
    "\n",
    "uzunluk = len(ders1)\n",
    "\n",
    "print(uzunluk)\n",
    "\n",
    "print(ders1[uzunluk-1])\n",
    "\n",
    "print(ders1[0:16])\n",
    "print(ders1[:16])\n",
    "print(message[17:28])\n",
    "print(message [uzunluk + 1 :]) \n",
    "\n",
    "print(ders1[17:])\n",
    "\n",
    "print(ders[-11:])\n",
    "\n",
    "print(ders1[0:28:2])\n",
    "\n",
    "print(ders1[::-1])\n"
   ]
  },
  {
   "cell_type": "code",
   "execution_count": 35,
   "metadata": {},
   "outputs": [],
   "source": [
    "#string formatlama\n",
    "name =  \"Toygar\"\n",
    "lastname = \"Par\"\n",
    "age = 50\n"
   ]
  },
  {
   "cell_type": "code",
   "execution_count": 38,
   "metadata": {},
   "outputs": [
    {
     "name": "stdout",
     "output_type": "stream",
     "text": [
      "My name is Toygar Par and I am 50 years old\n"
     ]
    }
   ],
   "source": [
    "print(\"My name is\", name, lastname, \"and I am\", age, \"years old\")"
   ]
  },
  {
   "cell_type": "code",
   "execution_count": 42,
   "metadata": {},
   "outputs": [
    {
     "name": "stdout",
     "output_type": "stream",
     "text": [
      "My name is Toygar Par, and I am 50 years old\n",
      "My name is Par, Toygar Par, 50 year old male\n",
      "My name is Par, Toygar Par, 50 year old male\n"
     ]
    }
   ],
   "source": [
    "form1 = \"My name is {} {}, and I am {} years old\".format(name, lastname, age)\n",
    "print(form1)\n",
    "form2 = \"My name is {1}, {0} {1}, {2} year old male\".format(name, lastname, age)\n",
    "print(form2)\n",
    "form3 = \"My name is {b}, {a} {b}, {c} year old male\".format(a=name, b=lastname, c=age)\n",
    "print(form3)"
   ]
  },
  {
   "cell_type": "code",
   "execution_count": 44,
   "metadata": {},
   "outputs": [
    {
     "name": "stdout",
     "output_type": "stream",
     "text": [
      "My name is Toygar Par, and I am 50 years old\n"
     ]
    }
   ],
   "source": [
    "#f-string\n",
    "print(f\"My name is {name} {lastname}, and I am {age} years old\")"
   ]
  },
  {
   "cell_type": "code",
   "execution_count": 49,
   "metadata": {},
   "outputs": [
    {
     "name": "stdout",
     "output_type": "stream",
     "text": [
      "42\n",
      "Python\n",
      "Pythorsler\n",
      "irelsreD amalmargorP ılamalugyU eli nohtyP\n"
     ]
    }
   ],
   "source": [
    "#string uyguılama\n",
    "\n",
    "baslik = \"Python ile Uygulamalı Programlama Dersleri\"\n",
    "\n",
    "print(len(baslik))\n",
    "\n",
    "print(baslik[0:6])\n",
    "\n",
    "ilkson5 = baslik[0:5] + baslik[-6:-1]\n",
    "print(ilkson5)\n",
    "\n",
    "print(baslik[::-1])"
   ]
  },
  {
   "cell_type": "code",
   "execution_count": 51,
   "metadata": {},
   "outputs": [
    {
     "name": "stdout",
     "output_type": "stream",
     "text": [
      " Örnek : toygar par isimli öğrencinin 1.notu 50, 2. notu 60 ve not ortalaması 55.0 olarak hesaplanmıştır\n"
     ]
    }
   ],
   "source": [
    "gir = input(\"İsim, soyad ve iki ayro notu aralıkla giriniz: \")\n",
    "ad, soyad, not1, not2 = gir.split(\" \")\n",
    "notort = (int(not1) + int(not2))/2\n",
    "\n",
    "print(f\" Örnek : {ad} {soyad} isimli öğrencinin 1.notu {not1}, 2. notu {not2} ve not ortalaması {notort} olarak hesaplanmıştır\")"
   ]
  },
  {
   "cell_type": "markdown",
   "metadata": {},
   "source": [
    "Python STRING Methods"
   ]
  },
  {
   "cell_type": "code",
   "execution_count": 1,
   "metadata": {},
   "outputs": [],
   "source": [
    "mesaj = \"Toygar Py Python Self-Reference Library\""
   ]
  },
  {
   "cell_type": "code",
   "execution_count": 5,
   "metadata": {},
   "outputs": [
    {
     "name": "stdout",
     "output_type": "stream",
     "text": [
      "TOYGAR PY PYTHON SELF-REFERENCE LIBRARY\n"
     ]
    }
   ],
   "source": [
    "res = mesaj.upper()\n",
    "\n",
    "print(res)"
   ]
  },
  {
   "cell_type": "code",
   "execution_count": 6,
   "metadata": {},
   "outputs": [
    {
     "data": {
      "text/plain": [
       "'toygar py python self-reference library'"
      ]
     },
     "execution_count": 6,
     "metadata": {},
     "output_type": "execute_result"
    }
   ],
   "source": [
    "res1 = mesaj.lower()\n",
    "res1"
   ]
  },
  {
   "cell_type": "code",
   "execution_count": 7,
   "metadata": {},
   "outputs": [
    {
     "data": {
      "text/plain": [
       "'Toygar Py Python Self-Reference Library'"
      ]
     },
     "execution_count": 7,
     "metadata": {},
     "output_type": "execute_result"
    }
   ],
   "source": [
    "res2 = mesaj.title()\n",
    "res2"
   ]
  },
  {
   "cell_type": "code",
   "execution_count": 9,
   "metadata": {},
   "outputs": [
    {
     "data": {
      "text/plain": [
       "2"
      ]
     },
     "execution_count": 9,
     "metadata": {},
     "output_type": "execute_result"
    }
   ],
   "source": [
    "res3 = mesaj.count(\"Py\")\n",
    "res3"
   ]
  },
  {
   "cell_type": "code",
   "execution_count": 10,
   "metadata": {},
   "outputs": [
    {
     "data": {
      "text/plain": [
       "'Toygar py python self-reference library'"
      ]
     },
     "execution_count": 10,
     "metadata": {},
     "output_type": "execute_result"
    }
   ],
   "source": [
    "res4 = mesaj.capitalize()\n",
    "res4"
   ]
  },
  {
   "cell_type": "code",
   "execution_count": 13,
   "metadata": {},
   "outputs": [
    {
     "data": {
      "text/plain": [
       "True"
      ]
     },
     "execution_count": 13,
     "metadata": {},
     "output_type": "execute_result"
    }
   ],
   "source": [
    "res5 = \"xyz\"\n",
    "res5.islower()\n"
   ]
  },
  {
   "cell_type": "code",
   "execution_count": 12,
   "metadata": {},
   "outputs": [
    {
     "data": {
      "text/plain": [
       "False"
      ]
     },
     "execution_count": 12,
     "metadata": {},
     "output_type": "execute_result"
    }
   ],
   "source": [
    "res5.isupper()"
   ]
  },
  {
   "cell_type": "code",
   "execution_count": 14,
   "metadata": {},
   "outputs": [
    {
     "name": "stdout",
     "output_type": "stream",
     "text": [
      "Toygar Py Python Self-Reference Library\n"
     ]
    }
   ],
   "source": [
    "res6 = \"     Toygar Py Python Self-Reference Library    \"\n",
    "res7 = res6.strip()\n",
    "print(res7)"
   ]
  },
  {
   "cell_type": "code",
   "execution_count": 15,
   "metadata": {},
   "outputs": [
    {
     "name": "stdout",
     "output_type": "stream",
     "text": [
      "     Toygar Py Python Self-Reference Library\n"
     ]
    }
   ],
   "source": [
    "res8 = res6.rstrip()\n",
    "print(res8)"
   ]
  },
  {
   "cell_type": "code",
   "execution_count": 16,
   "metadata": {},
   "outputs": [
    {
     "name": "stdout",
     "output_type": "stream",
     "text": [
      "Toygar Py Python Self-Reference Library    \n"
     ]
    }
   ],
   "source": [
    "res9 = res6.lstrip()\n",
    "print(res9)"
   ]
  },
  {
   "cell_type": "code",
   "execution_count": 19,
   "metadata": {},
   "outputs": [
    {
     "name": "stdout",
     "output_type": "stream",
     "text": [
      "['Toygar', 'Py', 'Python', 'Self-Reference', 'Library']\n"
     ]
    }
   ],
   "source": [
    "res10 = res6.split()\n",
    "print(res10)"
   ]
  },
  {
   "cell_type": "code",
   "execution_count": 20,
   "metadata": {},
   "outputs": [
    {
     "name": "stdout",
     "output_type": "stream",
     "text": [
      "['', '', '', '', '', 'Toygar', 'Py', 'Python', 'Self-Reference', 'Library', '', '', '', '']\n"
     ]
    }
   ],
   "source": [
    "res11 = res6.split(\" \")\n",
    "print(res11)"
   ]
  },
  {
   "cell_type": "code",
   "execution_count": 21,
   "metadata": {},
   "outputs": [
    {
     "data": {
      "text/plain": [
       "'Toygar'"
      ]
     },
     "execution_count": 21,
     "metadata": {},
     "output_type": "execute_result"
    }
   ],
   "source": [
    "res12 = res6.split()[0]\n",
    "res12"
   ]
  },
  {
   "cell_type": "code",
   "execution_count": 22,
   "metadata": {},
   "outputs": [
    {
     "data": {
      "text/plain": [
       "'Self-Reference'"
      ]
     },
     "execution_count": 22,
     "metadata": {},
     "output_type": "execute_result"
    }
   ],
   "source": [
    "res12 = res6.split()[3]\n",
    "res12"
   ]
  },
  {
   "cell_type": "code",
   "execution_count": 23,
   "metadata": {},
   "outputs": [
    {
     "name": "stdout",
     "output_type": "stream",
     "text": [
      "Library\n"
     ]
    }
   ],
   "source": [
    "res13 = res10[4]\n",
    "print(res13)"
   ]
  },
  {
   "cell_type": "code",
   "execution_count": 24,
   "metadata": {},
   "outputs": [
    {
     "data": {
      "text/plain": [
       "7"
      ]
     },
     "execution_count": 24,
     "metadata": {},
     "output_type": "execute_result"
    }
   ],
   "source": [
    "res14 = mesaj.index(\"Py\")\n",
    "res14"
   ]
  },
  {
   "cell_type": "code",
   "execution_count": 25,
   "metadata": {},
   "outputs": [
    {
     "data": {
      "text/plain": [
       "False"
      ]
     },
     "execution_count": 25,
     "metadata": {},
     "output_type": "execute_result"
    }
   ],
   "source": [
    "res15 = mesaj.startswith(\"t\")\n",
    "res15"
   ]
  },
  {
   "cell_type": "code",
   "execution_count": 26,
   "metadata": {},
   "outputs": [
    {
     "data": {
      "text/plain": [
       "True"
      ]
     },
     "execution_count": 26,
     "metadata": {},
     "output_type": "execute_result"
    }
   ],
   "source": [
    "res16 = mesaj.startswith(\"T\")\n",
    "res16"
   ]
  },
  {
   "cell_type": "code",
   "execution_count": 27,
   "metadata": {},
   "outputs": [
    {
     "data": {
      "text/plain": [
       "True"
      ]
     },
     "execution_count": 27,
     "metadata": {},
     "output_type": "execute_result"
    }
   ],
   "source": [
    "res17 = mesaj.endswith(\"y\")\n",
    "res17"
   ]
  },
  {
   "cell_type": "code",
   "execution_count": 28,
   "metadata": {},
   "outputs": [
    {
     "data": {
      "text/plain": [
       "'Toygar Py Golang Self-Reference Library'"
      ]
     },
     "execution_count": 28,
     "metadata": {},
     "output_type": "execute_result"
    }
   ],
   "source": [
    "res18 = mesaj.replace(\"Python\", \"Golang\")\n",
    "res18"
   ]
  },
  {
   "cell_type": "code",
   "execution_count": 10,
   "metadata": {},
   "outputs": [],
   "source": [
    "ders_ismi = \"Toygar Py ile Python Temelleri ve Veri Bilimi\"\n",
    "website = \"https://toygarpy.wordpress.com\""
   ]
  },
  {
   "cell_type": "code",
   "execution_count": 2,
   "metadata": {},
   "outputs": [
    {
     "name": "stdout",
     "output_type": "stream",
     "text": [
      "Toygar PY\n"
     ]
    }
   ],
   "source": [
    "#baştaki ve sondaki boşlukları silme\n",
    "bosluk_isim = \" Toygar PY \"\n",
    "son = bosluk_isim.strip()\n",
    "print(son)"
   ]
  },
  {
   "cell_type": "code",
   "execution_count": 4,
   "metadata": {},
   "outputs": [
    {
     "name": "stdout",
     "output_type": "stream",
     "text": [
      "toygar py ile python temelleri ve veri bilimi\n"
     ]
    }
   ],
   "source": [
    "#tüm karakterleri küçük harfe çevir\n",
    "son1 = ders_ismi.lower()\n",
    "print(son1)"
   ]
  },
  {
   "cell_type": "code",
   "execution_count": 5,
   "metadata": {},
   "outputs": [
    {
     "name": "stdout",
     "output_type": "stream",
     "text": [
      "2\n"
     ]
    }
   ],
   "source": [
    "#website adresinde kaç tane \".\" var?\n",
    "son2 = website.count(\".\")\n",
    "print(son2)"
   ]
  },
  {
   "cell_type": "code",
   "execution_count": 6,
   "metadata": {},
   "outputs": [
    {
     "name": "stdout",
     "output_type": "stream",
     "text": [
      "True\n"
     ]
    }
   ],
   "source": [
    "#website değişkeni https ile mi başlıyor?\n",
    "son3 = website.startswith(\"https\")\n",
    "print(son3)"
   ]
  },
  {
   "cell_type": "code",
   "execution_count": 7,
   "metadata": {},
   "outputs": [
    {
     "name": "stdout",
     "output_type": "stream",
     "text": [
      "False\n"
     ]
    }
   ],
   "source": [
    "#websitesi adresi tr ile mi bitiyor?\n",
    "son4 = website.endswith(\"tr\")\n",
    "print(son4)"
   ]
  },
  {
   "cell_type": "code",
   "execution_count": 11,
   "metadata": {},
   "outputs": [
    {
     "name": "stdout",
     "output_type": "stream",
     "text": [
      "False\n"
     ]
    }
   ],
   "source": [
    "#ders ismi içerindeki tüm karakterler harflerden mi oluşuyor?\n",
    "son5 = ders_ismi.isalpha()\n",
    "print(son5)"
   ]
  },
  {
   "cell_type": "code",
   "execution_count": 12,
   "metadata": {},
   "outputs": [
    {
     "name": "stdout",
     "output_type": "stream",
     "text": [
      "False\n"
     ]
    }
   ],
   "source": [
    "print(son1.isalpha())"
   ]
  },
  {
   "cell_type": "code",
   "execution_count": 13,
   "metadata": {},
   "outputs": [
    {
     "data": {
      "text/plain": [
       "'Toygar Py ile Python Temelleri ve Veri Bilimi'"
      ]
     },
     "execution_count": 13,
     "metadata": {},
     "output_type": "execute_result"
    }
   ],
   "source": [
    "ders_ismi"
   ]
  },
  {
   "cell_type": "code",
   "execution_count": 14,
   "metadata": {},
   "outputs": [
    {
     "name": "stdout",
     "output_type": "stream",
     "text": [
      "False\n"
     ]
    }
   ],
   "source": [
    "print(ders_ismi.isalpha())"
   ]
  },
  {
   "cell_type": "code",
   "execution_count": 15,
   "metadata": {},
   "outputs": [
    {
     "name": "stdout",
     "output_type": "stream",
     "text": [
      "Toygar-Py-ile-Python-Temelleri-ve-Veri-Bilimi\n"
     ]
    }
   ],
   "source": [
    "#ders isminde tüm boşlukları \"-\" ile değiştir\n",
    "son6 = ders_ismi.replace(\" \", \"-\")\n",
    "print(son6)"
   ]
  },
  {
   "cell_type": "code",
   "execution_count": 16,
   "metadata": {},
   "outputs": [
    {
     "name": "stdout",
     "output_type": "stream",
     "text": [
      "Toygar Py ile GoLang Temelleri ve Veri Bilimi\n"
     ]
    }
   ],
   "source": [
    "#ders isminde python kelimesine goland ile değiştir\n",
    "son7 = ders_ismi.replace(\"Python\", \"GoLang\")\n",
    "print(son7)"
   ]
  },
  {
   "cell_type": "code",
   "execution_count": 17,
   "metadata": {},
   "outputs": [
    {
     "name": "stdout",
     "output_type": "stream",
     "text": [
      "-1\n"
     ]
    }
   ],
   "source": [
    "#website adrersi www içeriyor mu?\n",
    "son8 = website.find(\"www\")\n",
    "print(son8)"
   ]
  },
  {
   "cell_type": "code",
   "execution_count": 18,
   "metadata": {},
   "outputs": [
    {
     "name": "stdout",
     "output_type": "stream",
     "text": [
      "['Toygar', 'Py', 'ile', 'Python', 'Temelleri', 've', 'Veri', 'Bilimi']\n"
     ]
    }
   ],
   "source": [
    "#ders ismini listeye çevir\n",
    "son9 = ders_ismi.split(\" \")\n",
    "print(son9)"
   ]
  },
  {
   "cell_type": "markdown",
   "metadata": {},
   "source": [
    "LİSTELER\n",
    "Lists provide ordered collections of other objects\n",
    "\n",
    "may be nested\n",
    "grow and shrink on demand\n",
    "may contain objects of any type\n"
   ]
  },
  {
   "cell_type": "code",
   "execution_count": 1,
   "metadata": {},
   "outputs": [],
   "source": [
    "liste = [\"Toygar\", \"Py\", \"Python\", \"Library\"]"
   ]
  },
  {
   "cell_type": "code",
   "execution_count": 2,
   "metadata": {},
   "outputs": [
    {
     "name": "stdout",
     "output_type": "stream",
     "text": [
      "<class 'list'>\n",
      "['Toygar', 'Py']\n"
     ]
    }
   ],
   "source": [
    "ders = \"Toygar Py\".split()  #str to list\n",
    "print(type(ders))\n",
    "print(ders)"
   ]
  },
  {
   "cell_type": "code",
   "execution_count": 3,
   "metadata": {},
   "outputs": [
    {
     "name": "stdout",
     "output_type": "stream",
     "text": [
      "Toygar\n"
     ]
    }
   ],
   "source": [
    "print(ders[0])"
   ]
  },
  {
   "cell_type": "code",
   "execution_count": 4,
   "metadata": {},
   "outputs": [
    {
     "name": "stdout",
     "output_type": "stream",
     "text": [
      "Py\n"
     ]
    }
   ],
   "source": [
    "print(ders[1])"
   ]
  },
  {
   "cell_type": "code",
   "execution_count": 5,
   "metadata": {},
   "outputs": [],
   "source": [
    "nums = [ 1, 2, 3, 4]"
   ]
  },
  {
   "cell_type": "code",
   "execution_count": 6,
   "metadata": {},
   "outputs": [
    {
     "name": "stdout",
     "output_type": "stream",
     "text": [
      "[1, 2, 3, 4]\n"
     ]
    }
   ],
   "source": [
    "print(nums)"
   ]
  },
  {
   "cell_type": "code",
   "execution_count": 7,
   "metadata": {},
   "outputs": [
    {
     "name": "stdout",
     "output_type": "stream",
     "text": [
      "<class 'list'>\n"
     ]
    }
   ],
   "source": [
    "print(type(nums))"
   ]
  },
  {
   "cell_type": "code",
   "execution_count": 8,
   "metadata": {},
   "outputs": [
    {
     "name": "stdout",
     "output_type": "stream",
     "text": [
      "<class 'int'>\n"
     ]
    }
   ],
   "source": [
    "print(type(nums[0]))"
   ]
  },
  {
   "cell_type": "code",
   "execution_count": 9,
   "metadata": {},
   "outputs": [],
   "source": [
    "names = [ \"Taco\", \"Buzz\", \"Çıtır\", \"Böcüş\"]"
   ]
  },
  {
   "cell_type": "code",
   "execution_count": 10,
   "metadata": {},
   "outputs": [
    {
     "name": "stdout",
     "output_type": "stream",
     "text": [
      "<class 'list'>\n"
     ]
    }
   ],
   "source": [
    "print(type(names))"
   ]
  },
  {
   "cell_type": "code",
   "execution_count": 11,
   "metadata": {},
   "outputs": [
    {
     "name": "stdout",
     "output_type": "stream",
     "text": [
      "<class 'str'>\n"
     ]
    }
   ],
   "source": [
    "print(type(names[1]))"
   ]
  },
  {
   "cell_type": "code",
   "execution_count": 12,
   "metadata": {},
   "outputs": [],
   "source": [
    "grade_id_info = [\"Toygar\", \"Par\",70, 80, 90 ]"
   ]
  },
  {
   "cell_type": "code",
   "execution_count": 18,
   "metadata": {},
   "outputs": [
    {
     "name": "stdout",
     "output_type": "stream",
     "text": [
      "ToygarPar\n"
     ]
    }
   ],
   "source": [
    "print(grade_id_info[0] , grade_id_info[1])"
   ]
  },
  {
   "cell_type": "code",
   "execution_count": 17,
   "metadata": {},
   "outputs": [
    {
     "name": "stdout",
     "output_type": "stream",
     "text": [
      "80.0\n"
     ]
    }
   ],
   "source": [
    "avg_grade = (grade_id_info[2] + grade_id_info[3] + grade_id_info[4])/len(grade_id_info[2:])\n",
    "print(avg_grade) "
   ]
  },
  {
   "cell_type": "code",
   "execution_count": 23,
   "metadata": {},
   "outputs": [
    {
     "name": "stdout",
     "output_type": "stream",
     "text": [
      "Toygar Par Not Ortalaması :80.0\n"
     ]
    }
   ],
   "source": [
    "print( grade_id_info[0] + \" \" + grade_id_info[1] + \" \" + \"Not Ortalaması :\" + str(avg_grade))"
   ]
  },
  {
   "cell_type": "code",
   "execution_count": 24,
   "metadata": {},
   "outputs": [],
   "source": [
    "sokakitleri = [ [ \"Taco\", \"Buzz\", \"Çıtır\", \"Böcüş\"], [\"Toygar\", \"Par\",70, 80, 90 ]]"
   ]
  },
  {
   "cell_type": "code",
   "execution_count": 25,
   "metadata": {},
   "outputs": [
    {
     "name": "stdout",
     "output_type": "stream",
     "text": [
      "Toygar\n"
     ]
    }
   ],
   "source": [
    "print(sokakitleri[1][0]) #2. elemanın detayına erişmek"
   ]
  },
  {
   "cell_type": "code",
   "execution_count": 26,
   "metadata": {},
   "outputs": [
    {
     "name": "stdout",
     "output_type": "stream",
     "text": [
      "Taco\n"
     ]
    }
   ],
   "source": [
    "print(sokakitleri[0][0])"
   ]
  },
  {
   "cell_type": "code",
   "execution_count": 27,
   "metadata": {},
   "outputs": [
    {
     "name": "stdout",
     "output_type": "stream",
     "text": [
      "['Taco', 'Buzz', 'Çıtır', 'Böcüş']\n"
     ]
    }
   ],
   "source": [
    "print(sokakitleri[0])"
   ]
  },
  {
   "cell_type": "markdown",
   "metadata": {},
   "source": [
    "Literal means an expression whose syntax generates and object that is, the expression that generate an object, sometimes also called a constant\n",
    "\n",
    "[1, [2, \"üç\"], 4.5], list(range(10))"
   ]
  },
  {
   "cell_type": "code",
   "execution_count": 28,
   "metadata": {},
   "outputs": [
    {
     "name": "stdout",
     "output_type": "stream",
     "text": [
      "['Python', 'Sql', 'C', 'Go']\n"
     ]
    }
   ],
   "source": [
    "#list literal\n",
    "\n",
    "prolang = [\"Python\", \"Sql\", \"C\", \"Go\"]\n",
    "\n",
    "dil = prolang\n",
    "\n",
    "print(dil)"
   ]
  },
  {
   "cell_type": "code",
   "execution_count": 29,
   "metadata": {},
   "outputs": [
    {
     "name": "stdout",
     "output_type": "stream",
     "text": [
      "<class 'list'>\n"
     ]
    }
   ],
   "source": [
    "print(type(prolang))"
   ]
  },
  {
   "cell_type": "code",
   "execution_count": 30,
   "metadata": {},
   "outputs": [
    {
     "name": "stdout",
     "output_type": "stream",
     "text": [
      "['Python', 'Sql']\n"
     ]
    }
   ],
   "source": [
    "print(prolang[:2])"
   ]
  },
  {
   "cell_type": "code",
   "execution_count": 31,
   "metadata": {},
   "outputs": [
    {
     "name": "stdout",
     "output_type": "stream",
     "text": [
      "['Go', 'C', 'Sql', 'Python']\n"
     ]
    }
   ],
   "source": [
    "print(prolang[::-1])"
   ]
  },
  {
   "cell_type": "code",
   "execution_count": 32,
   "metadata": {},
   "outputs": [
    {
     "name": "stdout",
     "output_type": "stream",
     "text": [
      "['Sql', 'C']\n"
     ]
    }
   ],
   "source": [
    "print(prolang[-3:-1])"
   ]
  },
  {
   "cell_type": "code",
   "execution_count": 33,
   "metadata": {},
   "outputs": [],
   "source": [
    "prolang[2] = \"C#\"\n"
   ]
  },
  {
   "cell_type": "code",
   "execution_count": 34,
   "metadata": {},
   "outputs": [
    {
     "name": "stdout",
     "output_type": "stream",
     "text": [
      "['Python', 'Sql', 'C#', 'Go']\n"
     ]
    }
   ],
   "source": [
    "print(dil)"
   ]
  },
  {
   "cell_type": "code",
   "execution_count": 35,
   "metadata": {},
   "outputs": [
    {
     "name": "stdout",
     "output_type": "stream",
     "text": [
      "4\n"
     ]
    }
   ],
   "source": [
    "print(len(prolang))"
   ]
  },
  {
   "cell_type": "code",
   "execution_count": 36,
   "metadata": {},
   "outputs": [
    {
     "name": "stdout",
     "output_type": "stream",
     "text": [
      "['Python', 'Sql', 'C#', 'Go', 'C', 'Lisp', 'Kotlin']\n"
     ]
    }
   ],
   "source": [
    "dil  = prolang + [\"C\", \"Lisp\", \"Kotlin\"]\n",
    "print(dil)"
   ]
  },
  {
   "cell_type": "code",
   "execution_count": 37,
   "metadata": {},
   "outputs": [
    {
     "data": {
      "text/plain": [
       "True"
      ]
     },
     "execution_count": 37,
     "metadata": {},
     "output_type": "execute_result"
    }
   ],
   "source": [
    "\"Python\" in prolang #koşul ifadeleri"
   ]
  },
  {
   "cell_type": "code",
   "execution_count": 38,
   "metadata": {},
   "outputs": [
    {
     "data": {
      "text/plain": [
       "False"
      ]
     },
     "execution_count": 38,
     "metadata": {},
     "output_type": "execute_result"
    }
   ],
   "source": [
    "\"C++\" in dil"
   ]
  },
  {
   "cell_type": "code",
   "execution_count": 39,
   "metadata": {},
   "outputs": [
    {
     "name": "stdout",
     "output_type": "stream",
     "text": [
      "Python\n",
      "Sql\n",
      "C#\n",
      "Go\n"
     ]
    }
   ],
   "source": [
    "for x in prolang:   #döngü\n",
    "    print(x)"
   ]
  },
  {
   "cell_type": "code",
   "execution_count": 40,
   "metadata": {},
   "outputs": [
    {
     "name": "stdout",
     "output_type": "stream",
     "text": [
      "Python\n",
      "Sql\n",
      "C#\n",
      "Go\n",
      "C\n",
      "Lisp\n",
      "Kotlin\n"
     ]
    }
   ],
   "source": [
    "for y in dil:\n",
    "    print(y)"
   ]
  },
  {
   "cell_type": "code",
   "execution_count": 41,
   "metadata": {},
   "outputs": [
    {
     "name": "stdout",
     "output_type": "stream",
     "text": [
      "4\n"
     ]
    }
   ],
   "source": [
    "#Örnek uygulamalar\n",
    "\n",
    "cars = [ \"Chevrolet\", \"Ford\", \"Dodge\", \"Tesla\"]\n",
    "print(len(cars))"
   ]
  },
  {
   "cell_type": "code",
   "execution_count": 42,
   "metadata": {},
   "outputs": [
    {
     "name": "stdout",
     "output_type": "stream",
     "text": [
      "['Chevrolet', 'Ford', 'Dodge', 'Tesla']\n"
     ]
    }
   ],
   "source": [
    "print(cars)"
   ]
  },
  {
   "cell_type": "code",
   "execution_count": 43,
   "metadata": {},
   "outputs": [
    {
     "name": "stdout",
     "output_type": "stream",
     "text": [
      "Chevrolet Tesla\n"
     ]
    }
   ],
   "source": [
    "print(cars[0], cars[-1])"
   ]
  },
  {
   "cell_type": "code",
   "execution_count": 44,
   "metadata": {},
   "outputs": [
    {
     "name": "stdout",
     "output_type": "stream",
     "text": [
      "['Chevrolet', 'Ford', 'Chrysler', 'Tesla']\n"
     ]
    }
   ],
   "source": [
    "cars[2] = \"Chrysler\"\n",
    "print(cars)"
   ]
  },
  {
   "cell_type": "code",
   "execution_count": 45,
   "metadata": {},
   "outputs": [
    {
     "data": {
      "text/plain": [
       "False"
      ]
     },
     "execution_count": 45,
     "metadata": {},
     "output_type": "execute_result"
    }
   ],
   "source": [
    "\"Nissan\" in cars"
   ]
  },
  {
   "cell_type": "code",
   "execution_count": 46,
   "metadata": {},
   "outputs": [
    {
     "data": {
      "text/plain": [
       "['Chevrolet', 'Ford']"
      ]
     },
     "execution_count": 46,
     "metadata": {},
     "output_type": "execute_result"
    }
   ],
   "source": [
    "cars[:2]"
   ]
  },
  {
   "cell_type": "code",
   "execution_count": 47,
   "metadata": {},
   "outputs": [
    {
     "name": "stdout",
     "output_type": "stream",
     "text": [
      "['Chevrolet', 'Ford', 'Chrysler', 'Tesla', 'GMC', 'Buick', 'Jeep']\n"
     ]
    }
   ],
   "source": [
    "cars  = cars + [ \"GMC\", \"Buick\", \"Jeep\"]\n",
    "print(cars)"
   ]
  },
  {
   "cell_type": "code",
   "execution_count": 48,
   "metadata": {},
   "outputs": [
    {
     "name": "stdout",
     "output_type": "stream",
     "text": [
      "['Chevrolet', 'Ford', 'Chrysler', 'Tesla', 'GMC', 'Jeep']\n"
     ]
    }
   ],
   "source": [
    "del cars[-2] #buick deleted\n",
    "print(cars)"
   ]
  },
  {
   "cell_type": "code",
   "execution_count": 49,
   "metadata": {},
   "outputs": [],
   "source": [
    "list2  = [[\"Toygar\", \"Par\", 1974, 70, 90, 95], [\"Böçüş\", \"Par\", 2015, 90, 95, 97], [\"Taco\", \"Par\", 2000, 80, 70 ,90]]"
   ]
  },
  {
   "cell_type": "code",
   "execution_count": 68,
   "metadata": {},
   "outputs": [
    {
     "name": "stdout",
     "output_type": "stream",
     "text": [
      "50\n"
     ]
    }
   ],
   "source": [
    "import datetime    #yaş hesaplama\n",
    "today = datetime.datetime.now()\n",
    "d1 = today.strftime(\"%Y\")\n",
    "age_toygar = int(d1) - list2[0][2]\n",
    "print(age_toygar)"
   ]
  },
  {
   "cell_type": "code",
   "execution_count": 70,
   "metadata": {},
   "outputs": [
    {
     "name": "stdout",
     "output_type": "stream",
     "text": [
      "9\n"
     ]
    }
   ],
   "source": [
    "import datetime\n",
    "today = datetime.datetime.now()\n",
    "d1 = today.strftime(\"%Y\")\n",
    "age_böçüş = int(d1) - list2[1][2]\n",
    "print(age_böçüş)"
   ]
  },
  {
   "cell_type": "code",
   "execution_count": 71,
   "metadata": {},
   "outputs": [
    {
     "name": "stdout",
     "output_type": "stream",
     "text": [
      "24\n"
     ]
    }
   ],
   "source": [
    "import datetime\n",
    "today = datetime.datetime.now()\n",
    "d1 = today.strftime(\"%Y\")\n",
    "age_taco = int(d1) - list2[2][2]\n",
    "print(age_taco)"
   ]
  },
  {
   "cell_type": "code",
   "execution_count": 73,
   "metadata": {},
   "outputs": [
    {
     "name": "stdout",
     "output_type": "stream",
     "text": [
      "85.0\n"
     ]
    }
   ],
   "source": [
    "avg_toygar = (list2[0][3] + list2[0][4] + list2[0][5])/len(list2[0][3:])\n",
    "print(avg_toygar)"
   ]
  },
  {
   "cell_type": "code",
   "execution_count": 74,
   "metadata": {},
   "outputs": [
    {
     "name": "stdout",
     "output_type": "stream",
     "text": [
      "94.0\n"
     ]
    }
   ],
   "source": [
    "avg_böçüş = (list2[1][3] + list2[1][4] + list2[1][5])/len(list2[1][3:])\n",
    "print(avg_böçüş)"
   ]
  },
  {
   "cell_type": "code",
   "execution_count": 76,
   "metadata": {},
   "outputs": [
    {
     "name": "stdout",
     "output_type": "stream",
     "text": [
      "80.0\n"
     ]
    }
   ],
   "source": [
    "avg_taco = (list2[2][3] + list2[2][4] + list2[2][5])/len(list2[2][3:])\n",
    "print(avg_taco)"
   ]
  },
  {
   "cell_type": "markdown",
   "metadata": {},
   "source": [
    "Liste Metotları"
   ]
  },
  {
   "cell_type": "code",
   "execution_count": 1,
   "metadata": {},
   "outputs": [],
   "source": [
    "numz = [ 3, 7, 9, 13 ,17 , 46, 68, 87]"
   ]
  },
  {
   "cell_type": "code",
   "execution_count": 2,
   "metadata": {},
   "outputs": [],
   "source": [
    "namez = [ \"Kemal\", \"Mustafa\", \"Fevzi\", \"İsmet\"]"
   ]
  },
  {
   "cell_type": "code",
   "execution_count": 3,
   "metadata": {},
   "outputs": [
    {
     "data": {
      "text/plain": [
       "3"
      ]
     },
     "execution_count": 3,
     "metadata": {},
     "output_type": "execute_result"
    }
   ],
   "source": [
    "min(numz)"
   ]
  },
  {
   "cell_type": "code",
   "execution_count": 4,
   "metadata": {},
   "outputs": [
    {
     "data": {
      "text/plain": [
       "'Fevzi'"
      ]
     },
     "execution_count": 4,
     "metadata": {},
     "output_type": "execute_result"
    }
   ],
   "source": [
    "min(namez)"
   ]
  },
  {
   "cell_type": "code",
   "execution_count": 5,
   "metadata": {},
   "outputs": [
    {
     "data": {
      "text/plain": [
       "'İsmet'"
      ]
     },
     "execution_count": 5,
     "metadata": {},
     "output_type": "execute_result"
    }
   ],
   "source": [
    "max(namez)"
   ]
  },
  {
   "cell_type": "code",
   "execution_count": 6,
   "metadata": {},
   "outputs": [
    {
     "data": {
      "text/plain": [
       "87"
      ]
     },
     "execution_count": 6,
     "metadata": {},
     "output_type": "execute_result"
    }
   ],
   "source": [
    "max(numz)"
   ]
  },
  {
   "cell_type": "code",
   "execution_count": 7,
   "metadata": {},
   "outputs": [
    {
     "name": "stdout",
     "output_type": "stream",
     "text": [
      "[3, 7, 9, 13, 17, 46, 68, 87, 99]\n"
     ]
    }
   ],
   "source": [
    "#ekleme\n",
    "numz.append(99)\n",
    "res  = numz \n",
    "print(res)"
   ]
  },
  {
   "cell_type": "code",
   "execution_count": 9,
   "metadata": {},
   "outputs": [
    {
     "name": "stdout",
     "output_type": "stream",
     "text": [
      "['Kemal', 'Mustafa', 'Fevzi', 'İsmet', 'Refik']\n"
     ]
    }
   ],
   "source": [
    "namez.append(\"Refik\")\n",
    "rez1 = namez\n",
    "print(rez1)"
   ]
  },
  {
   "cell_type": "code",
   "execution_count": 13,
   "metadata": {},
   "outputs": [
    {
     "name": "stdout",
     "output_type": "stream",
     "text": [
      "[3, 98, 7, 9, 13, 17, 46, 68, 98, 87, 98, 99]\n"
     ]
    }
   ],
   "source": [
    "numz.insert(-1, 98)\n",
    "rez2 = numz\n",
    "print(rez2)"
   ]
  },
  {
   "cell_type": "code",
   "execution_count": 18,
   "metadata": {},
   "outputs": [
    {
     "data": {
      "text/plain": [
       "[3, 98, 7, 9, 13, 17, 46, 68, 98, 87, 98, 99, 111, 111]"
      ]
     },
     "execution_count": 18,
     "metadata": {},
     "output_type": "execute_result"
    }
   ],
   "source": [
    "numz.insert(len(numz), 111)\n",
    "numz"
   ]
  },
  {
   "cell_type": "code",
   "execution_count": 19,
   "metadata": {},
   "outputs": [],
   "source": [
    "del(numz[-1])"
   ]
  },
  {
   "cell_type": "code",
   "execution_count": 20,
   "metadata": {},
   "outputs": [
    {
     "data": {
      "text/plain": [
       "[3, 98, 7, 9, 13, 17, 46, 68, 98, 87, 98, 99, 111]"
      ]
     },
     "execution_count": 20,
     "metadata": {},
     "output_type": "execute_result"
    }
   ],
   "source": [
    "numz"
   ]
  },
  {
   "cell_type": "code",
   "execution_count": 21,
   "metadata": {},
   "outputs": [
    {
     "data": {
      "text/plain": [
       "111"
      ]
     },
     "execution_count": 21,
     "metadata": {},
     "output_type": "execute_result"
    }
   ],
   "source": [
    "#silme \n",
    "numz.pop()"
   ]
  },
  {
   "cell_type": "code",
   "execution_count": 22,
   "metadata": {},
   "outputs": [
    {
     "data": {
      "text/plain": [
       "7"
      ]
     },
     "execution_count": 22,
     "metadata": {},
     "output_type": "execute_result"
    }
   ],
   "source": [
    "numz.pop(2)"
   ]
  },
  {
   "cell_type": "code",
   "execution_count": 23,
   "metadata": {},
   "outputs": [
    {
     "data": {
      "text/plain": [
       "[3, 9, 13, 17, 46, 68, 98, 87, 98, 99]"
      ]
     },
     "execution_count": 23,
     "metadata": {},
     "output_type": "execute_result"
    }
   ],
   "source": [
    "numz.remove(98)\n",
    "numz"
   ]
  },
  {
   "cell_type": "code",
   "execution_count": 24,
   "metadata": {},
   "outputs": [
    {
     "data": {
      "text/plain": [
       "[3, 9, 13, 17, 46, 68, 87, 98, 99]"
      ]
     },
     "execution_count": 24,
     "metadata": {},
     "output_type": "execute_result"
    }
   ],
   "source": [
    "numz.remove(98)\n",
    "numz"
   ]
  },
  {
   "cell_type": "code",
   "execution_count": 25,
   "metadata": {},
   "outputs": [],
   "source": [
    "numz.insert(1, 7)"
   ]
  },
  {
   "cell_type": "code",
   "execution_count": 26,
   "metadata": {},
   "outputs": [
    {
     "data": {
      "text/plain": [
       "[3, 7, 9, 13, 17, 46, 68, 87, 98, 99]"
      ]
     },
     "execution_count": 26,
     "metadata": {},
     "output_type": "execute_result"
    }
   ],
   "source": [
    "numz"
   ]
  },
  {
   "cell_type": "code",
   "execution_count": 27,
   "metadata": {},
   "outputs": [
    {
     "data": {
      "text/plain": [
       "[3, 7, 9, 13, 17, 46, 68, 87, 98, 99]"
      ]
     },
     "execution_count": 27,
     "metadata": {},
     "output_type": "execute_result"
    }
   ],
   "source": [
    "#sıralama\n",
    "numz.sort()\n",
    "numz"
   ]
  },
  {
   "cell_type": "code",
   "execution_count": 28,
   "metadata": {},
   "outputs": [
    {
     "data": {
      "text/plain": [
       "['Fevzi', 'Kemal', 'Mustafa', 'Refik', 'İsmet']"
      ]
     },
     "execution_count": 28,
     "metadata": {},
     "output_type": "execute_result"
    }
   ],
   "source": [
    "namez.sort()\n",
    "namez"
   ]
  },
  {
   "cell_type": "code",
   "execution_count": 29,
   "metadata": {},
   "outputs": [
    {
     "data": {
      "text/plain": [
       "[99, 98, 87, 68, 46, 17, 13, 9, 7, 3]"
      ]
     },
     "execution_count": 29,
     "metadata": {},
     "output_type": "execute_result"
    }
   ],
   "source": [
    "numz.reverse()\n",
    "numz"
   ]
  },
  {
   "cell_type": "code",
   "execution_count": 30,
   "metadata": {},
   "outputs": [
    {
     "data": {
      "text/plain": [
       "2"
      ]
     },
     "execution_count": 30,
     "metadata": {},
     "output_type": "execute_result"
    }
   ],
   "source": [
    "numz.append(3)\n",
    "numz.count(3)"
   ]
  },
  {
   "cell_type": "code",
   "execution_count": 31,
   "metadata": {},
   "outputs": [
    {
     "data": {
      "text/plain": [
       "1"
      ]
     },
     "execution_count": 31,
     "metadata": {},
     "output_type": "execute_result"
    }
   ],
   "source": [
    "namez.count(\"Mustafa\")"
   ]
  },
  {
   "cell_type": "code",
   "execution_count": 34,
   "metadata": {},
   "outputs": [
    {
     "data": {
      "text/plain": [
       "0"
      ]
     },
     "execution_count": 34,
     "metadata": {},
     "output_type": "execute_result"
    }
   ],
   "source": [
    "#arama\n",
    "numz.sort()\n",
    "numz.index(3)  #index numarasını verir"
   ]
  },
  {
   "cell_type": "code",
   "execution_count": 36,
   "metadata": {},
   "outputs": [],
   "source": [
    "cust_name = [\"toygarpar\", \"özdemirpar\", \"böcüşpar\", \"tacopar\"]\n",
    "\n",
    "ord_totals = [ 2000, 5000, 7000, 9000]"
   ]
  },
  {
   "cell_type": "code",
   "execution_count": 37,
   "metadata": {},
   "outputs": [
    {
     "data": {
      "text/plain": [
       "[2000, 5000, 7000, 9000, 5000]"
      ]
     },
     "execution_count": 37,
     "metadata": {},
     "output_type": "execute_result"
    }
   ],
   "source": [
    "ord_totals.append(5000)\n",
    "ord_totals"
   ]
  },
  {
   "cell_type": "code",
   "execution_count": 39,
   "metadata": {},
   "outputs": [
    {
     "data": {
      "text/plain": [
       "[2000, 5000, 7000]"
      ]
     },
     "execution_count": 39,
     "metadata": {},
     "output_type": "execute_result"
    }
   ],
   "source": [
    "ord_totals.pop()\n",
    "ord_totals"
   ]
  },
  {
   "cell_type": "code",
   "execution_count": 40,
   "metadata": {},
   "outputs": [
    {
     "data": {
      "text/plain": [
       "<function ord(c, /)>"
      ]
     },
     "execution_count": 40,
     "metadata": {},
     "output_type": "execute_result"
    }
   ],
   "source": [
    "ord_totals.append(9000)\n"
   ]
  },
  {
   "cell_type": "code",
   "execution_count": 41,
   "metadata": {},
   "outputs": [
    {
     "data": {
      "text/plain": [
       "[2000, 5000, 7000, 9000]"
      ]
     },
     "execution_count": 41,
     "metadata": {},
     "output_type": "execute_result"
    }
   ],
   "source": [
    "ord_totals\n"
   ]
  },
  {
   "cell_type": "code",
   "execution_count": 82,
   "metadata": {},
   "outputs": [],
   "source": [
    "cust_list = zip(cust_name, ord_totals)"
   ]
  },
  {
   "cell_type": "code",
   "execution_count": 83,
   "metadata": {},
   "outputs": [
    {
     "data": {
      "text/plain": [
       "<zip at 0x7da21049c4c0>"
      ]
     },
     "execution_count": 83,
     "metadata": {},
     "output_type": "execute_result"
    }
   ],
   "source": [
    "cust_list\n"
   ]
  },
  {
   "cell_type": "code",
   "execution_count": 84,
   "metadata": {},
   "outputs": [
    {
     "name": "stdout",
     "output_type": "stream",
     "text": [
      "[('böcüşpar', 9000), ('tacopar', 7000), ('toygarpar', 5000), ('özdemirpar', 2000)]\n"
     ]
    }
   ],
   "source": [
    "t = (list(cust_list))\n",
    "print(t)\n",
    "\n"
   ]
  },
  {
   "cell_type": "code",
   "execution_count": 85,
   "metadata": {},
   "outputs": [
    {
     "name": "stdout",
     "output_type": "stream",
     "text": [
      "böcüşpar isimli müşterinin sipariş toplamı 9000\n",
      "tacopar isimli müşterinin sipariş toplamı 7000\n",
      "toygarpar isimli müşterinin sipariş toplamı 5000\n",
      "özdemirpar isimli müşterinin sipariş toplamı 2000\n"
     ]
    }
   ],
   "source": [
    "for x in t:\n",
    "    print(f\"{x[0]} isimli müşterinin sipariş toplamı {x[1]}\")"
   ]
  },
  {
   "cell_type": "code",
   "execution_count": 80,
   "metadata": {},
   "outputs": [
    {
     "data": {
      "text/plain": [
       "['böcüşpar', 'tacopar', 'toygarpar', 'özdemirpar']"
      ]
     },
     "execution_count": 80,
     "metadata": {},
     "output_type": "execute_result"
    }
   ],
   "source": [
    "cust_name.sort()\n",
    "cust_name"
   ]
  },
  {
   "cell_type": "code",
   "execution_count": 81,
   "metadata": {},
   "outputs": [
    {
     "data": {
      "text/plain": [
       "[9000, 7000, 5000, 2000]"
      ]
     },
     "execution_count": 81,
     "metadata": {},
     "output_type": "execute_result"
    }
   ],
   "source": [
    "ord_totals.reverse()\n",
    "ord_totals"
   ]
  },
  {
   "cell_type": "code",
   "execution_count": 86,
   "metadata": {},
   "outputs": [
    {
     "data": {
      "text/plain": [
       "2000"
      ]
     },
     "execution_count": 86,
     "metadata": {},
     "output_type": "execute_result"
    }
   ],
   "source": [
    "min(ord_totals)"
   ]
  },
  {
   "cell_type": "code",
   "execution_count": 87,
   "metadata": {},
   "outputs": [
    {
     "data": {
      "text/plain": [
       "9000"
      ]
     },
     "execution_count": 87,
     "metadata": {},
     "output_type": "execute_result"
    }
   ],
   "source": [
    "max(ord_totals)"
   ]
  },
  {
   "cell_type": "code",
   "execution_count": 88,
   "metadata": {},
   "outputs": [
    {
     "data": {
      "text/plain": [
       "1"
      ]
     },
     "execution_count": 88,
     "metadata": {},
     "output_type": "execute_result"
    }
   ],
   "source": [
    "cust_name.count(\"toygarpar\")"
   ]
  },
  {
   "cell_type": "code",
   "execution_count": 89,
   "metadata": {},
   "outputs": [
    {
     "data": {
      "text/plain": [
       "['böcüşpar', 'tacopar', 'toygarpar', 'özdemirpar', 'aliveli']"
      ]
     },
     "execution_count": 89,
     "metadata": {},
     "output_type": "execute_result"
    }
   ],
   "source": [
    "cust_name.insert(len(cust_name), \"aliveli\")\n",
    "cust_name"
   ]
  },
  {
   "cell_type": "code",
   "execution_count": 90,
   "metadata": {},
   "outputs": [
    {
     "data": {
      "text/plain": [
       "['böcüşpar', 'tacopar', 'toygarpar', 'özdemirpar']"
      ]
     },
     "execution_count": 90,
     "metadata": {},
     "output_type": "execute_result"
    }
   ],
   "source": [
    "cust_name.remove(\"aliveli\")\n",
    "cust_name"
   ]
  },
  {
   "cell_type": "code",
   "execution_count": 91,
   "metadata": {},
   "outputs": [
    {
     "data": {
      "text/plain": [
       "[('böcüşpar', 9000),\n",
       " ('tacopar', 7000),\n",
       " ('toygarpar', 5000),\n",
       " ('özdemirpar', 2000)]"
      ]
     },
     "execution_count": 91,
     "metadata": {},
     "output_type": "execute_result"
    }
   ],
   "source": [
    "t"
   ]
  },
  {
   "cell_type": "code",
   "execution_count": 92,
   "metadata": {},
   "outputs": [
    {
     "data": {
      "text/plain": [
       "[('böcüşpar', 9000),\n",
       " ('tacopar', 7000),\n",
       " ('toygarpar', 5000),\n",
       " ('özdemirpar', 2000),\n",
       " ('buzzpar', 8500)]"
      ]
     },
     "execution_count": 92,
     "metadata": {},
     "output_type": "execute_result"
    }
   ],
   "source": [
    "new_cust = input(\"Müşteri adı girin: \")\n",
    "yeni_must_toplam = int(input(\"Toplam girin: \"))\n",
    "t.append((new_cust,yeni_must_toplam))\n",
    "t"
   ]
  },
  {
   "cell_type": "code",
   "execution_count": 93,
   "metadata": {},
   "outputs": [
    {
     "data": {
      "text/plain": [
       "['böcüşpar', 'tacopar', 'toygarpar', 'özdemirpar', 'buzzpar']"
      ]
     },
     "execution_count": 93,
     "metadata": {},
     "output_type": "execute_result"
    }
   ],
   "source": [
    "cust_name.append(new_cust)\n",
    "cust_name"
   ]
  },
  {
   "cell_type": "code",
   "execution_count": 94,
   "metadata": {},
   "outputs": [
    {
     "data": {
      "text/plain": [
       "[9000, 7000, 5000, 2000, 8500]"
      ]
     },
     "execution_count": 94,
     "metadata": {},
     "output_type": "execute_result"
    }
   ],
   "source": [
    "ord_totals.append(yeni_must_toplam)\n",
    "ord_totals"
   ]
  },
  {
   "cell_type": "markdown",
   "metadata": {},
   "source": [
    "Tuples"
   ]
  },
  {
   "cell_type": "code",
   "execution_count": 6,
   "metadata": {},
   "outputs": [],
   "source": [
    "liste = [ 1, 2, 3]\n",
    "benim_tuple = 1, 2, 3"
   ]
  },
  {
   "cell_type": "code",
   "execution_count": 7,
   "metadata": {},
   "outputs": [
    {
     "name": "stdout",
     "output_type": "stream",
     "text": [
      "<class 'list'>\n"
     ]
    }
   ],
   "source": [
    "print(type(liste))"
   ]
  },
  {
   "cell_type": "code",
   "execution_count": 8,
   "metadata": {},
   "outputs": [
    {
     "name": "stdout",
     "output_type": "stream",
     "text": [
      "<class 'tuple'>\n"
     ]
    }
   ],
   "source": [
    "print(type(benim_tuple))"
   ]
  },
  {
   "cell_type": "code",
   "execution_count": 9,
   "metadata": {},
   "outputs": [
    {
     "data": {
      "text/plain": [
       "2"
      ]
     },
     "execution_count": 9,
     "metadata": {},
     "output_type": "execute_result"
    }
   ],
   "source": [
    "benim_tuple[1]"
   ]
  },
  {
   "cell_type": "code",
   "execution_count": 10,
   "metadata": {},
   "outputs": [
    {
     "data": {
      "text/plain": [
       "1"
      ]
     },
     "execution_count": 10,
     "metadata": {},
     "output_type": "execute_result"
    }
   ],
   "source": [
    "benim_tuple.count(3)"
   ]
  },
  {
   "cell_type": "code",
   "execution_count": 11,
   "metadata": {},
   "outputs": [
    {
     "data": {
      "text/plain": [
       "2"
      ]
     },
     "execution_count": 11,
     "metadata": {},
     "output_type": "execute_result"
    }
   ],
   "source": [
    "benim_tuple.index(3)"
   ]
  },
  {
   "cell_type": "code",
   "execution_count": 12,
   "metadata": {},
   "outputs": [],
   "source": [
    "yeni_tuple = tuple([4, 5, 6])"
   ]
  },
  {
   "cell_type": "code",
   "execution_count": 14,
   "metadata": {},
   "outputs": [
    {
     "name": "stdout",
     "output_type": "stream",
     "text": [
      "<class 'tuple'>\n"
     ]
    }
   ],
   "source": [
    "print(type(yeni_tuple))"
   ]
  },
  {
   "cell_type": "code",
   "execution_count": 15,
   "metadata": {},
   "outputs": [],
   "source": [
    "yeni_liste = list(yeni_tuple)"
   ]
  },
  {
   "cell_type": "code",
   "execution_count": 16,
   "metadata": {},
   "outputs": [
    {
     "name": "stdout",
     "output_type": "stream",
     "text": [
      "<class 'list'>\n"
     ]
    }
   ],
   "source": [
    "print(type(yeni_liste))"
   ]
  },
  {
   "cell_type": "code",
   "execution_count": 78,
   "metadata": {},
   "outputs": [
    {
     "name": "stdout",
     "output_type": "stream",
     "text": [
      "9808.2\n"
     ]
    }
   ],
   "source": [
    "x = 6000 + 6000 *0.6347\n",
    "print(x)\n"
   ]
  },
  {
   "cell_type": "markdown",
   "metadata": {},
   "source": [
    "DICTIONARY\n",
    "\n",
    "*Key-Value türünde bilgi saklar. Key-Value type Collections\n",
    "\n",
    "*keys have to be unique\n",
    "\n",
    "*can be sorted\n",
    "\n",
    "*can be updated"
   ]
  },
  {
   "cell_type": "code",
   "execution_count": 18,
   "metadata": {},
   "outputs": [],
   "source": [
    "obj = {\n",
    "    \"username\" : \"toygarpar\",\n",
    "    \"order_total\" : 7000,\n",
    "    \"date\": \"03-10-2024\"\n",
    "}"
   ]
  },
  {
   "cell_type": "code",
   "execution_count": 19,
   "metadata": {},
   "outputs": [
    {
     "name": "stdout",
     "output_type": "stream",
     "text": [
      "{'username': 'toygarpar', 'order_total': 7000, 'date': '03-10-2024'}\n"
     ]
    }
   ],
   "source": [
    "print(obj)"
   ]
  },
  {
   "cell_type": "code",
   "execution_count": 25,
   "metadata": {},
   "outputs": [],
   "source": [
    "fl_cities = [\"orlando\", \"tampa\"]\n",
    "counties = [ \"orange\", \"hillsborough\"]\n",
    "\n",
    "sehir = [\"İstanbul\", \"İzmir\"]\n",
    "plaka = [34 , 35]\n",
    "n = 0  #indeks için countertanımladık"
   ]
  },
  {
   "cell_type": "code",
   "execution_count": 26,
   "metadata": {},
   "outputs": [
    {
     "name": "stdout",
     "output_type": "stream",
     "text": [
      "İstanbul 34\n"
     ]
    }
   ],
   "source": [
    "print(sehir[0], plaka[0])"
   ]
  },
  {
   "cell_type": "code",
   "execution_count": 27,
   "metadata": {},
   "outputs": [
    {
     "name": "stdout",
     "output_type": "stream",
     "text": [
      "İstanbul 34\n",
      "İzmir 35\n"
     ]
    }
   ],
   "source": [
    "for x in sehir:\n",
    "    print(sehir[n], plaka[n])\n",
    "    n += 1"
   ]
  },
  {
   "cell_type": "code",
   "execution_count": 31,
   "metadata": {},
   "outputs": [
    {
     "name": "stdout",
     "output_type": "stream",
     "text": [
      "35\n"
     ]
    }
   ],
   "source": [
    "print(plaka[sehir.index(\"İzmir\")])  #izmirin sehir içindeki indeksine göre plaka indeks dğerinin karşılığını yazdırıyor, fancy index kullanma"
   ]
  },
  {
   "cell_type": "code",
   "execution_count": 41,
   "metadata": {},
   "outputs": [],
   "source": [
    "#dict yapısı\n",
    "\n",
    "plakalar = {\n",
    "    \"istanbul\" : 34,\n",
    "    \"izmir\" : 35,\n",
    "    \"orlando\" : \"orange\",\n",
    "    \"tampa\": \"hillsborough\"\n",
    "\n",
    "}"
   ]
  },
  {
   "cell_type": "code",
   "execution_count": 42,
   "metadata": {},
   "outputs": [
    {
     "name": "stdout",
     "output_type": "stream",
     "text": [
      "35\n"
     ]
    }
   ],
   "source": [
    "print(plakalar[\"izmir\"])"
   ]
  },
  {
   "cell_type": "code",
   "execution_count": 43,
   "metadata": {},
   "outputs": [
    {
     "name": "stdout",
     "output_type": "stream",
     "text": [
      "34\n"
     ]
    }
   ],
   "source": [
    "print(plakalar[\"istanbul\"])"
   ]
  },
  {
   "cell_type": "code",
   "execution_count": 44,
   "metadata": {},
   "outputs": [
    {
     "name": "stdout",
     "output_type": "stream",
     "text": [
      "dict_items([('istanbul', 34), ('izmir', 35), ('orlando', 'orange'), ('tampa', 'hillsborough')])\n"
     ]
    }
   ],
   "source": [
    "print(plakalar.items())"
   ]
  },
  {
   "cell_type": "code",
   "execution_count": 45,
   "metadata": {},
   "outputs": [
    {
     "name": "stdout",
     "output_type": "stream",
     "text": [
      "dict_keys(['istanbul', 'izmir', 'orlando', 'tampa'])\n"
     ]
    }
   ],
   "source": [
    "print(plakalar.keys())"
   ]
  },
  {
   "cell_type": "code",
   "execution_count": 46,
   "metadata": {},
   "outputs": [
    {
     "name": "stdout",
     "output_type": "stream",
     "text": [
      "dict_values([34, 35, 'orange', 'hillsborough'])\n"
     ]
    }
   ],
   "source": [
    "print(plakalar.values())"
   ]
  },
  {
   "cell_type": "code",
   "execution_count": 47,
   "metadata": {},
   "outputs": [],
   "source": [
    "plakalar[\"ankara\"] = 6"
   ]
  },
  {
   "cell_type": "code",
   "execution_count": 48,
   "metadata": {},
   "outputs": [
    {
     "name": "stdout",
     "output_type": "stream",
     "text": [
      "dict_items([('istanbul', 34), ('izmir', 35), ('orlando', 'orange'), ('tampa', 'hillsborough'), ('ankara', 6)])\n"
     ]
    }
   ],
   "source": [
    "print(plakalar.items())"
   ]
  },
  {
   "cell_type": "code",
   "execution_count": 49,
   "metadata": {},
   "outputs": [
    {
     "data": {
      "text/plain": [
       "{'istanbul': 34,\n",
       " 'izmir': 35,\n",
       " 'orlando': 'orange',\n",
       " 'tampa': 'hillsborough',\n",
       " 'ankara': 6}"
      ]
     },
     "execution_count": 49,
     "metadata": {},
     "output_type": "execute_result"
    }
   ],
   "source": [
    "plakalar\n"
   ]
  },
  {
   "cell_type": "code",
   "execution_count": 22,
   "metadata": {},
   "outputs": [],
   "source": [
    "#örnek uygulama\n",
    "\n",
    "worker = {\n",
    "    1001:\n",
    "    {\n",
    "        \"worker_id\" : 1001,\n",
    "        \"emp_name\" : \"Toygar Par\",\n",
    "        \"start\" : 1974,\n",
    "        \"eva\" : [80, 90, 85]\n",
    "\n",
    "    } ,\n",
    "    1002:\n",
    "    {\n",
    "        \"worker_id\" : 1002,\n",
    "        \"emp_name\" : \"Böçüş Par\",\n",
    "        \"start\" : 2014,\n",
    "        \"eva\" : [98, 90, 95]\n",
    "    },\n",
    "    1003:\n",
    "    {\n",
    "        \"worker_id\" : 1003,\n",
    "        \"emp_name\" : \"Taco Par\",\n",
    "        \"start\" : 2000,\n",
    "        \"eva\" : [90, 90, 85]\n",
    "    }\n",
    "}"
   ]
  },
  {
   "cell_type": "code",
   "execution_count": 23,
   "metadata": {},
   "outputs": [
    {
     "name": "stdout",
     "output_type": "stream",
     "text": [
      "{1001: {'worker_id': 1001, 'emp_name': 'Toygar Par', 'start': 1974, 'eva': [80, 90, 85]}, 1002: {'worker_id': 1002, 'emp_name': 'Böçüş Par', 'start': 2014, 'eva': [98, 90, 95]}, 1003: {'worker_id': 1003, 'emp_name': 'Taco Par', 'start': 2000, 'eva': [90, 90, 85]}}\n"
     ]
    }
   ],
   "source": [
    "print(worker)"
   ]
  },
  {
   "cell_type": "code",
   "execution_count": 24,
   "metadata": {},
   "outputs": [
    {
     "name": "stdout",
     "output_type": "stream",
     "text": [
      "{'worker_id': 1001, 'emp_name': 'Toygar Par', 'start': 1974, 'eva': [80, 90, 85]}\n"
     ]
    }
   ],
   "source": [
    "worker_idnum = int(input(\"Çalışan No: \"))\n",
    "print(worker[worker_idnum])\n"
   ]
  },
  {
   "cell_type": "code",
   "execution_count": 25,
   "metadata": {},
   "outputs": [],
   "source": [
    "employee = worker[worker_idnum]\n",
    "\n",
    "eva_ort = (employee[\"eva\"][0] + employee[\"eva\"][0] + employee[\"eva\"][0]) / len(employee[\"eva\"])"
   ]
  },
  {
   "cell_type": "code",
   "execution_count": 26,
   "metadata": {},
   "outputs": [
    {
     "name": "stdout",
     "output_type": "stream",
     "text": [
      "1001 numaralı Toygar Par ismindeki çalışanın işe başlangıç tarihi 1974 ve evaluation ortalaması 80.0\n"
     ]
    }
   ],
   "source": [
    "print(f\"{worker_idnum} numaralı {employee[\"emp_name\"]} ismindeki çalışanın işe başlangıç tarihi {employee[\"start\"]} ve evaluation ortalaması {eva_ort}\")"
   ]
  },
  {
   "cell_type": "code",
   "execution_count": 33,
   "metadata": {},
   "outputs": [],
   "source": [
    "worker_idnum = int(input(\"Çalışan No: \"))\n",
    "worker_name_input = input(\"İsim Soyad Giriniz: \")\n",
    "wstartday  = int(input(\"Başlangıç Yılı: \"))\n",
    "wewa = input(\"Değerlendirme Notları: \")\n",
    "lwewa = wewa.split(\" \")\n",
    "ort_eva = []\n",
    "for x in lwewa:\n",
    "   ort_eva.append(int(x))\n"
   ]
  },
  {
   "cell_type": "code",
   "execution_count": 34,
   "metadata": {},
   "outputs": [],
   "source": [
    "worker[worker_idnum] = {\n",
    "        \"worker_id\" : worker_idnum,\n",
    "        \"emp_name\" : worker_name_input,\n",
    "        \"start\" : wstartday,\n",
    "        \"eva\" : lwewa\n",
    "}"
   ]
  },
  {
   "cell_type": "code",
   "execution_count": 35,
   "metadata": {},
   "outputs": [
    {
     "name": "stdout",
     "output_type": "stream",
     "text": [
      "{1001: {'worker_id': 1001, 'emp_name': 'Toygar Par', 'start': 1974, 'eva': [80, 90, 85]}, 1002: {'worker_id': 1002, 'emp_name': 'Böçüş Par', 'start': 2014, 'eva': [98, 90, 95]}, 1003: {'worker_id': 1003, 'emp_name': 'Taco Par', 'start': 2000, 'eva': [90, 90, 85]}, 1004: {'worker_id': 1004, 'emp_name': 'Buzz Par', 'start': 1993, 'eva': ['90', '95', '97']}}\n"
     ]
    }
   ],
   "source": [
    "print(worker)"
   ]
  },
  {
   "cell_type": "code",
   "execution_count": 37,
   "metadata": {},
   "outputs": [],
   "source": [
    "#dict metotları\n",
    "\n",
    "oyuncu = {\n",
    "    \"oyuncuadi\" : \"Cansu\",\n",
    "    \"oyuncusoyadi\" : \"Özbay\",\n",
    "    \"pozisyon\" : \"Pasör\",\n",
    "    \"boy\" : 182,\n",
    "    \"dogumtarihi\" : 1996\n",
    "\n",
    "}"
   ]
  },
  {
   "cell_type": "code",
   "execution_count": 38,
   "metadata": {},
   "outputs": [],
   "source": [
    "vakifbank = [\n",
    "    {\n",
    "    \"oyuncuadi\" : \"Cansu\",\n",
    "    \"oyuncusoyadi\" : \"Özbay\",\n",
    "    \"pozisyon\" : \"Pasör\",\n",
    "    \"boy\" : 182,\n",
    "    \"dogumtarihi\" : 1996\n",
    "\n",
    "},\n",
    "\n",
    "{\n",
    "    \"oyuncuadi\" : \"Kendall\",\n",
    "    \"oyuncusoyadi\" : \"Kipp\",\n",
    "    \"pozisyon\" : \"Pasör Çaprazı\",\n",
    "    \"boy\" : 198,\n",
    "    \"dogumtarihi\" : 2000\n",
    "\n",
    "},\n",
    "\n",
    "{\n",
    "    \"oyuncuadi\" : \"Zehra\",\n",
    "    \"oyuncusoyadi\" : \"Güneş\",\n",
    "    \"pozisyon\" : \"Orta Oyuncu\",\n",
    "    \"boy\" : 198,\n",
    "    \"dogumtarihi\" : 1999\n",
    "\n",
    "}\n",
    "]"
   ]
  },
  {
   "cell_type": "code",
   "execution_count": 39,
   "metadata": {},
   "outputs": [
    {
     "data": {
      "text/plain": [
       "'Cansu'"
      ]
     },
     "execution_count": 39,
     "metadata": {},
     "output_type": "execute_result"
    }
   ],
   "source": [
    "oyuncu[\"oyuncuadi\"]"
   ]
  },
  {
   "cell_type": "code",
   "execution_count": 40,
   "metadata": {},
   "outputs": [
    {
     "data": {
      "text/plain": [
       "'Cansu'"
      ]
     },
     "execution_count": 40,
     "metadata": {},
     "output_type": "execute_result"
    }
   ],
   "source": [
    "oyuncu.get(\"oyuncuadi\")"
   ]
  },
  {
   "cell_type": "code",
   "execution_count": 44,
   "metadata": {},
   "outputs": [
    {
     "data": {
      "text/plain": [
       "dict_items([('oyuncuadi', 'Cansu'), ('oyuncusoyadi', 'Özbay'), ('pozisyon', 'Pasör'), ('boy', 182), ('dogumtarihi', 1996)])"
      ]
     },
     "execution_count": 44,
     "metadata": {},
     "output_type": "execute_result"
    }
   ],
   "source": [
    "oyuncu.items()"
   ]
  },
  {
   "cell_type": "code",
   "execution_count": 45,
   "metadata": {},
   "outputs": [
    {
     "data": {
      "text/plain": [
       "dict_keys(['oyuncuadi', 'oyuncusoyadi', 'pozisyon', 'boy', 'dogumtarihi'])"
      ]
     },
     "execution_count": 45,
     "metadata": {},
     "output_type": "execute_result"
    }
   ],
   "source": [
    "oyuncu.keys()"
   ]
  },
  {
   "cell_type": "code",
   "execution_count": 46,
   "metadata": {},
   "outputs": [
    {
     "data": {
      "text/plain": [
       "dict_values(['Cansu', 'Özbay', 'Pasör', 182, 1996])"
      ]
     },
     "execution_count": 46,
     "metadata": {},
     "output_type": "execute_result"
    }
   ],
   "source": [
    "oyuncu.values()"
   ]
  },
  {
   "cell_type": "code",
   "execution_count": 47,
   "metadata": {},
   "outputs": [],
   "source": [
    "#update\n",
    "oyuncu[\"oyuncuadi\"] = \"Sıla\"\n",
    "oyuncu[\"oyuncusoyadi\"] = \"Çalışkan\"\n",
    "oyuncu[\"boy\"] = 183"
   ]
  },
  {
   "cell_type": "code",
   "execution_count": 48,
   "metadata": {},
   "outputs": [
    {
     "data": {
      "text/plain": [
       "{'oyuncuadi': 'Sıla',\n",
       " 'oyuncusoyadi': 'Çalışkan',\n",
       " 'pozisyon': 'Pasör',\n",
       " 'boy': 183,\n",
       " 'dogumtarihi': 1996}"
      ]
     },
     "execution_count": 48,
     "metadata": {},
     "output_type": "execute_result"
    }
   ],
   "source": [
    "oyuncu"
   ]
  },
  {
   "cell_type": "code",
   "execution_count": 49,
   "metadata": {},
   "outputs": [
    {
     "data": {
      "text/plain": [
       "{'oyuncuadi': 'Cansu',\n",
       " 'oyuncusoyadi': 'Özbay',\n",
       " 'pozisyon': 'Pasör',\n",
       " 'boy': 182,\n",
       " 'dogumtarihi': 1996}"
      ]
     },
     "execution_count": 49,
     "metadata": {},
     "output_type": "execute_result"
    }
   ],
   "source": [
    "oyuncu.update({\n",
    "    \"oyuncuadi\" : \"Cansu\",\n",
    "    \"oyuncusoyadi\" : \"Özbay\",\n",
    "    \"pozisyon\" : \"Pasör\",\n",
    "    \"boy\" : 182,\n",
    "    \"dogumtarihi\" : 1996\n",
    "\n",
    "})\n",
    "\n",
    "oyuncu"
   ]
  },
  {
   "cell_type": "code",
   "execution_count": 51,
   "metadata": {},
   "outputs": [
    {
     "data": {
      "text/plain": [
       "{'oyuncuadi': 'Cansu',\n",
       " 'oyuncusoyadi': 'Özbay',\n",
       " 'pozisyon': 'Pasör',\n",
       " 'boy': 182,\n",
       " 'dogumtarihi': 1996,\n",
       " 'antrenör': 'Giovanni'}"
      ]
     },
     "execution_count": 51,
     "metadata": {},
     "output_type": "execute_result"
    }
   ],
   "source": [
    "#delete items\n",
    "oyuncu[\"antrenör\"] = \"Giovanni\"\n",
    "oyuncu"
   ]
  },
  {
   "cell_type": "code",
   "execution_count": 52,
   "metadata": {},
   "outputs": [
    {
     "data": {
      "text/plain": [
       "{'oyuncuadi': 'Cansu',\n",
       " 'oyuncusoyadi': 'Özbay',\n",
       " 'pozisyon': 'Pasör',\n",
       " 'boy': 182,\n",
       " 'dogumtarihi': 1996}"
      ]
     },
     "execution_count": 52,
     "metadata": {},
     "output_type": "execute_result"
    }
   ],
   "source": [
    "oyuncu.pop(\"antrenör\")\n",
    "oyuncu"
   ]
  },
  {
   "cell_type": "code",
   "execution_count": 53,
   "metadata": {},
   "outputs": [
    {
     "data": {
      "text/plain": [
       "{'oyuncuadi': 'Cansu',\n",
       " 'oyuncusoyadi': 'Özbay',\n",
       " 'pozisyon': 'Pasör',\n",
       " 'boy': 182,\n",
       " 'dogumtarihi': 1996,\n",
       " 'antrenör': 'Giovanni'}"
      ]
     },
     "execution_count": 53,
     "metadata": {},
     "output_type": "execute_result"
    }
   ],
   "source": [
    "oyuncu[\"antrenör\"] = \"Giovanni\"\n",
    "oyuncu"
   ]
  },
  {
   "cell_type": "code",
   "execution_count": 54,
   "metadata": {},
   "outputs": [
    {
     "data": {
      "text/plain": [
       "{'oyuncuadi': 'Cansu',\n",
       " 'oyuncusoyadi': 'Özbay',\n",
       " 'pozisyon': 'Pasör',\n",
       " 'boy': 182,\n",
       " 'dogumtarihi': 1996}"
      ]
     },
     "execution_count": 54,
     "metadata": {},
     "output_type": "execute_result"
    }
   ],
   "source": [
    "oyuncu.popitem()\n",
    "oyuncu"
   ]
  },
  {
   "cell_type": "markdown",
   "metadata": {},
   "source": [
    "SETS\n",
    "\n",
    "unordered collections\n",
    "\n",
    "unique values\n",
    "\n",
    "not indexed\n",
    "\n",
    "immutable\n",
    "\n",
    "add or delete elements\n",
    "\n",
    "fruit = { \"apple\", \"banana\"}"
   ]
  },
  {
   "cell_type": "code",
   "execution_count": 55,
   "metadata": {},
   "outputs": [
    {
     "data": {
      "text/plain": [
       "{'Cansu', 'Marina', 'Zehra'}"
      ]
     },
     "execution_count": 55,
     "metadata": {},
     "output_type": "execute_result"
    }
   ],
   "source": [
    "oyuncular = { \"Zehra\", \"Marina\", \"Cansu\"}\n",
    "\n",
    "oyuncular"
   ]
  },
  {
   "cell_type": "code",
   "execution_count": 57,
   "metadata": {},
   "outputs": [
    {
     "data": {
      "text/plain": [
       "{'Cansu', 'Marina', 'Zehra'}"
      ]
     },
     "execution_count": 57,
     "metadata": {},
     "output_type": "execute_result"
    }
   ],
   "source": [
    "oyuncular = { \"Zehra\", \"Marina\", \"Cansu\", \"Zehra\"}  #tekrarlayan eleman listelenmez\n",
    "\n",
    "oyuncular"
   ]
  },
  {
   "cell_type": "code",
   "execution_count": 58,
   "metadata": {},
   "outputs": [
    {
     "name": "stdout",
     "output_type": "stream",
     "text": [
      "Zehra\n",
      "Cansu\n",
      "Marina\n"
     ]
    }
   ],
   "source": [
    "for x in oyuncular:\n",
    "    print(x)"
   ]
  },
  {
   "cell_type": "code",
   "execution_count": 59,
   "metadata": {},
   "outputs": [
    {
     "data": {
      "text/plain": [
       "True"
      ]
     },
     "execution_count": 59,
     "metadata": {},
     "output_type": "execute_result"
    }
   ],
   "source": [
    "\"Zehra\" in oyuncular\n"
   ]
  },
  {
   "cell_type": "code",
   "execution_count": 60,
   "metadata": {},
   "outputs": [
    {
     "data": {
      "text/plain": [
       "False"
      ]
     },
     "execution_count": 60,
     "metadata": {},
     "output_type": "execute_result"
    }
   ],
   "source": [
    "\"Caterina\" in oyuncular"
   ]
  },
  {
   "cell_type": "code",
   "execution_count": 61,
   "metadata": {},
   "outputs": [
    {
     "data": {
      "text/plain": [
       "{'Cansu', 'Frantti', 'Marina', 'Zehra'}"
      ]
     },
     "execution_count": 61,
     "metadata": {},
     "output_type": "execute_result"
    }
   ],
   "source": [
    "#ekleme\n",
    "oyuncular.add(\"Frantti\")\n",
    "oyuncular"
   ]
  },
  {
   "cell_type": "code",
   "execution_count": 62,
   "metadata": {},
   "outputs": [],
   "source": [
    "oyuncular2 = {\"Caterina\", \"Xinyue Yuan\", \"Van Ryk\", \"Derya\"}"
   ]
  },
  {
   "cell_type": "code",
   "execution_count": 64,
   "metadata": {},
   "outputs": [
    {
     "data": {
      "text/plain": [
       "{'Cansu',\n",
       " 'Caterina',\n",
       " 'Derya',\n",
       " 'Frantti',\n",
       " 'Marina',\n",
       " 'Van Ryk',\n",
       " 'Xinyue Yuan',\n",
       " 'Zehra'}"
      ]
     },
     "execution_count": 64,
     "metadata": {},
     "output_type": "execute_result"
    }
   ],
   "source": [
    "oyuncular.update(oyuncular2)\n",
    "oyuncular"
   ]
  },
  {
   "cell_type": "code",
   "execution_count": 65,
   "metadata": {},
   "outputs": [
    {
     "data": {
      "text/plain": [
       "{'Cansu', 'Caterina', 'Frantti', 'Marina', 'Van Ryk', 'Xinyue Yuan', 'Zehra'}"
      ]
     },
     "execution_count": 65,
     "metadata": {},
     "output_type": "execute_result"
    }
   ],
   "source": [
    "oyuncular.remove(\"Derya\")\n",
    "oyuncular"
   ]
  },
  {
   "cell_type": "code",
   "execution_count": 66,
   "metadata": {},
   "outputs": [
    {
     "data": {
      "text/plain": [
       "{'Cansu', 'Caterina', 'Marina', 'Van Ryk', 'Xinyue Yuan', 'Zehra'}"
      ]
     },
     "execution_count": 66,
     "metadata": {},
     "output_type": "execute_result"
    }
   ],
   "source": [
    "oyuncular.discard(\"Frantti\") #remove ile discard aynı görevi yapar\n",
    "oyuncular"
   ]
  },
  {
   "cell_type": "code",
   "execution_count": 67,
   "metadata": {},
   "outputs": [
    {
     "data": {
      "text/plain": [
       "{'Cansu', 'Caterina', 'Marina', 'Van Ryk', 'Xinyue Yuan'}"
      ]
     },
     "execution_count": 67,
     "metadata": {},
     "output_type": "execute_result"
    }
   ],
   "source": [
    "oyuncular.pop()\n",
    "oyuncular"
   ]
  },
  {
   "cell_type": "markdown",
   "metadata": {},
   "source": [
    "VALUE AND REFERENCE TYPE"
   ]
  },
  {
   "cell_type": "code",
   "execution_count": 2,
   "metadata": {},
   "outputs": [
    {
     "name": "stdout",
     "output_type": "stream",
     "text": [
      "1 2\n"
     ]
    }
   ],
   "source": [
    "x = 1\n",
    "\n",
    "y = 2\n",
    "\n",
    "print(x, y)"
   ]
  },
  {
   "cell_type": "code",
   "execution_count": 3,
   "metadata": {},
   "outputs": [
    {
     "name": "stdout",
     "output_type": "stream",
     "text": [
      "2 2\n"
     ]
    }
   ],
   "source": [
    "x = y \n",
    "print(x,y)"
   ]
  },
  {
   "cell_type": "code",
   "execution_count": 5,
   "metadata": {},
   "outputs": [
    {
     "name": "stdout",
     "output_type": "stream",
     "text": [
      "2 3\n"
     ]
    }
   ],
   "source": [
    "y= 3\n",
    "print(x, y)"
   ]
  },
  {
   "cell_type": "code",
   "execution_count": 12,
   "metadata": {},
   "outputs": [
    {
     "data": {
      "text/plain": [
       "126928889239360"
      ]
     },
     "execution_count": 12,
     "metadata": {},
     "output_type": "execute_result"
    }
   ],
   "source": [
    "a = [ \"apple\", \"banana\"]\n",
    "\n",
    "b = [ \"apple\", \"banana\"]\n",
    "\n",
    "id(a)"
   ]
  },
  {
   "cell_type": "code",
   "execution_count": 13,
   "metadata": {},
   "outputs": [
    {
     "data": {
      "text/plain": [
       "126929008173184"
      ]
     },
     "execution_count": 13,
     "metadata": {},
     "output_type": "execute_result"
    }
   ],
   "source": [
    "id(b) #id() function gives you the memory address represented by a num value"
   ]
  },
  {
   "cell_type": "code",
   "execution_count": 14,
   "metadata": {},
   "outputs": [],
   "source": [
    "a = b #copy address\n"
   ]
  },
  {
   "cell_type": "code",
   "execution_count": 15,
   "metadata": {},
   "outputs": [
    {
     "data": {
      "text/plain": [
       "126929008173184"
      ]
     },
     "execution_count": 15,
     "metadata": {},
     "output_type": "execute_result"
    }
   ],
   "source": [
    "id(a)"
   ]
  },
  {
   "cell_type": "code",
   "execution_count": 16,
   "metadata": {},
   "outputs": [
    {
     "data": {
      "text/plain": [
       "['avocado', 'banana']"
      ]
     },
     "execution_count": 16,
     "metadata": {},
     "output_type": "execute_result"
    }
   ],
   "source": [
    "a[0] = \"avocado\"\n",
    "\n",
    "b"
   ]
  },
  {
   "cell_type": "code",
   "execution_count": 17,
   "metadata": {},
   "outputs": [],
   "source": [
    "listeA = [1 ,2]\n",
    "listeB = listeA"
   ]
  },
  {
   "cell_type": "code",
   "execution_count": 18,
   "metadata": {},
   "outputs": [
    {
     "data": {
      "text/plain": [
       "126928889251072"
      ]
     },
     "execution_count": 18,
     "metadata": {},
     "output_type": "execute_result"
    }
   ],
   "source": [
    "id(listeA)"
   ]
  },
  {
   "cell_type": "code",
   "execution_count": 19,
   "metadata": {},
   "outputs": [
    {
     "data": {
      "text/plain": [
       "126928889251072"
      ]
     },
     "execution_count": 19,
     "metadata": {},
     "output_type": "execute_result"
    }
   ],
   "source": [
    "id(listeB)"
   ]
  },
  {
   "cell_type": "code",
   "execution_count": 21,
   "metadata": {},
   "outputs": [
    {
     "data": {
      "text/plain": [
       "[1, 3]"
      ]
     },
     "execution_count": 21,
     "metadata": {},
     "output_type": "execute_result"
    }
   ],
   "source": [
    "listeB[1] = 3\n",
    "listeA"
   ]
  },
  {
   "cell_type": "code",
   "execution_count": 22,
   "metadata": {},
   "outputs": [
    {
     "data": {
      "text/plain": [
       "[1, 2]"
      ]
     },
     "execution_count": 22,
     "metadata": {},
     "output_type": "execute_result"
    }
   ],
   "source": [
    "listeA = [1 ,2]\n",
    "listeB = listeA.copy() #listenin kopyası farkli iki adreste oluşturulur\n",
    "listeB"
   ]
  },
  {
   "cell_type": "code",
   "execution_count": 23,
   "metadata": {},
   "outputs": [
    {
     "data": {
      "text/plain": [
       "[1, 3]"
      ]
     },
     "execution_count": 23,
     "metadata": {},
     "output_type": "execute_result"
    }
   ],
   "source": [
    "listeB[1] = 3\n",
    "listeB"
   ]
  },
  {
   "cell_type": "code",
   "execution_count": 24,
   "metadata": {},
   "outputs": [
    {
     "data": {
      "text/plain": [
       "[1, 2]"
      ]
     },
     "execution_count": 24,
     "metadata": {},
     "output_type": "execute_result"
    }
   ],
   "source": [
    "listeA"
   ]
  },
  {
   "cell_type": "code",
   "execution_count": 25,
   "metadata": {},
   "outputs": [],
   "source": [
    "#kopya oluşturmak için diğer yollar\n",
    "listeC = list(listeA)\n",
    "listeD = listeA[:]"
   ]
  },
  {
   "cell_type": "code",
   "execution_count": 26,
   "metadata": {},
   "outputs": [
    {
     "data": {
      "text/plain": [
       "[1, 2]"
      ]
     },
     "execution_count": 26,
     "metadata": {},
     "output_type": "execute_result"
    }
   ],
   "source": [
    "listeC"
   ]
  },
  {
   "cell_type": "code",
   "execution_count": 27,
   "metadata": {},
   "outputs": [
    {
     "data": {
      "text/plain": [
       "[1, 2]"
      ]
     },
     "execution_count": 27,
     "metadata": {},
     "output_type": "execute_result"
    }
   ],
   "source": [
    "listeD"
   ]
  },
  {
   "cell_type": "code",
   "execution_count": 28,
   "metadata": {},
   "outputs": [],
   "source": [
    "listeC[1] = 5\n",
    "listeD[1] = 7"
   ]
  },
  {
   "cell_type": "code",
   "execution_count": 29,
   "metadata": {},
   "outputs": [
    {
     "data": {
      "text/plain": [
       "[1, 2]"
      ]
     },
     "execution_count": 29,
     "metadata": {},
     "output_type": "execute_result"
    }
   ],
   "source": [
    "listeA"
   ]
  },
  {
   "cell_type": "code",
   "execution_count": 30,
   "metadata": {},
   "outputs": [
    {
     "data": {
      "text/plain": [
       "[1, 5]"
      ]
     },
     "execution_count": 30,
     "metadata": {},
     "output_type": "execute_result"
    }
   ],
   "source": [
    "listeC"
   ]
  },
  {
   "cell_type": "code",
   "execution_count": 31,
   "metadata": {},
   "outputs": [
    {
     "data": {
      "text/plain": [
       "[1, 7]"
      ]
     },
     "execution_count": 31,
     "metadata": {},
     "output_type": "execute_result"
    }
   ],
   "source": [
    "listeD"
   ]
  },
  {
   "cell_type": "code",
   "execution_count": null,
   "metadata": {},
   "outputs": [],
   "source": []
  }
 ],
 "metadata": {
  "kernelspec": {
   "display_name": "base",
   "language": "python",
   "name": "python3"
  },
  "language_info": {
   "codemirror_mode": {
    "name": "ipython",
    "version": 3
   },
   "file_extension": ".py",
   "mimetype": "text/x-python",
   "name": "python",
   "nbconvert_exporter": "python",
   "pygments_lexer": "ipython3",
   "version": "3.12.4"
  }
 },
 "nbformat": 4,
 "nbformat_minor": 2
}
