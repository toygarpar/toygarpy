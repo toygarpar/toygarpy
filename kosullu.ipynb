{
 "cells": [
  {
   "cell_type": "markdown",
   "metadata": {},
   "source": [
    "Conditional Flows / Koşullu Akışlar"
   ]
  },
  {
   "cell_type": "code",
   "execution_count": 1,
   "metadata": {},
   "outputs": [
    {
     "name": "stdout",
     "output_type": "stream",
     "text": [
      "Fak Yuuu Fak dı sistım\n"
     ]
    }
   ],
   "source": [
    "if (True):\n",
    "    print(\"Fak Yuuu Fak dı sistım\")"
   ]
  },
  {
   "cell_type": "code",
   "execution_count": 2,
   "metadata": {},
   "outputs": [
    {
     "name": "stdout",
     "output_type": "stream",
     "text": [
      "Hello\n"
     ]
    }
   ],
   "source": [
    "if (7 > 5):\n",
    "    print(\"Hello\")"
   ]
  },
  {
   "cell_type": "code",
   "execution_count": 3,
   "metadata": {},
   "outputs": [
    {
     "name": "stdout",
     "output_type": "stream",
     "text": [
      "Condition proves to be true\n"
     ]
    }
   ],
   "source": [
    "res = 11 > 9\n",
    "\n",
    "if(res):\n",
    "    print(\"Condition proves to be true\")"
   ]
  },
  {
   "cell_type": "code",
   "execution_count": 4,
   "metadata": {},
   "outputs": [
    {
     "name": "stdout",
     "output_type": "stream",
     "text": [
      "Login başarılı\n"
     ]
    }
   ],
   "source": [
    "login = True\n",
    "\n",
    "if (login == True):\n",
    "    print(\"Login başarılı\")"
   ]
  },
  {
   "cell_type": "code",
   "execution_count": 7,
   "metadata": {},
   "outputs": [
    {
     "name": "stdout",
     "output_type": "stream",
     "text": [
      "email veya parola yanlış\n"
     ]
    }
   ],
   "source": [
    "email = \"toygar@par.com\"\n",
    "parola = \"passwdt\"\n",
    "login = ( email == \"toygar@par.com\") and (parola == \"passwd\")\n",
    "\n",
    "if (login):\n",
    "    print(\"login succeded\")\n",
    "\n",
    "else:\n",
    "    print(\"email veya parola yanlış\")"
   ]
  },
  {
   "cell_type": "code",
   "execution_count": 10,
   "metadata": {},
   "outputs": [
    {
     "name": "stdout",
     "output_type": "stream",
     "text": [
      "email veya parola yanlış\n"
     ]
    }
   ],
   "source": [
    "email = \"toygar@par.com\"\n",
    "parola = \"passwdt\"\n",
    "login = ( email == \"toygar@par.com\") and (parola == \"passwd\")\n",
    "\n",
    "if not (login):\n",
    "    print(\"email veya parola yanlış\")\n",
    "\n",
    "else:\n",
    "    print(\"login başarılı\")"
   ]
  },
  {
   "cell_type": "code",
   "execution_count": 14,
   "metadata": {},
   "outputs": [
    {
     "name": "stdout",
     "output_type": "stream",
     "text": [
      "parola yanlış\n"
     ]
    }
   ],
   "source": [
    "email = \"toygar@par.com\"\n",
    "parola = \"passwdt\"\n",
    "\n",
    "if ( email == \"toygar@par.com\"):\n",
    "    if (parola == \"passwd\"):\n",
    "        print(\"login succeded\")\n",
    "    else:\n",
    "        print(\"parola yanlış\")\n",
    "\n",
    "else:\n",
    "    print(\"email yanlış\")"
   ]
  },
  {
   "cell_type": "code",
   "execution_count": 16,
   "metadata": {},
   "outputs": [
    {
     "name": "stdout",
     "output_type": "stream",
     "text": [
      "uygulamaya login olundu\n"
     ]
    }
   ],
   "source": [
    "#if/elif/else blokları\n",
    "email = \"toygar@par.com\"\n",
    "parola = \"passwd\"\n",
    "\n",
    "if ( email != \"toygar@par.com\"):\n",
    "    printr(\"Email yanlış\")\n",
    "\n",
    "elif (parola != \"passwd\"):\n",
    "    print(\"parola yanlış\")\n",
    "    \n",
    "else:\n",
    "    print(\"uygulamaya login olundu\")\n",
    "\n"
   ]
  },
  {
   "cell_type": "code",
   "execution_count": 17,
   "metadata": {},
   "outputs": [
    {
     "name": "stdout",
     "output_type": "stream",
     "text": [
      "a b'den küçük\n"
     ]
    }
   ],
   "source": [
    "a = 1\n",
    "\n",
    "b = 2\n",
    "\n",
    "\n",
    "if (a < b):\n",
    "    print(\"a b'den küçük\")\n",
    "\n",
    "elif (a > b):\n",
    "    print(\"a b2den büyüktür\")\n",
    "\n",
    "else:\n",
    "    print(\"a b'ye esşittir\")"
   ]
  },
  {
   "cell_type": "code",
   "execution_count": 19,
   "metadata": {},
   "outputs": [],
   "source": [
    "#uygulamalar\n",
    "gasoline_price = 3.89\n",
    "diesel_price = 4.25\n",
    "lpg_price = 0.99\n",
    "\n",
    "kmgasoline = 40\n",
    "kmdiesel = 60\n",
    "kmlpg = 30\n",
    "\n"
   ]
  },
  {
   "cell_type": "code",
   "execution_count": 25,
   "metadata": {},
   "outputs": [
    {
     "name": "stdout",
     "output_type": "stream",
     "text": [
      "LitresUsed: 12.5\n",
      "Yakıt Maliyeti: 48.625\n"
     ]
    }
   ],
   "source": [
    "mesafe = float(input(\"Mesafe bilgisi: \"))\n",
    "               \n",
    "fueltype = input(\"Yakıt tipi giriniz: \")\n",
    "\n",
    "def yakittipi(fueltype):\n",
    "    if fueltype == \"gasoline\":\n",
    "        return kmgasoline\n",
    "    elif fueltype == \"diesel\":\n",
    "        return kmdiesel\n",
    "    else:\n",
    "        return kmlpg\n",
    "\n",
    "def fuelused(fueltype):\n",
    "    if fueltype == \"gasoline\":\n",
    "        return gasoline_price\n",
    "    elif fueltype == \"diesel\":\n",
    "        return diesel_price\n",
    "    else:\n",
    "        return lpg_price\n",
    "\n",
    "\n",
    "fueltip = yakittipi(fueltype) \n",
    "usedfuel = fuelused(fueltype)\n",
    "\n",
    "\n",
    "\n",
    "litresused = mesafe / fueltip\n",
    "print(\"LitresUsed:\", litresused)\n",
    "\n",
    "costoffuel = litresused * usedfuel\n",
    "print(\"Yakıt Maliyeti:\", costoffuel)"
   ]
  },
  {
   "cell_type": "code",
   "execution_count": 32,
   "metadata": {},
   "outputs": [
    {
     "name": "stdout",
     "output_type": "stream",
     "text": [
      "55.0\n"
     ]
    }
   ],
   "source": [
    "notort = input(\"araya boşluk koyarak iki not girin: \")\n",
    "nort = notort.split(\" \")\n",
    "\n",
    "ort = (int(nort[0]) + int(nort[1]))/len(nort)\n",
    "print(ort)\n"
   ]
  },
  {
   "cell_type": "code",
   "execution_count": 33,
   "metadata": {},
   "outputs": [
    {
     "name": "stdout",
     "output_type": "stream",
     "text": [
      "Not değerlendirmesi:3\n"
     ]
    }
   ],
   "source": [
    "if ort <= 24:\n",
    "    print(\"Not değerlendirmesi:0\")\n",
    "elif(25<= ort <=44):\n",
    "    print(\"Not değerlendirmesi:1\")\n",
    "elif(45 <= ort <=54):\n",
    "    print(\"Not değerlendirmesi:2\")\n",
    "elif(55 <= ort <=69):\n",
    "    print(\"Not değerlendirmesi:3\")\n",
    "elif(70 <= ort <=84):\n",
    "    print(\"Not değerlendirmesi:1\")\n",
    "elif(85 <= ort <=100):\n",
    "    print(\"Not değerlendirmesi:1\")\n",
    "else:\n",
    "    print(\"geçersiz input\")\n",
    "          \n",
    "\n"
   ]
  },
  {
   "cell_type": "code",
   "execution_count": null,
   "metadata": {},
   "outputs": [],
   "source": []
  }
 ],
 "metadata": {
  "kernelspec": {
   "display_name": "base",
   "language": "python",
   "name": "python3"
  },
  "language_info": {
   "codemirror_mode": {
    "name": "ipython",
    "version": 3
   },
   "file_extension": ".py",
   "mimetype": "text/x-python",
   "name": "python",
   "nbconvert_exporter": "python",
   "pygments_lexer": "ipython3",
   "version": "3.12.4"
  }
 },
 "nbformat": 4,
 "nbformat_minor": 2
}
