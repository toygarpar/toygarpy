{
 "cells": [
  {
   "cell_type": "markdown",
   "metadata": {},
   "source": [
    "---"
   ]
  },
  {
   "cell_type": "markdown",
   "metadata": {},
   "source": [
    "<div style=\"padding:20px; \n",
    "            color:#36FF00;\n",
    "            margin:10px;\n",
    "            font-size:110%;\n",
    "            display:inline;\n",
    "            border-radius:10px;\n",
    "            border-style: solid;\n",
    "            border-color: #36FF00;\n",
    "            background-color:#000000;\n",
    "            overflow:hidden;\n",
    "            font-weight:500\">Web Scraping\n",
    "            </div>\n",
    "\n",
    "\n",
    "\n",
    "---\n",
    "\n",
    "Web kazıma, web sitelerinden veri çıkarma işlemi, internetin uçsuz bucaksız alanından bilgi toplamak için güçlü bir teknik olarak ortaya çıkmıştır.\n",
    "\n",
    "Web scraping, the process of extracting data from websites, has emerged as a powerful technique to gather information from the vast expanse of the internet.\n"
   ]
  },
  {
   "cell_type": "code",
   "execution_count": 101,
   "metadata": {},
   "outputs": [],
   "source": [
    "#Örnek bir html sayfasını sıfırdan yapalım ve html değişkenine atayalım:\n",
    "\n",
    "html_doc = \"\"\"\n",
    "\n",
    "<!DOCTYPE html>\n",
    "<html lang=\"en\">\n",
    "<head>\n",
    "<meta charset=\"UTF-8\">\n",
    "    <meta name=\"viewport\" content=\"width=device-width, initial-scale=1.0\">\n",
    "    <title>İlk Web Sayfası</title>\n",
    "</head>\n",
    "<body>\n",
    "<h1 id =\"header\">\n",
    "        Python Kursu\n",
    "\n",
    "    </h1>\n",
    "        <div class=\"grup1\">\n",
    "            <h2>Programlama</h2>\n",
    "            \n",
    "            <ul>\n",
    "                <li>Menu 1    </li>\n",
    "                <li>Menu 2    </li>\n",
    "                <li>Menu 3    </li>\n",
    "            </ul>\n",
    "        </div>\n",
    "\n",
    "        <div class=\"grup2\">\n",
    "            <h2>Modüller</h2>\n",
    "            \n",
    "            <ul>\n",
    "                <li>Menu 1    </li>\n",
    "                <li>Menu 2    </li>\n",
    "                <li>Menu 3    </li>\n",
    "            </ul>\n",
    "        </div>\n",
    "        \n",
    "        <div class=\"grup3\">\n",
    "           <h2>Django</h2>\n",
    "           \n",
    "           <ul>\n",
    "               <li>Menu 1    </li>\n",
    "               <li>Menu 2    </li>\n",
    "               <li>Menu 3    </li>\n",
    "           </ul>\n",
    "       </div>\n",
    "\n",
    "        <img src=\"deneme.jpg\" alt=\"\">\n",
    "        \n",
    "        <a class=\"sister\" href=\"http://example1.com/togy1\" id=\"link1\">Togy1</a>\n",
    "        <a class=\"sister\" href=\"http://example2.com/togy2\" id=\"link2\">Togy2</a>\n",
    "        <a class=\"sister\" href=\"http://example3.com/togy3\" id=\"link3\">Togy3</a>\n",
    "</body>\n",
    "</html>\n",
    "\n",
    "\"\"\""
   ]
  },
  {
   "cell_type": "code",
   "execution_count": 102,
   "metadata": {},
   "outputs": [],
   "source": [
    "from bs4 import BeautifulSoup"
   ]
  },
  {
   "cell_type": "code",
   "execution_count": 103,
   "metadata": {},
   "outputs": [
    {
     "data": {
      "text/plain": [
       "<!DOCTYPE html>\n",
       "\n",
       "<html lang=\"en\">\n",
       "<head>\n",
       "<meta charset=\"utf-8\"/>\n",
       "<meta content=\"width=device-width, initial-scale=1.0\" name=\"viewport\"/>\n",
       "<title>İlk Web Sayfası</title>\n",
       "</head>\n",
       "<body>\n",
       "<h1 id=\"header\">\n",
       "        Python Kursu\n",
       "\n",
       "    </h1>\n",
       "<div class=\"grup1\">\n",
       "<h2>Programlama</h2>\n",
       "<ul>\n",
       "<li>Menu 1    </li>\n",
       "<li>Menu 2    </li>\n",
       "<li>Menu 3    </li>\n",
       "</ul>\n",
       "</div>\n",
       "<div class=\"grup2\">\n",
       "<h2>Modüller</h2>\n",
       "<ul>\n",
       "<li>Menu 1    </li>\n",
       "<li>Menu 2    </li>\n",
       "<li>Menu 3    </li>\n",
       "</ul>\n",
       "</div>\n",
       "<div class=\"grup3\">\n",
       "<h2>Django</h2>\n",
       "<ul>\n",
       "<li>Menu 1    </li>\n",
       "<li>Menu 2    </li>\n",
       "<li>Menu 3    </li>\n",
       "</ul>\n",
       "</div>\n",
       "<img alt=\"\" src=\"deneme.jpg\"/>\n",
       "<a class=\"sister\" href=\"http://example1.com/togy1\" id=\"link1\">Togy1</a>\n",
       "<a class=\"sister\" href=\"http://example2.com/togy2\" id=\"link2\">Togy2</a>\n",
       "<a class=\"sister\" href=\"http://example3.com/togy3\" id=\"link3\">Togy3</a>\n",
       "</body>\n",
       "</html>"
      ]
     },
     "execution_count": 103,
     "metadata": {},
     "output_type": "execute_result"
    }
   ],
   "source": [
    "with open(\"index.html\") as file:\n",
    "    ornek_index_html = file.read()\n",
    "\n",
    "#geri gelecek string bilgiyi bs ile bir objeye çevirme:\n",
    "\n",
    "obje = BeautifulSoup(ornek_index_html,\"html.parser\" )\n",
    "\n",
    "obje"
   ]
  },
  {
   "cell_type": "code",
   "execution_count": 104,
   "metadata": {},
   "outputs": [
    {
     "data": {
      "text/plain": [
       "'<!DOCTYPE html>\\n<html lang=\"en\">\\n<head>\\n<meta charset=\"UTF-8\">\\n    <meta name=\"viewport\" content=\"width=device-width, initial-scale=1.0\">\\n    <title>İlk Web Sayfası</title>\\n</head>\\n<body>\\n<h1 id =\"header\">\\n        Python Kursu\\n\\n    </h1>\\n        <div class=\"grup1\">\\n            <h2>Programlama</h2>\\n            \\n            <ul>\\n                <li>Menu 1    </li>\\n                <li>Menu 2    </li>\\n                <li>Menu 3    </li>\\n            </ul>\\n        </div>\\n\\n        <div class=\"grup2\">\\n            <h2>Modüller</h2>\\n            \\n            <ul>\\n                <li>Menu 1    </li>\\n                <li>Menu 2    </li>\\n                <li>Menu 3    </li>\\n            </ul>\\n        </div>\\n        \\n        <div class=\"grup3\">\\n           <h2>Django</h2>\\n           \\n           <ul>\\n               <li>Menu 1    </li>\\n               <li>Menu 2    </li>\\n               <li>Menu 3    </li>\\n           </ul>\\n       </div>\\n\\n       \\n\\n        <img src=\"deneme.jpg\" alt=\"\">\\n        \\n        <a class=\"sister\" href=\"http://example1.com/togy1\" id=\"link1\">Togy1</a>\\n        <a class=\"sister\" href=\"http://example2.com/togy2\" id=\"link2\">Togy2</a>\\n        <a class=\"sister\" href=\"http://example3.com/togy3\" id=\"link3\">Togy3</a>\\n\\n    \\n</body>\\n</html>'"
      ]
     },
     "execution_count": 104,
     "metadata": {},
     "output_type": "execute_result"
    }
   ],
   "source": [
    "ornek_index_html\n"
   ]
  },
  {
   "cell_type": "code",
   "execution_count": 105,
   "metadata": {},
   "outputs": [
    {
     "data": {
      "text/plain": [
       "bs4.BeautifulSoup"
      ]
     },
     "execution_count": 105,
     "metadata": {},
     "output_type": "execute_result"
    }
   ],
   "source": [
    "type(obje)"
   ]
  },
  {
   "cell_type": "code",
   "execution_count": 106,
   "metadata": {},
   "outputs": [
    {
     "data": {
      "text/plain": [
       "str"
      ]
     },
     "execution_count": 106,
     "metadata": {},
     "output_type": "execute_result"
    }
   ],
   "source": [
    "type(ornek_index_html)"
   ]
  },
  {
   "cell_type": "code",
   "execution_count": 107,
   "metadata": {},
   "outputs": [
    {
     "data": {
      "text/plain": [
       "'<!DOCTYPE html>\\n<html lang=\"en\">\\n <head>\\n  <meta charset=\"utf-8\"/>\\n  <meta content=\"width=device-width, initial-scale=1.0\" name=\"viewport\"/>\\n  <title>\\n   İlk Web Sayfası\\n  </title>\\n </head>\\n <body>\\n  <h1 id=\"header\">\\n   Python Kursu\\n  </h1>\\n  <div class=\"grup1\">\\n   <h2>\\n    Programlama\\n   </h2>\\n   <ul>\\n    <li>\\n     Menu 1\\n    </li>\\n    <li>\\n     Menu 2\\n    </li>\\n    <li>\\n     Menu 3\\n    </li>\\n   </ul>\\n  </div>\\n  <div class=\"grup2\">\\n   <h2>\\n    Modüller\\n   </h2>\\n   <ul>\\n    <li>\\n     Menu 1\\n    </li>\\n    <li>\\n     Menu 2\\n    </li>\\n    <li>\\n     Menu 3\\n    </li>\\n   </ul>\\n  </div>\\n  <div class=\"grup3\">\\n   <h2>\\n    Django\\n   </h2>\\n   <ul>\\n    <li>\\n     Menu 1\\n    </li>\\n    <li>\\n     Menu 2\\n    </li>\\n    <li>\\n     Menu 3\\n    </li>\\n   </ul>\\n  </div>\\n  <img alt=\"\" src=\"deneme.jpg\"/>\\n  <a class=\"sister\" href=\"http://example1.com/togy1\" id=\"link1\">\\n   Togy1\\n  </a>\\n  <a class=\"sister\" href=\"http://example2.com/togy2\" id=\"link2\">\\n   Togy2\\n  </a>\\n  <a class=\"sister\" href=\"http://example3.com/togy3\" id=\"link3\">\\n   Togy3\\n  </a>\\n </body>\\n</html>\\n'"
      ]
     },
     "execution_count": 107,
     "metadata": {},
     "output_type": "execute_result"
    }
   ],
   "source": [
    "obje.prettify()"
   ]
  },
  {
   "cell_type": "code",
   "execution_count": 108,
   "metadata": {},
   "outputs": [
    {
     "data": {
      "text/plain": [
       "<title>İlk Web Sayfası</title>"
      ]
     },
     "execution_count": 108,
     "metadata": {},
     "output_type": "execute_result"
    }
   ],
   "source": [
    "#title tagine ulaşmak\n",
    "\n",
    "obje.title"
   ]
  },
  {
   "cell_type": "code",
   "execution_count": 109,
   "metadata": {},
   "outputs": [
    {
     "data": {
      "text/plain": [
       "bs4.element.Tag"
      ]
     },
     "execution_count": 109,
     "metadata": {},
     "output_type": "execute_result"
    }
   ],
   "source": [
    "type(obje.title)"
   ]
  },
  {
   "cell_type": "code",
   "execution_count": 110,
   "metadata": {},
   "outputs": [
    {
     "data": {
      "text/plain": [
       "'title'"
      ]
     },
     "execution_count": 110,
     "metadata": {},
     "output_type": "execute_result"
    }
   ],
   "source": [
    "obje.title.name"
   ]
  },
  {
   "cell_type": "code",
   "execution_count": 111,
   "metadata": {},
   "outputs": [
    {
     "data": {
      "text/plain": [
       "'İlk Web Sayfası'"
      ]
     },
     "execution_count": 111,
     "metadata": {},
     "output_type": "execute_result"
    }
   ],
   "source": [
    "obje.title.string"
   ]
  },
  {
   "cell_type": "code",
   "execution_count": 112,
   "metadata": {},
   "outputs": [
    {
     "data": {
      "text/plain": [
       "'İlk Web Sayfası'"
      ]
     },
     "execution_count": 112,
     "metadata": {},
     "output_type": "execute_result"
    }
   ],
   "source": [
    "obje.title.text"
   ]
  },
  {
   "cell_type": "code",
   "execution_count": 113,
   "metadata": {},
   "outputs": [
    {
     "data": {
      "text/plain": [
       "<head>\n",
       "<meta charset=\"utf-8\"/>\n",
       "<meta content=\"width=device-width, initial-scale=1.0\" name=\"viewport\"/>\n",
       "<title>İlk Web Sayfası</title>\n",
       "</head>"
      ]
     },
     "execution_count": 113,
     "metadata": {},
     "output_type": "execute_result"
    }
   ],
   "source": [
    "#html head'e ulaşmak için:\n",
    "\n",
    "obje.head"
   ]
  },
  {
   "cell_type": "code",
   "execution_count": 114,
   "metadata": {},
   "outputs": [
    {
     "data": {
      "text/plain": [
       "<body>\n",
       "<h1 id=\"header\">\n",
       "        Python Kursu\n",
       "\n",
       "    </h1>\n",
       "<div class=\"grup1\">\n",
       "<h2>Programlama</h2>\n",
       "<ul>\n",
       "<li>Menu 1    </li>\n",
       "<li>Menu 2    </li>\n",
       "<li>Menu 3    </li>\n",
       "</ul>\n",
       "</div>\n",
       "<div class=\"grup2\">\n",
       "<h2>Modüller</h2>\n",
       "<ul>\n",
       "<li>Menu 1    </li>\n",
       "<li>Menu 2    </li>\n",
       "<li>Menu 3    </li>\n",
       "</ul>\n",
       "</div>\n",
       "<div class=\"grup3\">\n",
       "<h2>Django</h2>\n",
       "<ul>\n",
       "<li>Menu 1    </li>\n",
       "<li>Menu 2    </li>\n",
       "<li>Menu 3    </li>\n",
       "</ul>\n",
       "</div>\n",
       "<img alt=\"\" src=\"deneme.jpg\"/>\n",
       "<a class=\"sister\" href=\"http://example1.com/togy1\" id=\"link1\">Togy1</a>\n",
       "<a class=\"sister\" href=\"http://example2.com/togy2\" id=\"link2\">Togy2</a>\n",
       "<a class=\"sister\" href=\"http://example3.com/togy3\" id=\"link3\">Togy3</a>\n",
       "</body>"
      ]
     },
     "execution_count": 114,
     "metadata": {},
     "output_type": "execute_result"
    }
   ],
   "source": [
    "#html body etiketine ulaşmak için:\n",
    "\n",
    "obje.body"
   ]
  },
  {
   "cell_type": "code",
   "execution_count": 115,
   "metadata": {},
   "outputs": [
    {
     "data": {
      "text/plain": [
       "<h1 id=\"header\">\n",
       "        Python Kursu\n",
       "\n",
       "    </h1>"
      ]
     },
     "execution_count": 115,
     "metadata": {},
     "output_type": "execute_result"
    }
   ],
   "source": [
    "obje.body.h1"
   ]
  },
  {
   "cell_type": "code",
   "execution_count": 116,
   "metadata": {},
   "outputs": [
    {
     "data": {
      "text/plain": [
       "'\\n        Python Kursu\\n\\n    '"
      ]
     },
     "execution_count": 116,
     "metadata": {},
     "output_type": "execute_result"
    }
   ],
   "source": [
    "obje.body.h1.string"
   ]
  },
  {
   "cell_type": "code",
   "execution_count": 117,
   "metadata": {},
   "outputs": [
    {
     "data": {
      "text/plain": [
       "'\\n        Python Kursu\\n\\n    '"
      ]
     },
     "execution_count": 117,
     "metadata": {},
     "output_type": "execute_result"
    }
   ],
   "source": [
    "obje.h1.text"
   ]
  },
  {
   "cell_type": "code",
   "execution_count": 118,
   "metadata": {},
   "outputs": [
    {
     "data": {
      "text/plain": [
       "<div class=\"grup1\">\n",
       "<h2>Programlama</h2>\n",
       "<ul>\n",
       "<li>Menu 1    </li>\n",
       "<li>Menu 2    </li>\n",
       "<li>Menu 3    </li>\n",
       "</ul>\n",
       "</div>"
      ]
     },
     "execution_count": 118,
     "metadata": {},
     "output_type": "execute_result"
    }
   ],
   "source": [
    "obje.div"
   ]
  },
  {
   "cell_type": "code",
   "execution_count": 119,
   "metadata": {},
   "outputs": [
    {
     "data": {
      "text/plain": [
       "<h2>Programlama</h2>"
      ]
     },
     "execution_count": 119,
     "metadata": {},
     "output_type": "execute_result"
    }
   ],
   "source": [
    "obje.h2"
   ]
  },
  {
   "cell_type": "code",
   "execution_count": 120,
   "metadata": {},
   "outputs": [
    {
     "data": {
      "text/plain": [
       "<ul>\n",
       "<li>Menu 1    </li>\n",
       "<li>Menu 2    </li>\n",
       "<li>Menu 3    </li>\n",
       "</ul>"
      ]
     },
     "execution_count": 120,
     "metadata": {},
     "output_type": "execute_result"
    }
   ],
   "source": [
    "obje.ul"
   ]
  },
  {
   "cell_type": "code",
   "execution_count": 121,
   "metadata": {},
   "outputs": [
    {
     "data": {
      "text/plain": [
       "<li>Menu 1    </li>"
      ]
     },
     "execution_count": 121,
     "metadata": {},
     "output_type": "execute_result"
    }
   ],
   "source": [
    "obje.ul.li"
   ]
  },
  {
   "cell_type": "code",
   "execution_count": 122,
   "metadata": {},
   "outputs": [
    {
     "data": {
      "text/plain": [
       "<div class=\"grup1\">\n",
       "<h2>Programlama</h2>\n",
       "<ul>\n",
       "<li>Menu 1    </li>\n",
       "<li>Menu 2    </li>\n",
       "<li>Menu 3    </li>\n",
       "</ul>\n",
       "</div>"
      ]
     },
     "execution_count": 122,
     "metadata": {},
     "output_type": "execute_result"
    }
   ],
   "source": [
    "#FIND METHODU YARDIMI İLE BİRDEN FAZLA ELEMENT SEÇMEK\n",
    "\n",
    "obje.div  #ilk div elementini bulur"
   ]
  },
  {
   "cell_type": "code",
   "execution_count": 123,
   "metadata": {},
   "outputs": [
    {
     "data": {
      "text/plain": [
       "<div class=\"grup1\">\n",
       "<h2>Programlama</h2>\n",
       "<ul>\n",
       "<li>Menu 1    </li>\n",
       "<li>Menu 2    </li>\n",
       "<li>Menu 3    </li>\n",
       "</ul>\n",
       "</div>"
      ]
     },
     "execution_count": 123,
     "metadata": {},
     "output_type": "execute_result"
    }
   ],
   "source": [
    "obje.find(\"div\")"
   ]
  },
  {
   "cell_type": "code",
   "execution_count": 124,
   "metadata": {},
   "outputs": [
    {
     "data": {
      "text/plain": [
       "[<div class=\"grup1\">\n",
       " <h2>Programlama</h2>\n",
       " <ul>\n",
       " <li>Menu 1    </li>\n",
       " <li>Menu 2    </li>\n",
       " <li>Menu 3    </li>\n",
       " </ul>\n",
       " </div>,\n",
       " <div class=\"grup2\">\n",
       " <h2>Modüller</h2>\n",
       " <ul>\n",
       " <li>Menu 1    </li>\n",
       " <li>Menu 2    </li>\n",
       " <li>Menu 3    </li>\n",
       " </ul>\n",
       " </div>,\n",
       " <div class=\"grup3\">\n",
       " <h2>Django</h2>\n",
       " <ul>\n",
       " <li>Menu 1    </li>\n",
       " <li>Menu 2    </li>\n",
       " <li>Menu 3    </li>\n",
       " </ul>\n",
       " </div>]"
      ]
     },
     "execution_count": 124,
     "metadata": {},
     "output_type": "execute_result"
    }
   ],
   "source": [
    "obje.find_all(\"div\")"
   ]
  },
  {
   "cell_type": "code",
   "execution_count": 125,
   "metadata": {},
   "outputs": [
    {
     "data": {
      "text/plain": [
       "3"
      ]
     },
     "execution_count": 125,
     "metadata": {},
     "output_type": "execute_result"
    }
   ],
   "source": [
    "len(obje.find_all(\"div\"))"
   ]
  },
  {
   "cell_type": "code",
   "execution_count": 126,
   "metadata": {},
   "outputs": [
    {
     "data": {
      "text/plain": [
       "<div class=\"grup1\">\n",
       "<h2>Programlama</h2>\n",
       "<ul>\n",
       "<li>Menu 1    </li>\n",
       "<li>Menu 2    </li>\n",
       "<li>Menu 3    </li>\n",
       "</ul>\n",
       "</div>"
      ]
     },
     "execution_count": 126,
     "metadata": {},
     "output_type": "execute_result"
    }
   ],
   "source": [
    "#sıfırıncı indeksteki elemanı almak istersem\n",
    "\n",
    "obje.find_all(\"div\")[0]"
   ]
  },
  {
   "cell_type": "code",
   "execution_count": 127,
   "metadata": {},
   "outputs": [
    {
     "data": {
      "text/plain": [
       "<h2>Modüller</h2>"
      ]
     },
     "execution_count": 127,
     "metadata": {},
     "output_type": "execute_result"
    }
   ],
   "source": [
    "obje.find_all(\"div\")[1].h2"
   ]
  },
  {
   "cell_type": "code",
   "execution_count": 128,
   "metadata": {},
   "outputs": [
    {
     "data": {
      "text/plain": [
       "<ul>\n",
       "<li>Menu 1    </li>\n",
       "<li>Menu 2    </li>\n",
       "<li>Menu 3    </li>\n",
       "</ul>"
      ]
     },
     "execution_count": 128,
     "metadata": {},
     "output_type": "execute_result"
    }
   ],
   "source": [
    "obje.find_all(\"div\")[1].ul"
   ]
  },
  {
   "cell_type": "code",
   "execution_count": 129,
   "metadata": {},
   "outputs": [
    {
     "data": {
      "text/plain": [
       "<li>Menu 1    </li>"
      ]
     },
     "execution_count": 129,
     "metadata": {},
     "output_type": "execute_result"
    }
   ],
   "source": [
    "obje.find_all(\"div\")[1].ul.li"
   ]
  },
  {
   "cell_type": "code",
   "execution_count": 130,
   "metadata": {},
   "outputs": [
    {
     "data": {
      "text/plain": [
       "[<li>Menu 1    </li>, <li>Menu 2    </li>, <li>Menu 3    </li>]"
      ]
     },
     "execution_count": 130,
     "metadata": {},
     "output_type": "execute_result"
    }
   ],
   "source": [
    "#bütün li'lere erişim için:\n",
    "obje.find_all(\"div\")[1].ul.find_all(\"li\")"
   ]
  },
  {
   "cell_type": "code",
   "execution_count": 131,
   "metadata": {},
   "outputs": [
    {
     "data": {
      "text/plain": [
       "<li>Menu 3    </li>"
      ]
     },
     "execution_count": 131,
     "metadata": {},
     "output_type": "execute_result"
    }
   ],
   "source": [
    "obje.find_all(\"div\")[1].ul.find_all(\"li\")[2]"
   ]
  },
  {
   "cell_type": "code",
   "execution_count": 132,
   "metadata": {},
   "outputs": [
    {
     "data": {
      "text/plain": [
       "'Menu 3    '"
      ]
     },
     "execution_count": 132,
     "metadata": {},
     "output_type": "execute_result"
    }
   ],
   "source": [
    "obje.find_all(\"div\")[1].ul.find_all(\"li\")[2].string"
   ]
  },
  {
   "cell_type": "code",
   "execution_count": 133,
   "metadata": {},
   "outputs": [
    {
     "data": {
      "text/plain": [
       "[<div class=\"grup1\">\n",
       " <h2>Programlama</h2>\n",
       " <ul>\n",
       " <li>Menu 1    </li>\n",
       " <li>Menu 2    </li>\n",
       " <li>Menu 3    </li>\n",
       " </ul>\n",
       " </div>,\n",
       " <div class=\"grup2\">\n",
       " <h2>Modüller</h2>\n",
       " <ul>\n",
       " <li>Menu 1    </li>\n",
       " <li>Menu 2    </li>\n",
       " <li>Menu 3    </li>\n",
       " </ul>\n",
       " </div>,\n",
       " <div class=\"grup3\">\n",
       " <h2>Django</h2>\n",
       " <ul>\n",
       " <li>Menu 1    </li>\n",
       " <li>Menu 2    </li>\n",
       " <li>Menu 3    </li>\n",
       " </ul>\n",
       " </div>]"
      ]
     },
     "execution_count": 133,
     "metadata": {},
     "output_type": "execute_result"
    }
   ],
   "source": [
    "obje.find_all(\"div\")"
   ]
  },
  {
   "cell_type": "code",
   "execution_count": 134,
   "metadata": {},
   "outputs": [
    {
     "name": "stdout",
     "output_type": "stream",
     "text": [
      "<div class=\"grup1\">\n",
      "<h2>Programlama</h2>\n",
      "<ul>\n",
      "<li>Menu 1    </li>\n",
      "<li>Menu 2    </li>\n",
      "<li>Menu 3    </li>\n",
      "</ul>\n",
      "</div>\n",
      "<div class=\"grup2\">\n",
      "<h2>Modüller</h2>\n",
      "<ul>\n",
      "<li>Menu 1    </li>\n",
      "<li>Menu 2    </li>\n",
      "<li>Menu 3    </li>\n",
      "</ul>\n",
      "</div>\n",
      "<div class=\"grup3\">\n",
      "<h2>Django</h2>\n",
      "<ul>\n",
      "<li>Menu 1    </li>\n",
      "<li>Menu 2    </li>\n",
      "<li>Menu 3    </li>\n",
      "</ul>\n",
      "</div>\n"
     ]
    }
   ],
   "source": [
    "for div in obje.find_all(\"div\"):\n",
    "    print(div)"
   ]
  },
  {
   "cell_type": "code",
   "execution_count": 135,
   "metadata": {},
   "outputs": [
    {
     "name": "stdout",
     "output_type": "stream",
     "text": [
      "<h2>Programlama</h2>\n",
      "<h2>Modüller</h2>\n",
      "<h2>Django</h2>\n"
     ]
    }
   ],
   "source": [
    "for div in obje.find_all(\"div\"):\n",
    "    print(div.h2)"
   ]
  },
  {
   "cell_type": "markdown",
   "metadata": {},
   "source": [
    "<code style=\"background:yellow;color:red\">FIND AND FIND_ALL METOTLARI</code>"
   ]
  },
  {
   "cell_type": "code",
   "execution_count": 244,
   "metadata": {},
   "outputs": [],
   "source": [
    "with open(\"index2.html\") as file:\n",
    "    indeks = file.read()\n",
    "\n",
    "\n",
    "soup  = BeautifulSoup(indeks,\"html.parser\" )"
   ]
  },
  {
   "cell_type": "code",
   "execution_count": 276,
   "metadata": {},
   "outputs": [
    {
     "data": {
      "text/plain": [
       "<div class=\"item red\" id=\"item1\">\n",
       "<h2>\n",
       "<a href=\"index.html\">Python Object Oriented Programlama</a> </h2>\n",
       "<ul>\n",
       "<li>Menü 1</li>\n",
       "<li>Menü 2</li>\n",
       "<li>Menü 3</li>\n",
       "</ul>\n",
       "</div>"
      ]
     },
     "execution_count": 276,
     "metadata": {},
     "output_type": "execute_result"
    }
   ],
   "source": [
    "soup.body.div"
   ]
  },
  {
   "cell_type": "code",
   "execution_count": null,
   "metadata": {},
   "outputs": [
    {
     "data": {
      "text/plain": [
       "['\\n',\n",
       " <h2>\n",
       " <a href=\"index.html\">Python Object Oriented Programlama</a> </h2>,\n",
       " '\\n',\n",
       " <ul>\n",
       " <li>Menü 1</li>\n",
       " <li>Menü 2</li>\n",
       " <li>Menü 3</li>\n",
       " </ul>,\n",
       " '\\n']"
      ]
     },
     "execution_count": 277,
     "metadata": {},
     "output_type": "execute_result"
    }
   ],
   "source": [
    "soup.body.div.contents  #geriye bir liste gelir"
   ]
  },
  {
   "cell_type": "code",
   "execution_count": 278,
   "metadata": {},
   "outputs": [
    {
     "data": {
      "text/plain": [
       "<ul>\n",
       "<li>Menü 1</li>\n",
       "<li>Menü 2</li>\n",
       "<li>Menü 3</li>\n",
       "</ul>"
      ]
     },
     "execution_count": 278,
     "metadata": {},
     "output_type": "execute_result"
    }
   ],
   "source": [
    "soup.body.div.contents[3]"
   ]
  },
  {
   "cell_type": "code",
   "execution_count": 280,
   "metadata": {},
   "outputs": [
    {
     "data": {
      "text/plain": [
       "<list_iterator at 0x7a6aa8503fd0>"
      ]
     },
     "execution_count": 280,
     "metadata": {},
     "output_type": "execute_result"
    }
   ],
   "source": [
    "soup.body.div.children  #geriye bir iterator obje döndürür"
   ]
  },
  {
   "cell_type": "code",
   "execution_count": 282,
   "metadata": {},
   "outputs": [
    {
     "name": "stdout",
     "output_type": "stream",
     "text": [
      "\n",
      "\n",
      "<h2>\n",
      "<a href=\"index.html\">Python Object Oriented Programlama</a> </h2>\n",
      "\n",
      "\n",
      "<ul>\n",
      "<li>Menü 1</li>\n",
      "<li>Menü 2</li>\n",
      "<li>Menü 3</li>\n",
      "</ul>\n",
      "\n",
      "\n"
     ]
    },
    {
     "data": {
      "text/plain": [
       "[None, None, None, None, None]"
      ]
     },
     "execution_count": 282,
     "metadata": {},
     "output_type": "execute_result"
    }
   ],
   "source": [
    "[print(x) for x in soup.body.div.children]  #list comp ile elementlere ulaşım"
   ]
  },
  {
   "cell_type": "code",
   "execution_count": 283,
   "metadata": {},
   "outputs": [
    {
     "data": {
      "text/plain": [
       "<div class=\"item red\" id=\"item1\">\n",
       "<h2>\n",
       "<a href=\"index.html\">Python Object Oriented Programlama</a> </h2>\n",
       "<ul>\n",
       "<li>Menü 1</li>\n",
       "<li>Menü 2</li>\n",
       "<li>Menü 3</li>\n",
       "</ul>\n",
       "</div>"
      ]
     },
     "execution_count": 283,
     "metadata": {},
     "output_type": "execute_result"
    }
   ],
   "source": [
    "soup.body.h2.parent"
   ]
  },
  {
   "cell_type": "code",
   "execution_count": 284,
   "metadata": {},
   "outputs": [
    {
     "data": {
      "text/plain": [
       "<body>\n",
       "<h1 id=\"header\"> Python Kursu </h1>\n",
       "<p>İleri Seviye Python Kursu</p>\n",
       "<div class=\"item red\" id=\"item1\">\n",
       "<h2>\n",
       "<a href=\"index.html\">Python Object Oriented Programlama</a> </h2>\n",
       "<ul>\n",
       "<li>Menü 1</li>\n",
       "<li>Menü 2</li>\n",
       "<li>Menü 3</li>\n",
       "</ul>\n",
       "</div>\n",
       "<div class=\"item\" id=\"item2\">\n",
       "<h2> <a href=\"toygarpy.wordpress.com\">Http JSON &amp; Requests</a> </h2>\n",
       "<ul>\n",
       "<li>Menü 4</li>\n",
       "<li>Menü 5</li>\n",
       "<li>Menü 6</li>\n",
       "</ul>\n",
       "</div>\n",
       "<div class=\"item\" id=\"item3\">\n",
       "<h2>Beautiful Soup -  Web Scraping </h2>\n",
       "<ul>\n",
       "<li>Menü 7</li>\n",
       "<li>Menü 8</li>\n",
       "<li>Menü 9</li>\n",
       "</ul>\n",
       "</div>\n",
       "<img alt=\"\" src=\"deneme.jpg\"/>\n",
       "<a class=\"sister\" href=\"http://example1.com/togy1\" id=\"link1\">Togy1</a>\n",
       "<a class=\"sister\" href=\"http://example2.com/togy2\" id=\"link2\">Togy2</a>\n",
       "<a class=\"sister\" href=\"http://example3.com/togy3\" id=\"link3\">Togy3</a>\n",
       "</body>"
      ]
     },
     "execution_count": 284,
     "metadata": {},
     "output_type": "execute_result"
    }
   ],
   "source": [
    "soup.body.h2.parent.parent"
   ]
  },
  {
   "cell_type": "code",
   "execution_count": 285,
   "metadata": {},
   "outputs": [
    {
     "data": {
      "text/plain": [
       "<li>Menü 1</li>"
      ]
     },
     "execution_count": 285,
     "metadata": {},
     "output_type": "execute_result"
    }
   ],
   "source": [
    "soup.body.ul.next_element.next_element"
   ]
  },
  {
   "cell_type": "code",
   "execution_count": 246,
   "metadata": {},
   "outputs": [
    {
     "data": {
      "text/plain": [
       "[<div class=\"item red\" id=\"item1\">\n",
       " <h2>\n",
       " <a href=\"index.html\">Python Object Oriented Programlama</a> </h2>\n",
       " <ul>\n",
       " <li>Menü 1</li>\n",
       " <li>Menü 2</li>\n",
       " <li>Menü 3</li>\n",
       " </ul>\n",
       " </div>,\n",
       " <div class=\"item\" id=\"item2\">\n",
       " <h2> <a href=\"toygarpy.wordpress.com\">Http JSON &amp; Requests</a> </h2>\n",
       " <ul>\n",
       " <li>Menü 4</li>\n",
       " <li>Menü 5</li>\n",
       " <li>Menü 6</li>\n",
       " </ul>\n",
       " </div>,\n",
       " <div class=\"item\" id=\"item3\">\n",
       " <h2>Beautiful Soup -  Web Scraping </h2>\n",
       " <ul>\n",
       " <li>Menü 7</li>\n",
       " <li>Menü 8</li>\n",
       " <li>Menü 9</li>\n",
       " </ul>\n",
       " </div>]"
      ]
     },
     "execution_count": 246,
     "metadata": {},
     "output_type": "execute_result"
    }
   ],
   "source": [
    "soup.find_all(\"div\")"
   ]
  },
  {
   "cell_type": "code",
   "execution_count": 247,
   "metadata": {},
   "outputs": [
    {
     "name": "stdout",
     "output_type": "stream",
     "text": [
      "<h2>\n",
      "<a href=\"index.html\">Python Object Oriented Programlama</a> </h2>\n",
      "<h2> <a href=\"toygarpy.wordpress.com\">Http JSON &amp; Requests</a> </h2>\n",
      "<h2>Beautiful Soup -  Web Scraping </h2>\n"
     ]
    }
   ],
   "source": [
    "for div in soup.find_all(\"div\"):\n",
    "    print(div.h2)"
   ]
  },
  {
   "cell_type": "code",
   "execution_count": 275,
   "metadata": {},
   "outputs": [
    {
     "name": "stdout",
     "output_type": "stream",
     "text": [
      "<a href=\"index.html\">Python Object Oriented Programlama</a>\n",
      "<a href=\"toygarpy.wordpress.com\">Http JSON &amp; Requests</a>\n",
      "None\n"
     ]
    }
   ],
   "source": [
    "for div in soup.find_all(\"div\"):\n",
    "    print(div.h2.a)"
   ]
  },
  {
   "cell_type": "code",
   "execution_count": 249,
   "metadata": {},
   "outputs": [
    {
     "name": "stdout",
     "output_type": "stream",
     "text": [
      "Python Object Oriented Programlama\n",
      "Http JSON & Requests\n",
      "Else:  Beautiful Soup -  Web Scraping\n"
     ]
    }
   ],
   "source": [
    "for div in obje.find_all(\"div\"):\n",
    "    if div.h2.a != None:\n",
    "        print(div.h2.a.string.strip())\n",
    "\n",
    "    else:\n",
    "        print(\"Else: \", div.h2.string.strip())"
   ]
  },
  {
   "cell_type": "code",
   "execution_count": 250,
   "metadata": {},
   "outputs": [
    {
     "name": "stdout",
     "output_type": "stream",
     "text": [
      "<a href=\"index.html\">Python Object Oriented Programlama</a>\n",
      "<a href=\"toygarpy.wordpress.com\">Http JSON &amp; Requests</a>\n",
      "<a class=\"sister\" href=\"http://example1.com/togy1\" id=\"link1\">Togy1</a>\n",
      "<a class=\"sister\" href=\"http://example2.com/togy2\" id=\"link2\">Togy2</a>\n",
      "<a class=\"sister\" href=\"http://example3.com/togy3\" id=\"link3\">Togy3</a>\n"
     ]
    }
   ],
   "source": [
    "for a in soup.find_all(\"a\"):\n",
    "    print(a)"
   ]
  },
  {
   "cell_type": "code",
   "execution_count": 251,
   "metadata": {},
   "outputs": [
    {
     "data": {
      "text/plain": [
       "<div class=\"item red\" id=\"item1\">\n",
       "<h2>\n",
       "<a href=\"index.html\">Python Object Oriented Programlama</a> </h2>\n",
       "<ul>\n",
       "<li>Menü 1</li>\n",
       "<li>Menü 2</li>\n",
       "<li>Menü 3</li>\n",
       "</ul>\n",
       "</div>"
      ]
     },
     "execution_count": 251,
     "metadata": {},
     "output_type": "execute_result"
    }
   ],
   "source": [
    "#Elementleri attr değerlerine göre nasıl seçeriz:\n",
    "\n",
    "soup.find(id=\"item1\")"
   ]
  },
  {
   "cell_type": "code",
   "execution_count": 252,
   "metadata": {},
   "outputs": [
    {
     "data": {
      "text/plain": [
       "<h1 id=\"header\"> Python Kursu </h1>"
      ]
     },
     "execution_count": 252,
     "metadata": {},
     "output_type": "execute_result"
    }
   ],
   "source": [
    "soup.find(id=\"header\")"
   ]
  },
  {
   "cell_type": "code",
   "execution_count": 253,
   "metadata": {},
   "outputs": [
    {
     "data": {
      "text/plain": [
       "<div class=\"item red\" id=\"item1\">\n",
       "<h2>\n",
       "<a href=\"index.html\">Python Object Oriented Programlama</a> </h2>\n",
       "<ul>\n",
       "<li>Menü 1</li>\n",
       "<li>Menü 2</li>\n",
       "<li>Menü 3</li>\n",
       "</ul>\n",
       "</div>"
      ]
     },
     "execution_count": 253,
     "metadata": {},
     "output_type": "execute_result"
    }
   ],
   "source": [
    "soup.find(class_=\"item\")"
   ]
  },
  {
   "cell_type": "code",
   "execution_count": 254,
   "metadata": {},
   "outputs": [
    {
     "data": {
      "text/plain": [
       "[<div class=\"item red\" id=\"item1\">\n",
       " <h2>\n",
       " <a href=\"index.html\">Python Object Oriented Programlama</a> </h2>\n",
       " <ul>\n",
       " <li>Menü 1</li>\n",
       " <li>Menü 2</li>\n",
       " <li>Menü 3</li>\n",
       " </ul>\n",
       " </div>,\n",
       " <div class=\"item\" id=\"item2\">\n",
       " <h2> <a href=\"toygarpy.wordpress.com\">Http JSON &amp; Requests</a> </h2>\n",
       " <ul>\n",
       " <li>Menü 4</li>\n",
       " <li>Menü 5</li>\n",
       " <li>Menü 6</li>\n",
       " </ul>\n",
       " </div>,\n",
       " <div class=\"item\" id=\"item3\">\n",
       " <h2>Beautiful Soup -  Web Scraping </h2>\n",
       " <ul>\n",
       " <li>Menü 7</li>\n",
       " <li>Menü 8</li>\n",
       " <li>Menü 9</li>\n",
       " </ul>\n",
       " </div>]"
      ]
     },
     "execution_count": 254,
     "metadata": {},
     "output_type": "execute_result"
    }
   ],
   "source": [
    "soup.find_all(class_=\"item\")"
   ]
  },
  {
   "cell_type": "code",
   "execution_count": 255,
   "metadata": {},
   "outputs": [
    {
     "data": {
      "text/plain": [
       "<div class=\"item\" id=\"item2\">\n",
       "<h2> <a href=\"toygarpy.wordpress.com\">Http JSON &amp; Requests</a> </h2>\n",
       "<ul>\n",
       "<li>Menü 4</li>\n",
       "<li>Menü 5</li>\n",
       "<li>Menü 6</li>\n",
       "</ul>\n",
       "</div>"
      ]
     },
     "execution_count": 255,
     "metadata": {},
     "output_type": "execute_result"
    }
   ],
   "source": [
    "soup.find_all(class_=\"item\")[1]\n"
   ]
  },
  {
   "cell_type": "code",
   "execution_count": 256,
   "metadata": {},
   "outputs": [
    {
     "data": {
      "text/plain": [
       "[<h1 id=\"header\"> Python Kursu </h1>]"
      ]
     },
     "execution_count": 256,
     "metadata": {},
     "output_type": "execute_result"
    }
   ],
   "source": [
    "soup.select(\"#header\")  #select metodu size geri bir liste getirir"
   ]
  },
  {
   "cell_type": "code",
   "execution_count": 257,
   "metadata": {},
   "outputs": [
    {
     "data": {
      "text/plain": [
       "[<div class=\"item red\" id=\"item1\">\n",
       " <h2>\n",
       " <a href=\"index.html\">Python Object Oriented Programlama</a> </h2>\n",
       " <ul>\n",
       " <li>Menü 1</li>\n",
       " <li>Menü 2</li>\n",
       " <li>Menü 3</li>\n",
       " </ul>\n",
       " </div>]"
      ]
     },
     "execution_count": 257,
     "metadata": {},
     "output_type": "execute_result"
    }
   ],
   "source": [
    "soup.select(\"#item1\")"
   ]
  },
  {
   "cell_type": "code",
   "execution_count": 258,
   "metadata": {},
   "outputs": [
    {
     "data": {
      "text/plain": [
       "[<div class=\"item red\" id=\"item1\">\n",
       " <h2>\n",
       " <a href=\"index.html\">Python Object Oriented Programlama</a> </h2>\n",
       " <ul>\n",
       " <li>Menü 1</li>\n",
       " <li>Menü 2</li>\n",
       " <li>Menü 3</li>\n",
       " </ul>\n",
       " </div>,\n",
       " <div class=\"item\" id=\"item2\">\n",
       " <h2> <a href=\"toygarpy.wordpress.com\">Http JSON &amp; Requests</a> </h2>\n",
       " <ul>\n",
       " <li>Menü 4</li>\n",
       " <li>Menü 5</li>\n",
       " <li>Menü 6</li>\n",
       " </ul>\n",
       " </div>,\n",
       " <div class=\"item\" id=\"item3\">\n",
       " <h2>Beautiful Soup -  Web Scraping </h2>\n",
       " <ul>\n",
       " <li>Menü 7</li>\n",
       " <li>Menü 8</li>\n",
       " <li>Menü 9</li>\n",
       " </ul>\n",
       " </div>]"
      ]
     },
     "execution_count": 258,
     "metadata": {},
     "output_type": "execute_result"
    }
   ],
   "source": [
    "#class'ı item olan bütün elementleri seç:\n",
    "\n",
    "soup.select(\".item\")"
   ]
  },
  {
   "cell_type": "code",
   "execution_count": 259,
   "metadata": {},
   "outputs": [
    {
     "data": {
      "text/plain": [
       "<div class=\"item red\" id=\"item1\">\n",
       "<h2>\n",
       "<a href=\"index.html\">Python Object Oriented Programlama</a> </h2>\n",
       "<ul>\n",
       "<li>Menü 1</li>\n",
       "<li>Menü 2</li>\n",
       "<li>Menü 3</li>\n",
       "</ul>\n",
       "</div>"
      ]
     },
     "execution_count": 259,
     "metadata": {},
     "output_type": "execute_result"
    }
   ],
   "source": [
    "#kritere uyan ilk elementi getir\n",
    "\n",
    "soup.select_one(\".item\")"
   ]
  },
  {
   "cell_type": "code",
   "execution_count": 260,
   "metadata": {},
   "outputs": [
    {
     "data": {
      "text/plain": [
       "<div class=\"item red\" id=\"item1\">\n",
       "<h2>\n",
       "<a href=\"index.html\">Python Object Oriented Programlama</a> </h2>\n",
       "<ul>\n",
       "<li>Menü 1</li>\n",
       "<li>Menü 2</li>\n",
       "<li>Menü 3</li>\n",
       "</ul>\n",
       "</div>"
      ]
     },
     "execution_count": 260,
     "metadata": {},
     "output_type": "execute_result"
    }
   ],
   "source": [
    "soup.select_one(\"#item1\")"
   ]
  },
  {
   "cell_type": "code",
   "execution_count": 261,
   "metadata": {},
   "outputs": [
    {
     "data": {
      "text/plain": [
       "['item', 'red']"
      ]
     },
     "execution_count": 261,
     "metadata": {},
     "output_type": "execute_result"
    }
   ],
   "source": [
    "#attrs değerlerine göre elementleri getir\n",
    "soup.div.attrs[\"class\"]"
   ]
  },
  {
   "cell_type": "code",
   "execution_count": 262,
   "metadata": {},
   "outputs": [
    {
     "data": {
      "text/plain": [
       "'item1'"
      ]
     },
     "execution_count": 262,
     "metadata": {},
     "output_type": "execute_result"
    }
   ],
   "source": [
    "soup.div.attrs[\"id\"]\n"
   ]
  },
  {
   "cell_type": "code",
   "execution_count": 263,
   "metadata": {},
   "outputs": [
    {
     "data": {
      "text/plain": [
       "'\\nMenü 1\\nMenü 2\\nMenü 3\\n'"
      ]
     },
     "execution_count": 263,
     "metadata": {},
     "output_type": "execute_result"
    }
   ],
   "source": [
    "#element altında tüm text bilgilerini getir\n",
    "\n",
    "soup.ul.get_text()"
   ]
  },
  {
   "cell_type": "code",
   "execution_count": 264,
   "metadata": {},
   "outputs": [
    {
     "data": {
      "text/plain": [
       "'Menü 1***Menü 2***Menü 3'"
      ]
     },
     "execution_count": 264,
     "metadata": {},
     "output_type": "execute_result"
    }
   ],
   "source": [
    "soup.ul.get_text(strip=True, separator= \"***\")"
   ]
  },
  {
   "cell_type": "code",
   "execution_count": 265,
   "metadata": {},
   "outputs": [
    {
     "data": {
      "text/plain": [
       "'index.html'"
      ]
     },
     "execution_count": 265,
     "metadata": {},
     "output_type": "execute_result"
    }
   ],
   "source": [
    "soup.h2.a.attrs[\"href\"]\n"
   ]
  },
  {
   "cell_type": "code",
   "execution_count": 266,
   "metadata": {},
   "outputs": [
    {
     "name": "stdout",
     "output_type": "stream",
     "text": [
      "index.html\n",
      "toygarpy.wordpress.com\n",
      "http://example1.com/togy1\n",
      "http://example2.com/togy2\n",
      "http://example3.com/togy3\n"
     ]
    }
   ],
   "source": [
    "#attrs'e alternatif yöntem\n",
    "\n",
    "for a in soup.find_all(\"a\"):\n",
    "    print(a.get(\"href\"))"
   ]
  },
  {
   "cell_type": "code",
   "execution_count": 267,
   "metadata": {},
   "outputs": [
    {
     "name": "stdout",
     "output_type": "stream",
     "text": [
      "index.html\n",
      "toygarpy.wordpress.com\n",
      "http://example1.com/togy1\n",
      "http://example2.com/togy2\n",
      "http://example3.com/togy3\n"
     ]
    }
   ],
   "source": [
    "for a in soup.find_all(\"a\"):\n",
    "    print(a[\"href\"])"
   ]
  },
  {
   "cell_type": "markdown",
   "metadata": {},
   "source": [
    "<code style=\"background:yellow;color:red\">CHILDREN AND SIBLINGS</code>"
   ]
  },
  {
   "cell_type": "code",
   "execution_count": 268,
   "metadata": {},
   "outputs": [
    {
     "data": {
      "text/plain": [
       "[<html lang=\"en\">\n",
       " <head>\n",
       " <meta charset=\"utf-8\"/>\n",
       " <meta content=\"width=device-width, initial-scale=1.0\" name=\"viewport\"/>\n",
       " <meta content=\"ie=edge\" http-equiv=\"X-UA-Compatible\"/>\n",
       " <title>Toygar Py -  Python Kütüphanesi</title>\n",
       " </head>\n",
       " <body>\n",
       " <h1 id=\"header\"> Python Kursu </h1>\n",
       " <p>İleri Seviye Python Kursu</p>\n",
       " <div class=\"item red\" id=\"item1\">\n",
       " <h2>\n",
       " <a href=\"index.html\">Python Object Oriented Programlama</a> </h2>\n",
       " <ul>\n",
       " <li>Menü 1</li>\n",
       " <li>Menü 2</li>\n",
       " <li>Menü 3</li>\n",
       " </ul>\n",
       " </div>\n",
       " <div class=\"item\" id=\"item2\">\n",
       " <h2> <a href=\"toygarpy.wordpress.com\">Http JSON &amp; Requests</a> </h2>\n",
       " <ul>\n",
       " <li>Menü 4</li>\n",
       " <li>Menü 5</li>\n",
       " <li>Menü 6</li>\n",
       " </ul>\n",
       " </div>\n",
       " <div class=\"item\" id=\"item3\">\n",
       " <h2>Beautiful Soup -  Web Scraping </h2>\n",
       " <ul>\n",
       " <li>Menü 7</li>\n",
       " <li>Menü 8</li>\n",
       " <li>Menü 9</li>\n",
       " </ul>\n",
       " </div>\n",
       " <img alt=\"\" src=\"deneme.jpg\"/>\n",
       " <a class=\"sister\" href=\"http://example1.com/togy1\" id=\"link1\">Togy1</a>\n",
       " <a class=\"sister\" href=\"http://example2.com/togy2\" id=\"link2\">Togy2</a>\n",
       " <a class=\"sister\" href=\"http://example3.com/togy3\" id=\"link3\">Togy3</a>\n",
       " </body>\n",
       " </html>,\n",
       " <head>\n",
       " <meta charset=\"utf-8\"/>\n",
       " <meta content=\"width=device-width, initial-scale=1.0\" name=\"viewport\"/>\n",
       " <meta content=\"ie=edge\" http-equiv=\"X-UA-Compatible\"/>\n",
       " <title>Toygar Py -  Python Kütüphanesi</title>\n",
       " </head>,\n",
       " <meta charset=\"utf-8\"/>,\n",
       " <meta content=\"width=device-width, initial-scale=1.0\" name=\"viewport\"/>,\n",
       " <meta content=\"ie=edge\" http-equiv=\"X-UA-Compatible\"/>,\n",
       " <title>Toygar Py -  Python Kütüphanesi</title>,\n",
       " <body>\n",
       " <h1 id=\"header\"> Python Kursu </h1>\n",
       " <p>İleri Seviye Python Kursu</p>\n",
       " <div class=\"item red\" id=\"item1\">\n",
       " <h2>\n",
       " <a href=\"index.html\">Python Object Oriented Programlama</a> </h2>\n",
       " <ul>\n",
       " <li>Menü 1</li>\n",
       " <li>Menü 2</li>\n",
       " <li>Menü 3</li>\n",
       " </ul>\n",
       " </div>\n",
       " <div class=\"item\" id=\"item2\">\n",
       " <h2> <a href=\"toygarpy.wordpress.com\">Http JSON &amp; Requests</a> </h2>\n",
       " <ul>\n",
       " <li>Menü 4</li>\n",
       " <li>Menü 5</li>\n",
       " <li>Menü 6</li>\n",
       " </ul>\n",
       " </div>\n",
       " <div class=\"item\" id=\"item3\">\n",
       " <h2>Beautiful Soup -  Web Scraping </h2>\n",
       " <ul>\n",
       " <li>Menü 7</li>\n",
       " <li>Menü 8</li>\n",
       " <li>Menü 9</li>\n",
       " </ul>\n",
       " </div>\n",
       " <img alt=\"\" src=\"deneme.jpg\"/>\n",
       " <a class=\"sister\" href=\"http://example1.com/togy1\" id=\"link1\">Togy1</a>\n",
       " <a class=\"sister\" href=\"http://example2.com/togy2\" id=\"link2\">Togy2</a>\n",
       " <a class=\"sister\" href=\"http://example3.com/togy3\" id=\"link3\">Togy3</a>\n",
       " </body>,\n",
       " <h1 id=\"header\"> Python Kursu </h1>,\n",
       " <p>İleri Seviye Python Kursu</p>,\n",
       " <div class=\"item red\" id=\"item1\">\n",
       " <h2>\n",
       " <a href=\"index.html\">Python Object Oriented Programlama</a> </h2>\n",
       " <ul>\n",
       " <li>Menü 1</li>\n",
       " <li>Menü 2</li>\n",
       " <li>Menü 3</li>\n",
       " </ul>\n",
       " </div>,\n",
       " <h2>\n",
       " <a href=\"index.html\">Python Object Oriented Programlama</a> </h2>,\n",
       " <a href=\"index.html\">Python Object Oriented Programlama</a>,\n",
       " <ul>\n",
       " <li>Menü 1</li>\n",
       " <li>Menü 2</li>\n",
       " <li>Menü 3</li>\n",
       " </ul>,\n",
       " <li>Menü 1</li>,\n",
       " <li>Menü 2</li>,\n",
       " <li>Menü 3</li>,\n",
       " <div class=\"item\" id=\"item2\">\n",
       " <h2> <a href=\"toygarpy.wordpress.com\">Http JSON &amp; Requests</a> </h2>\n",
       " <ul>\n",
       " <li>Menü 4</li>\n",
       " <li>Menü 5</li>\n",
       " <li>Menü 6</li>\n",
       " </ul>\n",
       " </div>,\n",
       " <h2> <a href=\"toygarpy.wordpress.com\">Http JSON &amp; Requests</a> </h2>,\n",
       " <a href=\"toygarpy.wordpress.com\">Http JSON &amp; Requests</a>,\n",
       " <ul>\n",
       " <li>Menü 4</li>\n",
       " <li>Menü 5</li>\n",
       " <li>Menü 6</li>\n",
       " </ul>,\n",
       " <li>Menü 4</li>,\n",
       " <li>Menü 5</li>,\n",
       " <li>Menü 6</li>,\n",
       " <div class=\"item\" id=\"item3\">\n",
       " <h2>Beautiful Soup -  Web Scraping </h2>\n",
       " <ul>\n",
       " <li>Menü 7</li>\n",
       " <li>Menü 8</li>\n",
       " <li>Menü 9</li>\n",
       " </ul>\n",
       " </div>,\n",
       " <h2>Beautiful Soup -  Web Scraping </h2>,\n",
       " <ul>\n",
       " <li>Menü 7</li>\n",
       " <li>Menü 8</li>\n",
       " <li>Menü 9</li>\n",
       " </ul>,\n",
       " <li>Menü 7</li>,\n",
       " <li>Menü 8</li>,\n",
       " <li>Menü 9</li>,\n",
       " <img alt=\"\" src=\"deneme.jpg\"/>,\n",
       " <a class=\"sister\" href=\"http://example1.com/togy1\" id=\"link1\">Togy1</a>,\n",
       " <a class=\"sister\" href=\"http://example2.com/togy2\" id=\"link2\">Togy2</a>,\n",
       " <a class=\"sister\" href=\"http://example3.com/togy3\" id=\"link3\">Togy3</a>]"
      ]
     },
     "execution_count": 268,
     "metadata": {},
     "output_type": "execute_result"
    }
   ],
   "source": [
    "#FIND CHILDREN\n",
    "\n",
    "soup.findChildren()"
   ]
  },
  {
   "cell_type": "code",
   "execution_count": 269,
   "metadata": {},
   "outputs": [
    {
     "data": {
      "text/plain": [
       "[<h2>\n",
       " <a href=\"index.html\">Python Object Oriented Programlama</a> </h2>,\n",
       " <a href=\"index.html\">Python Object Oriented Programlama</a>,\n",
       " <ul>\n",
       " <li>Menü 1</li>\n",
       " <li>Menü 2</li>\n",
       " <li>Menü 3</li>\n",
       " </ul>,\n",
       " <li>Menü 1</li>,\n",
       " <li>Menü 2</li>,\n",
       " <li>Menü 3</li>]"
      ]
     },
     "execution_count": 269,
     "metadata": {},
     "output_type": "execute_result"
    }
   ],
   "source": [
    "soup.div.findChildren()"
   ]
  },
  {
   "cell_type": "code",
   "execution_count": 270,
   "metadata": {},
   "outputs": [
    {
     "data": {
      "text/plain": [
       "<div class=\"item\" id=\"item2\">\n",
       "<h2> <a href=\"toygarpy.wordpress.com\">Http JSON &amp; Requests</a> </h2>\n",
       "<ul>\n",
       "<li>Menü 4</li>\n",
       "<li>Menü 5</li>\n",
       "<li>Menü 6</li>\n",
       "</ul>\n",
       "</div>"
      ]
     },
     "execution_count": 270,
     "metadata": {},
     "output_type": "execute_result"
    }
   ],
   "source": [
    "#bir sonraki sibling div'İ bul\n",
    "soup.div.findNextSibling()"
   ]
  },
  {
   "cell_type": "code",
   "execution_count": 271,
   "metadata": {},
   "outputs": [
    {
     "data": {
      "text/plain": [
       "<div class=\"item\" id=\"item3\">\n",
       "<h2>Beautiful Soup -  Web Scraping </h2>\n",
       "<ul>\n",
       "<li>Menü 7</li>\n",
       "<li>Menü 8</li>\n",
       "<li>Menü 9</li>\n",
       "</ul>\n",
       "</div>"
      ]
     },
     "execution_count": 271,
     "metadata": {},
     "output_type": "execute_result"
    }
   ],
   "source": [
    "#bir sonrakinin sonraki sibling divini bulur\n",
    "\n",
    "soup.div.findNextSibling().findNextSibling()"
   ]
  },
  {
   "cell_type": "code",
   "execution_count": 272,
   "metadata": {},
   "outputs": [
    {
     "data": {
      "text/plain": [
       "<div class=\"item\" id=\"item2\">\n",
       "<h2> <a href=\"toygarpy.wordpress.com\">Http JSON &amp; Requests</a> </h2>\n",
       "<ul>\n",
       "<li>Menü 4</li>\n",
       "<li>Menü 5</li>\n",
       "<li>Menü 6</li>\n",
       "</ul>\n",
       "</div>"
      ]
     },
     "execution_count": 272,
     "metadata": {},
     "output_type": "execute_result"
    }
   ],
   "source": [
    "soup.div.findNextSibling().findNextSibling().findPreviousSibling() #bir sonrakinin sonrasındakinin önceki sibling divini bulur"
   ]
  },
  {
   "cell_type": "code",
   "execution_count": 273,
   "metadata": {},
   "outputs": [
    {
     "data": {
      "text/plain": [
       "[<a href=\"index.html\">Python Object Oriented Programlama</a>,\n",
       " <a href=\"toygarpy.wordpress.com\">Http JSON &amp; Requests</a>,\n",
       " <a class=\"sister\" href=\"http://example1.com/togy1\" id=\"link1\">Togy1</a>,\n",
       " <a class=\"sister\" href=\"http://example2.com/togy2\" id=\"link2\">Togy2</a>,\n",
       " <a class=\"sister\" href=\"http://example3.com/togy3\" id=\"link3\">Togy3</a>]"
      ]
     },
     "execution_count": 273,
     "metadata": {},
     "output_type": "execute_result"
    }
   ],
   "source": [
    "soup.find_all(\"a\")"
   ]
  },
  {
   "cell_type": "code",
   "execution_count": 274,
   "metadata": {},
   "outputs": [
    {
     "name": "stdout",
     "output_type": "stream",
     "text": [
      "<a href=\"index.html\">Python Object Oriented Programlama</a>\n",
      "<a href=\"toygarpy.wordpress.com\">Http JSON &amp; Requests</a>\n",
      "<a class=\"sister\" href=\"http://example1.com/togy1\" id=\"link1\">Togy1</a>\n",
      "<a class=\"sister\" href=\"http://example2.com/togy2\" id=\"link2\">Togy2</a>\n",
      "<a class=\"sister\" href=\"http://example3.com/togy3\" id=\"link3\">Togy3</a>\n"
     ]
    }
   ],
   "source": [
    "for link in soup.find_all(\"a\"):\n",
    "    print(link)"
   ]
  },
  {
   "cell_type": "markdown",
   "metadata": {},
   "source": [
    "<code style=\"background:yellow;color:red\">UYGULAMA</code>"
   ]
  },
  {
   "cell_type": "code",
   "execution_count": null,
   "metadata": {},
   "outputs": [
    {
     "data": {
      "text/plain": [
       "'<!DOCTYPE html><html lang=\"tr\"><head><meta charSet=\"UTF-8\" class=\"jsx-2218793582\"/><meta name=\"author\" content=\"Akademi\" class=\"jsx-2218793582\"/><meta name=\"application-name\" content=\"Akademi\" class=\"jsx-2218793582\"/><meta name=\"application-url\" content=\"https://www.btkakademi.gov.tr\" class=\"jsx-2218793582\"/><meta name=\"msapplication-tooltip\" content=\"Learning Management System\" class=\"jsx-2218793582\"/><meta name=\"msapplication-starturl\" content=\"https://www.btkakademi.gov.tr\" class=\"jsx-2218793582\"/><meta name=\"msapplication-tap-highlight\" content=\"no\" class=\"jsx-2218793582\"/><link rel=\"alternate\" href=\"https://www.btkakademi.gov.tr\" hrefLang=\"x-default\" class=\"jsx-2218793582\"/><link rel=\"shortcut icon\" href=\"https://assets-btkakademi-gov-tr.akamaized.net/api/service/v1/public/51/assets/favicon.png?ts=1669375929576\" class=\"jsx-2218793582\"/><meta name=\"description\" content=\"Akademi Lms\" class=\"jsx-2218793582\"/><meta name=\"keywords\" content=\"akademi, lms\" class=\"jsx-2218793582\"/><meta name=\"twitter:card\" content=\"summary_large_image\" class=\"jsx-2218793582\"/><meta name=\"viewport\" content=\"width=device-width, initial-scale=1.0, maximum-scale=1.0\" class=\"jsx-2218793582\"/><meta http-equiv=\"X-UA-Compatible\" content=\"ie=edge\" class=\"jsx-2218793582\"/><script async=\"\" class=\"jsx-2218793582\">(function(w,d,s,l,i){w[l]=w[l]||[];w[l].push({\\'gtm.start\\':\\n                            new Date().getTime(),event:\\'gtm.js\\'});var f=d.getElementsByTagName(s)[0],\\n                            j=d.createElement(s),dl=l!=\\'dataLayer\\'?\\'&l=\\'+l:\\'\\';j.async=true;j.src=\\n                            \\'https://www.googletagmanager.com/gtm.js?id=\\'+i+dl;f.parentNode.insertBefore(j,f);\\n                            })(window,document,\\'script\\',\\'dataLayer\\',\\'GTM-WP28TFZ\\');</script><title>Eğitimler</title><meta name=\"robots\" content=\"index,follow\"/><meta name=\"googlebot\" content=\"index,follow\"/><meta property=\"og:title\" content=\"Eğitimler\"/><meta name=\"next-head-count\" content=\"19\"/><script type=\"text/javascript\" src=\"/ruxitagentjs_ICA2NVfqru_10255221104040649.js\" data-dtconfig=\"rid=RID_1550643177|rpid=-319006768|domain=btkakademi.gov.tr|reportUrl=/rb_b5e158c9-38b0-4c7a-aee1-4ba32404e806|app=a6235131c73ba348|rcdec=1209600000|featureHash=ICA2NVfqru|vcv=2|rdnt=1|uxrgce=1|bp=3|srmcrv=10|cuc=gm68ju49|mel=100000|dpvc=1|ssv=4|lastModification=1732099257189|dtVersion=10255221104040649|srmcrl=1|tp=500,50,0,1|uxdcw=1500|agentUri=/ruxitagentjs_ICA2NVfqru_10255221104040649.js\"></script><script type=\"text/javascript\" src=\"/portal/static/js/vertx/sockjs.min.js\"></script><script type=\"text/javascript\" src=\"/portal/static/js/vertx/event-bus.js\"></script><link rel=\"preload\" href=\"https://static-01-btk.akamaized.net/portal/_next/static/css/af1de86151d60858.css\" as=\"style\"/><link rel=\"stylesheet\" href=\"https://static-01-btk.akamaized.net/portal/_next/static/css/af1de86151d60858.css\" data-n-g=\"\"/><link rel=\"preload\" href=\"https://static-01-btk.akamaized.net/portal/_next/static/css/c2fc70a6bdb88287.css\" as=\"style\"/><link rel=\"stylesheet\" href=\"https://static-01-btk.akamaized.net/portal/_next/static/css/c2fc70a6bdb88287.css\" data-n-p=\"\"/><noscript data-n-css=\"\"></noscript><script defer=\"\" nomodule=\"\" src=\"https://static-01-btk.akamaized.net/portal/_next/static/chunks/polyfills-5cd94c89d3acac5f.js\"></script><script src=\"https://static-01-btk.akamaized.net/portal/_next/static/chunks/webpack-999a5addecf56699.js\" defer=\"\"></script><script src=\"https://static-01-btk.akamaized.net/portal/_next/static/chunks/framework-79bce4a3a540b080.js\" defer=\"\"></script><script src=\"https://static-01-btk.akamaized.net/portal/_next/static/chunks/main-80f8ff4f4ba8f991.js\" defer=\"\"></script><script src=\"https://static-01-btk.akamaized.net/portal/_next/static/chunks/pages/_app-f40a601f0a2ec67d.js\" defer=\"\"></script><script src=\"https://static-01-btk.akamaized.net/portal/_next/static/chunks/2962-d6d32752b970f397.js\" defer=\"\"></script><script src=\"https://static-01-btk.akamaized.net/portal/_next/static/chunks/3311-3cfb2051ee740383.js\" defer=\"\"></script><script src=\"https://static-01-btk.akamaized.net/portal/_next/static/chunks/3157-1fc1bb10220bc195.js\" defer=\"\"></script><script src=\"https://static-01-btk.akamaized.net/portal/_next/static/chunks/501-9f45c6a00283737e.js\" defer=\"\"></script><script src=\"https://static-01-btk.akamaized.net/portal/_next/static/chunks/358-03392025329ae5ee.js\" defer=\"\"></script><script src=\"https://static-01-btk.akamaized.net/portal/_next/static/chunks/3794-a5e3335df9772eaf.js\" defer=\"\"></script><script src=\"https://static-01-btk.akamaized.net/portal/_next/static/chunks/4184-2a004cc5cbe4ab1c.js\" defer=\"\"></script><script src=\"https://static-01-btk.akamaized.net/portal/_next/static/chunks/pages/catalog-783c54204ebfc4a3.js\" defer=\"\"></script><script src=\"https://static-01-btk.akamaized.net/portal/_next/static/vV5JvlGFvwtcH1dfyF8DT/_buildManifest.js\" defer=\"\"></script><script src=\"https://static-01-btk.akamaized.net/portal/_next/static/vV5JvlGFvwtcH1dfyF8DT/_ssgManifest.js\" defer=\"\"></script><script src=\"https://static-01-btk.akamaized.net/portal/_next/static/vV5JvlGFvwtcH1dfyF8DT/_middlewareManifest.js\" defer=\"\"></script><style id=\"__jsx-2218793582\">@font-face{font-family:inherit;src: url(\"inherit\") ;font-display:block;}</style><style data-styled=\"\" data-styled-version=\"5.3.6\">.bTQhMx{padding:10px 20px;background:!important;color:!important;border-radius:6px;border:0;font-size:14px;font-weight:500;display:-webkit-box;display:-ms-flexbox;display:-webkit-box;display:-webkit-flex;display:-ms-flexbox;display:flex;-webkit-box-align:center;-ms-flex-align:center;-webkit-align-items:center;-webkit-box-align:center;-ms-flex-align:center;align-items:center;-webkit-box-pack:center;-ms-flex-pack:center;-webkit-box-pack:center;-webkit-justify-content:center;-ms-flex-pack:center;justify-content:center;width:-webkit-max-content;width:-moz-max-content;width:-webkit-max-content;width:-moz-max-content;width:max-content;height:40px;}/*!sc*/\\n.bTQhMx:hover{-webkit-box-shadow:0px 0px 0px 2px !important;box-shadow:0px 0px 0px 2px !important;background:!important;color:!important;}/*!sc*/\\n.bTQhMx span{color:!important;}/*!sc*/\\ndata-styled.g1[id=\"PrimaryMedium-sc-6n0thy-0\"]{content:\"bTQhMx,\"}/*!sc*/\\n.gTpYWe{border-bottom:1px solid;-webkit-transition:all 0.3s ease-in-out;-o-transition:all 0.3s ease-in-out;-webkit-transition:all 0.3s ease-in-out;transition:all 0.3s ease-in-out;}/*!sc*/\\n.gTpYWe .rselect__control{background-color:!important;-webkit-transition:all 0.3s ease-in-out;-o-transition:all 0.3s ease-in-out;-webkit-transition:all 0.3s ease-in-out;transition:all 0.3s ease-in-out;}/*!sc*/\\ndata-styled.g10[id=\"HeaderTop__HeaderTopWrapper-sc-10nnieb-0\"]{content:\"gTpYWe,\"}/*!sc*/\\n.cchJRp{background:!important;color:!important;padding:7px 10px;border-radius:6px;border:0;font-size:12px;font-weight:500;display:-webkit-box;display:-ms-flexbox;display:-webkit-box;display:-webkit-flex;display:-ms-flexbox;display:flex;-webkit-box-align:center;-ms-flex-align:center;-webkit-align-items:center;-webkit-box-align:center;-ms-flex-align:center;align-items:center;-webkit-box-pack:center;-ms-flex-pack:center;-webkit-box-pack:center;-webkit-justify-content:center;-ms-flex-pack:center;justify-content:center;}/*!sc*/\\n.cchJRp:hover{-webkit-box-shadow:0px 0px 0px 2px !important;box-shadow:0px 0px 0px 2px !important;background:!important;color:!important;}/*!sc*/\\n.cchJRp span{color:!important;}/*!sc*/\\ndata-styled.g11[id=\"PrimarySmall-sc-8blvk-0\"]{content:\"cchJRp,\"}/*!sc*/\\n.fZwLGb{border-radius:50%;}/*!sc*/\\ndata-styled.g12[id=\"SearchBoxContainer__SearchIconStyled-sc-u0e49v-0\"]{content:\"fZwLGb,\"}/*!sc*/\\n.kwzVpD{-webkit-transition:all 0.3s ease-in-out;-o-transition:all 0.3s ease-in-out;-webkit-transition:all 0.3s ease-in-out;transition:all 0.3s ease-in-out;-webkit-box-shadow:0px 0px 10px rgba(0,0,0,0.1);box-shadow:0px 0px 10px rgba(0,0,0,0.1);}/*!sc*/\\ndata-styled.g17[id=\"HeaderMain__ContainerInner-sc-f8z5sn-0\"]{content:\"kwzVpD,\"}/*!sc*/\\n.jVoriR h5,.jVoriR p,.jVoriR .small-gray,.jVoriR .middle-gray,.jVoriR .small-bold-gray{color:!important;}/*!sc*/\\ndata-styled.g19[id=\"header__Outer-sc-3c3sw3-0\"]{content:\"jVoriR,\"}/*!sc*/\\n.kibiKj{position:fixed;bottom:4.2rem;right:1rem;cursor:pointer;}/*!sc*/\\n.kibiKj .moveIn{-webkit-animation:kVWZFB 0.6s ease-in-out;-webkit-animation:kVWZFB 0.6s ease-in-out;animation:kVWZFB 0.6s ease-in-out;}/*!sc*/\\ndata-styled.g21[id=\"ScrollToTop__Scroll2Top-sc-123uoxk-1\"]{content:\"kibiKj,\"}/*!sc*/\\n*{font-family:Roboto,sans-serif;}/*!sc*/\\nh5{font-size:14px;color:#80949F !important;}/*!sc*/\\ntable{border-radius:6px;}/*!sc*/\\np{font-size:14px;color:#80949F;}/*!sc*/\\np.active-btn{color:#1D85E8 !important;}/*!sc*/\\n.active-btn > span{color:#1D85E8;}/*!sc*/\\ntd{background:white;}/*!sc*/\\ninput::-webkit-input-placeholder,textarea::-webkit-input-placeholder,input::-webkit-input-placeholder,textarea::-webkit-input-placeholder{color:#80949F !important;}/*!sc*/\\ninput::-moz-placeholder,textarea::-moz-placeholder,input::-moz-placeholder,textarea::-moz-placeholder{color:#80949F !important;}/*!sc*/\\ninput:-ms-input-placeholder,textarea:-ms-input-placeholder,input:-ms-input-placeholder,textarea:-ms-input-placeholder{color:#80949F !important;}/*!sc*/\\ninput::placeholder,textarea::placeholder,input::placeholder,textarea::placeholder{color:#80949F !important;}/*!sc*/\\n.rselect__placeholder,.rselect__single-value{color:#80949F!important;}/*!sc*/\\n.rselect__control,.rselect__control--menu-is-open,.rselect__menu{background:#F6F6F6!important;color:#80949F!important;border-color:#DFE3EA!important;}/*!sc*/\\n.rselect__menu div{background-color:#FFFFFF!important;color:#80949F!important;border-color:#DFE3EA!important;cursor:pointer;}/*!sc*/\\n#upload-image{color:white!important;}/*!sc*/\\n.CircularProgressbar-path{stroke:#2DC8A8;}/*!sc*/\\n.CircularProgressbar-trail{stroke:#F9F9FB;}/*!sc*/\\n.CircularProgressbar-text{fill:#2F3A41;font-size:18px;font-weight:bold;}/*!sc*/\\n.CircularProgressbar-background{fill:green;}/*!sc*/\\ninput:focus{outline:none;}/*!sc*/\\ntextarea:focus{outline:none;}/*!sc*/\\nbutton:focus{outline:none;}/*!sc*/\\nlabel:hover{cursor:pointer;}/*!sc*/\\n.label-bage{width:48px;height:48px;border-radius:50%;box-shadow:0px 0px 10px rgba(0,0,0,0.1);background:white;display:-webkit-box;display:-ms-flexbox;display:-webkit-box;display:-webkit-flex;display:-ms-flexbox;display:flex;-webkit-box-align:center;-ms-flex-align:center;-webkit-align-items:center;-webkit-box-align:center;-ms-flex-align:center;align-items:center;-webkit-box-pack:center;-ms-flex-pack:center;-webkit-box-pack:center;-webkit-justify-content:center;-ms-flex-pack:center;justify-content:center;font-size:14px;font-weight:500;}/*!sc*/\\n.hlink-text{margin-right:15px;font-size:12px;color:#80949F;}/*!sc*/\\n.hlink-text:hover{color:#80949F;}/*!sc*/\\n.text-area{border:0;border-radius:10px;padding:20px;background:#F7F7F7;width:100%;margin-bottom:10px;}/*!sc*/\\n.gray-01{color:#80949F;font-weight:500;}/*!sc*/\\n.gray-02{color:#536476;font-weight:500;}/*!sc*/\\n.gray-03{color:#7F92A3;font-weight:500;}/*!sc*/\\n.header-title{font-size:12px;font-weight:500;-webkit-box-pack:start;-ms-flex-pack:start;-webkit-box-pack:start;-webkit-justify-content:flex-start;-ms-flex-pack:start;justify-content:flex-start;-webkit-box-align:center;-ms-flex-align:center;-webkit-align-items:center;-webkit-box-align:center;-ms-flex-align:center;align-items:center;display:-webkit-box;display:-ms-flexbox;display:-webkit-box;display:-webkit-flex;display:-ms-flexbox;display:flex;height:100%;}/*!sc*/\\n.header-title p,.header-title span,.header-title strong{padding:0;margin:0;}/*!sc*/\\n.header-title:hover{color:#80949F;}/*!sc*/\\n.menu-text{font-size:16px;color:inherit;}/*!sc*/\\n.menu-text:hover{color:#536476;}/*!sc*/\\n.menu-icon{font-size:14px;color:#536476;margin-left:10px;margin-right:25px;}/*!sc*/\\n.menu-avatar{font-size:14px;color:#536476;margin-left:10px;margin-right:7px;margin-top:8px;}/*!sc*/\\n.header-main{height:80px;}/*!sc*/\\n.header-icons{margin-left:8px;font-size:18px !important;border-radius:50%;color:#7F92A3;}/*!sc*/\\n.selectbox{border:0;padding:3px 15px 3px 15px;background:#F6F6F6;}/*!sc*/\\n.body-section{padding-left:0;padding-right:0;}/*!sc*/\\n.MuiBadge-dot{height:12px !important;padding:0;min-width:12px !important;border-radius:6px !important;border:2px solid white;}/*!sc*/\\n.left-menu{padding:20px;border-radius:10px;}/*!sc*/\\n.filter-bar{border-radius:10px;padding:15px;margin-bottom:30px;}/*!sc*/\\n.row.main .program{background:rgba(65,8,225,0.8);}/*!sc*/\\n.row.main .remote{background:rgba(0,219,74,0.8);}/*!sc*/\\n.row.main .inclass{background:rgba(234,70,0,0.8);}/*!sc*/\\n.card-top{position:absolute;background:\"#F94A4E\";display:-webkit-box;display:-ms-flexbox;display:-webkit-box;display:-webkit-flex;display:-ms-flexbox;display:flex;-ms-flex-pack:distribute;-webkit-box-pack:space-around;-webkit-justify-content:space-around;-ms-flex-pack:space-around;justify-content:space-around;width:45%;right:0;bottom:66px;padding:4px 10px 4px 10px;margin-top:-29px !important;background-color:transparent;-webkit-box-align:center;-ms-flex-align:center;-webkit-align-items:center;-webkit-box-align:center;-ms-flex-align:center;align-items:center;margin:0;}/*!sc*/\\n.card-top.program{background:rgba(65,8,225,0.8);}/*!sc*/\\n.card-top.remote{background:rgba(0,219,74,0.8);}/*!sc*/\\n.card-top.inclass{background:rgba(234,70,0,0.8);}/*!sc*/\\n.card-desc{padding:10px 20px 10px 20px;height:56px;max-height:56px;}/*!sc*/\\n.card-text{font-size:14px;color:#e8e9ea;display:-webkit-box;display:-ms-flexbox;display:-webkit-box;display:-webkit-flex;display:-ms-flexbox;display:flex;-webkit-box-pack:center;-ms-flex-pack:center;-webkit-box-pack:center;-webkit-justify-content:center;-ms-flex-pack:center;justify-content:center;width:100%;}/*!sc*/\\n.card-text:hover{color:white;}/*!sc*/\\n.card-text-desc{font-size:16px;}/*!sc*/\\n.card-header > .collapsed{color:#80949F !important;}/*!sc*/\\n.custom-button{background:#1D85E8;color:white;}/*!sc*/\\n.login-body{background:white;border-radius:10px;}/*!sc*/\\n.breadcrumb{background:transparent;margin-bottom:.4rem;}/*!sc*/\\n.breadcrumb-item+.breadcrumb-item::before{display:inline-block;padding-right:0.5rem;color:#6c757d;content:\">\";}/*!sc*/\\n.middle-gray-active{color:#536476;font-size:16px;font-weight:500;text-align:center;width:100%;}/*!sc*/\\n.middle-gray-active:hover{color:#536476;}/*!sc*/\\n.middle-gray{color:#80949F;font-size:16px;font-weight:500;text-align:center;width:100%;}/*!sc*/\\n.middle-gray:hover{color:#536476;}/*!sc*/\\n.small-gray{font-size:14px;font-weight:400;color:#80949F !important;}/*!sc*/\\n.small-gray:hover{color:#7F92A3;}/*!sc*/\\n.email-form{padding:11px;background:#F6F6F6;border:0;padding-left:20px;border-radius:6px;width:100%;margin-bottom:10px;}/*!sc*/\\n.pass-form{padding:11px;border:0;padding-left:20px;border-radius:6px;width:100%;margin-bottom:10px;}/*!sc*/\\n.ques-text{color:#1D85E8;float:right;font-weight:500;font-size:14px;}/*!sc*/\\n.ques-text:hover{color:#1D85E8;}/*!sc*/\\n.btn{width:100%;padding:10px 20px;border-radius:6px;border:0;}/*!sc*/\\n.primary-btn{width:100%;padding:10px 20px;background-color:#1D85E8;color:#FFFFFF;border-radius:6px;border:0;}/*!sc*/\\n.primary-btn:hover{background-color:#1D85E8;color:#FFFFFF;}/*!sc*/\\n.secondary-btn{padding:10px 10px;color:#B6C0CA;border-radius:6px;background-color:#092C4C;border:0;}/*!sc*/\\n.secondary-btn:hover{background-color:#092C4C;color:#FFFFFF;}/*!sc*/\\n.big-gray{color:#80949F;font-size:18px;font-weight:500;}/*!sc*/\\n.footer-menu-text{font-size:14px;font-weight:500;color:#536476;-webkit-user-select:none;-moz-user-select:none;-ms-user-select:none;-webkit-user-select:none;-moz-user-select:none;-ms-user-select:none;user-select:none;}/*!sc*/\\n.year-select{padding:10px;border:0;border-radius:6px;background:#F7F7F7;width:100%;}/*!sc*/\\n#progressbar li{list-style-type:none;font-size:15px;width:33%;float:left;position:relative;font-weight:400;}/*!sc*/\\n#progressbar{margin-bottom:20px;overflow:hidden;color:lightgrey;padding-left:15px;}/*!sc*/\\n#progressbar .active{color:#673AB7;}/*!sc*/\\n#progressbar li:before{width:34px;height:34px;line-height:28px;display:block;font-size:20px;color:#ffffff;background:lightgray;border-radius:50%;margin:10px auto 10px auto;padding:2px;text-align:center;margin-right:0;}/*!sc*/\\n#progressbar .first-status-bar{width:9%;}/*!sc*/\\n#progressbar .second-status-bar{width:43%;}/*!sc*/\\n#progressbar .second-status-bar:after{background:lightgray;}/*!sc*/\\n#progressbar .third-status-bar{width:43%;}/*!sc*/\\n#progressbar li:after{content:\\'\\';width:100%;height:2px;background:lightgray;position:absolute;left:0;top:25px;z-index:-1;}/*!sc*/\\n#progressbar li.active:before,#progressbar li.active:after{background:#1D85E8;}/*!sc*/\\n#progressbar #account:before{font-family:FontAwesome;content:\"1\";}/*!sc*/\\n#progressbar #personal:before{font-family:FontAwesome;content:\"2\";}/*!sc*/\\n#progressbar .current-status:before{border:3px solid rgb(173 216 230 / 67%);width:37px;height:37px;}/*!sc*/\\n#progressbar #payment:before{font-family:FontAwesome;content:\"3\";}/*!sc*/\\n#progressbar #confirm:before{font-family:FontAwesome;content:\"3\";}/*!sc*/\\n.desc-msg{background:rgb(45 200 168 / 10%);color:#2DC8A8;padding:17px 18px;border-radius:10px;display:-webkit-box;display:-ms-flexbox;display:-webkit-box;display:-webkit-flex;display:-ms-flexbox;display:flex;-webkit-box-align:center;-ms-flex-align:center;-webkit-align-items:center;-webkit-box-align:center;-ms-flex-align:center;align-items:center;}/*!sc*/\\n.big-title{font-size:24px;font-weight:500;color:#80949F !important;}/*!sc*/\\n.big-title > a{color:#80949F !important;}/*!sc*/\\n.progress-bar{background:rgba(45,200,168,0.6) !important;}/*!sc*/\\n.progress-bar span{color:#536476 !important;}/*!sc*/\\n#progress{border-radius:6px;width:100%;border-radius:0px 0px 10px 10px;overflow:hidden;}/*!sc*/\\n#progress>div{background-color:rgba(45,200,168,0.6) !important;width:0%;height:10px;-webkit-transition:width 0.5s ease-out;-o-transition:width 0.5s ease-out;-webkit-transition:width 0.5s ease-out;transition:width 0.5s ease-out;}/*!sc*/\\n.dropdown-menu-item{position:absolute;width:250px;-webkit-box-shadow:0px 0px 10px rgba(0,0,0,0.1);box-shadow:0px 0px 10px rgba(0,0,0,0.1);border-radius:0 0 10px 10px;padding:24px 0px;z-index:9999;}/*!sc*/\\n.dropdown-category-menu{top:28px !important;left:-60px !important;}/*!sc*/\\n.menu-list{font-size:14px;color:#536476;}/*!sc*/\\n.dropdown-login{width:350px;border-radius:10px;padding:8px;position:absolute;right:0;-webkit-box-shadow:0px 0px 10px rgba(0,0,0,0.1);box-shadow:0px 0px 10px rgba(0,0,0,0.1);z-index:2000;}/*!sc*/\\n.category-icons{background:white;padding:20px;border-radius:10px;text-align:center;}/*!sc*/\\n.circle-progress{padding:45px 25px;background:white;border-radius:10px;}/*!sc*/\\n.top-section{padding:20px;background:white;border-radius:10px;}/*!sc*/\\n.bold-gray{font-weight:500;color:#80949F!important;}/*!sc*/\\n.black{color:black !important;}/*!sc*/\\n.small-bold-gray{font-weight:500;font-size:14px;line-height:24px;color:#80949F!important;}/*!sc*/\\n.small-bold-gray span{color:#80949F!important;}/*!sc*/\\n.small-bold-gray.active-tab{color:#1D85E8!important;}/*!sc*/\\n.active-btn{border-radius:6px;background:rgba(29,133,232,0.1);color:#1D85E8;}/*!sc*/\\n.active-text{color:#1D85E8 !important;}/*!sc*/\\n.active-button > span{color:#1D85E8 !important;}/*!sc*/\\n.step-icon{width:20px;height:20px;border-radius:50%;border:1px solid #D7E0E7;background:white;}/*!sc*/\\n.analy-icon{background:#E9F3FD;}/*!sc*/\\n.item-align{-webkit-box-pack:center;-ms-flex-pack:center;-webkit-box-pack:center;-webkit-justify-content:center;-ms-flex-pack:center;justify-content:center;}/*!sc*/\\n.page-link{border:0 !important;margin-right:10px;border-radius:10px;color:#1D85E8;}/*!sc*/\\n.page-item.active .page-link{background-color:#1D85E8;border:1px solid #1D85E8;}/*!sc*/\\n.pagination > .page-item .page-link{background-color:#FFFFFF;color:#1D85E8;}/*!sc*/\\n.pagination > .page-item.active > a{background-color:#1D85E8;color:#FFFFFF;}/*!sc*/\\n.pagination > .page-item.disabled > a{color:#80949F;}/*!sc*/\\n.pagination .page-item .page-link{margin:0.2rem;}/*!sc*/\\n.pagination .page-item .page-link.noborder{border:none;}/*!sc*/\\n.modal-content .pagination .page-item{border:none!important;border-radius:10px;}/*!sc*/\\n.table-page-link{border:1px solid #dee2e6;margin-right:0px !important;border-radius:0px !important;}/*!sc*/\\n.table-page-link:focus{box-shadow:none !important;}/*!sc*/\\n.table-pagination{font-size:14px;}/*!sc*/\\n.dropdown-menu.show{background-color:#F6F6F6;color:#80949F;}/*!sc*/\\n.dropdown-menu.show button{background-color:#F6F6F6;color:#80949F;}/*!sc*/\\n.dropdown-menu.show button:hover{background-color:#F6F6F6;color:#536476;font-weight:600;}/*!sc*/\\n.active{color:#FFFFFF;}/*!sc*/\\n.list-menu:hover{background:#80808026;cursor:pointer;}/*!sc*/\\n.sub-menu-list .menu-list{left:-99999em;}/*!sc*/\\n.sub-menu-list .menu-list:hover{left:113%;top:-1px;}/*!sc*/\\n.sub-menu-list:hover > .menu-list{left:100.5%;top:-1px;}/*!sc*/\\n.trans-btn{background:transparent;padding:10px 20px;border:0;color:#536476;font-size:14px;font-weight:500;}/*!sc*/\\n.sidenav{height:100%;width:0;position:fixed;z-index:1;top:0;left:0;background-color:#FFFFFF;overflow-x:hidden;padding-top:0px;-webkit-transition:0.5s;-o-transition:0.5s;-webkit-transition:0.5s;transition:0.5s;z-index:10000;}/*!sc*/\\n.pointer{cursor:pointer;}/*!sc*/\\n.sidenav a{padding:12px 8px 12px 0px;-webkit-text-decoration:none;text-decoration:none;font-size:14px;display:block;-webkit-transition:0.3s;-o-transition:0.3s;-webkit-transition:0.3s;transition:0.3s;}/*!sc*/\\n.sidenav .closebtn{position:absolute;top:0;right:14px;font-size:30px;color:#80949F;}/*!sc*/\\n@media screen and (max-height:450px){.sidenav{padding-top:15px;}.sidenav a{font-size:18px;}}/*!sc*/\\n.underEveryThing{z-index:-1;}/*!sc*/\\n.overEveryThing{z-index:999;}/*!sc*/\\n.zoom-type-card{width:287px !important;}/*!sc*/\\n@media screen and (min-width:990px) and (max-width:1200px){.zoom-type-card{margin:0 34px !important;}}/*!sc*/\\n@media screen and (min-width:990px) and (max-width:1330px){.high-type-card{margin:0 58px 0 0 !important;padding:2px !important;}}/*!sc*/\\n@media screen and (min-width:578px) and (max-width:767px){.high-type-card{margin:0 80px 0 0 !important;padding:2px !important;}}/*!sc*/\\n.borderless-type-card{margin:0 0 40px 0;}/*!sc*/\\n.watchlater-favorite_btns{width:48%;display:-webkit-box;display:-ms-flexbox;display:-webkit-box;display:-webkit-flex;display:-ms-flexbox;display:flex;-webkit-box-align:center;-ms-flex-align:center;-webkit-align-items:center;-webkit-box-align:center;-ms-flex-align:center;align-items:center;-webkit-box-pack:center;-ms-flex-pack:center;-webkit-box-pack:center;-webkit-justify-content:center;-ms-flex-pack:center;justify-content:center;margin:10px 0;position:relative;padding:10px 0px;}/*!sc*/\\n.font_size-24{font-size:24px;}/*!sc*/\\n.font_size-50{font-size:500px !important;}/*!sc*/\\n.cg_permission-top-modal-checkbox input[type=checkbox]:checked+label:after{color:#1D85E8 !important;}/*!sc*/\\n.cg_permission-top-modal-footer-contained-button{opacity:80%;background-color:#1D85E8 !important;}/*!sc*/\\n.cg_permission-top-modal-footer-contained-button:hover{opacity:1;background-color:#1D85E8 !important;}/*!sc*/\\n@media only screen and (max-height:1024px){.menu-height{height:75vh;overflow:auto;}}/*!sc*/\\n@media only screen and (min-height:1024px){.menu-height{height:auto !important;}}/*!sc*/\\n.toaster-container{background-color:#FFFFFF !important;z-index:999999999999999999999 !important;}/*!sc*/\\na{color:#1D85E8;-webkit-text-decoration:none;text-decoration:none;background-color:transparent;}/*!sc*/\\na:hover{color:#1D85E8;}/*!sc*/\\n.bcg-primary{background-color:#FFFFFF !important;}/*!sc*/\\n.bcg-secondary{background-color:#F6F6F6 !important;}/*!sc*/\\n.bcg-primary-color-20{background-color:#1D85E820 !important;}/*!sc*/\\n.bcg-primary-color{background-color:#1D85E8 !important;}/*!sc*/\\n.txt-primary-color{color:#1D85E8 !important;}/*!sc*/\\n.stroke-primary-color{stroke:#1D85E8 !important;}/*!sc*/\\n.bcg-cellSecondary{background-color:#EBEEF3 !important;}/*!sc*/\\n.txt-active-primary{color:#80949F !important;}/*!sc*/\\n.txt-active-secondary{color:#536476 !important;}/*!sc*/\\n.txt-primary{color:#80949F !important;}/*!sc*/\\n.txt-tab-text{color:#1D85E8 !important;}/*!sc*/\\n.stroke-tab-text{stroke:#1D85E8;}/*!sc*/\\n.txt-bg-primary{color:#1D85E8 !important;}/*!sc*/\\n.txt-secondary{color:#536476 !important;}/*!sc*/\\n.txt-link{color:#1D85E8 !important;}/*!sc*/\\n.bcg-tab-primary{background:#E9F3FD !important;}/*!sc*/\\n.bcg-progress{background-color:rgba(45,200,168,0.6) !important;}/*!sc*/\\n.border-primary{border:1px solid #FFFFFF !important;}/*!sc*/\\n.border-y-primary{border-top:1px solid !important;border-bottom:1px solid !important;}/*!sc*/\\n.border-tt-primary{border-top:1px solid !important;}/*!sc*/\\n.border-r-primary{border-right:1px solid !important;}/*!sc*/\\n.border-t-primary{border-top:1px solid #DFE3EA !important;}/*!sc*/\\n.border-b-primary{border-bottom:1px solid #DFE3EA !important;}/*!sc*/\\n.border-secondary{border:1px solid #F6F6F6 !important;}/*!sc*/\\n.border-bPrimay{border:1px solid #DFE3EA !important;}/*!sc*/\\n.body-content .card{margin-bottom:0;font-size:14px;margin-bottom:15px;background-color:#F6F6F6 !important;color:#80949F;}/*!sc*/\\n.body-content .card .card-header{border-radius:10px 10px 0 0;background-color:#F6F6F6 !important;color:#80949F;border-color:#DFE3EA;}/*!sc*/\\n.body-content .card .card-block{padding:10px 10px 5px 0;}/*!sc*/\\n.body-content img,.body-content iframe{max-width:100% !important;}/*!sc*/\\n.fill-course-like-dislike{fill:#1D85E8;}/*!sc*/\\n.course-watch-later-active .svg-later-icon{fill:#1D85E8;stroke:#1D85E8;}/*!sc*/\\n.course-watch-later-active span{color:#1D85E8;font-weight:500;}/*!sc*/\\n.course-watch-later-not-active .svg-later-icon{fill:transparent;stroke:#80949F;}/*!sc*/\\n.course-watch-later-not-active span{color:#80949F;font-weight:400;}/*!sc*/\\n.course-favorite-active .svg-favorite-icon{fill:#FFC258;stroke:#FFC258;}/*!sc*/\\n.course-favorite-active span{color:#FFC258;font-weight:500;}/*!sc*/\\n.course-favorite-not-active .svg-favorite-icon{fill:transparent;stroke:#80949F;}/*!sc*/\\n.course-favorite-not-active span{color:#80949F;font-weight:400;}/*!sc*/\\n.borderless-watchlater{background:#fff;fill:#1D85E8;stroke:white;}/*!sc*/\\n.borderless-watchlater:hover{background:#1D85E880;-webkit-transition:all 0.5s;transition:all 0.5s;}/*!sc*/\\n.borderless-favorite{background:#fff;fill:#1D85E8;stroke:white;}/*!sc*/\\n.borderless-favorite:hover{background:#1D85E880;-webkit-transition:all 0.5s;transition:all 0.5s;}/*!sc*/\\n.btn-primary{background-color:#1D85E8 !important;color:#FFFFFF !important;border:1px solid #1D85E80 !important;}/*!sc*/\\n.btn-primary:hover{border-color:#1D85E8 !important;}/*!sc*/\\n.btn-active{background-color:#1D85E8 !important;color:#FFFFFF !important;border:1px solid #1D85E80 !important;}/*!sc*/\\n.btn-active:hover{border-color:#1D85E8 !important;}/*!sc*/\\n.btn-transparent{background-color:transparent !important;color:#536476 !important;border:1px solid transparent !important;}/*!sc*/\\n.btn-transparent:hover{border-color:#1D85E8 !important;}/*!sc*/\\n.btn-secondary{background-color:#092C4C;color:#B6C0CA;border:1px solid #1D85E80 !important;}/*!sc*/\\n.btn-secondary:hover{background-color:#092C4C;color:#FFFFFF;}/*!sc*/\\n.btn-secondary:focus{background-color:#092C4C;color:#FFFFFF;}/*!sc*/\\n.border-btn-primary{border-bottom:1px solid #DFE3EA !important;}/*!sc*/\\n.program{background:rgba(65,8,225,0.8);}/*!sc*/\\n.program .program-icon{stroke:#fff;-webkit-transform:scale(0.8);-ms-transform:scale(0.8);transform:scale(0.8);}/*!sc*/\\n.remote{background:rgba(0,219,74,0.8);}/*!sc*/\\n.remote .elearning-icon{stroke:#fff;-webkit-transform:scale(0.8);-ms-transform:scale(0.8);transform:scale(0.8);}/*!sc*/\\n.inclass{background:rgba(234,70,0,0.8);}/*!sc*/\\n.inclass .inclass-icon{stroke:#fff;-webkit-transform:scale(0.8);-ms-transform:scale(0.8);transform:scale(0.8);}/*!sc*/\\n.evaluation-form{background:#1D85E8;}/*!sc*/\\n.beginner{background:rgba(138,236,138,0.6);}/*!sc*/\\n.intermediate{background:rgba(237,188,2,0.6);}/*!sc*/\\n.advanced{background:rgba(241,112,82,0.6);}/*!sc*/\\n.public{background:rgba(138,236,138,0.6);}/*!sc*/\\n.svg-btn-primary path,.svg-btn-primary circle,.svg-btn-primary polygon{stroke:#1D85E8 !important;}/*!sc*/\\n.svg-secondary path,.svg-secondary circle,.svg-secondary polygon{stroke:#536476 !important;}/*!sc*/\\n.active-menu{background:#1D85E820 !important;color:#1D85E8 !important;}/*!sc*/\\n.active-menu-hover:hover{color:#1D85E8 !important;}/*!sc*/\\n.new-ribbon{--f:0px;--r:10px;padding:0px 9px var(--f) calc(10px + var(--r));-webkit-clip-path:polygon(0 0,100% 0,100% calc(100% - var(--f)),0 calc(100% - var(--f)),var(--r) calc(50% - var(--f)/2));clip-path:polygon(0 0,100% 0,100% calc(100% - var(--f)),0 calc(100% - var(--f)),var(--r) calc(50% - var(--f)/2));background:rgb(255,0,0,0.7);color:#FFF;font-size:13px;font-weight:bold;margin:auto 0;}/*!sc*/\\n.default-banner .swiper-slide{position:relative;border-radius:10px;}/*!sc*/\\n.default-banner .swiper-slide img{border-radius:20px;width:100%;height:315px;}/*!sc*/\\n@media only screen and (max-width:1535px){.default-banner .swiper-slide{height:250px !important;}.default-banner .swiper-slide img{object-fit:cover;height:250px !important;}}/*!sc*/\\n.default-banner .swiper-slide iframe{max-height:400px;}/*!sc*/\\n.default-banner .swiper-slide .container{position:absolute;top:0;bottom:0;left:0;right:0;display:-webkit-box;display:-ms-flexbox;display:-webkit-box;display:-webkit-flex;display:-ms-flexbox;display:flex;-webkit-box-pack:start;-ms-flex-pack:start;-webkit-box-pack:start;-webkit-justify-content:flex-start;-ms-flex-pack:start;justify-content:flex-start;-webkit-box-align:center;-ms-flex-align:center;-webkit-align-items:center;-webkit-box-align:center;-ms-flex-align:center;align-items:center;}/*!sc*/\\n.default-banner .swiper-slide .container .row > .hero-title{padding-left:6rem;}/*!sc*/\\n.default-banner .swiper-slide .container .row > .hero-title a{padding:0.8rem 1.2rem;border-radius:5px;}/*!sc*/\\n@media (max-width:600px){.default-banner .swiper-slide .container .row > .hero-title{padding-left:5rem;}.default-banner .swiper-slide .container .row > .hero-title h1{font-size:0.75rem !important;margin:0;}.default-banner .swiper-slide .container .row > .hero-title p,.default-banner .swiper-slide .container .row > .hero-title a{font-size:0.75rem !important;}.default-banner .swiper-slide .container .row > .hero-title a{padding:0.5rem 1rem;}}/*!sc*/\\n.ce-block__content{position:relative;max-width:100%;margin:0 10px;-webkit-transition:background-color .15s ease;-webkit-transition:background-color .15s ease;transition:background-color .15s ease;}/*!sc*/\\n.ce-toolbar__content{max-width:100%;margin:0 35px;}/*!sc*/\\n.ce-header{color:#80949F;}/*!sc*/\\n.ant-dropdown-menu{box-shadow:none;}/*!sc*/\\n.ant-dropdown-menu-root{background-color:#FFFFFF;}/*!sc*/\\n.ant-dropdown-menu-submenu-popup li,.ant-dropdown-menu-submenu-popup ul{list-style:none;width:250px;background-color:#FFFFFF;color:#536476;border-radius:10px;}/*!sc*/\\n.ant-dropdown-menu-item,.ant-dropdown-menu-submenu-title{background-color:#FFFFFF;color:#536476;padding:10px;width:100%;display:-webkit-box;display:-webkit-flex;display:-ms-flexbox;display:flex;-webkit-align-items:flex-start;-webkit-box-align:flex-start;-ms-flex-align:flex-start;align-items:flex-start;height:42px;}/*!sc*/\\n.ant-dropdown-menu-item p,.ant-dropdown-menu-submenu-title p{text-overflow:ellipsis;overflow:hidden;white-space:nowrap;width:180px;margin-top:2px;color:#536476 !important;}/*!sc*/\\n.ant-dropdown,.ant-dropdown-menu-submenu{z-index:99999;-webkit-animation-duration:0s !important;animation-duration:0s !important;}/*!sc*/\\n.ant-dropdown-menu-item.ant-dropdown-menu-item-active,.ant-dropdown-menu-item.ant-dropdown-menu-submenu-title-active,.ant-dropdown-menu-item:hover,.ant-dropdown-menu-submenu-title.ant-dropdown-menu-item-active,.ant-dropdown-menu-submenu-title.ant-dropdown-menu-submenu-title-active,.ant-dropdown-menu-submenu-title:hover{background:#FFFFFF;color:#536476;}/*!sc*/\\n.ant-dropdown-menu-item.ant-dropdown-menu-item-active p,.ant-dropdown-menu-item.ant-dropdown-menu-submenu-title-active p,.ant-dropdown-menu-item:hover p,.ant-dropdown-menu-submenu-title.ant-dropdown-menu-item-active p,.ant-dropdown-menu-submenu-title.ant-dropdown-menu-submenu-title-active p,.ant-dropdown-menu-submenu-title:hover p{color:#536476 !important;}/*!sc*/\\n.ant-dropdown-menu-item .ant-dropdown-menu-submenu-expand-icon,.ant-dropdown-menu-submenu-title .ant-dropdown-menu-submenu-expand-icon{position:absolute;right:8px;top:7px;}/*!sc*/\\n.ant-dropdown-menu-item .ant-dropdown-menu-submenu-expand-icon .ant-dropdown-menu-submenu-arrow-icon,.ant-dropdown-menu-submenu-title .ant-dropdown-menu-submenu-expand-icon .ant-dropdown-menu-submenu-arrow-icon{margin-right:0 !important;color:#536476;font-size:10px;font-style:normal;}/*!sc*/\\n.ant-menu-submenu-arrow{color:#536476;}/*!sc*/\\n.ant-menu-list-full{font-size:14px;color:#536476;text-overflow:ellipsis;overflow:hidden;white-space:nowrap;width:250px;margin-top:2px;}/*!sc*/\\n.ant-menu-item-selected,.ant-menu-item-selected a,.ant-menu-item-selected a:hover{background:transparent !important;color:#80949F !important;font-weight:500;}/*!sc*/\\n.ant-menu-inline .ant-menu-item:after{border-right:1px solid #1D85E8;}/*!sc*/\\n.ant-drawer{z-index:99999;}/*!sc*/\\n.ant-drawer-wrapper-body{color:#80949F;background-color:#FFFFFF;width:100%;}/*!sc*/\\n.ant-drawer-header{border-bottom:1px solid #80949F;}/*!sc*/\\n.ant-drawer-close{color:#80949F;}/*!sc*/\\n.ant-drawer-close:hover{color:#536476;}/*!sc*/\\n.ant-drawer-close,.ant-drawer-title{color:#80949F;}/*!sc*/\\n.ant-drawer-body{-webkit-flex:1;-ms-flex:1;flex:1;min-width:0;min-height:0;padding:15px 0;overflow:auto;}/*!sc*/\\n.ant-drawer .ant-collapse-content{background-color:#FFFFFF;color:#80949F;}/*!sc*/\\n.ant-collapse-content>.ant-collapse-content-box{padding:0;}/*!sc*/\\n.ant-collapse>.ant-collapse-item>.ant-collapse-header .ant-collapse-arrow{vertical-align:2px;}/*!sc*/\\n.ant-collapse-item,.ant-collapse-header-text,.ant-collapse-expand-icon{background-color:#FFFFFF;color:#80949F;}/*!sc*/\\n.ant-collapse{border:0px;}/*!sc*/\\n.ant-menu-inline{background-color:#FFFFFF !important;color:#80949F !important;}/*!sc*/\\n.faq-answer p,.faq-question p{margin:0px;}/*!sc*/\\n.faq-answer img,.faq-question img{width:100%;}/*!sc*/\\n.rselect__menu{z-index:99999 !important;}/*!sc*/\\n.rselect__control{background-color:#F7F7F7 !important;min-height:44px !important;}/*!sc*/\\n.rselect__control:hover{border-color:#ebeef3 !important;}/*!sc*/\\n.rselect__indicator-separator{display:none !important;}/*!sc*/\\n.rselect__single-value{color:#7F92A3 !important;}/*!sc*/\\n.rselect__control--is-focused{box-shadow:0 0 0 2px #73b2ed !important;}/*!sc*/\\n.rselect__option{border-bottom:1px solid #EBEEF3 !important;}/*!sc*/\\n.rselect__option:last-child{border-bottom:none !important;}/*!sc*/\\n.rselect__option--is-focused{background-color:#e9f3fd !important;}/*!sc*/\\n.rselect__option--is-selected{background-color:#e9f3fd !important;color:#1D85E8 !important;}/*!sc*/\\n.small-select .rselect__control{min-height:26px !important;height:26px !important;cursor:pointer !important;}/*!sc*/\\n.small-select .rselect__placeholder{font-size:12px !important;}/*!sc*/\\n.small-select .rselect__input input{top:2px !important;position:absolute !important;}/*!sc*/\\n.small-select .rselect__indicator{padding:0 8px !important;}/*!sc*/\\n.small-select .rselect__value-container{height:26px !important;margin:0 !important;}/*!sc*/\\n.small-select .rselect__single-value{font-size:12px !important;}/*!sc*/\\n.search-box-select .rselect__control{height:48px;background:#f7f7f7;border:none !important;box-shadow:none !important;}/*!sc*/\\n.ant-tabs-tab-btn{background-color:#FFFFFF;color:#80949F;}/*!sc*/\\n.ant-tabs-dropdown-menu{background-color:#FFFFFF;}/*!sc*/\\n.ant-tabs-dropdown-menu span{color:#1D85E8;}/*!sc*/\\n.ant-tabs-dropdown-menu-item:hover{background-color:#FFFFFF;}/*!sc*/\\n.ant-tabs-dropdown-placement-bottomLeft{z-index:99999 !important;}/*!sc*/\\n.ant-tabs-ink-bar{background-color:transparent;}/*!sc*/\\n.ant-tabs-tab.ant-tabs-tab-active .ant-tabs-tab-btn{color:#1D85E8;font-weight:500;}/*!sc*/\\n.ant-tabs-ink-bar{background:#1D85E8;}/*!sc*/\\n.ant-divider-horizontal.ant-divider-with-text:before,.ant-divider-horizontal.ant-divider-with-text:after{position:relative;border-top:1px solid #DFE3EA;border-bottom:0;-webkit-transform:translateY(50%);-ms-transform:translateY(50%);transform:translateY(50%);content:\" \";}/*!sc*/\\n.rbc-overlay{background-color:#FFFFFF;}/*!sc*/\\n.rbc-overlay-header{color:#80949F;}/*!sc*/\\n.rbc-event{background:#1D85E8 !important;border:2px solid #fff !important;}/*!sc*/\\n.rbc-header{background:#1D85E8;color:#80949F;border-bottom:0px;border-radius:10px 10px 0 0;}/*!sc*/\\n@media screen and (max-width:765px){.rbc-month-header > .rbc-header,.rbc-time-header-cell > .rbc-header{-webkit-writing-mode:vertical-rl;-ms-writing-mode:tb-rl;writing-mode:vertical-rl;text-orientation:mixed;display:-webkit-box;display:-webkit-flex;display:-ms-flexbox;display:flex;-webkit-box-pack:center;-webkit-justify-content:center;-ms-flex-pack:center;justify-content:center;-webkit-align-items:center;-webkit-box-align:center;-ms-flex-align:center;align-items:center;}.rbc-time-content{overflow-y:unset;}.rbc-time-view{overflow-y:auto;}}/*!sc*/\\n.rbc-header button,.rbc-header a{font-weight:500;font-size:14px;color:#fff;}/*!sc*/\\n.rbc-off-range-bg{background:#1D85E8;color:#80949F;opacity:0.5;}/*!sc*/\\n.rbc-day-bg{background:#f2f2f2!important;color:#80949F;}/*!sc*/\\n.rbc-event{background-color:#1D85E8 !important;left:3px !important;}/*!sc*/\\n.rbc-agenda-content{overflow:auto;}/*!sc*/\\n.rbc-time-view .rbc-row{min-height:unset;}/*!sc*/\\n.rbc-time-view .rbc-row a:hover{color:unset;}/*!sc*/\\n.rbc-current-time-indicator{height:2px;}/*!sc*/\\n.rbc-day-slot .rbc-event-content{font-size:13px;font-weight:500;}/*!sc*/\\n.rbc-month-row{display:-webkit-box;display:-webkit-flex;display:-ms-flexbox;display:flex;position:relative;-webkit-flex-direction:column;-ms-flex-direction:column;flex-direction:column;-webkit-flex-basis:150px;-ms-flex-preferred-size:150px;flex-basis:150px;overflow:inherit;height:150px;}/*!sc*/\\n.rbc-today{background-color:#1D85E820 !important;}/*!sc*/\\n.rbc-today button,.rbc-today a{color:#1D85E8 !important;font-weight:700;}/*!sc*/\\n.rbc-now button,.rbc-now a{color:#1D85E8;font-weight:700;}/*!sc*/\\n.rbc-agenda-view{display:-webkit-box;display:-webkit-flex;display:-ms-flexbox;display:flex;-webkit-flex-direction:column;-ms-flex-direction:column;flex-direction:column;-webkit-flex:1 0 0;-ms-flex:1 0 0;flex:1 0 0;overflow:inherit;padding-top:20px;}/*!sc*/\\n.rbc-agenda-view table thead tr th{background-color:!important;color:#fff !important;}/*!sc*/\\n.rbc-agenda-view table.rbc-agenda-table thead > tr > th{background:#1D85E8;color:#80949F;padding:5px 7px !important;text-align:left;border-bottom:1px solid #ddd;}/*!sc*/\\n.rbc-agenda-view table.rbc-agenda-table thead{border:2px solid #fff;}/*!sc*/\\n.rbc-agenda-table tbody tr td{background-color:#FFFFFF;}/*!sc*/\\n.rbc-agenda-event-cell{color:#1D85E8;cursor:pointer;}/*!sc*/\\n.rbc-row-segment{margin:1px 0;}/*!sc*/\\n.rbc-header + .rbc-header{border-left:2px solid #fff;border-radius:10px 10px 0 0;color:#fff !important;}/*!sc*/\\n.rbc-time-header-content{border-left:2px solid #fff;}/*!sc*/\\n.rbc-time-view{border:2px solid #fff;}/*!sc*/\\n.rbc-timeslot-group{border-bottom:2px solid #fff;}/*!sc*/\\n.rbc-time-content > * + * > *{border-left:2px solid #fff;}/*!sc*/\\n.rbc-time-content{border-top:2px solid #fff;}/*!sc*/\\n.rbc-time-content > .rbc-day-slot{background:rgba(239,239,240,0.6);}/*!sc*/\\n.rbc-day-bg + .rbc-day-bg{border-left:2px solid #fff;}/*!sc*/\\n.rbc-month-view{border:2px solid #fff;}/*!sc*/\\n.rbc-month-row + .rbc-month-row{border-top:2px solid #fff;}/*!sc*/\\n.rbc-month-header{border-bottom:2px solid #fff;}/*!sc*/\\n.rbc-month-header > .rbc-header > span{font-size:14px;font-weight:500;color:#fff;}/*!sc*/\\n.rbc-date-cell{padding-top:4px;}/*!sc*/\\n.rbc-show-more{background-color:transparent !important;}/*!sc*/\\n.rbc-time-content > .rbc-time-gutter > .rbc-timeslot-group > div.rbc-time-slot{border-radius:10px 0 0 10px;background:#1D85E8;color:#80949F;font-weight:500;}/*!sc*/\\n.rbc-time-content > .rbc-time-gutter > .rbc-timeslot-group > div.rbc-time-slot > span{display:block;margin-top:7px;color:#fff !important;}/*!sc*/\\n.ant-popover-arrow-content{--antd-arrow-background-color:#FFFFFF;}/*!sc*/\\n.ant-popover-inner{background:#FFFFFF;}/*!sc*/\\n.hide-popover-arrow .ant-popover-arrow{height:0px;width:0px;}/*!sc*/\\n.mainSwiperBox .swiper-wrapper{margin-bottom:25px;margin-top:10px;}/*!sc*/\\n.mainSwiperBox .swiper-pagination-progressbar{height:1px;background:transparent;}/*!sc*/\\n.mainSwiperBox .swiper-pagination-progressbar .swiper-pagination-progressbar-fill{background:#1D85E8;}/*!sc*/\\n.mainSwiperBox .swiper-pagination-fraction{text-align:end;}/*!sc*/\\n.mainSwiperBox .swiper-pagination-bullets.swiper-pagination-bullets-dynamic .swiper-pagination-bullet{background:#1D85E8;}/*!sc*/\\n.swipper-arrow svg{stroke:#1D85E8;stroke-width:1.5px;}/*!sc*/\\n.swipper-arrow svg:hover{stroke:#FFFFFF;}/*!sc*/\\n.swipper-arrow span{background:#FFFFFF;border-radius:50%;margin:0 5px;}/*!sc*/\\n.swipper-arrow span:hover{background:#1D85E8;}/*!sc*/\\n.swipper-arrow .children-center{background:inherit;border-radius:0px;margin:0 5px;}/*!sc*/\\n.swipper-arrow .children-center:hover{background:inherit;}/*!sc*/\\n.ant-breadcrumb .ant-breadcrumb-separator{color:#80949F;}/*!sc*/\\n.ant-collapse-ghost > .ant-collapse-item > .ant-collapse-content > .ant-collapse-content-box{padding:0;}/*!sc*/\\n.ant-checkbox-checked .ant-checkbox-inner{background-color:#1D85E8;border-color:#1D85E8;}/*!sc*/\\n.ant-checkbox-wrapper{color:#80949F;}/*!sc*/\\n.ant-checkbox-indeterminate .ant-checkbox-inner::after{background-color:#1D85E8;}/*!sc*/\\n.ant-modal-content{background:#FFFFFF;color:#80949F!important;}/*!sc*/\\n.ant-modal-header{background:#FFFFFF;}/*!sc*/\\n.ant-modal-header div{color:#80949F;}/*!sc*/\\n.ant-checkbox-wrapper{font-weight:500;}/*!sc*/\\n.ant-checkbox-wrapper span:nth-child(2){white-space:nowrap;overflow:hidden;text-overflow:ellipsis;max-width:300px;}/*!sc*/\\n@media screen and (max-width:1024px){.ant-checkbox-wrapper span:nth-child(2){max-width:100%;}}/*!sc*/\\n.ant-checkbox-inner{width:20px;height:20px;border-radius:6px;cursor:pointer;top:0;left:0;background:transparent;border:2px solid #d7e0e7;}/*!sc*/\\n.ant-checkbox-checked .ant-checkbox-inner{background-color:transparent;border-color:#d7e0e7;border-width:1px;}/*!sc*/\\n.ant-checkbox-checked .ant-checkbox-inner::after{position:absolute;left:7px;display:table;border:2.5px solid #1D85E8;border-top:0;border-left:0;-webkit-transform:rotate(33deg) scale(1.2) translate(-86%,-24%);-ms-transform:rotate(33deg) scale(1.2) translate(-86%,-24%);transform:rotate(33deg) scale(1.2) translate(-86%,-24%);opacity:1;-webkit-transition:all 0.2s cubic-bezier(0.12,0.4,0.29,1.46) 0.1s;transition:all 0.2s cubic-bezier(0.12,0.4,0.29,1.46) 0.1s;content:\"  \";font-size:20px;width:16px;height:17px;}/*!sc*/\\n.ant-checkbox-wrapper:hover .ant-checkbox-inner,.ant-checkbox:hover .ant-checkbox-inner,.ant-checkbox-input:focus + .ant-checkbox-inner{border-color:#1D85E8;}/*!sc*/\\n.ant-checkbox-checked::after{position:absolute;top:0;left:0;width:100%;height:100%;border:1px solid #1D85E8;border-radius:6px;visibility:hidden;-webkit-animation:antCheckboxEffect 0.36s ease-in-out;animation:antCheckboxEffect 0.36s ease-in-out;-webkit-animation-fill-mode:backwards;animation-fill-mode:backwards;content:\\'\\';}/*!sc*/\\n.ant-tag-red{border-radius:50%;position:absolute;margin:-2px 0 0 9px;}/*!sc*/\\n.ant-progress{display:unset;}/*!sc*/\\n.ant-progress-outer{display:unset;}/*!sc*/\\n.ant-progress-inner{display:unset;background-color:#FFFFFF !important;}/*!sc*/\\n.ant-progress-bg{background-color:rgba(45,200,168,0.6) !important;}/*!sc*/\\n.ant-progress-circle .ant-progress-text{color:#536476 !important;}/*!sc*/\\n.ant-progress-inner:not(.ant-progress-circle-gradient) .ant-progress-circle-path{stroke:rgba(45,200,168,0.6);!important;}/*!sc*/\\n.borderless-progress .ant-progress{display:inline-block;background-color:#e9ecef !important;}/*!sc*/\\n.borderless-progress .ant-progress-bg{background-color:rgba(45,200,168,0.6) !important;height:16px !important;}/*!sc*/\\n.anticon{vertical-align:1px;}/*!sc*/\\n.ant-pagination .ant-pagination-item{border-radius:6px;background:#FFFFFF;border-color:transparent;color:#1D85E8;margin:5px;}/*!sc*/\\n.ant-pagination .ant-pagination-item-active{background:#1D85E8;border-color:#1D85E8;color:#fff;}/*!sc*/\\n.ant-pagination .ant-pagination-item-link{border-radius:6px;background:#FFFFFF;border-color:transparent;color:#1D85E8;}/*!sc*/\\n.ant-pagination .ant-pagination-item-link:hover{border-color:transparent;}/*!sc*/\\n.ant-pagination .ant-pagination-prev,.ant-pagination .ant-pagination-next{margin:auto 0;}/*!sc*/\\n.ant-pagination .ant-pagination-item-ellipsis{color:#1D85E8 !important;}/*!sc*/\\n.ant-pagination .ant-pagination-item-ellipsis:hover .ant-pagination-item-link-icon{color:#1D85E8 !important;}/*!sc*/\\n.ant-table-expanded-row-fixed{width:100% !important;}/*!sc*/\\n.ant-table-column-sorter-up.active,.ant-table-column-sorter-down.active{color:#1D85E8;}/*!sc*/\\n.ant-table-footer{background:#FFFFFF;color:#80949F;}/*!sc*/\\n.ant-table-content table thead tr th{background:#F6F6F6;color:#536476;}/*!sc*/\\n.ant-table-content table thead tr th[aria-label]:hover,.ant-table-content table thead tr th[aria-sort]:hover{background:#1D85E850 !important;}/*!sc*/\\n.ant-table-content table thead tr th[aria-sort]{background:#1D85E850 !important;}/*!sc*/\\n.ant-table-content table tbody tr:hover td{background:#F6F6F6 !important;}/*!sc*/\\n.ant-table-content table tbody tr td{background:#FFFFFF;color:#80949F;}/*!sc*/\\n.ant-table-content table tbody tr td button{background:#F6F6F6;color:#536476;}/*!sc*/\\n.disabled-row td{opacity:0.5 !important;}/*!sc*/\\n.active-row-30 td{background:#1D85E830 !important;}/*!sc*/\\n.active-row-50 td{background:#1D85E850 !important;}/*!sc*/\\n.active-column-60{background-color:#1D85E860 !important;color:#1D85E8 !important;font-weight:bold !important;}/*!sc*/\\n.active-column-20{background-color:#1D85E820 !important;color:#1D85E8 !important;font-weight:bold !important;}/*!sc*/\\n.ant-table-tbody > tr.ant-table-row-selected > td{background-color:#1D85E815;}/*!sc*/\\n#apexchartsxbasic-bar svg>g>g>g>path{fill:#1D85E8;}/*!sc*/\\n.ant-select-item-option-selected:not(.ant-select-item-option-disabled){background:#1D85E820;}/*!sc*/\\n.ant-select-item-option-selected:not(.ant-select-item-option-disabled) .ant-select-item-option-state{color:#1D85E8;}/*!sc*/\\n.ant-select-item-option-active:not(.ant-select-item-option-disabled){background:#1D85E820;}/*!sc*/\\n.ant-select:not(.ant-select-customize-input) .ant-select-selector{background:inherit;color:#80949F;border-radius:10px;}/*!sc*/\\n.ant-select:not(.ant-select-customize-input) .ant-select-selector:hover{border:1px solid #1D85E8;}/*!sc*/\\n.ant-select-dropdown{background:#FFFFFF;color:#80949F;z-index:9999999999 !important;}/*!sc*/\\n.ant-select-selection-overflow-item>.ant-select-selection-item{background:#1D85E815;color:#536476;font-weight:500;border-radius:10px;font-size:15px;border:1px solid #F6F6F6;}/*!sc*/\\n.ant-select-selection-overflow-item>.ant-select-selection-item .ant-select-selection-item-remove{color:#1D85E8;font-size:10px;margin:0px 5px;font-weight:500;}/*!sc*/\\n.ant-select-item-option-content{color:#80949F;}/*!sc*/\\n.ant-select-arrow{color:#536476;}/*!sc*/\\n.select-main-primary{background:#1D85E810 !important;color:#80949F !important;}/*!sc*/\\n.select-main-primary .ant-select-selector{border:1px solid #1D85E8 !important;}/*!sc*/\\n.ant-select-status-error.ant-select:not(.ant-select-disabled):not(.ant-select-customize-input):not(.ant-pagination-size-changer) .ant-select-selector{background:inherit;}/*!sc*/\\n.ant-select-clear p > span > svg{fill:#1D85E8 !important;}/*!sc*/\\n.clear-btn span > svg{fill:#1D85E8 !important;cursor:pointer;}/*!sc*/\\n.ant-input-textarea textarea{border-radius:10px;background-color:#F6F6F6 !important;color:#80949F !important;border:1px solid #d9d9d9 !important;}/*!sc*/\\n.ant-input-textarea textarea:focus,.ant-input-textarea textarea:hover{background-color:#F6F6F650 !important;border:1px solid #1D85E8 !important;color:#80949F !important;}/*!sc*/\\n.ant-input-textarea textarea:not(:placeholder-shown){background-color:#1D85E815 !important;color:#80949F !important;border:1px solid #1D85E8 !important;}/*!sc*/\\n.ant-input-textarea textarea.ant-input-status-error{border:1px solid #ff4d4f !important;}/*!sc*/\\n.ant-picker{border-radius:10px;background-color:#F6F6F6 !important;color:#80949F !important;border:1px solid #d9d9d9 !important;}/*!sc*/\\n.ant-picker.has-value{background-color:#1D85E815 !important;color:#80949F !important;border:1px solid #1D85E8 !important;}/*!sc*/\\n.ant-picker:focus,.ant-picker:hover{background-color:#F6F6F650 !important;border:1px solid #1D85E8 !important;color:#80949F !important;}/*!sc*/\\n.ant-picker input{color:inherit;}/*!sc*/\\n.ant-picker.ant-picker-status-error{border:1px solid #ff4d4f !important;}/*!sc*/\\n.ant-picker-dropdown{z-index:99999999999 !important;}/*!sc*/\\n.ant-picker-panel-container{background-color:#F6F6F6;}/*!sc*/\\n.ant-picker-header button{color:#536476;}/*!sc*/\\n.ant-picker-content thead > tr > th{background-color:#F6F6F6;color:#536476;}/*!sc*/\\n.ant-picker-content tbody > tr > td{background-color:#FFFFFF;color:#80949F;}/*!sc*/\\n.ant-picker-content .ant-picker-cell-in-view.ant-picker-cell-selected .ant-picker-cell-inner{background-color:#1D85E8;}/*!sc*/\\n.ant-picker-footer > .ant-picker-today-btn{color:#1D85E8;}/*!sc*/\\n.ant-picker-cell:hover:not(.ant-picker-cell-in-view) .ant-picker-cell-inner,.ant-picker-cell:hover:not(.ant-picker-cell-selected):not(.ant-picker-cell-range-start):not(.ant-picker-cell-range-end):not(.ant-picker-cell-range-hover-start):not(.ant-picker-cell-range-hover-end) .ant-picker-cell-inner{background-color:#1D85E825;color:#1D85E8;}/*!sc*/\\n.ant-picker-cell-disabled::before{background:#D3D3D3;}/*!sc*/\\n.ant-picker-cell-disabled .ant-picker-cell-inner{color:#000;}/*!sc*/\\n.ant-input{background-color:#F6F6F6;color:#80949F;border:1px solid #d9d9d9;}/*!sc*/\\n.ant-input:focus,.ant-input:hover{background-color:#F6F6F650;border:1px solid #1D85E8;color:#80949F;}/*!sc*/\\n.ant-input:not(:placeholder-shown){background-color:#1D85E815;color:#80949F;border:1px solid #1D85E8;}/*!sc*/\\n.ant-input.error{background-color:rgba(255,0,0,0.1);color:#536476;border:1px solid rgba(255,0,0);}/*!sc*/\\n.ant-input.warning{background-color:rgba(202,138,4,0.1);color:#536476;border:1px solid rgba(202,138,4);}/*!sc*/\\n.ant-input.ant-input-status-error{border:1px solid #ff4d4f;}/*!sc*/\\n.input-clear-icon{cursor:pointer;}/*!sc*/\\n.input-clear-icon svg>path{fill:#1D85E8;}/*!sc*/\\n.ant-switch{background-color:rgb(128,128,128,0.6);}/*!sc*/\\n.ant-switch:focus{box-shadow:none;}/*!sc*/\\n.ant-switch-checked{background-color:#1D85E8;}/*!sc*/\\n.ant-switch-checked:focus{box-shadow:none;}/*!sc*/\\n.challenge{width:541px;height:22px;position:absolute;-webkit-transform:rotate(-90deg);-ms-transform:rotate(-90deg);transform:rotate(-90deg);top:569.5px;left:755px;-webkit-transform-origin:0 0;-ms-transform-origin:0 0;transform-origin:0 0;}/*!sc*/\\n.challenge .number{float:right;}/*!sc*/\\n.challenge .daily{float:left;}/*!sc*/\\n.content .shareButton.main .share,.content .shareButton.main .close,.content .shareButton.main .check{position:absolute;top:0;left:0;-webkit-transition:all 150ms;transition:all 150ms;}/*!sc*/\\n.content .shareButton.main .share,.content .shareButton.main.open .close,.content .shareButton.main.sent .check{-webkit-transform:rotate(0) scale(1);-ms-transform:rotate(0) scale(1);transform:rotate(0) scale(1);opacity:1;}/*!sc*/\\n.content .shareButton.main .close,.content .shareButton.main.open .share,.content .shareButton.main .check,.content .shareButton.main.sent .share{opacity:0;-webkit-transform:rotate(90deg) scale(0);-ms-transform:rotate(90deg) scale(0);transform:rotate(90deg) scale(0);}/*!sc*/\\n.shareButton,.shareButton.open{border:none;background:transparent;padding:15px;overflow:hidden;outline:none;margin:0 5px;box-sizing:content-box;-webkit-transition:all 200ms;transition:all 200ms;position:relative;opacity:1;-webkit-transform:scale(1);-ms-transform:scale(1);transform:scale(1);box-shadow:0 0 0 transparent;}/*!sc*/\\n.twitter-icon>path{fill:#FFFFFF;stroke-width:0px;}/*!sc*/\\n.share-icon>path{fill:#536476;stroke-width:0px;}/*!sc*/\\n.linkedin-icon>path,.facebook-icon>path{fill:#1D85E8;stroke-width:0px;}/*!sc*/\\n.display-delay{display:inline-block;-webkit-transition:all 150ms;transition:all 150ms;-webkit-transition-delay:200ms !important;transition-delay:200ms !important;}/*!sc*/\\n.shareButton>a>svg,.shareButton.open>a>svg{position:absolute;top:0;left:0;fill:#1D85E8;width:24px;height:24px;opacity:1;-webkit-transition:all 50ms;transition:all 50ms;-webkit-transform:scale(1);-ms-transform:scale(1);transform:scale(1);}/*!sc*/\\n.fb,.shareButton.open.ig{-webkit-transition-delay:100ms;transition-delay:100ms;}/*!sc*/\\n.tw,.shareButton.open.tw{-webkit-transition-delay:50ms;transition-delay:50ms;}/*!sc*/\\n.ig,.shareButton.open.fb{-webkit-transition-delay:0ms;transition-delay:0ms;}/*!sc*/\\n.fb,.tw,.ig{width:0;height:0;overflow:hidden;padding:0;margin:0;opacity:0;-webkit-transform:scale(0);-ms-transform:scale(0);transform:scale(0);}/*!sc*/\\n.fb svg,.tw svg,.ig svg{width:0;height:0;opacity:0;-webkit-transform:scale(0);-ms-transform:scale(0);transform:scale(0);}/*!sc*/\\n.notification-item-selected{padding:15px;border-bottom:1px solid rgb(233,233,233);color:#80949F;}/*!sc*/\\n.notification-item-selected.unread{color:#80949F;}/*!sc*/\\n.notification-item{border-bottom:1px solid #DFE3EA;background-color:#FFFFFF;}/*!sc*/\\n.journey-card{background:transparent;-webkit-box-shadow:0px 0px 0px #000000,0px 0px 0px #595c63 !important;box-shadow:0px 0px 0px #000000,0px 0px 0px #595c63 !important;max-width:1275px;margin:auto;position:relative;color:#536476;box-shadow:none;}/*!sc*/\\n.journey-card .big-gray{color:#536476;font-weight:bold;}/*!sc*/\\n.journey-card .line-path{width:93%;height:20px;margin:auto auto 180px auto;position:relative;}/*!sc*/\\n@media (max-width:585px){.journey-card .line-path{visibility:hidden;width:0;}}/*!sc*/\\n.journey-card .crs{margin:-35px 0 0 -35px;width:91%;position:absolute;z-index:9999;display:-webkit-box;display:-ms-flexbox;display:-webkit-box;display:-webkit-flex;display:-ms-flexbox;display:flex;}/*!sc*/\\n@media only screen and (min-width:1250px) and (max-width:1920px){.journey-card .crs{width:91%;}}/*!sc*/\\n@media only screen and (min-width:1205px) and (max-width:1249px){.journey-card .crs{width:89%;}}/*!sc*/\\n@media only screen and (min-width:1024px) and (max-width:1204px){.journey-card .crs{width:87%;}}/*!sc*/\\n@media only screen and (min-width:768px) and (max-width:1223px){.journey-card .crs{width:86%;}}/*!sc*/\\n@media only screen and (min-width:640px) and (max-width:768px){.journey-card .crs{width:80%;}}/*!sc*/\\n@media (max-width:639px){.journey-card .crs{width:auto;}}/*!sc*/\\n.journey-title{width:800px;white-space:nowrap;overflow:hidden;-o-text-overflow:ellipsis;text-overflow:ellipsis;}/*!sc*/\\n@media (max-width:1000px){.journey-title{width:600px;}}/*!sc*/\\n@media (max-width:1000px){.journey-title{width:400px;}}/*!sc*/\\n@media (max-width:600px){.journey-title{width:300px;}}/*!sc*/\\n@media (max-width:400px){.journey-title{width:200px;}}/*!sc*/\\n@media (max-width:300px){.journey-title{width:100px;}}/*!sc*/\\n.journey-main{padding:4rem 8rem 0rem 2rem;}/*!sc*/\\n@media (max-width:1023px){.journey-main{padding:4rem 7rem 0rem 4rem;}}/*!sc*/\\n@media (max-width:585px){.journey-main{padding:0;}}/*!sc*/\\n.journey-flow-right{border-top-right-radius:200px;border-bottom-right-radius:200px;height:220px;position:absolute;border-left:0 !important;width:115px;left:1090px;}/*!sc*/\\n@media (max-width:585px){.journey-flow-right{left:180px !important;}}/*!sc*/\\n@media (max-width:424px){.journey-flow-right{left:140px !important;}}/*!sc*/\\n@media (max-width:340px){.journey-flow-right{display:none;}}/*!sc*/\\n.journey-flow-left{border-top-left-radius:200px;border-bottom-left-radius:200px;height:220px;position:absolute;border-right:0 !important;width:100px;left:10px;}/*!sc*/\\n@media (max-width:585px){.journey-flow-left{left:80px !important;}}/*!sc*/\\n@media (max-width:424px){.journey-flow-left{left:50px !important;}}/*!sc*/\\n@media (max-width:340px){.journey-flow-left{display:none;}}/*!sc*/\\n.journey-course{width:100px;position:relative;display:inline-block;margin:0 65px 0 65px;}/*!sc*/\\n@media only screen and (min-width:1250px) and (max-width:1920px){.journey-course{margin:0 65px 0 65px;}}/*!sc*/\\n@media only screen and (min-width:1205px) and (max-width:1249px){.journey-course{margin:0 98px 0 98px;}}/*!sc*/\\n@media only screen and (min-width:1024px) and (max-width:1204px){.journey-course{margin:0 95px 0 95px;}}/*!sc*/\\n@media only screen and (min-width:768px) and (max-width:1223px){.journey-course{margin:0 94px 0 94px;}}/*!sc*/\\n@media only screen and (min-width:640px) and (max-width:767px){.journey-course{margin:0 70px 0 70px;}}/*!sc*/\\n@media only screen and (min-width:586px) and (max-width:639px){.journey-course{margin:0 70px 0 70px;}}/*!sc*/\\n@media (max-width:585px){.journey-course{margin:0 100px 0 100px;}}/*!sc*/\\n@media (max-width:340px){.journey-course{margin:30px;-webkit-align-items:center;-webkit-box-align:center;-ms-flex-align:center;align-items:center;}}/*!sc*/\\n.journey-course h4{text-align:center;width:180px;font-size:14px;position:absolute;left:-30px;}/*!sc*/\\n@media (max-width:600px){.journey-course h4{width:150px;left:-15px;}}/*!sc*/\\n.journey-course-image-filter{position:relative;width:125px;height:125px;border-radius:50%;display:-webkit-box;display:-ms-flexbox;display:-webkit-box;display:-webkit-flex;display:-ms-flexbox;display:flex;-webkit-box-align:center;-ms-flex-align:center;-webkit-align-items:center;-webkit-box-align:center;-ms-flex-align:center;align-items:center;-webkit-box-pack:center;-ms-flex-pack:center;-webkit-box-pack:center;-webkit-justify-content:center;-ms-flex-pack:center;justify-content:center;cursor:pointer;margin-bottom:10px;overflow:hidden;}/*!sc*/\\n.journey-course-image-filter:hover{cursor:pointer;}/*!sc*/\\n.journey-course-image-filter:after{content:\\'\\';display:block;position:absolute;top:0;right:0;bottom:0;left:0;opacity:0.55;background:green;background:var(--background-color-after);}/*!sc*/\\n.journey-course-image{width:125px;height:125px;border-radius:100%;-o-object-fit:cover;object-fit:cover;}/*!sc*/\\n.journey-course-lock{position:absolute;top:90px;right:-30px;display:-webkit-box;display:-ms-flexbox;display:-webkit-box;display:-webkit-flex;display:-ms-flexbox;display:flex;border-radius:50%;width:35px;height:35px;}/*!sc*/\\n.journey-course-lock .img{width:40px;height:40px;}/*!sc*/\\n.hover-blur img{-webkit-filter:grayscale(0) blur(0);-webkit-filter:grayscale(0) blur(0);filter:grayscale(0) blur(0);-webkit-transition:0.3s ease-in-out;-o-transition:0.3s ease-in-out;-webkit-transition:0.3s ease-in-out;transition:0.3s ease-in-out;cursor:pointer !important;}/*!sc*/\\n.hover-blur img:hover{-webkit-filter:grayscale(80%) blur(3px);-webkit-filter:grayscale(80%) blur(3px);filter:grayscale(80%) blur(3px);}/*!sc*/\\n.profile-image{opacity:1;-webkit-transition:.3s ease;transition:.3s ease;-webkit-backface-visibility:hidden;backface-visibility:hidden;}/*!sc*/\\n.profile-image-hover{-webkit-transition:.3s ease;transition:.3s ease;opacity:0;}/*!sc*/\\n.profile-image-container:hover .profile-image{opacity:1;}/*!sc*/\\n.profile-image-container:hover .profile-image-hover{opacity:0.8;}/*!sc*/\\n.public-page-body img{max-width:100%;object-fit:contain;}/*!sc*/\\n.public-page-body iframe{max-width:100% !important;max-height:100% !important;}/*!sc*/\\n.react-pdf__Document div:nth-child(2){place-content:space-between !important;padding:10px 20px;-webkit-align-items:center;-webkit-box-align:center;-ms-flex-align:center;align-items:center;}/*!sc*/\\n.react-pdf__Document div:nth-child(2) div:nth-child(1)>button,.react-pdf__Document div:nth-child(2) div:nth-child(3)>button{background:#1D85E8;background-image:url(\\'data:image/png;base64,iVBORw0KGgoAAAANSUhEUgAAACAAAAAgCAYAAABzenr0AAAACXBIWXMAAAsTAAALEwEAmpwYAAAAx0lEQVR4nO2XwQ2DMAxFffozVMoFKKL7dJHMwTEEk2zDRLSlt56C2hOq4Fg7lfgLvCc5cr6JjvxLjDFXa+0NQKMCH8fxlVJKIYSZiGpRAWvtlFZh5rfEWdKhcM7d1xLDMBwSnzDzg4gq1XH0fZ+NRKkq4b3Xl+i6LhuJQlXCOScuUX9LtG07EdFJhA6giTHOKgIALiGEp8oIsAEXe4TYh5cqcC+1iLABF1vF2IdXKnCW+o6xARdrRdCEZ1FKjXYtVz9MjtAPswC1cp1JkibKFQAAAABJRU5ErkJggg==\\') !important;background-position:center !important;background-repeat:no-repeat !important;width:35px;height:35px;border:0px solid;padding:5px 12px;border-radius:50%;color:#1D85E8;}/*!sc*/\\n.react-pdf__Document div:nth-child(2) div:nth-child(1)>button:disabled,.react-pdf__Document div:nth-child(2) div:nth-child(3)>button:disabled{background:gray;color:gray;cursor:not-allowed;}/*!sc*/\\n.react-pdf__Document div:nth-child(2) div:nth-child(1)>button{-webkit-transform:rotate(180deg);-ms-transform:rotate(180deg);transform:rotate(180deg);}/*!sc*/\\n.react-pdf__Document div:nth-child(2) div:nth-child(2)>p{text-align:center;font-weight:500;font-size:20px;margin:0;}/*!sc*/\\ndata-styled.g28[id=\"sc-global-gpUXzw1\"]{content:\"sc-global-gpUXzw1,\"}/*!sc*/\\n.ceMBlc{margin:0px;position:relative;-webkit-transition:all 0.3s ease-in-out;-o-transition:all 0.3s ease-in-out;-webkit-transition:all 0.3s ease-in-out;transition:all 0.3s ease-in-out;min-height:calc(100vh - 400px);}/*!sc*/\\n.ceMBlc .rselect__control,.ceMBlc .rselect__control--menu-is-open,.ceMBlc .rselect__control--menu-is-focused{background-color:!important;color:!important;}/*!sc*/\\n.ceMBlc .rselect__menu{background-color:!important;color:!important;border:1px solid !important;}/*!sc*/\\n.ceMBlc .rselect__menu div{background-color:!important;color:!important;border-color:!important;cursor:pointer;}/*!sc*/\\ndata-styled.g32[id=\"layout__BodySection-sc-10ek7fz-0\"]{content:\"ceMBlc,\"}/*!sc*/\\n@-webkit-keyframes kVWZFB{0%{opacity:0;-webkit-transform:translateY(10rem);-ms-transform:translateY(10rem);-webkit-transform:translateY(10rem);-ms-transform:translateY(10rem);transform:translateY(10rem);}100%{opacity:1;-webkit-transform:translate(0);-ms-transform:translate(0);-webkit-transform:translate(0);-ms-transform:translate(0);transform:translate(0);}}/*!sc*/\\n@keyframes kVWZFB{0%{opacity:0;-webkit-transform:translateY(10rem);-ms-transform:translateY(10rem);-webkit-transform:translateY(10rem);-ms-transform:translateY(10rem);transform:translateY(10rem);}100%{opacity:1;-webkit-transform:translate(0);-ms-transform:translate(0);-webkit-transform:translate(0);-ms-transform:translate(0);transform:translate(0);}}/*!sc*/\\ndata-styled.g33[id=\"sc-keyframes-kVWZFB\"]{content:\"kVWZFB,\"}/*!sc*/\\n</style></head><body><div id=\"__next\" data-reactroot=\"\"><div id=\"gbt_app-main\" class=\"min-h-screen bcg-primary\"><div id=\"gbt_app-loading\" class=\"w-full h-full z-[9999] fixed flex justify-center items-center bcg-primary txt-primary \"><img src=\"https://assets-btkakademi-gov-tr.akamaized.net/api/service/v1/public/51/assets/logo.png?ts=1695810534764\" class=\"logo-loader\" id=\"gbt_app-loading\" alt=\"logo\"/></div><div id=\"gbt_app-header\" class=\"header__Outer-sc-3c3sw3-0 jVoriR\"><noscript class=\"jsx-2218793582\"><iframe src=\"https://www.googletagmanager.com/ns.html?id=GTM-WP28TFZ\" height=\"0\" width=\"0\" style=\"display:none;visibility:hidden;\"></iframe></noscript><div class=\"HeaderTop__HeaderTopWrapper-sc-10nnieb-0 gTpYWe hidden lg:block m-0 px-4 py-1.5 false\"><div id=\"gbt_top-header-row\" class=\"flex flex-row justify-between items-center w-full\"><div id=\"gbt_top-header-motto\" class=\"text-xs font-medium justify-start items-center flex m-0 p-0 h-full cursor-pointer hover:font-semibold\"></div><div id=\"gbt_top-header-right\" class=\"flex flex-row items-center justify-end\"><a id=\"gbt_top-header-right-social-0\" href=\"https://www.facebook.com/btkakademi\" class=\"hlink-text mr-3\" rel=\"noreferrer\" target=\"_blank\"><img src=\"https://static-01-btk.akamaized.net/portal/static/img/icons/social/facebook.svg\" id=\"gbt_top-header-right-social-0\" width=\"20\" height=\"20\" alt=\"\"/></a><a id=\"gbt_top-header-right-social-1\" href=\"http://instagram.com/btkakademi\" class=\"hlink-text mr-3\" rel=\"noreferrer\" target=\"_blank\"><img src=\"https://static-01-btk.akamaized.net/portal/static/img/icons/social/instagram.svg\" id=\"gbt_top-header-right-social-1\" width=\"20\" height=\"20\" alt=\"\"/></a><a id=\"gbt_top-header-right-social-2\" href=\"https://www.linkedin.com/company/btk-akademi\" class=\"hlink-text mr-3\" rel=\"noreferrer\" target=\"_blank\"><img src=\"https://static-01-btk.akamaized.net/portal/static/img/icons/social/linkedin.svg\" id=\"gbt_top-header-right-social-2\" width=\"20\" height=\"20\" alt=\"\"/></a><a id=\"gbt_top-header-right-social-3\" href=\"https://www.youtube.com/channel/UCIeLKRrvnkBn0xEvbKzRfEg/featured\" class=\"hlink-text mr-3\" rel=\"noreferrer\" target=\"_blank\"><img src=\"https://static-01-btk.akamaized.net/portal/static/img/icons/social/youtube.svg\" id=\"gbt_top-header-right-social-3\" width=\"20\" height=\"20\" alt=\"\"/></a><a id=\"gbt_top-header-right-social-4\" href=\"https://twitter.com/BTKAkademi\" class=\"hlink-text mr-3\" rel=\"noreferrer\" target=\"_blank\"><img src=\"https://static-01-btk.akamaized.net/portal/static/img/icons/social/twitter.svg\" id=\"gbt_top-header-right-social-4\" width=\"20\" height=\"20\" alt=\"\"/></a><div id=\"gbt_top-header-right-language\" style=\"width:90px;text-align:left;display:none\"><div class=\"ant-select ant-select-sm ant-select-single ant-select-show-arrow\"><div class=\"ant-select-selector\"><span class=\"ant-select-selection-search\"><input type=\"search\" id=\"gbt_top-header-right-language\" autoComplete=\"off\" class=\"ant-select-selection-search-input\" role=\"combobox\" aria-haspopup=\"listbox\" aria-owns=\"gbt_top-header-right-language_list\" aria-autocomplete=\"list\" aria-controls=\"gbt_top-header-right-language_list\" aria-activedescendant=\"gbt_top-header-right-language_list_0\" value=\"\" readonly=\"\" unselectable=\"on\" style=\"opacity:0\"/></span><span class=\"ant-select-selection-item\" title=\"Türkçe\">Türkçe</span></div><span class=\"ant-select-arrow\" style=\"user-select:none;-webkit-user-select:none\" unselectable=\"on\" aria-hidden=\"true\"><span role=\"img\" aria-label=\"down\" class=\"anticon anticon-down ant-select-suffix\"><svg viewBox=\"64 64 896 896\" focusable=\"false\" data-icon=\"down\" width=\"1em\" height=\"1em\" fill=\"currentColor\" aria-hidden=\"true\"><path d=\"M884 256h-75c-5.1 0-9.9 2.5-12.9 6.6L512 654.2 227.9 262.6c-3-4.1-7.8-6.6-12.9-6.6h-75c-6.5 0-10.3 7.4-6.5 12.7l352.6 486.1c12.8 17.6 39 17.6 51.7 0l352.6-486.1c3.9-5.3.1-12.7-6.4-12.7z\"></path></svg></span></span></div></div><div id=\"gbt_top-header-right-theme\" class=\"mx-1 __2T8lY8zu VxFpvc8k\"><span id=\"gbt_top-header-right-theme\"><img src=\"https://static-01-btk.akamaized.net/portal/static/img/icons/sun-dark.svg\" class=\"__0KSvYhbs\" id=\"gbt_top-header-right-theme\" alt=\"theme toggler\" width=\"50\" height=\"50\"/><img src=\"https://static-01-btk.akamaized.net/portal/static/img/icons/sun-light.svg\" class=\"xE0rJmuV\" id=\"gbt_top-header-right-theme\" alt=\"theme toggler\" width=\"50\" height=\"50\"/></span></div></div></div></div><div class=\"HeaderMain__ContainerInner-sc-f8z5sn-0 kwzVpD hidden lg:block px-4 py-2.5 false\"><div id=\"gbt_main-header-row\" class=\"flex justify-between items-center w-full\"><div id=\"gbt_main-header-logo\" class=\"flex flex-row flex-initial items-center my-auto h-14\"><a id=\"gbt_main-header-logo\" href=\"/portal\"><img src=\"https://assets-btkakademi-gov-tr.akamaized.net/api/service/v1/public/51/assets/logo.png?ts=1695810534764\" id=\"gbt_main-header-logo\" alt=\"BTK\" width=\"150\" style=\"max-height:60px;object-fit:contain\"/></a></div><div id=\"gbt_main-header-left-links\" class=\"flex flex-row flex-initial items-center justify-around hidden md:flex ml-3\"><a class=\"ant-dropdown-trigger\"><div class=\"txt-secondary mr-0 text-center\" title=\"Eğitimler\" id=\"gbt_main-header-catalog\"><div id=\"gbt_main-header-catalog\" class=\"txt-secondary\"><div id=\"gbt_main-header-catalog\" class=\"flex flex-row items-center cursor-pointer px-1 m-0\"><span id=\"gbt_main-header-catalog-icon\" class=\"order-0\"><svg id=\"gbt_main-header-catalog-icon\" width=\"24\" height=\"24\" viewBox=\"0 0 24 24\" fill=\"none\"><path id=\"gbt_main-header-catalog-icon\" d=\"M3 12H21\" stroke=\"#7F92A3\" stroke-width=\"2\" stroke-linecap=\"round\" stroke-linejoin=\"round\"></path><path id=\"gbt_main-header-catalog-icon\" d=\"M3 6H21\" stroke=\"#7F92A3\" stroke-width=\"2\" stroke-linecap=\"round\" stroke-linejoin=\"round\"></path><path id=\"gbt_main-header-catalog-icon\" d=\"M3 18H21\" stroke=\"#7F92A3\" stroke-width=\"2\" stroke-linecap=\"round\" stroke-linejoin=\"round\"></path></svg></span><span id=\"gbt_main-header-catalog-title\" class=\"overflow-hidden whitespace-nowrap text-ellipsis txt-secondary order-1 mx-1\">Eğitimler</span></div></div></div></a></div><div id=\"\" class=\"flex-initial w-full\"><div id=\"\" class=\"flex flex-row items-center justify-center desktop-item w-11/12 mx-auto relative\"><div id=\"\" class=\"w-full\"><div id=\"gbt_main-header-search\" class=\"relative flex w-full rounded-2xl\"><a class=\"ant-dropdown-trigger w-full\"><div id=\"gbt_main-header-search-btn\" class=\"w-5 h-5 rounded-full absolute top-3 flex items-center justify-center z-10 right-4\"><button id=\"gbt_main-header-search-btn\" type=\"button\" class=\"ant-btn ant-btn-default PrimarySmall-sc-8blvk-0 cchJRp SearchBoxContainer__SearchIconStyled-sc-u0e49v-0 fZwLGb w-9 h-9\"><div id=\"gbt_main-header-search-icon\" class=\"flex flex-row items-center cursor-pointer px-1 m-0\"><span id=\"gbt_main-header-search-icon\" class=\"order-0\"><svg id=\"gbt_main-header-search-icon\" width=\"14\" height=\"14\" viewBox=\"0 0 16 16\" fill=\"none\" xmlns=\"http://www.w3.org/2000/svg\"><path id=\"gbt_main-header-search-icon\" d=\"M7.33333 12.6667C10.2789 12.6667 12.6667 10.2789 12.6667 7.33333C12.6667 4.38781 10.2789 2 7.33333 2C4.38781 2 2 4.38781 2 7.33333C2 10.2789 4.38781 12.6667 7.33333 12.6667Z\" stroke=\"white\" stroke-width=\"2\" stroke-linecap=\"round\" stroke-linejoin=\"round\"></path><path id=\"gbt_main-header-search-icon\" d=\"M14 14L11.1 11.1\" stroke=\"white\" stroke-width=\"2\" stroke-linecap=\"round\" stroke-linejoin=\"round\"></path></svg></span></div></button></div><form id=\"\" class=\"w-full\"><input type=\"text\" autoComplete=\"off\" placeholder=\"Ara...\" value=\"\" name=\"q\" class=\"ant-input ant-input-lg ant-input-borderless py-2\" style=\"border-radius:15px\" autofocus=\"\" id=\"gbt_main-header-search\"/></form></a></div></div></div></div><div id=\"gbt_main-header-right-links\" class=\"flex flex-row flex-initial justify-center xl:justify-around mr-3\"></div><div id=\"gbt_main-header-login\" class=\"\"><div id=\"gbt_main-header-login-btn\" class=\"w-full flex items-center justify-end\"><a id=\"gbt_main-header-login-btn\" href=\"/portal/sign-in?returnUrl=/\"><button id=\"gbt_main-header-login-btn\" type=\"button\" class=\"ant-btn ant-btn-default PrimaryMedium-sc-6n0thy-0 bTQhMx px-3 py-4\"><div id=\"gbt_main-header-login-btn\" class=\"flex flex-row items-center cursor-pointer px-1 mr-1\"><span class=\"order-0\"><img src=\"https://static-01-btk.akamaized.net/portal/static/img/icons/user.svg\" height=\"24\" width=\"24\" alt=\"Giriş Yap\"/></span><span class=\" order-1 mx-1\">Giriş Yap</span></div></button></a></div></div></div></div><div class=\"flex lg:hidden flex-row justify-between items-center h-20 px-3\"><div id=\"gbt_main-header-logo\"><div id=\"gbt_main-header-logo\" class=\"flex flex-row flex-initial items-center my-auto h-14\"><a id=\"gbt_main-header-logo\" href=\"/portal\"><img src=\"https://assets-btkakademi-gov-tr.akamaized.net/api/service/v1/public/51/assets/logo.png?ts=1695810534764\" id=\"gbt_main-header-logo\" alt=\"BTK\" width=\"150\" style=\"max-height:60px;object-fit:contain\"/></a></div></div><div id=\"gbt_main-header-mobile-right\"><a id=\"gbt_main-header-mobile-login-btn\" href=\"/portal/sign-in\"><img src=\"https://static-01-btk.akamaized.net/portal/static/img/icons/user2.svg\" class=\"mr-4\" id=\"gbt_main-header-mobile-login-btn\" alt=\"user\"/></a><span id=\"gbt_main-header-mobile-links\" class=\"cursor-pointer\"><svg id=\"gbt_main-header-mobile-links\" width=\"20\" height=\"20\" viewBox=\"0 0 20 20\" fill=\"none\" xmlns=\"http://www.w3.org/2000/svg\"><path id=\"gbt_main-header-mobile-links\" d=\"M2.5 10H17.5\" stroke=\"#7F92A3\" stroke-width=\"2\" stroke-linecap=\"round\" stroke-linejoin=\"round\"></path><path id=\"gbt_main-header-mobile-links\" d=\"M2.5 5H17.5\" stroke=\"#7F92A3\" stroke-width=\"2\" stroke-linecap=\"round\" stroke-linejoin=\"round\"></path><path id=\"gbt_main-header-mobile-links\" d=\"M2.5 15H17.5\" stroke=\"#7F92A3\" stroke-width=\"2\" stroke-linecap=\"round\" stroke-linejoin=\"round\"></path></svg></span></div></div></div><div class=\"layout__BodySection-sc-10ek7fz-0 ceMBlc row\"><div class=\"3xs:w-full sm:container mx-auto px-2\" id=\"container-toggle\"><div id=\"gbt_app-body-container\" class=\"sm:container w-full p-0 mx-0 my-2 undefined \"><nav class=\"ant-breadcrumb pb-3 select-none\" id=\"gbt_catalog-crumb\"><ol><li><span class=\"hover:font-semibold\" id=\"gbt_catalog-crumb-home\"><a id=\"gbt_catalog-crumb-home\" href=\"/portal\"><span id=\"gbt_catalog-crumb-home\" class=\"txt-primary\">Anasayfa</span></a></span><span class=\"ant-breadcrumb-separator\">&gt;</span></li><li><span class=\"ant-breadcrumb-link\" id=\"gbt_catalog-crumb-0\"><a id=\"gbt_catalog-crumb-0\"><span class=\"txt-secondary\" id=\"gbt_catalog-crumb-0\">Eğitimler</span></a></span><span class=\"ant-breadcrumb-separator\">&gt;</span></li></ol></nav><div id=\"gbt_catalog-main\" class=\"&#x27;w-full ant-row \"><div id=\"gbt_catalog-main-left\" class=\"w-1/5 hidden lg:block\"><div id=\"gbt_catalog-main-left\"><div class=\"ant-collapse ant-collapse-icon-position-start\"><div class=\"ant-collapse-item ant-collapse-item-active\" id=\"gbt_catalog-main-left-menu-1\"><div class=\"ant-collapse-header\" aria-expanded=\"true\" aria-disabled=\"false\" role=\"button\" tabindex=\"0\"><div class=\"ant-collapse-expand-icon\"><span role=\"img\" aria-label=\"right\" class=\"anticon anticon-right ant-collapse-arrow\"><svg viewBox=\"64 64 896 896\" focusable=\"false\" style=\"-ms-transform:rotate(90deg);transform:rotate(90deg)\" data-icon=\"right\" width=\"1em\" height=\"1em\" fill=\"currentColor\" aria-hidden=\"true\"><path d=\"M765.7 486.8L314.9 134.7A7.97 7.97 0 00302 141v77.3c0 4.9 2.3 9.6 6.1 12.6l360 281.1-360 281.1c-3.9 3-6.1 7.7-6.1 12.6V883c0 6.7 7.7 10.4 12.9 6.3l450.8-352.1a31.96 31.96 0 000-50.4z\"></path></svg></span></div><span class=\"ant-collapse-header-text\"><p id=\"gbt_catalog-main-left-menu-1-title\" class=\"font-semibold m-0 text-left\">Kategoriler</p></span></div><div class=\"ant-collapse-content ant-collapse-content-active\"><div class=\"ant-collapse-content-box\"><ul class=\"ant-menu ant-menu-root ant-menu-inline ant-menu-light\" style=\"width:100%\" id=\"gbt_catalog-main-left-menu-1-list\" role=\"menu\" tabindex=\"0\" data-menu-list=\"true\"></ul><div style=\"display:none\" aria-hidden=\"true\"></div></div></div></div><div class=\"ant-collapse-item\"><div class=\"ant-collapse-header\" aria-expanded=\"false\" aria-disabled=\"false\" role=\"button\" tabindex=\"0\"><div class=\"ant-collapse-expand-icon\"><span role=\"img\" aria-label=\"right\" class=\"anticon anticon-right ant-collapse-arrow\"><svg viewBox=\"64 64 896 896\" focusable=\"false\" data-icon=\"right\" width=\"1em\" height=\"1em\" fill=\"currentColor\" aria-hidden=\"true\"><path d=\"M765.7 486.8L314.9 134.7A7.97 7.97 0 00302 141v77.3c0 4.9 2.3 9.6 6.1 12.6l360 281.1-360 281.1c-3.9 3-6.1 7.7-6.1 12.6V883c0 6.7 7.7 10.4 12.9 6.3l450.8-352.1a31.96 31.96 0 000-50.4z\"></path></svg></span></div><span class=\"ant-collapse-header-text\"><p id=\"gbt_catalog-main-left-menu-2-title\" class=\"font-semibold m-0 text-left\">Eğitim Kanalı</p></span></div></div><div class=\"ant-collapse-item\"><div class=\"ant-collapse-header\" aria-expanded=\"false\" aria-disabled=\"false\" role=\"button\" tabindex=\"0\"><div class=\"ant-collapse-expand-icon\"><span role=\"img\" aria-label=\"right\" class=\"anticon anticon-right ant-collapse-arrow\"><svg viewBox=\"64 64 896 896\" focusable=\"false\" data-icon=\"right\" width=\"1em\" height=\"1em\" fill=\"currentColor\" aria-hidden=\"true\"><path d=\"M765.7 486.8L314.9 134.7A7.97 7.97 0 00302 141v77.3c0 4.9 2.3 9.6 6.1 12.6l360 281.1-360 281.1c-3.9 3-6.1 7.7-6.1 12.6V883c0 6.7 7.7 10.4 12.9 6.3l450.8-352.1a31.96 31.96 0 000-50.4z\"></path></svg></span></div><span class=\"ant-collapse-header-text\"><p id=\"gbt_catalog-main-left-menu-3-title\" class=\"font-semibold m-0 text-left\">Eğitim Dili</p></span></div></div><div class=\"ant-collapse-item\"><div class=\"ant-collapse-header\" aria-expanded=\"false\" aria-disabled=\"false\" role=\"button\" tabindex=\"0\"><div class=\"ant-collapse-expand-icon\"><span role=\"img\" aria-label=\"right\" class=\"anticon anticon-right ant-collapse-arrow\"><svg viewBox=\"64 64 896 896\" focusable=\"false\" data-icon=\"right\" width=\"1em\" height=\"1em\" fill=\"currentColor\" aria-hidden=\"true\"><path d=\"M765.7 486.8L314.9 134.7A7.97 7.97 0 00302 141v77.3c0 4.9 2.3 9.6 6.1 12.6l360 281.1-360 281.1c-3.9 3-6.1 7.7-6.1 12.6V883c0 6.7 7.7 10.4 12.9 6.3l450.8-352.1a31.96 31.96 0 000-50.4z\"></path></svg></span></div><span class=\"ant-collapse-header-text\"><p id=\"gbt_catalog-main-left-menu-4-title\" class=\"font-semibold m-0 text-left\">Eğitim Seviyesi</p></span></div></div></div></div></div><div id=\"gbt_catalog-main-right\" class=\"w-full lg:w-4/5 px-1\"><div id=\"gbt_catalog-main-right-filterbox\" class=\"w-full rounded-lg bcg-primary p-2 3xs:mx-0 md:mx-2\"><div id=\"gbt_catalog-main-right-filterbox\" class=\"w-full sm:flex flex-row justify-between px-2 \"><div id=\"gbt_catalog-main-right-filterbox-main\" class=\"m-0 pb-1.5 my-auto sm:w-1/2 flex flex-row justify-between sm:inline \"><p id=\"gbt_catalog-main-right-filterbox-main-title\" class=\"text-lg font-medium m-0 txt-secondary block text-left\">Eğitimler</p><p id=\"gbt_catalog-main-right-filterbox-main-count\" class=\"m-0 txt-primary font-medium visible text-left\">112<!-- --> <!-- -->Eğitim Bulundu</p></div><div class=\"m-0 my-auto sm:flex flex-row justify-end w-full sm:w-3/4 \"><div id=\"gbt_catalog-main-right-filterbox-main-filter\" class=\"m-0 my-auto hidden lg:flex flex-row items-center\"><span id=\"gbt_catalog-main-right-filterbox-main-filter-search\" class=\"w-full flex relative items-center w-[350px] ml-2 \"><img src=\"https://static-01-btk.akamaized.net/portal/static/img/icons/search-lens.svg\" class=\"absolute left-4 z-20\" alt=\"search\"/><input type=\"text\" autoComplete=\"off\" placeholder=\"Arama yap\" value=\"\" name=\"q\" class=\"ant-input ant-input-lg ant-input-borderless rounded-full\" style=\"padding:6px 15px 6px 45px;border-radius:10px\" autofocus=\"\"/></span><span id=\"gbt_catalog-main-right-filterbox-main-filter-sort\" class=\"w-[250px] ml-2 \"><div class=\"ant-select ant-select-lg w-100 rounded-[10px] \\n                  bcg-secondary   ant-select-single ant-select-show-arrow\" selectedOption=\"recent\"><div class=\"ant-select-selector\"><span class=\"ant-select-selection-search\"><input type=\"search\" id=\"gbt_catalog-main-right-filterbox-main-filter-search\" autoComplete=\"off\" class=\"ant-select-selection-search-input\" role=\"combobox\" aria-haspopup=\"listbox\" aria-owns=\"gbt_catalog-main-right-filterbox-main-filter-search_list\" aria-autocomplete=\"list\" aria-controls=\"gbt_catalog-main-right-filterbox-main-filter-search_list\" aria-activedescendant=\"gbt_catalog-main-right-filterbox-main-filter-search_list_0\" value=\"\" readonly=\"\" unselectable=\"on\" style=\"opacity:0\"/></span><span class=\"ant-select-selection-item\" title=\"En Yeni\">En Yeni</span></div><span class=\"ant-select-arrow\" style=\"user-select:none;-webkit-user-select:none\" unselectable=\"on\" aria-hidden=\"true\"><span role=\"img\" aria-label=\"down\" class=\"anticon anticon-down ant-select-suffix\"><svg viewBox=\"64 64 896 896\" focusable=\"false\" data-icon=\"down\" width=\"1em\" height=\"1em\" fill=\"currentColor\" aria-hidden=\"true\"><path d=\"M884 256h-75c-5.1 0-9.9 2.5-12.9 6.6L512 654.2 227.9 262.6c-3-4.1-7.8-6.6-12.9-6.6h-75c-6.5 0-10.3 7.4-6.5 12.7l352.6 486.1c12.8 17.6 39 17.6 51.7 0l352.6-486.1c3.9-5.3.1-12.7-6.4-12.7z\"></path></svg></span></span></div></span></div><div class=\"m-0 my-auto flex items-center relative lg:hidden flex-col sm:flex-row\"><div class=\"w-full flex relative items-center my-1\"><img src=\"https://static-01-btk.akamaized.net/portal/static/img/icons/search-lens.svg\" class=\"absolute left-4 z-20\" alt=\"search\"/><input type=\"text\" autoComplete=\"off\" placeholder=\"Arama yap\" value=\"\" name=\"q\" class=\"ant-input ant-input-lg ant-input-borderless rounded-full\" style=\"padding:6px 15px 6px 45px;border-radius:10px\" autofocus=\"\"/></div><button id=\"gbt_catalog-main-right-filterbox-main-filter-sort-btn\" type=\"button\" class=\"ant-btn ant-btn-round ant-btn-default ant-btn-lg btn-primary sm:w-1/2 w-full mx-2 my-1\"><img src=\"https://static-01-btk.akamaized.net/portal/static/img/icons/filter.svg\" alt=\"filter\" widh=\"22\" height=\"22\"/><span class=\"ml-2\">Filtrele</span></button></div></div></div></div><div id=\"gbt_catalog-main-right-course\" class=\"lg:ml-2\\n                    w-full mt-3 relative grid \\n                    gap-10 xl:grid-cols-4 lg:grid-cols-3 md:grid-cols-3 sm:grid-cols-2 grid-cols-1\"><div class=\"\"><div class=\"ant-ribbon-wrapper\"><div class=\"m-auto w-full sm:max-w-[262px] bcg-primary relative rounded-xl text-base overflow-hidden border-solid border-[1px] border-gray-300 dark:border-gray-700\"><a href=\"/portal/course/veri-bilimine-giris-35390\"><img src=\"https://assets-btkakademi-gov-tr.akamaized.net/api/gallery/51/8b699d67-f950-4ff7-834f-9ea98d464105/391_0x220.png?t=1728030396861\" class=\"object-cover w-full rounded-t-xl h-[150px]\" alt=\"Veri Bilimine Giriş\"/><div class=\"bcg-primary pt-2.5 pb-1.5 px-3 m-0\"><div class=\"h-12 max-h-12 m-0 txt-primary\"><div class=\"font-medium text-base\" style=\"word-wrap:break-word\" title=\"Veri Bilimine Giriş\">Veri Bilimine Giriş</div></div><p class=\"mx-0 mt-1.5 mb-0 flex justify-between items-center h-7 inline-block\"><span class=\"ant-tag beginner\"><span class=\"txt-secondary font-medium\">Temel Seviye</span></span></p></div></a><div id=\"undefined-progress\" class=\"h-50\"><div id=\"undefined-progress\" class=\"ant-progress ant-progress-line ant-progress-status-active ant-progress-default\"><div class=\"ant-progress-outer\"><div class=\"ant-progress-inner\" style=\"border-radius:0\"><div class=\"ant-progress-bg\" style=\"width:0%;height:10px;border-radius:0\"></div></div></div></div></div><div class=\"flex justify-between items-center txt-primary py-2.5 px-3 m-0 bg-[#EFEFEF]\" style=\"border-top:1px solid #c3c3c3\"><div class=\"relative\"><div class=\"absolute -top-[30px] -left-4 cursor-pointer h-14 w-14 bg-like-btn bg-no-repeat bg-[length:2900%] active:opacity-50 hover:bg-right hover:opacity-80 bg-left\"><span class=\"absolute top-[20px] left-[43px] font-medium text-sm\">1</span></div></div><div class=\"flex flex-row items-center cursor-pointer px-1 mr-1\"><span class=\"order-1\"><img src=\"https://static-01-btk.akamaized.net/portal/static/img/icons/course-card-users.svg\" height=\"16\" width=\"16\" alt=\"2.8K\"/></span><span class=\"mr-2 font-medium text-sm order-0 mx-1\">2.8K</span></div></div><p class=\"w-full m-0\"><img src=\"https://assets-btkakademi-gov-tr.akamaized.net/api/service/v1/public/51/assets/course_card_badge.png?ts=1638523973217\" class=\"absolute right-2 top-24\" width=\"50\" height=\"67\" alt=\"certificate\" title=\"Sertifika\"/></p></div><div class=\"ant-ribbon ant-ribbon-placement-start ant-ribbon-color-red hidden\" style=\"left:3px\"><span class=\"ant-ribbon-text\">Yeni</span><div class=\"ant-ribbon-corner\"></div></div></div></div><div class=\"\"><div class=\"ant-ribbon-wrapper\"><div class=\"m-auto w-full sm:max-w-[262px] bcg-primary relative rounded-xl text-base overflow-hidden border-solid border-[1px] border-gray-300 dark:border-gray-700\"><a href=\"/portal/course/kubernetes-35490\"><img src=\"https://assets-btkakademi-gov-tr.akamaized.net/api/gallery/51/30958c38-0887-4a29-8668-5d15e16bc888/343_0x220.png?t=1728894443848\" class=\"object-cover w-full rounded-t-xl h-[150px]\" alt=\"Kubernetes\"/><div class=\"bcg-primary pt-2.5 pb-1.5 px-3 m-0\"><div class=\"h-12 max-h-12 m-0 txt-primary\"><div class=\"font-medium text-base\" style=\"word-wrap:break-word\" title=\"Kubernetes\">Kubernetes</div></div><p class=\"mx-0 mt-1.5 mb-0 flex justify-between items-center h-7 inline-block\"><span class=\"ant-tag intermediate\"><span class=\"txt-secondary font-medium\">Orta Seviye</span></span></p></div></a><div id=\"undefined-progress\" class=\"h-50\"><div id=\"undefined-progress\" class=\"ant-progress ant-progress-line ant-progress-status-active ant-progress-default\"><div class=\"ant-progress-outer\"><div class=\"ant-progress-inner\" style=\"border-radius:0\"><div class=\"ant-progress-bg\" style=\"width:0%;height:10px;border-radius:0\"></div></div></div></div></div><div class=\"flex justify-between items-center txt-primary py-2.5 px-3 m-0 bg-[#EFEFEF]\" style=\"border-top:1px solid #c3c3c3\"><div class=\"relative\"><div class=\"absolute -top-[30px] -left-4 cursor-pointer h-14 w-14 bg-like-btn bg-no-repeat bg-[length:2900%] active:opacity-50 hover:bg-right hover:opacity-80 bg-left\"><span class=\"absolute top-[20px] left-[43px] font-medium text-sm\">1</span></div></div><div class=\"flex flex-row items-center cursor-pointer px-1 mr-1\"><span class=\"order-1\"><img src=\"https://static-01-btk.akamaized.net/portal/static/img/icons/course-card-users.svg\" height=\"16\" width=\"16\" alt=\"1.1K\"/></span><span class=\"mr-2 font-medium text-sm order-0 mx-1\">1.1K</span></div></div><p class=\"w-full m-0\"><img src=\"https://assets-btkakademi-gov-tr.akamaized.net/api/service/v1/public/51/assets/course_card_badge.png?ts=1638523973217\" class=\"absolute right-2 top-24\" width=\"50\" height=\"67\" alt=\"certificate\" title=\"Sertifika\"/></p></div><div class=\"ant-ribbon ant-ribbon-placement-start ant-ribbon-color-red hidden\" style=\"left:3px\"><span class=\"ant-ribbon-text\">Yeni</span><div class=\"ant-ribbon-corner\"></div></div></div></div><div class=\"\"><div class=\"ant-ribbon-wrapper\"><div class=\"m-auto w-full sm:max-w-[262px] bcg-primary relative rounded-xl text-base overflow-hidden border-solid border-[1px] border-gray-300 dark:border-gray-700\"><a href=\"/portal/course/sizma-testi-34000\"><img src=\"https://assets-btkakademi-gov-tr.akamaized.net/api/gallery/51/94fc306a-15e3-43ee-9aa1-f271dc110e72/241_0x220.png?t=1724052378360\" class=\"object-cover w-full rounded-t-xl h-[150px]\" alt=\"Sızma Testi\"/><div class=\"bcg-primary pt-2.5 pb-1.5 px-3 m-0\"><div class=\"h-12 max-h-12 m-0 txt-primary\"><div class=\"font-medium text-base\" style=\"word-wrap:break-word\" title=\"Sızma Testi\">Sızma Testi</div></div><p class=\"mx-0 mt-1.5 mb-0 flex justify-between items-center h-7 inline-block\"><span class=\"ant-tag beginner\"><span class=\"txt-secondary font-medium\">Temel Seviye</span></span></p></div></a><div id=\"undefined-progress\" class=\"h-50\"><div id=\"undefined-progress\" class=\"ant-progress ant-progress-line ant-progress-status-active ant-progress-default\"><div class=\"ant-progress-outer\"><div class=\"ant-progress-inner\" style=\"border-radius:0\"><div class=\"ant-progress-bg\" style=\"width:0%;height:10px;border-radius:0\"></div></div></div></div></div><div class=\"flex justify-between items-center txt-primary py-2.5 px-3 m-0 bg-[#EFEFEF]\" style=\"border-top:1px solid #c3c3c3\"><div class=\"relative\"><div class=\"absolute -top-[30px] -left-4 cursor-pointer h-14 w-14 bg-like-btn bg-no-repeat bg-[length:2900%] active:opacity-50 hover:bg-right hover:opacity-80 bg-left\"><span class=\"absolute top-[20px] left-[43px] font-medium text-sm\">1</span></div></div><div class=\"flex flex-row items-center cursor-pointer px-1 mr-1\"><span class=\"order-1\"><img src=\"https://static-01-btk.akamaized.net/portal/static/img/icons/course-card-users.svg\" height=\"16\" width=\"16\" alt=\"4.3K\"/></span><span class=\"mr-2 font-medium text-sm order-0 mx-1\">4.3K</span></div></div><p class=\"w-full m-0\"><img src=\"https://assets-btkakademi-gov-tr.akamaized.net/api/service/v1/public/51/assets/course_card_badge.png?ts=1638523973217\" class=\"absolute right-2 top-24\" width=\"50\" height=\"67\" alt=\"certificate\" title=\"Sertifika\"/></p></div><div class=\"ant-ribbon ant-ribbon-placement-start ant-ribbon-color-red hidden\" style=\"left:3px\"><span class=\"ant-ribbon-text\">Yeni</span><div class=\"ant-ribbon-corner\"></div></div></div></div><div class=\"\"><div class=\"ant-ribbon-wrapper\"><div class=\"m-auto w-full sm:max-w-[262px] bcg-primary relative rounded-xl text-base overflow-hidden border-solid border-[1px] border-gray-300 dark:border-gray-700\"><a href=\"/portal/course/elasticsearch-v8-31252\"><img src=\"https://assets-btkakademi-gov-tr.akamaized.net/api/gallery/51/29ebb59b-472b-489a-816d-8033e9a31cdc/233_0x220.png?t=1721657186088\" class=\"object-cover w-full rounded-t-xl h-[150px]\" alt=\"Elasticsearch v8\"/><div class=\"bcg-primary pt-2.5 pb-1.5 px-3 m-0\"><div class=\"h-12 max-h-12 m-0 txt-primary\"><div class=\"font-medium text-base\" style=\"word-wrap:break-word\" title=\"Elasticsearch v8\">Elasticsearch v8</div></div><p class=\"mx-0 mt-1.5 mb-0 flex justify-between items-center h-7 inline-block\"><span class=\"ant-tag intermediate\"><span class=\"txt-secondary font-medium\">Orta Seviye</span></span></p></div></a><div id=\"undefined-progress\" class=\"h-50\"><div id=\"undefined-progress\" class=\"ant-progress ant-progress-line ant-progress-status-active ant-progress-default\"><div class=\"ant-progress-outer\"><div class=\"ant-progress-inner\" style=\"border-radius:0\"><div class=\"ant-progress-bg\" style=\"width:0%;height:10px;border-radius:0\"></div></div></div></div></div><div class=\"flex justify-between items-center txt-primary py-2.5 px-3 m-0 bg-[#EFEFEF]\" style=\"border-top:1px solid #c3c3c3\"><div class=\"relative\"><div class=\"absolute -top-[30px] -left-4 cursor-pointer h-14 w-14 bg-like-btn bg-no-repeat bg-[length:2900%] active:opacity-50 hover:bg-right hover:opacity-80 bg-left\"><span class=\"absolute top-[20px] left-[43px] font-medium text-sm\">9</span></div></div><div class=\"flex flex-row items-center cursor-pointer px-1 mr-1\"><span class=\"order-1\"><img src=\"https://static-01-btk.akamaized.net/portal/static/img/icons/course-card-users.svg\" height=\"16\" width=\"16\" alt=\"1.3K\"/></span><span class=\"mr-2 font-medium text-sm order-0 mx-1\">1.3K</span></div></div><p class=\"w-full m-0\"><img src=\"https://assets-btkakademi-gov-tr.akamaized.net/api/service/v1/public/51/assets/course_card_badge.png?ts=1638523973217\" class=\"absolute right-2 top-24\" width=\"50\" height=\"67\" alt=\"certificate\" title=\"Sertifika\"/></p></div><div class=\"ant-ribbon ant-ribbon-placement-start ant-ribbon-color-red hidden\" style=\"left:3px\"><span class=\"ant-ribbon-text\">Yeni</span><div class=\"ant-ribbon-corner\"></div></div></div></div><div class=\"\"><div class=\"ant-ribbon-wrapper\"><div class=\"m-auto w-full sm:max-w-[262px] bcg-primary relative rounded-xl text-base overflow-hidden border-solid border-[1px] border-gray-300 dark:border-gray-700\"><a href=\"/portal/course/ileri-seviye-python-programlama-dili-30852\"><img src=\"https://assets-btkakademi-gov-tr.akamaized.net/api/gallery/51/884316f4-1a56-4b0c-b6e3-b07241275c92/210_ileri_seviye_python_0x220.png?t=1721216206652\" class=\"object-cover w-full rounded-t-xl h-[150px]\" alt=\"İleri Seviye Python Programlama Dili\"/><div class=\"bcg-primary pt-2.5 pb-1.5 px-3 m-0\"><div class=\"h-12 max-h-12 m-0 txt-primary\"><div class=\"font-medium text-base\" style=\"word-wrap:break-word\" title=\"İleri Seviye Python Programlama Dili\">İleri Seviye Python Programlama Dili</div></div><p class=\"mx-0 mt-1.5 mb-0 flex justify-between items-center h-7 inline-block\"><span class=\"ant-tag public\"><span class=\"txt-secondary font-medium\">Genel Seviye</span></span></p></div></a><div id=\"undefined-progress\" class=\"h-50\"><div id=\"undefined-progress\" class=\"ant-progress ant-progress-line ant-progress-status-active ant-progress-default\"><div class=\"ant-progress-outer\"><div class=\"ant-progress-inner\" style=\"border-radius:0\"><div class=\"ant-progress-bg\" style=\"width:0%;height:10px;border-radius:0\"></div></div></div></div></div><div class=\"flex justify-between items-center txt-primary py-2.5 px-3 m-0 bg-[#EFEFEF]\" style=\"border-top:1px solid #c3c3c3\"><div class=\"relative\"><div class=\"absolute -top-[30px] -left-4 cursor-pointer h-14 w-14 bg-like-btn bg-no-repeat bg-[length:2900%] active:opacity-50 hover:bg-right hover:opacity-80 bg-left\"><span class=\"absolute top-[20px] left-[43px] font-medium text-sm\">95</span></div></div><div class=\"flex flex-row items-center cursor-pointer px-1 mr-1\"><span class=\"order-1\"><img src=\"https://static-01-btk.akamaized.net/portal/static/img/icons/course-card-users.svg\" height=\"16\" width=\"16\" alt=\"5.7K\"/></span><span class=\"mr-2 font-medium text-sm order-0 mx-1\">5.7K</span></div></div><p class=\"w-full m-0\"><img src=\"https://assets-btkakademi-gov-tr.akamaized.net/api/service/v1/public/51/assets/course_card_badge.png?ts=1638523973217\" class=\"absolute right-2 top-24\" width=\"50\" height=\"67\" alt=\"certificate\" title=\"Sertifika\"/></p></div><div class=\"ant-ribbon ant-ribbon-placement-start ant-ribbon-color-red hidden\" style=\"left:3px\"><span class=\"ant-ribbon-text\">Yeni</span><div class=\"ant-ribbon-corner\"></div></div></div></div><div class=\"\"><div class=\"ant-ribbon-wrapper\"><div class=\"m-auto w-full sm:max-w-[262px] bcg-primary relative rounded-xl text-base overflow-hidden border-solid border-[1px] border-gray-300 dark:border-gray-700\"><a href=\"/portal/course/veri-tabanina-giris-30686\"><img src=\"https://assets-btkakademi-gov-tr.akamaized.net/api/gallery/51/7b0d1b80-7c63-49a3-b0ca-2503c1fc9463/161_0x220.png?t=1721139183214\" class=\"object-cover w-full rounded-t-xl h-[150px]\" alt=\"Veri Tabanına Giriş\"/><div class=\"bcg-primary pt-2.5 pb-1.5 px-3 m-0\"><div class=\"h-12 max-h-12 m-0 txt-primary\"><div class=\"font-medium text-base\" style=\"word-wrap:break-word\" title=\"Veri Tabanına Giriş\">Veri Tabanına Giriş</div></div><p class=\"mx-0 mt-1.5 mb-0 flex justify-between items-center h-7 inline-block\"><span class=\"ant-tag beginner\"><span class=\"txt-secondary font-medium\">Temel Seviye</span></span></p></div></a><div id=\"undefined-progress\" class=\"h-50\"><div id=\"undefined-progress\" class=\"ant-progress ant-progress-line ant-progress-status-active ant-progress-default\"><div class=\"ant-progress-outer\"><div class=\"ant-progress-inner\" style=\"border-radius:0\"><div class=\"ant-progress-bg\" style=\"width:0%;height:10px;border-radius:0\"></div></div></div></div></div><div class=\"flex justify-between items-center txt-primary py-2.5 px-3 m-0 bg-[#EFEFEF]\" style=\"border-top:1px solid #c3c3c3\"><div class=\"relative\"><div class=\"absolute -top-[30px] -left-4 cursor-pointer h-14 w-14 bg-like-btn bg-no-repeat bg-[length:2900%] active:opacity-50 hover:bg-right hover:opacity-80 bg-left\"><span class=\"absolute top-[20px] left-[43px] font-medium text-sm\">112</span></div></div><div class=\"flex flex-row items-center cursor-pointer px-1 mr-1\"><span class=\"order-1\"><img src=\"https://static-01-btk.akamaized.net/portal/static/img/icons/course-card-users.svg\" height=\"16\" width=\"16\" alt=\"8.8K\"/></span><span class=\"mr-2 font-medium text-sm order-0 mx-1\">8.8K</span></div></div><p class=\"w-full m-0\"><img src=\"https://assets-btkakademi-gov-tr.akamaized.net/api/service/v1/public/51/assets/course_card_badge.png?ts=1638523973217\" class=\"absolute right-2 top-24\" width=\"50\" height=\"67\" alt=\"certificate\" title=\"Sertifika\"/></p></div><div class=\"ant-ribbon ant-ribbon-placement-start ant-ribbon-color-red hidden\" style=\"left:3px\"><span class=\"ant-ribbon-text\">Yeni</span><div class=\"ant-ribbon-corner\"></div></div></div></div><div class=\"\"><div class=\"ant-ribbon-wrapper\"><div class=\"m-auto w-full sm:max-w-[262px] bcg-primary relative rounded-xl text-base overflow-hidden border-solid border-[1px] border-gray-300 dark:border-gray-700\"><a href=\"/portal/course/python-ile-makine-ogrenmesi-uygulamalari-30284\"><img src=\"https://assets-btkakademi-gov-tr.akamaized.net/api/gallery/51/91e78ed2-6e25-44aa-ac60-97f98bee6893/342_2_0x220.png?t=1717746301659\" class=\"object-cover w-full rounded-t-xl h-[150px]\" alt=\"Python ile Makine Öğrenmesi Uygulamaları\"/><div class=\"bcg-primary pt-2.5 pb-1.5 px-3 m-0\"><div class=\"h-12 max-h-12 m-0 txt-primary\"><div class=\"font-medium text-base\" style=\"word-wrap:break-word\" title=\"Python ile Makine Öğrenmesi Uygulamaları\">Python ile Makine Öğrenmesi Uygulamaları</div></div><p class=\"mx-0 mt-1.5 mb-0 flex justify-between items-center h-7 inline-block\"><span class=\"ant-tag intermediate\"><span class=\"txt-secondary font-medium\">Orta Seviye</span></span></p></div></a><div id=\"undefined-progress\" class=\"h-50\"><div id=\"undefined-progress\" class=\"ant-progress ant-progress-line ant-progress-status-active ant-progress-default\"><div class=\"ant-progress-outer\"><div class=\"ant-progress-inner\" style=\"border-radius:0\"><div class=\"ant-progress-bg\" style=\"width:0%;height:10px;border-radius:0\"></div></div></div></div></div><div class=\"flex justify-between items-center txt-primary py-2.5 px-3 m-0 bg-[#EFEFEF]\" style=\"border-top:1px solid #c3c3c3\"><div class=\"relative\"><div class=\"absolute -top-[30px] -left-4 cursor-pointer h-14 w-14 bg-like-btn bg-no-repeat bg-[length:2900%] active:opacity-50 hover:bg-right hover:opacity-80 bg-left\"><span class=\"absolute top-[20px] left-[43px] font-medium text-sm\">61</span></div></div><div class=\"flex flex-row items-center cursor-pointer px-1 mr-1\"><span class=\"order-1\"><img src=\"https://static-01-btk.akamaized.net/portal/static/img/icons/course-card-users.svg\" height=\"16\" width=\"16\" alt=\"5.5K\"/></span><span class=\"mr-2 font-medium text-sm order-0 mx-1\">5.5K</span></div></div><p class=\"w-full m-0\"><img src=\"https://assets-btkakademi-gov-tr.akamaized.net/api/service/v1/public/51/assets/course_card_badge.png?ts=1638523973217\" class=\"absolute right-2 top-24\" width=\"50\" height=\"67\" alt=\"certificate\" title=\"Sertifika\"/></p></div><div class=\"ant-ribbon ant-ribbon-placement-start ant-ribbon-color-red hidden\" style=\"left:3px\"><span class=\"ant-ribbon-text\">Yeni</span><div class=\"ant-ribbon-corner\"></div></div></div></div><div class=\"\"><div class=\"ant-ribbon-wrapper\"><div class=\"m-auto w-full sm:max-w-[262px] bcg-primary relative rounded-xl text-base overflow-hidden border-solid border-[1px] border-gray-300 dark:border-gray-700\"><a href=\"/portal/course/kotlin-ile-android-mobil-uygulama-gelistirme-ileri-seviye-30303\"><img src=\"https://assets-btkakademi-gov-tr.akamaized.net/api/gallery/51/5f8a9a7b-74ac-4c62-857e-bfdef090bc12/356_0x220.png?t=1716465831398\" class=\"object-cover w-full rounded-t-xl h-[150px]\" alt=\"Kotlin ile Android Mobil Uygulama Geliştirme İleri Seviye\"/><div class=\"bcg-primary pt-2.5 pb-1.5 px-3 m-0\"><div class=\"h-12 max-h-12 m-0 txt-primary\"><div class=\"font-medium text-base\" style=\"word-wrap:break-word\" title=\"Kotlin ile Android Mobil Uygulama Geliştirme İleri Seviye\">Kotlin ile Android Mobil Uygulama Geliştirme İleri Seviye</div></div><p class=\"mx-0 mt-1.5 mb-0 flex justify-between items-center h-7 inline-block\"><span class=\"ant-tag advanced\"><span class=\"txt-secondary font-medium\">İleri Seviye</span></span></p></div></a><div id=\"undefined-progress\" class=\"h-50\"><div id=\"undefined-progress\" class=\"ant-progress ant-progress-line ant-progress-status-active ant-progress-default\"><div class=\"ant-progress-outer\"><div class=\"ant-progress-inner\" style=\"border-radius:0\"><div class=\"ant-progress-bg\" style=\"width:0%;height:10px;border-radius:0\"></div></div></div></div></div><div class=\"flex justify-between items-center txt-primary py-2.5 px-3 m-0 bg-[#EFEFEF]\" style=\"border-top:1px solid #c3c3c3\"><div class=\"relative\"><div class=\"absolute -top-[30px] -left-4 cursor-pointer h-14 w-14 bg-like-btn bg-no-repeat bg-[length:2900%] active:opacity-50 hover:bg-right hover:opacity-80 bg-left\"><span class=\"absolute top-[20px] left-[43px] font-medium text-sm\">45</span></div></div><div class=\"flex flex-row items-center cursor-pointer px-1 mr-1\"><span class=\"order-1\"><img src=\"https://static-01-btk.akamaized.net/portal/static/img/icons/course-card-users.svg\" height=\"16\" width=\"16\" alt=\"3.5K\"/></span><span class=\"mr-2 font-medium text-sm order-0 mx-1\">3.5K</span></div></div><p class=\"w-full m-0\"><img src=\"https://assets-btkakademi-gov-tr.akamaized.net/api/service/v1/public/51/assets/course_card_badge.png?ts=1638523973217\" class=\"absolute right-2 top-24\" width=\"50\" height=\"67\" alt=\"certificate\" title=\"Sertifika\"/></p></div><div class=\"ant-ribbon ant-ribbon-placement-start ant-ribbon-color-red hidden\" style=\"left:3px\"><span class=\"ant-ribbon-text\">Yeni</span><div class=\"ant-ribbon-corner\"></div></div></div></div><div class=\"\"><div class=\"ant-ribbon-wrapper\"><div class=\"m-auto w-full sm:max-w-[262px] bcg-primary relative rounded-xl text-base overflow-hidden border-solid border-[1px] border-gray-300 dark:border-gray-700\"><a href=\"/portal/course/kotlin-ile-android-mobil-uygulama-gelistirme-temelleri-30370\"><img src=\"https://assets-btkakademi-gov-tr.akamaized.net/api/gallery/51/b0765694-9652-4c90-8c3e-cd4276fc052a/228_0x220.png?t=1716453316865\" class=\"object-cover w-full rounded-t-xl h-[150px]\" alt=\"Kotlin ile Android Mobil Uygulama Geliştirme Temelleri \"/><div class=\"bcg-primary pt-2.5 pb-1.5 px-3 m-0\"><div class=\"h-12 max-h-12 m-0 txt-primary\"><div class=\"font-medium text-base\" style=\"word-wrap:break-word\" title=\"Kotlin ile Android Mobil Uygulama Geliştirme Temelleri \">Kotlin ile Android Mobil Uygulama Geliştirme Temelleri </div></div><p class=\"mx-0 mt-1.5 mb-0 flex justify-between items-center h-7 inline-block\"><span class=\"ant-tag intermediate\"><span class=\"txt-secondary font-medium\">Orta Seviye</span></span></p></div></a><div id=\"undefined-progress\" class=\"h-50\"><div id=\"undefined-progress\" class=\"ant-progress ant-progress-line ant-progress-status-active ant-progress-default\"><div class=\"ant-progress-outer\"><div class=\"ant-progress-inner\" style=\"border-radius:0\"><div class=\"ant-progress-bg\" style=\"width:0%;height:10px;border-radius:0\"></div></div></div></div></div><div class=\"flex justify-between items-center txt-primary py-2.5 px-3 m-0 bg-[#EFEFEF]\" style=\"border-top:1px solid #c3c3c3\"><div class=\"relative\"><div class=\"absolute -top-[30px] -left-4 cursor-pointer h-14 w-14 bg-like-btn bg-no-repeat bg-[length:2900%] active:opacity-50 hover:bg-right hover:opacity-80 bg-left\"><span class=\"absolute top-[20px] left-[43px] font-medium text-sm\">78</span></div></div><div class=\"flex flex-row items-center cursor-pointer px-1 mr-1\"><span class=\"order-1\"><img src=\"https://static-01-btk.akamaized.net/portal/static/img/icons/course-card-users.svg\" height=\"16\" width=\"16\" alt=\"4.3K\"/></span><span class=\"mr-2 font-medium text-sm order-0 mx-1\">4.3K</span></div></div><p class=\"w-full m-0\"><img src=\"https://assets-btkakademi-gov-tr.akamaized.net/api/service/v1/public/51/assets/course_card_badge.png?ts=1638523973217\" class=\"absolute right-2 top-24\" width=\"50\" height=\"67\" alt=\"certificate\" title=\"Sertifika\"/></p></div><div class=\"ant-ribbon ant-ribbon-placement-start ant-ribbon-color-red hidden\" style=\"left:3px\"><span class=\"ant-ribbon-text\">Yeni</span><div class=\"ant-ribbon-corner\"></div></div></div></div><div class=\"\"><div class=\"ant-ribbon-wrapper\"><div class=\"m-auto w-full sm:max-w-[262px] bcg-primary relative rounded-xl text-base overflow-hidden border-solid border-[1px] border-gray-300 dark:border-gray-700\"><a href=\"/portal/course/kotlin-programlama-dili-30052\"><img src=\"https://assets-btkakademi-gov-tr.akamaized.net/api/gallery/51/32086c27-8c6e-4415-955c-f2fcba425c8c/227_0x220.png?t=1714401664331\" class=\"object-cover w-full rounded-t-xl h-[150px]\" alt=\"Kotlin Programlama Dili\"/><div class=\"bcg-primary pt-2.5 pb-1.5 px-3 m-0\"><div class=\"h-12 max-h-12 m-0 txt-primary\"><div class=\"font-medium text-base\" style=\"word-wrap:break-word\" title=\"Kotlin Programlama Dili\">Kotlin Programlama Dili</div></div><p class=\"mx-0 mt-1.5 mb-0 flex justify-between items-center h-7 inline-block\"><span class=\"ant-tag beginner\"><span class=\"txt-secondary font-medium\">Temel Seviye</span></span></p></div></a><div id=\"undefined-progress\" class=\"h-50\"><div id=\"undefined-progress\" class=\"ant-progress ant-progress-line ant-progress-status-active ant-progress-default\"><div class=\"ant-progress-outer\"><div class=\"ant-progress-inner\" style=\"border-radius:0\"><div class=\"ant-progress-bg\" style=\"width:0%;height:10px;border-radius:0\"></div></div></div></div></div><div class=\"flex justify-between items-center txt-primary py-2.5 px-3 m-0 bg-[#EFEFEF]\" style=\"border-top:1px solid #c3c3c3\"><div class=\"relative\"><div class=\"absolute -top-[30px] -left-4 cursor-pointer h-14 w-14 bg-like-btn bg-no-repeat bg-[length:2900%] active:opacity-50 hover:bg-right hover:opacity-80 bg-left\"><span class=\"absolute top-[20px] left-[43px] font-medium text-sm\">147</span></div></div><div class=\"flex flex-row items-center cursor-pointer px-1 mr-1\"><span class=\"order-1\"><img src=\"https://static-01-btk.akamaized.net/portal/static/img/icons/course-card-users.svg\" height=\"16\" width=\"16\" alt=\"7.4K\"/></span><span class=\"mr-2 font-medium text-sm order-0 mx-1\">7.4K</span></div></div><p class=\"w-full m-0\"><img src=\"https://assets-btkakademi-gov-tr.akamaized.net/api/service/v1/public/51/assets/course_card_badge.png?ts=1638523973217\" class=\"absolute right-2 top-24\" width=\"50\" height=\"67\" alt=\"certificate\" title=\"Sertifika\"/></p></div><div class=\"ant-ribbon ant-ribbon-placement-start ant-ribbon-color-red hidden\" style=\"left:3px\"><span class=\"ant-ribbon-text\">Yeni</span><div class=\"ant-ribbon-corner\"></div></div></div></div><div class=\"\"><div class=\"ant-ribbon-wrapper\"><div class=\"m-auto w-full sm:max-w-[262px] bcg-primary relative rounded-xl text-base overflow-hidden border-solid border-[1px] border-gray-300 dark:border-gray-700\"><a href=\"/portal/course/makine-ogrenmesi-30123\"><img src=\"https://assets-btkakademi-gov-tr.akamaized.net/api/gallery/51/f192b9b7-b448-4a44-8df2-21b09278b725/341_0x220.png?t=1714725343997\" class=\"object-cover w-full rounded-t-xl h-[150px]\" alt=\"Makine Öğrenmesi\"/><div class=\"bcg-primary pt-2.5 pb-1.5 px-3 m-0\"><div class=\"h-12 max-h-12 m-0 txt-primary\"><div class=\"font-medium text-base\" style=\"word-wrap:break-word\" title=\"Makine Öğrenmesi\">Makine Öğrenmesi</div></div><p class=\"mx-0 mt-1.5 mb-0 flex justify-between items-center h-7 inline-block\"><span class=\"ant-tag intermediate\"><span class=\"txt-secondary font-medium\">Orta Seviye</span></span></p></div></a><div id=\"undefined-progress\" class=\"h-50\"><div id=\"undefined-progress\" class=\"ant-progress ant-progress-line ant-progress-status-active ant-progress-default\"><div class=\"ant-progress-outer\"><div class=\"ant-progress-inner\" style=\"border-radius:0\"><div class=\"ant-progress-bg\" style=\"width:0%;height:10px;border-radius:0\"></div></div></div></div></div><div class=\"flex justify-between items-center txt-primary py-2.5 px-3 m-0 bg-[#EFEFEF]\" style=\"border-top:1px solid #c3c3c3\"><div class=\"relative\"><div class=\"absolute -top-[30px] -left-4 cursor-pointer h-14 w-14 bg-like-btn bg-no-repeat bg-[length:2900%] active:opacity-50 hover:bg-right hover:opacity-80 bg-left\"><span class=\"absolute top-[20px] left-[43px] font-medium text-sm\">111</span></div></div><div class=\"flex flex-row items-center cursor-pointer px-1 mr-1\"><span class=\"order-1\"><img src=\"https://static-01-btk.akamaized.net/portal/static/img/icons/course-card-users.svg\" height=\"16\" width=\"16\" alt=\"6.3K\"/></span><span class=\"mr-2 font-medium text-sm order-0 mx-1\">6.3K</span></div></div><p class=\"w-full m-0\"><img src=\"https://assets-btkakademi-gov-tr.akamaized.net/api/service/v1/public/51/assets/course_card_badge.png?ts=1638523973217\" class=\"absolute right-2 top-24\" width=\"50\" height=\"67\" alt=\"certificate\" title=\"Sertifika\"/></p></div><div class=\"ant-ribbon ant-ribbon-placement-start ant-ribbon-color-red hidden\" style=\"left:3px\"><span class=\"ant-ribbon-text\">Yeni</span><div class=\"ant-ribbon-corner\"></div></div></div></div><div class=\"\"><div class=\"ant-ribbon-wrapper\"><div class=\"m-auto w-full sm:max-w-[262px] bcg-primary relative rounded-xl text-base overflow-hidden border-solid border-[1px] border-gray-300 dark:border-gray-700\"><a href=\"/portal/course/python-programlama-dili-29055\"><img src=\"https://assets-btkakademi-gov-tr.akamaized.net/api/gallery/51/15a9c356-3e74-4a35-bb95-1022024a18af/338_0x220.png?t=1709211256068\" class=\"object-cover w-full rounded-t-xl h-[150px]\" alt=\"Python Programlama Dili\"/><div class=\"bcg-primary pt-2.5 pb-1.5 px-3 m-0\"><div class=\"h-12 max-h-12 m-0 txt-primary\"><div class=\"font-medium text-base\" style=\"word-wrap:break-word\" title=\"Python Programlama Dili\">Python Programlama Dili</div></div><p class=\"mx-0 mt-1.5 mb-0 flex justify-between items-center h-7 inline-block\"><span class=\"ant-tag intermediate\"><span class=\"txt-secondary font-medium\">Orta Seviye</span></span></p></div></a><div id=\"undefined-progress\" class=\"h-50\"><div id=\"undefined-progress\" class=\"ant-progress ant-progress-line ant-progress-status-active ant-progress-default\"><div class=\"ant-progress-outer\"><div class=\"ant-progress-inner\" style=\"border-radius:0\"><div class=\"ant-progress-bg\" style=\"width:0%;height:10px;border-radius:0\"></div></div></div></div></div><div class=\"flex justify-between items-center txt-primary py-2.5 px-3 m-0 bg-[#EFEFEF]\" style=\"border-top:1px solid #c3c3c3\"><div class=\"relative\"><div class=\"absolute -top-[30px] -left-4 cursor-pointer h-14 w-14 bg-like-btn bg-no-repeat bg-[length:2900%] active:opacity-50 hover:bg-right hover:opacity-80 bg-left\"><span class=\"absolute top-[20px] left-[43px] font-medium text-sm\">193</span></div></div><div class=\"flex flex-row items-center cursor-pointer px-1 mr-1\"><span class=\"order-1\"><img src=\"https://static-01-btk.akamaized.net/portal/static/img/icons/course-card-users.svg\" height=\"16\" width=\"16\" alt=\"13.7K\"/></span><span class=\"mr-2 font-medium text-sm order-0 mx-1\">13.7K</span></div></div><p class=\"w-full m-0\"><img src=\"https://assets-btkakademi-gov-tr.akamaized.net/api/service/v1/public/51/assets/course_card_badge.png?ts=1638523973217\" class=\"absolute right-2 top-24\" width=\"50\" height=\"67\" alt=\"certificate\" title=\"Sertifika\"/></p></div><div class=\"ant-ribbon ant-ribbon-placement-start ant-ribbon-color-red hidden\" style=\"left:3px\"><span class=\"ant-ribbon-text\">Yeni</span><div class=\"ant-ribbon-corner\"></div></div></div></div></div><div class=\"text-center\"><button id=\"gbt_catalog-main-right-course-more-btn\" style=\"border-radius:10px\" type=\"button\" class=\"ant-btn ant-btn-round ant-btn-default ant-btn-lg btn-primary mt-4 mb-2\"><span>Daha Fazla Göster</span></button></div></div></div></div></div></div><div style=\"position:fixed;z-index:9999\"></div><div id=\"gbt_scroll-top\" class=\"ScrollToTop__Scroll2Top-sc-123uoxk-1 kibiKj scroll-to-top overEveryThing\"></div><div class=\"px-3 py-2.5 \"><section id=\"gbt_app-footer-top-section\" class=\"w-full py-5 flex flex-col-reverse lg:flex-row\"><div id=\"gbt_app-footer-top-left\" class=\"select-none w-full lg:w-2/5 mt-3 md:mt-0 mr-3\"><span id=\"gbt_app-footer-top-copyright-divider\" class=\"block lg:hidden mb-3\"><div class=\"ant-divider ant-divider-horizontal m-0 p-0\" id=\"gbt_app-footer-top-copyright-divider\" role=\"separator\"></div></span><div id=\"gbt_app-footer-top-copyright-detail\" class=\"flex flex-col items-center lg:items-start\"><img src=\"https://assets-btkakademi-gov-tr.akamaized.net/api/service/v1/public/51/assets/footer_logo.png?ts=1695810534766\" id=\"gbt_app-footer-top-copyright-detail-logo\" alt=\"logo\" style=\"width:200px;max-height:50px;display:inline;margin-top:0.2rem;object-fit:contain\"/><p id=\"gbt_app-footer-top-copyright-detail-text\" class=\"m-0 font-normal text-sm py-2 text-center\">Telif Hakları Gobito Kurumsal Çözümler © 2024</p><div id=\"gbt_app-footer-top-copyright-detail-social\" class=\"py-2 mr-3 text-center\"><a id=\"gbt_app-footer-top-copyright-detail-social-0\" href=\"https://www.facebook.com/btkakademi\" class=\"hlink-text mr-3\" rel=\"noreferrer\" target=\"_blank\"><img src=\"https://static-01-btk.akamaized.net/portal/static/img/icons/social/facebook.svg\" id=\"gbt_app-footer-top-copyright-detail-social-0\" width=\"20\" height=\"20\" alt=\"\"/></a><a id=\"gbt_app-footer-top-copyright-detail-social-1\" href=\"http://instagram.com/btkakademi\" class=\"hlink-text mr-3\" rel=\"noreferrer\" target=\"_blank\"><img src=\"https://static-01-btk.akamaized.net/portal/static/img/icons/social/instagram.svg\" id=\"gbt_app-footer-top-copyright-detail-social-1\" width=\"20\" height=\"20\" alt=\"\"/></a><a id=\"gbt_app-footer-top-copyright-detail-social-2\" href=\"https://www.linkedin.com/company/btk-akademi\" class=\"hlink-text mr-3\" rel=\"noreferrer\" target=\"_blank\"><img src=\"https://static-01-btk.akamaized.net/portal/static/img/icons/social/linkedin.svg\" id=\"gbt_app-footer-top-copyright-detail-social-2\" width=\"20\" height=\"20\" alt=\"\"/></a><a id=\"gbt_app-footer-top-copyright-detail-social-3\" href=\"https://www.youtube.com/channel/UCIeLKRrvnkBn0xEvbKzRfEg/featured\" class=\"hlink-text mr-3\" rel=\"noreferrer\" target=\"_blank\"><img src=\"https://static-01-btk.akamaized.net/portal/static/img/icons/social/youtube.svg\" id=\"gbt_app-footer-top-copyright-detail-social-3\" width=\"20\" height=\"20\" alt=\"\"/></a><a id=\"gbt_app-footer-top-copyright-detail-social-4\" href=\"https://twitter.com/BTKAkademi\" class=\"hlink-text mr-3\" rel=\"noreferrer\" target=\"_blank\"><img src=\"https://static-01-btk.akamaized.net/portal/static/img/icons/social/twitter.svg\" id=\"gbt_app-footer-top-copyright-detail-social-4\" width=\"20\" height=\"20\" alt=\"\"/></a></div></div></div><div id=\"gbt_app-footer-top-right\" class=\"w-full lg:w-3/5 px-5 mt-3.5 mx-auto flex flex-col md:flex-row justify-center text-left ml-3 \"></div></section><span class=\"hidden\">1.2</span></div></div></div><script id=\"__NEXT_DATA__\" type=\"application/json\">{\"props\":{\"initialProps\":{\"accountConfig\":{\"homeNewlyPublishedEnabled\":true,\"api.version\":\"0.0.1\",\"bannerType\":\"category\",\"profileSettingsCurrentCityEnabled\":true,\"timezone\":\"Europe/Istanbul\",\"plugins\":[\"YOK_INTEGRATION\",\"ExternalEvents\"],\"publicCatalogEnabled\":true,\"homePageUrl\":\"/\",\"oauth2\":{\"directLoginEnabled\":false,\"supportedProviderProperties\":[{},{}],\"url\":\"/authenticate/adal/51#get\",\"enabled\":\"/authenticate/adal/enabled/51?username=$#get\",\"providerType\":\"EDEVLET\",\"supportedProviderTypes\":[\"EDEVLET\",\"KKTC_EDEVLET\"],\"validate\":\"/authenticate/adal/51#post\"},\"platform\":\"web\",\"googleTagManager\":\"GTM-WP28TFZ\",\"selfRegistrationNidAsUsername\":true,\"courseCardType\":\"high\",\"forgotPasswordEnabled\":true,\"calendarEnabled\":true,\"defaultLanguage\":\"tr\",\"catalogCourseDemandedDisabled\":true,\"ui\":{\"web\":{\"favicon\":\"https://assets-btkakademi-gov-tr.akamaized.net/api/template/51/client/assets/img/favicon.png?v=202\"},\"favicon\":\"https://assets-btkakademi-gov-tr.akamaized.net/api/service/v1/public/51/assets/favicon.png?ts=1669375929576\",\"dm_footer_logo\":\"https://assets-btkakademi-gov-tr.akamaized.net/api/service/v1/public/51/assets/dm_footer_logo.png?ts=1695810534094\",\"footer_logo\":\"https://assets-btkakademi-gov-tr.akamaized.net/api/service/v1/public/51/assets/footer_logo.png?ts=1695810534766\",\"logo\":\"https://assets-btkakademi-gov-tr.akamaized.net/api/service/v1/public/51/assets/logo.png?ts=1695810534764\",\"GA\":\"UA-436920-20\",\"course_card_badge\":\"https://assets-btkakademi-gov-tr.akamaized.net/api/service/v1/public/51/assets/course_card_badge.png?ts=1638523973217\",\"dm_logo\":\"https://assets-btkakademi-gov-tr.akamaized.net/api/service/v1/public/51/assets/dm_logo.png?ts=1695810534759\"},\"supportedLanguages\":[\"tr\"],\"selfRegistrationDobRequired\":true,\"selfRegistrationEnabled\":true,\"profilePageViewType\":\"dashboard\",\"staticPageSearchDisabled\":true,\"headlessLearningPath\":true,\"id\":51,\"forceProfileDisabled\":true,\"loginRedirectUrl\":\"/\",\"socialGroupEnabled\":true,\"fqdn\":\"www.btkakademi.gov.tr\",\"statisticsEnabled\":true,\"social\":{\"FACEBOOK\":\"https://www.facebook.com/btkakademi\",\"INSTAGRAM\":\"http://instagram.com/btkakademi\",\"LINKEDIN\":\"https://www.linkedin.com/company/btk-akademi\",\"YOUTUBE\":\"https://www.youtube.com/channel/UCIeLKRrvnkBn0xEvbKzRfEg/featured\",\"TWITTER\":\"https://twitter.com/BTKAkademi\"},\"selfRegistrationNidRequired\":true,\"oneMillionIstihdamEnabled\":true,\"profileSettingsBusinessMobileEnabled\":true,\"profileCourseFormEnabled\":true,\"documentLibraryEnabled\":true,\"qrLoginDisabled\":true,\"domain\":\"BTK\",\"pdpDisabled\":true,\"blogSearchDisabled\":true,\"messagingEnabled\":true,\"forceProfileDetailsEditable\":true,\"homeNewestCoursesDisabled\":true,\"myCoursesSuggestedDisabled\":true},\"pageProps\":{\"isAuthenticated\":false,\"locale\":\"tr\"}},\"initialState\":{\"authentication\":{},\"accountConfig\":{\"homeNewlyPublishedEnabled\":true,\"api.version\":\"0.0.1\",\"bannerType\":\"category\",\"profileSettingsCurrentCityEnabled\":true,\"timezone\":\"Europe/Istanbul\",\"plugins\":[\"YOK_INTEGRATION\",\"ExternalEvents\"],\"publicCatalogEnabled\":true,\"homePageUrl\":\"/\",\"oauth2\":{\"directLoginEnabled\":false,\"supportedProviderProperties\":[{},{}],\"url\":\"/authenticate/adal/51#get\",\"enabled\":\"/authenticate/adal/enabled/51?username=$#get\",\"providerType\":\"EDEVLET\",\"supportedProviderTypes\":[\"EDEVLET\",\"KKTC_EDEVLET\"],\"validate\":\"/authenticate/adal/51#post\"},\"platform\":\"web\",\"googleTagManager\":\"GTM-WP28TFZ\",\"selfRegistrationNidAsUsername\":true,\"courseCardType\":\"high\",\"forgotPasswordEnabled\":true,\"calendarEnabled\":true,\"defaultLanguage\":\"tr\",\"catalogCourseDemandedDisabled\":true,\"ui\":{\"web\":{\"favicon\":\"https://assets-btkakademi-gov-tr.akamaized.net/api/template/51/client/assets/img/favicon.png?v=202\"},\"favicon\":\"https://assets-btkakademi-gov-tr.akamaized.net/api/service/v1/public/51/assets/favicon.png?ts=1669375929576\",\"dm_footer_logo\":\"https://assets-btkakademi-gov-tr.akamaized.net/api/service/v1/public/51/assets/dm_footer_logo.png?ts=1695810534094\",\"footer_logo\":\"https://assets-btkakademi-gov-tr.akamaized.net/api/service/v1/public/51/assets/footer_logo.png?ts=1695810534766\",\"logo\":\"https://assets-btkakademi-gov-tr.akamaized.net/api/service/v1/public/51/assets/logo.png?ts=1695810534764\",\"GA\":\"UA-436920-20\",\"course_card_badge\":\"https://assets-btkakademi-gov-tr.akamaized.net/api/service/v1/public/51/assets/course_card_badge.png?ts=1638523973217\",\"dm_logo\":\"https://assets-btkakademi-gov-tr.akamaized.net/api/service/v1/public/51/assets/dm_logo.png?ts=1695810534759\"},\"supportedLanguages\":[\"tr\"],\"selfRegistrationDobRequired\":true,\"selfRegistrationEnabled\":true,\"profilePageViewType\":\"dashboard\",\"staticPageSearchDisabled\":true,\"headlessLearningPath\":true,\"id\":51,\"forceProfileDisabled\":true,\"loginRedirectUrl\":\"/\",\"socialGroupEnabled\":true,\"fqdn\":\"www.btkakademi.gov.tr\",\"statisticsEnabled\":true,\"social\":{\"FACEBOOK\":\"https://www.facebook.com/btkakademi\",\"INSTAGRAM\":\"http://instagram.com/btkakademi\",\"LINKEDIN\":\"https://www.linkedin.com/company/btk-akademi\",\"YOUTUBE\":\"https://www.youtube.com/channel/UCIeLKRrvnkBn0xEvbKzRfEg/featured\",\"TWITTER\":\"https://twitter.com/BTKAkademi\"},\"selfRegistrationNidRequired\":true,\"oneMillionIstihdamEnabled\":true,\"profileSettingsBusinessMobileEnabled\":true,\"profileCourseFormEnabled\":true,\"documentLibraryEnabled\":true,\"qrLoginDisabled\":true,\"domain\":\"BTK\",\"pdpDisabled\":true,\"blogSearchDisabled\":true,\"messagingEnabled\":true,\"forceProfileDetailsEditable\":true,\"homeNewestCoursesDisabled\":true,\"myCoursesSuggestedDisabled\":true},\"courseStatus\":{},\"categories\":[],\"nav\":{},\"home\":{},\"gamification\":{},\"selectedMenuCategories\":[],\"theme\":{\"selectedTheme\":\"light\"},\"portal\":{\"notificationCount\":0,\"shoppingCard\":[],\"saleCoupons\":[{\"id\":1,\"name\":\"ANEWYEAR2022\",\"value\":\"year2022\",\"sale\":38,\"total\":true,\"used\":false},{\"id\":2,\"name\":\"TEST1\",\"value\":\"test1\",\"sale\":10,\"total\":false,\"used\":false},{\"id\":3,\"name\":\"TEST2\",\"value\":\"test2\",\"sale\":25,\"total\":false,\"used\":false},{\"id\":4,\"name\":\"TEST3\",\"value\":\"test3\",\"sale\":35,\"total\":false,\"used\":false},{\"id\":5,\"name\":\"TEST4\",\"value\":\"test4\",\"sale\":45,\"total\":false,\"used\":false}],\"isHelpDeskActive\":false}},\"__N_SSP\":true,\"pageProps\":{\"initialState\":{\"authentication\":{},\"accountConfig\":{\"homeNewlyPublishedEnabled\":true,\"api.version\":\"0.0.1\",\"bannerType\":\"category\",\"profileSettingsCurrentCityEnabled\":true,\"timezone\":\"Europe/Istanbul\",\"plugins\":[\"YOK_INTEGRATION\",\"ExternalEvents\"],\"publicCatalogEnabled\":true,\"homePageUrl\":\"/\",\"oauth2\":{\"directLoginEnabled\":false,\"supportedProviderProperties\":[{},{}],\"url\":\"/authenticate/adal/51#get\",\"enabled\":\"/authenticate/adal/enabled/51?username=$#get\",\"providerType\":\"EDEVLET\",\"supportedProviderTypes\":[\"EDEVLET\",\"KKTC_EDEVLET\"],\"validate\":\"/authenticate/adal/51#post\"},\"platform\":\"web\",\"googleTagManager\":\"GTM-WP28TFZ\",\"selfRegistrationNidAsUsername\":true,\"courseCardType\":\"high\",\"forgotPasswordEnabled\":true,\"calendarEnabled\":true,\"defaultLanguage\":\"tr\",\"catalogCourseDemandedDisabled\":true,\"ui\":{\"web\":{\"favicon\":\"https://assets-btkakademi-gov-tr.akamaized.net/api/template/51/client/assets/img/favicon.png?v=202\"},\"favicon\":\"https://assets-btkakademi-gov-tr.akamaized.net/api/service/v1/public/51/assets/favicon.png?ts=1669375929576\",\"dm_footer_logo\":\"https://assets-btkakademi-gov-tr.akamaized.net/api/service/v1/public/51/assets/dm_footer_logo.png?ts=1695810534094\",\"footer_logo\":\"https://assets-btkakademi-gov-tr.akamaized.net/api/service/v1/public/51/assets/footer_logo.png?ts=1695810534766\",\"logo\":\"https://assets-btkakademi-gov-tr.akamaized.net/api/service/v1/public/51/assets/logo.png?ts=1695810534764\",\"GA\":\"UA-436920-20\",\"course_card_badge\":\"https://assets-btkakademi-gov-tr.akamaized.net/api/service/v1/public/51/assets/course_card_badge.png?ts=1638523973217\",\"dm_logo\":\"https://assets-btkakademi-gov-tr.akamaized.net/api/service/v1/public/51/assets/dm_logo.png?ts=1695810534759\"},\"supportedLanguages\":[\"tr\"],\"selfRegistrationDobRequired\":true,\"selfRegistrationEnabled\":true,\"profilePageViewType\":\"dashboard\",\"staticPageSearchDisabled\":true,\"headlessLearningPath\":true,\"id\":51,\"forceProfileDisabled\":true,\"loginRedirectUrl\":\"/\",\"socialGroupEnabled\":true,\"fqdn\":\"www.btkakademi.gov.tr\",\"statisticsEnabled\":true,\"social\":{\"FACEBOOK\":\"https://www.facebook.com/btkakademi\",\"INSTAGRAM\":\"http://instagram.com/btkakademi\",\"LINKEDIN\":\"https://www.linkedin.com/company/btk-akademi\",\"YOUTUBE\":\"https://www.youtube.com/channel/UCIeLKRrvnkBn0xEvbKzRfEg/featured\",\"TWITTER\":\"https://twitter.com/BTKAkademi\"},\"selfRegistrationNidRequired\":true,\"oneMillionIstihdamEnabled\":true,\"profileSettingsBusinessMobileEnabled\":true,\"profileCourseFormEnabled\":true,\"documentLibraryEnabled\":true,\"qrLoginDisabled\":true,\"domain\":\"BTK\",\"pdpDisabled\":true,\"blogSearchDisabled\":true,\"messagingEnabled\":true,\"forceProfileDetailsEditable\":true,\"homeNewestCoursesDisabled\":true,\"myCoursesSuggestedDisabled\":true},\"courseStatus\":{},\"categories\":[],\"nav\":{},\"home\":{},\"gamification\":{},\"selectedMenuCategories\":[],\"theme\":{\"selectedTheme\":\"light\"},\"portal\":{\"notificationCount\":0,\"shoppingCard\":[],\"saleCoupons\":[{\"id\":1,\"name\":\"ANEWYEAR2022\",\"value\":\"year2022\",\"sale\":38,\"total\":true,\"used\":false},{\"id\":2,\"name\":\"TEST1\",\"value\":\"test1\",\"sale\":10,\"total\":false,\"used\":false},{\"id\":3,\"name\":\"TEST2\",\"value\":\"test2\",\"sale\":25,\"total\":false,\"used\":false},{\"id\":4,\"name\":\"TEST3\",\"value\":\"test3\",\"sale\":35,\"total\":false,\"used\":false},{\"id\":5,\"name\":\"TEST4\",\"value\":\"test4\",\"sale\":45,\"total\":false,\"used\":false}],\"isHelpDeskActive\":false}},\"coursesResponse\":{\"totalRecords\":112,\"documentType\":\"course\",\"documents\":[{\"sourceId\":\"391\",\"shared\":false,\"featured\":true,\"hasEvaluationForm\":true,\"inProgram\":false,\"pluginId\":\"Program\",\"hasCertificate\":true,\"description\":\"KATILIM SERTİFİKALI\",\"learningType\":\"PROGRAM\",\"publicLearning\":true,\"title\":\"Veri Bilimine Giriş\",\"learningLevel\":\"BEGINNER\",\"localeIds\":[51],\"trainerCanManage\":false,\"createdAt\":1728032005477,\"publishStartDate\":1730347500000,\"attendeeCount\":2807,\"id\":35390,\"viewCount\":25147,\"coordinatorIds\":[250],\"inCatalog\":true,\"likes\":0,\"updatedAt\":1730363999864,\"image\":\"https://assets-btkakademi-gov-tr.akamaized.net/api/gallery/51/8b699d67-f950-4ff7-834f-9ea98d464105/391.png?t=1728030396861\",\"indexedAt\":1732118608823,\"thumbnail\":\"https://assets-btkakademi-gov-tr.akamaized.net/api/gallery/51/8b699d67-f950-4ff7-834f-9ea98d464105/391.png?t=1728030396861\",\"showOutOfProgram\":false,\"docType\":\"course\",\"optional\":false,\"commentCount\":2,\"successCondition\":\"COMPLETED\",\"categoryIds\":[954,968,968,353,353,353,1000,1000],\"approvalRequired\":false,\"tenantId\":51,\"trainerIds\":[2601],\"_id\":\"C_35390\",\"startDate\":1730347500000,\"status\":\"ACTIVE\",\"hasPostTest\":true,\"_version_\":1816257019830599700,\"unlikes\":0},{\"sourceId\":\"343\",\"shared\":false,\"featured\":true,\"hasEvaluationForm\":true,\"inProgram\":false,\"pluginId\":\"Program\",\"hasCertificate\":true,\"description\":\"KATILIM SERTİFİKALI\",\"learningType\":\"PROGRAM\",\"publicLearning\":true,\"title\":\"Kubernetes\",\"learningLevel\":\"INTERMEDIATE\",\"localeIds\":[51],\"trainerCanManage\":false,\"createdAt\":1728909422835,\"publishStartDate\":1728972360000,\"attendeeCount\":1061,\"id\":35490,\"viewCount\":15681,\"coordinatorIds\":[250],\"inCatalog\":true,\"likes\":0,\"updatedAt\":1728994291522,\"image\":\"https://assets-btkakademi-gov-tr.akamaized.net/api/gallery/51/30958c38-0887-4a29-8668-5d15e16bc888/343.png?t=1728894443848\",\"indexedAt\":1732109198423,\"thumbnail\":\"https://assets-btkakademi-gov-tr.akamaized.net/api/gallery/51/30958c38-0887-4a29-8668-5d15e16bc888/343.png?t=1728894443848\",\"showOutOfProgram\":false,\"docType\":\"course\",\"optional\":false,\"commentCount\":1,\"successCondition\":\"COMPLETED\",\"categoryIds\":[1002,1007,1007,353,1350,1350,954,976,976],\"approvalRequired\":false,\"tenantId\":51,\"trainerIds\":[4303],\"_id\":\"C_35490\",\"startDate\":1728972360000,\"status\":\"ACTIVE\",\"hasPostTest\":true,\"_version_\":1816247152325689300,\"unlikes\":0},{\"sourceId\":\"241\",\"shared\":false,\"featured\":true,\"hasEvaluationForm\":true,\"inProgram\":false,\"pluginId\":\"Program\",\"hasCertificate\":true,\"description\":\"KATILIM SERTİFİKALI\",\"learningType\":\"PROGRAM\",\"publicLearning\":true,\"title\":\"Sızma Testi\",\"learningLevel\":\"BEGINNER\",\"localeIds\":[51],\"trainerCanManage\":false,\"createdAt\":1724075041573,\"publishStartDate\":1725941280000,\"attendeeCount\":4295,\"id\":34000,\"viewCount\":44997,\"coordinatorIds\":[250],\"inCatalog\":true,\"likes\":0,\"updatedAt\":1725952206419,\"image\":\"https://assets-btkakademi-gov-tr.akamaized.net/api/gallery/51/94fc306a-15e3-43ee-9aa1-f271dc110e72/241.png?t=1724052378360\",\"indexedAt\":1732108671994,\"thumbnail\":\"https://assets-btkakademi-gov-tr.akamaized.net/api/gallery/51/94fc306a-15e3-43ee-9aa1-f271dc110e72/241.png?t=1724052378360\",\"showOutOfProgram\":false,\"docType\":\"course\",\"optional\":false,\"commentCount\":7,\"successCondition\":\"COMPLETED\",\"categoryIds\":[954,971,971,954,954,954,970,970,353,353,400,400],\"approvalRequired\":false,\"tenantId\":51,\"trainerIds\":[5052],\"_id\":\"C_34000\",\"startDate\":1725941220000,\"status\":\"ACTIVE\",\"hasPostTest\":true,\"_version_\":1816246600323825700,\"unlikes\":0},{\"sourceId\":\"233\",\"shared\":false,\"featured\":true,\"hasEvaluationForm\":true,\"inProgram\":false,\"pluginId\":\"Program\",\"hasCertificate\":true,\"description\":\"KATILIM SERTİFİKALI\",\"learningType\":\"PROGRAM\",\"publicLearning\":true,\"title\":\"Elasticsearch v8\",\"learningLevel\":\"INTERMEDIATE\",\"localeIds\":[51],\"trainerCanManage\":false,\"createdAt\":1721812416493,\"publishStartDate\":1725253080000,\"attendeeCount\":1298,\"id\":31252,\"viewCount\":18228,\"coordinatorIds\":[250],\"inCatalog\":true,\"likes\":9,\"updatedAt\":1725346955661,\"image\":\"https://assets-btkakademi-gov-tr.akamaized.net/api/gallery/51/29ebb59b-472b-489a-816d-8033e9a31cdc/233.png?t=1721657186088\",\"indexedAt\":1732094371536,\"thumbnail\":\"https://assets-btkakademi-gov-tr.akamaized.net/api/gallery/51/29ebb59b-472b-489a-816d-8033e9a31cdc/233.png?t=1721657186088\",\"showOutOfProgram\":false,\"docType\":\"course\",\"optional\":false,\"commentCount\":7,\"successCondition\":\"COMPLETED\",\"categoryIds\":[954,954,954,958,958,353,353],\"approvalRequired\":false,\"tenantId\":51,\"trainerIds\":[2601],\"_id\":\"C_31252\",\"status\":\"ACTIVE\",\"hasPostTest\":true,\"_version_\":1816231605227749400,\"unlikes\":1},{\"sourceId\":\"210\",\"shared\":false,\"featured\":true,\"hasEvaluationForm\":true,\"inProgram\":false,\"pluginId\":\"Program\",\"hasCertificate\":true,\"description\":\"KATILIM SERTİFİKALI\",\"learningType\":\"PROGRAM\",\"publicLearning\":true,\"title\":\"İleri Seviye Python Programlama Dili\",\"localeIds\":[51],\"trainerCanManage\":false,\"createdAt\":1721392046702,\"publishStartDate\":1722255720000,\"attendeeCount\":5745,\"id\":30852,\"viewCount\":63685,\"coordinatorIds\":[250],\"inCatalog\":true,\"likes\":95,\"updatedAt\":1722514020725,\"image\":\"https://assets-btkakademi-gov-tr.akamaized.net/api/gallery/51/884316f4-1a56-4b0c-b6e3-b07241275c92/210_ileri_seviye_python.png?t=1721216206652\",\"indexedAt\":1732116727373,\"thumbnail\":\"https://assets-btkakademi-gov-tr.akamaized.net/api/gallery/51/884316f4-1a56-4b0c-b6e3-b07241275c92/210_ileri_seviye_python.png?t=1721216206652\",\"showOutOfProgram\":false,\"docType\":\"course\",\"optional\":false,\"commentCount\":7,\"successCondition\":\"COMPLETED\",\"categoryIds\":[353,353,954,954],\"approvalRequired\":false,\"tenantId\":51,\"trainerIds\":[2556],\"_id\":\"C_30852\",\"startDate\":1722255720000,\"status\":\"ACTIVE\",\"hasPostTest\":true,\"_version_\":1816255046988333000,\"unlikes\":5},{\"sourceId\":\"161\",\"shared\":false,\"featured\":true,\"hasEvaluationForm\":true,\"inProgram\":false,\"pluginId\":\"Program\",\"hasCertificate\":true,\"description\":\"KATILIM SERTİFİKALI\",\"learningType\":\"PROGRAM\",\"publicLearning\":true,\"title\":\"Veri Tabanına Giriş\",\"learningLevel\":\"BEGINNER\",\"localeIds\":[51],\"trainerCanManage\":false,\"createdAt\":1721310742317,\"publishStartDate\":1721392860000,\"attendeeCount\":8822,\"id\":30686,\"viewCount\":80946,\"coordinatorIds\":[250],\"inCatalog\":true,\"likes\":112,\"updatedAt\":1725345980434,\"image\":\"https://assets-btkakademi-gov-tr.akamaized.net/api/gallery/51/7b0d1b80-7c63-49a3-b0ca-2503c1fc9463/161.png?t=1721139183214\",\"indexedAt\":1732118606923,\"thumbnail\":\"https://assets-btkakademi-gov-tr.akamaized.net/api/gallery/51/7b0d1b80-7c63-49a3-b0ca-2503c1fc9463/161.png?t=1721139183214\",\"showOutOfProgram\":false,\"docType\":\"course\",\"optional\":false,\"commentCount\":7,\"successCondition\":\"COMPLETED\",\"categoryIds\":[353,1000,1000,353,353,353,1051,1051,954,961,961],\"approvalRequired\":false,\"tenantId\":51,\"trainerIds\":[4002],\"_id\":\"C_30686\",\"startDate\":1721392860000,\"status\":\"ACTIVE\",\"hasPostTest\":true,\"_version_\":1816257017839353900,\"unlikes\":12},{\"sourceId\":\"342\",\"shared\":false,\"featured\":true,\"hasEvaluationForm\":true,\"inProgram\":false,\"pluginId\":\"Program\",\"hasCertificate\":true,\"description\":\"KATILIM SERTİFİKALI\",\"learningType\":\"PROGRAM\",\"publicLearning\":true,\"title\":\"Python ile Makine Öğrenmesi Uygulamaları\",\"learningLevel\":\"INTERMEDIATE\",\"localeIds\":[51],\"trainerCanManage\":false,\"createdAt\":1717742204306,\"publishStartDate\":1719559140000,\"attendeeCount\":5457,\"id\":30284,\"viewCount\":59977,\"coordinatorIds\":[250],\"inCatalog\":true,\"likes\":61,\"updatedAt\":1724681716982,\"image\":\"https://assets-btkakademi-gov-tr.akamaized.net/api/gallery/51/91e78ed2-6e25-44aa-ac60-97f98bee6893/342_2.png?t=1717746301659\",\"indexedAt\":1732115905265,\"thumbnail\":\"https://assets-btkakademi-gov-tr.akamaized.net/api/gallery/51/91e78ed2-6e25-44aa-ac60-97f98bee6893/342_2.png?t=1717746301659\",\"showOutOfProgram\":false,\"docType\":\"course\",\"optional\":false,\"commentCount\":6,\"successCondition\":\"COMPLETED\",\"categoryIds\":[353,353,954,969,969,1802,1802],\"approvalRequired\":false,\"tenantId\":51,\"trainerIds\":[5606],\"_id\":\"C_30284\",\"status\":\"ACTIVE\",\"hasPostTest\":true,\"_version_\":1816254184949809200,\"unlikes\":6},{\"sourceId\":\"356\",\"shared\":false,\"featured\":true,\"hasEvaluationForm\":true,\"inProgram\":false,\"pluginId\":\"Program\",\"hasCertificate\":true,\"description\":\"KATILIM SERTİFİKALI\",\"learningType\":\"PROGRAM\",\"publicLearning\":true,\"title\":\"Kotlin ile Android Mobil Uygulama Geliştirme İleri Seviye\",\"learningLevel\":\"ADVANCED\",\"localeIds\":[51],\"trainerCanManage\":false,\"createdAt\":1716473824723,\"publishStartDate\":1716511740000,\"attendeeCount\":3480,\"id\":30303,\"viewCount\":40443,\"coordinatorIds\":[250],\"inCatalog\":true,\"likes\":45,\"updatedAt\":1718005771994,\"image\":\"https://assets-btkakademi-gov-tr.akamaized.net/api/gallery/51/5f8a9a7b-74ac-4c62-857e-bfdef090bc12/356.png?t=1716465831398\",\"indexedAt\":1732105523284,\"thumbnail\":\"https://assets-btkakademi-gov-tr.akamaized.net/api/gallery/51/5f8a9a7b-74ac-4c62-857e-bfdef090bc12/356.png?t=1716465831398\",\"showOutOfProgram\":false,\"docType\":\"course\",\"optional\":false,\"commentCount\":3,\"successCondition\":\"COMPLETED\",\"categoryIds\":[353,353,353,1001,1001,954,957,957],\"approvalRequired\":false,\"tenantId\":51,\"trainerIds\":[2251],\"_id\":\"C_30303\",\"status\":\"ACTIVE\",\"hasPostTest\":true,\"_version_\":1816243298666283000,\"unlikes\":5},{\"sourceId\":\"228\",\"shared\":false,\"featured\":true,\"hasEvaluationForm\":true,\"inProgram\":false,\"pluginId\":\"Program\",\"hasCertificate\":true,\"description\":\"KATILIM SERTİFİKALI\",\"learningType\":\"PROGRAM\",\"publicLearning\":true,\"title\":\"Kotlin ile Android Mobil Uygulama Geliştirme Temelleri \",\"learningLevel\":\"INTERMEDIATE\",\"localeIds\":[51],\"trainerCanManage\":false,\"createdAt\":1716470692266,\"publishStartDate\":1716511620000,\"attendeeCount\":4294,\"id\":30370,\"viewCount\":57219,\"coordinatorIds\":[250],\"inCatalog\":true,\"likes\":78,\"updatedAt\":1719989688065,\"image\":\"https://assets-btkakademi-gov-tr.akamaized.net/api/gallery/51/b0765694-9652-4c90-8c3e-cd4276fc052a/228.png?t=1716453316865\",\"indexedAt\":1732113726470,\"thumbnail\":\"https://assets-btkakademi-gov-tr.akamaized.net/api/gallery/51/b0765694-9652-4c90-8c3e-cd4276fc052a/228.png?t=1716453316865\",\"showOutOfProgram\":false,\"docType\":\"course\",\"optional\":false,\"commentCount\":8,\"successCondition\":\"COMPLETED\",\"categoryIds\":[954,957,957,353,353,353,1001,1001],\"approvalRequired\":false,\"tenantId\":51,\"trainerIds\":[2251],\"_id\":\"C_30370\",\"status\":\"ACTIVE\",\"hasPostTest\":true,\"_version_\":1816251900317663200,\"unlikes\":3},{\"sourceId\":\"227\",\"shared\":false,\"featured\":true,\"hasEvaluationForm\":true,\"inProgram\":false,\"pluginId\":\"Program\",\"hasCertificate\":true,\"description\":\"KATILIM SERTİFİKALI\",\"learningType\":\"PROGRAM\",\"publicLearning\":true,\"title\":\"Kotlin Programlama Dili\",\"learningLevel\":\"BEGINNER\",\"localeIds\":[51],\"trainerCanManage\":false,\"createdAt\":1714650306698,\"publishStartDate\":1716511560000,\"attendeeCount\":7386,\"id\":30052,\"viewCount\":81855,\"coordinatorIds\":[250],\"inCatalog\":true,\"likes\":147,\"updatedAt\":1716558413659,\"image\":\"https://assets-btkakademi-gov-tr.akamaized.net/api/gallery/51/32086c27-8c6e-4415-955c-f2fcba425c8c/227.png?t=1714401664331\",\"indexedAt\":1732117841913,\"thumbnail\":\"https://assets-btkakademi-gov-tr.akamaized.net/api/gallery/51/32086c27-8c6e-4415-955c-f2fcba425c8c/227.png?t=1714401664331\",\"showOutOfProgram\":false,\"docType\":\"course\",\"optional\":false,\"commentCount\":16,\"successCondition\":\"COMPLETED\",\"categoryIds\":[954,957,957,353,1001,1001,353,353],\"approvalRequired\":false,\"tenantId\":51,\"trainerIds\":[2251],\"_id\":\"C_30052\",\"status\":\"ACTIVE\",\"hasPostTest\":true,\"_version_\":1816256215667179500,\"unlikes\":9},{\"sourceId\":\"341\",\"shared\":false,\"featured\":true,\"inProgram\":false,\"pluginId\":\"Program\",\"hasCertificate\":true,\"description\":\"KATILIM SERTİFİKALI\",\"learningType\":\"PROGRAM\",\"publicLearning\":true,\"title\":\"Makine Öğrenmesi\",\"learningLevel\":\"INTERMEDIATE\",\"localeIds\":[51],\"trainerCanManage\":false,\"createdAt\":1714735157123,\"publishStartDate\":1715923620000,\"attendeeCount\":6335,\"id\":30123,\"viewCount\":75920,\"coordinatorIds\":[250],\"inCatalog\":true,\"likes\":111,\"updatedAt\":1722519983155,\"image\":\"https://assets-btkakademi-gov-tr.akamaized.net/api/gallery/51/f192b9b7-b448-4a44-8df2-21b09278b725/341.png?t=1714725343997\",\"indexedAt\":1732115308119,\"thumbnail\":\"https://assets-btkakademi-gov-tr.akamaized.net/api/gallery/51/f192b9b7-b448-4a44-8df2-21b09278b725/341.png?t=1714725343997\",\"showOutOfProgram\":false,\"docType\":\"course\",\"optional\":false,\"commentCount\":5,\"successCondition\":\"COMPLETED\",\"categoryIds\":[1802,1802,954,969,969,353,1000,1000],\"approvalRequired\":false,\"tenantId\":51,\"trainerIds\":[5606],\"_id\":\"C_30123\",\"status\":\"ACTIVE\",\"hasPostTest\":true,\"_version_\":1816253558794748000,\"unlikes\":18},{\"sourceId\":\"338\",\"shared\":false,\"featured\":true,\"hasEvaluationForm\":true,\"inProgram\":false,\"pluginId\":\"Program\",\"hasCertificate\":true,\"description\":\"KATILIM SERTİFİKALI\",\"learningType\":\"PROGRAM\",\"publicLearning\":true,\"title\":\"Python Programlama Dili\",\"learningLevel\":\"INTERMEDIATE\",\"localeIds\":[51],\"trainerCanManage\":false,\"createdAt\":1709281998505,\"publishStartDate\":1713499200000,\"attendeeCount\":13671,\"id\":29055,\"viewCount\":140528,\"coordinatorIds\":[250],\"inCatalog\":true,\"likes\":193,\"updatedAt\":1713510024832,\"image\":\"https://assets-btkakademi-gov-tr.akamaized.net/api/gallery/51/15a9c356-3e74-4a35-bb95-1022024a18af/338.png?t=1709211256068\",\"indexedAt\":1732116098455,\"thumbnail\":\"https://assets-btkakademi-gov-tr.akamaized.net/api/gallery/51/15a9c356-3e74-4a35-bb95-1022024a18af/338.png?t=1709211256068\",\"showOutOfProgram\":false,\"docType\":\"course\",\"optional\":false,\"commentCount\":22,\"successCondition\":\"COMPLETED\",\"categoryIds\":[353,353,353,950,950,353,1050,1050,954,956,956,954,1604,1604,353,952,952,954,1602,1602],\"approvalRequired\":false,\"tenantId\":51,\"trainerIds\":[2556],\"_id\":\"C_29055\",\"status\":\"ACTIVE\",\"hasPostTest\":true,\"_version_\":1816254387521060900,\"unlikes\":15}],\"expandedDocuments\":{}},\"categories\":[{\"id\":353,\"name\":\"Yazılım Dünyası\",\"imageUrl\":\"https://assets-btkakademi-gov-tr.akamaized.net/api/gallery/51/227df8e8-904e-4ad9-9a89-6f63166d3282/yazilim_dunyasi.jpg?t=1691675273794\",\"thumbnailUrl\":\"https://assets-btkakademi-gov-tr.akamaized.net/api/gallery/51/227df8e8-904e-4ad9-9a89-6f63166d3282/yazilim_dunyasi.jpg?t=1691675273794\",\"children\":[{\"id\":952,\"name\":\"Blok Zincir\",\"imageUrl\":\"https://assets-btkakademi-gov-tr.akamaized.net/api/gallery/51/bdbd3a69-5997-4833-a5df-81e94f7b78fd/blokzincir.jpg?t=1691742074908\",\"thumbnailUrl\":\"https://assets-btkakademi-gov-tr.akamaized.net/api/gallery/51/bdbd3a69-5997-4833-a5df-81e94f7b78fd/blokzincir.jpg?t=1691742074908\",\"weight\":0,\"createdAt\":1595318870265},{\"id\":1053,\"name\":\"İş Zekası ve Raporlama\",\"imageUrl\":\"https://assets-btkakademi-gov-tr.akamaized.net/api/gallery/51/172ef199-55a1-4710-9ef0-65d131d072a3/is_zekasi_ve_raporlama.jpg?t=1691744792210\",\"thumbnailUrl\":\"https://assets-btkakademi-gov-tr.akamaized.net/api/gallery/51/172ef199-55a1-4710-9ef0-65d131d072a3/is_zekasi_ve_raporlama.jpg?t=1691744792210\",\"weight\":1,\"createdAt\":1595318475662},{\"id\":1001,\"name\":\"Mobil Uygulama\",\"imageUrl\":\"https://assets-btkakademi-gov-tr.akamaized.net/api/gallery/51/700ed92e-513e-4e5f-88b6-452b3ac4026d/mobil_uygulama.jpg?t=1691744792326\",\"thumbnailUrl\":\"https://assets-btkakademi-gov-tr.akamaized.net/api/gallery/51/700ed92e-513e-4e5f-88b6-452b3ac4026d/mobil_uygulama.jpg?t=1691744792326\",\"weight\":2,\"createdAt\":1595318187640},{\"id\":1050,\"name\":\"Oyun Geliştirme\",\"imageUrl\":\"https://assets-btkakademi-gov-tr.akamaized.net/api/gallery/51/9630a594-a1a0-4f91-8059-55b61b1a59da/oyun_gelistirme.jpg?t=1691744792212\",\"thumbnailUrl\":\"https://assets-btkakademi-gov-tr.akamaized.net/api/gallery/51/9630a594-a1a0-4f91-8059-55b61b1a59da/oyun_gelistirme.jpg?t=1691744792212\",\"weight\":3,\"createdAt\":1595318299508},{\"id\":951,\"name\":\"Programlama Dilleri\",\"imageUrl\":\"https://assets-btkakademi-gov-tr.akamaized.net/api/gallery/51/a1446c8d-39a8-42bf-b4c5-b7945b08f68e/programlama_dilleri.jpg?t=1691747812868\",\"thumbnailUrl\":\"https://assets-btkakademi-gov-tr.akamaized.net/api/gallery/51/a1446c8d-39a8-42bf-b4c5-b7945b08f68e/programlama_dilleri.jpg?t=1691747812868\",\"weight\":4,\"createdAt\":1595318239552},{\"id\":1000,\"name\":\"Veri Bilimi\",\"imageUrl\":\"https://assets-btkakademi-gov-tr.akamaized.net/api/gallery/51/a01c2d36-a05a-4483-9a3e-1a4728ffafad/veri_bilimi.jpg?t=1691747812778\",\"thumbnailUrl\":\"https://assets-btkakademi-gov-tr.akamaized.net/api/gallery/51/a01c2d36-a05a-4483-9a3e-1a4728ffafad/veri_bilimi.jpg?t=1691747812778\",\"weight\":5,\"createdAt\":1595318156324},{\"id\":1051,\"name\":\"Veri Tabanı\",\"imageUrl\":\"https://assets-btkakademi-gov-tr.akamaized.net/api/gallery/51/515fac80-a6bd-4c39-ab35-90cf879db573/veri_tabani.jpg?t=1691747812829\",\"thumbnailUrl\":\"https://assets-btkakademi-gov-tr.akamaized.net/api/gallery/51/515fac80-a6bd-4c39-ab35-90cf879db573/veri_tabani.jpg?t=1691747812829\",\"weight\":6,\"createdAt\":1595318352304},{\"id\":1052,\"name\":\"Yazılım Testi\",\"imageUrl\":\"https://assets-btkakademi-gov-tr.akamaized.net/api/gallery/51/1a9e7835-649d-463a-9ac6-d336d588f379/yazilim_test.jpg?t=1691747812719\",\"thumbnailUrl\":\"https://assets-btkakademi-gov-tr.akamaized.net/api/gallery/51/1a9e7835-649d-463a-9ac6-d336d588f379/yazilim_test.jpg?t=1691747812719\",\"weight\":7,\"createdAt\":1595318396248},{\"id\":950,\"name\":\"Web Geliştirme\",\"imageUrl\":\"https://assets-btkakademi-gov-tr.akamaized.net/api/gallery/51/11667e89-0a64-4be9-a18d-1a4134d03d0d/web_gelistirme.jpg?t=1691747812929\",\"thumbnailUrl\":\"https://assets-btkakademi-gov-tr.akamaized.net/api/gallery/51/11667e89-0a64-4be9-a18d-1a4134d03d0d/web_gelistirme.jpg?t=1691747812929\",\"weight\":8,\"createdAt\":1595318075236},{\"id\":1350,\"name\":\"DevOps\",\"imageUrl\":\"https://assets-btkakademi-gov-tr.akamaized.net/api/gallery/51/1e7f193d-27b3-4647-aa0a-6ffd75655e8b/devops.jpg?t=1691751412024\",\"thumbnailUrl\":\"https://assets-btkakademi-gov-tr.akamaized.net/api/gallery/51/1e7f193d-27b3-4647-aa0a-6ffd75655e8b/devops.jpg?t=1691751412024\",\"weight\":9,\"createdAt\":1629449450617},{\"id\":1702,\"name\":\"Atölye ve Uygulamalar\",\"imageUrl\":\"https://assets-btkakademi-gov-tr.akamaized.net/api/gallery/51/575a66d6-9f8c-4d45-9864-8d881a1c89e3/atolye.jpg?t=1691747820848\",\"thumbnailUrl\":\"https://assets-btkakademi-gov-tr.akamaized.net/api/gallery/51/575a66d6-9f8c-4d45-9864-8d881a1c89e3/atolye.jpg?t=1691747820848\",\"weight\":10,\"createdAt\":1684323167570}],\"weight\":1,\"createdAt\":1531386972073},{\"id\":1002,\"name\":\"Sistem Dünyası\",\"imageUrl\":\"https://assets-btkakademi-gov-tr.akamaized.net/api/gallery/51/f0020bc8-390a-4387-aeb6-2bb022e89648/sistem_dunyasi.jpg?t=1640344161464\",\"thumbnailUrl\":\"https://assets-btkakademi-gov-tr.akamaized.net/api/gallery/51/f0020bc8-390a-4387-aeb6-2bb022e89648/sistem_dunyasi.jpg?t=1640344161464\",\"children\":[{\"id\":1004,\"name\":\"İşletim Sistemleri\",\"imageUrl\":\"https://assets-btkakademi-gov-tr.akamaized.net/api/gallery/51/4cfb0006-7d92-4b7a-a3c1-48cae1b20762/isletim_sistemleri.jpg?t=1691742074910\",\"thumbnailUrl\":\"https://assets-btkakademi-gov-tr.akamaized.net/api/gallery/51/4cfb0006-7d92-4b7a-a3c1-48cae1b20762/isletim_sistemleri.jpg?t=1691742074910\",\"weight\":0,\"createdAt\":1595319085991},{\"id\":1003,\"name\":\"Siber Güvenlik\",\"imageUrl\":\"https://assets-btkakademi-gov-tr.akamaized.net/api/gallery/51/5a34e12d-fb61-4e85-a786-1a77e2925e56/siber_guvenlik.jpg?t=1691742074910\",\"thumbnailUrl\":\"https://assets-btkakademi-gov-tr.akamaized.net/api/gallery/51/5a34e12d-fb61-4e85-a786-1a77e2925e56/siber_guvenlik.jpg?t=1691742074910\",\"weight\":1,\"createdAt\":1595319052627},{\"id\":1007,\"name\":\"Bulut Sistemler\",\"imageUrl\":\"https://assets-btkakademi-gov-tr.akamaized.net/api/gallery/51/acadd221-863e-4154-a17c-afa985d45bbd/bulut_sistemler.jpg?t=1691742074899\",\"thumbnailUrl\":\"https://assets-btkakademi-gov-tr.akamaized.net/api/gallery/51/acadd221-863e-4154-a17c-afa985d45bbd/bulut_sistemler.jpg?t=1691742074899\",\"weight\":2,\"createdAt\":1595922406922}],\"weight\":2,\"createdAt\":1595319007850},{\"id\":953,\"name\":\"İşletme Dünyası\",\"imageUrl\":\"https://assets-btkakademi-gov-tr.akamaized.net/api/gallery/51/5b3c2a41-2457-41df-a17e-f2fdaf6a816a/isletme_dunyasi.jpg?t=1691676831875\",\"thumbnailUrl\":\"https://assets-btkakademi-gov-tr.akamaized.net/api/gallery/51/5b3c2a41-2457-41df-a17e-f2fdaf6a816a/isletme_dunyasi.jpg?t=1691676831875\",\"children\":[{\"id\":1852,\"name\":\"Girişimcilik\",\"imageUrl\":\"https://assets-btkakademi-gov-tr.akamaized.net/api/gallery/51/bf0c71d8-2e60-48a0-91f9-aee02efa0a8b/giri%C5%9Fimcilik.png?t=1705667553539\",\"thumbnailUrl\":\"https://assets-btkakademi-gov-tr.akamaized.net/api/gallery/51/bf0c71d8-2e60-48a0-91f9-aee02efa0a8b/giri%C5%9Fimcilik.png?t=1705667553539\",\"weight\":1,\"createdAt\":1704719304295},{\"id\":1803,\"name\":\"Pazarlama\",\"imageUrl\":\"https://assets-btkakademi-gov-tr.akamaized.net/api/gallery/51/fe805b65-c45b-460b-931c-0e3fd5119d85/pazarlama.png?t=1705667553531\",\"thumbnailUrl\":\"https://assets-btkakademi-gov-tr.akamaized.net/api/gallery/51/fe805b65-c45b-460b-931c-0e3fd5119d85/pazarlama.png?t=1705667553531\",\"weight\":2,\"createdAt\":1705061649084},{\"id\":1804,\"name\":\"Proje Yönetimi\",\"imageUrl\":\"https://assets-btkakademi-gov-tr.akamaized.net/api/gallery/51/e3a8b7b3-4fb0-4404-bbb5-7404c184c0e5/projey%C3%B6netimi.png?t=1705667553538\",\"thumbnailUrl\":\"https://assets-btkakademi-gov-tr.akamaized.net/api/gallery/51/e3a8b7b3-4fb0-4404-bbb5-7404c184c0e5/projey%C3%B6netimi.png?t=1705667553538\",\"weight\":3,\"createdAt\":1705061673637},{\"id\":1805,\"name\":\"Ofis Programları\",\"imageUrl\":\"https://assets-btkakademi-gov-tr.akamaized.net/api/gallery/51/4b6ed3e7-4101-41d7-acf2-2fa2c6b049db/msoffice.png?t=1705667553535\",\"thumbnailUrl\":\"https://assets-btkakademi-gov-tr.akamaized.net/api/gallery/51/4b6ed3e7-4101-41d7-acf2-2fa2c6b049db/msoffice.png?t=1705667553535\",\"weight\":4,\"createdAt\":1705061839879}],\"weight\":3,\"createdAt\":1595318972339},{\"id\":55,\"name\":\"Kişisel Gelişim Dünyası\",\"imageUrl\":\"https://assets-btkakademi-gov-tr.akamaized.net/api/gallery/51/b86cc61e-e0c2-4488-8997-723a654b93e0/kisisel_gelisim.jpg?t=1640344161467\",\"thumbnailUrl\":\"https://assets-btkakademi-gov-tr.akamaized.net/api/gallery/51/b86cc61e-e0c2-4488-8997-723a654b93e0/kisisel_gelisim.jpg?t=1640344161467\",\"weight\":4,\"createdAt\":1526548043676},{\"id\":1006,\"name\":\"K12 Dünyası\",\"imageUrl\":\"https://assets-btkakademi-gov-tr.akamaized.net/api/gallery/51/17193c49-1887-4d6d-bab1-356f5910f8f4/k12.jpg?t=1691676457947\",\"thumbnailUrl\":\"https://assets-btkakademi-gov-tr.akamaized.net/api/gallery/51/17193c49-1887-4d6d-bab1-356f5910f8f4/k12.jpg?t=1691676457947\",\"weight\":7,\"createdAt\":1595319200132},{\"id\":1400,\"name\":\"Tasarım Dünyası \",\"imageUrl\":\"https://assets-btkakademi-gov-tr.akamaized.net/api/gallery/51/06cca5e9-242e-434e-8245-32d5e600014a/tasarim_dunyasi_%C3%87al%C4%B1%C5%9Fma+Y%C3%BCzeyi+1.jpg?t=1691669742285\",\"thumbnailUrl\":\"https://assets-btkakademi-gov-tr.akamaized.net/api/gallery/51/06cca5e9-242e-434e-8245-32d5e600014a/tasarim_dunyasi_%C3%87al%C4%B1%C5%9Fma+Y%C3%BCzeyi+1.jpg?t=1691669742285\",\"weight\":13,\"createdAt\":1640767497750},{\"id\":954,\"name\":\"Kariyer Yolu\",\"imageUrl\":\"https://assets-btkakademi-gov-tr.akamaized.net/api/gallery/51/fe3bf909-1e2f-412e-8ad3-cf7761097917/kariyer_yolu.jpg?t=1691668061032\",\"thumbnailUrl\":\"https://assets-btkakademi-gov-tr.akamaized.net/api/gallery/51/fe3bf909-1e2f-412e-8ad3-cf7761097917/kariyer_yolu.jpg?t=1691668061032\",\"children\":[{\"id\":955,\"name\":\"Bilgi Teknolojileri Giriş Programı\",\"imageUrl\":\"https://assets-btkakademi-gov-tr.akamaized.net/api/gallery/51/2ce8c714-1538-445a-bacc-08e4aa40f9d7/bilgi_teknolojiler_giris.jpg?t=1692627096709\",\"thumbnailUrl\":\"https://assets-btkakademi-gov-tr.akamaized.net/api/gallery/51/2ce8c714-1538-445a-bacc-08e4aa40f9d7/bilgi_teknolojiler_giris.jpg?t=1692627096709\",\"weight\":0,\"createdAt\":1595508729145},{\"id\":956,\"name\":\"Yazılım Geliştirici\",\"imageUrl\":\"https://assets-btkakademi-gov-tr.akamaized.net/api/gallery/51/70709103-7c89-4451-a976-eb8b3ac68e94/yazilimgelistirici.jpg?t=1692620932470\",\"thumbnailUrl\":\"https://assets-btkakademi-gov-tr.akamaized.net/api/gallery/51/70709103-7c89-4451-a976-eb8b3ac68e94/yazilimgelistirici.jpg?t=1692620932470\",\"weight\":1,\"createdAt\":1595508753383},{\"id\":958,\"name\":\"Web Geliştirici - Back-End\",\"imageUrl\":\"https://assets-btkakademi-gov-tr.akamaized.net/api/gallery/51/414535f2-a86b-406c-a110-3ee8be83c424/web_back.jpg?t=1692627096546\",\"thumbnailUrl\":\"https://assets-btkakademi-gov-tr.akamaized.net/api/gallery/51/414535f2-a86b-406c-a110-3ee8be83c424/web_back.jpg?t=1692627096546\",\"weight\":2,\"createdAt\":1595508795543},{\"id\":959,\"name\":\"Web Geliştirici - Front End\",\"imageUrl\":\"https://assets-btkakademi-gov-tr.akamaized.net/api/gallery/51/fdf142e1-626e-4d24-b246-fb1c4eaeea86/web_front.jpg?t=1692627096634\",\"thumbnailUrl\":\"https://assets-btkakademi-gov-tr.akamaized.net/api/gallery/51/fdf142e1-626e-4d24-b246-fb1c4eaeea86/web_front.jpg?t=1692627096634\",\"weight\":3,\"createdAt\":1595508824913},{\"id\":957,\"name\":\"Mobil Uygulama Geliştirici\",\"imageUrl\":\"https://assets-btkakademi-gov-tr.akamaized.net/api/gallery/51/5fc94584-8a32-4aa5-9514-80e2d36a7317/mobil_uygulama_gelistirici.jpg?t=1692627096676\",\"thumbnailUrl\":\"https://assets-btkakademi-gov-tr.akamaized.net/api/gallery/51/5fc94584-8a32-4aa5-9514-80e2d36a7317/mobil_uygulama_gelistirici.jpg?t=1692627096676\",\"weight\":4,\"createdAt\":1595508774795},{\"id\":960,\"name\":\"Oyun Geliştirici\",\"imageUrl\":\"https://assets-btkakademi-gov-tr.akamaized.net/api/gallery/51/a0c3a37b-75f4-461a-8c27-2a81dae7e5f2/oyun_gelistirici.jpg?t=1692627096584\",\"thumbnailUrl\":\"https://assets-btkakademi-gov-tr.akamaized.net/api/gallery/51/a0c3a37b-75f4-461a-8c27-2a81dae7e5f2/oyun_gelistirici.jpg?t=1692627096584\",\"weight\":5,\"createdAt\":1595508849005},{\"id\":966,\"name\":\"Veri Analisti\",\"imageUrl\":\"https://assets-btkakademi-gov-tr.akamaized.net/api/gallery/51/f3939771-e278-4ed6-b26b-73cc15223b6e/veri_analisti.jpg?t=1692621915885\",\"thumbnailUrl\":\"https://assets-btkakademi-gov-tr.akamaized.net/api/gallery/51/f3939771-e278-4ed6-b26b-73cc15223b6e/veri_analisti.jpg?t=1692621915885\",\"weight\":6,\"createdAt\":1595509047474},{\"id\":967,\"name\":\"İş Zekası Uzmanı\",\"imageUrl\":\"https://assets-btkakademi-gov-tr.akamaized.net/api/gallery/51/3efc7bd7-47a9-4b3b-992c-7530b88c0a52/is_zekasi_uzmani.jpg?t=1692628562193\",\"thumbnailUrl\":\"https://assets-btkakademi-gov-tr.akamaized.net/api/gallery/51/3efc7bd7-47a9-4b3b-992c-7530b88c0a52/is_zekasi_uzmani.jpg?t=1692628562193\",\"weight\":7,\"createdAt\":1595509066664},{\"id\":968,\"name\":\"Veri Bilimci\",\"imageUrl\":\"https://assets-btkakademi-gov-tr.akamaized.net/api/gallery/51/18982b69-4f4b-455d-b295-298308139bfe/veri_bilimci.jpg?t=1692628562158\",\"thumbnailUrl\":\"https://assets-btkakademi-gov-tr.akamaized.net/api/gallery/51/18982b69-4f4b-455d-b295-298308139bfe/veri_bilimci.jpg?t=1692628562158\",\"weight\":8,\"createdAt\":1595509086013},{\"id\":969,\"name\":\"Makine Öğrenmesi Uzmanı\",\"imageUrl\":\"https://assets-btkakademi-gov-tr.akamaized.net/api/gallery/51/3d8a977d-f896-4fac-a04d-ccb4252b5648/makine_ogrenmesi_uzmani.jpg?t=1692690457934\",\"thumbnailUrl\":\"https://assets-btkakademi-gov-tr.akamaized.net/api/gallery/51/3d8a977d-f896-4fac-a04d-ccb4252b5648/makine_ogrenmesi_uzmani.jpg?t=1692690457934\",\"weight\":9,\"createdAt\":1595509105690},{\"id\":961,\"name\":\"Veritabanı Yöneticisi\",\"imageUrl\":\"https://assets-btkakademi-gov-tr.akamaized.net/api/gallery/51/53ae9433-96e9-4888-bfca-42ade71c3b16/veritabani_yoneticisi.jpg?t=1692690458144\",\"thumbnailUrl\":\"https://assets-btkakademi-gov-tr.akamaized.net/api/gallery/51/53ae9433-96e9-4888-bfca-42ade71c3b16/veritabani_yoneticisi.jpg?t=1692690458144\",\"weight\":10,\"createdAt\":1595508876563},{\"id\":962,\"name\":\"Büyük Veri Yönetim Uzmanı\",\"imageUrl\":\"https://assets-btkakademi-gov-tr.akamaized.net/api/gallery/51/6ecd86a1-896c-4787-acfc-9f5feadd7a3a/buyuk_veri_yonetim_uzmani.jpg?t=1692690458017\",\"thumbnailUrl\":\"https://assets-btkakademi-gov-tr.akamaized.net/api/gallery/51/6ecd86a1-896c-4787-acfc-9f5feadd7a3a/buyuk_veri_yonetim_uzmani.jpg?t=1692690458017\",\"weight\":11,\"createdAt\":1595508936203},{\"id\":963,\"name\":\"Network Uzmanı\",\"imageUrl\":\"https://assets-btkakademi-gov-tr.akamaized.net/api/gallery/51/d8a840fc-63dc-4883-aaa4-f0e120e9a463/network_uzmani.jpg?t=1692690458075\",\"thumbnailUrl\":\"https://assets-btkakademi-gov-tr.akamaized.net/api/gallery/51/d8a840fc-63dc-4883-aaa4-f0e120e9a463/network_uzmani.jpg?t=1692690458075\",\"weight\":12,\"createdAt\":1595508966999},{\"id\":964,\"name\":\"Sistem Yöneticisi\",\"imageUrl\":\"https://assets-btkakademi-gov-tr.akamaized.net/api/gallery/51/67f75df5-ab90-4fb2-8eaf-7ee08a946817/sistem_yoneticisi.jpg?t=1692690458257\",\"thumbnailUrl\":\"https://assets-btkakademi-gov-tr.akamaized.net/api/gallery/51/67f75df5-ab90-4fb2-8eaf-7ee08a946817/sistem_yoneticisi.jpg?t=1692690458257\",\"weight\":13,\"createdAt\":1595508993627},{\"id\":965,\"name\":\"Veri Merkezi Uzmanı\",\"imageUrl\":\"https://assets-btkakademi-gov-tr.akamaized.net/api/gallery/51/d324afe0-75cb-422e-b865-ddc5a10b3812/veri_merkezi_uzmani.jpg?t=1692628795865\",\"thumbnailUrl\":\"https://assets-btkakademi-gov-tr.akamaized.net/api/gallery/51/d324afe0-75cb-422e-b865-ddc5a10b3812/veri_merkezi_uzmani.jpg?t=1692628795865\",\"weight\":14,\"createdAt\":1595509028018},{\"id\":970,\"name\":\"Sızma Testi Uzmanı\",\"imageUrl\":\"https://assets-btkakademi-gov-tr.akamaized.net/api/gallery/51/4525be5f-9ae1-465f-bcf6-7774a21da50c/sizma_testi_uzmani.jpg?t=1692692151548\",\"thumbnailUrl\":\"https://assets-btkakademi-gov-tr.akamaized.net/api/gallery/51/4525be5f-9ae1-465f-bcf6-7774a21da50c/sizma_testi_uzmani.jpg?t=1692692151548\",\"weight\":15,\"createdAt\":1595509144971},{\"id\":971,\"name\":\"Siber Güvenlik Uzmanı\",\"imageUrl\":\"https://assets-btkakademi-gov-tr.akamaized.net/api/gallery/51/436b0ed7-e7b5-43a1-a8ed-780f1e6510ed/siber_guvenlik_uzmani.jpg?t=1692692151617\",\"thumbnailUrl\":\"https://assets-btkakademi-gov-tr.akamaized.net/api/gallery/51/436b0ed7-e7b5-43a1-a8ed-780f1e6510ed/siber_guvenlik_uzmani.jpg?t=1692692151617\",\"weight\":16,\"createdAt\":1595509170472},{\"id\":972,\"name\":\"Adli Bilişim Uzmanı\",\"imageUrl\":\"https://assets-btkakademi-gov-tr.akamaized.net/api/gallery/51/6dfe9857-1e59-400b-a71a-5e2979e6d0ec/adli_bilisim_uzmani.jpg?t=1692693311337\",\"thumbnailUrl\":\"https://assets-btkakademi-gov-tr.akamaized.net/api/gallery/51/6dfe9857-1e59-400b-a71a-5e2979e6d0ec/adli_bilisim_uzmani.jpg?t=1692693311337\",\"weight\":17,\"createdAt\":1595509389581},{\"id\":973,\"name\":\"Zararlı Yazılım Uzmanı\",\"imageUrl\":\"https://assets-btkakademi-gov-tr.akamaized.net/api/gallery/51/779eda4d-66a9-4bf2-94f3-1a072ffbd2a0/zararli_yazilim_uzmani.jpg?t=1692693311214\",\"thumbnailUrl\":\"https://assets-btkakademi-gov-tr.akamaized.net/api/gallery/51/779eda4d-66a9-4bf2-94f3-1a072ffbd2a0/zararli_yazilim_uzmani.jpg?t=1692693311214\",\"weight\":18,\"createdAt\":1595509419404},{\"id\":977,\"name\":\"İş Analisti\",\"imageUrl\":\"https://assets-btkakademi-gov-tr.akamaized.net/api/gallery/51/0844101b-8ce2-4249-99c9-4f49405a2d39/is_analisti.jpg?t=1692693311417\",\"thumbnailUrl\":\"https://assets-btkakademi-gov-tr.akamaized.net/api/gallery/51/0844101b-8ce2-4249-99c9-4f49405a2d39/is_analisti.jpg?t=1692693311417\",\"weight\":19,\"createdAt\":1595509503610},{\"id\":975,\"name\":\"Yazılım Test Uzmanı\",\"imageUrl\":\"https://assets-btkakademi-gov-tr.akamaized.net/api/gallery/51/3b5561dc-5aa2-4ea3-b269-d8c2e4636f90/yazilim_test.jpg?t=1692693311261\",\"thumbnailUrl\":\"https://assets-btkakademi-gov-tr.akamaized.net/api/gallery/51/3b5561dc-5aa2-4ea3-b269-d8c2e4636f90/yazilim_test.jpg?t=1692693311261\",\"weight\":20,\"createdAt\":1595509463893},{\"id\":976,\"name\":\"DevOps Uzmanı\",\"imageUrl\":\"https://assets-btkakademi-gov-tr.akamaized.net/api/gallery/51/1e7f193d-27b3-4647-aa0a-6ffd75655e8b/devops.jpg?t=1691751412024\",\"thumbnailUrl\":\"https://assets-btkakademi-gov-tr.akamaized.net/api/gallery/51/1e7f193d-27b3-4647-aa0a-6ffd75655e8b/devops.jpg?t=1691751412024\",\"weight\":21,\"createdAt\":1595509485569},{\"id\":978,\"name\":\"Proje Yöneticisi\",\"imageUrl\":\"https://assets-btkakademi-gov-tr.akamaized.net/api/gallery/51/47128384-8562-4c2b-8734-0e3d56bc9c00/proje_yoneticisi.jpg?t=1692694906996\",\"thumbnailUrl\":\"https://assets-btkakademi-gov-tr.akamaized.net/api/gallery/51/47128384-8562-4c2b-8734-0e3d56bc9c00/proje_yoneticisi.jpg?t=1692694906996\",\"weight\":22,\"createdAt\":1595509527776},{\"id\":974,\"name\":\"Bilgi Güvenliği Uzmanı\",\"imageUrl\":\"https://assets-btkakademi-gov-tr.akamaized.net/api/gallery/51/c76fc624-2c92-4954-b263-763ad752d6ff/bilgi_guvenligi_uzmani.jpg?t=1692694907179\",\"thumbnailUrl\":\"https://assets-btkakademi-gov-tr.akamaized.net/api/gallery/51/c76fc624-2c92-4954-b263-763ad752d6ff/bilgi_guvenligi_uzmani.jpg?t=1692694907179\",\"weight\":23,\"createdAt\":1595509438305},{\"id\":1552,\"name\":\"RPA Uzmanı\",\"imageUrl\":\"https://assets-btkakademi-gov-tr.akamaized.net/api/gallery/51/fa267fc9-acc8-49ac-b498-c7c5eb9b0480/rpa_uzmani.jpg?t=1692694907114\",\"thumbnailUrl\":\"https://assets-btkakademi-gov-tr.akamaized.net/api/gallery/51/fa267fc9-acc8-49ac-b498-c7c5eb9b0480/rpa_uzmani.jpg?t=1692694907114\",\"weight\":24,\"createdAt\":1680529182604},{\"id\":1602,\"name\":\"Blokzincir Uzmanı\",\"imageUrl\":\"https://assets-btkakademi-gov-tr.akamaized.net/api/gallery/51/bdbd3a69-5997-4833-a5df-81e94f7b78fd/blokzincir.jpg?t=1691742074908\",\"thumbnailUrl\":\"https://assets-btkakademi-gov-tr.akamaized.net/api/gallery/51/bdbd3a69-5997-4833-a5df-81e94f7b78fd/blokzincir.jpg?t=1691742074908\",\"weight\":25,\"createdAt\":1680590502676},{\"id\":1603,\"name\":\"CBS Yazılım Uzmanı\",\"imageUrl\":\"https://assets-btkakademi-gov-tr.akamaized.net/api/gallery/51/766a5d1a-cbc5-4561-b056-c9f77c10b556/cbs.jpg?t=1692703303457\",\"thumbnailUrl\":\"https://assets-btkakademi-gov-tr.akamaized.net/api/gallery/51/766a5d1a-cbc5-4561-b056-c9f77c10b556/cbs.jpg?t=1692703303457\",\"weight\":26,\"createdAt\":1680590585425},{\"id\":1604,\"name\":\"Gömülü Sistemler Uzmanı\",\"imageUrl\":\"https://assets-btkakademi-gov-tr.akamaized.net/api/gallery/51/c57a0125-4432-4a53-bf35-8a46f9bb2462/gomulu_sistemler.jpg?t=1692703303398\",\"thumbnailUrl\":\"https://assets-btkakademi-gov-tr.akamaized.net/api/gallery/51/c57a0125-4432-4a53-bf35-8a46f9bb2462/gomulu_sistemler.jpg?t=1692703303398\",\"weight\":27,\"createdAt\":1680592240448}],\"weight\":14,\"createdAt\":1595508301205},{\"id\":450,\"name\":\"Güvenli İnternet\",\"imageUrl\":\"https://assets-btkakademi-gov-tr.akamaized.net/api/gallery/51/851d2f27-37fc-4866-aba1-8645c0d26973/guvenli_internet.jpg?t=1691667427500\",\"thumbnailUrl\":\"https://assets-btkakademi-gov-tr.akamaized.net/api/gallery/51/851d2f27-37fc-4866-aba1-8645c0d26973/guvenli_internet.jpg?t=1691667427500\",\"weight\":15,\"createdAt\":1539166636304},{\"id\":50,\"name\":\"Regülasyon Dünyası\",\"imageUrl\":\"https://assets-btkakademi-gov-tr.akamaized.net/api/gallery/51/3a9caf84-59a9-4cec-8aa7-99c1109eb39c/regulasyon.jpg?t=1691667852004\",\"thumbnailUrl\":\"https://assets-btkakademi-gov-tr.akamaized.net/api/gallery/51/3a9caf84-59a9-4cec-8aa7-99c1109eb39c/regulasyon.jpg?t=1691667852004\",\"weight\":16,\"createdAt\":1526528774821},{\"id\":1802,\"name\":\"Yapay Zeka Dünyası\",\"imageUrl\":\"https://assets-btkakademi-gov-tr.akamaized.net/api/gallery/51/cf00e4e8-3bee-4fe1-9c69-573bb032380c/yapayzekadunyasi.png?t=1703687402556\",\"thumbnailUrl\":\"https://assets-btkakademi-gov-tr.akamaized.net/api/gallery/51/cf00e4e8-3bee-4fe1-9c69-573bb032380c/yapayzekadunyasi.png?t=1703687402556\",\"weight\":26,\"createdAt\":1703686555868},{\"id\":1952,\"name\":\"Kurum ve Kuruluşlar\",\"imageUrl\":\"https://assets-btkakademi-gov-tr.akamaized.net/api/gallery/51/1e164676-c1c4-4e42-b0d8-c3c7bc791e5d/Kurum_ve_Kurulus.png?t=1722954339617\",\"thumbnailUrl\":\"https://assets-btkakademi-gov-tr.akamaized.net/api/gallery/51/1e164676-c1c4-4e42-b0d8-c3c7bc791e5d/Kurum_ve_Kurulus.png?t=1722954339617\",\"children\":[{\"id\":1953,\"name\":\"Türk Patent ve Marka Kurumu\",\"imageUrl\":\"https://assets-btkakademi-gov-tr.akamaized.net/api/gallery/51/4f8ef075-a52d-49ce-b265-9d4dae8e8d3c/turk-patent%403x.png?t=1727427131338\",\"thumbnailUrl\":\"https://assets-btkakademi-gov-tr.akamaized.net/api/gallery/51/4f8ef075-a52d-49ce-b265-9d4dae8e8d3c/turk-patent%403x.png?t=1727427131338\",\"weight\":1,\"createdAt\":1723014048367},{\"id\":2002,\"name\":\"Karayolları Genel Müdürlüğü\",\"imageUrl\":\"https://assets-btkakademi-gov-tr.akamaized.net/api/gallery/51/c46d5a6f-d63f-49d8-b4e4-0c5127c3e5ec/kgm%403x.png?t=1727426757135\",\"thumbnailUrl\":\"https://assets-btkakademi-gov-tr.akamaized.net/api/gallery/51/c46d5a6f-d63f-49d8-b4e4-0c5127c3e5ec/kgm%403x.png?t=1727426757135\",\"weight\":2,\"createdAt\":1724153869170}],\"weight\":28,\"createdAt\":1722954420069},{\"id\":2052,\"name\":\"Temel Bilimler\",\"imageUrl\":\"https://assets-btkakademi-gov-tr.akamaized.net/api/gallery/51/985a53f9-eca6-4519-9d51-aa263d7d3f25/temelbilim-192x180.png?t=1728554678149\",\"thumbnailUrl\":\"https://assets-btkakademi-gov-tr.akamaized.net/api/gallery/51/985a53f9-eca6-4519-9d51-aa263d7d3f25/temelbilim-192x180.png?t=1728554678149\",\"children\":[{\"id\":2053,\"name\":\"Matematik\",\"imageUrl\":\"https://assets-btkakademi-gov-tr.akamaized.net/api/gallery/51/d3bb119a-bcc5-4826-8c70-d2a04e01e1e1/mat%403x.png?t=1727428051076\",\"thumbnailUrl\":\"https://assets-btkakademi-gov-tr.akamaized.net/api/gallery/51/d3bb119a-bcc5-4826-8c70-d2a04e01e1e1/mat%403x.png?t=1727428051076\",\"weight\":1,\"createdAt\":1727426522410},{\"id\":2054,\"name\":\"Fizik\",\"imageUrl\":\"https://assets-btkakademi-gov-tr.akamaized.net/api/gallery/51/9db7be7b-551a-4558-91c2-b330fc0e08e7/fizik%403x.png?t=1727428051080\",\"thumbnailUrl\":\"https://assets-btkakademi-gov-tr.akamaized.net/api/gallery/51/9db7be7b-551a-4558-91c2-b330fc0e08e7/fizik%403x.png?t=1727428051080\",\"weight\":2,\"createdAt\":1727426624048},{\"id\":2055,\"name\":\"Kimya\",\"imageUrl\":\"https://assets-btkakademi-gov-tr.akamaized.net/api/gallery/51/2157e2f4-7354-4fee-b9b1-5c77a03e57dd/kimya%403x.png?t=1727428051078\",\"thumbnailUrl\":\"https://assets-btkakademi-gov-tr.akamaized.net/api/gallery/51/2157e2f4-7354-4fee-b9b1-5c77a03e57dd/kimya%403x.png?t=1727428051078\",\"weight\":3,\"createdAt\":1727426657559}],\"weight\":29,\"createdAt\":1727426115305}],\"courseCardType\":\"high\",\"filterType\":\"\",\"categoryId\":[\"353\"],\"_nextI18Next\":{\"initialI18nStore\":{\"tr\":{\"common\":{\"interpolation-demo\":\"Hi, {{username}}\",\"title\":{\"academy\":\"Akademi\",\"eLearning\":\"E-Öğrenme\",\"program\":\"Program\",\"inClass\":\"Sınıf içi\",\"homepage\":\"Anasayfa\",\"catalog\":\"Eğitimler\",\"surveys\":\"Anketler\",\"popularLearnings\":\"Popüler Eğitimler\",\"latestLearnings\":\"En Yeni Eğitimler\",\"recommendedForYou\":\"Size Özel\",\"featuredLearnings\":\"Öne Çıkan Eğitimler\",\"latestLearningsByPublishDate\":\"En Yeni Eğitimler\",\"twoFactorAuthentication\":\"Doğrulama kodunuz SMS/Mail olarak gönderilmiştir.\",\"mostCommented\":\"En Çok Yorum Alanlar\",\"categories\":\"Kategoriler\",\"fileLibrary\":\"Dosya Kütüphanesi\",\"similarLearnings\":\"Benzer Eğitimler\",\"news\":\"Haberler\",\"legalResponsibilities\":\"Yasal Sorumluluklar\",\"legalAcceptances\":\"Yasal Kabul\",\"educationSolutions\":\"Eğitim Çözümleri\",\"faq\":\"Sıkça Sorulan Sorular\",\"documents\":\"Dokümanlar\",\"links\":\"Linkler\",\"session\":\"Oturum\",\"myLearnings\":\"Eğitimlerim\",\"history\":\"Geçmiş\",\"pendingEvaluationForms\":\"Bekleyen Değerlendirme Formları\",\"currentLearnings\":\"Devam Ettiğim Eğitimler\",\"lastLearnings\":\"Süresi Geçen Eğitimler\",\"completedLearnings\":\"Tamamladıklarım\",\"mandatoryCourses\":\"Zorunlu Eğitimler\",\"allCourses\":\"Tüm Eğitimler\",\"recommended\":\"Önerilenler\",\"requested\":\"Talep Edilenler\",\"reviewLater\":\"Daha Sonra İncele\",\"favorites\":\"Favoriler\",\"selectUserFromList\":\"Listeden kullanıcı seçin\",\"userListExcludesAttendees\":\"Aşağıda henüz bu eğitimi almamış çalışanlarınızı görebilirsiniz\",\"learningRequest\":\"Eğitim Talebi\",\"profileDetail\":\"Profil Detayları\",\"mobileLogin\":\"Mobil Giriş\",\"individualDevPlan\":\"Bireysel Gelişim Planım\",\"pendingApprovals\":\"Bekleyen Onaylar\",\"badges\":\"Rozetler\",\"leaderBoard\":\"Liderlik Tablosu\",\"learningJourney\":\"Öğrenme Yolculuğu\",\"managerStatistics\":\"Yönetici İstatistikleri\",\"allBlogs\":\"Tüm Bloglar\",\"shared\":\"Paylaştıklarım\",\"blog\":\"Blog\",\"blogSettings\":\"Blog Ayarları\",\"homeworks\":\"Ödevler\",\"sessions\":\"Oturumlar\",\"pendingSelection\":\"Kullanıcı Seçimli\",\"viewHomeworks\":\"Ödevleri İncele\",\"selectSession\":\"Oturumu Seç\",\"curriculum\":\"Müfredat\",\"include.curriculum.entries\":\"Müfredat eğitimi detaylarını göster\",\"exclude.curriculum.entries\":\"Müfredat eğitimi detaylarını gösterme\",\"expand-all\":\"Tüm Bölümleri Aç\",\"collapse-all\":\"Tüm Bölümleri Kapat\",\"planningTimeManagement\":\"Planlama ve Zaman Yönetimi\",\"analyticalThinking\":\"Analitik Düşünme\",\"yourLearningJourney\":\"Öğrenme Yolculuğum\",\"developmentWorkshopProgram\":\"Gelişim Atölyesi Program\",\"notes\":\"Notlar\",\"developmentWorkshop\":\"Gelişim Atölyesi\",\"module\":\"Modül\",\"educationParticipationStatistics\":\"Eğitime Katılım İstatistikleri\",\"participantStatus\":\"Katılım Durumu\",\"yearBaseCompetency\":\"Yıl Bazlı Yetkinlik Değerlendirmesi\",\"quotaFull\":\"Kota Dolu\",\"addNewEvent\":\"Yeni Etkinlik Ekle\",\"eventDetails\":\"Etkinlik Detayları\",\"eventUpdate\":\"Etkinliği Düzenle\",\"cancelEnteringLearning\":\"Eğitim Katılımını İptal Et\",\"certificates\":\"Sertifikalarım\",\"updating\":\"Güncelleniyor\",\"manage\":\"Yönet\",\"createTags\":\"Etiket Oluşturun\",\"currentCourses\":\"Güncel Eğitimler\",\"login\":\"Giriş Yap\",\"messages\":\"Mesajlar\",\"popularChannels\":\"Popüler Kanallar\",\"passwordUpdate\":\"Şifre Güncelleme\",\"unplannedTrainingRequest\":\"Plan Dışı Eğitim Talebi\",\"createNewRequest\":\"Eğitim Talep Formu\",\"pageNotFound\":\"Sayfa Bulunamadı\",\"pageNotFoundMessage\":\"Aradığınız sayfa mevcut değil\",\"serviceUnavailable\":\"Hizmet Kullanılamıyor\",\"serviceUnavailableMessage\":\"Sunucu geçici olarak meşgul, daha sonra tekrar deneyin!\",\"calendar\":\"Takvim\",\"noResulFound\":\"Sonuç bulunamadı...\",\"memberCourseNotFound\":\"Üye/Eğitim bulunamadı...\",\"recordNotFound\":\"Kayıt bulunamadı\",\"selectYourCategories\":\"Kategorilerinizi Seçin\",\"tagSelection\":\"Etiket Seçiniz\",\"tagSelectionDescription\":\"Size özel önerilerde bulunulması için lütfen aşağıda yer alan etiketlerden ilginizi çekenleri seçin.\",\"categorySelectionDescription\":\"Kişiselleştirilmiş eğitim önerileri almak için lütfen aşağıdaki kategorilerden seçimlerinizi yapın.\",\"learningJourneyNotFound\":\"Eğitim yolculuğu bulunamadı\",\"organisationRanking\":\"Genel Sıralama\",\"blogPosts\":\"Blog Yazıları\",\"searchResults\":\"Arama Sonuçları\",\"approveAction\":\"İşlem Onayı\",\"confirmDelete\":\"Silmek istediğinizden emin misiniz?\",\"attendeesDeleted\":\"Katılımcılar başarıyla silindi.\",\"teaching\":\"Verilen Eğitimler\",\"courseNotes\":\"Notlarım\",\"profileSettings\":\"Profili Düzenle\",\"copyrights\":\"Telif Hakları Gobito Kurumsal Çözümler © \",\"learningInformations\":\"Eğitim Bilgileri\",\"noTitle\":\"Başlık yok\",\"Announcement\":\"DUYURU\",\"searchResultsFrom\":\"\\'\\'{{text}}\\'\\' için arama sonuçları\",\"Support\":\"Destek\",\"liveLearning\":\"Canlı Eğitimler\",\"showMemberInfo\":\"Seçilen kullanıcı bilgilerini indir\",\"timeline\":\"Zaman Tüneli\",\"attendees\":\"Katılımcılar\",\"attendee\":\"Katılımcı\",\"shoppingCart\":\"Alışveriş Sepeti\",\"assignedTrainings\":\"Atanan Eğitimlerim\",\"userListRecommendedCourse\":\"Aşağıda daha önce bu eğitimin önerilmediği kullanıcıları görebilirsiniz\",\"socialGroup\":\"Sosyal grup\",\"activity\":\"Etkinlik\",\"activityType\":\"Etkinlik Türü\",\"area\":\"Alan\",\"educationStatus\":\"Öğrenim Durumu\",\"coursePrerequisites\":\"Eğitim Ön Koşul Listesi\",\"coursePrerequisitesDescription\":\"Eğitimi izleyebilmek için aşağıdaki ön koşul eğitimlerini tamamlamanız gerekmektedir.\"},\"field\":{\"id\":\"ID\",\"name\":\"Adı\",\"fileName\":\"Dosya İsmi\",\"links\":\"Links\",\"type\":\"Tür\",\"uploadDate\":\"Yüklenme Tarihi\",\"fileSize\":\"Dosya Boyutu\",\"action\":\"Aksiyon\",\"actions\":\"Aksiyonlar\",\"certificateName\":\"Sertifika Adı\",\"learningName\":\"Eğitim Adı\",\"learningType\":\"Eğitim Türü\",\"avatar\":\"Avatar\",\"firstName\":\"Adı\",\"lastName\":\"Soyadı\",\"gender\":\"Cinsiyet\",\"birthDate\":\"Doğum Tarihi\",\"password\":\"Şifre\",\"currentPassword\":\"Mevcut Şifre\",\"mobile\":\"Cep Telefonu\",\"e-mail\":\"E-Posta\",\"personalE-mail\":\"Kişisel E-Posta\",\"businessE-mail\":\"İş E-postası\",\"aboutMe\":\"Hakkımda\",\"startEndDate\":\"Başlangıç/Bitiş Tarihi\",\"startDate\":\"Başlangıç Tarihi\",\"endDate\":\"Bitiş Tarihi\",\"someStatus\":\"Durumu\",\"status\":\"Durum\",\"rank\":\"Rütbe\",\"user\":\"Kullanıcı\",\"level\":\"Seviye\",\"totalScore\":\"Toplam Puan\",\"participantName\":\"Katılımcı Adı\",\"participantStatus\":\"Katılım Durumu\",\"participantSuccesStatus\":\"Başarı Durumu\",\"participatnSuccesRate\":\"Başarı Oranı\",\"learning\":\"Eğitim\",\"notes\":\"Notlar\",\"approvalType\":\"Onay Tipi\",\"createdAt\":\"Oluşturulma Zamanı \",\"category\":\"Kategori\",\"country\":\"Ülke\",\"currentCity\":\"Yaşanılan Şehir\",\"city\":\"Şehir\",\"date\":\"Tarih\",\"cost\":\"Ücret\",\"time\":\"Süre\",\"learningPurpose\":\"Eğitim Amacı\",\"uploadImage\":\"Fotoğraf Yükle\",\"line\":\"Sıra\",\"general_line\":\"Genel Sıra\",\"weeklyPoint\":\"Haftalık Puan\",\"systemManager\":\"Sistem Yöneticisi\",\"manager\":\"Yönetici\",\"columnName\":\"İsim\",\"educationNotif\":\"Eğitim Bildirimleri\",\"systemNotif\":\"Sistem Bildirimleri\",\"tel\":\"Telefon Numarası\",\"educationStatus\":\"Öğrenim Durumu\",\"educationLevel\":\"Eğitim Seviyesi\",\"universityType\":\"Üniversite Türü\",\"universityCity\":\"Üniversite Şehri\",\"universityName\":\"Üniversite adı\",\"facultyName\":\"Fakülte Adı\",\"departmentName\":\"Bölüm Adı\",\"className\":\"Sınıf/Yıl\",\"pendingRequiredAccountDetailsTitle\":\"Eksik Hesap Bilgileri\",\"pendingRequiredAccountDetailsDescription\":\"Devam edebilmeniz için aşağıdaki bilgileri doldurmanız gerekmektedir\",\"assignmentOrganisation\":\"Organizasyon\",\"assignmentJob\":\"Görev\",\"assignmentPosition\":\"Pozisyon\",\"assignmentTitle\":\"Ünvan\"},\"label\":{\"enterDateRange\":\"Tarih Aralığı\",\"leaderBoardDateRangeWarning\":\"Lütfen liderlik tablosu tarih aralığını girin.\",\"reportPeriod\":\"Rapor Aralığı\",\"last30Days\":\"Son 30 Gün\",\"last60Days\":\"Son 60 Gün\",\"last90Days\":\"Son 90 Gün\",\"last180Days\":\"Son 180 Gün\",\"pendingSubmit\":\"Bekleniyor\",\"connectedDevices\":\"Bağlı Cihazlar\",\"browser\":\"Browser\",\"device-type\":\"Cihaz Türü\",\"operating-system\":\"İşletim Sistemi\",\"last-seen\":\"Son Görülme Tarihi\",\"signOutFromDevice\":\"Çıkış Yap\",\"processDoneSuccessfully\":\"İşlem Başarılı!\",\"processError\":\"Error while signing out.\",\"approval-status-reason\":\"Gerekçe\",\"learning-level-public\":\"Genel Seviye\",\"learning-level-beginner\":\"Temel Seviye\",\"learning-level-intermediate\":\"Orta Seviye\",\"learning-level-advanced\":\"İleri Seviye\",\"course-completion-date\":\"Eğitim tamamlanma tarihi: \",\"registeredPeople\":\"kişi kayıtlı\",\"certificate\":\"Sertifika\",\"certificateError\":\"Sertifika Hatası\",\"certificateNotFound\":\"Sertifika bulunamadı veya geçerli değil.\",\"description\":\"Açıklama\",\"cancel-course\":\"İptal Et\",\"filters\":\"Filtrele\",\"course-detail\":\"Eğitim Detayı\",\"documents\":\"Kaynaklar\",\"welcome\":\"Hoş geldiniz\",\"evaluationForm\":\"Değerlendirme Formu\",\"comments\":\"Yorumlar\",\"participant\":\"Katılımcı\",\"trainers\":\"Eğitmenler\",\"trainer\":\"Eğitmen\",\"coordinators\":\"Koordinatörler\",\"program\":\"Program\",\"faqNotFound\":\"S.S.S bulunamadı\",\"commentMade\":\"Yorum yapıldı\",\"documentNotFound\":\"Doküman bulunamadı\",\"linkNotFound\":\"Link bulunamadı\",\"writeComment\":\"Yorum yazın\",\"participantStatus\":\"Katılımcı Durumu\",\"succesStatus\":\"Başarı Durumu\",\"succesScore\":\"Başarı Puanı\",\"timeSpent\":\"Harcanan Süre\",\"days\":\"Gün\",\"hours\":\"Saat\",\"completionRate\":\"Tamamlanma Oranı\",\"preTest\":\"Ön Test\",\"getPreTestAgain\":\"Ön testi tekrar al\",\"startPreTest\":\"Ön teste başla\",\"getFinalTestAgain\":\"Son testi tekrar al\",\"startFinalTest\":\"Son teste başla\",\"finalTest\":\"Son test\",\"popularity\":\"Popülarite\",\"display\":\"Görüntülenme\",\"latest\":\"En Yeni\",\"latests\":\"En Yeniler\",\"mostLiked\":\"En Beğenilenler\",\"mostViewed\":\"En Çok Görüntülenenler\",\"nameAll\":\"İsim (A-Z)\",\"learningFound\":\"Eğitim Bulundu\",\"blogsFound\":\"Blog Bulundu\",\"apply\":\"Uygula\",\"clear\":\"Temizle \\\\u0026 Sıfırla\",\"chosen\":\"Seçildi\",\"views\":\"Görüntüleme\",\"like\":\"Beğen\",\"liking\":\"Beğeni\",\"lastNews\":\"Son Haberler\",\"following\":\"Takip\",\"follower\":\"Takipçi\",\"inLine\":\"Sıradasınız\",\"educationName\":\"Eğitim Adı\",\"completionStatus\":\"Tamamlanma durumu\",\"approvalStatus\":\"Onay durumunu\",\"demanded\":\"Talep Ettiklerim\",\"followFromTab\":\"{{section}} {{tab}} Sekmesinden takip edebilirsiniz.\",\"profilePhoto\":\"Profil Resmi\",\"profileSettings\":\"Profili Düzenle\",\"accountInformation\":\"Hesap Bilgileri\",\"socialMedia\":\"Sosyal Medya\",\"general\":\"Genel\",\"notification\":\"Bildirim\",\"notifications\":\"Bildirimler\",\"everyone\":\"Herkes\",\"registered\":\"Kayıtlı Kullanıcılar\",\"followers\":\"Takipçiler\",\"private\":\"Özel\",\"open\":\"Açık\",\"close\":\"Kapat\",\"closed\":\"Kapalı\",\"disable\":\"Devre Dışı\",\"newPassword\":\"Yeni Şifre\",\"confirmPassword\":\"Şifreyi Onayla\",\"confirm\":\"Onayla\",\"myTeam\":\"Ekibim\",\"teamMembers\":\"Takım Üyeleri\",\"teamStatistics\":\"Takım İstatistikleri\",\"userInTeam\":\"Kullanıcı Var\",\"generalTeamStats\":\"Genel Takım İstatistikleri\",\"verifyAccount\":\"Hesabını Doğrula\",\"createPassword\":\"Şifre Oluştur\",\"backCourse\":\"Eğitime Geri Dön\",\"day\":\"Gün\",\"month\":\"Ay\",\"year\":\"Yıl\",\"yourBirthday\":\"Doğum Tarihiniz\",\"or\":\"veya\",\"oauth2_MICROSOFT_ADFS\":\"Otomatik Giriş\",\"oauth2_MICROSOFT_AZURE\":\"Otomatik Giriş\",\"oauth2_EDEVLET\":\"E-Devlet ile Giriş Yap \",\"oauth2_KKTC_EDEVLET\":\"KKTC E-Devlet\",\"oauth2_1MILLION\":\"1 Milyon İstihdam\",\"primaryButtons\":\"Birincil Butonlar\",\"defaultActive\":\"Varsayılan / Aktif\",\"comment\":\"Yorum\",\"tags\":\"Etiketler\",\"addCoverPhoto\":\"Kapak fotoğrafı ekleyin\",\"visibility\":\"Görünürlük\",\"language\":\"Dil\",\"category\":\"Kategori\",\"draft\":\"Taslak\",\"secondAgo\":\"saniye önce\",\"minuteAgo\":\"dakika önce\",\"noResult\":\"Sonuç yok\",\"watchLater\":\"Daha Sonra İzle\",\"myCalendar\":\"Takvimim\",\"teamsCalendar\":\"Ekip Takvimi\",\"startNow\":\"Hemen Başla\",\"legalObligation\":\"Yasal Zorunluluk\",\"interests\":\"İlgi Alanları\",\"startProgram\":\"Programa başla\",\"startLearning\":\"Eğitime başla\",\"startExam\":\"Sınava başla\",\"continueProgram\":\"Programa devam et\",\"continueLearning\":\"Eğitime devam et\",\"continueExam\":\"Sınava Devam Et\",\"retakeProgram\":\"Programı tekrar al\",\"retakeLearning\":\"Eğitimi tekrar al\",\"retakeExam\":\"Sınavı tekrar al\",\"cancelProgramParticipation\":\"Program Katılımı İptal Et\",\"cancelLearningParticipation\":\"Eğitim Katılımı İptal Et\",\"regStartDate\":\"Eğitim başlangıç tarihi: \",\"courseNotYetStarted\":\"Eğitim henüz başlamadı\",\"joinProgram\":\"Programa Katıl\",\"joinLearning\":\"Eğitime Katıl\",\"joinExam\":\"Sınava Katıl\",\"learningSelected\":\"Eğitim seçildi\",\"maxSelectable\":\"Maksimum Seçilebilir\",\"minSelectable\":\"Minimum Seçilebilir\",\"graphicDesign\":\"Grafik Tasarım\",\"programming\":\"Yazılım\",\"system\":\"Sistem\",\"db\":\"Veri Tabanı\",\"security\":\"Güvenlik\",\"ai\":\"Yapay Zeka\",\"account\":\"Hesap\",\"courses\":\"Eğitimler\",\"suggestionRequest\":\"Öneri \\\\u0026 İstekler\",\"FAQ\":\"SSS\",\"daysAgo\":\"gün önce\",\"hoursAgo\":\"saat önce\",\"weeksAgo\":\"hafta önce\",\"monthsAgo\":\"ay önce\",\"yourCompetencyScore\":\"Yetkinlik Skorun\",\"competencyScore\":\"Yetkinlik Skoru\",\"groupName\":\"Grup İsmi\",\"groupDescription\":\"Grup Tanımı\",\"groupPhoto\":\"Grup Fotoğrafı\",\"membersOnly\":\"Sadece Üye Olarak Eklenenler\",\"managersOnly\":\"Sadece Yöneticiler\",\"onlyCanComment\":\"Sadece Yorum Yapabilir\",\"onlyArticleDocuments\":\"Sadece Yazı ve Doküman Paylaşabilir\",\"mailSend\":\"E-mail Gönderilsin\",\"eventTitle\":\"Etkinlik Başlığı\",\"dueDate\":\"Bitiş tarihi\",\"point\":\"Puan\",\"you\":\"Siz\",\"startFollowing\":\"seni takip etmeye başladı\",\"documentFound\":\"Dosya Bulundu\",\"scoring\":\"Puanlama\",\"enterAnswer\":\"Cevabı girin\",\"uploadHomeworkFiles\":\"Ödev Dosyası yükleyin\",\"submitted\":\"Teslim Edildi\",\"submittedAt\":\"Teslim Tarihi\",\"attachedFiles\":\"Ekli Dosyalar\",\"rememberme\":\"Beni hatırla\",\"readConfirm\":\"Okudum ve Onaylıyorum.\",\"invalidUsernamePassword\":\"Geçersiz kullanıcı adı veya şifre\",\"memberList\":\"Üye Listesi\",\"sendAmessage\":\"Yeni Mesaj Gönderin\",\"seeAllNotifications\":\"Tüm bildirimleri gör\",\"contact\":\"İletişim\",\"aboutUs\":\"Hakkımızda\",\"fileArchive\":\"Dosya Arşivi\",\"catalogLearning\":\"Katalog Eğitimi\",\"developmentPlanLearning\":\"Gelişim Planı Eğitimi\",\"team\":\"Takım\",\"detailedFilter\":\"Detaylı Filtreleme\",\"makeSelection\":\"Seçim Yapın\",\"selectCancellationReason\":\"İptal sebebini seçin\",\"recommendedEducationConfirmation\":\"Önerilen Eğitim Onayı\",\"selectRejectReason\":\"Talebi reddetme nedenini seçiniz.\",\"searcing\":\"Aranıyor...\",\"starting\":\"Başlangıç\",\"finish\":\"Bitiş\",\"selected\":\"Seçildi (Aktif)\",\"locked\":\"Kilitli (Devre Dışı)\",\"default\":\"Varsayılan\",\"follow\":\"Takip et\",\"sendMessage\":\"Mesaj Gönder\",\"trainer\\'sLearnings\":\"Eğitmenin Verdiği Eğitimler\",\"aboutTrainer\":\"Eğitmen Hakkında\",\"blog\":\"Blog\",\"page\":\"Sayfa\",\"pages\":\"Sayfalar\",\"dashboard\":\"Gösterge Paneli\",\"gamification\":\"Oyunlaştırma\",\"discoverGroups\":\"Grupları Keşfet\",\"groupFound\":\"Grup bulundu\",\"groupsIcreated\":\"Oluşturduğum Gruplar\",\"groupsIjoined\":\"Katıldığım Gruplar\",\"registeredPerson\":\"Kayıtlı Kişi\",\"designersGroup\":\"Tasarımcılar Grubu\",\"today\":\"Bugün\",\"yesterday\":\"Dün\",\"members\":\"Üyeler\",\"expired\":\"Süresi Bitmiş\",\"recordSelected\":\"Kayıt seçildi\",\"allList\":\"Tüm Liste\",\"record\":\"Kayıt\",\"clickToSelect\":\"Seçmek için tıklayın\",\"beginner\":\"Başlangıç\",\"intermediate\":\"Orta\",\"advanced\":\"İleri\",\"public\":\"Herkes İçin\",\"addToFavorites\":\"Favorilere Ekle\",\"monthly\":\"Aylık\",\"weekly\":\"Haftalık\",\"daily\":\"Günlük\",\"viewLearning\":\"Eğitimi Görüntüle\",\"uploadAttendeeStatuses\":\"Katılımcı Durumu Yükle\",\"dragAndDrop\":\"Dosyayı sürükleyip buraya bırakın, ya da aşağıdaki tuşa basın\",\"examResultExplanation\":\"Yükleyeceğiniz dosya formatına Örnek Excel İndir butonunu seçerek ulaşabilirsiniz. Excel deki her satır bir kaydı ifade eder.\",\"examResultRow\":\"* ile işaretlenmiş kolonlar zorunlu alandır\",\"examResultColumnHeader\":\"! ile işaretlenmiş kolonlar alternatifi oldugunu gösterir\",\"examResultDetail1\":\"Alternatif kolonların ismi aynı fakat tipi farklıdır örnek olarak EMPLOYEE_ID veri tabanındaki ID\\'yi EMPLOYEE_CODE ise sicili işaret eder \",\"examResultDetail2\":\"\",\"participantList\":\"Katılımcı Listesi\",\"optional\":\"Seçmeli\",\"compulsory\":\"Zorunlu\",\"dynamicGroupList\":\"Dinamik Grup Listesi\",\"title\":\"Başlık\",\"content\":\"İçerik\",\"notes\":\"Notlar\",\"leraningImages\":\"Eğitim Fotoğrafları\",\"beingRedirected\":\"Yönlendiriliyorsunuz...\",\"next\":\"İleri\",\"agree\":\"Kabul ediyorum\",\"reject\":\"Kabul etmiyorum\",\"searchUser\":\"Kullanıcı ara\",\"cancel\":\"İptal\",\"unplannedLearningRequests\":\"Plan Dışı Eğitim Talepleri\",\"maxFileSize\":\"Maksimum Dosya Boyutu\",\"choosePhoto\":\"Fotoğraf seç\",\"male\":\"Erkek\",\"female\":\"Kadın\",\"resultFound\":\"Sonuç bulundu\",\"users\":\"Kullanıcılar\",\"groupMembers\":\"Grup Üyeleri\",\"blogNotFound\":\"Blog bulunamadı\",\"followed\":\"Takip edilen\",\"user_level\":\"Seviye\",\"follows\":\"Takip Ediliyor\",\"allResults\":\"Tüm Sonuçlar\",\"hour\":\"Saat\",\"week\":\"Hafta\",\"internal\":\"İç\",\"external\":\"Dış\",\"learningParticipationStatistic\":\"Eğitime Katılım İstatistikleri\",\"allNotes\":\"Tüm Notlar\",\"dontSendEmail\":\"E-mail Gönderilmesin\",\"all\":\"Tümü\",\"LAST_1_MONTH\":\"Son 1 ay\",\"LAST_6_MONTHS\":\"Son 6 ay\",\"LAST_12_MONTHS\":\"Son 12 ay\",\"badge\":\"Rozet\",\"online\":\"Çevrimiçi\",\"PUBLIC\":\"Herkes\",\"FRIENDS_ONLY\":\"Sadece Arkadaşlarım\",\"PRIVATE\":\"Sadece Ben\",\"noDescription\":\"Açıklama Yok\",\"allCategories\":\"Tüm Kategoriler\",\"backToTheCourseDetail\":\"Eğitim Detayına Geri Dön\",\"chooseCourseType\":\"Eğitim Tipini Seçin\",\"selectRegistrationStatus\":\"Kayıt Durumunu Seçin\",\"aboutCoordinator\":\"Koordinator hakkında\",\"by\":\"tarafından\",\"hi\":\"Merhaba\",\"trainersLearnings\":\"Eğitmenin Eğitimleri\",\"trainingDirectedbyCoordinator\":\"Koordinatörün Yönettiği Eğitimler\",\"downloadCourse\":\"Eğitimi İndir\",\"iRead\":\"Okudum\",\"usefulLinks\":\"Kullanışlı Bağlantılar\",\"other\":\"Diğer\",\"FormComplete\":\"Lütfen İletişim Formunu Doldurunuz...\",\"requesting\":\"Talep Eden\",\"reasonOfTraining\":\"Eğitim İhtiyaç Sebebi\",\"trainingDetails\":\"Eğitim Detay Bilgisi\",\"approval\":\"Onay\",\"live\":\"CANLI\",\"reportType\":\"Rapor Aboneliği \",\"reportTypeDescription\":\"Rapor Aboneliği belirlenen aralıklarda otomotik olarak raporunuzu alıp belirtilen süre boyunca indirebilmenizi sağlar\",\"liveCalendar\":\"Canlı Eğitim Takvimi\",\"new\":\"Yeni\",\"learningJourneyError\":\"Öncesinde tamamlamanız gereken öğrenme yolculuğu bulunmaktadır : \",\"triggerDesc\":\"Azalan sıralamak için tıklayın\",\"triggerAsc\":\"Artan sıralamak için tıklayın\",\"cancelSort\":\"Sıralamayı iptal etmek için tıklayın\",\"AlternativeSignInMethods\":\"Alternatif Giriş Yöntemleri\",\"sitePromotions\":\"Promosyonlar\",\"total\":\"Toplam:\",\"off\":\"İndirim\",\"promotions\":\"Promosyonlar\",\"cartIsEmpty\":\"Sepetiniz boş.\",\"cartIsEmptyNote\":\"Sepetiniz boş. Bir kurs bulmak için alışverişe devam edin!\",\"courseInCart\":\"Sepetinizde {{count}} Kurs Bulunmaktadır.\",\"saveForLater\":\"Sonraya Sakla\",\"free\":\" Ücretsiz\",\"course\":\"Eğitim\",\"applied\":\"uygulanmış\",\"orderSummary\":\"Sipariş Özeti\",\"couponDiscount\":\"Kupon İndirimi:\",\"subtotal\":\"Ara Toplam:\",\"chooseApprovalStatus\":\"Onay Durumunu Seçin\",\"helpcenterAssistantMode\":\"Yardım merkezi asistan modundasınız...\",\"workHour\":\"İş Saatleri\",\"workWeek\":\"İş Günleri \",\"hourStep\":\"Periyot\",\"minute\":\"Dakika\",\"allDay\":\"Tüm Gün\",\"agenda\":\"Ajandam\",\"noCalendarAgendaEvent\":\"Seçilen tarihte Ajanda bulunmamaktadır.\",\"more\":\"daha\",\"settings\":\"Ayarlar\",\"newActivity\":\"Yeni Etkinlikler\",\"currentActivity\":\"Devam Eden Etkinlikler\",\"oldActivity\":\"Geçmiş Etkinlikler\",\"courseCode\":\"Eğitim Kodu\",\"applicationDeadline\":\"Son Başvuru Tarihi\",\"educationInformation\":\"Eğitim Bilgileri\",\"notGraduate\":\"Okuyor\",\"graduate\":\"Mezun\",\"primaryEducation\":\" İlköğretim\",\"secondaryEducation\":\"Ortaöğretim\",\"bachelorsDegree\":\"Lisans\",\"mastersDegree\":\"Yüksek Lisans\",\"doctorate\":\"Doktora\",\"preparatoryClass\":\"Hazırlık Sınıfı\",\"spin\":\"Çevir\",\"spinNote\":\"Çarkı çevirin, eğitimleri tamamlayın, puanlarınızı katlayın!\",\"spinWin\":\"{{date}} tarihine kadar {{title}} eğitimlerinde geçerli {{point}} puan kazandınız!\",\"spinWelcome\":\"Puan Katlayan Çark’a Hoş Geldiniz\",\"activityFound\":\"Etkinlik bulundu.\",\"activityAplicationNote\":\"\\\\u003clink1\\\\u003eHesap bilgileri\\\\u003c/link1\\\\u003e ve \\\\u003clink2\\\\u003eEğitim bilgileri\\\\u003c/link2\\\\u003e alanları güncellendiğinde formdaki alanlara otomatik olarak yansıyacaktır.\",\"secondShort\":\"sn\"},\"button\":{\"yes\":\"Evet\",\"no\":\"Hayır\",\"activate\":\"Aktifleştir\",\"statistics\":\"İstatistiklerim\",\"sendMessage\":\"Mesajı Gönder\",\"addMyTeam\":\"Ekibime Ata\",\"profile\":\"Profil\",\"outOfPlanCourseReques\":\"Plan Dışı Eğitim Talebi\",\"resend\":\"Kodu tekrar gönder\",\"profiles\":\"Profiller\",\"myCourses\":\"Eğitimlerim\",\"logOut\":\"Çıkış Yap\",\"everyone\":\"Herkes\",\"registeredUsers\":\"Kayıtlı Kullanıcılar\",\"share\":\"Paylaş\",\"like\":\"Beğen\",\"answer\":\"Yanıtla\",\"seeAll\":\"Tümünü gör\",\"showAnswer\":\"Yanıtı görüntüle\",\"hideAnswer\":\"Yanıtı gizle\",\"continueEducation\":\"Eğitime Devam Et\",\"certificates\":\"Sertifikalarım\",\"developmentPlan\":\"Gelişim Planım\",\"requestDetails\":\"Talep Detayları\",\"notesToPdf\":\"Notlarımı İndir\",\"download\":\"İndir\",\"showMore\":\"Daha Fazla Göster\",\"loadMore\":\"Daha Fazla Yükle\",\"seeAllMessages\":\"Tüm Mesajları Gör\",\"advancedFilter\":\"Gelişmiş Filtre\",\"assingLearningMyTeam\":\"Eğitimi Ekibime Ata\",\"clear\":\"Temizle\",\"applyFilter\":\"Filtreleri Uygula\",\"cancel\":\"İptal et\",\"giveUp\":\"Vazgeç\",\"request\":\"Talep Et\",\"backHome\":\"Ana Sayfaya Geri Dön\",\"changePassword\":\"Şifreyi Değiştir\",\"choosePhoto\":\"Fotoğraf Seç\",\"saveChanges\":\"Değişiklikleri Kaydet\",\"selectFromCatalog\":\"Katalogdan Seç\",\"addNew\":\"Yeni Ekle\",\"editFields\":\"Alanları Düzenle\",\"earnPoint\":\"Puan Kazan!\",\"seeAllBadges\":\"Tüm Rozetleri Gör\",\"register\":\"Kayıt Ol\",\"confirm\":\"Doğrula\",\"completeMembership\":\"Üyeliği Tamamla\",\"sendPassword\":\"Şifre Gönder\",\"login\":\"Giriş Yap\",\"autoLogin\":\"Otomatik Giriş Yap\",\"confirmMembership\":\"Üyelik sözleşmesini kabul ediyorum.\",\"signOut\":\"Oturumu Kapat\",\"send\":\"Gönder\",\"viewMore\":\"Daha Fazla Görüntüle\",\"editBlog\":\"Bloğu Düzenle\",\"readMore\":\"Devamını Oku\",\"readLess\":\"Devamını Gösterme\",\"createBlog\":\"Blog Oluştur\",\"filter\":\"Filtrele\",\"chooseFile\":\"Dosya Seçin\",\"upload\":\"Yükle\",\"savePublish\":\"Kaydet \\\\u0026 Yayınla\",\"addEvent\":\"Etkinlik Ekle\",\"delete\":\"Sil\",\"place\":\"Yer\",\"add\":\"Ekle\",\"update\":\"Güncelle\",\"designImprovementProgram\":\"Gelişim Programını Tasarla\",\"innovativeness\":\"Yenilikçilik\",\"teamWork\":\"Takım Çalışması\",\"managementDelegation\":\"Ekip Yönetimi ve Delegasyon\",\"strategicOverview\":\"Stratejik Bakış\",\"adaptationChangingCondition\":\"Değişen Koşullara Uyum\",\"convince\":\"İkna Etme\",\"individualCompetenceAverage\":\"Bireysel Yetkinlik Ortalaması\",\"removePhoto\":\"Fotoğrafı Kaldır\",\"addImage\":\"Resim Ekle\",\"addVideo\":\"Video Ekle\",\"addCodeBlock\":\"Kod Bloğu Ekle\",\"addQuota\":\"Kota Ekle\",\"saveContinue\":\"Kaydet ve Devam Et\",\"addMember\":\"Üye Ekle\",\"addDynamicGroup\":\"Dinamik Grup Ekle\",\"createGroup\":\"Grup Oluştur\",\"editGroup\":\"Grubu Duzenle\",\"updateGroup\":\"Grubu Güncelle\",\"joinCourse\":\"Eğitime katıl\",\"quickStart\":\"Hızlı Başla\",\"addFavorites\":\"Favorilere Ekle\",\"exportToExcel\":\"Excel’e aktar\",\"periodicReports\":\"Raporlar\",\"learningBelongSelectedMembers\":\"’a Ait Eğitimler\",\"back\":\"Geri\",\"addAttendee\":\"Katılımcı Ekle\",\"changeGroup\":\"Gruba Taşı\",\"saveNote\":\"Notu Kaydet\",\"seeAllCourses\":\"Tüm Eğitimleri Gör\",\"seeAllProfiles\":\"Tüm Kullanıcıları Gör\",\"seeAllBlogs\":\"Tüm Blogları Gör\",\"seeAllNews\":\"Tüm Haberleri Gör\",\"seeAllPages\":\"Tüm Sayfaları Gör\",\"seeAllResults\":\"Tüm Sonuçları Gör\",\"createNewGroup\":\"Yeni Grup Oluştur\",\"joinGroup\":\"Gruba Katıl\",\"leaveGroup\":\"Gruptan Ayrıl\",\"clearSelected\":\"Seçimi Temizle\",\"manage\":\"Yönet\",\"save\":\"Kaydet\",\"theanswer\":\"Yanıt\",\"hide\":\"Gizle\",\"show\":\"Görüntüle\",\"uploadImage\":\"Fotoğraf Yükle\",\"apply\":\"Uygula\",\"newMessage\":\"Yeni Mesaj\",\"create\":\"Oluştur\",\"sendPasswordResetCode\":\"Sıfırlama Kodu Gönder\",\"createMembership\":\"Üyelik Oluştur\",\"skip\":\"Atla\",\"comment\":\"Yorum Yap\",\"downloadsamplecsv\":\"Örnek CSV İndir\",\"downloadsampleexcel\":\"Örnek Excel İndir\",\"seeAllLearningJourney\":\"Tüm Öğrenme Yolculuğum\",\"keepShopping\":\"Alışverişe devam et\",\"checkout\":\"Alışverişi Tamamla\",\"addToCart\":\"Sepete ekle\",\"removeFromCart\":\"Sepetten Çıkar\",\"goToCart\":\"Sepete Git\",\"recommendTraining\":\"Eğitimi Öner\",\"submit\":\"Gönder\",\"makeApplication\":\"Başvuru Yap\",\"viewDetails\":\"Ayrıntıları İncele\",\"coursePrerequisitesNotMet\":\"Ön Koşullu Eğitim\"},\"status\":{\"REGISTERED\":\"Kayıtlı\",\"NOT_CALCULATED\":\"Hesaplanmıyor\",\"SUCCESS\":\"Başarılı\",\"UNSUCCESSFULL\":\"Başarısız\",\"FAILED\":\"Başarısız\",\"CONTINUING\":\"Devam ediyor\",\"CANCELLED\":\"İptal Edildi\",\"REJECTED\":\"Onaylanmadı\",\"EXEMPT\":\"Muaf\",\"LEARNING_DETAIL_CANCELLED\":\"İptal Edildi\",\"NO_LONGER_A_TRAINEE\":\"Artık Katılımcı Değil\",\"NOT_ATTENDED\":\"Katılmadı\",\"REASONED_FAILED_NON_ATTENDANCE\":\"Gerekçeli Devamsızlık\",\"REASONED_NON_CALCULATED_NON_ATTENDANCE\":\"Gerekçeli Katılımcı Erteleme\",\"ATTENDED_COURSE\":\"Katıldı\",\"COMPLETED\":\"Tamamlandı\",\"COMPLETE\":\"Tamamlanmış\",\"MOST_RATED\":\"En Çok Oylananlar\",\"MOST_FAVORITE\":\"En Favoriler\",\"POPULARITE_BOOSTER\":\"En Popüler\",\"ACCEPTED\":\"Onaylandı\",\"RECEIVED\":\"Başvurunuz iletilmiştir\",\"APPROVED\":\"Onaylandı\",\"PENDING\":\"Onay Bekliyor\",\"ACCOUNT_LOCKED\":\"Hesabınız güvenlik gerekçesiyle geçici olarak kilitlenmiştir.\",\"CREDENTIALS_NOT_FOUND\":\"Geçersiz Kullanıcı Adı veya Şifre\",\"MESSAGE_RECEIVED\":\"Mesajınız alınmıştır. Onay sürecinden sonra görüntülenecektir.\",\"ATTENDANCE\":\"Katılım\",\"MOST_ASSINGED\":\"En Çok Alınanlar\",\"COMPLETION\":\"Başarı\",\"ALL\":\"Tümü\"},\"placeholder\":{\"searchInSurveys\":\"Anketlerde Ara\",\"searchDocuments\":\"Doküman Ara\",\"tfaHash\":\"Doğrulama Kodu\",\"searchLearning\":\"Eğitim Ara\",\"writeMessage\":\"Mesajınızı yazın...\",\"select\":\"Seçiniz...\",\"search\":\"Ara...\",\"searchWord\":\"Ara...\",\"searching\":\"Arama yap\",\"share\":\"Ne paylaşmak istersin?\",\"searchInLearnings\":\"Eğitimlerde ara\",\"serachInBlogs\":\"Bloglarda ara\",\"yourMessage\":\"Mesajınız.\",\"learningReasonExmple\":\"Fiyat, lokasyon, link vs.\",\"idNumber\":\"TC Kimlik Numarası\",\"tellYourStory\":\"Hikayeni anlat...\",\"typeYourMessages\":\"Mesajınızı yazın..\",\"groupName\":\"Grup Adı (Maks. 50 karakter)\",\"groupInterests\":\"Tasarım, Yazılım vs..\",\"username\":\"Kullanıcı Adı\",\"userSurname\":\"Kullanıcı Soyadı\",\"searchInNews\":\"Haberlerde ara\",\"searchInFaq\":\"Sıkça Sorulan Sorular\\'da Ara\",\"eventDescription\":\"Etkinlik Açıklaması\",\"searchInMessages\":\"Mesajlarda ara\",\"enterMessage\":\"Mesajınızı girin\",\"confirmationCode\":\"Onay kodunuz\",\"passworResetCode\":\"Şifre Sıfırlama Kodu\",\"oldPassword\":\"Eski Şifre\",\"newPassword\":\"Yeni Şifre\",\"confirmNewPassword\":\"Yeni Şifreyi Doğrula\",\"startDate\":\"Başlangıç Tarihi\",\"endDate\":\"Bitiş Tarihi\",\"searchUser\":\"Kullanıcı ara\",\"dynamicGroupSearch\":\"Dinamik Grup Ara\",\"writeHere\":\"Buraya yazın...\",\"pleaseSelect\":\"Lütfen seçiniz\",\"searchRegister\":\"Sicil Ara\",\"pleaseEnter\":\"Lütfen giriniz\",\"searchInDevelopmentPlan\":\"Gelişim Planında Ara\",\"type\":\"Tip\",\"competence\":\"Yetkinlik\",\"all\":\"Tümü\",\"searchCourse\":\"Eğitim Ara\",\"courseName\":\"Eğitim Adı\",\"courseLink\":\"Eğitim linki (varsa eklenecek başka notlar vs...)\",\"courseLinkTitle\":\"Eğitim linki\",\"duration\":\"Süresi\",\"name\":\"Ad\",\"surname\":\"Soyad\",\"oneTimePassword\":\"Tek kullanımlık şifre\",\"searchMember\":\"Üye ara\",\"whatIsSubject\":\"Konu Nedir?\",\"subject\":\"Konu\",\"searchInMembers\":\"Üyelerde Ara\",\"instructorType\":\"Eğitmen Tipi\",\"allStatuses\":\"Tüm Durumlar\",\"promotionCode\":\"Kupon Kodu\"},\"educationLevel\":{\"PRIMARY_SCHOOL\":\"İlköğretim\",\"MIDDLE_SCHOOL\":\"Ortaöğretim\",\"HIGH_SCHOOL\":\"Lise\",\"SOME_COLLEGE\":\"Kolej\",\"ASSOCIATE_DEGREE\":\"Ön Lisans\",\"BACHELORS_DEGREE\":\"Lisans\",\"MS_MBA\":\"Yüksek Lisans\",\"DOCTORAL\":\"Doktora\",\"OTHER\":\"Diğer\"},\"message\":{\"fillTheMissingInputs\":\"Lütfen formdaki eksik/hatalı alanları düzeltiniz.\",\"tfaResendSuccess\":\"İşlem başarılı\",\"invalidTfaToken\":\"Hatalı doğrulama kodu\",\"followed\":\"{{follower}}, {{followedName}} {{followedSurname}} isimli kullanıcıyı takip etti.\",\"registeredLearning\":\"kayıt oldu.\",\"notFoundCriteria\":\"Arama kriterlerine uygun sonuç bulunamadı.\",\"enterLearningInfo\":\"Lütfen talep ettiğiniz eğitimin bilgilerini sırasıyla giriniz.\",\"qrCode\":\"Qr Kodu taratın ve mobil uygulamaya giriş yapın!\",\"photoDescription\":\"Maks. 20MB. GIF, JPG ve PNG dosyaları.\",\"under16OnlyError\":\"Sorgulama başarısız\",\"invalidParameters\":\"Girilen bilgiler uyuşmamaktadır.\",\"invalidTckn\":\"TCKN bilgisi doğru değil.\",\"under16OnlyMessage\":\"Bu alan yalnızca 16 yaş altı kullanıcılarımız içindir. 16 yaşın üzerindeyseniz lüften e-devlet hesabınız ile giriş yapınız.\",\"under16OnlyTitle\":\"16 Yaş Altı Kullanıcı Girişi\",\"under16Only\":\"E-devlet şifresi olmayan 16 yaş altındaki kullanıcılarımız kayıt yapabilir.\",\"activationEmail\":\"Hesabınızı aktif etmek için mail adresinize gönderilen doğrulama kodunu girin.\",\"accountActivated\":\"Hesabınız aktifleştirildi. Lütfen giriş yapınız.\",\"activationSms\":\"Hesabınızı aktif etmek için cep telefonunuza gönderilen doğrulama kodunu girin.\",\"activationCodeNotFound\":\"Aktivasyon kodu bulunamadı. Lütfen kontrol edip tekrar deneyiniz.\",\"passwordAlreadyUsed\":\"Son kullandıgınız son {{oldPasswordRetention}} şifreyi yeni şifre olarak kullanamazsınız\",\"weakPassword\":\"Şifreniz en az {{minimumLength}} karakter, {{minUppercaseCharacters}} büyük harf, {{minLowercaseCharacters}} küçük harf, {{minNumericCharacters}} rakam ve {{minSpecialCharacters}} özel karakter içermelidir.\",\"usernameTaken\":\"Bu kullanıcı adı alınmış.\",\"invalidMobileFormat\":\"Hatalı Cep telefonu numarası, Türk numaraları 905XX XXX XXXX formatında olmalı. Uluslararası telefon numaraları 00 ile başlamalı.\",\"signingOut\":\"Çıkış yapılıyor...\",\"signingIn\":\"Giriş yapılıyor...\",\"invalidToken\":\"Geçersiz Token\",\"requesOneTimePassword\":\"Tek kullanımlık şifre talep et\",\"enterResetCode\":\"Lütfen e-postanıza gönderilen şifre sıfırlama kodunu aşağıdaki alana giriniz.\",\"resetCodeMessage\":\"Hesabınız varsa şifre sıfırlama kodunuz e-posta adresinize iletilmiştir. Kodunuz ulaşmadıysa hesabınızın oluşturulması için İnsan Kaynakları ekibinizle iletişime geçebilirsiniz.\",\"commentAttention\":\"Gönderilen yorumlar 24 saat içerisinde sistem yöneticileri tarafından incelendikten sonra yayına alınacaktır. Lütfen bu hususa dikkat ederek yorum yapınız.\",\"cancellationAlert\":\"Bu ekran üzerinden eğitime katılımınızı tamamen iptal etmek üzeresiniz. Eğer katılım tarihinizi değiştirmek isterseniz, herhangi bir iptal işlemi gerçekleştirmeden, oturum seçim ekranından yeni oturum tarihini seçerek devam edebilirsiniz.\",\"chooseReason\":\"Lütfen bir gerekçe seçiniz.\",\"demandSent\":\"Talebiniz gönderilmiştir.\",\"participateProgram\":\"Seçim için programa katılmaılsınız.\",\"learningDateFinished\":\"Eğitim tarihi sona erdi.\",\"examDateFinished\":\"Sınav tarihi sona erdi.\",\"selectiveLearnings\":\"Seçmeli eğitimler arasından seçim yapmak için tıklayın.\",\"passwordUpdateSuccesfull\":\"Şifreniz başarıyla güncellenmiştir.\",\"afterUpdatePassword\":\"Giriş sayfasına yönlendiriliyorsunuz.\",\"passwordSameSureness\":\"Lütfen iki şifrenin de aynı olduğundan emin olun.\",\"oldPasswordMatch\":\"Eski şifre eşleşmedi, lütfen tekrar giriniz\",\"incorrectResetCode\":\"Sıfırlama kodu yanlış\",\"loginForBeginningLearning\":\"Eğitime başlamak için lütfen giriş yapınız.\",\"removedFromFavoriteCourseList\":\"Eğitim beğenilenler listesinden çıkarıldı\",\"addedToFavoriteCourseList\":\"Eğitim beğenilenler listesine eklendi!\",\"errorOccuredDuringProcess\":\"İşlem sırasında hata oluştu\",\"removedFromWatchLaterList\":\"Eğitim daha sonra izle listesinden çıkarıldı\",\"addedToWatchLaterList\":\"Eğitim daha sonra izle listesine eklendi!\",\"changesSavedSuccesfully\":\"Değişiklikler başarıyla kaydedildi\",\"errorWhileSendData\":\"İşlem esnasında hata oluştu\",\"registrationProcessContinues\":\"Kayıt süreci devam ediyor\",\"pendingApproval\":\"Onay bekliyor\",\"failedDuringRegistration\":\"Kayıt sırasında hata oluştu!\",\"quotaFullFailure\":\"Eğitim kotası dolmuştur\",\"quotaFailureDuringRegistration\":\"İlgili eğitim kategorisinde seçebileceğiniz maksimum eğitim\\xa0sayısına ulaştınız.\",\"classQuotaFailureDuringRegistration\":\"Sınıf Kotası dolmuştur\",\"userCalendarConflict\":\"Eğitim takvim çakışması oluşmuştur. Eğitime kaydınız gerçekleştirilemiyor.\",\"choosenLearningsAddedSuccesfully\":\"Seçilen eğitimler başarıyla eklendi\",\"learningFinished\":\"Eğitim tarihi sonra\\xa0erdi.\",\"blogAddedSuccesfully\":\"Blog başarıyla kaydedildi\",\"addAtLeastOnePicture\":\"Lütfen içerik alanına en az 1 görsel yükleyin\",\"selectedUsersAssigned\":\"Seçilen kullanıcılar eğitime atandı\",\"errorUserAdding\":\"Kullanıcı ekleme hatası\",\"registrationErrorSameName\":\"Kayıt işleminde hata/ Aynı isimde grup bulundu\",\"imageUploadSuccesfull\":\"Resim yükleme işlemi başarılı!\",\"imageUploadFailed\":\"Resim ekleme başarısız!\",\"courseNotFound\":\"Verilen eğitim bulunamadı\",\"currentCourseNotFound\":\"Güncel eğitim bulunamadı\",\"havenotEarnedPoint\":\"Puan kazanmadın\",\"joiningGroupSuccesfull\":\"Gruba katılma işlemi başarılı!\",\"joiningGroupFailed\":\"Gruba ekleme başarısız!\",\"fillForm\":\"Lütfen aşağıdaki formu eksiksiz doldurunuz\",\"fillField\":\"Lütfen bu alanı doldurunuz.\",\"numberField\":\"Değer 0\\'dan büyük veya ona eşit olmalıdır\",\"formSubmitted\":\"Formunuz iletilmiştir!\",\"selectMonthYouPrefer\":\"Eğtimin henüz belirlenmiş bir tarihi yok ise, iş takviminize göre tercih ettiğiniz ayın başını seçiniz.\",\"changeInformationForSecurity\":\"Güvenliğiniz için şifrenizi değiştirmeniz gerekmektedir. Lütfen aşağıdaki bilgileri girerek şifrenizi değiştiriniz\",\"oneTimePasswordIncorrect\":\"Girilen tek kullanımlık şifre hatalı\",\"resetCodeIncorrect\":\"Sıfırlama kodu hatalı\",\"registeredMemberNotFound\":\"Kayıtlı üye bulunamadı\",\"congratsEarnedPoint\":\"Tebrikler, {{totalPoints}} puan kazandınız!\",\"earnCompletionPoint\":\"Tamamlama ödülü kazan!\",\"addedSuccesfully\":\"Kullanıcılar başarıyla eklendi\",\"informationUpdated\":\"Bilgileriniz güncellendi!\",\"successProcessOfLeaving\":\"Gruptan ayrılma işlemi başarılı!\",\"sameNameError\":\"Aynı isimde blog mevcut. Lütfen farklı bir başlık girin\",\"likedYourBlog\":\"Blogunu beğendi\",\"commentedYourPost\":\"Blog gönderine yorum yaptı\",\"badgeEarned\":\"{{badge}} rozeti kazandınız\",\"badgeWithPointsEarned\":\"{{badge}} rozeti ve {{score}} {{scoreName}} kazandınız\",\"pointsEarned\":\"{{score}} {{scoreName}} kazandınız\",\"tokenPointsEarned\":\"Giriş yaparak {{score}} {{scoreName}} kazandınız\",\"attendeePointsEarned\":\" {{title}} eğitimini tamamlayarak {{score}} {{scoreName}} kazandınız\",\"formAttendeePointsEarned\":\" {{title}} değerlendirme formunu tamamlayarak {{score}} {{scoreName}} kazandınız\",\"attendeeRegistrationPointsEarned\":\" {{title}} eğitimine katılarak {{score}} {{scoreName}} kazandınız\",\"attendeeStartedPointsEarned\":\" {{title}} eğitimine başlayarak {{score}} {{scoreName}} kazandınız\",\"learningPathPointsEarned\":\" {{title}} öğrenme yolculuğunu tamamlayarak {{score}} {{scoreName}} kazandınız\",\"blogCreated\":\"{{title}} Blogunu oluşturarak {{score}} {{scoreName}} kazandınız\",\"blogLiked\":\"{{title}} Blogunu beğenerek {{score}} {{scoreName}} kazandınız\",\"blogCommented\":\"{{title}} Bloguna yorum yaparak {{score}} {{scoreName}} kazandınız\",\"courseLiked\":\"{{title}}  Eğitimini beğenerek {{score}} {{scoreName}} kazandınız\",\"courseCommented\":\"{{title}}  Eğitimine yorum yaparak {{score}} {{scoreName}} kazandınız\",\"itemLiked\":\"Beğeni yaparak {{score}} {{scoreName}} kazandınız\",\"itemCommented\":\"Torum yaparak {{score}} {{scoreName}} kazandınız\",\"congratulations\":\"Tebrikler!\",\"milestoneEarned\":\"{{level}}. Seviyeye Atladınız\",\"milestoneEarnedByName\":\"{{level}} Seviyesine Ulaştınız\",\"addedGroup\":\"grubuna eklendiniz\",\"completedEducation\":\"eğitimini tamamladı\",\"createdNewBlog\":\"yeni bir blog oluşturdu\",\"createdNewSocialGroup\":\"yeni bir sosyal grup oluşturdu\",\"joinedLearning\":\"eğitiminize katıldı\",\"repliedYourComment\":\"yorumunuza cevap verdi\",\"successProcessOfAttending\":\"Gruba katılma işlemi başarılı!\",\"userNotFound\":\"Kullanıcı bulunamadı\",\"noSuchProvider\":\"Eğitim sağlayıcı bulunamadı. Eğitim ID\",\"noSuchPerson\":\"Girilen kullanıcı bulunamadı. Katılımcı ID\",\"noSuchAttendee\":\"Katılımcı bulunamadı. Katılımcı ID\",\"noSuchReason\":\"Neden listesi alınamadı\",\"UNKNOWN_UPLOAD_TYPE\":\"Bilinmeyen dosya türü\",\"exam.result.uploaded\":\"Sınav sonuçları yüklendi\",\"approvalRequired\":\"Onay Alınmalı\",\"DUPLICATE_ENTRY\":\"Girdiğiniz kayıt zaten mevcut\",\"downloadDocument\":\"Eğitim dokümanını indirebilmeniz için eğitim kaydınızı tamamlamanız gerekmektedir.\",\"MessageSendSuccesfully\":\"Teşekkür ederiz, Mesajınız başarıyla gönderildi, En kısa sürede size geri döneceğiz.\",\"ReportTypeMessage\":\"Turkish Note...!\",\"courseCommentApproved\":\"Eğitim yorumunuz onaylandı.\",\"courseCommentAnswered\":\"Eğitim yorumunuz cevaplandı\",\"courseApprovalRequired\":\" eğitim onayınızı bekliyor\",\"courseApprovalPending\":\" eğitiminiz onay bekliyor\",\"nplrApprovalRequired\":\"talep formu onayınızı bekliyor\",\"nplrApprovalRejected\":\"talep formunuz reddedildi.\",\"nplrApprovalApproved\":\"talep formunuz onaylandı\",\"nplrApprovalPending\":\"talep formunuz onay bekliyor\",\"courseApprovalRejected\":\"eğitim talebiniz reddedildi\",\"courseApprovalApproved\":\"eğitim talebiniz onaylandı\",\"addedToShoppingCart\":\"{{product}} başarıyla alışveriş sepetinize eklendi.\",\"removedFromShoppingCart\":\"{{product}} alışveriş Sepetinizden başarıyla kaldırıldı.\",\"shoppingCouponIsUsed\":\"Girilen kupon kodu kullanıldı.\",\"shoppingCouponIsEmpty\":\"Lütfen kupon kodunu giriniz.\",\"shoppingCouponIsNotValid\":\"Girilen kupon kodu geçerli değil.\",\"selectedUsersTrainingsOffer\":\"Seçilen Kullanıcılara Eğitim Önerildi.\",\"groupCreated\":\"Grup başarıyla oluşturuldu.\",\"emailField\":\"lütfen geçerli bir posta adresi girin\",\"idNumberField\":\"Lütfen geçerli bir Kimlik Numarası girin.\",\"loginForBeginning\":\"Lütfen önce giriş yapınız.\",\"example\":\"Örneğin: {{text}}\"},\"question\":{\"requestSure\":\"Emin misiniz?\",\"notReceivedTfaHash\":\"Kodu almadınızmı?\",\"sureForSelectSession\":\"Oturumu seçmek istediğinizden emin misiniz?\",\"requestConfirm\":\"Eğitime talepte bulunacaksınız. Emin misiniz?\",\"sureForConfirm\":\"Onaylamak istediğinizden emin misiniz?\",\"reasonLearning\":\"Eğitim ihtiyaç sebebi nedir?\",\"whoCanView\":\"Profilimi kimler görüntüleyebilir?\",\"whoCanComment\":\"Yorumlarını kimler görüntüleyebilir?\",\"whoCanViewFriends\":\"Arkadaşlarını kimler görüntüleyebilir?\",\"whoCanViewLearnings\":\"Eğitimlerini kimler görüntüleyebilir?\",\"whoCanViewTimewrap\":\"Zaman tünelini kimler görüntüleyebilir?\",\"forgotPassword\":\"Şifrenizi mi unuttunuz?\",\"haveAnAccount\":\"Bir hesabınız yok mu?\",\"rememberPassword\":\"Şifrenizi hatırladınız mı?\",\"alreadyHaveMembership\":\"Zaten üyeliğiniz var mı?\",\"whoCanSee\":\"Kimler Görebilir ?\",\"whoCanEdit\":\"Kimler Düzenleyebilir ?\",\"whoCanShare\":\"Kimler Paylaşabilir ?\",\"mailSend\":\"E-mail Gönderilsin mi ?\",\"score\":\"Şimdiye kadar hiç puan kazanmadın! Kazanmak ister misin?\",\"forgotMyPassword\":\"Şifremi unuttum?\",\"oneTimePassword\":\"Tek kullanımlık şifre\",\"shareContent\":\"Bir şeyler yazın veya Cinema8, Youtube, Vimeo, Instagram, Twitter linkini yapıştırın\",\"whatNeedHelpWith\":\"Ne konuda yardıma ihtiyacınız var?\",\"reasonYouNeedCourse\":\"Bu eğitime ihtiyaç duymanızın nedeni nedir?\",\"whoCanJoin\":\"Kimler Katılabilir ?\",\"whatYouUnderstandEndOfCourse\":\"Bu eğitim sonrasında neyi farklı yapıyor olmayı hedefliyorsunuz?\",\"confirmDeleteShoppingItem\":\"Alışveriş Sepetinden çıkarmak istediğinizden emin misiniz?\"},\"notification\":{\"whenLearningProgress\":\"Eğitim durumum ilerlediğinde\",\"whenSomeoneSentMessage\":\"Birisi bana mesaj gönderdiğinde\",\"whenSomeoneFollow\":\"Birisi beni takip etmeye başladığında\",\"whenSomeoneComment\":\"Eğitim etkinliğime yorum eklendiğinde\",\"whenCommentAnswered\":\"Yaptığım yorumlara cevap geldiğinde\"},\"leftmenu\":{\"categories\":\"Kategoriler\",\"educationChannel\":\"Eğitim Kanalı\",\"educationLanguage\":\"Eğitim Dili\",\"educationLevel\":\"Eğitim Seviyesi\",\"onDemandEducation\":\"Talepli Eğitim\",\"skipRegistered\":\"Kayıtlı Eğitimleri Gösterme\"},\"language\":{\"english\":\"İngilizce\",\"spanish\":\"İspanyolca\",\"turkish\":\"Türkçe\",\"italian\":\"İtalyanca\",\"arabic\":\"Arapça\",\"japanese\":\"Japonca\",\"chinese\":\"简体中文\"},\"charts\":{\"titleCourseStatus\":\"Eğitim Durumu\",\"titleMandatoryCourseStatus\":\"Zorunlu Eğitim Durumu\",\"titleCompetencyStatus\":\"Yetkinlik Durumu\",\"registered\":\"Kayıtlı\",\"continiues\":\"Devam Ediyor\",\"completed\":\"Tamamlandı\",\"averageCompetency\":\"Yetkinlik Ortalaması\",\"companyCompetencyAverage\":\"Şirket Yetkinliği Ortalaması\",\"ongoingCourses\":\"Devam Eden Eğitimler\",\"pendingForms\":\"Bekleyen Formlar\",\"pendingPreTest\":\"Bekleyen Ön Testler\",\"pendingFinalTest\":\"Bekleyen Son Testler\"},\"documents\":{\"allDocuments\":\"Tüm Dokümanlar\",\"favourites\":\"Favoriler\"},\"marketplace\":{\"noteTitle\":\"Kullanıcı, öğrenme stiline ve ilgi alanlarına göre dünya standartlarında geniş bir yelpazede sunulan eğitimleri alır.\",\"iconText1\":\"Güçlü bir kariyer ve gelişim planı oluşturabilir.\",\"iconText2\":\"Kursiyerleri, eğitmenleri ve şirketleri bir araya getiriyor.\",\"iconText3\":\"Dünya çapında harika bir iş ağı sunar.\",\"instructor\":\"Eğitmen\",\"company\":\"Şirket\",\"instructorRegistration\":\"Eğitmen Kayıt Formu\",\"companyRegistration\":\"Şirket Kayıt Formu\",\"instructorText1\":\"Eğitim içeriğini en yenilikçi ve etkili teknolojilerle dijitalleştirecek.\",\"instructorText2\":\"Platform üzerinden eğitim satabilir.\",\"instructorText3\":\"Farkındalığını artırarak daha geniş kitlelere ulaşabilir.\",\"instructorText4\":\"Eğitim içeriklerini interaktif, etkili ve eğlenceli yeni bir modele dönüştürüyor.\",\"instructorText5\":\"Eğiticinin eğitimini de sunan platform sayesinde ilgi alanlarına göre eğitim alıp uzmanlığını geliştirebilir.\",\"instructorText6\":\"Kullanıcılarla iletişim kurabilir ve eğitimleri hakkında geri bildirim alabilir.\",\"companyText1\":\"Eğitim içeriklerini en yenilikçi ve etkili teknolojilerle dijitalleştirir.\",\"companyText2\":\"Platformda eğitim satabilirsiniz.\",\"companyText3\":\"Farkındalığını artırarak daha geniş kitlelere ulaşabilir.\",\"companyText4\":\"İşe alınacak kişileri işe almadan önce seçtikleri eğitimlerle geliştirerek uygun ve yetkin çalışanlar kazandırabilirler.\",\"companyText5\":\"Platformu eğitim, iletişim ve reklam mecrası olarak kullanabilir.\",\"companyText6\":\"İş ilanı verebilir ve aday havuzundan kriterlerinize uygun adayı seçebilirsiniz.\",\"companyText7\":\"plbtnTextatform üzerinden kurumsal eğitim verebilirsiniz.\",\"companyName\":\"Şirket adı\",\"termsAndPolicies\":\"Şartları ve Politikaları kabul ediyorum.\",\"contactName\":\"Kişi Adı\",\"contactSurname\":\"Kişi Soyadı\",\"website\":\"WebSitesi\",\"phone\":\"Telefon\",\"companyUrlName\":\"Şirket URL\\'si Adı\",\"completeRegistration\":\"Kaydı Tamamla\",\"completeRegistrationCode\":\"Kayıt Kodu\",\"details\":\"Ayrıntılar\",\"assets\":\"Varlıklar\",\"certificate\":\"Sertifika\",\"pricing\":\"Fiyatlandırma\",\"curriculum\":\"Müfredat\",\"publishCourse\":\"Eğitimi Yayınla\",\"prev\":\"Önceki\",\"next\":\"Sonraki\",\"instructorTitle\":\"Eğitmen Unvanı\",\"category\":\"Kategori\",\"shortDescription\":\"Kısa Açıklama\",\"description\":\"Açıklama\",\"educationLevel\":\"Eğitim Düzeyi\",\"courseLanguage\":\"Eğitim Dili\",\"select\":\"Seç...\",\"writeHere\":\"Buraya Yaz\",\"coverImage\":\"Kapak Resmi\",\"uploadCoverImage\":\"Kapak Resmi Yükle\",\"detailImage\":\"Ayrıntı Resmi\",\"uploadDetailImage\":\"Ayrıntı Resmi Yükle\",\"link\":\"Bağlantı\",\"dragDropUploadFile\":\"Dosyaları buraya sürükleyip bırakın veya dosya(lar)ı seçmek için tıklayın\",\"uploadDocuments\":\"Belgeleri Yükle\",\"question\":\"Soru\",\"selectGalleryImage\":\"Galeriden Resim Seç\",\"theSelect\":\"Seç\",\"selection\":\"Seçim\",\"uploadDoc\":\"DOSYA YÜKLE\",\"selectGalleryDoc\":\"Galeriden Belge Seç\",\"selectCertficate\":\"Sertifika(lar)ı seçin\",\"paid\":\"Ücretli\",\"free\":\"Ücretsiz\",\"selectPricing\":\"Fiyatlandırmayı Seçin\",\"price\":\"Fiyat\",\"SelectCurrency\":\"Para Birimi Seç\",\"epub\":\"EPUB\",\"pdf\":\"PDF\",\"powerPoint\":\"POWERPOİNT\",\"video\":\"VİDEO\",\"wowSlides\":\"WOW-SLİDES\",\"NewLectureTitle\":\"Yeni Eğitim Başlığı\",\"education\":\"EĞİTİM\",\"curriculumTitle\":\"Müfredat Başlığı\",\"curriculumDesc\":\"Müfredat Açıklaması\",\"curriculumDoc\":\"Müfredat Belgesini Seç\",\"allCourses\":\"Tüm Eğitimler\",\"curriculumCount\":\"Müfredat Sayısı\",\"editCourseTitle\":\"\\'\\'{{course}}\\'\\' adlı eğitim düzenleniyor...\",\"editCourse\":\"Eğitimi Düzenle\",\"change\":\"Eğitimi Değiştir\"},\"activity\":{\"attended\":\"Katıldığım Etkinlikler\",\"applied\":\"Başvurduğum Etkinlikler\",\"myActivity\":\"Etkinliklerim\",\"searchInAttended\":\"Katıldığım Etkinliklerde Ara\",\"searchInApplied\":\"Başvurduğum Etkinliklerde Ara\",\"searchInStatistics\":\"Ara...\",\"searchInCertificates\":\"Sertifikalarım da Ara\",\"chooseActivityType\":\"Etkinlik Türünü Seçin\",\"chooseActivityStatus\":\"Etkinlik Durumunu Seçin\",\"chooseCertificateStatus\":\"Sertifika Durumunu Seçin\",\"apply\":\"Başvur\",\"blacklistReason\":\"{{reason}} kara listeye alındınız.\",\"blacklistedUntil\":\"{{date}} tarihinden sonra etkinliklere başvurabilirsiniz.\"}}}},\"initialLocale\":\"tr\",\"ns\":[\"common\"],\"userConfig\":{\"i18n\":{\"defaultLocale\":\"tr\",\"locales\":[\"tr\",\"en\",\"ru\",\"sr\",\"ro\"],\"localeDetection\":false},\"localePath\":\"/opt/akademi/portal/public/static/locales\",\"default\":{\"i18n\":{\"defaultLocale\":\"tr\",\"locales\":[\"tr\",\"en\",\"ru\",\"sr\",\"ro\"],\"localeDetection\":false},\"localePath\":\"/opt/akademi/portal/public/static/locales\"}}},\"locale\":\"tr\"}},\"page\":\"/catalog\",\"query\":{\"categoryId\":\"353\"},\"buildId\":\"vV5JvlGFvwtcH1dfyF8DT\",\"assetPrefix\":\"https://static-01-btk.akamaized.net/portal\",\"runtimeConfig\":{\"baseUrl\":\"https://www.btkakademi.gov.tr\",\"apiEndpoint\":\"https://www.btkakademi.gov.tr/api/service\",\"basePath\":\"/portal\",\"cdnHost\":\"https://static-01-btk.akamaized.net/portal\",\"playerUrl\":\"/portal/course/player\",\"eventBusUrl\":\"https://nfc-sock.btkakademi.gov.tr/api/nfc/eventbus\",\"staticFolder\":\"/static\"},\"isFallback\":false,\"gssp\":true,\"appGip\":true,\"locale\":\"tr\",\"locales\":[\"tr\",\"en\",\"ru\",\"sr\",\"ro\"],\"defaultLocale\":\"tr\",\"scriptLoader\":[]}</script></body></html>'"
      ]
     },
     "execution_count": 289,
     "metadata": {},
     "output_type": "execute_result"
    }
   ],
   "source": [
    "import requests\n",
    "from bs4 import BeautifulSoup\n",
    "from csv import writer\n",
    "\n",
    "url = \"https://www.btkakademi.gov.tr/portal/catalog?categoryId=353\"\n",
    "\n",
    "#hata mesajı almamak için bir tarayıcıdan bağlanıyormuş gibi yapmak için, tarayıcı taklit eden bir parametre:\n",
    "\n",
    "#headerParams = {\"user-agent\":\"Mozilla/5.0 (Macintosh; Intel Mac OS X 10_15_7) AppleWebKit/537.36 (KHTML, like Gecko) Chrome/86.0.4240.198 Safari/537.36\"}\n",
    "\n",
    "#site içeriğini getirmek için:\n",
    "\n",
    "content = requests.get(url)\n",
    "\n",
    "#content = requests.get(url, headers=headerParams)\n",
    "\n",
    "content.text\n",
    "\n"
   ]
  },
  {
   "cell_type": "code",
   "execution_count": 292,
   "metadata": {},
   "outputs": [],
   "source": [
    "html = BeautifulSoup(content.text, \"html.parser\")\n"
   ]
  },
  {
   "cell_type": "code",
   "execution_count": 293,
   "metadata": {},
   "outputs": [
    {
     "data": {
      "text/plain": [
       "<div class=\"ant-ribbon-wrapper\"><div class=\"m-auto w-full sm:max-w-[262px] bcg-primary relative rounded-xl text-base overflow-hidden border-solid border-[1px] border-gray-300 dark:border-gray-700\"><a href=\"/portal/course/veri-bilimine-giris-35390\"><img alt=\"Veri Bilimine Giriş\" class=\"object-cover w-full rounded-t-xl h-[150px]\" src=\"https://assets-btkakademi-gov-tr.akamaized.net/api/gallery/51/8b699d67-f950-4ff7-834f-9ea98d464105/391_0x220.png?t=1728030396861\"/><div class=\"bcg-primary pt-2.5 pb-1.5 px-3 m-0\"><div class=\"h-12 max-h-12 m-0 txt-primary\"><div class=\"font-medium text-base\" style=\"word-wrap:break-word\" title=\"Veri Bilimine Giriş\">Veri Bilimine Giriş</div></div><p class=\"mx-0 mt-1.5 mb-0 flex justify-between items-center h-7 inline-block\"><span class=\"ant-tag beginner\"><span class=\"txt-secondary font-medium\">Temel Seviye</span></span></p></div></a><div class=\"h-50\" id=\"undefined-progress\"><div class=\"ant-progress ant-progress-line ant-progress-status-active ant-progress-default\" id=\"undefined-progress\"><div class=\"ant-progress-outer\"><div class=\"ant-progress-inner\" style=\"border-radius:0\"><div class=\"ant-progress-bg\" style=\"width:0%;height:10px;border-radius:0\"></div></div></div></div></div><div class=\"flex justify-between items-center txt-primary py-2.5 px-3 m-0 bg-[#EFEFEF]\" style=\"border-top:1px solid #c3c3c3\"><div class=\"relative\"><div class=\"absolute -top-[30px] -left-4 cursor-pointer h-14 w-14 bg-like-btn bg-no-repeat bg-[length:2900%] active:opacity-50 hover:bg-right hover:opacity-80 bg-left\"><span class=\"absolute top-[20px] left-[43px] font-medium text-sm\">1</span></div></div><div class=\"flex flex-row items-center cursor-pointer px-1 mr-1\"><span class=\"order-1\"><img alt=\"2.8K\" height=\"16\" src=\"https://static-01-btk.akamaized.net/portal/static/img/icons/course-card-users.svg\" width=\"16\"/></span><span class=\"mr-2 font-medium text-sm order-0 mx-1\">2.8K</span></div></div><p class=\"w-full m-0\"><img alt=\"certificate\" class=\"absolute right-2 top-24\" height=\"67\" src=\"https://assets-btkakademi-gov-tr.akamaized.net/api/service/v1/public/51/assets/course_card_badge.png?ts=1638523973217\" title=\"Sertifika\" width=\"50\"/></p></div><div class=\"ant-ribbon ant-ribbon-placement-start ant-ribbon-color-red hidden\" style=\"left:3px\"><span class=\"ant-ribbon-text\">Yeni</span><div class=\"ant-ribbon-corner\"></div></div></div>"
      ]
     },
     "execution_count": 293,
     "metadata": {},
     "output_type": "execute_result"
    }
   ],
   "source": [
    "edu = html.find(id=\"gbt_catalog-main-right-course\").find_all(class_=\"ant-ribbon-wrapper\")\n",
    "\n",
    "edu[0]"
   ]
  },
  {
   "cell_type": "code",
   "execution_count": 294,
   "metadata": {},
   "outputs": [
    {
     "name": "stdout",
     "output_type": "stream",
     "text": [
      "<div class=\"ant-ribbon-wrapper\"><div class=\"m-auto w-full sm:max-w-[262px] bcg-primary relative rounded-xl text-base overflow-hidden border-solid border-[1px] border-gray-300 dark:border-gray-700\"><a href=\"/portal/course/veri-bilimine-giris-35390\"><img alt=\"Veri Bilimine Giriş\" class=\"object-cover w-full rounded-t-xl h-[150px]\" src=\"https://assets-btkakademi-gov-tr.akamaized.net/api/gallery/51/8b699d67-f950-4ff7-834f-9ea98d464105/391_0x220.png?t=1728030396861\"/><div class=\"bcg-primary pt-2.5 pb-1.5 px-3 m-0\"><div class=\"h-12 max-h-12 m-0 txt-primary\"><div class=\"font-medium text-base\" style=\"word-wrap:break-word\" title=\"Veri Bilimine Giriş\">Veri Bilimine Giriş</div></div><p class=\"mx-0 mt-1.5 mb-0 flex justify-between items-center h-7 inline-block\"><span class=\"ant-tag beginner\"><span class=\"txt-secondary font-medium\">Temel Seviye</span></span></p></div></a><div class=\"h-50\" id=\"undefined-progress\"><div class=\"ant-progress ant-progress-line ant-progress-status-active ant-progress-default\" id=\"undefined-progress\"><div class=\"ant-progress-outer\"><div class=\"ant-progress-inner\" style=\"border-radius:0\"><div class=\"ant-progress-bg\" style=\"width:0%;height:10px;border-radius:0\"></div></div></div></div></div><div class=\"flex justify-between items-center txt-primary py-2.5 px-3 m-0 bg-[#EFEFEF]\" style=\"border-top:1px solid #c3c3c3\"><div class=\"relative\"><div class=\"absolute -top-[30px] -left-4 cursor-pointer h-14 w-14 bg-like-btn bg-no-repeat bg-[length:2900%] active:opacity-50 hover:bg-right hover:opacity-80 bg-left\"><span class=\"absolute top-[20px] left-[43px] font-medium text-sm\">1</span></div></div><div class=\"flex flex-row items-center cursor-pointer px-1 mr-1\"><span class=\"order-1\"><img alt=\"2.8K\" height=\"16\" src=\"https://static-01-btk.akamaized.net/portal/static/img/icons/course-card-users.svg\" width=\"16\"/></span><span class=\"mr-2 font-medium text-sm order-0 mx-1\">2.8K</span></div></div><p class=\"w-full m-0\"><img alt=\"certificate\" class=\"absolute right-2 top-24\" height=\"67\" src=\"https://assets-btkakademi-gov-tr.akamaized.net/api/service/v1/public/51/assets/course_card_badge.png?ts=1638523973217\" title=\"Sertifika\" width=\"50\"/></p></div><div class=\"ant-ribbon ant-ribbon-placement-start ant-ribbon-color-red hidden\" style=\"left:3px\"><span class=\"ant-ribbon-text\">Yeni</span><div class=\"ant-ribbon-corner\"></div></div></div>\n",
      "<div class=\"ant-ribbon-wrapper\"><div class=\"m-auto w-full sm:max-w-[262px] bcg-primary relative rounded-xl text-base overflow-hidden border-solid border-[1px] border-gray-300 dark:border-gray-700\"><a href=\"/portal/course/kubernetes-35490\"><img alt=\"Kubernetes\" class=\"object-cover w-full rounded-t-xl h-[150px]\" src=\"https://assets-btkakademi-gov-tr.akamaized.net/api/gallery/51/30958c38-0887-4a29-8668-5d15e16bc888/343_0x220.png?t=1728894443848\"/><div class=\"bcg-primary pt-2.5 pb-1.5 px-3 m-0\"><div class=\"h-12 max-h-12 m-0 txt-primary\"><div class=\"font-medium text-base\" style=\"word-wrap:break-word\" title=\"Kubernetes\">Kubernetes</div></div><p class=\"mx-0 mt-1.5 mb-0 flex justify-between items-center h-7 inline-block\"><span class=\"ant-tag intermediate\"><span class=\"txt-secondary font-medium\">Orta Seviye</span></span></p></div></a><div class=\"h-50\" id=\"undefined-progress\"><div class=\"ant-progress ant-progress-line ant-progress-status-active ant-progress-default\" id=\"undefined-progress\"><div class=\"ant-progress-outer\"><div class=\"ant-progress-inner\" style=\"border-radius:0\"><div class=\"ant-progress-bg\" style=\"width:0%;height:10px;border-radius:0\"></div></div></div></div></div><div class=\"flex justify-between items-center txt-primary py-2.5 px-3 m-0 bg-[#EFEFEF]\" style=\"border-top:1px solid #c3c3c3\"><div class=\"relative\"><div class=\"absolute -top-[30px] -left-4 cursor-pointer h-14 w-14 bg-like-btn bg-no-repeat bg-[length:2900%] active:opacity-50 hover:bg-right hover:opacity-80 bg-left\"><span class=\"absolute top-[20px] left-[43px] font-medium text-sm\">1</span></div></div><div class=\"flex flex-row items-center cursor-pointer px-1 mr-1\"><span class=\"order-1\"><img alt=\"1.1K\" height=\"16\" src=\"https://static-01-btk.akamaized.net/portal/static/img/icons/course-card-users.svg\" width=\"16\"/></span><span class=\"mr-2 font-medium text-sm order-0 mx-1\">1.1K</span></div></div><p class=\"w-full m-0\"><img alt=\"certificate\" class=\"absolute right-2 top-24\" height=\"67\" src=\"https://assets-btkakademi-gov-tr.akamaized.net/api/service/v1/public/51/assets/course_card_badge.png?ts=1638523973217\" title=\"Sertifika\" width=\"50\"/></p></div><div class=\"ant-ribbon ant-ribbon-placement-start ant-ribbon-color-red hidden\" style=\"left:3px\"><span class=\"ant-ribbon-text\">Yeni</span><div class=\"ant-ribbon-corner\"></div></div></div>\n",
      "<div class=\"ant-ribbon-wrapper\"><div class=\"m-auto w-full sm:max-w-[262px] bcg-primary relative rounded-xl text-base overflow-hidden border-solid border-[1px] border-gray-300 dark:border-gray-700\"><a href=\"/portal/course/sizma-testi-34000\"><img alt=\"Sızma Testi\" class=\"object-cover w-full rounded-t-xl h-[150px]\" src=\"https://assets-btkakademi-gov-tr.akamaized.net/api/gallery/51/94fc306a-15e3-43ee-9aa1-f271dc110e72/241_0x220.png?t=1724052378360\"/><div class=\"bcg-primary pt-2.5 pb-1.5 px-3 m-0\"><div class=\"h-12 max-h-12 m-0 txt-primary\"><div class=\"font-medium text-base\" style=\"word-wrap:break-word\" title=\"Sızma Testi\">Sızma Testi</div></div><p class=\"mx-0 mt-1.5 mb-0 flex justify-between items-center h-7 inline-block\"><span class=\"ant-tag beginner\"><span class=\"txt-secondary font-medium\">Temel Seviye</span></span></p></div></a><div class=\"h-50\" id=\"undefined-progress\"><div class=\"ant-progress ant-progress-line ant-progress-status-active ant-progress-default\" id=\"undefined-progress\"><div class=\"ant-progress-outer\"><div class=\"ant-progress-inner\" style=\"border-radius:0\"><div class=\"ant-progress-bg\" style=\"width:0%;height:10px;border-radius:0\"></div></div></div></div></div><div class=\"flex justify-between items-center txt-primary py-2.5 px-3 m-0 bg-[#EFEFEF]\" style=\"border-top:1px solid #c3c3c3\"><div class=\"relative\"><div class=\"absolute -top-[30px] -left-4 cursor-pointer h-14 w-14 bg-like-btn bg-no-repeat bg-[length:2900%] active:opacity-50 hover:bg-right hover:opacity-80 bg-left\"><span class=\"absolute top-[20px] left-[43px] font-medium text-sm\">1</span></div></div><div class=\"flex flex-row items-center cursor-pointer px-1 mr-1\"><span class=\"order-1\"><img alt=\"4.3K\" height=\"16\" src=\"https://static-01-btk.akamaized.net/portal/static/img/icons/course-card-users.svg\" width=\"16\"/></span><span class=\"mr-2 font-medium text-sm order-0 mx-1\">4.3K</span></div></div><p class=\"w-full m-0\"><img alt=\"certificate\" class=\"absolute right-2 top-24\" height=\"67\" src=\"https://assets-btkakademi-gov-tr.akamaized.net/api/service/v1/public/51/assets/course_card_badge.png?ts=1638523973217\" title=\"Sertifika\" width=\"50\"/></p></div><div class=\"ant-ribbon ant-ribbon-placement-start ant-ribbon-color-red hidden\" style=\"left:3px\"><span class=\"ant-ribbon-text\">Yeni</span><div class=\"ant-ribbon-corner\"></div></div></div>\n",
      "<div class=\"ant-ribbon-wrapper\"><div class=\"m-auto w-full sm:max-w-[262px] bcg-primary relative rounded-xl text-base overflow-hidden border-solid border-[1px] border-gray-300 dark:border-gray-700\"><a href=\"/portal/course/elasticsearch-v8-31252\"><img alt=\"Elasticsearch v8\" class=\"object-cover w-full rounded-t-xl h-[150px]\" src=\"https://assets-btkakademi-gov-tr.akamaized.net/api/gallery/51/29ebb59b-472b-489a-816d-8033e9a31cdc/233_0x220.png?t=1721657186088\"/><div class=\"bcg-primary pt-2.5 pb-1.5 px-3 m-0\"><div class=\"h-12 max-h-12 m-0 txt-primary\"><div class=\"font-medium text-base\" style=\"word-wrap:break-word\" title=\"Elasticsearch v8\">Elasticsearch v8</div></div><p class=\"mx-0 mt-1.5 mb-0 flex justify-between items-center h-7 inline-block\"><span class=\"ant-tag intermediate\"><span class=\"txt-secondary font-medium\">Orta Seviye</span></span></p></div></a><div class=\"h-50\" id=\"undefined-progress\"><div class=\"ant-progress ant-progress-line ant-progress-status-active ant-progress-default\" id=\"undefined-progress\"><div class=\"ant-progress-outer\"><div class=\"ant-progress-inner\" style=\"border-radius:0\"><div class=\"ant-progress-bg\" style=\"width:0%;height:10px;border-radius:0\"></div></div></div></div></div><div class=\"flex justify-between items-center txt-primary py-2.5 px-3 m-0 bg-[#EFEFEF]\" style=\"border-top:1px solid #c3c3c3\"><div class=\"relative\"><div class=\"absolute -top-[30px] -left-4 cursor-pointer h-14 w-14 bg-like-btn bg-no-repeat bg-[length:2900%] active:opacity-50 hover:bg-right hover:opacity-80 bg-left\"><span class=\"absolute top-[20px] left-[43px] font-medium text-sm\">9</span></div></div><div class=\"flex flex-row items-center cursor-pointer px-1 mr-1\"><span class=\"order-1\"><img alt=\"1.3K\" height=\"16\" src=\"https://static-01-btk.akamaized.net/portal/static/img/icons/course-card-users.svg\" width=\"16\"/></span><span class=\"mr-2 font-medium text-sm order-0 mx-1\">1.3K</span></div></div><p class=\"w-full m-0\"><img alt=\"certificate\" class=\"absolute right-2 top-24\" height=\"67\" src=\"https://assets-btkakademi-gov-tr.akamaized.net/api/service/v1/public/51/assets/course_card_badge.png?ts=1638523973217\" title=\"Sertifika\" width=\"50\"/></p></div><div class=\"ant-ribbon ant-ribbon-placement-start ant-ribbon-color-red hidden\" style=\"left:3px\"><span class=\"ant-ribbon-text\">Yeni</span><div class=\"ant-ribbon-corner\"></div></div></div>\n",
      "<div class=\"ant-ribbon-wrapper\"><div class=\"m-auto w-full sm:max-w-[262px] bcg-primary relative rounded-xl text-base overflow-hidden border-solid border-[1px] border-gray-300 dark:border-gray-700\"><a href=\"/portal/course/ileri-seviye-python-programlama-dili-30852\"><img alt=\"İleri Seviye Python Programlama Dili\" class=\"object-cover w-full rounded-t-xl h-[150px]\" src=\"https://assets-btkakademi-gov-tr.akamaized.net/api/gallery/51/884316f4-1a56-4b0c-b6e3-b07241275c92/210_ileri_seviye_python_0x220.png?t=1721216206652\"/><div class=\"bcg-primary pt-2.5 pb-1.5 px-3 m-0\"><div class=\"h-12 max-h-12 m-0 txt-primary\"><div class=\"font-medium text-base\" style=\"word-wrap:break-word\" title=\"İleri Seviye Python Programlama Dili\">İleri Seviye Python Programlama Dili</div></div><p class=\"mx-0 mt-1.5 mb-0 flex justify-between items-center h-7 inline-block\"><span class=\"ant-tag public\"><span class=\"txt-secondary font-medium\">Genel Seviye</span></span></p></div></a><div class=\"h-50\" id=\"undefined-progress\"><div class=\"ant-progress ant-progress-line ant-progress-status-active ant-progress-default\" id=\"undefined-progress\"><div class=\"ant-progress-outer\"><div class=\"ant-progress-inner\" style=\"border-radius:0\"><div class=\"ant-progress-bg\" style=\"width:0%;height:10px;border-radius:0\"></div></div></div></div></div><div class=\"flex justify-between items-center txt-primary py-2.5 px-3 m-0 bg-[#EFEFEF]\" style=\"border-top:1px solid #c3c3c3\"><div class=\"relative\"><div class=\"absolute -top-[30px] -left-4 cursor-pointer h-14 w-14 bg-like-btn bg-no-repeat bg-[length:2900%] active:opacity-50 hover:bg-right hover:opacity-80 bg-left\"><span class=\"absolute top-[20px] left-[43px] font-medium text-sm\">95</span></div></div><div class=\"flex flex-row items-center cursor-pointer px-1 mr-1\"><span class=\"order-1\"><img alt=\"5.7K\" height=\"16\" src=\"https://static-01-btk.akamaized.net/portal/static/img/icons/course-card-users.svg\" width=\"16\"/></span><span class=\"mr-2 font-medium text-sm order-0 mx-1\">5.7K</span></div></div><p class=\"w-full m-0\"><img alt=\"certificate\" class=\"absolute right-2 top-24\" height=\"67\" src=\"https://assets-btkakademi-gov-tr.akamaized.net/api/service/v1/public/51/assets/course_card_badge.png?ts=1638523973217\" title=\"Sertifika\" width=\"50\"/></p></div><div class=\"ant-ribbon ant-ribbon-placement-start ant-ribbon-color-red hidden\" style=\"left:3px\"><span class=\"ant-ribbon-text\">Yeni</span><div class=\"ant-ribbon-corner\"></div></div></div>\n",
      "<div class=\"ant-ribbon-wrapper\"><div class=\"m-auto w-full sm:max-w-[262px] bcg-primary relative rounded-xl text-base overflow-hidden border-solid border-[1px] border-gray-300 dark:border-gray-700\"><a href=\"/portal/course/veri-tabanina-giris-30686\"><img alt=\"Veri Tabanına Giriş\" class=\"object-cover w-full rounded-t-xl h-[150px]\" src=\"https://assets-btkakademi-gov-tr.akamaized.net/api/gallery/51/7b0d1b80-7c63-49a3-b0ca-2503c1fc9463/161_0x220.png?t=1721139183214\"/><div class=\"bcg-primary pt-2.5 pb-1.5 px-3 m-0\"><div class=\"h-12 max-h-12 m-0 txt-primary\"><div class=\"font-medium text-base\" style=\"word-wrap:break-word\" title=\"Veri Tabanına Giriş\">Veri Tabanına Giriş</div></div><p class=\"mx-0 mt-1.5 mb-0 flex justify-between items-center h-7 inline-block\"><span class=\"ant-tag beginner\"><span class=\"txt-secondary font-medium\">Temel Seviye</span></span></p></div></a><div class=\"h-50\" id=\"undefined-progress\"><div class=\"ant-progress ant-progress-line ant-progress-status-active ant-progress-default\" id=\"undefined-progress\"><div class=\"ant-progress-outer\"><div class=\"ant-progress-inner\" style=\"border-radius:0\"><div class=\"ant-progress-bg\" style=\"width:0%;height:10px;border-radius:0\"></div></div></div></div></div><div class=\"flex justify-between items-center txt-primary py-2.5 px-3 m-0 bg-[#EFEFEF]\" style=\"border-top:1px solid #c3c3c3\"><div class=\"relative\"><div class=\"absolute -top-[30px] -left-4 cursor-pointer h-14 w-14 bg-like-btn bg-no-repeat bg-[length:2900%] active:opacity-50 hover:bg-right hover:opacity-80 bg-left\"><span class=\"absolute top-[20px] left-[43px] font-medium text-sm\">112</span></div></div><div class=\"flex flex-row items-center cursor-pointer px-1 mr-1\"><span class=\"order-1\"><img alt=\"8.8K\" height=\"16\" src=\"https://static-01-btk.akamaized.net/portal/static/img/icons/course-card-users.svg\" width=\"16\"/></span><span class=\"mr-2 font-medium text-sm order-0 mx-1\">8.8K</span></div></div><p class=\"w-full m-0\"><img alt=\"certificate\" class=\"absolute right-2 top-24\" height=\"67\" src=\"https://assets-btkakademi-gov-tr.akamaized.net/api/service/v1/public/51/assets/course_card_badge.png?ts=1638523973217\" title=\"Sertifika\" width=\"50\"/></p></div><div class=\"ant-ribbon ant-ribbon-placement-start ant-ribbon-color-red hidden\" style=\"left:3px\"><span class=\"ant-ribbon-text\">Yeni</span><div class=\"ant-ribbon-corner\"></div></div></div>\n",
      "<div class=\"ant-ribbon-wrapper\"><div class=\"m-auto w-full sm:max-w-[262px] bcg-primary relative rounded-xl text-base overflow-hidden border-solid border-[1px] border-gray-300 dark:border-gray-700\"><a href=\"/portal/course/python-ile-makine-ogrenmesi-uygulamalari-30284\"><img alt=\"Python ile Makine Öğrenmesi Uygulamaları\" class=\"object-cover w-full rounded-t-xl h-[150px]\" src=\"https://assets-btkakademi-gov-tr.akamaized.net/api/gallery/51/91e78ed2-6e25-44aa-ac60-97f98bee6893/342_2_0x220.png?t=1717746301659\"/><div class=\"bcg-primary pt-2.5 pb-1.5 px-3 m-0\"><div class=\"h-12 max-h-12 m-0 txt-primary\"><div class=\"font-medium text-base\" style=\"word-wrap:break-word\" title=\"Python ile Makine Öğrenmesi Uygulamaları\">Python ile Makine Öğrenmesi Uygulamaları</div></div><p class=\"mx-0 mt-1.5 mb-0 flex justify-between items-center h-7 inline-block\"><span class=\"ant-tag intermediate\"><span class=\"txt-secondary font-medium\">Orta Seviye</span></span></p></div></a><div class=\"h-50\" id=\"undefined-progress\"><div class=\"ant-progress ant-progress-line ant-progress-status-active ant-progress-default\" id=\"undefined-progress\"><div class=\"ant-progress-outer\"><div class=\"ant-progress-inner\" style=\"border-radius:0\"><div class=\"ant-progress-bg\" style=\"width:0%;height:10px;border-radius:0\"></div></div></div></div></div><div class=\"flex justify-between items-center txt-primary py-2.5 px-3 m-0 bg-[#EFEFEF]\" style=\"border-top:1px solid #c3c3c3\"><div class=\"relative\"><div class=\"absolute -top-[30px] -left-4 cursor-pointer h-14 w-14 bg-like-btn bg-no-repeat bg-[length:2900%] active:opacity-50 hover:bg-right hover:opacity-80 bg-left\"><span class=\"absolute top-[20px] left-[43px] font-medium text-sm\">61</span></div></div><div class=\"flex flex-row items-center cursor-pointer px-1 mr-1\"><span class=\"order-1\"><img alt=\"5.5K\" height=\"16\" src=\"https://static-01-btk.akamaized.net/portal/static/img/icons/course-card-users.svg\" width=\"16\"/></span><span class=\"mr-2 font-medium text-sm order-0 mx-1\">5.5K</span></div></div><p class=\"w-full m-0\"><img alt=\"certificate\" class=\"absolute right-2 top-24\" height=\"67\" src=\"https://assets-btkakademi-gov-tr.akamaized.net/api/service/v1/public/51/assets/course_card_badge.png?ts=1638523973217\" title=\"Sertifika\" width=\"50\"/></p></div><div class=\"ant-ribbon ant-ribbon-placement-start ant-ribbon-color-red hidden\" style=\"left:3px\"><span class=\"ant-ribbon-text\">Yeni</span><div class=\"ant-ribbon-corner\"></div></div></div>\n",
      "<div class=\"ant-ribbon-wrapper\"><div class=\"m-auto w-full sm:max-w-[262px] bcg-primary relative rounded-xl text-base overflow-hidden border-solid border-[1px] border-gray-300 dark:border-gray-700\"><a href=\"/portal/course/kotlin-ile-android-mobil-uygulama-gelistirme-ileri-seviye-30303\"><img alt=\"Kotlin ile Android Mobil Uygulama Geliştirme İleri Seviye\" class=\"object-cover w-full rounded-t-xl h-[150px]\" src=\"https://assets-btkakademi-gov-tr.akamaized.net/api/gallery/51/5f8a9a7b-74ac-4c62-857e-bfdef090bc12/356_0x220.png?t=1716465831398\"/><div class=\"bcg-primary pt-2.5 pb-1.5 px-3 m-0\"><div class=\"h-12 max-h-12 m-0 txt-primary\"><div class=\"font-medium text-base\" style=\"word-wrap:break-word\" title=\"Kotlin ile Android Mobil Uygulama Geliştirme İleri Seviye\">Kotlin ile Android Mobil Uygulama Geliştirme İleri Seviye</div></div><p class=\"mx-0 mt-1.5 mb-0 flex justify-between items-center h-7 inline-block\"><span class=\"ant-tag advanced\"><span class=\"txt-secondary font-medium\">İleri Seviye</span></span></p></div></a><div class=\"h-50\" id=\"undefined-progress\"><div class=\"ant-progress ant-progress-line ant-progress-status-active ant-progress-default\" id=\"undefined-progress\"><div class=\"ant-progress-outer\"><div class=\"ant-progress-inner\" style=\"border-radius:0\"><div class=\"ant-progress-bg\" style=\"width:0%;height:10px;border-radius:0\"></div></div></div></div></div><div class=\"flex justify-between items-center txt-primary py-2.5 px-3 m-0 bg-[#EFEFEF]\" style=\"border-top:1px solid #c3c3c3\"><div class=\"relative\"><div class=\"absolute -top-[30px] -left-4 cursor-pointer h-14 w-14 bg-like-btn bg-no-repeat bg-[length:2900%] active:opacity-50 hover:bg-right hover:opacity-80 bg-left\"><span class=\"absolute top-[20px] left-[43px] font-medium text-sm\">45</span></div></div><div class=\"flex flex-row items-center cursor-pointer px-1 mr-1\"><span class=\"order-1\"><img alt=\"3.5K\" height=\"16\" src=\"https://static-01-btk.akamaized.net/portal/static/img/icons/course-card-users.svg\" width=\"16\"/></span><span class=\"mr-2 font-medium text-sm order-0 mx-1\">3.5K</span></div></div><p class=\"w-full m-0\"><img alt=\"certificate\" class=\"absolute right-2 top-24\" height=\"67\" src=\"https://assets-btkakademi-gov-tr.akamaized.net/api/service/v1/public/51/assets/course_card_badge.png?ts=1638523973217\" title=\"Sertifika\" width=\"50\"/></p></div><div class=\"ant-ribbon ant-ribbon-placement-start ant-ribbon-color-red hidden\" style=\"left:3px\"><span class=\"ant-ribbon-text\">Yeni</span><div class=\"ant-ribbon-corner\"></div></div></div>\n",
      "<div class=\"ant-ribbon-wrapper\"><div class=\"m-auto w-full sm:max-w-[262px] bcg-primary relative rounded-xl text-base overflow-hidden border-solid border-[1px] border-gray-300 dark:border-gray-700\"><a href=\"/portal/course/kotlin-ile-android-mobil-uygulama-gelistirme-temelleri-30370\"><img alt=\"Kotlin ile Android Mobil Uygulama Geliştirme Temelleri \" class=\"object-cover w-full rounded-t-xl h-[150px]\" src=\"https://assets-btkakademi-gov-tr.akamaized.net/api/gallery/51/b0765694-9652-4c90-8c3e-cd4276fc052a/228_0x220.png?t=1716453316865\"/><div class=\"bcg-primary pt-2.5 pb-1.5 px-3 m-0\"><div class=\"h-12 max-h-12 m-0 txt-primary\"><div class=\"font-medium text-base\" style=\"word-wrap:break-word\" title=\"Kotlin ile Android Mobil Uygulama Geliştirme Temelleri \">Kotlin ile Android Mobil Uygulama Geliştirme Temelleri </div></div><p class=\"mx-0 mt-1.5 mb-0 flex justify-between items-center h-7 inline-block\"><span class=\"ant-tag intermediate\"><span class=\"txt-secondary font-medium\">Orta Seviye</span></span></p></div></a><div class=\"h-50\" id=\"undefined-progress\"><div class=\"ant-progress ant-progress-line ant-progress-status-active ant-progress-default\" id=\"undefined-progress\"><div class=\"ant-progress-outer\"><div class=\"ant-progress-inner\" style=\"border-radius:0\"><div class=\"ant-progress-bg\" style=\"width:0%;height:10px;border-radius:0\"></div></div></div></div></div><div class=\"flex justify-between items-center txt-primary py-2.5 px-3 m-0 bg-[#EFEFEF]\" style=\"border-top:1px solid #c3c3c3\"><div class=\"relative\"><div class=\"absolute -top-[30px] -left-4 cursor-pointer h-14 w-14 bg-like-btn bg-no-repeat bg-[length:2900%] active:opacity-50 hover:bg-right hover:opacity-80 bg-left\"><span class=\"absolute top-[20px] left-[43px] font-medium text-sm\">78</span></div></div><div class=\"flex flex-row items-center cursor-pointer px-1 mr-1\"><span class=\"order-1\"><img alt=\"4.3K\" height=\"16\" src=\"https://static-01-btk.akamaized.net/portal/static/img/icons/course-card-users.svg\" width=\"16\"/></span><span class=\"mr-2 font-medium text-sm order-0 mx-1\">4.3K</span></div></div><p class=\"w-full m-0\"><img alt=\"certificate\" class=\"absolute right-2 top-24\" height=\"67\" src=\"https://assets-btkakademi-gov-tr.akamaized.net/api/service/v1/public/51/assets/course_card_badge.png?ts=1638523973217\" title=\"Sertifika\" width=\"50\"/></p></div><div class=\"ant-ribbon ant-ribbon-placement-start ant-ribbon-color-red hidden\" style=\"left:3px\"><span class=\"ant-ribbon-text\">Yeni</span><div class=\"ant-ribbon-corner\"></div></div></div>\n",
      "<div class=\"ant-ribbon-wrapper\"><div class=\"m-auto w-full sm:max-w-[262px] bcg-primary relative rounded-xl text-base overflow-hidden border-solid border-[1px] border-gray-300 dark:border-gray-700\"><a href=\"/portal/course/kotlin-programlama-dili-30052\"><img alt=\"Kotlin Programlama Dili\" class=\"object-cover w-full rounded-t-xl h-[150px]\" src=\"https://assets-btkakademi-gov-tr.akamaized.net/api/gallery/51/32086c27-8c6e-4415-955c-f2fcba425c8c/227_0x220.png?t=1714401664331\"/><div class=\"bcg-primary pt-2.5 pb-1.5 px-3 m-0\"><div class=\"h-12 max-h-12 m-0 txt-primary\"><div class=\"font-medium text-base\" style=\"word-wrap:break-word\" title=\"Kotlin Programlama Dili\">Kotlin Programlama Dili</div></div><p class=\"mx-0 mt-1.5 mb-0 flex justify-between items-center h-7 inline-block\"><span class=\"ant-tag beginner\"><span class=\"txt-secondary font-medium\">Temel Seviye</span></span></p></div></a><div class=\"h-50\" id=\"undefined-progress\"><div class=\"ant-progress ant-progress-line ant-progress-status-active ant-progress-default\" id=\"undefined-progress\"><div class=\"ant-progress-outer\"><div class=\"ant-progress-inner\" style=\"border-radius:0\"><div class=\"ant-progress-bg\" style=\"width:0%;height:10px;border-radius:0\"></div></div></div></div></div><div class=\"flex justify-between items-center txt-primary py-2.5 px-3 m-0 bg-[#EFEFEF]\" style=\"border-top:1px solid #c3c3c3\"><div class=\"relative\"><div class=\"absolute -top-[30px] -left-4 cursor-pointer h-14 w-14 bg-like-btn bg-no-repeat bg-[length:2900%] active:opacity-50 hover:bg-right hover:opacity-80 bg-left\"><span class=\"absolute top-[20px] left-[43px] font-medium text-sm\">147</span></div></div><div class=\"flex flex-row items-center cursor-pointer px-1 mr-1\"><span class=\"order-1\"><img alt=\"7.4K\" height=\"16\" src=\"https://static-01-btk.akamaized.net/portal/static/img/icons/course-card-users.svg\" width=\"16\"/></span><span class=\"mr-2 font-medium text-sm order-0 mx-1\">7.4K</span></div></div><p class=\"w-full m-0\"><img alt=\"certificate\" class=\"absolute right-2 top-24\" height=\"67\" src=\"https://assets-btkakademi-gov-tr.akamaized.net/api/service/v1/public/51/assets/course_card_badge.png?ts=1638523973217\" title=\"Sertifika\" width=\"50\"/></p></div><div class=\"ant-ribbon ant-ribbon-placement-start ant-ribbon-color-red hidden\" style=\"left:3px\"><span class=\"ant-ribbon-text\">Yeni</span><div class=\"ant-ribbon-corner\"></div></div></div>\n",
      "<div class=\"ant-ribbon-wrapper\"><div class=\"m-auto w-full sm:max-w-[262px] bcg-primary relative rounded-xl text-base overflow-hidden border-solid border-[1px] border-gray-300 dark:border-gray-700\"><a href=\"/portal/course/makine-ogrenmesi-30123\"><img alt=\"Makine Öğrenmesi\" class=\"object-cover w-full rounded-t-xl h-[150px]\" src=\"https://assets-btkakademi-gov-tr.akamaized.net/api/gallery/51/f192b9b7-b448-4a44-8df2-21b09278b725/341_0x220.png?t=1714725343997\"/><div class=\"bcg-primary pt-2.5 pb-1.5 px-3 m-0\"><div class=\"h-12 max-h-12 m-0 txt-primary\"><div class=\"font-medium text-base\" style=\"word-wrap:break-word\" title=\"Makine Öğrenmesi\">Makine Öğrenmesi</div></div><p class=\"mx-0 mt-1.5 mb-0 flex justify-between items-center h-7 inline-block\"><span class=\"ant-tag intermediate\"><span class=\"txt-secondary font-medium\">Orta Seviye</span></span></p></div></a><div class=\"h-50\" id=\"undefined-progress\"><div class=\"ant-progress ant-progress-line ant-progress-status-active ant-progress-default\" id=\"undefined-progress\"><div class=\"ant-progress-outer\"><div class=\"ant-progress-inner\" style=\"border-radius:0\"><div class=\"ant-progress-bg\" style=\"width:0%;height:10px;border-radius:0\"></div></div></div></div></div><div class=\"flex justify-between items-center txt-primary py-2.5 px-3 m-0 bg-[#EFEFEF]\" style=\"border-top:1px solid #c3c3c3\"><div class=\"relative\"><div class=\"absolute -top-[30px] -left-4 cursor-pointer h-14 w-14 bg-like-btn bg-no-repeat bg-[length:2900%] active:opacity-50 hover:bg-right hover:opacity-80 bg-left\"><span class=\"absolute top-[20px] left-[43px] font-medium text-sm\">111</span></div></div><div class=\"flex flex-row items-center cursor-pointer px-1 mr-1\"><span class=\"order-1\"><img alt=\"6.3K\" height=\"16\" src=\"https://static-01-btk.akamaized.net/portal/static/img/icons/course-card-users.svg\" width=\"16\"/></span><span class=\"mr-2 font-medium text-sm order-0 mx-1\">6.3K</span></div></div><p class=\"w-full m-0\"><img alt=\"certificate\" class=\"absolute right-2 top-24\" height=\"67\" src=\"https://assets-btkakademi-gov-tr.akamaized.net/api/service/v1/public/51/assets/course_card_badge.png?ts=1638523973217\" title=\"Sertifika\" width=\"50\"/></p></div><div class=\"ant-ribbon ant-ribbon-placement-start ant-ribbon-color-red hidden\" style=\"left:3px\"><span class=\"ant-ribbon-text\">Yeni</span><div class=\"ant-ribbon-corner\"></div></div></div>\n",
      "<div class=\"ant-ribbon-wrapper\"><div class=\"m-auto w-full sm:max-w-[262px] bcg-primary relative rounded-xl text-base overflow-hidden border-solid border-[1px] border-gray-300 dark:border-gray-700\"><a href=\"/portal/course/python-programlama-dili-29055\"><img alt=\"Python Programlama Dili\" class=\"object-cover w-full rounded-t-xl h-[150px]\" src=\"https://assets-btkakademi-gov-tr.akamaized.net/api/gallery/51/15a9c356-3e74-4a35-bb95-1022024a18af/338_0x220.png?t=1709211256068\"/><div class=\"bcg-primary pt-2.5 pb-1.5 px-3 m-0\"><div class=\"h-12 max-h-12 m-0 txt-primary\"><div class=\"font-medium text-base\" style=\"word-wrap:break-word\" title=\"Python Programlama Dili\">Python Programlama Dili</div></div><p class=\"mx-0 mt-1.5 mb-0 flex justify-between items-center h-7 inline-block\"><span class=\"ant-tag intermediate\"><span class=\"txt-secondary font-medium\">Orta Seviye</span></span></p></div></a><div class=\"h-50\" id=\"undefined-progress\"><div class=\"ant-progress ant-progress-line ant-progress-status-active ant-progress-default\" id=\"undefined-progress\"><div class=\"ant-progress-outer\"><div class=\"ant-progress-inner\" style=\"border-radius:0\"><div class=\"ant-progress-bg\" style=\"width:0%;height:10px;border-radius:0\"></div></div></div></div></div><div class=\"flex justify-between items-center txt-primary py-2.5 px-3 m-0 bg-[#EFEFEF]\" style=\"border-top:1px solid #c3c3c3\"><div class=\"relative\"><div class=\"absolute -top-[30px] -left-4 cursor-pointer h-14 w-14 bg-like-btn bg-no-repeat bg-[length:2900%] active:opacity-50 hover:bg-right hover:opacity-80 bg-left\"><span class=\"absolute top-[20px] left-[43px] font-medium text-sm\">193</span></div></div><div class=\"flex flex-row items-center cursor-pointer px-1 mr-1\"><span class=\"order-1\"><img alt=\"13.7K\" height=\"16\" src=\"https://static-01-btk.akamaized.net/portal/static/img/icons/course-card-users.svg\" width=\"16\"/></span><span class=\"mr-2 font-medium text-sm order-0 mx-1\">13.7K</span></div></div><p class=\"w-full m-0\"><img alt=\"certificate\" class=\"absolute right-2 top-24\" height=\"67\" src=\"https://assets-btkakademi-gov-tr.akamaized.net/api/service/v1/public/51/assets/course_card_badge.png?ts=1638523973217\" title=\"Sertifika\" width=\"50\"/></p></div><div class=\"ant-ribbon ant-ribbon-placement-start ant-ribbon-color-red hidden\" style=\"left:3px\"><span class=\"ant-ribbon-text\">Yeni</span><div class=\"ant-ribbon-corner\"></div></div></div>\n"
     ]
    }
   ],
   "source": [
    "for ed in edu:\n",
    "    print(ed)"
   ]
  },
  {
   "cell_type": "code",
   "execution_count": 297,
   "metadata": {},
   "outputs": [
    {
     "name": "stdout",
     "output_type": "stream",
     "text": [
      "/portal/course/veri-bilimine-giris-35390\n",
      "https://assets-btkakademi-gov-tr.akamaized.net/api/gallery/51/8b699d67-f950-4ff7-834f-9ea98d464105/391_0x220.png?t=1728030396861\n",
      "/portal/course/kubernetes-35490\n",
      "https://assets-btkakademi-gov-tr.akamaized.net/api/gallery/51/30958c38-0887-4a29-8668-5d15e16bc888/343_0x220.png?t=1728894443848\n",
      "/portal/course/sizma-testi-34000\n",
      "https://assets-btkakademi-gov-tr.akamaized.net/api/gallery/51/94fc306a-15e3-43ee-9aa1-f271dc110e72/241_0x220.png?t=1724052378360\n",
      "/portal/course/elasticsearch-v8-31252\n",
      "https://assets-btkakademi-gov-tr.akamaized.net/api/gallery/51/29ebb59b-472b-489a-816d-8033e9a31cdc/233_0x220.png?t=1721657186088\n",
      "/portal/course/ileri-seviye-python-programlama-dili-30852\n",
      "https://assets-btkakademi-gov-tr.akamaized.net/api/gallery/51/884316f4-1a56-4b0c-b6e3-b07241275c92/210_ileri_seviye_python_0x220.png?t=1721216206652\n",
      "/portal/course/veri-tabanina-giris-30686\n",
      "https://assets-btkakademi-gov-tr.akamaized.net/api/gallery/51/7b0d1b80-7c63-49a3-b0ca-2503c1fc9463/161_0x220.png?t=1721139183214\n",
      "/portal/course/python-ile-makine-ogrenmesi-uygulamalari-30284\n",
      "https://assets-btkakademi-gov-tr.akamaized.net/api/gallery/51/91e78ed2-6e25-44aa-ac60-97f98bee6893/342_2_0x220.png?t=1717746301659\n",
      "/portal/course/kotlin-ile-android-mobil-uygulama-gelistirme-ileri-seviye-30303\n",
      "https://assets-btkakademi-gov-tr.akamaized.net/api/gallery/51/5f8a9a7b-74ac-4c62-857e-bfdef090bc12/356_0x220.png?t=1716465831398\n",
      "/portal/course/kotlin-ile-android-mobil-uygulama-gelistirme-temelleri-30370\n",
      "https://assets-btkakademi-gov-tr.akamaized.net/api/gallery/51/b0765694-9652-4c90-8c3e-cd4276fc052a/228_0x220.png?t=1716453316865\n",
      "/portal/course/kotlin-programlama-dili-30052\n",
      "https://assets-btkakademi-gov-tr.akamaized.net/api/gallery/51/32086c27-8c6e-4415-955c-f2fcba425c8c/227_0x220.png?t=1714401664331\n",
      "/portal/course/makine-ogrenmesi-30123\n",
      "https://assets-btkakademi-gov-tr.akamaized.net/api/gallery/51/f192b9b7-b448-4a44-8df2-21b09278b725/341_0x220.png?t=1714725343997\n",
      "/portal/course/python-programlama-dili-29055\n",
      "https://assets-btkakademi-gov-tr.akamaized.net/api/gallery/51/15a9c356-3e74-4a35-bb95-1022024a18af/338_0x220.png?t=1709211256068\n"
     ]
    }
   ],
   "source": [
    "for ed in edu:\n",
    "    anchor = ed.a \n",
    "    link = anchor.get(\"href\")\n",
    "    image = anchor.img.get(\"src\")\n",
    "    print(link)\n",
    "    print(image)"
   ]
  },
  {
   "cell_type": "code",
   "execution_count": 309,
   "metadata": {},
   "outputs": [
    {
     "name": "stdout",
     "output_type": "stream",
     "text": [
      "Python Programlama Dili\n"
     ]
    }
   ],
   "source": [
    "title = anchor.find(class_=\"font-medium text-base\").string\n",
    "print(title)"
   ]
  },
  {
   "cell_type": "code",
   "execution_count": 312,
   "metadata": {},
   "outputs": [
    {
     "name": "stdout",
     "output_type": "stream",
     "text": [
      "Veri Bilimine Giriş\n",
      "Kubernetes\n",
      "Sızma Testi\n",
      "Elasticsearch v8\n",
      "İleri Seviye Python Programlama Dili\n",
      "Veri Tabanına Giriş\n",
      "Python ile Makine Öğrenmesi Uygulamaları\n",
      "Kotlin ile Android Mobil Uygulama Geliştirme İleri Seviye\n",
      "Kotlin ile Android Mobil Uygulama Geliştirme Temelleri \n",
      "Kotlin Programlama Dili\n",
      "Makine Öğrenmesi\n",
      "Python Programlama Dili\n"
     ]
    }
   ],
   "source": [
    "for ed in edu:\n",
    "    anchor = ed.a \n",
    "    # link = anchor.get(\"href\")\n",
    "    # image = anchor.img.get(\"src\")\n",
    "    title = anchor.find(class_=\"font-medium text-base\").string\n",
    "    print(title)\n"
   ]
  },
  {
   "cell_type": "code",
   "execution_count": 317,
   "metadata": {},
   "outputs": [
    {
     "name": "stdout",
     "output_type": "stream",
     "text": [
      "Veri Bilimine Giriş : Temel Seviye ['1', '2.8K'] ****** 1 2.8K\n",
      "Kubernetes : Orta Seviye ['1', '1.1K'] ****** 1 1.1K\n",
      "Sızma Testi : Temel Seviye ['1', '4.3K'] ****** 1 4.3K\n",
      "Elasticsearch v8 : Orta Seviye ['9', '1.3K'] ****** 9 1.3K\n",
      "İleri Seviye Python Programlama Dili : Genel Seviye ['95', '5.7K'] ****** 95 5.7K\n",
      "Veri Tabanına Giriş : Temel Seviye ['112', '8.8K'] ****** 112 8.8K\n",
      "Python ile Makine Öğrenmesi Uygulamaları : Orta Seviye ['61', '5.5K'] ****** 61 5.5K\n",
      "Kotlin ile Android Mobil Uygulama Geliştirme İleri Seviye : İleri Seviye ['45', '3.5K'] ****** 45 3.5K\n",
      "Kotlin ile Android Mobil Uygulama Geliştirme Temelleri  : Orta Seviye ['78', '4.3K'] ****** 78 4.3K\n",
      "Kotlin Programlama Dili : Temel Seviye ['147', '7.4K'] ****** 147 7.4K\n",
      "Makine Öğrenmesi : Orta Seviye ['111', '6.3K'] ****** 111 6.3K\n",
      "Python Programlama Dili : Orta Seviye ['193', '13.7K'] ****** 193 13.7K\n"
     ]
    }
   ],
   "source": [
    "for ed in edu:\n",
    "    anchor = ed.a \n",
    "    # link = anchor.get(\"href\")\n",
    "    # image = anchor.img.get(\"src\")\n",
    "    title = anchor.find(class_=\"font-medium text-base\").string\n",
    "    level = anchor.find(class_=\"txt-secondary font-medium\").string\n",
    "    count = anchor.nextSibling.nextSibling.get_text(separator=\"-\").split(\"-\")\n",
    "    likes = count[0]\n",
    "    students = count[1]\n",
    "    print(title, \":\", level, count, \"******\", likes, students)"
   ]
  },
  {
   "cell_type": "code",
   "execution_count": 318,
   "metadata": {},
   "outputs": [],
   "source": [
    "with open(\"bs-eds.csv\", \"w\", encoding=\"utf-8\") as file:\n",
    "    csv_writer = writer(file)\n",
    "    csv_writer.writerow([\"link\",\"image\", \"title\", \"level\",\"likes\", \"students\"])\n",
    "\n",
    "    for ed in edu:\n",
    "        anchor = ed.a \n",
    "        link = anchor.get(\"href\")\n",
    "        image = anchor.img.get(\"src\")\n",
    "        title = anchor.find(class_=\"font-medium text-base\").string\n",
    "        level = anchor.find(class_=\"txt-secondary font-medium\").string\n",
    "        count = anchor.nextSibling.nextSibling.get_text(separator=\"-\").split(\"-\")\n",
    "        likes = count[0]\n",
    "        students = count[1]\n",
    "\n",
    "        csv_writer.writerow([link, image, title, level, likes, students])"
   ]
  },
  {
   "cell_type": "code",
   "execution_count": null,
   "metadata": {},
   "outputs": [],
   "source": []
  }
 ],
 "metadata": {
  "kernelspec": {
   "display_name": "base",
   "language": "python",
   "name": "python3"
  },
  "language_info": {
   "codemirror_mode": {
    "name": "ipython",
    "version": 3
   },
   "file_extension": ".py",
   "mimetype": "text/x-python",
   "name": "python",
   "nbconvert_exporter": "python",
   "pygments_lexer": "ipython3",
   "version": "3.12.7"
  }
 },
 "nbformat": 4,
 "nbformat_minor": 2
}
