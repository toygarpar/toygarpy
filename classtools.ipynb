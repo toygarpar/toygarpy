{
 "cells": [
  {
   "cell_type": "markdown",
   "metadata": {},
   "source": [
    "Class Utilities and Tools"
   ]
  },
  {
   "cell_type": "code",
   "execution_count": 15,
   "metadata": {},
   "outputs": [],
   "source": [
    "class AttrDisplay:\n",
    "\n",
    "    \"\"\"\n",
    "    Provides an inheritable display overload method that shows\n",
    "    instances with their class names and a name=value pair for\n",
    "    each attribute stored on the instance itself (but not attrs\n",
    "    inherited from its classes). Can be mixed into any class,\n",
    "    and will work on any instance.\n",
    "    \"\"\"\n",
    "\n",
    "\n",
    "    def attrToparla(self):\n",
    "        attrs = []\n",
    "        for key in sorted(self.__dict__):\n",
    "            attrs.append(\"{} = {}\".format(key, getattr(self, key)))\n",
    "\n",
    "        return \", \".join(attrs)\n",
    "\n",
    "\n",
    "    def __repr__(self):\n",
    "        return \"[{}: {}]\".format(self.__class__.__name__, self.attrToparla())\n",
    "\n",
    "\n",
    "if __name__ == \"__main__\" :\n",
    "\n",
    "    class Test(AttrDisplay):\n",
    "        count = 0 \n",
    "        def __init__(self):\n",
    "            self.attr1 = Test.count\n",
    "            self.attr2 = Test.count + 1\n",
    "            Test.count += 2\n",
    "\n",
    "    class Subtest(Test):\n",
    "        pass"
   ]
  },
  {
   "cell_type": "code",
   "execution_count": 16,
   "metadata": {},
   "outputs": [],
   "source": [
    "a, b = Test(), Subtest()"
   ]
  },
  {
   "cell_type": "code",
   "execution_count": 17,
   "metadata": {},
   "outputs": [
    {
     "data": {
      "text/plain": [
       "([Test: attr1 = 0, attr2 = 1], [Subtest: attr1 = 2, attr2 = 3])"
      ]
     },
     "execution_count": 17,
     "metadata": {},
     "output_type": "execute_result"
    }
   ],
   "source": [
    "a, b"
   ]
  },
  {
   "cell_type": "code",
   "execution_count": null,
   "metadata": {},
   "outputs": [
    {
     "data": {
      "text/plain": [
       "['__class__',\n",
       " '__delattr__',\n",
       " '__dict__',\n",
       " '__dir__',\n",
       " '__doc__',\n",
       " '__eq__',\n",
       " '__format__',\n",
       " '__ge__',\n",
       " '__getattribute__',\n",
       " '__getstate__',\n",
       " '__gt__',\n",
       " '__hash__',\n",
       " '__init__',\n",
       " '__init_subclass__',\n",
       " '__le__',\n",
       " '__lt__',\n",
       " '__module__',\n",
       " '__ne__',\n",
       " '__new__',\n",
       " '__reduce__',\n",
       " '__reduce_ex__',\n",
       " '__repr__',\n",
       " '__setattr__',\n",
       " '__sizeof__',\n",
       " '__str__',\n",
       " '__subclasshook__',\n",
       " '__weakref__',\n",
       " 'attr1',\n",
       " 'attr2',\n",
       " 'attrToparla',\n",
       " 'count']"
      ]
     },
     "execution_count": 18,
     "metadata": {},
     "output_type": "execute_result"
    }
   ],
   "source": [
    "dir(b)  #by running a built-in dir call on the instance, results include inherited names in the sorted results list."
   ]
  },
  {
   "cell_type": "code",
   "execution_count": 20,
   "metadata": {},
   "outputs": [
    {
     "data": {
      "text/plain": [
       "['attr1', 'attr2', 'attrToparla', 'count']"
      ]
     },
     "execution_count": 20,
     "metadata": {},
     "output_type": "execute_result"
    }
   ],
   "source": [
    "[name for name in dir(b) if not name.startswith(\"__\")]"
   ]
  },
  {
   "cell_type": "code",
   "execution_count": 19,
   "metadata": {},
   "outputs": [
    {
     "data": {
      "text/plain": [
       "dict_keys(['attr1', 'attr2'])"
      ]
     },
     "execution_count": 19,
     "metadata": {},
     "output_type": "execute_result"
    }
   ],
   "source": [
    "b.__dict__.keys()"
   ]
  },
  {
   "cell_type": "code",
   "execution_count": null,
   "metadata": {},
   "outputs": [],
   "source": []
  }
 ],
 "metadata": {
  "kernelspec": {
   "display_name": "base",
   "language": "python",
   "name": "python3"
  },
  "language_info": {
   "codemirror_mode": {
    "name": "ipython",
    "version": 3
   },
   "file_extension": ".py",
   "mimetype": "text/x-python",
   "name": "python",
   "nbconvert_exporter": "python",
   "pygments_lexer": "ipython3",
   "version": "3.12.7"
  }
 },
 "nbformat": 4,
 "nbformat_minor": 2
}
