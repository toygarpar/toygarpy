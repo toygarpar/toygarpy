{
 "cells": [
  {
   "cell_type": "markdown",
   "metadata": {},
   "source": [
    "NESTED FUNCTIONS - İÇ İÇE FONKSİYONLAR"
   ]
  },
  {
   "cell_type": "code",
   "execution_count": 12,
   "metadata": {},
   "outputs": [],
   "source": [
    "def selam(name):\n",
    "    return f\" Selam, {name}!\""
   ]
  },
  {
   "cell_type": "code",
   "execution_count": 13,
   "metadata": {},
   "outputs": [
    {
     "name": "stdout",
     "output_type": "stream",
     "text": [
      " Selam, Toygar!\n"
     ]
    }
   ],
   "source": [
    "print(selam(\"Toygar\"))"
   ]
  },
  {
   "cell_type": "code",
   "execution_count": 14,
   "metadata": {},
   "outputs": [
    {
     "name": "stdout",
     "output_type": "stream",
     "text": [
      "<function selam at 0x7f8988097100>\n"
     ]
    }
   ],
   "source": [
    "#func at that memory address\n",
    "print(selam)"
   ]
  },
  {
   "cell_type": "code",
   "execution_count": 15,
   "metadata": {},
   "outputs": [],
   "source": [
    "merhaba =  selam"
   ]
  },
  {
   "cell_type": "code",
   "execution_count": 16,
   "metadata": {},
   "outputs": [
    {
     "data": {
      "text/plain": [
       "<function __main__.selam(name)>"
      ]
     },
     "execution_count": 16,
     "metadata": {},
     "output_type": "execute_result"
    }
   ],
   "source": [
    "merhaba"
   ]
  },
  {
   "cell_type": "code",
   "execution_count": 17,
   "metadata": {},
   "outputs": [
    {
     "name": "stdout",
     "output_type": "stream",
     "text": [
      "<function selam at 0x7f8988097100>\n"
     ]
    }
   ],
   "source": [
    "print(merhaba)"
   ]
  },
  {
   "cell_type": "code",
   "execution_count": 18,
   "metadata": {},
   "outputs": [
    {
     "data": {
      "text/plain": [
       "' Selam, Toygar!'"
      ]
     },
     "execution_count": 18,
     "metadata": {},
     "output_type": "execute_result"
    }
   ],
   "source": [
    "merhaba(\"Toygar\")"
   ]
  },
  {
   "cell_type": "code",
   "execution_count": 19,
   "metadata": {},
   "outputs": [],
   "source": [
    "del selam\n"
   ]
  },
  {
   "cell_type": "code",
   "execution_count": 20,
   "metadata": {},
   "outputs": [
    {
     "ename": "NameError",
     "evalue": "name 'selam' is not defined",
     "output_type": "error",
     "traceback": [
      "\u001b[0;31m---------------------------------------------------------------------------\u001b[0m",
      "\u001b[0;31mNameError\u001b[0m                                 Traceback (most recent call last)",
      "Cell \u001b[0;32mIn[20], line 1\u001b[0m\n\u001b[0;32m----> 1\u001b[0m selam\n",
      "\u001b[0;31mNameError\u001b[0m: name 'selam' is not defined"
     ]
    }
   ],
   "source": [
    "selam"
   ]
  },
  {
   "cell_type": "code",
   "execution_count": 22,
   "metadata": {},
   "outputs": [
    {
     "data": {
      "text/plain": [
       "<function __main__.selam(name)>"
      ]
     },
     "execution_count": 22,
     "metadata": {},
     "output_type": "execute_result"
    }
   ],
   "source": [
    "merhaba  #selam değişkeninden adres bilgisi silsek de memory adres hala selam fonku tutuyor, merhaba referansı hala var"
   ]
  },
  {
   "cell_type": "code",
   "execution_count": 36,
   "metadata": {},
   "outputs": [],
   "source": [
    "def outer(num):\n",
    "    def inner(num):\n",
    "        print(num)\n",
    "\n",
    "    inner(num)"
   ]
  },
  {
   "cell_type": "code",
   "execution_count": 38,
   "metadata": {},
   "outputs": [
    {
     "name": "stdout",
     "output_type": "stream",
     "text": [
      "10\n"
     ]
    }
   ],
   "source": [
    "outer(10)"
   ]
  },
  {
   "cell_type": "code",
   "execution_count": 45,
   "metadata": {},
   "outputs": [],
   "source": [
    "def faktor(num):\n",
    "\n",
    "    if not isinstance(num, int):\n",
    "\n",
    "        raise TypeError(\"number must be an integer\")\n",
    "    \n",
    "    if not num >= 0:\n",
    "        \n",
    "        raise ValueError(\"number must be 0 or positive\")\n",
    "\n",
    "    def inner_fakt(num):\n",
    "\n",
    "        if num <= 1:\n",
    "            return 1\n",
    "        \n",
    "        return num * inner_fakt(num - 1)    #recursive\n",
    "    \n",
    "    return inner_fakt(num)\n",
    "    "
   ]
  },
  {
   "cell_type": "code",
   "execution_count": 49,
   "metadata": {},
   "outputs": [
    {
     "name": "stdout",
     "output_type": "stream",
     "text": [
      "number must be an integer\n"
     ]
    }
   ],
   "source": [
    "try:\n",
    "    res = faktor(4.0)\n",
    "    print(res)\n",
    "\n",
    "except Exception as err:\n",
    "    print(err)"
   ]
  },
  {
   "cell_type": "markdown",
   "metadata": {},
   "source": [
    "FUNCTIONS THAT RETURNS FUNCTIONS"
   ]
  },
  {
   "cell_type": "code",
   "execution_count": 50,
   "metadata": {},
   "outputs": [],
   "source": [
    "def power(base):\n",
    "    def inner(pow):\n",
    "        return base ** pow\n",
    "    \n",
    "    return inner"
   ]
  },
  {
   "cell_type": "code",
   "execution_count": 51,
   "metadata": {},
   "outputs": [
    {
     "data": {
      "text/plain": [
       "16"
      ]
     },
     "execution_count": 51,
     "metadata": {},
     "output_type": "execute_result"
    }
   ],
   "source": [
    "power(2)(4)"
   ]
  },
  {
   "cell_type": "code",
   "execution_count": 52,
   "metadata": {},
   "outputs": [],
   "source": [
    "p =  power(3)"
   ]
  },
  {
   "cell_type": "code",
   "execution_count": 53,
   "metadata": {},
   "outputs": [
    {
     "data": {
      "text/plain": [
       "81"
      ]
     },
     "execution_count": 53,
     "metadata": {},
     "output_type": "execute_result"
    }
   ],
   "source": [
    "p(4)"
   ]
  },
  {
   "cell_type": "code",
   "execution_count": 54,
   "metadata": {},
   "outputs": [],
   "source": [
    "def access(page):\n",
    "\n",
    "    def inner(role):\n",
    "        if role == \"admin\":\n",
    "            return f\"{role} kullanıcısı {page} sayfasına erişim sağlayabilir\"\n",
    "        \n",
    "        else: return f\"{role} kullanıcısı {page} sayfasına erişim yetkisi yok\"\n",
    "\n",
    "    return inner"
   ]
  },
  {
   "cell_type": "code",
   "execution_count": 58,
   "metadata": {},
   "outputs": [],
   "source": [
    "erisim = access(\"Ürün Güncelleme\")"
   ]
  },
  {
   "cell_type": "code",
   "execution_count": 59,
   "metadata": {},
   "outputs": [
    {
     "data": {
      "text/plain": [
       "'admin kullanıcısı Ürün Güncelleme sayfasına erişim sağlayabilir'"
      ]
     },
     "execution_count": 59,
     "metadata": {},
     "output_type": "execute_result"
    }
   ],
   "source": [
    "erisim(\"admin\")"
   ]
  },
  {
   "cell_type": "code",
   "execution_count": 17,
   "metadata": {},
   "outputs": [],
   "source": [
    "def func(func_name):\n",
    "    \n",
    "    def topla(*args):\n",
    "        total = 0 \n",
    "        for i in args:\n",
    "            total += i\n",
    "\n",
    "        return total\n",
    "\n",
    "    def carp(*args):\n",
    "        total = 1 \n",
    "        for i in args:\n",
    "            total *= i\n",
    "\n",
    "        return total\n",
    "    \n",
    "    if func_name == \"add\":\n",
    "        return topla\n",
    "    else:\n",
    "        return carp\n",
    "\n"
   ]
  },
  {
   "cell_type": "code",
   "execution_count": 18,
   "metadata": {},
   "outputs": [],
   "source": [
    "add = func(\"add\")"
   ]
  },
  {
   "cell_type": "code",
   "execution_count": 22,
   "metadata": {},
   "outputs": [
    {
     "data": {
      "text/plain": [
       "<function __main__.func.<locals>.carp(*args)>"
      ]
     },
     "execution_count": 22,
     "metadata": {},
     "output_type": "execute_result"
    }
   ],
   "source": [
    "func(\"mul\")"
   ]
  },
  {
   "cell_type": "code",
   "execution_count": 23,
   "metadata": {},
   "outputs": [
    {
     "name": "stdout",
     "output_type": "stream",
     "text": [
      "12\n"
     ]
    }
   ],
   "source": [
    "res_topla = add(5,7)\n",
    "print(res_topla)\n"
   ]
  },
  {
   "cell_type": "code",
   "execution_count": 24,
   "metadata": {},
   "outputs": [
    {
     "name": "stdout",
     "output_type": "stream",
     "text": [
      "35\n"
     ]
    }
   ],
   "source": [
    "res_carp = func(\"mul\")\n",
    "print(res_carp(5, 7))  # Should output the product: 35"
   ]
  },
  {
   "cell_type": "markdown",
   "metadata": {},
   "source": [
    "INDIRECT FUNC CALL"
   ]
  },
  {
   "cell_type": "code",
   "execution_count": 1,
   "metadata": {},
   "outputs": [],
   "source": [
    "\"\"\" \n",
    "After a def runs, the function name is simply a reference to an object—you can reassign that object to other names\n",
    "freely and call it through any reference\n",
    "\n",
    "\"\"\"\n",
    "\n",
    "\n",
    "def echo(greeting):\n",
    "    print(greeting)\n",
    "    "
   ]
  },
  {
   "cell_type": "code",
   "execution_count": 2,
   "metadata": {},
   "outputs": [
    {
     "name": "stdout",
     "output_type": "stream",
     "text": [
      "Selam\n"
     ]
    }
   ],
   "source": [
    "echo(\"Selam\")\n"
   ]
  },
  {
   "cell_type": "code",
   "execution_count": 3,
   "metadata": {},
   "outputs": [],
   "source": [
    "e = echo"
   ]
  },
  {
   "cell_type": "code",
   "execution_count": 4,
   "metadata": {},
   "outputs": [
    {
     "name": "stdout",
     "output_type": "stream",
     "text": [
      "Merhaba\n"
     ]
    }
   ],
   "source": [
    "e(\"Merhaba\")"
   ]
  },
  {
   "cell_type": "code",
   "execution_count": 5,
   "metadata": {},
   "outputs": [],
   "source": [
    "\"\"\" \n",
    "Because arguments are passed by assigning objects, it’s just as easy to pass functions to\n",
    "other functions as arguments. The callee may then call the passed-in function just by\n",
    "adding arguments in parentheses:\n",
    "\n",
    "\n",
    "\"\"\"\n",
    "\n",
    "\n",
    "def indirect_call_to_another_func(func, arg):\n",
    "    func(arg)"
   ]
  },
  {
   "cell_type": "code",
   "execution_count": 6,
   "metadata": {},
   "outputs": [
    {
     "name": "stdout",
     "output_type": "stream",
     "text": [
      "arg call example: pass the func to another func\n"
     ]
    }
   ],
   "source": [
    "indirect_call_to_another_func(echo, \"arg call example: pass the func to another func\")"
   ]
  },
  {
   "cell_type": "code",
   "execution_count": 17,
   "metadata": {},
   "outputs": [],
   "source": [
    "#functions can also be created and returned for use elsewhere\n",
    "\n",
    "def team(player):\n",
    "\n",
    "    \"\"\" \n",
    "    created and returned for use elsewhere\n",
    "    \n",
    "    \"\"\"\n",
    "    def pos(val):\n",
    "        print(player + \":\" + val)\n",
    "\n",
    "    return pos"
   ]
  },
  {
   "cell_type": "code",
   "execution_count": 18,
   "metadata": {},
   "outputs": [
    {
     "name": "stdout",
     "output_type": "stream",
     "text": [
      "Ebrar Karakurt:Outside Hitter\n"
     ]
    }
   ],
   "source": [
    "p = team(\"Ebrar Karakurt\")\n",
    "p(\"Outside Hitter\")"
   ]
  },
  {
   "cell_type": "code",
   "execution_count": 19,
   "metadata": {},
   "outputs": [
    {
     "name": "stdout",
     "output_type": "stream",
     "text": [
      "Ebrar Karakurt:Opposite\n"
     ]
    }
   ],
   "source": [
    "p(\"Opposite\")"
   ]
  },
  {
   "cell_type": "markdown",
   "metadata": {},
   "source": [
    "INSPECT FUNC ATTRIBUTES\n",
    "\n",
    "allow us to explore implementation details\n",
    "\n",
    "functions have attached code objects\n",
    "\n",
    "make use of such information to manage functions"
   ]
  },
  {
   "cell_type": "code",
   "execution_count": 20,
   "metadata": {},
   "outputs": [
    {
     "data": {
      "text/plain": [
       "'team'"
      ]
     },
     "execution_count": 20,
     "metadata": {},
     "output_type": "execute_result"
    }
   ],
   "source": [
    "team.__name__"
   ]
  },
  {
   "cell_type": "code",
   "execution_count": 21,
   "metadata": {},
   "outputs": [
    {
     "data": {
      "text/plain": [
       "['__annotations__',\n",
       " '__builtins__',\n",
       " '__call__',\n",
       " '__class__',\n",
       " '__closure__',\n",
       " '__code__',\n",
       " '__defaults__',\n",
       " '__delattr__',\n",
       " '__dict__',\n",
       " '__dir__',\n",
       " '__doc__',\n",
       " '__eq__',\n",
       " '__format__',\n",
       " '__ge__',\n",
       " '__get__',\n",
       " '__getattribute__',\n",
       " '__getstate__',\n",
       " '__globals__',\n",
       " '__gt__',\n",
       " '__hash__',\n",
       " '__init__',\n",
       " '__init_subclass__',\n",
       " '__kwdefaults__',\n",
       " '__le__',\n",
       " '__lt__',\n",
       " '__module__',\n",
       " '__name__',\n",
       " '__ne__',\n",
       " '__new__',\n",
       " '__qualname__',\n",
       " '__reduce__',\n",
       " '__reduce_ex__',\n",
       " '__repr__',\n",
       " '__setattr__',\n",
       " '__sizeof__',\n",
       " '__str__',\n",
       " '__subclasshook__',\n",
       " '__type_params__']"
      ]
     },
     "execution_count": 21,
     "metadata": {},
     "output_type": "execute_result"
    }
   ],
   "source": [
    "dir(team)"
   ]
  },
  {
   "cell_type": "code",
   "execution_count": 22,
   "metadata": {},
   "outputs": [
    {
     "data": {
      "text/plain": [
       "' \\n    created and returned for use elsewhere\\n    \\n    '"
      ]
     },
     "execution_count": 22,
     "metadata": {},
     "output_type": "execute_result"
    }
   ],
   "source": [
    "team.__doc__"
   ]
  },
  {
   "cell_type": "code",
   "execution_count": 23,
   "metadata": {},
   "outputs": [
    {
     "data": {
      "text/plain": [
       "<code object team at 0x73bedcced450, file \"/tmp/ipykernel_8242/4286449811.py\", line 3>"
      ]
     },
     "execution_count": 23,
     "metadata": {},
     "output_type": "execute_result"
    }
   ],
   "source": [
    "team.__code__"
   ]
  },
  {
   "cell_type": "code",
   "execution_count": 25,
   "metadata": {},
   "outputs": [
    {
     "data": {
      "text/plain": [
       "['__class__',\n",
       " '__delattr__',\n",
       " '__dir__',\n",
       " '__doc__',\n",
       " '__eq__',\n",
       " '__format__',\n",
       " '__ge__',\n",
       " '__getattribute__',\n",
       " '__getstate__',\n",
       " '__gt__',\n",
       " '__hash__',\n",
       " '__init__',\n",
       " '__init_subclass__',\n",
       " '__le__',\n",
       " '__lt__',\n",
       " '__ne__',\n",
       " '__new__',\n",
       " '__reduce__',\n",
       " '__reduce_ex__',\n",
       " '__repr__',\n",
       " '__setattr__',\n",
       " '__sizeof__',\n",
       " '__str__',\n",
       " '__subclasshook__',\n",
       " '_co_code_adaptive',\n",
       " '_varname_from_oparg',\n",
       " 'co_argcount',\n",
       " 'co_cellvars',\n",
       " 'co_code',\n",
       " 'co_consts',\n",
       " 'co_exceptiontable',\n",
       " 'co_filename',\n",
       " 'co_firstlineno',\n",
       " 'co_flags',\n",
       " 'co_freevars',\n",
       " 'co_kwonlyargcount',\n",
       " 'co_lines',\n",
       " 'co_linetable',\n",
       " 'co_lnotab',\n",
       " 'co_name',\n",
       " 'co_names',\n",
       " 'co_nlocals',\n",
       " 'co_positions',\n",
       " 'co_posonlyargcount',\n",
       " 'co_qualname',\n",
       " 'co_stacksize',\n",
       " 'co_varnames',\n",
       " 'replace']"
      ]
     },
     "execution_count": 25,
     "metadata": {},
     "output_type": "execute_result"
    }
   ],
   "source": [
    "dir(team.__code__)"
   ]
  },
  {
   "cell_type": "code",
   "execution_count": 26,
   "metadata": {},
   "outputs": [
    {
     "data": {
      "text/plain": [
       "1"
      ]
     },
     "execution_count": 26,
     "metadata": {},
     "output_type": "execute_result"
    }
   ],
   "source": [
    "team.__code__.co_argcount"
   ]
  },
  {
   "cell_type": "code",
   "execution_count": 27,
   "metadata": {},
   "outputs": [
    {
     "data": {
      "text/plain": [
       "('player', 'pos')"
      ]
     },
     "execution_count": 27,
     "metadata": {},
     "output_type": "execute_result"
    }
   ],
   "source": [
    "team.__code__.co_varnames"
   ]
  },
  {
   "cell_type": "markdown",
   "metadata": {},
   "source": [
    "FUNCTİON ANNOTATIONS"
   ]
  },
  {
   "cell_type": "code",
   "execution_count": 47,
   "metadata": {},
   "outputs": [],
   "source": [
    "def fonk(a: int, b: (1,2,3,4,5), c: float, d: \"whatever\") -> int:\n",
    "    return a + b + c + d"
   ]
  },
  {
   "cell_type": "code",
   "execution_count": 48,
   "metadata": {},
   "outputs": [
    {
     "data": {
      "text/plain": [
       "10"
      ]
     },
     "execution_count": 48,
     "metadata": {},
     "output_type": "execute_result"
    }
   ],
   "source": [
    "fonk(1, 2, 3, 4)"
   ]
  },
  {
   "cell_type": "code",
   "execution_count": 49,
   "metadata": {},
   "outputs": [
    {
     "data": {
      "text/plain": [
       "{'a': int, 'b': (1, 2, 3, 4, 5), 'c': float, 'd': 'whatever', 'return': int}"
      ]
     },
     "execution_count": 49,
     "metadata": {},
     "output_type": "execute_result"
    }
   ],
   "source": [
    "fonk.__annotations__"
   ]
  },
  {
   "cell_type": "code",
   "execution_count": 45,
   "metadata": {},
   "outputs": [
    {
     "name": "stdout",
     "output_type": "stream",
     "text": [
      "a ==> <class 'int'>\n",
      "b ==> (1, 2, 3, 4, 5)\n",
      "c ==> <class 'float'>\n",
      "d ==> whatever\n",
      "return ==> <class 'int'>\n"
     ]
    }
   ],
   "source": [
    "for i in fonk.__annotations__:\n",
    "    print(i,\"==>\", fonk.__annotations__[i])"
   ]
  },
  {
   "cell_type": "code",
   "execution_count": null,
   "metadata": {},
   "outputs": [],
   "source": [
    "#you can still use defaults for arguments if you code annotations\n",
    "\n",
    "def fonkdefvals(a: int = 4, b: (1,2,3,4,5) = 7, c: float = 9, d: \"whatever\" = 13) -> int:\n",
    "    return a + b + c + d"
   ]
  },
  {
   "cell_type": "code",
   "execution_count": 51,
   "metadata": {},
   "outputs": [
    {
     "data": {
      "text/plain": [
       "33"
      ]
     },
     "execution_count": 51,
     "metadata": {},
     "output_type": "execute_result"
    }
   ],
   "source": [
    "fonkdefvals()"
   ]
  },
  {
   "cell_type": "code",
   "execution_count": null,
   "metadata": {},
   "outputs": [],
   "source": []
  },
  {
   "cell_type": "code",
   "execution_count": null,
   "metadata": {},
   "outputs": [],
   "source": []
  },
  {
   "cell_type": "code",
   "execution_count": null,
   "metadata": {},
   "outputs": [],
   "source": []
  },
  {
   "cell_type": "code",
   "execution_count": null,
   "metadata": {},
   "outputs": [],
   "source": []
  },
  {
   "cell_type": "code",
   "execution_count": null,
   "metadata": {},
   "outputs": [],
   "source": []
  },
  {
   "cell_type": "code",
   "execution_count": null,
   "metadata": {},
   "outputs": [],
   "source": []
  },
  {
   "cell_type": "markdown",
   "metadata": {},
   "source": [
    "### Summation with Recursion"
   ]
  },
  {
   "cell_type": "code",
   "execution_count": 56,
   "metadata": {},
   "outputs": [],
   "source": [
    "def topla(seq):\n",
    "    print(\"*****\")\n",
    "    print(seq)\n",
    "    \n",
    "    if not seq:\n",
    "        return 0\n",
    "    else:\n",
    "        print(f\"seq[0] --> {seq[0]} + seq[1:] --> {seq[1:]}\")\n",
    "        print(seq[0],\"+\", seq[1:])\n",
    "        return seq[0] + topla(seq[1:])"
   ]
  },
  {
   "cell_type": "code",
   "execution_count": 27,
   "metadata": {},
   "outputs": [],
   "source": [
    "liste = [1,2,3,4,5]"
   ]
  },
  {
   "cell_type": "code",
   "execution_count": 58,
   "metadata": {},
   "outputs": [
    {
     "name": "stdout",
     "output_type": "stream",
     "text": [
      "*****\n",
      "[1, 2, 3, 4, 5]\n",
      "seq[0] --> 1 + seq[1:] --> [2, 3, 4, 5]\n",
      "1 + [2, 3, 4, 5]\n",
      "*****\n",
      "[2, 3, 4, 5]\n",
      "seq[0] --> 2 + seq[1:] --> [3, 4, 5]\n",
      "2 + [3, 4, 5]\n",
      "*****\n",
      "[3, 4, 5]\n",
      "seq[0] --> 3 + seq[1:] --> [4, 5]\n",
      "3 + [4, 5]\n",
      "*****\n",
      "[4, 5]\n",
      "seq[0] --> 4 + seq[1:] --> [5]\n",
      "4 + [5]\n",
      "*****\n",
      "[5]\n",
      "seq[0] --> 5 + seq[1:] --> []\n",
      "5 + []\n",
      "*****\n",
      "[]\n"
     ]
    },
    {
     "data": {
      "text/plain": [
       "15"
      ]
     },
     "execution_count": 58,
     "metadata": {},
     "output_type": "execute_result"
    }
   ],
   "source": [
    "topla(liste)"
   ]
  },
  {
   "cell_type": "markdown",
   "metadata": {},
   "source": [
    "Let's try to trace the recursive operations\n",
    "\n",
    "At each level, this function calls itself recursively to compute the sum of the rest of thelist, which is later added to the item at the front.\n",
    "\n",
    "\n",
    "The list to be summed grows smaller at each recursive level, until it becomes empty—the termination of the recursive loop. \n",
    "\n",
    "\n",
    "**The sum is computed as the recursive calls unwind on returns:**\n",
    "\n",
    "\n",
    "\n",
    "seq[0] + topla(seq[1:])      -  yapılacak işlemleri önce yukardan aşağıya açarak sonra aşağıdan yukarıya operasyonları tamamlatarak bittiğini düşünün\n",
    "\n",
    "1 + [ 2,3,4,5]      #topla([1, 2, 3, 4, 5]) returns 1 + 14 = 15\n",
    "\n",
    "2 + [3,4,5]         #topla([2, 3, 4, 5]) returns 2 + 12 = 14\n",
    "\n",
    "3 + [4,5]           #topla([3, 4, 5]) returns 3 + 9 = 12\n",
    "\n",
    "4 + [5]             #topla([4, 5]) returns 4 + 5 = 9\n",
    "\n",
    "5 +[]               #topla([5]) returns 5 + 0 = 5\n",
    "\n",
    "0                   #topla([]) returns 0\n",
    "\n",
    "\n",
    "When using recursion like this, each open level of call to the function has its own copy of the function’s local scope on the runtime call stack—here, that means seq is different in each level."
   ]
  },
  {
   "cell_type": "code",
   "execution_count": 59,
   "metadata": {},
   "outputs": [],
   "source": [
    "def toplama(seq):\n",
    "    return 0 if not seq else seq[0] + toplama(seq[1:])"
   ]
  },
  {
   "cell_type": "code",
   "execution_count": 60,
   "metadata": {},
   "outputs": [
    {
     "data": {
      "text/plain": [
       "15"
      ]
     },
     "execution_count": 60,
     "metadata": {},
     "output_type": "execute_result"
    }
   ],
   "source": [
    "toplama(liste)"
   ]
  },
  {
   "cell_type": "code",
   "execution_count": 32,
   "metadata": {},
   "outputs": [],
   "source": [
    "#indirect recursion - a func that call another func, which calls back to its caller, indirectly recursive\n",
    "\n",
    "\n",
    "def toplama(seq):\n",
    "    if not seq: return 0\n",
    "    return bosdegil(seq)\n",
    "\n",
    "def bosdegil(seq):\n",
    "    return seq[0] + toplama(seq[1:])\n"
   ]
  },
  {
   "cell_type": "code",
   "execution_count": 33,
   "metadata": {},
   "outputs": [
    {
     "data": {
      "text/plain": [
       "15"
      ]
     },
     "execution_count": 33,
     "metadata": {},
     "output_type": "execute_result"
    }
   ],
   "source": [
    "toplama(liste)"
   ]
  },
  {
   "cell_type": "code",
   "execution_count": null,
   "metadata": {},
   "outputs": [
    {
     "data": {
      "text/plain": [
       "36"
      ]
     },
     "execution_count": 34,
     "metadata": {},
     "output_type": "execute_result"
    }
   ],
   "source": [
    "#the following code accommodates such general nest ing by using recursion to visit sublists along the way\n",
    "liste1 =  [1, [2, [3, 4], 5], 6, [7, 8]]\n",
    " \n",
    "def totaltree(seq):\n",
    "    \"\"\" \n",
    "    This code defines a recursive function totaltree that calculates the sum of all numbers within a nested list, including numbers within any sublists, no matter how deeply nested.   \n",
    "    \n",
    "    \"\"\"\n",
    "\n",
    "\n",
    "\n",
    "    total = 0\n",
    "    for i in seq:\n",
    "        if not isinstance(i, list):\n",
    "            total += i\n",
    "\n",
    "        else:\n",
    "            total += totaltree(i)\n",
    "\n",
    "    return total\n",
    "\n",
    "\n",
    "\n",
    "totaltree(liste1)"
   ]
  },
  {
   "cell_type": "code",
   "execution_count": 54,
   "metadata": {},
   "outputs": [],
   "source": [
    "def expo(base):\n",
    "    def pow(power):\n",
    "        return base ** power\n",
    "    \n",
    "    return pow\n"
   ]
  },
  {
   "cell_type": "code",
   "execution_count": 55,
   "metadata": {},
   "outputs": [
    {
     "data": {
      "text/plain": [
       "81"
      ]
     },
     "execution_count": 55,
     "metadata": {},
     "output_type": "execute_result"
    }
   ],
   "source": [
    "expo(3)(4)"
   ]
  },
  {
   "cell_type": "code",
   "execution_count": 56,
   "metadata": {},
   "outputs": [
    {
     "data": {
      "text/plain": [
       "81"
      ]
     },
     "execution_count": 56,
     "metadata": {},
     "output_type": "execute_result"
    }
   ],
   "source": [
    "f = expo(3)\n",
    "f(4)"
   ]
  },
  {
   "cell_type": "markdown",
   "metadata": {},
   "source": [
    "FONSİYONLARI PARAMETRE OLARAK GÖNDERME\n"
   ]
  },
  {
   "cell_type": "code",
   "execution_count": 63,
   "metadata": {},
   "outputs": [],
   "source": [
    "#pos veya çift sayıları bir listeden filtreleyelim\n",
    "\n",
    "def filtre(fn, seq):\n",
    "    res = []\n",
    "\n",
    "    for i in seq:\n",
    "        if fn(i):\n",
    "            res.append(i)\n",
    "\n",
    "    return res\n",
    "\n",
    "\n",
    "\n",
    "def even(num):\n",
    "    return num % 2 == 0\n",
    "\n",
    "def pos(num):\n",
    "    return num > 0\n",
    "\n",
    "nums = [1,2,3,5,7,8,9,-6,-4]"
   ]
  },
  {
   "cell_type": "code",
   "execution_count": 64,
   "metadata": {},
   "outputs": [
    {
     "data": {
      "text/plain": [
       "[2, 8, -6, -4]"
      ]
     },
     "execution_count": 64,
     "metadata": {},
     "output_type": "execute_result"
    }
   ],
   "source": [
    "filtre(even, nums)"
   ]
  },
  {
   "cell_type": "code",
   "execution_count": 65,
   "metadata": {},
   "outputs": [
    {
     "data": {
      "text/plain": [
       "[1, 2, 3, 5, 7, 8, 9]"
      ]
     },
     "execution_count": 65,
     "metadata": {},
     "output_type": "execute_result"
    }
   ],
   "source": [
    "filtre(pos, nums)"
   ]
  },
  {
   "cell_type": "code",
   "execution_count": 66,
   "metadata": {},
   "outputs": [],
   "source": [
    "#using lambda funcs\n",
    "\n",
    "#in nested function scopes is that a lambda also has access to the names in any enclosing lambda. \n",
    "\n",
    "nested_lambda = (lambda x: ( lambda y: x + y))"
   ]
  },
  {
   "cell_type": "code",
   "execution_count": 67,
   "metadata": {},
   "outputs": [
    {
     "data": {
      "text/plain": [
       "30"
      ]
     },
     "execution_count": 67,
     "metadata": {},
     "output_type": "execute_result"
    }
   ],
   "source": [
    "nested_lambda(10)(20)"
   ]
  },
  {
   "cell_type": "markdown",
   "metadata": {},
   "source": [
    "CLASS DECORATORS"
   ]
  },
  {
   "cell_type": "code",
   "execution_count": null,
   "metadata": {},
   "outputs": [],
   "source": [
    "#This example demonstrates how a decorator can wrap a class, allowing it to intercept instance creation and attribute access.\n",
    "\n",
    "def decorator(cls):\n",
    "    class Wrapper:\n",
    "        def __init__(self, *args):  #self.wrapped holds an instance of cls (in this case, an instance of C), initialized with whatever arguments were passed when creating a Wrapper instance. This will allow Wrapper to act as a proxy to C.\n",
    "\n",
    "            self.wrapped = cls(*args)  #self.wrapped holds an instance of cls (in this case, an instance of C), initialized with whatever arguments were passed when creating a Wrapper instance.\n",
    "\n",
    "        def __getattr__(self, name):        #forwards any attribute access to the self.wrapped object\n",
    "\n",
    "            return getattr(self.wrapped, name)  \n",
    "            1#If you try to access an attribute on the Wrapper instance that isn’t defined on Wrapper itself, __getattr__ fetches it from self.wrapped (the C instance). \n",
    "            #getattr(self.wrapped, name) fetches the attribute with the name specified by name from self.wrapped (the original C instance).\n",
    "        \n",
    "    return Wrapper      #he decorator function returns the Wrapper class, not an instance of it. This effectively replaces C with Wrapper when C is decorated with @decorator.\n",
    "\n",
    "\n",
    "\n",
    "#When we use @decorator before the definition of C, it’s equivalent to writing C = decorator(C). This replaces C with the Wrapper class, which wraps instances of C.\n",
    "@decorator  \n",
    "class C:\n",
    "    def __init__(self, x , y):\n",
    "        self.attr = x + y\n",
    "        \n",
    "\n",
    "\n",
    "\n",
    "            "
   ]
  },
  {
   "cell_type": "code",
   "execution_count": 10,
   "metadata": {},
   "outputs": [],
   "source": [
    "wrapped_instance = C(5,8)      #C(6, 7) creates an instance of C. However, since C was replaced with Wrapper by the decorator, it actually creates an instance of Wrapper\n",
    "\n",
    "#This calls Wrapper.__init__, which in turn creates an instance of the original C class by calling cls(*args). So self.wrapped becomes an instance of C, initialized with x = 5 and y = 8.\n",
    "\n",
    "#Now, wrapped_instance is an instance of Wrapper, wrapping an instance of C inside self.wrapped."
   ]
  },
  {
   "cell_type": "code",
   "execution_count": 11,
   "metadata": {},
   "outputs": [
    {
     "name": "stdout",
     "output_type": "stream",
     "text": [
      "<__main__.decorator.<locals>.Wrapper object at 0x7a70bff36d50>\n"
     ]
    }
   ],
   "source": [
    "print(wrapped_instance)"
   ]
  },
  {
   "cell_type": "code",
   "execution_count": 12,
   "metadata": {},
   "outputs": [
    {
     "data": {
      "text/plain": [
       "13"
      ]
     },
     "execution_count": 12,
     "metadata": {},
     "output_type": "execute_result"
    }
   ],
   "source": [
    "wrapped_instance.attr"
   ]
  },
  {
   "cell_type": "code",
   "execution_count": 13,
   "metadata": {},
   "outputs": [],
   "source": [
    "#Decorator Nesting\n",
    "\n",
    "def deco1(func): return func\n",
    "def deco2(func): return func\n",
    "def deco3(func): return func\n",
    "\n",
    "@deco1\n",
    "@deco2\n",
    "@deco3\n",
    "def fonksiyon():\n",
    "    print(\" I am a multiple decorated function\")"
   ]
  },
  {
   "cell_type": "code",
   "execution_count": 14,
   "metadata": {},
   "outputs": [
    {
     "name": "stdout",
     "output_type": "stream",
     "text": [
      " I am a multiple decorated function\n"
     ]
    }
   ],
   "source": [
    "fonksiyon()"
   ]
  },
  {
   "cell_type": "code",
   "execution_count": 15,
   "metadata": {},
   "outputs": [],
   "source": [
    "#decorator nesting on classes\n",
    "\n",
    "def decor1(func): return lambda: \"A\" + func()\n",
    "def decor2(func): return lambda: \"B\" + func()\n",
    "def decor3(func): return lambda: \"C\" + func()\n",
    "\n",
    "@decor1\n",
    "@decor2\n",
    "@decor3\n",
    "def fonksiyon():\n",
    "    return \"'s of multiple decorated function\""
   ]
  },
  {
   "cell_type": "code",
   "execution_count": 16,
   "metadata": {},
   "outputs": [
    {
     "data": {
      "text/plain": [
       "\"ABC's of multiple decorated function\""
      ]
     },
     "execution_count": 16,
     "metadata": {},
     "output_type": "execute_result"
    }
   ],
   "source": [
    "fonksiyon()"
   ]
  },
  {
   "cell_type": "code",
   "execution_count": null,
   "metadata": {},
   "outputs": [],
   "source": []
  }
 ],
 "metadata": {
  "kernelspec": {
   "display_name": "base",
   "language": "python",
   "name": "python3"
  },
  "language_info": {
   "codemirror_mode": {
    "name": "ipython",
    "version": 3
   },
   "file_extension": ".py",
   "mimetype": "text/x-python",
   "name": "python",
   "nbconvert_exporter": "python",
   "pygments_lexer": "ipython3",
   "version": "3.12.7"
  }
 },
 "nbformat": 4,
 "nbformat_minor": 2
}
