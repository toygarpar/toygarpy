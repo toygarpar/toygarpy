{
 "cells": [
  {
   "cell_type": "code",
   "execution_count": 4,
   "id": "c478f13a-e7e4-4ad1-9587-2e3590609294",
   "metadata": {},
   "outputs": [],
   "source": [
    "import mysql.connector"
   ]
  },
  {
   "cell_type": "code",
   "execution_count": 5,
   "id": "350f0e47-7158-4f10-aa2d-6690daa3b5f8",
   "metadata": {},
   "outputs": [
    {
     "name": "stdout",
     "output_type": "stream",
     "text": [
      "1 tane kayıt updated/güncellendi\n",
      "database bağlantısı kapandı\n"
     ]
    }
   ],
   "source": [
    "def getProducts():\n",
    "    conn = mysql.connector.connect(\n",
    "        host =\"127.0.0.1\",\n",
    "        port = 3306,\n",
    "        user = \"toygar\",\n",
    "        password = \"xxxxxxx\",\n",
    "        database = \"node-app\" )\n",
    "\n",
    "    cursor = conn.cursor()\n",
    "\n",
    "    sql = \"SELECT * FROM products;\"\n",
    "    \n",
    "\n",
    "    cursor.execute(sql)\n",
    "\n",
    "    \n",
    "    \n",
    "    result = cursor.fetchall()\n",
    "    print(result)\n",
    "    for urun in result:\n",
    "        \n",
    "        print(f\" id: {urun[0]}  name: {urun[1]} price: {urun[2]}\")\n",
    "\n",
    "            \n",
    "        print(\"************\")\n",
    "    \n",
    "    \n",
    "    conn.close()\n",
    "    print(\"database bağlantısı kapandı\")\n",
    "\n",
    "#getProducts(1)\n",
    "#getProducts(3)\n",
    "\n",
    "def updateProduct():\n",
    "    conn = mysql.connector.connect(\n",
    "        host =\"127.0.0.1\",\n",
    "        port = 3306,\n",
    "        user = \"toygar\",\n",
    "        password = \"xxxxxxx\",\n",
    "        database = \"node-app\" )\n",
    "\n",
    "    cursor = conn.cursor()\n",
    "\n",
    "    sql = \"update products set name = 'Samsung S10' where id = 3;\"\n",
    "    \n",
    "\n",
    "    cursor.execute(sql)\n",
    "\n",
    "    \n",
    "    \n",
    "    try:\n",
    "    \n",
    "        conn.commit()\n",
    "        print(f\"{cursor.rowcount} tane kayıt updated/güncellendi\")\n",
    "        \n",
    "        \n",
    "        cursor.close()\n",
    "    \n",
    "    except mysql.connector.Error as err:\n",
    "        print(\"hata : \", err)\n",
    "    \n",
    "    finally:\n",
    "        conn.close()\n",
    "        print(\"database bağlantısı kapandı\")\n",
    "\n",
    "\n",
    "updateProduct()"
   ]
  },
  {
   "cell_type": "code",
   "execution_count": 6,
   "id": "b261f46d-211b-45de-8a68-5dd6baf31145",
   "metadata": {},
   "outputs": [
    {
     "name": "stdout",
     "output_type": "stream",
     "text": [
      "[(1, 'Huawei', Decimal('5000'), '3.jpg', 'myphone'), (2, 'Casper', Decimal('5000'), '123.jpg', 'good phone'), (3, 'Samsung S10', Decimal('5000'), '1234.jpg', 'good phone'), (4, 'Iphone 15 Max', Decimal('90000'), '6547.jpg', 'excellent phone'), (5, 'Iphone 7', Decimal('15000'), '125.jpg', 'old phone'), (6, 'Xiaomi', Decimal('20000'), '1234.jpg', 'phone')]\n",
      " id: 1  name: Huawei price: 5000\n",
      "************\n",
      " id: 2  name: Casper price: 5000\n",
      "************\n",
      " id: 3  name: Samsung S10 price: 5000\n",
      "************\n",
      " id: 4  name: Iphone 15 Max price: 90000\n",
      "************\n",
      " id: 5  name: Iphone 7 price: 15000\n",
      "************\n",
      " id: 6  name: Xiaomi price: 20000\n",
      "************\n",
      "database bağlantısı kapandı\n"
     ]
    }
   ],
   "source": [
    "getProducts()"
   ]
  },
  {
   "cell_type": "code",
   "execution_count": 7,
   "id": "d396380a-ea8e-48dd-b267-d7eafc5e3c21",
   "metadata": {},
   "outputs": [
    {
     "name": "stdout",
     "output_type": "stream",
     "text": [
      "1 tane kayıt updated/güncellendi\n",
      "database bağlantısı kapandı\n"
     ]
    }
   ],
   "source": [
    "def updateProduct(id, name, price):\n",
    "    conn = mysql.connector.connect(\n",
    "        host =\"127.0.0.1\",\n",
    "        port = 3306,\n",
    "        user = \"toygar\",\n",
    "        password = \"xxxxxxx\",\n",
    "        database = \"node-app\" )\n",
    "\n",
    "    cursor = conn.cursor()\n",
    "\n",
    "    \n",
    "    sql = \"update products set name = %s, price = %s where id = %s;\"\n",
    "    \n",
    "    vals = (name, price, id)\n",
    "\n",
    "    cursor.execute(sql, vals)\n",
    "\n",
    "    \n",
    "    \n",
    "    try:\n",
    "    \n",
    "        conn.commit()\n",
    "        print(f\"{cursor.rowcount} tane kayıt updated/güncellendi\")\n",
    "        \n",
    "        \n",
    "        cursor.close()\n",
    "    \n",
    "    except mysql.connector.Error as err:\n",
    "        print(\"hata : \", err)\n",
    "    \n",
    "    finally:\n",
    "        conn.close()\n",
    "        print(\"database bağlantısı kapandı\")\n",
    "\n",
    "\n",
    "updateProduct(3, \"Samsung S7\", 5000)"
   ]
  },
  {
   "cell_type": "code",
   "execution_count": 8,
   "id": "dd1bfa72-eb94-4377-8b7e-8148c2b2944a",
   "metadata": {},
   "outputs": [
    {
     "name": "stdout",
     "output_type": "stream",
     "text": [
      "[(1, 'Huawei', Decimal('5000'), '3.jpg', 'myphone'), (2, 'Casper', Decimal('5000'), '123.jpg', 'good phone'), (3, 'Samsung S7', Decimal('5000'), '1234.jpg', 'good phone'), (4, 'Iphone 15 Max', Decimal('90000'), '6547.jpg', 'excellent phone'), (5, 'Iphone 7', Decimal('15000'), '125.jpg', 'old phone'), (6, 'Xiaomi', Decimal('20000'), '1234.jpg', 'phone')]\n",
      " id: 1  name: Huawei price: 5000\n",
      "************\n",
      " id: 2  name: Casper price: 5000\n",
      "************\n",
      " id: 3  name: Samsung S7 price: 5000\n",
      "************\n",
      " id: 4  name: Iphone 15 Max price: 90000\n",
      "************\n",
      " id: 5  name: Iphone 7 price: 15000\n",
      "************\n",
      " id: 6  name: Xiaomi price: 20000\n",
      "************\n",
      "database bağlantısı kapandı\n"
     ]
    }
   ],
   "source": [
    "getProducts()"
   ]
  },
  {
   "cell_type": "code",
   "execution_count": 9,
   "id": "32c74f84-7538-4235-b354-f8797200b9fd",
   "metadata": {},
   "outputs": [
    {
     "name": "stdout",
     "output_type": "stream",
     "text": [
      "0 tane kayıt updated/güncellendi\n",
      "database bağlantısı kapandı\n"
     ]
    }
   ],
   "source": [
    "def updateProduct(id, name, price):\n",
    "    conn = mysql.connector.connect(\n",
    "        host =\"127.0.0.1\",\n",
    "        port = 3306,\n",
    "        user = \"toygar\",\n",
    "        password = \"xxxxxxx\",\n",
    "        database = \"node-app\" )\n",
    "\n",
    "    cursor = conn.cursor()\n",
    "\n",
    "    if name != \"\":\n",
    "        sql = \"update products set name = %s, price = %s where id = %s;\"\n",
    "        \n",
    "        vals = (name, price, id)\n",
    "\n",
    "    cursor.execute(sql, vals)\n",
    "\n",
    "    \n",
    "    \n",
    "    try:\n",
    "    \n",
    "        conn.commit()\n",
    "        print(f\"{cursor.rowcount} tane kayıt updated/güncellendi\")\n",
    "        \n",
    "        \n",
    "        cursor.close()\n",
    "    \n",
    "    except mysql.connector.Error as err:\n",
    "        print(\"hata : \", err)\n",
    "    \n",
    "    finally:\n",
    "        conn.close()\n",
    "        print(\"database bağlantısı kapandı\")\n",
    "\n",
    "\n",
    "updateProduct(3, \"Samsung S7\", 5000)"
   ]
  },
  {
   "cell_type": "code",
   "execution_count": 11,
   "id": "6170042e-1b00-4007-9cb6-427be7926e5f",
   "metadata": {},
   "outputs": [
    {
     "name": "stdout",
     "output_type": "stream",
     "text": [
      "1 tane kayıt silindi\n",
      "database bağlantısı kapandı\n"
     ]
    }
   ],
   "source": [
    "import mysql.connector\n",
    "def deleteProducts():\n",
    "    conn = mysql.connector.connect(\n",
    "        host =\"127.0.0.1\",\n",
    "        port = 3306,\n",
    "        user = \"toygar\",\n",
    "        password = \"xxxxxxx\",\n",
    "        database = \"node-app\" )\n",
    "\n",
    "    cursor = conn.cursor()\n",
    "\n",
    "    \n",
    "    sql = \"delete from products where id = 6;\"\n",
    "    \n",
    "    \n",
    "\n",
    "    cursor.execute(sql)\n",
    "\n",
    "    \n",
    "    \n",
    "    try:\n",
    "    \n",
    "        conn.commit()\n",
    "        print(f\"{cursor.rowcount} tane kayıt silindi\")\n",
    "        \n",
    "        \n",
    "        cursor.close()\n",
    "    \n",
    "    except mysql.connector.Error as err:\n",
    "        print(\"hata : \", err)\n",
    "    \n",
    "    finally:\n",
    "        conn.close()\n",
    "        print(\"database bağlantısı kapandı\")\n",
    "\n",
    "\n",
    "deleteProducts()"
   ]
  },
  {
   "cell_type": "code",
   "execution_count": 15,
   "id": "f0909e4b-fb39-44f0-8d77-e875a6d62882",
   "metadata": {},
   "outputs": [
    {
     "name": "stdout",
     "output_type": "stream",
     "text": [
      "1 tane kayıt eklendi\n",
      "database bağlantısı kapandı\n"
     ]
    }
   ],
   "source": [
    "import mysql.connector\n",
    "def insertProducts():\n",
    "    conn = mysql.connector.connect(\n",
    "        host =\"127.0.0.1\",\n",
    "        port = 3306,\n",
    "        user = \"toygar\",\n",
    "        password = \"xxxxxxx\",\n",
    "        database = \"node-app\" )\n",
    "\n",
    "    cursor = conn.cursor()\n",
    "\n",
    "    \n",
    "    sql = \"\"\"INSERT INTO products ( id, name, price, ImageUrl, description) VALUES (6,  \"Xiaomi\", 15000, \"44556.jpg\", \"phone phone\");\"\"\"\n",
    "    \n",
    "    \n",
    "\n",
    "    cursor.execute(sql)\n",
    "\n",
    "    \n",
    "    \n",
    "    try:\n",
    "    \n",
    "        conn.commit()\n",
    "        print(f\"{cursor.rowcount} tane kayıt eklendi\")\n",
    "        \n",
    "        \n",
    "        cursor.close()\n",
    "    \n",
    "    except mysql.connector.Error as err:\n",
    "        print(\"hata : \", err)\n",
    "    \n",
    "    finally:\n",
    "        conn.close()\n",
    "        print(\"database bağlantısı kapandı\")\n",
    "\n",
    "\n",
    "insertProducts()"
   ]
  },
  {
   "cell_type": "code",
   "execution_count": 16,
   "id": "80a9c807-fc2a-4be9-8b61-2da5b56d7b23",
   "metadata": {},
   "outputs": [
    {
     "name": "stdout",
     "output_type": "stream",
     "text": [
      "[(1, 'Huawei', Decimal('5000'), '3.jpg', 'myphone'), (2, 'Casper', Decimal('5000'), '123.jpg', 'good phone'), (3, 'Samsung S7', Decimal('5000'), '1234.jpg', 'good phone'), (4, 'Iphone 15 Max', Decimal('90000'), '6547.jpg', 'excellent phone'), (5, 'Iphone 7', Decimal('15000'), '125.jpg', 'old phone'), (6, 'Xiaomi', Decimal('15000'), '44556.jpg', 'phone phone'), (7, 'Xiaomi', Decimal('15000'), '44556.jpg', 'phone phone')]\n",
      " id: 1  name: Huawei price: 5000\n",
      "************\n",
      " id: 2  name: Casper price: 5000\n",
      "************\n",
      " id: 3  name: Samsung S7 price: 5000\n",
      "************\n",
      " id: 4  name: Iphone 15 Max price: 90000\n",
      "************\n",
      " id: 5  name: Iphone 7 price: 15000\n",
      "************\n",
      " id: 6  name: Xiaomi price: 15000\n",
      "************\n",
      " id: 7  name: Xiaomi price: 15000\n",
      "************\n",
      "database bağlantısı kapandı\n"
     ]
    }
   ],
   "source": [
    "getProducts()"
   ]
  },
  {
   "cell_type": "code",
   "execution_count": 17,
   "id": "56825284-99dd-4819-b40e-c207fdd6bfc8",
   "metadata": {},
   "outputs": [
    {
     "name": "stdout",
     "output_type": "stream",
     "text": [
      "1 tane kayıt silindi\n",
      "database bağlantısı kapandı\n"
     ]
    }
   ],
   "source": [
    "import mysql.connector\n",
    "def deleteProducts(id):\n",
    "    conn = mysql.connector.connect(\n",
    "        host =\"127.0.0.1\",\n",
    "        port = 3306,\n",
    "        user = \"toygar\",\n",
    "        password = \"xxxxxxx\",\n",
    "        database = \"node-app\" )\n",
    "\n",
    "    cursor = conn.cursor()\n",
    "\n",
    "    \n",
    "    sql = \"delete from products where id = %s;\"\n",
    "    \n",
    "    vals = (id,)\n",
    "\n",
    "    cursor.execute(sql, vals)\n",
    "\n",
    "    \n",
    "    \n",
    "    try:\n",
    "    \n",
    "        conn.commit()\n",
    "        print(f\"{cursor.rowcount} tane kayıt silindi\")\n",
    "        \n",
    "        \n",
    "        cursor.close()\n",
    "    \n",
    "    except mysql.connector.Error as err:\n",
    "        print(\"hata : \", err)\n",
    "    \n",
    "    finally:\n",
    "        conn.close()\n",
    "        print(\"database bağlantısı kapandı\")\n",
    "\n",
    "\n",
    "deleteProducts(7)\n"
   ]
  },
  {
   "cell_type": "code",
   "execution_count": 18,
   "id": "61f068dd-761c-479c-9721-4223e79c2d89",
   "metadata": {},
   "outputs": [
    {
     "name": "stdout",
     "output_type": "stream",
     "text": [
      "[(1, 'Huawei', Decimal('5000'), '3.jpg', 'myphone'), (2, 'Casper', Decimal('5000'), '123.jpg', 'good phone'), (3, 'Samsung S7', Decimal('5000'), '1234.jpg', 'good phone'), (4, 'Iphone 15 Max', Decimal('90000'), '6547.jpg', 'excellent phone'), (5, 'Iphone 7', Decimal('15000'), '125.jpg', 'old phone'), (6, 'Xiaomi', Decimal('15000'), '44556.jpg', 'phone phone')]\n",
      " id: 1  name: Huawei price: 5000\n",
      "************\n",
      " id: 2  name: Casper price: 5000\n",
      "************\n",
      " id: 3  name: Samsung S7 price: 5000\n",
      "************\n",
      " id: 4  name: Iphone 15 Max price: 90000\n",
      "************\n",
      " id: 5  name: Iphone 7 price: 15000\n",
      "************\n",
      " id: 6  name: Xiaomi price: 15000\n",
      "************\n",
      "database bağlantısı kapandı\n"
     ]
    }
   ],
   "source": [
    "getProducts()"
   ]
  },
  {
   "cell_type": "code",
   "execution_count": null,
   "id": "5be2a81c-c2c7-47ff-99e8-942b8806b11a",
   "metadata": {},
   "outputs": [],
   "source": []
  }
 ],
 "metadata": {
  "kernelspec": {
   "display_name": "Python 3 (ipykernel)",
   "language": "python",
   "name": "python3"
  },
  "language_info": {
   "codemirror_mode": {
    "name": "ipython",
    "version": 3
   },
   "file_extension": ".py",
   "mimetype": "text/x-python",
   "name": "python",
   "nbconvert_exporter": "python",
   "pygments_lexer": "ipython3",
   "version": "3.11.7"
  }
 },
 "nbformat": 4,
 "nbformat_minor": 5
}
