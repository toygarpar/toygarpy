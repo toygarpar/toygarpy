{
 "cells": [
  {
   "cell_type": "code",
   "execution_count": 1,
   "id": "c36b5602-c7c5-4c25-a58f-ec4412ca16d0",
   "metadata": {},
   "outputs": [],
   "source": [
    "import mysql.connector"
   ]
  },
  {
   "cell_type": "code",
   "execution_count": 4,
   "id": "4073fd5b-c682-4e49-a8b3-6ce947b7d355",
   "metadata": {},
   "outputs": [
    {
     "name": "stdout",
     "output_type": "stream",
     "text": [
      "Result: 4\n",
      "************\n",
      "database bağlantısı kapandı\n"
     ]
    }
   ],
   "source": [
    "def getProducts():\n",
    "    conn = mysql.connector.connect(\n",
    "        host =\"127.0.0.1\",\n",
    "        port = 3306,\n",
    "        user = \"toygar\",\n",
    "        password = \"xxxxxxx\",\n",
    "        database = \"node-app\" )\n",
    "\n",
    "    cursor = conn.cursor()\n",
    "\n",
    "    sql = \"\"\" SELECT COUNT(*) FROM products\"\"\"\n",
    "    \n",
    "\n",
    "    cursor.execute(sql)\n",
    "\n",
    "    \n",
    "    \n",
    "    result = cursor.fetchone()\n",
    "    print(f\"Result: {result[0]}\")\n",
    "    \n",
    "    \n",
    "\n",
    "    print(\"************\")\n",
    "    \n",
    "    \n",
    "    conn.close()\n",
    "    print(\"database bağlantısı kapandı\")\n",
    "\n",
    "getProducts()\n"
   ]
  },
  {
   "cell_type": "code",
   "execution_count": 5,
   "id": "9417ef0e-c321-4035-802d-8278a7e9a613",
   "metadata": {},
   "outputs": [
    {
     "name": "stdout",
     "output_type": "stream",
     "text": [
      "Result: 2\n",
      "************\n",
      "database bağlantısı kapandı\n"
     ]
    }
   ],
   "source": [
    "def getProducts():\n",
    "    conn = mysql.connector.connect(\n",
    "        host =\"127.0.0.1\",\n",
    "        port = 3306,\n",
    "        user = \"toygar\",\n",
    "        password = \"xxxxxxx\",\n",
    "        database = \"node-app\" )\n",
    "\n",
    "    cursor = conn.cursor()\n",
    "\n",
    "    sql = \"\"\" SELECT COUNT(*) FROM products WHERE price > 5000\"\"\"\n",
    "    \n",
    "\n",
    "    cursor.execute(sql)\n",
    "\n",
    "    \n",
    "    \n",
    "    result = cursor.fetchone()\n",
    "    print(f\"Result: {result[0]}\")\n",
    "    \n",
    "    \n",
    "\n",
    "    print(\"************\")\n",
    "    \n",
    "    \n",
    "    conn.close()\n",
    "    print(\"database bağlantısı kapandı\")\n",
    "\n",
    "getProducts()\n"
   ]
  },
  {
   "cell_type": "code",
   "execution_count": 7,
   "id": "41f8d7f8-464a-4f8d-b3c3-b06754927937",
   "metadata": {},
   "outputs": [
    {
     "name": "stdout",
     "output_type": "stream",
     "text": [
      "Result: 26750.0000\n",
      "************\n",
      "database bağlantısı kapandı\n"
     ]
    }
   ],
   "source": [
    "def getProducts():\n",
    "    conn = mysql.connector.connect(\n",
    "        host =\"127.0.0.1\",\n",
    "        port = 3306,\n",
    "        user = \"toygar\",\n",
    "        password = \"xxxxxxx\",\n",
    "        database = \"node-app\" )\n",
    "\n",
    "    cursor = conn.cursor()\n",
    "\n",
    "    sql = \"\"\" SELECT AVG(price) FROM products\"\"\"\n",
    "    \n",
    "\n",
    "    cursor.execute(sql)\n",
    "\n",
    "    \n",
    "    \n",
    "    result = cursor.fetchone()\n",
    "    print(f\"Result: {result[0]}\")\n",
    "    \n",
    "    \n",
    "\n",
    "    print(\"************\")\n",
    "    \n",
    "    \n",
    "    conn.close()\n",
    "    print(\"database bağlantısı kapandı\")\n",
    "\n",
    "getProducts()\n"
   ]
  },
  {
   "cell_type": "code",
   "execution_count": 9,
   "id": "c5eba2c0-901d-46dd-9ee1-9322ebada5a2",
   "metadata": {},
   "outputs": [
    {
     "name": "stdout",
     "output_type": "stream",
     "text": [
      "Result: 107000\n",
      "************\n",
      "database bağlantısı kapandı\n"
     ]
    }
   ],
   "source": [
    "def getProducts():\n",
    "    conn = mysql.connector.connect(\n",
    "        host =\"127.0.0.1\",\n",
    "        port = 3306,\n",
    "        user = \"toygar\",\n",
    "        password = \"xxxxxxx\",\n",
    "        database = \"node-app\" )\n",
    "\n",
    "    cursor = conn.cursor()\n",
    "\n",
    "    sql = \"\"\" SELECT SUM(price) FROM products\"\"\"\n",
    "    \n",
    "\n",
    "    cursor.execute(sql)\n",
    "\n",
    "    \n",
    "    \n",
    "    result = cursor.fetchone()\n",
    "    print(f\"Result: {result[0]}\")\n",
    "    \n",
    "    \n",
    "\n",
    "    print(\"************\")\n",
    "    \n",
    "    \n",
    "    conn.close()\n",
    "    print(\"database bağlantısı kapandı\")\n",
    "\n",
    "getProducts()\n"
   ]
  },
  {
   "cell_type": "code",
   "execution_count": 10,
   "id": "209abdf0-1927-4267-aac0-4a454037d020",
   "metadata": {},
   "outputs": [
    {
     "name": "stdout",
     "output_type": "stream",
     "text": [
      "Result: 90000\n",
      "************\n",
      "database bağlantısı kapandı\n"
     ]
    }
   ],
   "source": [
    "def getProducts():\n",
    "    conn = mysql.connector.connect(\n",
    "        host =\"127.0.0.1\",\n",
    "        port = 3306,\n",
    "        user = \"toygar\",\n",
    "        password = \"xxxxxxx\",\n",
    "        database = \"node-app\" )\n",
    "\n",
    "    cursor = conn.cursor()\n",
    "\n",
    "    sql = \"\"\" SELECT MAX(price) FROM products\"\"\"\n",
    "    \n",
    "\n",
    "    cursor.execute(sql)\n",
    "\n",
    "    \n",
    "    \n",
    "    result = cursor.fetchone()\n",
    "    print(f\"Result: {result[0]}\")\n",
    "    \n",
    "    \n",
    "\n",
    "    print(\"************\")\n",
    "    \n",
    "    \n",
    "    conn.close()\n",
    "    print(\"database bağlantısı kapandı\")\n",
    "\n",
    "getProducts()\n"
   ]
  },
  {
   "cell_type": "code",
   "execution_count": 14,
   "id": "c41efa01-e27f-4228-8fdd-8b2fa4a2430d",
   "metadata": {},
   "outputs": [
    {
     "name": "stdout",
     "output_type": "stream",
     "text": [
      "Result: Iphone 15 Max 90000\n",
      "************\n",
      "database bağlantısı kapandı\n"
     ]
    }
   ],
   "source": [
    "def getProducts():\n",
    "    conn = mysql.connector.connect(\n",
    "        host =\"127.0.0.1\",\n",
    "        port = 3306,\n",
    "        user = \"toygar\",\n",
    "        password = \"xxxxxxx\",\n",
    "        database = \"node-app\" )\n",
    "\n",
    "    cursor = conn.cursor()\n",
    "\n",
    "    sql = \"\"\" SELECT name, price FROM products WHERE price = (SELECT MAX(price) FROM products)\"\"\"\n",
    "    \n",
    "\n",
    "    cursor.execute(sql)\n",
    "\n",
    "    \n",
    "    \n",
    "    result = cursor.fetchone()\n",
    "    print(f\"Result: {result[0]} {result[1]}\")\n",
    "    \n",
    "    \n",
    "\n",
    "    print(\"************\")\n",
    "    \n",
    "    \n",
    "    conn.close()\n",
    "    print(\"database bağlantısı kapandı\")\n",
    "\n",
    "getProducts()\n"
   ]
  },
  {
   "cell_type": "code",
   "execution_count": null,
   "id": "757db95f-b77e-46dc-9a0d-999c544707c4",
   "metadata": {},
   "outputs": [],
   "source": []
  }
 ],
 "metadata": {
  "kernelspec": {
   "display_name": "Python 3 (ipykernel)",
   "language": "python",
   "name": "python3"
  },
  "language_info": {
   "codemirror_mode": {
    "name": "ipython",
    "version": 3
   },
   "file_extension": ".py",
   "mimetype": "text/x-python",
   "name": "python",
   "nbconvert_exporter": "python",
   "pygments_lexer": "ipython3",
   "version": "3.11.7"
  }
 },
 "nbformat": 4,
 "nbformat_minor": 5
}
