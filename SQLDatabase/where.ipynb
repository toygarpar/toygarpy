{
 "cells": [
  {
   "cell_type": "code",
   "execution_count": 1,
   "id": "4df44475-41d2-4482-9261-aeca48f66fdc",
   "metadata": {},
   "outputs": [],
   "source": [
    "import mysql.connector"
   ]
  },
  {
   "cell_type": "markdown",
   "id": "720e2d3c-57c1-4f75-9e39-51dfaf5fdebd",
   "metadata": {},
   "source": [
    "SELECT column1, column2,...\n",
    "\n",
    "FROM ``<table>``\n",
    "\n",
    "WHERE ``<condition>``;"
   ]
  },
  {
   "cell_type": "code",
   "execution_count": 22,
   "id": "cac1ffb2-a4ac-4a94-b23f-3cb37fcb508f",
   "metadata": {},
   "outputs": [
    {
     "name": "stdout",
     "output_type": "stream",
     "text": [
      "id: 1  name: Huawei  price:5000\n",
      "************\n",
      "database bağlantısı kapandı\n"
     ]
    }
   ],
   "source": [
    "def getProducts():\n",
    "    conn = mysql.connector.connect(\n",
    "        host =\"127.0.0.1\",\n",
    "        port = 3306,\n",
    "        user = \"toygar\",\n",
    "        password = \"xxxxxxx\",\n",
    "        database = \"node-app\" )\n",
    "\n",
    "    cursor = conn.cursor()\n",
    "\n",
    "    \n",
    "\n",
    "    cursor.execute(\"SELECT * FROM products WHERE id=1\")\n",
    "\n",
    "    \n",
    "    \n",
    "    result = cursor.fetchall()\n",
    "\n",
    "    for product in result:\n",
    "        print(f\"id: {product[0]}  name: {product[1]}  price:{product[2]}\")\n",
    "\n",
    "    print(\"************\")\n",
    "    \n",
    "    \n",
    "    conn.close()\n",
    "    print(\"database bağlantısı kapandı\")\n",
    "\n",
    "getProducts()"
   ]
  },
  {
   "cell_type": "code",
   "execution_count": 25,
   "id": "a5133560-700f-4e0f-9086-1d3f8f21f947",
   "metadata": {},
   "outputs": [
    {
     "name": "stdout",
     "output_type": "stream",
     "text": [
      "id: 1  name: Huawei  price:5000\n",
      "************\n",
      "database bağlantısı kapandı\n"
     ]
    }
   ],
   "source": [
    "def getProducts():\n",
    "    conn = mysql.connector.connect(\n",
    "        host =\"127.0.0.1\",\n",
    "        port = 3306,\n",
    "        user = \"toygar\",\n",
    "        password = \"xxxxxxx\",\n",
    "        database = \"node-app\" )\n",
    "\n",
    "    cursor = conn.cursor()\n",
    "\n",
    "    \n",
    "\n",
    "    cursor.execute(\"SELECT * FROM products WHERE name='Huawei' or price = 3000\")\n",
    "\n",
    "    \n",
    "    \n",
    "    result = cursor.fetchall()\n",
    "\n",
    "    for product in result:\n",
    "        print(f\"id: {product[0]}  name: {product[1]}  price:{product[2]}\")\n",
    "\n",
    "    print(\"************\")\n",
    "    \n",
    "    \n",
    "    conn.close()\n",
    "    print(\"database bağlantısı kapandı\")\n",
    "\n",
    "getProducts()"
   ]
  },
  {
   "cell_type": "code",
   "execution_count": 26,
   "id": "edd7039e-8dd6-493a-8bb5-1f264c283e1f",
   "metadata": {},
   "outputs": [
    {
     "name": "stdout",
     "output_type": "stream",
     "text": [
      "id: 3  name: Samsung S7  price:7000\n",
      "************\n",
      "database bağlantısı kapandı\n"
     ]
    }
   ],
   "source": [
    "def getProducts():\n",
    "    conn = mysql.connector.connect(\n",
    "        host =\"127.0.0.1\",\n",
    "        port = 3306,\n",
    "        user = \"toygar\",\n",
    "        password = \"xxxxxxx\",\n",
    "        database = \"node-app\" )\n",
    "\n",
    "    cursor = conn.cursor()\n",
    "\n",
    "    \n",
    "\n",
    "    cursor.execute(\"SELECT * FROM products WHERE name LIKE '%Samsung%'\")\n",
    "\n",
    "    \n",
    "    \n",
    "    result = cursor.fetchall()\n",
    "\n",
    "    for product in result:\n",
    "        print(f\"id: {product[0]}  name: {product[1]}  price:{product[2]}\")\n",
    "\n",
    "    print(\"************\")\n",
    "    \n",
    "    \n",
    "    conn.close()\n",
    "    print(\"database bağlantısı kapandı\")\n",
    "\n",
    "getProducts()"
   ]
  },
  {
   "cell_type": "code",
   "execution_count": 27,
   "id": "2bfe06cd-0ca7-42c9-af74-0848c68c6c71",
   "metadata": {},
   "outputs": [
    {
     "name": "stdout",
     "output_type": "stream",
     "text": [
      "[(3, 'Samsung S7', Decimal('7000'), '1234.jpg', 'good phone')]\n",
      "************\n",
      "database bağlantısı kapandı\n"
     ]
    }
   ],
   "source": [
    "def getProducts():\n",
    "    conn = mysql.connector.connect(\n",
    "        host =\"127.0.0.1\",\n",
    "        port = 3306,\n",
    "        user = \"toygar\",\n",
    "        password = \"xxxxxxx\",\n",
    "        database = \"node-app\" )\n",
    "\n",
    "    cursor = conn.cursor()\n",
    "\n",
    "    \n",
    "\n",
    "    cursor.execute(\"SELECT * FROM products WHERE name LIKE '%Samsung%'\")\n",
    "\n",
    "    \n",
    "    \n",
    "    result = cursor.fetchall()\n",
    "\n",
    "    print(result)\n",
    "\n",
    "    print(\"************\")\n",
    "    \n",
    "    \n",
    "    conn.close()\n",
    "    print(\"database bağlantısı kapandı\")\n",
    "\n",
    "getProducts()"
   ]
  },
  {
   "cell_type": "code",
   "execution_count": 29,
   "id": "f7529911-223a-40c4-8c6a-203dfbaff68e",
   "metadata": {},
   "outputs": [
    {
     "name": "stdout",
     "output_type": "stream",
     "text": [
      "(3, 'Samsung S7', Decimal('7000'), '1234.jpg', 'good phone')\n",
      " id: 3  name: Samsung S7 price: 7000\n",
      "************\n",
      "database bağlantısı kapandı\n"
     ]
    }
   ],
   "source": [
    "def getProducts():\n",
    "    conn = mysql.connector.connect(\n",
    "        host =\"127.0.0.1\",\n",
    "        port = 3306,\n",
    "        user = \"toygar\",\n",
    "        password = \"xxxxxxx\",\n",
    "        database = \"node-app\" )\n",
    "\n",
    "    cursor = conn.cursor()\n",
    "\n",
    "    \n",
    "\n",
    "    cursor.execute(\"SELECT * FROM products WHERE name LIKE '%Samsung%'\")\n",
    "\n",
    "    \n",
    "    \n",
    "    result = cursor.fetchone()\n",
    "\n",
    "    print(result)\n",
    "    print(f\" id: {result[0]}  name: {result[1]} price: {result[2]}\")\n",
    "\n",
    "    print(\"************\")\n",
    "    \n",
    "    \n",
    "    conn.close()\n",
    "    print(\"database bağlantısı kapandı\")\n",
    "\n",
    "getProducts()"
   ]
  },
  {
   "cell_type": "code",
   "execution_count": 35,
   "id": "6bc4acff-00d1-4db9-af6a-8a525626038f",
   "metadata": {},
   "outputs": [
    {
     "name": "stdout",
     "output_type": "stream",
     "text": [
      "(1, 'Huawei', Decimal('5000'), '3.jpg', 'myphone')\n",
      " id: 1  name: Huawei price: 5000\n",
      "************\n",
      "database bağlantısı kapandı\n",
      "(3, 'Samsung S7', Decimal('7000'), '1234.jpg', 'good phone')\n",
      " id: 3  name: Samsung S7 price: 7000\n",
      "************\n",
      "database bağlantısı kapandı\n"
     ]
    }
   ],
   "source": [
    "def getProducts(id):\n",
    "    conn = mysql.connector.connect(\n",
    "        host =\"127.0.0.1\",\n",
    "        port = 3306,\n",
    "        user = \"toygar\",\n",
    "        password = \"xxxxxxx\",\n",
    "        database = \"node-app\" )\n",
    "\n",
    "    cursor = conn.cursor()\n",
    "\n",
    "    sql = \"SELECT * FROM products WHERE id=%s\"\n",
    "    param = (id,)\n",
    "\n",
    "    cursor.execute(sql, param)\n",
    "\n",
    "    \n",
    "    \n",
    "    result = cursor.fetchone()\n",
    "\n",
    "    print(result)\n",
    "    print(f\" id: {result[0]}  name: {result[1]} price: {result[2]}\")\n",
    "\n",
    "    print(\"************\")\n",
    "    \n",
    "    \n",
    "    conn.close()\n",
    "    print(\"database bağlantısı kapandı\")\n",
    "\n",
    "getProducts(1)\n",
    "getProducts(3)"
   ]
  },
  {
   "cell_type": "code",
   "execution_count": null,
   "id": "3c695a13-d6f1-4d35-8221-796041e1a0c5",
   "metadata": {},
   "outputs": [],
   "source": []
  }
 ],
 "metadata": {
  "kernelspec": {
   "display_name": "Python 3 (ipykernel)",
   "language": "python",
   "name": "python3"
  },
  "language_info": {
   "codemirror_mode": {
    "name": "ipython",
    "version": 3
   },
   "file_extension": ".py",
   "mimetype": "text/x-python",
   "name": "python",
   "nbconvert_exporter": "python",
   "pygments_lexer": "ipython3",
   "version": "3.11.7"
  }
 },
 "nbformat": 4,
 "nbformat_minor": 5
}
