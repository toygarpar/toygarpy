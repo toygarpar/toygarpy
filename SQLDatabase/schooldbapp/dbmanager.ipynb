{
 "cells": [
  {
   "cell_type": "code",
   "execution_count": 1,
   "id": "4e4e6af0-c116-4f5e-a7e3-ac566201fbd6",
   "metadata": {},
   "outputs": [],
   "source": [
    "import mysql.connector\n",
    "from datetime import datetime\n",
    "from connection import connection\n",
    "from student import Student\n",
    "from teacher import Teacher\n",
    "from klass import Class\n",
    "from lesson import Lesson\n"
   ]
  },
  {
   "cell_type": "code",
   "execution_count": 8,
   "id": "b43699ed-2e33-4926-afad-b5e8287beb1e",
   "metadata": {},
   "outputs": [],
   "source": [
    "class DbManager:\n",
    "    def __init__(self):\n",
    "        self.connection = connection\n",
    "        self.cursor = self.connection.cursor()\n",
    "\n",
    "    def getStudentById(self, id):\n",
    "        sql =\"select * from student where id=%s;\"\n",
    "        val = (id,)\n",
    "        self.cursor.execute(sql, val)\n",
    "        try:\n",
    "            obj = self.cursor.fetchone()\n",
    "            print(obj)\n",
    "            #return Student(obj[0],obj[1],obj[2],obj[3],obj[4],obj[5],obj[6])  #bunun yerine studentsda class oluşturduk\n",
    "            return Student.createStudent(obj)\n",
    "\n",
    "        except mysql.connector.Error as err:\n",
    "            print(\"Error\")\n",
    "        \n",
    "\n",
    "    def getStudentByClassId(self, classid):\n",
    "        sql =\"select * from student where classid=%s;\"\n",
    "        vals = (classid,)\n",
    "        self.cursor.execute(sql, vals)\n",
    "        try:\n",
    "            obj = self.cursor.fetchall()\n",
    "            print(obj)\n",
    "            print(\"*********\")\n",
    "            return Student.createStudent(obj)\n",
    "            #return Student(obj[0],obj[1],obj[2],obj[3],obj[4],obj[5],obj[6])\n",
    "\n",
    "        except mysql.connector.Error as err:\n",
    "            print(\"Error\")\n",
    "        \n",
    "    def addOrEditStudent(self, student: Student):\n",
    "        pass\n",
    "\n",
    "    \n",
    "    def addStudent(self, student : Student):\n",
    "        sql = \"INSERT INTO Student(studentNumber,Name,Surname,Birthdate,Gender,classid) VALUES (%s,%s,%s,%s,%s,%s)\"\n",
    "        value = (student.studentNumber,student.name, student.surname,student.birthdate,student.gender, student.classid)\n",
    "        self.cursor.execute(sql,value)\n",
    "\n",
    "        try:\n",
    "            self.connection.commit()\n",
    "            print(f'{self.cursor.rowcount} tane kayıt eklendi.')\n",
    "        except mysql.connector.Error as err:\n",
    "            print('hata:', err)\n",
    "        #connectionı kapatmayacağız sonrasın güncelleme yapacağız\n",
    "\n",
    "    def editStudent(self, student : Student):\n",
    "        sql = \"update student set studentnumber=%s,name=%s,surname=%s,birthdate=%s,gender=%s, classid=%s where id=%s\"\n",
    "        value = (student.studentNumber,student.name, student.surname,student.birthdate,student.gender, student.classid, student.id)\n",
    "        self.cursor.execute(sql,value)\n",
    "\n",
    "        try:\n",
    "            self.connection.commit()\n",
    "            print(f'{self.cursor.rowcount} tane kayıt güncellendi.')\n",
    "        except mysql.connector.Error as err:\n",
    "            print('hata:', err) \n",
    "\n",
    "    def addTeacher(self, teacher : Teacher):\n",
    "        pass\n",
    "\n",
    "    def editTeacher(self, teacher : Teacher):\n",
    "        pass\n",
    "\n",
    "    #def __del__(self):   #manually close connection in notebook\n",
    "        #self.cursor.close()\n",
    "        #self.connection.close()\n",
    "        #print(\"Cursor ve Connection Closed!\")"
   ]
  },
  {
   "cell_type": "code",
   "execution_count": 9,
   "id": "c90dd5ed-c487-4ad9-b99b-31df3b0e8616",
   "metadata": {},
   "outputs": [
    {
     "name": "stdout",
     "output_type": "stream",
     "text": [
      "[(1, '101', 'Mr.Ahmet', 'Yılmaz', datetime.datetime(2005, 5, 17, 0, 0), 'E', 1), (2, '102', 'Mr.Ali', 'Can', datetime.datetime(2005, 6, 17, 0, 0), 'E', 1), (3, '103', 'Canan', 'Tan', datetime.datetime(2005, 7, 7, 0, 0), 'K', 1), (4, '104', 'Ayşe', 'Taner', datetime.datetime(2005, 9, 23, 0, 0), 'K', 1), (5, '105', 'Mr.Bahadır', 'Toksöz', datetime.datetime(2004, 7, 27, 0, 0), 'E', 1), (6, '106', 'Mr.Ali', 'Cenk', datetime.datetime(2003, 8, 25, 0, 0), 'E', 1), (7, '301', 'Fucker', 'KelMahmut', datetime.datetime(2005, 5, 17, 0, 0), 'E', 1), (8, '302', 'Mr.Ali', 'Can', datetime.datetime(2005, 6, 17, 0, 0), 'E', 1), (9, '303', 'Canan', 'Tan', datetime.datetime(2005, 7, 7, 0, 0), 'K', 1), (10, '304', 'Ayşe', 'Taner', datetime.datetime(2005, 9, 23, 0, 0), 'K', 1), (11, '305', 'Mr.Bahadır', 'Toksöz', datetime.datetime(2004, 7, 27, 0, 0), 'E', 1), (12, '306', 'Mr.Ali', 'Cenk', datetime.datetime(2003, 8, 25, 0, 0), 'E', 1), (13, '301', 'Toygar', 'Par', datetime.datetime(2005, 5, 17, 0, 0), 'E', 1), (14, '501', 'Toygar', 'Par', datetime.datetime(2005, 5, 17, 0, 0), 'E', 1), (15, '501', 'Toygar', 'Par', datetime.datetime(2005, 5, 17, 0, 0), 'E', 1), (16, '501', 'Toygar', 'Par', datetime.datetime(2005, 5, 17, 0, 0), 'E', 1), (17, '501', 'Toygar', 'Par', datetime.datetime(2005, 5, 17, 0, 0), 'E', 1), (18, '501', 'Toygar', 'Par', datetime.datetime(2005, 5, 17, 0, 0), 'E', 1), (19, '501', 'Toygar', 'Par', datetime.datetime(2005, 5, 17, 0, 0), 'E', 1), (20, '501', 'Toygar', 'Par', datetime.datetime(2005, 5, 17, 0, 0), 'E', 1)]\n",
      "*********\n"
     ]
    }
   ],
   "source": [
    "db = DbManager()\n",
    "students = db.getStudentByClassId(1)"
   ]
  },
  {
   "cell_type": "code",
   "execution_count": 4,
   "id": "2d85c9ab-a509-46e8-8124-cbe8ffa7ee97",
   "metadata": {},
   "outputs": [
    {
     "name": "stdout",
     "output_type": "stream",
     "text": [
      "(7, '301', 'Fucker', 'KelMahmut', datetime.datetime(2005, 5, 17, 0, 0), 'E', 1)\n",
      "Fucker KelMahmut\n"
     ]
    }
   ],
   "source": [
    "db = DbManager()\n",
    "student = db.getStudentById(7)\n",
    "\n",
    "print(student[0].name, student[0].surname)"
   ]
  },
  {
   "cell_type": "code",
   "execution_count": 5,
   "id": "77bc056d-cfd6-4c42-ae86-efd7348669cf",
   "metadata": {},
   "outputs": [
    {
     "name": "stdout",
     "output_type": "stream",
     "text": [
      "[(1, '101', 'Mr.Ahmet', 'Yılmaz', datetime.datetime(2005, 5, 17, 0, 0), 'E', 1), (2, '102', 'Mr.Ali', 'Can', datetime.datetime(2005, 6, 17, 0, 0), 'E', 1), (3, '103', 'Canan', 'Tan', datetime.datetime(2005, 7, 7, 0, 0), 'K', 1), (4, '104', 'Ayşe', 'Taner', datetime.datetime(2005, 9, 23, 0, 0), 'K', 1), (5, '105', 'Mr.Bahadır', 'Toksöz', datetime.datetime(2004, 7, 27, 0, 0), 'E', 1), (6, '106', 'Mr.Ali', 'Cenk', datetime.datetime(2003, 8, 25, 0, 0), 'E', 1), (7, '301', 'Fucker', 'KelMahmut', datetime.datetime(2005, 5, 17, 0, 0), 'E', 1), (8, '302', 'Mr.Ali', 'Can', datetime.datetime(2005, 6, 17, 0, 0), 'E', 1), (9, '303', 'Canan', 'Tan', datetime.datetime(2005, 7, 7, 0, 0), 'K', 1), (10, '304', 'Ayşe', 'Taner', datetime.datetime(2005, 9, 23, 0, 0), 'K', 1), (11, '305', 'Mr.Bahadır', 'Toksöz', datetime.datetime(2004, 7, 27, 0, 0), 'E', 1), (12, '306', 'Mr.Ali', 'Cenk', datetime.datetime(2003, 8, 25, 0, 0), 'E', 1), (13, '301', 'Toygar', 'Par', datetime.datetime(2005, 5, 17, 0, 0), 'E', 1), (14, '501', 'Toygar', 'Par', datetime.datetime(2005, 5, 17, 0, 0), 'E', 1), (15, '501', 'Toygar', 'Par', datetime.datetime(2005, 5, 17, 0, 0), 'E', 1), (16, '501', 'Toygar', 'Par', datetime.datetime(2005, 5, 17, 0, 0), 'E', 1), (17, '501', 'Toygar', 'Par', datetime.datetime(2005, 5, 17, 0, 0), 'E', 1), (18, '501', 'Toygar', 'Par', datetime.datetime(2005, 5, 17, 0, 0), 'E', 1), (19, '501', 'Toygar', 'Par', datetime.datetime(2005, 5, 17, 0, 0), 'E', 1)]\n",
      "*********\n",
      "Mr.Ahmet\n",
      "Mr.Ali\n",
      "Canan\n",
      "Ayşe\n",
      "Mr.Bahadır\n",
      "Mr.Ali\n",
      "Fucker\n",
      "Mr.Ali\n",
      "Canan\n",
      "Ayşe\n",
      "Mr.Bahadır\n",
      "Mr.Ali\n",
      "Toygar\n",
      "Toygar\n",
      "Toygar\n",
      "Toygar\n",
      "Toygar\n",
      "Toygar\n",
      "Toygar\n",
      "*********************\n",
      "Mr.Ahmet\n",
      "Mr.Bahadır\n"
     ]
    }
   ],
   "source": [
    "db = DbManager()\n",
    "students = db.getStudentByClassId(1)\n",
    "#print(student[0].name)\n",
    "#print(student[4].name)\n",
    "for student in students:\n",
    "    print(student.name)\n",
    "\n",
    "print(\"*********************\")\n",
    "print(students[0].name)\n",
    "print(students[4].name)"
   ]
  },
  {
   "cell_type": "code",
   "execution_count": 6,
   "id": "927bff4b-eaa6-48cb-99f1-358d263c4d04",
   "metadata": {},
   "outputs": [
    {
     "name": "stdout",
     "output_type": "stream",
     "text": [
      "(7, '301', 'Fucker', 'KelMahmut', datetime.datetime(2005, 5, 17, 0, 0), 'E', 1)\n",
      "Fucker KelMahmut\n",
      "1 tane kayıt eklendi.\n"
     ]
    }
   ],
   "source": [
    "db = DbManager()\n",
    "\n",
    "student = db.getStudentById(7)\n",
    "#std = Student( None, ....)   bütübir öğrenci kaydını oluşturabiliriz\n",
    "\n",
    "print(student[0].name, student[0].surname)\n",
    "\n",
    "student[0].name = \"Toygar\"\n",
    "student[0].surname =\"Par\" \n",
    "student[0].studentNumber = \"501\"\n",
    "db.addStudent(student[0])\n",
    "\n"
   ]
  },
  {
   "cell_type": "code",
   "execution_count": 7,
   "id": "5c6f8c2c-61b8-490c-b96b-13a8e48d2ef1",
   "metadata": {},
   "outputs": [
    {
     "name": "stdout",
     "output_type": "stream",
     "text": [
      "(7, '301', 'Fucker', 'KelMahmut', datetime.datetime(2005, 5, 17, 0, 0), 'E', 1)\n",
      "0 tane kayıt güncellendi.\n"
     ]
    }
   ],
   "source": [
    "db = DbManager()\n",
    "\n",
    "student= db.getStudentById(7)\n",
    "\n",
    "student[0].name = \"Fucker\"\n",
    "\n",
    "\n",
    "db.editStudent(student[0])"
   ]
  },
  {
   "cell_type": "code",
   "execution_count": null,
   "id": "c72cb45e-37b3-465f-825f-dce9d46b19c3",
   "metadata": {},
   "outputs": [],
   "source": []
  },
  {
   "cell_type": "code",
   "execution_count": null,
   "id": "8c6c917e-2a3d-46e1-aa85-0cdf45412fbc",
   "metadata": {},
   "outputs": [],
   "source": []
  },
  {
   "cell_type": "code",
   "execution_count": null,
   "id": "927c1308-d616-4dc2-89ec-10a4633fa971",
   "metadata": {},
   "outputs": [],
   "source": []
  }
 ],
 "metadata": {
  "kernelspec": {
   "display_name": "Python 3 (ipykernel)",
   "language": "python",
   "name": "python3"
  },
  "language_info": {
   "codemirror_mode": {
    "name": "ipython",
    "version": 3
   },
   "file_extension": ".py",
   "mimetype": "text/x-python",
   "name": "python",
   "nbconvert_exporter": "python",
   "pygments_lexer": "ipython3",
   "version": "3.11.7"
  }
 },
 "nbformat": 4,
 "nbformat_minor": 5
}
