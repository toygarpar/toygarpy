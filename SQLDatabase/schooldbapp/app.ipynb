{
 "cells": [
  {
   "cell_type": "code",
   "execution_count": 1,
   "id": "1895e0b9-e9e8-46a6-995b-a961f1832fb8",
   "metadata": {},
   "outputs": [],
   "source": [
    "from dbmanager import DbManager\n",
    "from student import Student\n",
    "import datetime\n",
    "\n",
    "\n",
    "class App:\n",
    "    def __init__(self):\n",
    "        self.db = DbManager()\n",
    "\n",
    "\n",
    "    def initApp(self):\n",
    "        msg = \"*****\\n1-Öğrenci Listesi\\n2-Öğrenci Ekle\\n3-Öğrenci Güncelle\\n4-Öğrenci Sil\\n5-Öğretmen Ekle\\n6-Sınıflara göre Dersler\\n7-Çıkış için (e/h)\\n*****\"\n",
    "\n",
    "        while True:\n",
    "            print(msg)\n",
    "            command = input(\"Seçim: \")\n",
    "            \n",
    "            if command == \"1\":\n",
    "                self.displayStudents()\n",
    "    \n",
    "            elif command == \"2\":\n",
    "                self.addStudent()\n",
    "    \n",
    "            elif command == \"3\":\n",
    "                self.editStudent()\n",
    "    \n",
    "            elif command == \"4\":\n",
    "                self.deleteStudent()\n",
    "    \n",
    "            elif command == \"5\":\n",
    "                pass\n",
    "    \n",
    "            elif command == \"6\":\n",
    "                pass\n",
    "    \n",
    "            elif command == \"e\":\n",
    "                break\n",
    "    \n",
    "            elif command ==\"h\":\n",
    "                continue\n",
    "    \n",
    "            else:\n",
    "                print(\"yanlış seçim\")\n",
    "\n",
    "    def deleteStudent(self):\n",
    "        classid = self.displayStudents()\n",
    "\n",
    "        studentid = int(input(\"Silinecek Öğrenci ID: \"))\n",
    "\n",
    "        self.db.deleteStudent(studentid)\n",
    "    \n",
    "    \n",
    "    \n",
    "    def editStudent(self):\n",
    "        classid = self.displayStudents()\n",
    "\n",
    "        studentid = int(input(\"Öğrenci ID: \"))\n",
    "\n",
    "        student = self.db.getStudentById(studentid)\n",
    "\n",
    "        print(student[0].name)\n",
    "\n",
    "        student[0].name = input(\"Name: \") or student[0].name\n",
    "        student[0].surname = input(\"Surname: \") or student[0].surname\n",
    "        student[0].gender = input(\"Cinsiyet: E/K \") or student[0].gender\n",
    "        student[0].classid = input(\"Sınıf: \") or student[0].classid\n",
    "        \n",
    "        \n",
    "        year = input(\"D.T. Yıl:\") or student[0].birthdate.year\n",
    "        month = input(\"D.T. Ay:\") or student[0].birthdate.month\n",
    "        day = input(\"D.T. Gün:\") or student[0].birthdate.day\n",
    "        \n",
    "        \n",
    "        \n",
    "        student[0].birthdate = datetime.date(int(year), int(month), int(day))\n",
    "        self.db.editStudent(student[0])\n",
    "\n",
    "                        \n",
    "\n",
    "       \n",
    "        \n",
    "\n",
    "\n",
    "\n",
    "\n",
    "\n",
    "        \n",
    "    def addStudent(self):\n",
    "        self.displayClasses()\n",
    "\n",
    "        classid = int(input(\"Hangi Sınıf: \"))\n",
    "        number = input(\"Öğrenci Numarası: \")\n",
    "        name = input(\"Öğrenci Ad:\")\n",
    "        surname = input(\"Öğrenci Soyad:\")\n",
    "        \n",
    "        year = int(input(\"D.T. Yıl:\"))\n",
    "        month = int(input(\"D.T. Ay:\"))\n",
    "        day = int(input(\"D.T. Gün:\"))\n",
    "\n",
    "        birthdate = datetime.date(year, month, day)\n",
    "\n",
    "        gender = input(\"Cinsiyet E/K: \")\n",
    "\n",
    "        student = Student(None, number, name, surname, birthdate, gender, classid)\n",
    "        self.db.addStudent(student)\n",
    "\n",
    "    def displayClasses(self):\n",
    "        classes = self.db.getClasses()\n",
    "        for c in classes:\n",
    "            print(f\"{c.id}: {c.name}\")\n",
    "        \n",
    "\n",
    "    def displayStudents(self):\n",
    "        self.displayClasses()\n",
    "    \n",
    "        \n",
    "        classid = int(input(\"hangi sınıf: \"))\n",
    "\n",
    "        students = self.db.getStudentByClassId(classid)\n",
    "        print(\"Öğrenci Listesi\")\n",
    "        for  std in students:\n",
    "            print(f\"{std.id} - {std.name} {std.surname}\")\n",
    "            \n",
    "        return classid\n",
    "\n",
    "            \n",
    "        "
   ]
  },
  {
   "cell_type": "code",
   "execution_count": 2,
   "id": "8bb22dbc-3335-4993-b865-8a978b9052e2",
   "metadata": {},
   "outputs": [
    {
     "data": {
      "text/plain": [
       "{'db': <dbmanager.DbManager at 0x28568642110>}"
      ]
     },
     "execution_count": 2,
     "metadata": {},
     "output_type": "execute_result"
    }
   ],
   "source": [
    "app = App()\n",
    "app.__dict__\n"
   ]
  },
  {
   "cell_type": "code",
   "execution_count": 3,
   "id": "9512b408-d3f2-4748-8125-2006d6bc5347",
   "metadata": {},
   "outputs": [
    {
     "name": "stdout",
     "output_type": "stream",
     "text": [
      "*****\n",
      "1-Öğrenci Listesi\n",
      "2-Öğrenci Ekle\n",
      "3-Öğrenci Güncelle\n",
      "4-Öğrenci Sil\n",
      "5-Öğretmen Ekle\n",
      "6-Sınıflara göre Dersler\n",
      "7-Çıkış için (e/h)\n",
      "*****\n"
     ]
    },
    {
     "name": "stdin",
     "output_type": "stream",
     "text": [
      "Seçim:  h\n"
     ]
    },
    {
     "name": "stdout",
     "output_type": "stream",
     "text": [
      "*****\n",
      "1-Öğrenci Listesi\n",
      "2-Öğrenci Ekle\n",
      "3-Öğrenci Güncelle\n",
      "4-Öğrenci Sil\n",
      "5-Öğretmen Ekle\n",
      "6-Sınıflara göre Dersler\n",
      "7-Çıkış için (e/h)\n",
      "*****\n"
     ]
    },
    {
     "name": "stdin",
     "output_type": "stream",
     "text": [
      "Seçim:  e\n"
     ]
    }
   ],
   "source": [
    "app.initApp()"
   ]
  },
  {
   "cell_type": "code",
   "execution_count": null,
   "id": "e3fd538c-6950-44b6-88e3-1eddd16fe945",
   "metadata": {},
   "outputs": [],
   "source": []
  }
 ],
 "metadata": {
  "kernelspec": {
   "display_name": "Python 3 (ipykernel)",
   "language": "python",
   "name": "python3"
  },
  "language_info": {
   "codemirror_mode": {
    "name": "ipython",
    "version": 3
   },
   "file_extension": ".py",
   "mimetype": "text/x-python",
   "name": "python",
   "nbconvert_exporter": "python",
   "pygments_lexer": "ipython3",
   "version": "3.11.7"
  }
 },
 "nbformat": 4,
 "nbformat_minor": 5
}
