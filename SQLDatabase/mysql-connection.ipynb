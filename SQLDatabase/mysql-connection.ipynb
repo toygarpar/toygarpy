{
 "cells": [
  {
   "cell_type": "code",
   "execution_count": 2,
   "id": "41b3ce43-3077-4761-9e91-67fc7cb4bddb",
   "metadata": {},
   "outputs": [],
   "source": [
    "import mysql.connector\n"
   ]
  },
  {
   "cell_type": "code",
   "execution_count": 3,
   "id": "4ad222f7-6574-4598-bca0-efa57c694167",
   "metadata": {},
   "outputs": [
    {
     "name": "stdout",
     "output_type": "stream",
     "text": [
      "<mysql.connector.connection_cext.CMySQLConnection object at 0x000002D07F9FBAD0>\n"
     ]
    }
   ],
   "source": [
    "mydb = mysql.connector.connect(\n",
    "    host = \"localhost\", #192.23.48.45 , port 33060 veya 3306\n",
    "    user = \"root\",\n",
    "    password = \"xxxxxxx\",\n",
    "    database = \"mydatabase\"\n",
    "\n",
    "\n",
    "\n",
    ")\n",
    "print(mydb)"
   ]
  },
  {
   "cell_type": "code",
   "execution_count": 4,
   "id": "43b2c48c-4ab7-4665-b493-b31eddd6bb40",
   "metadata": {},
   "outputs": [],
   "source": [
    "mycursor = mydb.cursor()"
   ]
  },
  {
   "cell_type": "code",
   "execution_count": 5,
   "id": "5adbacbc-8b26-429c-8a1a-defdb9a31c2f",
   "metadata": {},
   "outputs": [],
   "source": [
    "mycursor.execute(\"CREATE DATABASE IF NOT EXISTS mydatabase\")"
   ]
  },
  {
   "cell_type": "code",
   "execution_count": 6,
   "id": "da5e74af-025b-47b6-8751-b2b6f70d1207",
   "metadata": {},
   "outputs": [],
   "source": [
    "mycursor.execute(\"CREATE TABLE customers (name VARCHAR(255), address VARCHAR(255))\")"
   ]
  },
  {
   "cell_type": "code",
   "execution_count": 7,
   "id": "40e9e25f-09a5-4746-81dc-cf711794fd4f",
   "metadata": {},
   "outputs": [
    {
     "name": "stdout",
     "output_type": "stream",
     "text": [
      "('information_schema',)\n",
      "('mydatabase',)\n",
      "('mysql',)\n",
      "('performance_schema',)\n",
      "('sakila',)\n",
      "('schooldb',)\n",
      "('sys',)\n"
     ]
    }
   ],
   "source": [
    "mycursor.execute(\"SHOW DATABASES\")\n",
    "\n",
    "for x in mycursor:\n",
    "    print(x)"
   ]
  },
  {
   "cell_type": "code",
   "execution_count": 8,
   "id": "a953f6c5-a1e5-40d0-96ed-ff4f4334b448",
   "metadata": {},
   "outputs": [],
   "source": [
    "mydb.close()"
   ]
  },
  {
   "cell_type": "code",
   "execution_count": 9,
   "id": "caab785f-28cb-4c05-b380-221bcfe94d7d",
   "metadata": {},
   "outputs": [],
   "source": [
    "import mysql.connector\n"
   ]
  },
  {
   "cell_type": "code",
   "execution_count": 10,
   "id": "d6cec2f0-abcf-4b66-8b96-6c9542d9e9f1",
   "metadata": {},
   "outputs": [
    {
     "name": "stdout",
     "output_type": "stream",
     "text": [
      "<mysql.connector.connection_cext.CMySQLConnection object at 0x000002D07F933C90>\n"
     ]
    }
   ],
   "source": [
    "mydb =  mysql.connector.connect(\n",
    "    host =\"127.0.0.1\",\n",
    "    port = 3306,\n",
    "    user = \"toygar\",\n",
    "    password = \"xxxxxxx\",\n",
    "    database = \"schooldb\" )\n",
    "\n",
    "print(mydb)\n",
    "\n",
    "    \n"
   ]
  },
  {
   "cell_type": "code",
   "execution_count": 11,
   "id": "92d145ca-8143-4b1f-ad9e-658b4c06bc77",
   "metadata": {},
   "outputs": [],
   "source": [
    "mycursor = mydb.cursor()"
   ]
  },
  {
   "cell_type": "code",
   "execution_count": 12,
   "id": "6f48e31d-b886-4485-be27-b3eda0a09f91",
   "metadata": {},
   "outputs": [
    {
     "name": "stdout",
     "output_type": "stream",
     "text": [
      "('information_schema',)\n",
      "('mydatabase',)\n",
      "('mysql',)\n",
      "('performance_schema',)\n",
      "('sakila',)\n",
      "('schooldb',)\n",
      "('sys',)\n"
     ]
    }
   ],
   "source": [
    "mycursor.execute(\"SHOW DATABASES\")\n",
    "\n",
    "for x in mycursor:\n",
    "    print(x)"
   ]
  },
  {
   "cell_type": "code",
   "execution_count": 6,
   "id": "dc25f995-d2bb-46d6-9d8e-59fea4c7b96f",
   "metadata": {},
   "outputs": [],
   "source": [
    "mydb.close()"
   ]
  },
  {
   "cell_type": "markdown",
   "id": "df8c8804-fe3d-4a7a-b939-a69eeb17d30f",
   "metadata": {},
   "source": [
    "<div style=\"padding:20px; \n",
    "            color:#36FF00;\n",
    "            margin:10px;\n",
    "            font-size:110%;\n",
    "            display:fill;\n",
    "            border-radius:10px;\n",
    "            border-style: solid;\n",
    "            border-color: #36FF00;\n",
    "            background-color:#000000;\n",
    "            overflow:hidden;\n",
    "            font-weight:500\">Veri Ekleme\n",
    "            </div>"
   ]
  },
  {
   "cell_type": "code",
   "execution_count": 13,
   "id": "f080f27d-cd40-47e8-a70f-c745203eea54",
   "metadata": {},
   "outputs": [],
   "source": [
    "import mysql.connector"
   ]
  },
  {
   "cell_type": "code",
   "execution_count": 14,
   "id": "1af2796d-0b6e-429f-b659-de7dfcd08de9",
   "metadata": {},
   "outputs": [
    {
     "name": "stdout",
     "output_type": "stream",
     "text": [
      "database bağlantısı kapandı\n"
     ]
    }
   ],
   "source": [
    "def insertProduct():\n",
    "    conn = mysql.connector.connect(\n",
    "        host =\"127.0.0.1\",\n",
    "        port = 3306,\n",
    "        user = \"toygar\",\n",
    "        password = \"xxxxxxx\",\n",
    "        database = \"node-app\" )\n",
    "\n",
    "    cursor = conn.cursor()\n",
    "\n",
    "    sql = \"INSERT INTO products ( name,price, imageUrl,description) VALUES (%s, %s, %s, %s);\"\n",
    "    values = ( \"Huawei\", \"5000\", \"3.jpg\", \"myphone\")\n",
    "\n",
    "    cursor.execute(sql, values)\n",
    "\n",
    "    try:\n",
    "\n",
    "        conn.commit()\n",
    "\n",
    "    except mysql.connector.Error as err:\n",
    "        print(\"hata : \", err)\n",
    "\n",
    "    finally:\n",
    "        conn.close()\n",
    "        print(\"database bağlantısı kapandı\")\n",
    "\n",
    "insertProduct()"
   ]
  },
  {
   "cell_type": "code",
   "execution_count": 15,
   "id": "95bba23e-2dc8-4b4e-9e9d-664bd03d37bc",
   "metadata": {},
   "outputs": [
    {
     "name": "stdout",
     "output_type": "stream",
     "text": [
      "Ürün adını girin:  Casper\n",
      "Ürün fiyatı girin:  5000\n",
      "İmage URL girin:  123.jpg\n",
      "Ürün tanımı girin:  good phone\n"
     ]
    },
    {
     "name": "stdout",
     "output_type": "stream",
     "text": [
      "1 tane kayıt eklendi\n",
      "son eklenen kaydın id'si: 2\n",
      "database bağlantısı kapandı\n"
     ]
    }
   ],
   "source": [
    "def insertProduct(name, price, imageUrl, description):\n",
    "    conn = mysql.connector.connect(\n",
    "        host =\"127.0.0.1\",\n",
    "        port = 3306,\n",
    "        user = \"toygar\",\n",
    "        password = \"xxxxxxx\",\n",
    "        database = \"node-app\" )\n",
    "\n",
    "    cursor = conn.cursor()\n",
    "\n",
    "    sql = \"INSERT INTO products ( name,price, imageUrl,description) VALUES (%s, %s, %s, %s);\"\n",
    "    values = ( name, price, imageUrl, description)\n",
    "\n",
    "    cursor.execute(sql, values)\n",
    "\n",
    "    try:\n",
    "\n",
    "        conn.commit()\n",
    "        print(f\"{cursor.rowcount} tane kayıt eklendi\")\n",
    "        print(f\"son eklenen kaydın id'si: {cursor.lastrowid}\")\n",
    "\n",
    "    except mysql.connector.Error as err:\n",
    "        print(\"hata : \", err)\n",
    "\n",
    "    finally:\n",
    "        conn.close()\n",
    "        print(\"database bağlantısı kapandı\")\n",
    "\n",
    "name = input(\"Ürün adını girin: \")\n",
    "price = float(input(\"Ürün fiyatı girin: \"))\n",
    "imageUrl = input(\"İmage URL girin: \")\n",
    "description = input(\"Ürün tanımı girin: \")\n",
    "\n",
    "insertProduct(name, price, imageUrl, description)\n",
    "\n",
    "\n",
    "\n",
    "\n"
   ]
  },
  {
   "cell_type": "code",
   "execution_count": 16,
   "id": "4f78ce6f-4637-4e49-946c-45f407815b72",
   "metadata": {},
   "outputs": [
    {
     "name": "stdout",
     "output_type": "stream",
     "text": [
      "Ürün adını girin:  Samsung S7\n",
      "Ürün fiyatı girin:  7000\n",
      "İmage URL girin:  1234.jpg\n",
      "Ürün tanımı girin:  good phone\n",
      "devam etmek istiyor musunuz? (e/h) e\n",
      "Ürün adını girin:  Iphone 15 Max\n",
      "Ürün fiyatı girin:  90000\n",
      "İmage URL girin:  6547.jpg\n",
      "Ürün tanımı girin:  excellent phone\n",
      "devam etmek istiyor musunuz? (e/h) h\n"
     ]
    },
    {
     "name": "stdout",
     "output_type": "stream",
     "text": [
      "Kayıtlarınız veritabanına aktarılıyor...\n",
      "[('Samsung S7', 7000.0, '1234.jpg', 'good phone'), ('Iphone 15 Max', 90000.0, '6547.jpg', 'excellent phone')]\n",
      "2 tane kayıt eklendi\n",
      "son eklenen kaydın id'si: 3\n",
      "database bağlantısı kapandı\n"
     ]
    }
   ],
   "source": [
    "def insertProducts(list):\n",
    "    conn = mysql.connector.connect(\n",
    "        host =\"127.0.0.1\",\n",
    "        port = 3306,\n",
    "        user = \"toygar\",\n",
    "        password = \"xxxxxxx\",\n",
    "        database = \"node-app\" )\n",
    "\n",
    "    cursor = conn.cursor()\n",
    "\n",
    "    sql = \"INSERT INTO products ( name,price, imageUrl,description) VALUES (%s, %s, %s, %s);\"\n",
    "    values = list\n",
    "\n",
    "    cursor.executemany(sql, values)\n",
    "\n",
    "    try:\n",
    "\n",
    "        conn.commit()\n",
    "        print(f\"{cursor.rowcount} tane kayıt eklendi\")\n",
    "        print(f\"son eklenen kaydın id'si: {cursor.lastrowid}\")\n",
    "\n",
    "    except mysql.connector.Error as err:\n",
    "        print(\"hata : \", err)\n",
    "\n",
    "    finally:\n",
    "        conn.close()\n",
    "        print(\"database bağlantısı kapandı\")\n",
    "list = []\n",
    "while True:\n",
    "    name = input(\"Ürün adını girin: \")\n",
    "    price = float(input(\"Ürün fiyatı girin: \"))\n",
    "    imageUrl = input(\"İmage URL girin: \")\n",
    "    description = input(\"Ürün tanımı girin: \")\n",
    "\n",
    "    list.append((name, price, imageUrl, description))\n",
    "\n",
    "    result = input(\"devam etmek istiyor musunuz? (e/h)\")\n",
    "    if result == \"h\":\n",
    "        print(\"Kayıtlarınız veritabanına aktarılıyor...\")\n",
    "        print(list)\n",
    "        insertProducts(list) \n",
    "        break"
   ]
  },
  {
   "cell_type": "markdown",
   "id": "fd3dfc29-cf75-41b7-a3c8-6e6e47f5a5cc",
   "metadata": {},
   "source": [
    "## Uygulama Kayıt Ekleme"
   ]
  },
  {
   "cell_type": "code",
   "execution_count": 17,
   "id": "88e186b1-a3a3-4864-95f1-2142f246c721",
   "metadata": {},
   "outputs": [],
   "source": [
    "import mysql.connector\n",
    "from datetime import datetime\n",
    "from connection import connection"
   ]
  },
  {
   "cell_type": "code",
   "execution_count": 18,
   "id": "9f34909a-5543-4959-a727-c802baf3f851",
   "metadata": {},
   "outputs": [],
   "source": [
    "\n",
    "\n",
    "mycursor = connection.cursor()"
   ]
  },
  {
   "cell_type": "code",
   "execution_count": 19,
   "id": "d5ef7d49-ba28-44d8-99a5-1443907be093",
   "metadata": {},
   "outputs": [
    {
     "name": "stdout",
     "output_type": "stream",
     "text": [
      "6 records were inserted.\n",
      "database bağlantısı kapandı\n"
     ]
    }
   ],
   "source": [
    "# ÇOKLU KAYIT EKLEME\n",
    "#import datetime kullanırsak datetime.datetime kullanmamız gerekiyor\n",
    "from datetime import datetime\n",
    "\n",
    "sql = \"INSERT INTO student ( StudentNumber, Name, Surname, Birthdate, Gender) VALUES ( %s, %s, %s, %s, %s)\"\n",
    "\n",
    "ogrenciler = [\n",
    "    (\"301\",\"Ahmet\",\"Yılmaz\",datetime(2005, 5, 17),\"E\"),\n",
    "    (\"302\",\"Ali\",\"Can\",datetime(2005, 6, 17),\"E\"),\n",
    "    (\"303\",\"Canan\",\"Tan\",datetime(2005, 7, 7),\"K\"),\n",
    "    (\"304\",\"Ayşe\",\"Taner\",datetime(2005, 9, 23),\"K\"),\n",
    "    (\"305\",\"Bahadır\",\"Toksöz\",datetime(2004, 7, 27),\"E\"),\n",
    "    (\"306\",\"Ali\",\"Cenk\",datetime(2003, 8, 25),\"E\")\n",
    "]\n",
    "\n",
    "mycursor.executemany(sql, ogrenciler)\n",
    "\n",
    "try:\n",
    "\n",
    "    connection.commit()\n",
    "    print(mycursor.rowcount, \"records were inserted.\")\n",
    "\n",
    "except mysql.connector.Error as err:\n",
    "    print(\"hata : \", err)\n",
    "\n",
    "finally:\n",
    "    connection.close()\n",
    "    print(\"database bağlantısı kapandı\")  "
   ]
  },
  {
   "cell_type": "code",
   "execution_count": null,
   "id": "edac41cc-0ece-46b3-8dc2-d4da0704b74e",
   "metadata": {},
   "outputs": [],
   "source": []
  }
 ],
 "metadata": {
  "kernelspec": {
   "display_name": "Python 3 (ipykernel)",
   "language": "python",
   "name": "python3"
  },
  "language_info": {
   "codemirror_mode": {
    "name": "ipython",
    "version": 3
   },
   "file_extension": ".py",
   "mimetype": "text/x-python",
   "name": "python",
   "nbconvert_exporter": "python",
   "pygments_lexer": "ipython3",
   "version": "3.11.7"
  }
 },
 "nbformat": 4,
 "nbformat_minor": 5
}
