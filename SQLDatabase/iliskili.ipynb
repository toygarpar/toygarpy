{
 "cells": [
  {
   "cell_type": "code",
   "execution_count": 1,
   "id": "354fa0a3-0789-41e9-9d02-e0da48574f70",
   "metadata": {},
   "outputs": [],
   "source": [
    "import mysql.connector"
   ]
  },
  {
   "cell_type": "code",
   "execution_count": null,
   "id": "2397fca4-2798-4c0f-9e07-c24bc202a380",
   "metadata": {},
   "outputs": [
    {
     "name": "stdout",
     "output_type": "stream",
     "text": [
      "id: 1  name: Huawei  price:5000 image: 3.jpg  description: myphone category: 1\n",
      "(1, 'Huawei', Decimal('5000'), '3.jpg', 'myphone', 1)\n",
      "************\n",
      "id: 2  name: Casper  price:5000 image: 123.jpg  description: good phone category: 1\n",
      "(2, 'Casper', Decimal('5000'), '123.jpg', 'good phone', 1)\n",
      "************\n",
      "id: 3  name: Samsung S7  price:5000 image: 1234.jpg  description: good phone category: 1\n",
      "(3, 'Samsung S7', Decimal('5000'), '1234.jpg', 'good phone', 1)\n",
      "************\n",
      "id: 4  name: Iphone 15 Max  price:90000 image: 6547.jpg  description: excellent phone category: 1\n",
      "(4, 'Iphone 15 Max', Decimal('90000'), '6547.jpg', 'excellent phone', 1)\n",
      "************\n",
      "id: 5  name: Iphone 7  price:15000 image: 125.jpg  description: old phone category: 1\n",
      "(5, 'Iphone 7', Decimal('15000'), '125.jpg', 'old phone', 1)\n",
      "************\n",
      "id: 6  name: Xiaomi  price:15000 image: 44556.jpg  description: phone phone category: 1\n",
      "(6, 'Xiaomi', Decimal('15000'), '44556.jpg', 'phone phone', 1)\n",
      "************\n",
      "id: 7  name: Huawei Matebbok  price:30000 image: 1214.jpg  description: iyi category: 2\n",
      "(7, 'Huawei Matebbok', Decimal('30000'), '1214.jpg', 'iyi', 2)\n",
      "************\n",
      "id: 8  name: MacBook Pro  price:150000 image: 12154.jpg  description: iyi macbook category: 2\n",
      "(8, 'MacBook Pro', Decimal('150000'), '12154.jpg', 'iyi macbook', 2)\n",
      "************\n",
      "database bağlantısı kapandı\n"
     ]
    }
   ],
   "source": [
    "def getProducts():\n",
    "    conn = mysql.connector.connect(\n",
    "        host =\"127.0.0.1\",\n",
    "        port = 3306,\n",
    "        user = \"toygar\",\n",
    "        password = \"xxxxxxx\",\n",
    "        database = \"node-app\" )\n",
    "\n",
    "    cursor = conn.cursor()\n",
    "\n",
    "    sql = \"SELECT * FROM products;\"\n",
    "    \n",
    "\n",
    "    cursor.execute(sql)\n",
    "\n",
    "    \n",
    "    \n",
    "    result = cursor.fetchall()\n",
    "\n",
    "    for product in result:\n",
    "        print(f\"id: {product[0]}  name: {product[1]}  price:{product[2]} image: {product[3]}  description: {product[4]} category: {product[5]}\")\n",
    "        \n",
    "        print(product)\n",
    "        print(\"************\")\n",
    "    \n",
    "    conn.close()\n",
    "    print(\"database bağlantısı kapandı\")\n",
    "\n",
    "getProducts()\n"
   ]
  },
  {
   "cell_type": "code",
   "execution_count": null,
   "id": "d5754f84-d72d-4456-9b95-80dd972b1bdf",
   "metadata": {},
   "outputs": [
    {
     "name": "stdout",
     "output_type": "stream",
     "text": [
      "(1, 'telefon')\n",
      "************\n",
      "(2, 'bilgisayar')\n",
      "************\n",
      "database bağlantısı kapandı\n"
     ]
    }
   ],
   "source": [
    " def getProducts():\n",
    "    conn = mysql.connector.connect(\n",
    "        host =\"127.0.0.1\",\n",
    "        port = 3306,\n",
    "        user = \"toygar\",\n",
    "        password = \"xxxxxxx\",\n",
    "        database = \"node-app\" )\n",
    "\n",
    "    cursor = conn.cursor()\n",
    "\n",
    "    sql = \"SELECT * FROM categories;\"\n",
    "    \n",
    "\n",
    "    cursor.execute(sql)\n",
    "\n",
    "    \n",
    "    \n",
    "    result = cursor.fetchall()\n",
    "\n",
    "    for product in result:\n",
    "        \n",
    "        \n",
    "        print(product)\n",
    "        print(\"************\")\n",
    "    \n",
    "    conn.close()\n",
    "    print(\"database bağlantısı kapandı\")\n",
    "\n",
    "getProducts()\n"
   ]
  },
  {
   "cell_type": "code",
   "execution_count": 7,
   "id": "e7872534-2cff-419d-a72e-3f9cb391237f",
   "metadata": {},
   "outputs": [],
   "source": [
    "#iki tabloyu birleştirme"
   ]
  },
  {
   "cell_type": "code",
   "execution_count": null,
   "id": "32076e21-3bab-48cf-a5b7-4f065e759c09",
   "metadata": {},
   "outputs": [
    {
     "name": "stdout",
     "output_type": "stream",
     "text": [
      "pname: Huawei  price: 5000  kat:telefon\n",
      "('Huawei', Decimal('5000'), 'telefon')\n",
      "************\n",
      "pname: Casper  price: 5000  kat:telefon\n",
      "('Casper', Decimal('5000'), 'telefon')\n",
      "************\n",
      "pname: Samsung S7  price: 5000  kat:telefon\n",
      "('Samsung S7', Decimal('5000'), 'telefon')\n",
      "************\n",
      "pname: Iphone 15 Max  price: 90000  kat:telefon\n",
      "('Iphone 15 Max', Decimal('90000'), 'telefon')\n",
      "************\n",
      "pname: Iphone 7  price: 15000  kat:telefon\n",
      "('Iphone 7', Decimal('15000'), 'telefon')\n",
      "************\n",
      "pname: Xiaomi  price: 15000  kat:telefon\n",
      "('Xiaomi', Decimal('15000'), 'telefon')\n",
      "************\n",
      "pname: Huawei Matebbok  price: 30000  kat:bilgisayar\n",
      "('Huawei Matebbok', Decimal('30000'), 'bilgisayar')\n",
      "************\n",
      "pname: MacBook Pro  price: 150000  kat:bilgisayar\n",
      "('MacBook Pro', Decimal('150000'), 'bilgisayar')\n",
      "************\n",
      "database bağlantısı kapandı\n"
     ]
    }
   ],
   "source": [
    "def getProducts():\n",
    "    conn = mysql.connector.connect(\n",
    "        host =\"127.0.0.1\",\n",
    "        port = 3306,\n",
    "        user = \"toygar\",\n",
    "        password = \"xxxxxxx\",\n",
    "        database = \"node-app\" )\n",
    "\n",
    "    cursor = conn.cursor()\n",
    "\n",
    "    sql = \"SELECT p.name, p.price, c.name  FROM products as p inner join categories as c on c.id = p.categoryid;\"\n",
    "    \n",
    "\n",
    "    cursor.execute(sql)\n",
    "\n",
    "    \n",
    "    \n",
    "    result = cursor.fetchall()\n",
    "\n",
    "    for product in result:\n",
    "        \n",
    "        print(f\"pname: {product[0]}  price: {product[1]}  kat:{product[2]}\")\n",
    "        print(product)\n",
    "        print(\"************\")\n",
    "    \n",
    "    conn.close()\n",
    "    print(\"database bağlantısı kapandı\")\n",
    "\n",
    "getProducts()\n"
   ]
  },
  {
   "cell_type": "code",
   "execution_count": null,
   "id": "6a3791ba-2ef4-4a44-a2aa-26693a88cc9b",
   "metadata": {},
   "outputs": [
    {
     "name": "stdout",
     "output_type": "stream",
     "text": [
      "pname: Huawei  price: 5000  kat:telefon\n",
      "('Huawei', Decimal('5000'), 'telefon')\n",
      "************\n",
      "pname: Casper  price: 5000  kat:telefon\n",
      "('Casper', Decimal('5000'), 'telefon')\n",
      "************\n",
      "pname: Samsung S7  price: 5000  kat:telefon\n",
      "('Samsung S7', Decimal('5000'), 'telefon')\n",
      "************\n",
      "pname: Iphone 15 Max  price: 90000  kat:telefon\n",
      "('Iphone 15 Max', Decimal('90000'), 'telefon')\n",
      "************\n",
      "pname: Iphone 7  price: 15000  kat:telefon\n",
      "('Iphone 7', Decimal('15000'), 'telefon')\n",
      "************\n",
      "pname: Xiaomi  price: 15000  kat:telefon\n",
      "('Xiaomi', Decimal('15000'), 'telefon')\n",
      "************\n",
      "database bağlantısı kapandı\n"
     ]
    }
   ],
   "source": [
    "def getProducts():\n",
    "    conn = mysql.connector.connect(\n",
    "        host =\"127.0.0.1\",\n",
    "        port = 3306,\n",
    "        user = \"toygar\",\n",
    "        password = \"xxxxxxx\",\n",
    "        database = \"node-app\" )\n",
    "\n",
    "    cursor = conn.cursor()\n",
    "\n",
    "    sql = \"SELECT p.name, p.price, c.name  FROM products as p inner join categories as c on c.id = p.categoryid where c.name = 'telefon';\"\n",
    "    \n",
    "\n",
    "    cursor.execute(sql)\n",
    "\n",
    "    \n",
    "    \n",
    "    result = cursor.fetchall()\n",
    "\n",
    "    for product in result:\n",
    "        \n",
    "        print(f\"pname: {product[0]}  price: {product[1]}  kat:{product[2]}\")\n",
    "        print(product)\n",
    "        print(\"************\")\n",
    "    \n",
    "    conn.close()\n",
    "    print(\"database bağlantısı kapandı\")\n",
    "\n",
    "getProducts()\n"
   ]
  },
  {
   "cell_type": "code",
   "execution_count": null,
   "id": "46c20c5a-c409-44ec-a81d-5237e1de1bc0",
   "metadata": {},
   "outputs": [
    {
     "name": "stdout",
     "output_type": "stream",
     "text": [
      "pname: Huawei  price: 5000  kat:telefon\n",
      "('Huawei', Decimal('5000'), 'telefon')\n",
      "************\n",
      "database bağlantısı kapandı\n"
     ]
    }
   ],
   "source": [
    "def getProducts():\n",
    "    conn = mysql.connector.connect(\n",
    "        host =\"127.0.0.1\",\n",
    "        port = 3306,\n",
    "        user = \"toygar\",\n",
    "        password = \"xxxxxxx\",\n",
    "        database = \"node-app\" )\n",
    "\n",
    "    cursor = conn.cursor()\n",
    "\n",
    "    sql = \"SELECT p.name, p.price, c.name  FROM products as p inner join categories as c on c.id = p.categoryid where p.name = 'Huawei';\"\n",
    "    \n",
    "\n",
    "    cursor.execute(sql)\n",
    "\n",
    "    \n",
    "    \n",
    "    result = cursor.fetchall()\n",
    "\n",
    "    for product in result:\n",
    "        \n",
    "        print(f\"pname: {product[0]}  price: {product[1]}  kat:{product[2]}\")\n",
    "        print(product)\n",
    "        print(\"************\")\n",
    "    \n",
    "    conn.close()\n",
    "    print(\"database bağlantısı kapandı\")\n",
    "\n",
    "getProducts()"
   ]
  },
  {
   "cell_type": "code",
   "execution_count": null,
   "id": "d087bb9f-51c8-43f1-965d-9c5f57929be0",
   "metadata": {},
   "outputs": [],
   "source": []
  }
 ],
 "metadata": {
  "kernelspec": {
   "display_name": "Python 3 (ipykernel)",
   "language": "python",
   "name": "python3"
  },
  "language_info": {
   "codemirror_mode": {
    "name": "ipython",
    "version": 3
   },
   "file_extension": ".py",
   "mimetype": "text/x-python",
   "name": "python",
   "nbconvert_exporter": "python",
   "pygments_lexer": "ipython3",
   "version": "3.11.7"
  }
 },
 "nbformat": 4,
 "nbformat_minor": 5
}
