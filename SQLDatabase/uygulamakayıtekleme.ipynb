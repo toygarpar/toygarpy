{
 "cells": [
  {
   "cell_type": "code",
   "execution_count": 3,
   "id": "84a672ec-2a53-47ee-9bd5-da5e684d27fa",
   "metadata": {},
   "outputs": [],
   "source": [
    "import mysql.connector\n",
    "from datetime import datetime\n",
    "from connection import connection\n",
    "\n",
    "\n",
    "      "
   ]
  },
  {
   "cell_type": "code",
   "execution_count": 4,
   "id": "6437f49b-55fe-4afe-ab52-4716f0de8e48",
   "metadata": {},
   "outputs": [],
   "source": [
    "class Student:\n",
    "    connection = connection\n",
    "    mycursor = connection.cursor()\n",
    "\n",
    "    \n",
    "    def __init__(self, studentNumber, name, surname, birthdate, gender):\n",
    "        self.studentNumber = studentNumber\n",
    "        self.name = name\n",
    "        self.surname = surname\n",
    "        self.birthdate = birthdate\n",
    "        self.gender = gender\n",
    "\n",
    "    def saveStudent(self):\n",
    "        sql = \"INSERT INTO student ( StudentNumber, name, Surname, Birthdate, Gender) VALUES ( %s, %s, %s, %s, %s)\"\n",
    "        value = (self.studentNumber, self.name, self.surname, self.birthdate, self.gender)\n",
    "        Student.mycursor.execute(sql, value)\n",
    "\n",
    "        try:\n",
    "        \n",
    "            Student.connection.commit()\n",
    "            print(Student.mycursor.rowcount, \"records were inserted.\")\n",
    "        \n",
    "        except mysql.connector.Error as err:\n",
    "            print(\"hata : \", err)\n",
    "        \n",
    "        finally:\n",
    "            Student.connection.close()\n",
    "            print(\"database bağlantısı kapandı\")  \n",
    "\n",
    "\n",
    "    @staticmethod\n",
    "    def saveStudents(students):\n",
    "        sql = \"INSERT INTO student ( StudentNumber, name, Surname, Birthdate, Gender) VALUES ( %s, %s, %s, %s, %s)\"\n",
    "        values = students\n",
    "        Student.mycursor.executemany(sql, values)\n",
    "\n",
    "        try:\n",
    "        \n",
    "            Student.connection.commit()\n",
    "            print(Student.mycursor.rowcount, \"records were inserted.\")\n",
    "        \n",
    "        except mysql.connector.Error as err:\n",
    "            print(\"hata : \", err)\n",
    "        \n",
    "        finally:\n",
    "            Student.connection.close()\n",
    "            print(\"database bağlantısı kapandı\")  \n",
    "\n",
    "#ahmet = Student(\"102\",\"Ahmet\",\"Yılmaz\",datetime(2005, 5, 17),\"E\")\n",
    "#ahmet.saveStudent()"
   ]
  },
  {
   "cell_type": "code",
   "execution_count": 5,
   "id": "443c917a-696c-430e-baf3-4030fff89835",
   "metadata": {},
   "outputs": [
    {
     "name": "stdout",
     "output_type": "stream",
     "text": [
      "6 records were inserted.\n",
      "database bağlantısı kapandı\n"
     ]
    }
   ],
   "source": [
    "ogrenciler = [\n",
    "    (\"101\",\"Ahmet\",\"Yılmaz\",datetime(2005, 5, 17),\"E\"),\n",
    "    (\"102\",\"Ali\",\"Can\",datetime(2005, 6, 17),\"E\"),\n",
    "    (\"103\",\"Canan\",\"Tan\",datetime(2005, 7, 7),\"K\"),\n",
    "    (\"104\",\"Ayşe\",\"Taner\",datetime(2005, 9, 23),\"K\"),\n",
    "    (\"105\",\"Bahadır\",\"Toksöz\",datetime(2004, 7, 27),\"E\"),\n",
    "    (\"106\",\"Ali\",\"Cenk\",datetime(2003, 8, 25),\"E\")\n",
    "]\n",
    "\n",
    "Student.saveStudents(ogrenciler)\n",
    "    "
   ]
  },
  {
   "cell_type": "code",
   "execution_count": null,
   "id": "230e8430-acd9-4557-bc1c-7e4929054f15",
   "metadata": {},
   "outputs": [],
   "source": []
  },
  {
   "cell_type": "code",
   "execution_count": null,
   "id": "c621c85e-cc6b-4a9c-ae8a-056bbfb5e0b3",
   "metadata": {},
   "outputs": [],
   "source": []
  },
  {
   "cell_type": "code",
   "execution_count": null,
   "id": "487e1c1f-8522-4ee5-a7c4-6b7f412942f8",
   "metadata": {},
   "outputs": [],
   "source": []
  },
  {
   "cell_type": "code",
   "execution_count": null,
   "id": "25970524-697d-400d-904c-727e433829e0",
   "metadata": {},
   "outputs": [],
   "source": []
  },
  {
   "cell_type": "code",
   "execution_count": null,
   "id": "f8ecd9be-f6e2-4617-8357-28416c5584d6",
   "metadata": {},
   "outputs": [],
   "source": []
  },
  {
   "cell_type": "code",
   "execution_count": 3,
   "id": "f9d1b3e9-36a6-4fc4-b01a-06f457475a7a",
   "metadata": {},
   "outputs": [
    {
     "name": "stdout",
     "output_type": "stream",
     "text": [
      "6 records were inserted.\n",
      "database bağlantısı kapandı\n"
     ]
    }
   ],
   "source": [
    "# ÇOKLU KAYIT EKLEME\n",
    "#import datetime kullanırsak datetime.datetime kullanmamız gerekiyor\n",
    "from datetime import datetime\n",
    "\n",
    "sql = \"INSERT INTO student ( StudentNumber, ame, Surname, Birthdate, Gender) VALUES ( %s, %s, %s, %s, %s)\"\n",
    "\n",
    "ogrenciler = [\n",
    "    (\"301\",\"Ahmet\",\"Yılmaz\",datetime(2005, 5, 17),\"E\"),\n",
    "    (\"302\",\"Ali\",\"Can\",datetime(2005, 6, 17),\"E\"),\n",
    "    (\"303\",\"Canan\",\"Tan\",datetime(2005, 7, 7),\"K\"),\n",
    "    (\"304\",\"Ayşe\",\"Taner\",datetime(2005, 9, 23),\"K\"),\n",
    "    (\"305\",\"Bahadır\",\"Toksöz\",datetime(2004, 7, 27),\"E\"),\n",
    "    (\"306\",\"Ali\",\"Cenk\",datetime(2003, 8, 25),\"E\")\n",
    "]\n",
    "\n",
    "mycursor.executemany(sql, ogrenciler)\n",
    "\n",
    "try:\n",
    "\n",
    "    connection.commit()\n",
    "    print(mycursor.rowcount, \"records were inserted.\")\n",
    "\n",
    "except mysql.connector.Error as err:\n",
    "    print(\"hata : \", err)\n",
    "\n",
    "finally:\n",
    "    connection.close()\n",
    "    print(\"database bağlantısı kapandı\")  "
   ]
  },
  {
   "cell_type": "code",
   "execution_count": null,
   "id": "34005bd2-843e-4053-befc-fe5412e84e83",
   "metadata": {},
   "outputs": [],
   "source": []
  }
 ],
 "metadata": {
  "kernelspec": {
   "display_name": "Python 3 (ipykernel)",
   "language": "python",
   "name": "python3"
  },
  "language_info": {
   "codemirror_mode": {
    "name": "ipython",
    "version": 3
   },
   "file_extension": ".py",
   "mimetype": "text/x-python",
   "name": "python",
   "nbconvert_exporter": "python",
   "pygments_lexer": "ipython3",
   "version": "3.11.7"
  }
 },
 "nbformat": 4,
 "nbformat_minor": 5
}
