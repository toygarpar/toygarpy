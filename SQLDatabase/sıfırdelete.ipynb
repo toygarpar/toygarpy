{
 "cells": [
  {
   "cell_type": "code",
   "execution_count": 1,
   "id": "364c35a3-4551-4490-a860-5ebf74fb79b8",
   "metadata": {},
   "outputs": [],
   "source": [
    "import mysql.connector"
   ]
  },
  {
   "cell_type": "code",
   "execution_count": null,
   "id": "cc24a9a7-8872-411f-9997-222db1a90694",
   "metadata": {},
   "outputs": [],
   "source": [
    "#with function parameter\n",
    "def deleteProducts(id):\n",
    "    conn = mysql.connector.connect(\n",
    "        host =\"127.0.0.1\",\n",
    "        port = 3306,\n",
    "        user = \"toygar\",\n",
    "        password = \"xxxxxxx\",\n",
    "        database = \"node-app\" )\n",
    "\n",
    "    cursor = conn.cursor()\n",
    "\n",
    "    \n",
    "    sql = \"delete from products where id = %s;\"\n",
    "    \n",
    "    vals = (id,)\n",
    "\n",
    "    cursor.execute(sql, vals)\n",
    "\n",
    "    \n",
    "    \n",
    "    try:\n",
    "    \n",
    "        conn.commit()\n",
    "        print(f\"{cursor.rowcount} tane kayıt silindi\")\n",
    "        \n",
    "        \n",
    "        cursor.close()\n",
    "    \n",
    "    except mysql.connector.Error as err:\n",
    "        print(\"hata : \", err)\n",
    "    \n",
    "    finally:\n",
    "        conn.close()\n",
    "        print(\"database bağlantısı kapandı\")"
   ]
  },
  {
   "cell_type": "code",
   "execution_count": null,
   "id": "fa60b843-c15c-4230-8aaa-c8acdcb5ac51",
   "metadata": {
    "jupyter": {
     "source_hidden": true
    }
   },
   "outputs": [],
   "source": [
    "deleteProducts(7)"
   ]
  },
  {
   "cell_type": "code",
   "execution_count": null,
   "id": "ebc043ce-1841-43b7-b5a0-44854c97263b",
   "metadata": {},
   "outputs": [],
   "source": [
    "import mysql.connector\n",
    "def deleteProducts():\n",
    "    conn = mysql.connector.connect(\n",
    "        host =\"127.0.0.1\",\n",
    "        port = 3306,\n",
    "        user = \"toygar\",\n",
    "        password = \"xxxxxxx\",\n",
    "        database = \"node-app\" )\n",
    "\n",
    "    cursor = conn.cursor()\n",
    "\n",
    "    \n",
    "    sql = \"delete from products where id = 6;\"\n",
    "    \n",
    "    \n",
    "\n",
    "    cursor.execute(sql)\n",
    "\n",
    "    \n",
    "    \n",
    "    try:\n",
    "    \n",
    "        conn.commit()\n",
    "        print(f\"{cursor.rowcount} tane kayıt silindi\")\n",
    "        \n",
    "        \n",
    "        cursor.close()\n",
    "    \n",
    "    except mysql.connector.Error as err:\n",
    "        print(\"hata : \", err)\n",
    "    \n",
    "    finally:\n",
    "        conn.close()\n",
    "        print(\"database bağlantısı kapandı\")\n",
    "\n",
    "\n",
    "deleteProducts()"
   ]
  },
  {
   "cell_type": "code",
   "execution_count": null,
   "id": "979db347-db60-421f-a53c-4d3286264c2d",
   "metadata": {},
   "outputs": [],
   "source": []
  }
 ],
 "metadata": {
  "kernelspec": {
   "display_name": "Python 3 (ipykernel)",
   "language": "python",
   "name": "python3"
  },
  "language_info": {
   "codemirror_mode": {
    "name": "ipython",
    "version": 3
   },
   "file_extension": ".py",
   "mimetype": "text/x-python",
   "name": "python",
   "nbconvert_exporter": "python",
   "pygments_lexer": "ipython3",
   "version": "3.11.7"
  }
 },
 "nbformat": 4,
 "nbformat_minor": 5
}
