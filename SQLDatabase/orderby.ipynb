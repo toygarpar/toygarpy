{
 "cells": [
  {
   "cell_type": "code",
   "execution_count": 1,
   "id": "165fd2bb-7de5-47a1-93dc-08bd60c85952",
   "metadata": {},
   "outputs": [],
   "source": [
    "import mysql.connector"
   ]
  },
  {
   "cell_type": "code",
   "execution_count": 2,
   "id": "727c5dc4-7452-4268-b13a-3eb3844b34a7",
   "metadata": {},
   "outputs": [
    {
     "name": "stdout",
     "output_type": "stream",
     "text": [
      "id: 2  name: Casper  price:5000\n",
      "id: 1  name: Huawei  price:5000\n",
      "id: 4  name: Iphone 15 Max  price:90000\n",
      "id: 3  name: Samsung S7  price:7000\n",
      "************\n",
      "database bağlantısı kapandı\n"
     ]
    }
   ],
   "source": [
    "def getProducts():\n",
    "    conn = mysql.connector.connect(\n",
    "        host =\"127.0.0.1\",\n",
    "        port = 3306,\n",
    "        user = \"toygar\",\n",
    "        password = \"xxxxxxx\",\n",
    "        database = \"node-app\" )\n",
    "\n",
    "    cursor = conn.cursor()\n",
    "\n",
    "    \n",
    "\n",
    "    cursor.execute(\"SELECT * FROM products ORDER BY name\")\n",
    "\n",
    "    \n",
    "    \n",
    "    result = cursor.fetchall()\n",
    "\n",
    "    for product in result:\n",
    "        print(f\"id: {product[0]}  name: {product[1]}  price:{product[2]}\")\n",
    "\n",
    "    print(\"************\")\n",
    "    \n",
    "    \n",
    "    conn.close()\n",
    "    print(\"database bağlantısı kapandı\")\n",
    "\n",
    "getProducts()"
   ]
  },
  {
   "cell_type": "code",
   "execution_count": 8,
   "id": "8091dda9-4dca-4a3e-8d2a-136814063392",
   "metadata": {},
   "outputs": [
    {
     "name": "stdout",
     "output_type": "stream",
     "text": [
      "id: 2  name: Casper  price:5000\n",
      "id: 1  name: Huawei  price:5000\n",
      "id: 4  name: Iphone 15 Max  price:90000\n",
      "id: 3  name: Samsung S7  price:7000\n",
      "************\n",
      "database bağlantısı kapandı\n"
     ]
    }
   ],
   "source": [
    "def getProducts():\n",
    "    conn = mysql.connector.connect(\n",
    "        host =\"127.0.0.1\",\n",
    "        port = 3306,\n",
    "        user = \"toygar\",\n",
    "        password = \"xxxxxxx\",\n",
    "        database = \"node-app\" )\n",
    "\n",
    "    cursor = conn.cursor()\n",
    "\n",
    "    sql = \"SELECT * FROM products ORDER BY name\"\n",
    "    \n",
    "\n",
    "    cursor.execute(sql)\n",
    "\n",
    "    \n",
    "    \n",
    "    result = cursor.fetchall()\n",
    "\n",
    "    for product in result:\n",
    "        print(f\"id: {product[0]}  name: {product[1]}  price:{product[2]}\")\n",
    "    \n",
    "\n",
    "    print(\"************\")\n",
    "    \n",
    "    \n",
    "    conn.close()\n",
    "    print(\"database bağlantısı kapandı\")\n",
    "\n",
    "getProducts()\n"
   ]
  },
  {
   "cell_type": "code",
   "execution_count": 9,
   "id": "85a5e5ee-3394-4885-a45a-a0ee0affcd18",
   "metadata": {},
   "outputs": [
    {
     "name": "stdout",
     "output_type": "stream",
     "text": [
      "id: 4  name: Iphone 15 Max  price:90000\n",
      "id: 3  name: Samsung S7  price:7000\n",
      "id: 2  name: Casper  price:5000\n",
      "id: 1  name: Huawei  price:5000\n",
      "************\n",
      "database bağlantısı kapandı\n"
     ]
    }
   ],
   "source": [
    "def getProducts():\n",
    "    conn = mysql.connector.connect(\n",
    "        host =\"127.0.0.1\",\n",
    "        port = 3306,\n",
    "        user = \"toygar\",\n",
    "        password = \"xxxxxxx\",\n",
    "        database = \"node-app\" )\n",
    "\n",
    "    cursor = conn.cursor()\n",
    "\n",
    "    sql = \"SELECT * FROM products ORDER BY id DESC\"\n",
    "    \n",
    "\n",
    "    cursor.execute(sql)\n",
    "\n",
    "    \n",
    "    \n",
    "    result = cursor.fetchall()\n",
    "\n",
    "    for product in result:\n",
    "        print(f\"id: {product[0]}  name: {product[1]}  price:{product[2]}\")\n",
    "    \n",
    "\n",
    "    print(\"************\")\n",
    "    \n",
    "    \n",
    "    conn.close()\n",
    "    print(\"database bağlantısı kapandı\")\n",
    "\n",
    "getProducts()\n"
   ]
  },
  {
   "cell_type": "code",
   "execution_count": 10,
   "id": "d30582bb-7e51-4d96-80ba-b1a2c0b336d7",
   "metadata": {},
   "outputs": [
    {
     "name": "stdout",
     "output_type": "stream",
     "text": [
      "id: 4  name: Iphone 15 Max  price:90000\n",
      "id: 3  name: Samsung S7  price:7000\n",
      "id: 1  name: Huawei  price:5000\n",
      "id: 2  name: Casper  price:5000\n",
      "************\n",
      "database bağlantısı kapandı\n"
     ]
    }
   ],
   "source": [
    "def getProducts():\n",
    "    conn = mysql.connector.connect(\n",
    "        host =\"127.0.0.1\",\n",
    "        port = 3306,\n",
    "        user = \"toygar\",\n",
    "        password = \"xxxxxxx\",\n",
    "        database = \"node-app\" )\n",
    "\n",
    "    cursor = conn.cursor()\n",
    "\n",
    "    sql = \"SELECT * FROM products ORDER BY price DESC\"\n",
    "    \n",
    "\n",
    "    cursor.execute(sql)\n",
    "\n",
    "    \n",
    "    \n",
    "    result = cursor.fetchall()\n",
    "\n",
    "    for product in result:\n",
    "        print(f\"id: {product[0]}  name: {product[1]}  price:{product[2]}\")\n",
    "    \n",
    "\n",
    "    print(\"************\")\n",
    "    \n",
    "    \n",
    "    conn.close()\n",
    "    print(\"database bağlantısı kapandı\")\n",
    "\n",
    "getProducts()\n"
   ]
  },
  {
   "cell_type": "code",
   "execution_count": null,
   "id": "08b78830-bf9e-4a7a-be6a-493dfd60c37b",
   "metadata": {},
   "outputs": [],
   "source": []
  }
 ],
 "metadata": {
  "kernelspec": {
   "display_name": "Python 3 (ipykernel)",
   "language": "python",
   "name": "python3"
  },
  "language_info": {
   "codemirror_mode": {
    "name": "ipython",
    "version": 3
   },
   "file_extension": ".py",
   "mimetype": "text/x-python",
   "name": "python",
   "nbconvert_exporter": "python",
   "pygments_lexer": "ipython3",
   "version": "3.11.7"
  }
 },
 "nbformat": 4,
 "nbformat_minor": 5
}
