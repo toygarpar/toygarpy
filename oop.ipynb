{
 "cells": [
  {
   "cell_type": "markdown",
   "metadata": {},
   "source": [
    "OOP  - Object Oriented Programming\n",
    "\n",
    "self is automatically filled by the object instance. self refers to the instance directly\n",
    "\n",
    "\n",
    "Programming is, at its core, the act of modelling the world in a way that computers can grasp. In today’s world of computing, object-oriented programming is a strong and effective way to think and model these systems. It brings clarity and power to how we build and understand complex programs."
   ]
  },
  {
   "cell_type": "code",
   "execution_count": 185,
   "metadata": {},
   "outputs": [],
   "source": [
    "class Vehicle:\n",
    "    #initializers - customizes object instances we create with specific info , self is the actual instance of the class\n",
    "\n",
    "    def __init__(self, brand: str,  model : str, vtype: str, fueltype: str):\n",
    "        self.brand = brand\n",
    "        self.model = model\n",
    "        self.vtype = vtype\n",
    "        self.fueltype = fueltype\n",
    "        self.started = False\n",
    "\n",
    "    def start(self):\n",
    "        if self.started : \n",
    "            print(f\"Vehicle {self.brand} has already been started\")\n",
    "        else:\n",
    "            self.started = True\n",
    "            print(f\"Vehicle {self.brand} has been now succesfully started\")\n",
    "\n",
    "    def turn_off(self):\n",
    "        if self.started : \n",
    "            self.started = False\n",
    "            print(f\"Vehicle {self.brand} is now turned off\")\n",
    "        else:\n",
    "            \n",
    "            print(f\"Vehicle {self.brand} has been already turned off\")\n",
    "\n",
    "    def runengine(self, timemins: int):\n",
    "        if self.started:\n",
    "            print(f\"Running vehicle engine diagnostics for {self.brand} for {timemins} minutes\")\n",
    "        else:\n",
    "            print(\"Please start your vehicle engine\")\n",
    "\n",
    "    def drive(self, distance : float):\n",
    "        print(f\"Driving {self.brand} {self.model} now for the distance of {distance} miles\")\n",
    "            \n",
    "    def __add__(self, other):\n",
    "        return f\" {self.brand} + {other.brand} are vehicles built in Turkey\"\n",
    "    \n",
    "    def __mul__(self, other):\n",
    "        return f\" {self.brand} * {other.brand} , Vehicular Collusion\"\n",
    "    \n",
    "    def __str__(self):  #gives us a legible str repr of our class\n",
    "        return f\"{self.brand}  Vehicle Type:{self.vtype} \\n{self.__dict__} \"\n",
    "\n",
    "    def __repr__(self):\n",
    "        return f\" Vehicle(brand = '{self.brand}', model = '{self.model}', vehicle type = '{self.vtype}', fueltype = '{self.fueltype}')\"\n",
    "    \n"
   ]
  },
  {
   "cell_type": "code",
   "execution_count": 186,
   "metadata": {},
   "outputs": [
    {
     "name": "stdout",
     "output_type": "stream",
     "text": [
      "Togg  Vehicle Type:SUV \n",
      "{'brand': 'Togg', 'model': 'T10x', 'vtype': 'SUV', 'fueltype': 'gasoline', 'started': False} \n"
     ]
    }
   ],
   "source": [
    "togg: Vehicle = Vehicle(brand= \"Togg\", model = \"T10x\", vtype= \"SUV\", fueltype=\"gasoline\") #create an instance of a class by instantiating a class blueprint\n",
    "\n",
    "print(togg)"
   ]
  },
  {
   "cell_type": "code",
   "execution_count": 187,
   "metadata": {},
   "outputs": [
    {
     "data": {
      "text/plain": [
       "mappingproxy({'__module__': '__main__',\n",
       "              '__init__': <function __main__.Vehicle.__init__(self, brand: str, model: str, vtype: str, fueltype: str)>,\n",
       "              'start': <function __main__.Vehicle.start(self)>,\n",
       "              'turn_off': <function __main__.Vehicle.turn_off(self)>,\n",
       "              'runengine': <function __main__.Vehicle.runengine(self, timemins: int)>,\n",
       "              'drive': <function __main__.Vehicle.drive(self, distance: float)>,\n",
       "              '__add__': <function __main__.Vehicle.__add__(self, other)>,\n",
       "              '__mul__': <function __main__.Vehicle.__mul__(self, other)>,\n",
       "              '__str__': <function __main__.Vehicle.__str__(self)>,\n",
       "              '__repr__': <function __main__.Vehicle.__repr__(self)>,\n",
       "              '__dict__': <attribute '__dict__' of 'Vehicle' objects>,\n",
       "              '__weakref__': <attribute '__weakref__' of 'Vehicle' objects>,\n",
       "              '__doc__': None})"
      ]
     },
     "execution_count": 187,
     "metadata": {},
     "output_type": "execute_result"
    }
   ],
   "source": [
    "Vehicle.__dict__"
   ]
  },
  {
   "cell_type": "code",
   "execution_count": 188,
   "metadata": {},
   "outputs": [
    {
     "data": {
      "text/plain": [
       "{'brand': 'Togg',\n",
       " 'model': 'T10x',\n",
       " 'vtype': 'SUV',\n",
       " 'fueltype': 'gasoline',\n",
       " 'started': False}"
      ]
     },
     "execution_count": 188,
     "metadata": {},
     "output_type": "execute_result"
    }
   ],
   "source": [
    "togg.__dict__"
   ]
  },
  {
   "cell_type": "code",
   "execution_count": 189,
   "metadata": {},
   "outputs": [
    {
     "name": "stdout",
     "output_type": "stream",
     "text": [
      "Togg\n"
     ]
    }
   ],
   "source": [
    "print(togg.brand)\n"
   ]
  },
  {
   "cell_type": "code",
   "execution_count": 190,
   "metadata": {},
   "outputs": [
    {
     "data": {
      "text/plain": [
       "'T10x'"
      ]
     },
     "execution_count": 190,
     "metadata": {},
     "output_type": "execute_result"
    }
   ],
   "source": [
    "togg.model"
   ]
  },
  {
   "cell_type": "code",
   "execution_count": 191,
   "metadata": {},
   "outputs": [
    {
     "name": "stdout",
     "output_type": "stream",
     "text": [
      "SUV\n"
     ]
    }
   ],
   "source": [
    "print(togg.vtype)"
   ]
  },
  {
   "cell_type": "code",
   "execution_count": 192,
   "metadata": {},
   "outputs": [
    {
     "data": {
      "text/plain": [
       "'gasoline'"
      ]
     },
     "execution_count": 192,
     "metadata": {},
     "output_type": "execute_result"
    }
   ],
   "source": [
    "togg.fueltype"
   ]
  },
  {
   "cell_type": "code",
   "execution_count": 193,
   "metadata": {},
   "outputs": [
    {
     "name": "stdout",
     "output_type": "stream",
     "text": [
      "Renault  Vehicle Type:Car \n",
      "{'brand': 'Renault', 'model': 'Clio', 'vtype': 'Car', 'fueltype': 'gasoline', 'started': False} \n"
     ]
    }
   ],
   "source": [
    "clio: Vehicle = Vehicle(\"Renault\",\"Clio\", \"Car\",\"gasoline\")\n",
    "\n",
    "print(clio)"
   ]
  },
  {
   "cell_type": "code",
   "execution_count": 194,
   "metadata": {},
   "outputs": [
    {
     "name": "stdout",
     "output_type": "stream",
     "text": [
      "Renault\n",
      "Clio\n",
      "Car\n",
      "gasoline\n"
     ]
    }
   ],
   "source": [
    "print(clio.brand)\n",
    "print(clio.model)\n",
    "print(clio.vtype)\n",
    "print(clio.fueltype)"
   ]
  },
  {
   "cell_type": "code",
   "execution_count": 195,
   "metadata": {},
   "outputs": [
    {
     "name": "stdout",
     "output_type": "stream",
     "text": [
      "Vehicle Togg has been now succesfully started\n"
     ]
    }
   ],
   "source": [
    "togg.start()"
   ]
  },
  {
   "cell_type": "code",
   "execution_count": 196,
   "metadata": {},
   "outputs": [
    {
     "name": "stdout",
     "output_type": "stream",
     "text": [
      "Vehicle Togg has already been started\n"
     ]
    }
   ],
   "source": [
    "togg.start()"
   ]
  },
  {
   "cell_type": "code",
   "execution_count": 197,
   "metadata": {},
   "outputs": [
    {
     "name": "stdout",
     "output_type": "stream",
     "text": [
      "Running vehicle engine diagnostics for Togg for 15 minutes\n"
     ]
    }
   ],
   "source": [
    "togg.runengine(15)"
   ]
  },
  {
   "cell_type": "code",
   "execution_count": 198,
   "metadata": {},
   "outputs": [
    {
     "name": "stdout",
     "output_type": "stream",
     "text": [
      "Vehicle Togg is now turned off\n"
     ]
    }
   ],
   "source": [
    "togg.turn_off()"
   ]
  },
  {
   "cell_type": "code",
   "execution_count": 199,
   "metadata": {},
   "outputs": [
    {
     "name": "stdout",
     "output_type": "stream",
     "text": [
      "Please start your vehicle engine\n"
     ]
    }
   ],
   "source": [
    "togg.runengine(10)"
   ]
  },
  {
   "cell_type": "code",
   "execution_count": 200,
   "metadata": {},
   "outputs": [
    {
     "name": "stdout",
     "output_type": "stream",
     "text": [
      "Vehicle Renault has been now succesfully started\n",
      "Vehicle Renault is now turned off\n",
      "Please start your vehicle engine\n"
     ]
    }
   ],
   "source": [
    "clio.start()\n",
    "clio.turn_off()\n",
    "clio.runengine(15)"
   ]
  },
  {
   "cell_type": "code",
   "execution_count": 201,
   "metadata": {},
   "outputs": [
    {
     "name": "stdout",
     "output_type": "stream",
     "text": [
      " Togg + Renault are vehicles built in Turkey\n"
     ]
    }
   ],
   "source": [
    "print(togg + clio)"
   ]
  },
  {
   "cell_type": "code",
   "execution_count": 202,
   "metadata": {},
   "outputs": [
    {
     "name": "stdout",
     "output_type": "stream",
     "text": [
      " Togg * Renault , Vehicular Collusion\n"
     ]
    }
   ],
   "source": [
    "print(togg * clio)"
   ]
  },
  {
   "cell_type": "code",
   "execution_count": 203,
   "metadata": {},
   "outputs": [
    {
     "name": "stdout",
     "output_type": "stream",
     "text": [
      "Togg  Vehicle Type:SUV \n",
      "{'brand': 'Togg', 'model': 'T10x', 'vtype': 'SUV', 'fueltype': 'gasoline', 'started': False} \n"
     ]
    }
   ],
   "source": [
    "print(togg)"
   ]
  },
  {
   "cell_type": "code",
   "execution_count": 204,
   "metadata": {},
   "outputs": [
    {
     "name": "stdout",
     "output_type": "stream",
     "text": [
      "Renault  Vehicle Type:Car \n",
      "{'brand': 'Renault', 'model': 'Clio', 'vtype': 'Car', 'fueltype': 'gasoline', 'started': False} \n"
     ]
    }
   ],
   "source": [
    "print(clio)"
   ]
  },
  {
   "cell_type": "code",
   "execution_count": 205,
   "metadata": {},
   "outputs": [
    {
     "data": {
      "text/plain": [
       "\" Vehicle(brand = 'Togg', model = 'T10x', vehicle type = 'SUV', fueltype = 'gasoline')\""
      ]
     },
     "execution_count": 205,
     "metadata": {},
     "output_type": "execute_result"
    }
   ],
   "source": [
    "repr(togg)   #object representation"
   ]
  },
  {
   "cell_type": "code",
   "execution_count": 206,
   "metadata": {},
   "outputs": [
    {
     "data": {
      "text/plain": [
       "\" Vehicle(brand = 'Renault', model = 'Clio', vehicle type = 'Car', fueltype = 'gasoline')\""
      ]
     },
     "execution_count": 206,
     "metadata": {},
     "output_type": "execute_result"
    }
   ],
   "source": [
    "repr(clio)"
   ]
  },
  {
   "cell_type": "code",
   "execution_count": 207,
   "metadata": {},
   "outputs": [],
   "source": [
    "chevy : Vehicle = Vehicle(\"Chevrolet\", \"Corvette\", \"sportscar\",\"gasoline\")"
   ]
  },
  {
   "cell_type": "code",
   "execution_count": 208,
   "metadata": {},
   "outputs": [
    {
     "data": {
      "text/plain": [
       "{'brand': 'Chevrolet',\n",
       " 'model': 'Corvette',\n",
       " 'vtype': 'sportscar',\n",
       " 'fueltype': 'gasoline',\n",
       " 'started': False}"
      ]
     },
     "execution_count": 208,
     "metadata": {},
     "output_type": "execute_result"
    }
   ],
   "source": [
    "chevy.__dict__"
   ]
  },
  {
   "cell_type": "code",
   "execution_count": 209,
   "metadata": {},
   "outputs": [],
   "source": [
    "tesla: Vehicle = Vehicle(\"Tesla\", \"Cybertruck\", \"Truck\",\"electric\")"
   ]
  },
  {
   "cell_type": "code",
   "execution_count": 210,
   "metadata": {},
   "outputs": [
    {
     "data": {
      "text/plain": [
       "{'brand': 'Tesla',\n",
       " 'model': 'Cybertruck',\n",
       " 'vtype': 'Truck',\n",
       " 'fueltype': 'electric',\n",
       " 'started': False}"
      ]
     },
     "execution_count": 210,
     "metadata": {},
     "output_type": "execute_result"
    }
   ],
   "source": [
    "tesla.__dict__"
   ]
  },
  {
   "cell_type": "code",
   "execution_count": 211,
   "metadata": {},
   "outputs": [
    {
     "name": "stdout",
     "output_type": "stream",
     "text": [
      "Vehicle Tesla has been now succesfully started\n"
     ]
    }
   ],
   "source": [
    "tesla.start()"
   ]
  },
  {
   "cell_type": "code",
   "execution_count": 212,
   "metadata": {},
   "outputs": [
    {
     "name": "stdout",
     "output_type": "stream",
     "text": [
      "Running vehicle engine diagnostics for Tesla for 30 minutes\n"
     ]
    }
   ],
   "source": [
    "tesla.runengine(30)"
   ]
  },
  {
   "cell_type": "code",
   "execution_count": 213,
   "metadata": {},
   "outputs": [
    {
     "name": "stdout",
     "output_type": "stream",
     "text": [
      "Driving Tesla Cybertruck now for the distance of 15 miles\n"
     ]
    }
   ],
   "source": [
    "tesla.drive(15)"
   ]
  },
  {
   "cell_type": "markdown",
   "metadata": {},
   "source": [
    "OOP \n",
    "\n",
    "Object Oriented Programming\n",
    "\n",
    "Class  blueprint for building objects\n",
    "\n",
    "Instances - Object - Nesne"
   ]
  },
  {
   "cell_type": "code",
   "execution_count": 4,
   "metadata": {},
   "outputs": [
    {
     "name": "stdout",
     "output_type": "stream",
     "text": [
      "Liste1: <class 'list'>\n",
      "Liste2: <class 'list'>\n"
     ]
    }
   ],
   "source": [
    "liste1 = [1, 2, 3]\n",
    "liste2 = [1, 2, 3, 4, 5] \n",
    "print(f\"Liste1: {type(liste1)}\")\n",
    "print(f\"Liste2: {type(liste2)}\")\n"
   ]
  },
  {
   "cell_type": "markdown",
   "metadata": {},
   "source": [
    "Class Team:\n",
    "\n",
    "Properties/Attributes:\n",
    "Player - name, birthyear, position\n",
    "\n",
    "Methods:\n",
    "calculateAge()\n",
    "\n",
    "\n",
    "constructor - yapıcı metot eklenerek class'e işlevsellik kazandırılır"
   ]
  },
  {
   "cell_type": "code",
   "execution_count": 77,
   "metadata": {},
   "outputs": [],
   "source": [
    "class Team:\n",
    "    def __init__(self, name, birthyear, position):    #constructor\n",
    "        print(\"nesne oluşturuldu\")\n",
    "        self.name = name \n",
    "        self.birthyear = birthyear\n",
    "        self.position = position\n",
    "\n",
    "\n",
    "    def calculateAge(self):\n",
    "        import datetime\n",
    "        age = datetime.datetime.now().year - self.birthyear\n",
    "        return age\n",
    "    \n",
    "    def __str__(self):  #gives us a legible str repr of our class\n",
    "        return f\"Player: {self.name}  Position:{self.position} Birthyear = {self.birthyear}\\n{self.__dict__} \"\n"
   ]
  },
  {
   "cell_type": "code",
   "execution_count": 87,
   "metadata": {},
   "outputs": [
    {
     "name": "stdout",
     "output_type": "stream",
     "text": [
      "nesne oluşturuldu\n",
      "nesne oluşturuldu\n"
     ]
    }
   ],
   "source": [
    "p1 =Team(\"Marina Markova\", 2001, \"Outside Hitter\")\n",
    "p2 = Team(\"Zehra Güneş\", 1999, \"Middle Blocker\")\n"
   ]
  },
  {
   "cell_type": "code",
   "execution_count": 88,
   "metadata": {},
   "outputs": [
    {
     "name": "stdout",
     "output_type": "stream",
     "text": [
      "<class '__main__.Team'>\n",
      "<class '__main__.Team'>\n"
     ]
    }
   ],
   "source": [
    "print(type(p1))\n",
    "print(type(p2))"
   ]
  },
  {
   "cell_type": "code",
   "execution_count": 89,
   "metadata": {},
   "outputs": [
    {
     "name": "stdout",
     "output_type": "stream",
     "text": [
      "Player: Marina Markova  Position:Outside Hitter Birthyear = 2001\n",
      "{'name': 'Marina Markova', 'birthyear': 2001, 'position': 'Outside Hitter'}  Player: Zehra Güneş  Position:Middle Blocker Birthyear = 1999\n",
      "{'name': 'Zehra Güneş', 'birthyear': 1999, 'position': 'Middle Blocker'} \n"
     ]
    }
   ],
   "source": [
    "res1, res2 = p1 , p2\n",
    "print(res1, res2)"
   ]
  },
  {
   "cell_type": "code",
   "execution_count": 90,
   "metadata": {},
   "outputs": [
    {
     "data": {
      "text/plain": [
       "'23'"
      ]
     },
     "execution_count": 90,
     "metadata": {},
     "output_type": "execute_result"
    }
   ],
   "source": [
    "p1.calculateAge()\n",
    "repr(p1.calculateAge())"
   ]
  },
  {
   "cell_type": "code",
   "execution_count": 91,
   "metadata": {},
   "outputs": [
    {
     "name": "stdout",
     "output_type": "stream",
     "text": [
      "Player: Marina Markova  Position:Outside Hitter Birthyear = 2001\n",
      "{'name': 'Marina Markova', 'birthyear': 2001, 'position': 'Outside Hitter'} \n"
     ]
    }
   ],
   "source": [
    "print(p1)"
   ]
  },
  {
   "cell_type": "code",
   "execution_count": 92,
   "metadata": {},
   "outputs": [
    {
     "data": {
      "text/plain": [
       "24"
      ]
     },
     "execution_count": 92,
     "metadata": {},
     "output_type": "execute_result"
    }
   ],
   "source": [
    "birthyear = 2000\n",
    "import datetime\n",
    "age = datetime.datetime.now().year - birthyear\n",
    "age"
   ]
  },
  {
   "cell_type": "code",
   "execution_count": 93,
   "metadata": {},
   "outputs": [
    {
     "data": {
      "text/plain": [
       "{'name': 'Marina Markova', 'birthyear': 2001, 'position': 'Outside Hitter'}"
      ]
     },
     "execution_count": 93,
     "metadata": {},
     "output_type": "execute_result"
    }
   ],
   "source": [
    "p1.__dict__"
   ]
  },
  {
   "cell_type": "code",
   "execution_count": 94,
   "metadata": {},
   "outputs": [
    {
     "name": "stdout",
     "output_type": "stream",
     "text": [
      " Marina Markova  Outside Hitter 23\n",
      " Zehra Güneş  Middle Blocker 25\n"
     ]
    }
   ],
   "source": [
    "players = [ p1, p2]\n",
    "for player in players:\n",
    "    print(f\" {player.name}  {player.position} {player.calculateAge()}\")"
   ]
  },
  {
   "cell_type": "code",
   "execution_count": 95,
   "metadata": {},
   "outputs": [
    {
     "data": {
      "text/plain": [
       "'Marina Markova'"
      ]
     },
     "execution_count": 95,
     "metadata": {},
     "output_type": "execute_result"
    }
   ],
   "source": [
    "p1.name"
   ]
  },
  {
   "cell_type": "code",
   "execution_count": 96,
   "metadata": {},
   "outputs": [
    {
     "data": {
      "text/plain": [
       "23"
      ]
     },
     "execution_count": 96,
     "metadata": {},
     "output_type": "execute_result"
    }
   ],
   "source": [
    "p1.calculateAge()"
   ]
  },
  {
   "cell_type": "code",
   "execution_count": null,
   "metadata": {},
   "outputs": [],
   "source": []
  },
  {
   "cell_type": "code",
   "execution_count": null,
   "metadata": {},
   "outputs": [],
   "source": []
  },
  {
   "cell_type": "code",
   "execution_count": null,
   "metadata": {},
   "outputs": [],
   "source": []
  },
  {
   "cell_type": "code",
   "execution_count": null,
   "metadata": {},
   "outputs": [],
   "source": []
  },
  {
   "cell_type": "code",
   "execution_count": null,
   "metadata": {},
   "outputs": [],
   "source": []
  },
  {
   "cell_type": "markdown",
   "metadata": {},
   "source": [
    "Class Product"
   ]
  },
  {
   "cell_type": "code",
   "execution_count": 122,
   "metadata": {},
   "outputs": [],
   "source": [
    "class Product:\n",
    "    def __init__(self, type, pname, price, isOnSale):\n",
    "        self.type = type\n",
    "        self.pname = pname\n",
    "        self.price = price\n",
    "        self.isOnSale = isOnSale\n",
    "\n",
    "\n",
    "    #instance method\n",
    "    def product_info(self):\n",
    "        return f\"Ürün Adı: {self.pname}, Ürün Fiyat: {self.price}, Ürün Type: {self.type}\"\n",
    "    \n",
    "\n",
    "    def sales_tax(self):\n",
    "        return self.price + self.price * 0.07\n",
    "        "
   ]
  },
  {
   "cell_type": "code",
   "execution_count": 123,
   "metadata": {},
   "outputs": [],
   "source": [
    "p1 = Product(\"Monitor\", \"Samsung\", 18000, True)\n",
    "p2 = Product(\"Monitor\", \"MST\", 15000, True)"
   ]
  },
  {
   "cell_type": "code",
   "execution_count": 124,
   "metadata": {},
   "outputs": [
    {
     "data": {
      "text/plain": [
       "'Monitor'"
      ]
     },
     "execution_count": 124,
     "metadata": {},
     "output_type": "execute_result"
    }
   ],
   "source": [
    "p1.type\n"
   ]
  },
  {
   "cell_type": "code",
   "execution_count": 125,
   "metadata": {},
   "outputs": [
    {
     "data": {
      "text/plain": [
       "'Samsung'"
      ]
     },
     "execution_count": 125,
     "metadata": {},
     "output_type": "execute_result"
    }
   ],
   "source": [
    "p1.pname"
   ]
  },
  {
   "cell_type": "code",
   "execution_count": 126,
   "metadata": {},
   "outputs": [
    {
     "data": {
      "text/plain": [
       "18000"
      ]
     },
     "execution_count": 126,
     "metadata": {},
     "output_type": "execute_result"
    }
   ],
   "source": [
    "p1.price"
   ]
  },
  {
   "cell_type": "code",
   "execution_count": 127,
   "metadata": {},
   "outputs": [
    {
     "name": "stdout",
     "output_type": "stream",
     "text": [
      "Ürün Adı: Samsung, Ürün Fiyat: 18000\n",
      "Ürün Adı: MST, Ürün Fiyat: 15000\n"
     ]
    }
   ],
   "source": [
    "urunler = [ p1, p2]\n",
    "for urun in urunler:\n",
    "    if urun.isOnSale:\n",
    "        print(f\"Ürün Adı: {urun.pname}, Ürün Fiyat: {urun.price}\")"
   ]
  },
  {
   "cell_type": "code",
   "execution_count": 128,
   "metadata": {},
   "outputs": [
    {
     "name": "stdout",
     "output_type": "stream",
     "text": [
      "Ürün Adı: Samsung, Ürün Fiyat: 18000, Ürün Type: Monitor\n",
      "Ürün Adı: MST, Ürün Fiyat: 15000, Ürün Type: Monitor\n"
     ]
    }
   ],
   "source": [
    "for urun in urunler:\n",
    "    if urun.isOnSale:\n",
    "        print(urun.product_info())"
   ]
  },
  {
   "cell_type": "code",
   "execution_count": 129,
   "metadata": {},
   "outputs": [
    {
     "data": {
      "text/plain": [
       "19260.0"
      ]
     },
     "execution_count": 129,
     "metadata": {},
     "output_type": "execute_result"
    }
   ],
   "source": [
    "p1.sales_tax()"
   ]
  },
  {
   "cell_type": "code",
   "execution_count": 130,
   "metadata": {},
   "outputs": [
    {
     "name": "stdout",
     "output_type": "stream",
     "text": [
      "Ürün Adı: Samsung, Ürün Fiyat: 18000, Ürün Type: Monitor\n",
      "19260.0\n",
      "Ürün Adı: MST, Ürün Fiyat: 15000, Ürün Type: Monitor\n",
      "16050.0\n"
     ]
    }
   ],
   "source": [
    "for urun in urunler:\n",
    "    if urun.isOnSale:\n",
    "        print(urun.product_info())\n",
    "        print(urun.sales_tax())"
   ]
  },
  {
   "cell_type": "markdown",
   "metadata": {},
   "source": [
    "Banka Hesabı"
   ]
  },
  {
   "cell_type": "code",
   "execution_count": 17,
   "metadata": {},
   "outputs": [],
   "source": [
    "class Banking:\n",
    "    def __init__(self, account_owner):\n",
    "        self.account_owner = account_owner\n",
    "        self.balance = 0.0\n",
    "\n",
    "    def deposit(self, amount):\n",
    "        self.balance += amount\n",
    "        return self.balance\n",
    "    \n",
    "    def withdraw(self, amount):\n",
    "        self.balance -= amount\n",
    "        return self.balance\n",
    "    \n",
    "    def account_balance(self):\n",
    "        return self.balance\n",
    "\n"
   ]
  },
  {
   "cell_type": "code",
   "execution_count": 18,
   "metadata": {},
   "outputs": [],
   "source": [
    "account = Banking(\"Toygar Par\")"
   ]
  },
  {
   "cell_type": "code",
   "execution_count": 19,
   "metadata": {},
   "outputs": [
    {
     "data": {
      "text/plain": [
       "1000.0"
      ]
     },
     "execution_count": 19,
     "metadata": {},
     "output_type": "execute_result"
    }
   ],
   "source": [
    "account.deposit(1000)"
   ]
  },
  {
   "cell_type": "code",
   "execution_count": 20,
   "metadata": {},
   "outputs": [
    {
     "data": {
      "text/plain": [
       "250.0"
      ]
     },
     "execution_count": 20,
     "metadata": {},
     "output_type": "execute_result"
    }
   ],
   "source": [
    "account.withdraw(750)"
   ]
  },
  {
   "cell_type": "code",
   "execution_count": 21,
   "metadata": {},
   "outputs": [
    {
     "data": {
      "text/plain": [
       "250.0"
      ]
     },
     "execution_count": 21,
     "metadata": {},
     "output_type": "execute_result"
    }
   ],
   "source": [
    "account.account_balance()"
   ]
  },
  {
   "cell_type": "code",
   "execution_count": null,
   "metadata": {},
   "outputs": [],
   "source": []
  }
 ],
 "metadata": {
  "kernelspec": {
   "display_name": "base",
   "language": "python",
   "name": "python3"
  },
  "language_info": {
   "codemirror_mode": {
    "name": "ipython",
    "version": 3
   },
   "file_extension": ".py",
   "mimetype": "text/x-python",
   "name": "python",
   "nbconvert_exporter": "python",
   "pygments_lexer": "ipython3",
   "version": "3.12.4"
  }
 },
 "nbformat": 4,
 "nbformat_minor": 2
}
