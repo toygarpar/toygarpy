{
 "cells": [
  {
   "cell_type": "markdown",
   "metadata": {},
   "source": [
    "Async & Await"
   ]
  },
  {
   "cell_type": "code",
   "execution_count": 1,
   "metadata": {},
   "outputs": [],
   "source": [
    "import time\n"
   ]
  },
  {
   "cell_type": "code",
   "execution_count": 3,
   "metadata": {},
   "outputs": [
    {
     "name": "stdout",
     "output_type": "stream",
     "text": [
      "start\n",
      "merhaba\n",
      "start\n",
      "merhaba\n"
     ]
    }
   ],
   "source": [
    "def main(msg):\n",
    "    \n",
    "    print(\"start\")\n",
    "\n",
    "    time.sleep(2)\n",
    "\n",
    "    print(msg)\n",
    "\n",
    "\n",
    "main(\"merhaba\")\n",
    "\n",
    "main(\"merhaba\")"
   ]
  },
  {
   "cell_type": "code",
   "execution_count": 11,
   "metadata": {},
   "outputs": [],
   "source": [
    "#asenkron fonk yazmak\n",
    "\n",
    "\n",
    "\n",
    "import asyncio\n",
    "\n",
    "async def main(msg):\n",
    "    \n",
    "    print(\"start\")\n",
    "\n",
    "    await asyncio.sleep(2)\n",
    "\n",
    "    print(msg)\n",
    "\n",
    "\n",
    "\n",
    "#main(\"merhaba\")\n",
    "\n",
    "\n"
   ]
  },
  {
   "cell_type": "code",
   "execution_count": 12,
   "metadata": {},
   "outputs": [],
   "source": [
    "#print(main(\"merhaba\"))\n",
    "\n"
   ]
  },
  {
   "cell_type": "code",
   "execution_count": null,
   "metadata": {},
   "outputs": [
    {
     "name": "stderr",
     "output_type": "stream",
     "text": [
      "/home/toygar/anaconda3/lib/python3.12/site-packages/pygments/regexopt.py:26: RuntimeWarning: coroutine 'main' was never awaited\n",
      "  def regex_opt_inner(strings, open_paren):\n",
      "RuntimeWarning: Enable tracemalloc to get the object allocation traceback\n"
     ]
    },
    {
     "ename": "RuntimeError",
     "evalue": "asyncio.run() cannot be called from a running event loop",
     "output_type": "error",
     "traceback": [
      "\u001b[0;31m---------------------------------------------------------------------------\u001b[0m",
      "\u001b[0;31mRuntimeError\u001b[0m                              Traceback (most recent call last)",
      "Cell \u001b[0;32mIn[13], line 12\u001b[0m\n\u001b[1;32m      1\u001b[0m \u001b[38;5;66;03m#coroutine objesine bir await işlemine tabi tutmamız gerekiyor\u001b[39;00m\n\u001b[1;32m      3\u001b[0m \u001b[38;5;124;03m\"\"\" \u001b[39;00m\n\u001b[1;32m      4\u001b[0m \n\u001b[1;32m      5\u001b[0m \u001b[38;5;124;03mIn certain environments, such as Jupyter Notebooks or interactive Python interpreters, which already have an event loop running. Since asyncio.run() tries to start a new event loop, it results in a conflict.\u001b[39;00m\n\u001b[0;32m   (...)\u001b[0m\n\u001b[1;32m      8\u001b[0m \n\u001b[1;32m      9\u001b[0m \u001b[38;5;124;03m\"\"\"\u001b[39;00m\n\u001b[0;32m---> 12\u001b[0m asyncio\u001b[38;5;241m.\u001b[39mrun(main(\u001b[38;5;124m\"\u001b[39m\u001b[38;5;124mmerhaba\u001b[39m\u001b[38;5;124m\"\u001b[39m))\n",
      "File \u001b[0;32m~/anaconda3/lib/python3.12/asyncio/runners.py:190\u001b[0m, in \u001b[0;36mrun\u001b[0;34m(main, debug, loop_factory)\u001b[0m\n\u001b[1;32m    161\u001b[0m \u001b[38;5;250m\u001b[39m\u001b[38;5;124;03m\"\"\"Execute the coroutine and return the result.\u001b[39;00m\n\u001b[1;32m    162\u001b[0m \n\u001b[1;32m    163\u001b[0m \u001b[38;5;124;03mThis function runs the passed coroutine, taking care of\u001b[39;00m\n\u001b[0;32m   (...)\u001b[0m\n\u001b[1;32m    186\u001b[0m \u001b[38;5;124;03m    asyncio.run(main())\u001b[39;00m\n\u001b[1;32m    187\u001b[0m \u001b[38;5;124;03m\"\"\"\u001b[39;00m\n\u001b[1;32m    188\u001b[0m \u001b[38;5;28;01mif\u001b[39;00m events\u001b[38;5;241m.\u001b[39m_get_running_loop() \u001b[38;5;129;01mis\u001b[39;00m \u001b[38;5;129;01mnot\u001b[39;00m \u001b[38;5;28;01mNone\u001b[39;00m:\n\u001b[1;32m    189\u001b[0m     \u001b[38;5;66;03m# fail fast with short traceback\u001b[39;00m\n\u001b[0;32m--> 190\u001b[0m     \u001b[38;5;28;01mraise\u001b[39;00m \u001b[38;5;167;01mRuntimeError\u001b[39;00m(\n\u001b[1;32m    191\u001b[0m         \u001b[38;5;124m\"\u001b[39m\u001b[38;5;124masyncio.run() cannot be called from a running event loop\u001b[39m\u001b[38;5;124m\"\u001b[39m)\n\u001b[1;32m    193\u001b[0m \u001b[38;5;28;01mwith\u001b[39;00m Runner(debug\u001b[38;5;241m=\u001b[39mdebug, loop_factory\u001b[38;5;241m=\u001b[39mloop_factory) \u001b[38;5;28;01mas\u001b[39;00m runner:\n\u001b[1;32m    194\u001b[0m     \u001b[38;5;28;01mreturn\u001b[39;00m runner\u001b[38;5;241m.\u001b[39mrun(main)\n",
      "\u001b[0;31mRuntimeError\u001b[0m: asyncio.run() cannot be called from a running event loop"
     ]
    }
   ],
   "source": [
    "#coroutine objesine bir await işlemine tabi tutmamız gerekiyor\n",
    "\n",
    "\"\"\" \n",
    "\n",
    "In certain environments, such as Jupyter Notebooks or interactive Python interpreters, which already have an event loop running. Since asyncio.run() tries to start a new event loop, it results in a conflict.\n",
    "\n",
    "If you're running the code in a .py file (not an interactive environment), this version provided earlier should work\n",
    "\n",
    "Otherwise go to the cell below\n",
    "\n",
    "\"\"\"\n",
    "\n",
    "\n",
    "asyncio.run(main(\"merhaba\"))"
   ]
  },
  {
   "cell_type": "code",
   "execution_count": 14,
   "metadata": {},
   "outputs": [
    {
     "name": "stdout",
     "output_type": "stream",
     "text": [
      "start\n",
      "merhaba\n"
     ]
    }
   ],
   "source": [
    "\"\"\" \n",
    "\n",
    "In environments like Jupyter, the await keyword allows you to call asynchronous functions without explicitly managing the event loop (since it's already managed for you). This avoids the conflict caused by asyncio.run()\n",
    "\n",
    "\n",
    "\"\"\"\n",
    "\n",
    "\n",
    "\n",
    "import asyncio\n",
    "\n",
    "async def main(msg):\n",
    "    print(\"start\")\n",
    "    await asyncio.sleep(2)\n",
    "    print(msg)\n",
    "\n",
    "# Use await to run the coroutine in interactive environments\n",
    "await main(\"merhaba\")\n",
    "\n"
   ]
  },
  {
   "cell_type": "code",
   "execution_count": null,
   "metadata": {},
   "outputs": [],
   "source": []
  }
 ],
 "metadata": {
  "kernelspec": {
   "display_name": "base",
   "language": "python",
   "name": "python3"
  },
  "language_info": {
   "codemirror_mode": {
    "name": "ipython",
    "version": 3
   },
   "file_extension": ".py",
   "mimetype": "text/x-python",
   "name": "python",
   "nbconvert_exporter": "python",
   "pygments_lexer": "ipython3",
   "version": "3.12.7"
  }
 },
 "nbformat": 4,
 "nbformat_minor": 2
}
