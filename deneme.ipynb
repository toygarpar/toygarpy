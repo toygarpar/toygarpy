{
 "cells": [
  {
   "cell_type": "code",
   "execution_count": 1,
   "metadata": {},
   "outputs": [
    {
     "name": "stdout",
     "output_type": "stream",
     "text": [
      "Merhaba toygar\n"
     ]
    }
   ],
   "source": [
    "\n",
    "mesaj = input(\"İsim: \")\n",
    "print(\"Merhaba \" + mesaj)"
   ]
  },
  {
   "cell_type": "code",
   "execution_count": 2,
   "metadata": {},
   "outputs": [
    {
     "data": {
      "text/plain": [
       "2360.0"
      ]
     },
     "execution_count": 2,
     "metadata": {},
     "output_type": "execute_result"
    }
   ],
   "source": [
    "2000 + 2000 * 0.18"
   ]
  },
  {
   "cell_type": "code",
   "execution_count": 5,
   "metadata": {},
   "outputs": [
    {
     "name": "stdout",
     "output_type": "stream",
     "text": [
      "2360.0\n"
     ]
    }
   ],
   "source": [
    "print(2000 + ( 2000 * 0.18 )) # ürün X"
   ]
  },
  {
   "cell_type": "code",
   "execution_count": 6,
   "metadata": {},
   "outputs": [
    {
     "name": "stdout",
     "output_type": "stream",
     "text": [
      "3540.0\n"
     ]
    }
   ],
   "source": [
    "print(3000 + ( 3000 * 0.18 )) # ürün Y\n"
   ]
  },
  {
   "cell_type": "code",
   "execution_count": 8,
   "metadata": {},
   "outputs": [],
   "source": [
    "ürünx = 2000\n",
    "ürüny = 3000\n",
    "kdvoranı = 0.18"
   ]
  },
  {
   "cell_type": "code",
   "execution_count": 9,
   "metadata": {},
   "outputs": [
    {
     "name": "stdout",
     "output_type": "stream",
     "text": [
      "2360.0\n"
     ]
    }
   ],
   "source": [
    "print(ürünx + (ürünx * kdvoranı))"
   ]
  },
  {
   "cell_type": "code",
   "execution_count": 11,
   "metadata": {},
   "outputs": [
    {
     "name": "stdout",
     "output_type": "stream",
     "text": [
      "3540.0\n"
     ]
    }
   ],
   "source": [
    "print(ürüny + ( ürüny * kdvoranı))"
   ]
  },
  {
   "cell_type": "code",
   "execution_count": 12,
   "metadata": {},
   "outputs": [
    {
     "name": "stdout",
     "output_type": "stream",
     "text": [
      "5000\n"
     ]
    }
   ],
   "source": [
    "#ürün fiyatlarını toplama\n",
    "print(ürünx + ürüny)"
   ]
  },
  {
   "cell_type": "code",
   "execution_count": 13,
   "metadata": {},
   "outputs": [
    {
     "name": "stdout",
     "output_type": "stream",
     "text": [
      "5000\n",
      "900.0\n"
     ]
    }
   ],
   "source": [
    "ürüntoplamı = ürünx + ürüny\n",
    "print(ürüntoplamı)\n",
    "print(ürüntoplamı * kdvoranı)"
   ]
  },
  {
   "cell_type": "code",
   "execution_count": 15,
   "metadata": {},
   "outputs": [],
   "source": [
    "sayi1 = 20\n",
    "sayi2 = 30 \n",
    "\n",
    "urunFiyatiA = 1000  #camlcase \n",
    "urun_fiyati_b = 2000\n",
    "\n",
    "yas = 20\n",
    "Yas = 30  #case sensitive\n",
    "\n",
    "#py reserve keywords kullanılamaz True=20\n"
   ]
  },
  {
   "cell_type": "code",
   "execution_count": 16,
   "metadata": {},
   "outputs": [
    {
     "name": "stdout",
     "output_type": "stream",
     "text": [
      "1020\n"
     ]
    }
   ],
   "source": [
    "x = \"10\"\n",
    "y = \"20\"\n",
    "print(x + y)"
   ]
  },
  {
   "cell_type": "code",
   "execution_count": 17,
   "metadata": {},
   "outputs": [
    {
     "name": "stdout",
     "output_type": "stream",
     "text": [
      "30\n"
     ]
    }
   ],
   "source": [
    "x = 10\n",
    "y = 20\n",
    "print (x + y)"
   ]
  },
  {
   "cell_type": "code",
   "execution_count": 18,
   "metadata": {},
   "outputs": [
    {
     "name": "stdout",
     "output_type": "stream",
     "text": [
      "60\n"
     ]
    }
   ],
   "source": [
    "x, y, z = 10, 20 ,30\n",
    "print(x + y + z)"
   ]
  },
  {
   "cell_type": "code",
   "execution_count": 21,
   "metadata": {},
   "outputs": [],
   "source": [
    "#tek bir değer atamasıda yapılabilir\n",
    "# a, b, c = 70 cannot unpack non-iterable int object\n",
    "a = b = c = 70"
   ]
  },
  {
   "cell_type": "markdown",
   "metadata": {},
   "source": [
    "aşağıda müşterilerin bilgileri ve satın aldığı ürün bilgilerini değişkenler içinde saklayınız.\n",
    "toplam ödenen ücret nedir?\n",
    "ödenen kdv miktarı nedir? (½20)\n"
   ]
  },
  {
   "cell_type": "code",
   "execution_count": 23,
   "metadata": {},
   "outputs": [],
   "source": [
    "name =  \"Toygar Par\"\n",
    "tel = \"05555555\"\n",
    "email = \"toygar.par@par.com\"\n",
    "şehir = \"İzmir\"\n",
    "\n",
    "#Satın Alınan Ürünler\n",
    "\n",
    "urunA = \"MSI B650 Tomahawk Wifi Mobo\"\n",
    "urunA_fiyat = 7500\n",
    "\n",
    "urunB = \"AMD Ryzen 7900 CPU w/Wraith Prism Stock Cooler\"\n",
    "urunB_fiyat = 15000\n",
    "\n",
    "urunC = \"Nvidia RTX 3060 GPU\"\n",
    "urunC_fiyat  = 10900\n",
    "\n",
    "kdv_oranı = 0.20\n",
    "\n"
   ]
  },
  {
   "cell_type": "code",
   "execution_count": 24,
   "metadata": {},
   "outputs": [],
   "source": [
    "toplam_odenen_kdvsiz = urunA_fiyat + urunB_fiyat + urunC_fiyat\n",
    "toplam_odenen_ucret_kdvli = toplam_odenen_kdvsiz + (toplam_odenen_kdvsiz * kdvoranı)\n",
    "odenen_kdv_miktarı = toplam_odenen_kdvsiz * kdv_oranı"
   ]
  },
  {
   "cell_type": "code",
   "execution_count": 27,
   "metadata": {},
   "outputs": [
    {
     "name": "stdout",
     "output_type": "stream",
     "text": [
      "{'MSI B650 Tomahawk Wifi Mobo': 7500, 'AMD Ryzen 7900 CPU w/Wraith Prism Stock Cooler': 15000, 'Nvidia RTX 3060 GPU': 10900}\n",
      "**************\n",
      "33400\n",
      "39412.0\n",
      "6680.0\n"
     ]
    }
   ],
   "source": [
    "dicturun = {urunA : urunA_fiyat, urunB: urunB_fiyat, urunC : urunC_fiyat}\n",
    "print(dicturun)\n",
    "print(\"**************\")\n",
    "print(toplam_odenen_kdvsiz)\n",
    "print(toplam_odenen_ucret_kdvli)\n",
    "print(odenen_kdv_miktarı)\n",
    "\n"
   ]
  },
  {
   "cell_type": "markdown",
   "metadata": {},
   "source": [
    "Python Data Types\n",
    "\n",
    "numeric - int float\n",
    "text - str\n",
    "boolean  - bool"
   ]
  },
  {
   "cell_type": "code",
   "execution_count": 3,
   "metadata": {},
   "outputs": [
    {
     "name": "stdout",
     "output_type": "stream",
     "text": [
      "<class 'str'> <class 'int'> <class 'float'> <class 'float'> <class 'bool'>\n"
     ]
    }
   ],
   "source": [
    "isim = \"Toygar\"\n",
    "yas = 50\n",
    "agirlik = 87.50\n",
    "uzunluk = 1.80 \n",
    "ogrenciMi = True\n",
    "\n",
    "print(type(isim), type(yas), type(agirlik), type(uzunluk), type(ogrenciMi))"
   ]
  },
  {
   "cell_type": "code",
   "execution_count": 10,
   "metadata": {},
   "outputs": [
    {
     "name": "stdout",
     "output_type": "stream",
     "text": [
      "ad bilgisi:  Toygar yaş:  50 ağırlık ve uzunluk:  87.5 1.8 Öğrenci mi?:  True\n"
     ]
    }
   ],
   "source": [
    "print( \"ad bilgisi: \" , isim , \"yaş: \", str(yas) , \"ağırlık ve uzunluk: \" , str(agirlik) , str(uzunluk) , \"Öğrenci mi?: \" , str(ogrenciMi))"
   ]
  },
  {
   "cell_type": "code",
   "execution_count": 14,
   "metadata": {},
   "outputs": [
    {
     "name": "stdout",
     "output_type": "stream",
     "text": [
      "ad bilgisi: Toygar yaş: 50 ağırlık ve uzunluk: 87.51.8 Öğrenci mi:True\n"
     ]
    }
   ],
   "source": [
    "info = \"ad bilgisi: \" + isim + \" yaş: \" + str(yas) + \" ağırlık ve uzunluk: \" + str(agirlik) + str(uzunluk) + \" Öğrenci mi:\" + str(ogrenciMi)\n",
    "print(info)"
   ]
  },
  {
   "cell_type": "code",
   "execution_count": 1,
   "metadata": {},
   "outputs": [
    {
     "name": "stdout",
     "output_type": "stream",
     "text": [
      "150\n"
     ]
    }
   ],
   "source": [
    "#type conversion - beri tipleri dönüşümü\n",
    "num1 = 50\n",
    "num2 = 100\n",
    "\n",
    "total = num1 + num2\n",
    "\n",
    "print(total)"
   ]
  },
  {
   "cell_type": "code",
   "execution_count": 3,
   "metadata": {},
   "outputs": [
    {
     "name": "stdout",
     "output_type": "stream",
     "text": [
      "6590\n"
     ]
    }
   ],
   "source": [
    "num3  = input(\"Sayı 1: \")   #input value is always a string\n",
    "num4 = input(\"Sayı 2 :\")\n",
    "toplam = num3 + num4\n",
    "\n",
    "print(toplam)"
   ]
  },
  {
   "cell_type": "code",
   "execution_count": 5,
   "metadata": {},
   "outputs": [
    {
     "name": "stdout",
     "output_type": "stream",
     "text": [
      "175\n"
     ]
    }
   ],
   "source": [
    "num3  = int(input(\"Sayı 1: \"))\n",
    "num4  = int(input(\"Sayı 2 \"))\n",
    "toplam = num3 + num4\n",
    "\n",
    "print(toplam)"
   ]
  },
  {
   "cell_type": "markdown",
   "metadata": {},
   "source": [
    "yahut;"
   ]
  },
  {
   "cell_type": "code",
   "execution_count": 6,
   "metadata": {},
   "outputs": [
    {
     "name": "stdout",
     "output_type": "stream",
     "text": [
      "120\n"
     ]
    }
   ],
   "source": [
    "num3  = input(\"Sayı 1: \")   #input value is always a string\n",
    "num4 = input(\"Sayı 2 :\")\n",
    "toplam = int(num3) + int(num4)\n",
    "\n",
    "print(toplam)"
   ]
  },
  {
   "cell_type": "code",
   "execution_count": 7,
   "metadata": {},
   "outputs": [
    {
     "data": {
      "text/plain": [
       "'Hakkıdır Hakka Tapan Milletimin İstiklal'"
      ]
     },
     "execution_count": 7,
     "metadata": {},
     "output_type": "execute_result"
    }
   ],
   "source": [
    "#import module attribute\n",
    "from myfile import dize\n",
    "dize"
   ]
  },
  {
   "cell_type": "code",
   "execution_count": 20,
   "metadata": {},
   "outputs": [
    {
     "ename": "AttributeError",
     "evalue": "module 'üçlü' has no attribute 'd'",
     "output_type": "error",
     "traceback": [
      "\u001b[0;31m---------------------------------------------------------------------------\u001b[0m",
      "\u001b[0;31mAttributeError\u001b[0m                            Traceback (most recent call last)",
      "Cell \u001b[0;32mIn[20], line 3\u001b[0m\n\u001b[1;32m      1\u001b[0m \u001b[38;5;28;01mimport\u001b[39;00m \u001b[38;5;21;01müçlü\u001b[39;00m\n\u001b[1;32m      2\u001b[0m üçlü\u001b[38;5;241m.\u001b[39mb\n\u001b[0;32m----> 3\u001b[0m üçlü\u001b[38;5;241m.\u001b[39md\n",
      "\u001b[0;31mAttributeError\u001b[0m: module 'üçlü' has no attribute 'd'"
     ]
    }
   ],
   "source": [
    "import üçlü\n",
    "üçlü.b\n",
    "üçlü.d\n"
   ]
  },
  {
   "cell_type": "code",
   "execution_count": 27,
   "metadata": {},
   "outputs": [
    {
     "data": {
      "text/plain": [
       "'Melisa Vargas'"
      ]
     },
     "execution_count": 27,
     "metadata": {},
     "output_type": "execute_result"
    }
   ],
   "source": [
    "#reload a module\n",
    "\n",
    "import importlib\n",
    "\n",
    "importlib.reload(üçlü)\n",
    "\n",
    "üçlü.d  #access its attributes"
   ]
  },
  {
   "cell_type": "code",
   "execution_count": 44,
   "metadata": {},
   "outputs": [
    {
     "data": {
      "text/plain": [
       "'Cansu Özbay'"
      ]
     },
     "execution_count": 44,
     "metadata": {},
     "output_type": "execute_result"
    }
   ],
   "source": [
    "from importlib import reload\n",
    "\n",
    "reload(üçlü)\n",
    "\n",
    "c"
   ]
  },
  {
   "cell_type": "code",
   "execution_count": 28,
   "metadata": {},
   "outputs": [],
   "source": [
    "#copy multiple names out\n",
    "from üçlü import a, b, c, d"
   ]
  },
  {
   "cell_type": "code",
   "execution_count": 29,
   "metadata": {},
   "outputs": [
    {
     "data": {
      "text/plain": [
       "('Hande Baladin', 'Melisa Vargas')"
      ]
     },
     "execution_count": 29,
     "metadata": {},
     "output_type": "execute_result"
    }
   ],
   "source": [
    "b, d"
   ]
  },
  {
   "cell_type": "code",
   "execution_count": 41,
   "metadata": {},
   "outputs": [
    {
     "data": {
      "text/plain": [
       "['__builtins__',\n",
       " '__cached__',\n",
       " '__doc__',\n",
       " '__file__',\n",
       " '__loader__',\n",
       " '__name__',\n",
       " '__package__',\n",
       " '__spec__',\n",
       " 'a',\n",
       " 'b',\n",
       " 'c',\n",
       " 'd']"
      ]
     },
     "execution_count": 41,
     "metadata": {},
     "output_type": "execute_result"
    }
   ],
   "source": [
    "dir(üçlü)"
   ]
  },
  {
   "cell_type": "code",
   "execution_count": 42,
   "metadata": {},
   "outputs": [
    {
     "name": "stdout",
     "output_type": "stream",
     "text": [
      "Help on built-in function dir in module builtins:\n",
      "\n",
      "dir(...)\n",
      "    Show attributes of an object.\n",
      "\n",
      "    If called without an argument, return the names in the current scope.\n",
      "    Else, return an alphabetized list of names comprising (some of) the attributes\n",
      "    of the given object, and of attributes reachable from it.\n",
      "    If the object supplies a method named __dir__, it will be used; otherwise\n",
      "    the default dir() logic is used and returns:\n",
      "      for a module object: the module's attributes.\n",
      "      for a class object:  its attributes, and recursively the attributes\n",
      "        of its bases.\n",
      "      for any other object: its attributes, its class's attributes, and\n",
      "        recursively the attributes of its class's base classes.\n",
      "\n"
     ]
    }
   ],
   "source": [
    "help(dir)"
   ]
  },
  {
   "cell_type": "code",
   "execution_count": 37,
   "metadata": {},
   "outputs": [
    {
     "name": "stdout",
     "output_type": "stream",
     "text": [
      "108.39796171000002\n",
      "36.932866000000004\n"
     ]
    }
   ],
   "source": [
    "#daire çevre ve alan hesaplama\n",
    "pi = 3.1459\n",
    "radius = float(input(\"Yarı Çap Giriniz: \"))\n",
    "dairealan = pi*radius**2\n",
    "dairecevre = 2*pi*radius\n",
    "\n",
    "print(dairealan)\n",
    "\n",
    "print(dairecevre)"
   ]
  },
  {
   "cell_type": "code",
   "execution_count": 40,
   "metadata": {},
   "outputs": [
    {
     "name": "stdout",
     "output_type": "stream",
     "text": [
      "117\n"
     ]
    }
   ],
   "source": [
    "#km girişi mil üzerinden hesapla\n",
    "\n",
    "km = float(input(\"KM bilgisi giriniz: \"))\n",
    "mil = km / 1.609344\n",
    "\n",
    "print(round(mil))"
   ]
  },
  {
   "cell_type": "code",
   "execution_count": 8,
   "metadata": {},
   "outputs": [],
   "source": [
    "#using lists\n",
    "\n",
    "toygar = [\"toygar par\", 50, 30000, \"frontend\"]\n",
    "taco = [\"taco par\", 17, 50000, \"backend\"]"
   ]
  },
  {
   "cell_type": "code",
   "execution_count": 9,
   "metadata": {},
   "outputs": [
    {
     "data": {
      "text/plain": [
       "('toygar par', 'backend')"
      ]
     },
     "execution_count": 9,
     "metadata": {},
     "output_type": "execute_result"
    }
   ],
   "source": [
    "#how to fetch name, position\n",
    "\n",
    "toygar[0], taco[3]"
   ]
  },
  {
   "cell_type": "code",
   "execution_count": 10,
   "metadata": {},
   "outputs": [
    {
     "data": {
      "text/plain": [
       "'par'"
      ]
     },
     "execution_count": 10,
     "metadata": {},
     "output_type": "execute_result"
    }
   ],
   "source": [
    "#last name of toygar\n",
    "\n",
    "toygar[0].split()[-1]"
   ]
  },
  {
   "cell_type": "code",
   "execution_count": 11,
   "metadata": {},
   "outputs": [
    {
     "data": {
      "text/plain": [
       "['taco par', 17, 62500.0, 'backend']"
      ]
     },
     "execution_count": 11,
     "metadata": {},
     "output_type": "execute_result"
    }
   ],
   "source": [
    "#taco's 25 percent raise\n",
    "\n",
    "taco[2] *= 1.25\n",
    "taco"
   ]
  },
  {
   "cell_type": "code",
   "execution_count": 12,
   "metadata": {},
   "outputs": [],
   "source": [
    "#let's make a database of a list of lists\n",
    "\n",
    "parcorp = [ toygar, taco]"
   ]
  },
  {
   "cell_type": "code",
   "execution_count": 13,
   "metadata": {},
   "outputs": [
    {
     "name": "stdout",
     "output_type": "stream",
     "text": [
      "['toygar par', 50, 30000, 'frontend']\n",
      "['taco par', 17, 62500.0, 'backend']\n"
     ]
    }
   ],
   "source": [
    "for emp in parcorp:\n",
    "    print(emp)"
   ]
  },
  {
   "cell_type": "code",
   "execution_count": 14,
   "metadata": {},
   "outputs": [
    {
     "data": {
      "text/plain": [
       "'toygar par'"
      ]
     },
     "execution_count": 14,
     "metadata": {},
     "output_type": "execute_result"
    }
   ],
   "source": [
    "parcorp[0][0]"
   ]
  },
  {
   "cell_type": "code",
   "execution_count": null,
   "metadata": {},
   "outputs": [
    {
     "name": "stdout",
     "output_type": "stream",
     "text": [
      "toygar\n",
      "taco\n"
     ]
    }
   ],
   "source": [
    "#print employees' first names and give 20% raise\n",
    "\n",
    "for emp in parcorp:\n",
    "    print( emp[0].split()[0] )\n",
    "    emp[2] *= 1.20"
   ]
  },
  {
   "cell_type": "code",
   "execution_count": null,
   "metadata": {},
   "outputs": [
    {
     "name": "stdout",
     "output_type": "stream",
     "text": [
      "43200.0\n",
      "90000.0\n"
     ]
    },
    {
     "data": {
      "text/plain": [
       "[None, None]"
      ]
     },
     "execution_count": 17,
     "metadata": {},
     "output_type": "execute_result"
    }
   ],
   "source": [
    "#new salaries\n",
    "[print(emp[2]) for emp in parcorp]"
   ]
  },
  {
   "cell_type": "code",
   "execution_count": 18,
   "metadata": {},
   "outputs": [
    {
     "data": {
      "text/plain": [
       "133200.0"
      ]
     },
     "execution_count": 18,
     "metadata": {},
     "output_type": "execute_result"
    }
   ],
   "source": [
    "#maaşların toplamı using generator\n",
    "\n",
    "sum(emp[2] for emp in parcorp)"
   ]
  },
  {
   "cell_type": "code",
   "execution_count": 20,
   "metadata": {},
   "outputs": [
    {
     "data": {
      "text/plain": [
       "[43200.0, 90000.0]"
      ]
     },
     "execution_count": 20,
     "metadata": {},
     "output_type": "execute_result"
    }
   ],
   "source": [
    "#list salaries using map function\n",
    "list(map(lambda x : x[2], parcorp))"
   ]
  },
  {
   "cell_type": "code",
   "execution_count": 22,
   "metadata": {},
   "outputs": [],
   "source": [
    "#add an emp using list methods:\n",
    "\n",
    "parcorp.append([\"buzz par\", 23, 70000, \"devop\"])"
   ]
  },
  {
   "cell_type": "code",
   "execution_count": 23,
   "metadata": {},
   "outputs": [
    {
     "data": {
      "text/plain": [
       "3"
      ]
     },
     "execution_count": 23,
     "metadata": {},
     "output_type": "execute_result"
    }
   ],
   "source": [
    "len(parcorp)"
   ]
  },
  {
   "cell_type": "code",
   "execution_count": 24,
   "metadata": {},
   "outputs": [
    {
     "data": {
      "text/plain": [
       "'buzz'"
      ]
     },
     "execution_count": 24,
     "metadata": {},
     "output_type": "execute_result"
    }
   ],
   "source": [
    "#firstname of last added emp\n",
    "parcorp[-1][0].split()[0]"
   ]
  },
  {
   "cell_type": "code",
   "execution_count": null,
   "metadata": {},
   "outputs": [],
   "source": []
  }
 ],
 "metadata": {
  "kernelspec": {
   "display_name": "base",
   "language": "python",
   "name": "python3"
  },
  "language_info": {
   "codemirror_mode": {
    "name": "ipython",
    "version": 3
   },
   "file_extension": ".py",
   "mimetype": "text/x-python",
   "name": "python",
   "nbconvert_exporter": "python",
   "pygments_lexer": "ipython3",
   "version": "3.12.7"
  }
 },
 "nbformat": 4,
 "nbformat_minor": 2
}
