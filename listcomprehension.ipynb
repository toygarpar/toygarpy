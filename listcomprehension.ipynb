{
 "cells": [
  {
   "cell_type": "markdown",
   "metadata": {},
   "source": [
    "LIST COMPREHENSION\n",
    "\n",
    "[expression for variable in iterable]\n",
    "\n",
    "*any valid expression \n",
    "\n",
    "*variable name\n",
    "\n",
    "*any iterable Python object\n",
    "\n",
    "\n",
    "\n",
    "applies an operation by an expression to each item in an iterable python object\n",
    "\n"
   ]
  },
  {
   "cell_type": "code",
   "execution_count": 5,
   "metadata": {},
   "outputs": [
    {
     "data": {
      "text/plain": [
       "[0, 1, 2, 3, 4, 5, 6, 7, 8, 9]"
      ]
     },
     "execution_count": 5,
     "metadata": {},
     "output_type": "execute_result"
    }
   ],
   "source": [
    "liste1 = []\n",
    "liste0 = []\n",
    "for a in range(10):\n",
    "    liste1.append(a**2)\n",
    "    liste0.append(a)\n",
    "\n",
    "liste0"
   ]
  },
  {
   "cell_type": "code",
   "execution_count": 6,
   "metadata": {},
   "outputs": [
    {
     "data": {
      "text/plain": [
       "[0, 1, 4, 9, 16, 25, 36, 49, 64, 81]"
      ]
     },
     "execution_count": 6,
     "metadata": {},
     "output_type": "execute_result"
    }
   ],
   "source": [
    "liste1"
   ]
  },
  {
   "cell_type": "code",
   "execution_count": 7,
   "metadata": {},
   "outputs": [
    {
     "data": {
      "text/plain": [
       "[0, 1, 4, 9, 16, 25, 36, 49, 64, 81]"
      ]
     },
     "execution_count": 7,
     "metadata": {},
     "output_type": "execute_result"
    }
   ],
   "source": [
    "#let's contruct a list of consisting of sguare of a for each a in the range up to 10,\n",
    "[a**2 for a in range(10)]"
   ]
  },
  {
   "cell_type": "code",
   "execution_count": 16,
   "metadata": {},
   "outputs": [
    {
     "data": {
      "text/plain": [
       "[6, 7, 8, 9, 10]"
      ]
     },
     "execution_count": 16,
     "metadata": {},
     "output_type": "execute_result"
    }
   ],
   "source": [
    "liste2 = [1 , 2, 3, 4, 5]\n",
    "for i in  range(len(liste2)):\n",
    "    liste2[i] += 5\n",
    "\n",
    "liste2\n"
   ]
  },
  {
   "cell_type": "code",
   "execution_count": 17,
   "metadata": {},
   "outputs": [
    {
     "data": {
      "text/plain": [
       "[11, 12, 13, 14, 15]"
      ]
     },
     "execution_count": 17,
     "metadata": {},
     "output_type": "execute_result"
    }
   ],
   "source": [
    "#list comprehension - replace the llop with a single expression that produces desired result liste2\n",
    "\n",
    "liste4 = [ x + 5 for x in liste2]\n",
    "\n",
    "liste4"
   ]
  },
  {
   "cell_type": "code",
   "execution_count": 18,
   "metadata": {},
   "outputs": [
    {
     "data": {
      "text/plain": [
       "['\"\"\"Araf Suresi, hayatın her adımının karşılığı olduğunu, doğruyla yanlışın\\n',\n",
       " 'öyle kolay ayırt edilmezken artık Hakk ile batılın ayrıldığını,\\n',\n",
       " 'insanların yaşamlarındaki doğru ve yanlış kararlarının sonuçlarına\\n',\n",
       " 'odaklanması gerektiğini, ancak tövbenin ve affın her zaman bir umut\\n',\n",
       " 'olarak karşımızda durduğunu anlatır.\"\"\"']"
      ]
     },
     "execution_count": 18,
     "metadata": {},
     "output_type": "execute_result"
    }
   ],
   "source": [
    "file = open(\"script2.py\")\n",
    "lines = file.readlines()\n",
    "lines"
   ]
  },
  {
   "cell_type": "code",
   "execution_count": 1,
   "metadata": {},
   "outputs": [
    {
     "name": "stdout",
     "output_type": "stream",
     "text": [
      "[]\n",
      "['a']\n",
      "['b']\n",
      "['a', 'b']\n"
     ]
    }
   ],
   "source": [
    "#input size of the set\n",
    "size = int(input(\"Enter size of the set: \"))\n",
    "\n",
    "#input elements of the set\n",
    "\n",
    "set = [input(f\"Enter {i +1} element: \") for i in range(size)]\n",
    "\n",
    "\n",
    "#initialize the result with an empty subset\n",
    "\n",
    "res = [[]]\n",
    "\n",
    "for i in set:\n",
    "    n = len(res)\n",
    "    for j in range(n):\n",
    "        r =  res[j] + [i]\n",
    "        res.append(r)\n",
    "\n",
    "\n",
    "#print all subsets\n",
    "\n",
    "for val in res:\n",
    "    print(val)\n",
    "    "
   ]
  },
  {
   "cell_type": "markdown",
   "metadata": {},
   "source": [
    "res contains all subsets of the set ['A', 'B', 'C']: [[], ['A'], ['B'], ['A', 'B'], ['C'], ['A', 'C'], ['B', 'C'], ['A', 'B', 'C']]\n",
    "\n",
    "This is the power set, including the empty set and all combinations of the elements.\n",
    "\n",
    "The user inputs the following values:\n",
    "\n",
    "size = 2\n",
    "\n",
    "Elements of the set: A, B\n",
    "\n",
    "Initial State:\n",
    "\n",
    "res = [[]] (the empty subset)\n",
    "\n",
    "Iteration 1 (i = 'A'):\n",
    "\n",
    "res contains [[]]\n",
    "\n",
    "Add 'A' to each subset in res:\n",
    "\n",
    "Add 'A' to the empty subset: [] + ['A'] = ['A']\n",
    "Now, res = [[], ['A']]\n",
    "\n",
    "Iteration 2 (i = 'B'):\n",
    "\n",
    "res contains [[], ['A']]\n",
    "\n",
    "Add 'B' to each subset in res:\n",
    "\n",
    "Add 'B' to the empty subset: [] + ['B'] = ['B']\n",
    "\n",
    "Add 'B' to the subset ['A']: ['A'] + ['B'] = ['A', 'B']\n",
    "\n",
    "Now, res = [[], ['A'], ['B'], ['A', 'B']]"
   ]
  },
  {
   "cell_type": "code",
   "execution_count": 11,
   "metadata": {},
   "outputs": [
    {
     "data": {
      "text/plain": [
       "[True, True, 2, 3, 5, 8, 13]"
      ]
     },
     "execution_count": 11,
     "metadata": {},
     "output_type": "execute_result"
    }
   ],
   "source": [
    "#**********************crazy lambda for generating fibonacci numbers********************************\n",
    "\n",
    "list(map( lambda x, f = lambda x, f: (x <=1) or (f(x-1, f)+ f(x-2, f)): f (x, f), range(7)))"
   ]
  },
  {
   "cell_type": "markdown",
   "metadata": {},
   "source": [
    "## LAMBDA INCEPTION : lambda within lambda \n",
    "\n",
    "### The outer lambda is:\n",
    "```lambda x, f = lambda x, f: (x <= 1) or (f(x - 1, f) + f(x - 2, f)): f(x, f)```\n",
    "\n",
    "The outer lambda calls f(x, f) for each x.\n",
    "\n",
    "\n",
    "### Inner lambda (recursive function):\n",
    "the recursive function ```f = lambda x, f``` is:\n",
    "```lambda x, f: (x <= 1) or (f(x - 1, f) + f(x - 2, f))```\n",
    "\n",
    "\n",
    "This is where the Fibonacci calculation happens:\n",
    "\n",
    "Base case: If x <= 1, it returns True (which is treated as 1 in Python for the purposes of recursion).\n",
    "\n",
    "Recursive case: For x > 1, it recursively calls f(x - 1, f) and f(x - 2, f) to calculate Fibonacci numbers.\n",
    "\n",
    "\n",
    "***************************************************************************************************************************\n",
    "\n",
    "Iteration over range(7):\n",
    "Now, let's go through each number in range(7) and see how the lambda function calculates the Fibonacci number for each step.\n",
    "\n",
    "Iteration 1: x = 0\n",
    "\n",
    "The outer lambda is called with x = 0.\n",
    "\n",
    "The outer lambda calls f(0, f):\n",
    "The inner lambda checks x <= 1 (which is true for x = 0).\n",
    "\n",
    "It returns True, which is treated as 1.\n",
    "\n",
    "So, F(0) = 1.\n",
    "\n",
    "Iteration 2: x = 1\n",
    "\n",
    "The outer lambda is called with x = 1.\n",
    "\n",
    "The outer lambda calls f(1, f):\n",
    "The inner lambda checks x <= 1 (which is true for x = 1).\n",
    "\n",
    "It returns True, which is treated as 1.\n",
    "\n",
    "So, F(1) = 1.\n",
    "\n",
    "Iteration 3: x = 2\n",
    "\n",
    "The outer lambda is called with x = 2.\n",
    "\n",
    "The outer lambda calls f(2, f):\n",
    "The inner lambda checks x <= 1 (which is false for x = 2).\n",
    "\n",
    "\n",
    "It recursively calls f(1, f) and f(0, f):\n",
    "f(1, f) returns 1 (as seen in iteration 2).\n",
    "f(0, f) returns 1 (as seen in iteration 1).\n",
    "\n",
    "The results are added: 1 + 1 = 2.\n",
    "\n",
    "So, F(2) = 2.\n",
    "\n",
    "Iteration 4: x = 3\n",
    "\n",
    "The outer lambda is called with x = 3.\n",
    "\n",
    "The outer lambda calls f(3, f):\n",
    "\n",
    "The inner lambda checks x <= 1 (which is false for x = 3).\n",
    "\n",
    "It recursively calls f(2, f) and f(1, f):\n",
    "f(2, f) returns 2 (as seen in iteration 3).\n",
    "f(1, f) returns 1 (as seen in iteration 2).\n",
    "The results are added: 2 + 1 = 3.\n",
    "\n",
    "So, F(3) = 3.\n",
    "\n",
    "Iteration 5: x = 4\n",
    "\n",
    "The outer lambda is called with x = 4.\n",
    "\n",
    "The outer lambda calls f(4, f):\n",
    "The inner lambda checks x <= 1 (which is false for x = 4).\n",
    "\n",
    "It recursively calls f(3, f) and f(2, f):\n",
    "f(3, f) returns 3 (as seen in iteration 4).\n",
    "f(2, f) returns 2 (as seen in iteration 3).\n",
    "\n",
    "The results are added: 3 + 2 = 5.\n",
    "So, F(4) = 5.\n",
    "\n",
    "Iteration 6: x = 5\n",
    "\n",
    "The outer lambda is called with x = 5.\n",
    "\n",
    "The outer lambda calls f(5, f):\n",
    "The inner lambda checks x <= 1 (which is false for x = 5).\n",
    "\n",
    "It recursively calls f(4, f) and f(3, f):\n",
    "f(4, f) returns 5 (as seen in iteration 5).\n",
    "f(3, f) returns 3 (as seen in iteration 4).\n",
    "\n",
    "The results are added: 5 + 3 = 8.\n",
    "\n",
    "So, F(5) = 8.\n",
    "\n",
    "Iteration 7: x = 6\n",
    "\n",
    "The outer lambda is called with x = 6.\n",
    "\n",
    "The outer lambda calls f(6, f):\n",
    "The inner lambda checks x <= 1 (which is false for x = 6).\n",
    "\n",
    "It recursively calls f(5, f) and f(4, f):\n",
    "f(5, f) returns 8 (as seen in iteration 6).\n",
    "f(4, f) returns 5 (as seen in iteration 5).\n",
    "\n",
    "The results are added: 8 + 5 = 13.\n",
    "\n",
    "So, F(6) = 13."
   ]
  },
  {
   "cell_type": "code",
   "execution_count": 4,
   "metadata": {},
   "outputs": [],
   "source": [
    "#to achieve same result without list comprehension\n",
    "def fib(x):\n",
    "    if x <= 1:\n",
    "        return 1\n",
    "    return fib(x-1) + fib(x-2)"
   ]
  },
  {
   "cell_type": "code",
   "execution_count": 10,
   "metadata": {},
   "outputs": [
    {
     "name": "stdout",
     "output_type": "stream",
     "text": [
      "[1, 1, 2, 3, 5, 8, 13]\n"
     ]
    }
   ],
   "source": [
    "result = list(map(fib, range(7)))\n",
    "print(result)"
   ]
  },
  {
   "cell_type": "code",
   "execution_count": 12,
   "metadata": {},
   "outputs": [
    {
     "data": {
      "text/plain": [
       "<function __main__.<lambda>(x, f)>"
      ]
     },
     "execution_count": 12,
     "metadata": {},
     "output_type": "execute_result"
    }
   ],
   "source": [
    "f = lambda x, f: (x <= 1) or (f(x-1, f) + f(x-2, f))  #the inner lambda function for the crazy list comprehension lambda inception\n",
    "f\n"
   ]
  },
  {
   "cell_type": "code",
   "execution_count": 8,
   "metadata": {},
   "outputs": [
    {
     "data": {
      "text/plain": [
       "[(0, 0), (0, 1), (1, 0), (1, 1), (2, 0), (2, 1)]"
      ]
     },
     "execution_count": 8,
     "metadata": {},
     "output_type": "execute_result"
    }
   ],
   "source": [
    "#multiple iteration - add another for expression in the comprehension\n",
    "\n",
    "[(a, b) for a in range(3) for b in range(2)]"
   ]
  },
  {
   "cell_type": "code",
   "execution_count": 13,
   "metadata": {},
   "outputs": [
    {
     "data": {
      "text/plain": [
       "[(0, 'a'),\n",
       " (0, 'b'),\n",
       " (0, 'c'),\n",
       " (1, 'a'),\n",
       " (1, 'b'),\n",
       " (1, 'c'),\n",
       " (2, 'a'),\n",
       " (2, 'b'),\n",
       " (2, 'c')]"
      ]
     },
     "execution_count": 13,
     "metadata": {},
     "output_type": "execute_result"
    }
   ],
   "source": [
    "liste3 = [\"a\", \"b\", \"c\"]\n",
    "[(x, y) for x in range(3) for y in liste3]"
   ]
  },
  {
   "cell_type": "code",
   "execution_count": 14,
   "metadata": {},
   "outputs": [
    {
     "data": {
      "text/plain": [
       "[1, 3, 5, 7, 9]"
      ]
     },
     "execution_count": 14,
     "metadata": {},
     "output_type": "execute_result"
    }
   ],
   "source": [
    "#conditionals on the iterator to filter out values - works out as filtering, acts as a filter and excludes values where the condition is false\n",
    "[x for x in range(10) if x % 2 > 0]"
   ]
  },
  {
   "cell_type": "code",
   "execution_count": 15,
   "metadata": {},
   "outputs": [
    {
     "data": {
      "text/plain": [
       "[0, 1, -2, 3, -4, 5, -6, 7, -8, 9, -10, 11, -12, 13, -14, 15, -16, 17, -18, 19]"
      ]
     },
     "execution_count": 15,
     "metadata": {},
     "output_type": "execute_result"
    }
   ],
   "source": [
    "#conditional expression on deciding how to include values rather than filtering them out, change how values are included\n",
    "\n",
    "#what to inlclude based on a condition\n",
    "\n",
    "[val if val % 2 else -val for val in range(20)]"
   ]
  },
  {
   "cell_type": "code",
   "execution_count": null,
   "metadata": {},
   "outputs": [],
   "source": []
  },
  {
   "cell_type": "code",
   "execution_count": null,
   "metadata": {},
   "outputs": [],
   "source": []
  },
  {
   "cell_type": "code",
   "execution_count": null,
   "metadata": {},
   "outputs": [],
   "source": []
  },
  {
   "cell_type": "code",
   "execution_count": null,
   "metadata": {},
   "outputs": [],
   "source": []
  },
  {
   "cell_type": "code",
   "execution_count": null,
   "metadata": {},
   "outputs": [],
   "source": []
  },
  {
   "cell_type": "code",
   "execution_count": null,
   "metadata": {},
   "outputs": [],
   "source": []
  },
  {
   "cell_type": "code",
   "execution_count": null,
   "metadata": {},
   "outputs": [],
   "source": []
  },
  {
   "cell_type": "code",
   "execution_count": null,
   "metadata": {},
   "outputs": [],
   "source": []
  },
  {
   "cell_type": "code",
   "execution_count": null,
   "metadata": {},
   "outputs": [],
   "source": []
  },
  {
   "cell_type": "code",
   "execution_count": null,
   "metadata": {},
   "outputs": [],
   "source": []
  },
  {
   "cell_type": "code",
   "execution_count": null,
   "metadata": {},
   "outputs": [],
   "source": []
  },
  {
   "cell_type": "code",
   "execution_count": 1,
   "metadata": {},
   "outputs": [
    {
     "data": {
      "text/plain": [
       "[1, -2, -4, 5, 7, -8, -10, 11, 13, -14, -16, 17, 19]"
      ]
     },
     "execution_count": 1,
     "metadata": {},
     "output_type": "execute_result"
    }
   ],
   "source": [
    "x = [val if val % 2 else -val for val in range(20) if val % 3]\n",
    "\n",
    "list(x)\n"
   ]
  },
  {
   "cell_type": "markdown",
   "metadata": {},
   "source": [
    "[expression for item in iterable if condition]\n",
    "\n"
   ]
  },
  {
   "cell_type": "markdown",
   "metadata": {},
   "source": [
    "Here:\n",
    "\n",
    "expression: val if val % 2 else -val\n",
    "\n",
    "item: val\n",
    "\n",
    "iterable: range(20)\n",
    "\n",
    "condition: if val % 3\n",
    "\n",
    "\n",
    "\n",
    "\n",
    "chatgpt explained   :  list comprehension breakdown\n"
   ]
  },
  {
   "cell_type": "markdown",
   "metadata": {},
   "source": [
    "In Python, 0 evaluates to False, while any non-zero value evaluates to True. Therefore:\n",
    "\n",
    "When val % 2 is non-zero (True) (i.e., for odd numbers), the conditional expression returns val (the number itself).\n",
    "\n",
    "When val % 2 is zero (False) (i.e., for even numbers), the conditional expression returns -val (the negative of the number)."
   ]
  },
  {
   "cell_type": "code",
   "execution_count": 3,
   "metadata": {},
   "outputs": [
    {
     "data": {
      "text/plain": [
       "[0, 1, 2, 3, 4, 5, 6, 7, 8, 9, 10, 11, 12, 13, 14, 15, 16, 17, 18, 19]"
      ]
     },
     "execution_count": 3,
     "metadata": {},
     "output_type": "execute_result"
    }
   ],
   "source": [
    "list(range(20))"
   ]
  },
  {
   "cell_type": "code",
   "execution_count": 7,
   "metadata": {},
   "outputs": [
    {
     "data": {
      "text/plain": [
       "[1, 2, 4, 5, 7, 8, 10, 11, 13, 14, 16, 17, 19]"
      ]
     },
     "execution_count": 7,
     "metadata": {},
     "output_type": "execute_result"
    }
   ],
   "source": [
    "[val for val in range(20) if val % 3 ]"
   ]
  },
  {
   "cell_type": "markdown",
   "metadata": {},
   "source": [
    "The part of the list comprehension if val % 3 is a filter condition that checks whether a number is divisible by 3:\n",
    "\n",
    "val % 3 == 0 means the number is divisible by 3 (remainder is zero).\n",
    "\n",
    "val % 3 != 0 means the number is not divisible by 3 (remainder is non-zero).\n",
    "\n",
    "In the list comprehension, only values where val % 3 != 0 (numbers not divisible by 3) are kept. This condition filters out numbers like 0, 3, 6, 9, 12, 15, 18, because those numbers are divisible by 3."
   ]
  },
  {
   "cell_type": "markdown",
   "metadata": {},
   "source": [
    "List Comprehension: [val for val in range(20) if val % 3]\n",
    "\n",
    "This list comprehension is designed to keep the values from range(20) where val % 3 != 0, i.e., values not divisible by 3. Here's how it works:\n",
    "\n",
    "val % 3 == 0 means the number is divisible by 3.\n",
    "val % 3 != 0 means the number is not divisible by 3.\n",
    "\n",
    "\n",
    "In Python, a non-zero value is considered True, and 0 is considered False. So:\n",
    "\n",
    "if val % 3 keeps values where val % 3 != 0 (non-zero, i.e., not divisible by 3).\n",
    "If val % 3 == 0, the condition is False, so that value is excluded."
   ]
  },
  {
   "cell_type": "markdown",
   "metadata": {},
   "source": [
    "Combining the Two Parts\n",
    "The two conditions:\n",
    "\n",
    "val if val % 2 else -val: Determines if the number is returned as positive or negative (based on odd/even).\n",
    "if val % 3: Filters out numbers divisible by 3 (removes them from the list).\n",
    "Together, they create a list of:\n",
    "\n",
    "Numbers not divisible by 3, and\n",
    "Numbers where odd numbers remain positive and even numbers become negativ"
   ]
  },
  {
   "cell_type": "markdown",
   "metadata": {},
   "source": [
    "Let’s go through a few numbers to see how the whole process works:\n",
    "\n",
    "val = 1:\n",
    "\n",
    "1 % 3 != 0 → Passes the filter.\n",
    "\n",
    "1 % 2 != 0 → Odd, so returns 1.\n",
    "\n",
    "val = 3:\n",
    "\n",
    "3 % 3 == 0 → Fails the filter (skipped).\n",
    "\n",
    "val = 4:\n",
    "\n",
    "4 % 3 != 0 → Passes the filter.\n",
    "\n",
    "4 % 2 == 0 → Even, so returns -4.\n",
    "\n",
    "val = 9:\n",
    "\n",
    "9 % 3 == 0 → Fails the filter (skipped).\n",
    "\n",
    "val = 10:\n",
    "\n",
    "10 % 3 != 0 → Passes the filter.\n",
    "\n",
    "10 % 2 == 0 → Even, so returns -10."
   ]
  },
  {
   "cell_type": "markdown",
   "metadata": {},
   "source": [
    "There might be confusion that comes from the fact that the if at the end (like if val % 3) and the if inside (like val if val % 2 else -val) are doing two different things:\n",
    "\n",
    "The if at the end is a filter, removing values that don’t meet the condition.\n",
    "The if ... else inside is a conditional expression, deciding how to include values, not whether to include them.\n",
    "\n",
    "\n",
    "\n",
    "Filtering if: When if appears after the for loop, it acts as a filter to remove values where the condition is False.\n",
    "\n",
    "Conditional Expression if: When if is part of a val if condition else other_val inside the list comprehension, it decides what value to include without filtering anything out.\n",
    "\n",
    "Using both concepts in the same list comprehension, which can feel tricky at first, but they serve different purposes!\n",
    "\n"
   ]
  },
  {
   "cell_type": "markdown",
   "metadata": {},
   "source": [
    "In summary ,\n",
    "val % 2 checks whether a number is odd (returns the number itself) or even (returns the negative of the number).\n",
    "\n",
    "if val % 3 filters out numbers divisible by 3 (they are removed from the list)."
   ]
  },
  {
   "cell_type": "markdown",
   "metadata": {},
   "source": [
    "Tip:\n",
    "### When you're unsure, remember that if in a list comprehension means \"keep the values where the condition is True\".\n",
    "\n",
    "\n",
    "In Python:\n",
    "\n",
    "When val % 3 == 0 (i.e., remainder is 0), this is considered False in the context of the if condition.\n",
    "\n",
    "When val % 3 != 0 (i.e., remainder is non-zero), this is considered True.\n",
    "\n",
    "if statement in a list comprehension can serve two distinct purposes, depending on where it appears in the expression:\n",
    "\n",
    "Filtering: When placed at the end of the list comprehension, like if val % 3, it acts as a filter and excludes values where the condition is false.\n",
    "\n",
    "Conditional Expression: When used within the list comprehension before the for loop (like val if val % 2 else -val), it determines what to include based on a condition, but doesn't exclude anything.\n",
    "\n",
    "\n",
    "The confusion comes from the fact that the if at the end (like if val % 3) and the if inside (like val if val % 2 else -val) are doing two different things:\n",
    "\n",
    "The if at the end is a filter, removing values that don’t meet the condition.\n",
    "\n",
    "The if ... else inside is a conditional expression, deciding how to include values, not whether to include them."
   ]
  },
  {
   "cell_type": "markdown",
   "metadata": {},
   "source": []
  },
  {
   "cell_type": "markdown",
   "metadata": {},
   "source": []
  },
  {
   "cell_type": "markdown",
   "metadata": {},
   "source": []
  }
 ],
 "metadata": {
  "kernelspec": {
   "display_name": "base",
   "language": "python",
   "name": "python3"
  },
  "language_info": {
   "codemirror_mode": {
    "name": "ipython",
    "version": 3
   },
   "file_extension": ".py",
   "mimetype": "text/x-python",
   "name": "python",
   "nbconvert_exporter": "python",
   "pygments_lexer": "ipython3",
   "version": "3.12.4"
  }
 },
 "nbformat": 4,
 "nbformat_minor": 2
}
