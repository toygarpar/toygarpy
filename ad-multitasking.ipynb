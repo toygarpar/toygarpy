{
 "cells": [
  {
   "cell_type": "markdown",
   "metadata": {},
   "source": [
    "\n",
    "<div style=\"padding:20px; \n",
    "            color:#36FF00;\n",
    "            margin:10px;\n",
    "            font-size:110%;\n",
    "            display:fill;\n",
    "            border-radius:10px;\n",
    "            border-style: solid;\n",
    "            border-color: #36FF00;\n",
    "            background-color:#000000;\n",
    "            overflow:hidden;\n",
    "            font-weight:500\">THREADS AND PROCESSES!\n",
    "            </div>\n",
    "\n",
    "Multitasking - eş zamanlı programlama\n",
    "\n",
    "Multi Processing - her bir işlemin farklı bir process ve iş içinde ele alınması\n",
    "\n",
    "Multi Threading - bir çekirdek içinde eş zamanlı çeşitli threadler oluşturmak\n",
    "\n",
    "Synchronous vs Asyncronous"
   ]
  },
  {
   "cell_type": "code",
   "execution_count": 8,
   "metadata": {},
   "outputs": [],
   "source": [
    "#MULTI-THREADING\n",
    "\n",
    "import time\n",
    "\n",
    "\n",
    "def kareal(nums):\n",
    "    print(\"sayıların kareleri hesaplanıyor\")\n",
    "\n",
    "    for i in nums:\n",
    "        time.sleep(0.3)\n",
    "        print(\"Karesi: \", i * i)\n",
    "\n",
    "def kubal(nums):\n",
    "    print(\"sayıların kübü hesaplanıyor\")\n",
    "\n",
    "    for i in nums:\n",
    "        time.sleep(0.3)\n",
    "        print(\"Kübü: \", i * i * i)\n",
    "\n",
    "\n",
    "nums = [1, 2, 3, 5, 8, 13, 21, 34]\n",
    "\n"
   ]
  },
  {
   "cell_type": "code",
   "execution_count": 9,
   "metadata": {},
   "outputs": [
    {
     "name": "stdout",
     "output_type": "stream",
     "text": [
      "sayıların kareleri hesaplanıyor\n",
      "Karesi:  1\n",
      "Karesi:  4\n",
      "Karesi:  9\n",
      "Karesi:  25\n",
      "Karesi:  64\n",
      "Karesi:  169\n",
      "Karesi:  441\n",
      "Karesi:  1156\n",
      "sayıların kübü hesaplanıyor\n",
      "Kübü:  1\n",
      "Kübü:  8\n",
      "Kübü:  27\n",
      "Kübü:  125\n",
      "Kübü:  512\n",
      "Kübü:  2197\n",
      "Kübü:  9261\n",
      "Kübü:  39304\n",
      "İşlem Tamamlandı 4.802820920944214\n"
     ]
    }
   ],
   "source": [
    "#ardışık işlemler\n",
    "\n",
    "t = time.time()\n",
    "\n",
    "kareal(nums)\n",
    "kubal(nums)\n",
    "\n",
    "print(\"İşlem Tamamlandı\", time.time() - t)"
   ]
  },
  {
   "cell_type": "code",
   "execution_count": null,
   "metadata": {},
   "outputs": [],
   "source": [
    "def kareal2(nums):\n",
    "   \n",
    "\n",
    "    for i in nums:\n",
    "        time.sleep(0.3)           #hesaplamadan önce sistemi 0.3 sn delay yapalım\n",
    "        print(\"Karesi: \", i * i)\n",
    "\n",
    "def kubal2(nums):\n",
    "    \n",
    "\n",
    "    for i in nums:\n",
    "        time.sleep(0.3)\n",
    "        print(\"Kübü: \", i * i * i)\n",
    "\n",
    "\n",
    "nums = [1, 2, 3, 5, 8, 13, 21, 34]"
   ]
  },
  {
   "cell_type": "code",
   "execution_count": 15,
   "metadata": {},
   "outputs": [
    {
     "name": "stdout",
     "output_type": "stream",
     "text": [
      "Karesi:  1\n",
      "Kübü:  1\n",
      "Karesi:  4\n",
      "Kübü:  8\n",
      "Karesi:  9\n",
      "Kübü:  27\n",
      "Karesi:  25\n",
      "Kübü:  125\n",
      "Karesi:  64\n",
      "Kübü:  512\n",
      "Karesi:  169\n",
      "Kübü:  2197\n",
      "Karesi:  441\n",
      "Kübü:  9261\n",
      "Karesi:  1156\n",
      "Kübü:  39304\n",
      "İşlem Tamamlandı 2.4015839099884033\n"
     ]
    }
   ],
   "source": [
    "#eş zamanlı ilerletmek\n",
    "import time\n",
    "import threading\n",
    "\n",
    "t = time.time()\n",
    "\n",
    "thr1 = threading.Thread(target=kareal2, args=(nums,))  #args tuple bekler\n",
    "\n",
    "thr2 = threading.Thread(target=kubal2, args=(nums,)) \n",
    "\n",
    "thr1.start()\n",
    "thr2.start()\n",
    "\n",
    "thr1.join()\n",
    "thr2.join()\n",
    "\n",
    "print(\"İşlem Tamamlandı\", time.time() - t)"
   ]
  },
  {
   "cell_type": "code",
   "execution_count": 28,
   "metadata": {},
   "outputs": [],
   "source": [
    "#MULTI_PROCESSING - her process içinde farklı görevler verme\n",
    "import time\n",
    "import multiprocessing\n",
    "\n",
    "# kareliste = []\n",
    "# kubliste = []\n",
    "def kareAl(nums, liste):\n",
    "    global kareliste\n",
    "   \n",
    "\n",
    "    for index, val in enumerate(nums):\n",
    "        time.sleep(0.3)           \n",
    "        #print(\"Karesi: \", i * i)\n",
    "        liste[index] = (val * val)\n",
    "\n",
    "def kubAl(nums, liste):\n",
    "    global kubliste\n",
    "    \n",
    "\n",
    "    for index, val in enumerate(nums):\n",
    "        time.sleep(0.3)\n",
    "        #print(\"Kübü: \", i * i * i)\n",
    "        liste[index] = (val * val * val)\n",
    "\n",
    "\n"
   ]
  },
  {
   "cell_type": "code",
   "execution_count": null,
   "metadata": {},
   "outputs": [
    {
     "name": "stdout",
     "output_type": "stream",
     "text": [
      "3.0098495483398438\n",
      "**********\n",
      "[1, 4, 9, 25, 64, 169, 441, 1156, 3025, 7921]\n",
      "**********\n",
      "[1, 8, 27, 125, 512, 2197, 9261, 39304, 166375, 704969]\n"
     ]
    }
   ],
   "source": [
    "#görevleri farklı processlere atayalım\n",
    "\n",
    "\n",
    "\n",
    "if __name__ == \"__main__\":\n",
    "    \n",
    "\n",
    "    dizi = [1, 2, 3, 5, 8, 13, 21, 34, 55, 89]\n",
    "\n",
    "    t = time.time()\n",
    "\n",
    "    #bütün processlerin payşatığı ortak bir alan tanımlayalım\n",
    "    kareliste = multiprocessing.Array(\"i\", len(dizi))\n",
    "    kubliste = multiprocessing.Array(\"i\", len(dizi))\n",
    "\n",
    "    #eğer ortak alanda paylaşılacak array değilse:\n",
    "    #value = multiprocessing.Value(\"i\",)\n",
    "\n",
    "\n",
    "    p1 = multiprocessing.Process(target=kareAl, args=(dizi,kareliste,))\n",
    "    p2 = multiprocessing.Process(target=kubAl, args=(dizi,kubliste,))\n",
    "\n",
    "    p1.start()\n",
    "    p2.start()\n",
    "\n",
    "\n",
    "    p1.join()\n",
    "    p2.join()\n",
    "\n",
    "\n",
    "\n",
    "\n",
    "    print( time.time() - t )\n",
    "\n",
    "    print(\"**********\")\n",
    "    print(kareliste[:])\n",
    "    print(\"**********\")\n",
    "    print(kubliste[:])"
   ]
  },
  {
   "cell_type": "code",
   "execution_count": 35,
   "metadata": {},
   "outputs": [
    {
     "name": "stdout",
     "output_type": "stream",
     "text": [
      "sayıların kareleri hesaplanıyor\n",
      "Karesi:  1\n",
      "Karesi:  4\n",
      "Karesi:  9\n",
      "Karesi:  25\n",
      "Karesi:  64\n",
      "Karesi:  169\n",
      "Karesi:  441\n",
      "Karesi:  1156\n",
      "Karesi:  3025\n",
      "Karesi:  7921\n",
      "sayıların kübü hesaplanıyor\n",
      "Kübü:  1\n",
      "Kübü:  8\n",
      "Kübü:  27\n",
      "Kübü:  125\n",
      "Kübü:  512\n",
      "Kübü:  2197\n",
      "Kübü:  9261\n",
      "Kübü:  39304\n",
      "Kübü:  166375\n",
      "Kübü:  704969\n",
      "6.004080057144165\n"
     ]
    }
   ],
   "source": [
    "dizi = [1, 2, 3, 5, 8, 13, 21, 34, 55, 89]\n",
    "\n",
    "t = time.time()\n",
    "\n",
    "kareal(dizi)\n",
    "\n",
    "kubal(dizi)\n",
    "\n",
    "print( time.time() - t )\n",
    "\n"
   ]
  },
  {
   "cell_type": "code",
   "execution_count": null,
   "metadata": {},
   "outputs": [],
   "source": []
  }
 ],
 "metadata": {
  "kernelspec": {
   "display_name": "base",
   "language": "python",
   "name": "python3"
  },
  "language_info": {
   "codemirror_mode": {
    "name": "ipython",
    "version": 3
   },
   "file_extension": ".py",
   "mimetype": "text/x-python",
   "name": "python",
   "nbconvert_exporter": "python",
   "pygments_lexer": "ipython3",
   "version": "3.12.7"
  }
 },
 "nbformat": 4,
 "nbformat_minor": 2
}
