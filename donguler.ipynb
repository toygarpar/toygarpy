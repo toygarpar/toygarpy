{
 "cells": [
  {
   "cell_type": "markdown",
   "metadata": {},
   "source": [
    "LOOPS / DÖNGÜLER\n",
    "\n",
    "for ==> list\n",
    "\n",
    "\n",
    "while ==> koşullu"
   ]
  },
  {
   "cell_type": "code",
   "execution_count": 2,
   "metadata": {},
   "outputs": [],
   "source": [
    "nums = [1, 2, 3, 4, 7, 9, 11, 23, 35, 44, 57, 91 ,111, 136 ]"
   ]
  },
  {
   "cell_type": "code",
   "execution_count": 3,
   "metadata": {},
   "outputs": [
    {
     "name": "stdout",
     "output_type": "stream",
     "text": [
      "1\n",
      "2\n",
      "3\n",
      "4\n",
      "7\n",
      "9\n",
      "11\n",
      "23\n",
      "35\n",
      "44\n",
      "57\n",
      "91\n",
      "111\n",
      "136\n"
     ]
    }
   ],
   "source": [
    "for num in nums:\n",
    "    print(num)"
   ]
  },
  {
   "cell_type": "code",
   "execution_count": 4,
   "metadata": {},
   "outputs": [
    {
     "name": "stdout",
     "output_type": "stream",
     "text": [
      "Hail Toygar!\n",
      "Hail Toygar!\n",
      "Hail Toygar!\n",
      "Hail Toygar!\n",
      "Hail Toygar!\n",
      "Hail Toygar!\n",
      "Hail Toygar!\n",
      "Hail Toygar!\n",
      "Hail Toygar!\n",
      "Hail Toygar!\n",
      "Hail Toygar!\n",
      "Hail Toygar!\n",
      "Hail Toygar!\n",
      "Hail Toygar!\n"
     ]
    }
   ],
   "source": [
    "for n in nums:\n",
    "    print(\"Hail Toygar!\")"
   ]
  },
  {
   "cell_type": "code",
   "execution_count": 5,
   "metadata": {},
   "outputs": [],
   "source": [
    "names = [ \"Taco\", \"Buzz\", \"Çıtır\", \"Böçüş\"]"
   ]
  },
  {
   "cell_type": "code",
   "execution_count": 6,
   "metadata": {},
   "outputs": [
    {
     "name": "stdout",
     "output_type": "stream",
     "text": [
      "Taco\n",
      "Buzz\n",
      "Çıtır\n",
      "Böçüş\n"
     ]
    }
   ],
   "source": [
    "for name in names:\n",
    "    print(name)"
   ]
  },
  {
   "cell_type": "code",
   "execution_count": 7,
   "metadata": {},
   "outputs": [
    {
     "name": "stdout",
     "output_type": "stream",
     "text": [
      "T\n",
      "o\n",
      "y\n",
      "g\n",
      "a\n",
      "r\n",
      " \n",
      "P\n",
      "a\n",
      "r\n"
     ]
    }
   ],
   "source": [
    "isim = \"Toygar Par\"\n",
    "\n",
    "for i in isim:\n",
    "    print(i)"
   ]
  },
  {
   "cell_type": "code",
   "execution_count": 8,
   "metadata": {},
   "outputs": [],
   "source": [
    "my_tuple = [(1,2), (3,4), (5,6)]"
   ]
  },
  {
   "cell_type": "code",
   "execution_count": 9,
   "metadata": {},
   "outputs": [
    {
     "name": "stdout",
     "output_type": "stream",
     "text": [
      "(1, 2)\n",
      "(3, 4)\n",
      "(5, 6)\n"
     ]
    }
   ],
   "source": [
    "for x in my_tuple:\n",
    "    print(x)"
   ]
  },
  {
   "cell_type": "code",
   "execution_count": 10,
   "metadata": {},
   "outputs": [
    {
     "name": "stdout",
     "output_type": "stream",
     "text": [
      "1 2\n",
      "3 4\n",
      "5 6\n"
     ]
    }
   ],
   "source": [
    "for a, b in my_tuple:\n",
    "    print(a, b)"
   ]
  },
  {
   "cell_type": "code",
   "execution_count": 11,
   "metadata": {},
   "outputs": [],
   "source": [
    "my_dict = { 35 : \"İzmir\" , 67 : \"Zonguldak\", 78: \"Karabük\"}"
   ]
  },
  {
   "cell_type": "code",
   "execution_count": 12,
   "metadata": {},
   "outputs": [
    {
     "name": "stdout",
     "output_type": "stream",
     "text": [
      "35\n",
      "67\n",
      "78\n"
     ]
    }
   ],
   "source": [
    "for x in my_dict:\n",
    "    print(x)"
   ]
  },
  {
   "cell_type": "code",
   "execution_count": 13,
   "metadata": {},
   "outputs": [
    {
     "name": "stdout",
     "output_type": "stream",
     "text": [
      "(35, 'İzmir')\n",
      "(67, 'Zonguldak')\n",
      "(78, 'Karabük')\n"
     ]
    }
   ],
   "source": [
    "for x in my_dict.items():\n",
    "    print(x)"
   ]
  },
  {
   "cell_type": "code",
   "execution_count": 18,
   "metadata": {},
   "outputs": [
    {
     "name": "stdout",
     "output_type": "stream",
     "text": [
      "35 İzmir\n",
      "67 Zonguldak\n",
      "78 Karabük\n"
     ]
    }
   ],
   "source": [
    "for x, y in my_dict.items():\n",
    "    print(x,y)"
   ]
  },
  {
   "cell_type": "code",
   "execution_count": 15,
   "metadata": {},
   "outputs": [
    {
     "name": "stdout",
     "output_type": "stream",
     "text": [
      "35 İzmir\n",
      "67 Zonguldak\n",
      "78 Karabük\n"
     ]
    }
   ],
   "source": [
    "for x in my_dict:\n",
    "    print(x, my_dict[x])"
   ]
  },
  {
   "cell_type": "code",
   "execution_count": 16,
   "metadata": {},
   "outputs": [
    {
     "name": "stdout",
     "output_type": "stream",
     "text": [
      "İzmir\n",
      "Zonguldak\n",
      "Karabük\n"
     ]
    }
   ],
   "source": [
    "for x in my_dict.values():\n",
    "    print(x)"
   ]
  },
  {
   "cell_type": "code",
   "execution_count": 17,
   "metadata": {},
   "outputs": [
    {
     "name": "stdout",
     "output_type": "stream",
     "text": [
      "35\n",
      "67\n",
      "78\n"
     ]
    }
   ],
   "source": [
    "for x in my_dict.keys():\n",
    "    print(x)"
   ]
  },
  {
   "cell_type": "code",
   "execution_count": 19,
   "metadata": {},
   "outputs": [],
   "source": [
    "numz = [2, 3, 5,7, 3, 12 ,24, 36, 45]"
   ]
  },
  {
   "cell_type": "code",
   "execution_count": 21,
   "metadata": {},
   "outputs": [
    {
     "name": "stdout",
     "output_type": "stream",
     "text": [
      "2 3 5 7 3 12 24 36 45 "
     ]
    }
   ],
   "source": [
    "for num in numz:\n",
    "    print(num, end = \" \")"
   ]
  },
  {
   "cell_type": "code",
   "execution_count": 29,
   "metadata": {},
   "outputs": [
    {
     "name": "stdout",
     "output_type": "stream",
     "text": [
      "[3, 3, 12, 24, 36, 45]\n"
     ]
    }
   ],
   "source": [
    "#üçün katları\n",
    "liste = []\n",
    "for x in numz:\n",
    "    if x % 3 == 0:\n",
    "        liste.append(x)\n",
    "\n",
    "print(liste)\n",
    "    "
   ]
  },
  {
   "cell_type": "code",
   "execution_count": 38,
   "metadata": {},
   "outputs": [
    {
     "name": "stdout",
     "output_type": "stream",
     "text": [
      "137\n"
     ]
    }
   ],
   "source": [
    "#listede sayıların toplamı\n",
    "toplam = 0\n",
    "for y in numz:\n",
    "    toplam += y\n",
    "\n",
    "print(toplam)"
   ]
  },
  {
   "cell_type": "code",
   "execution_count": 1,
   "metadata": {},
   "outputs": [],
   "source": [
    "products =  [\"huawei mate\", \"iphone 16\", \"samsung flip\"]"
   ]
  },
  {
   "cell_type": "code",
   "execution_count": 2,
   "metadata": {},
   "outputs": [
    {
     "name": "stdout",
     "output_type": "stream",
     "text": [
      "huawei mate\n",
      "iphone 16\n",
      "samsung flip\n"
     ]
    }
   ],
   "source": [
    "for urun in products:\n",
    "    print(urun)"
   ]
  },
  {
   "cell_type": "code",
   "execution_count": 3,
   "metadata": {},
   "outputs": [
    {
     "name": "stdout",
     "output_type": "stream",
     "text": [
      "1\n"
     ]
    }
   ],
   "source": [
    "i= 0\n",
    "for urun in products:\n",
    "    if urun == \"iphone 16\":\n",
    "        i += 1\n",
    "print(i)"
   ]
  },
  {
   "cell_type": "code",
   "execution_count": 4,
   "metadata": {},
   "outputs": [
    {
     "name": "stdout",
     "output_type": "stream",
     "text": [
      "-1\n",
      "0\n",
      "-1\n"
     ]
    }
   ],
   "source": [
    "for urun in products:\n",
    "    print(urun.find(\"iphone\"))\n",
    "\n"
   ]
  },
  {
   "cell_type": "code",
   "execution_count": 5,
   "metadata": {},
   "outputs": [
    {
     "name": "stdout",
     "output_type": "stream",
     "text": [
      "iphone 16\n"
     ]
    }
   ],
   "source": [
    "for urun in products:\n",
    "    if urun.find(\"iphone\") == 0:\n",
    "        print(urun)"
   ]
  },
  {
   "cell_type": "code",
   "execution_count": 6,
   "metadata": {},
   "outputs": [
    {
     "name": "stdout",
     "output_type": "stream",
     "text": [
      "iphone 16\n"
     ]
    }
   ],
   "source": [
    "for urun in products:\n",
    "    index = urun.find(\"iphone\")\n",
    "    if index > -1:\n",
    "        print(urun)"
   ]
  },
  {
   "cell_type": "code",
   "execution_count": 7,
   "metadata": {},
   "outputs": [
    {
     "name": "stdout",
     "output_type": "stream",
     "text": [
      "1\n"
     ]
    }
   ],
   "source": [
    "adet = 0\n",
    "for urun in products:\n",
    "    index = urun.find(\"samsung\")\n",
    "    if index > -1:\n",
    "        adet += 1\n",
    "print(adet)\n"
   ]
  },
  {
   "cell_type": "markdown",
   "metadata": {},
   "source": [
    "Dict Döngüleri"
   ]
  },
  {
   "cell_type": "code",
   "execution_count": 8,
   "metadata": {},
   "outputs": [],
   "source": [
    "laptops = [\n",
    "    {\"nbname\" : \"Apple Macbook\", \"nbfiyat\" : 1499 },\n",
    "    {\"nbname\" : \"Huawei Matebook\", \"nbfiyat\" : 1199 },\n",
    "    {\"nbname\" : \"Lenov ThinkPad\", \"nbfiyat\" : 1299 },\n",
    "    {\"nbname\" : \"MSI Pro\", \"nbfiyat\" : 1399 },\n",
    "    {\"nbname\" : \"Monster Notebook\", \"nbfiyat\" : 1099 }\n",
    "]"
   ]
  },
  {
   "cell_type": "code",
   "execution_count": 14,
   "metadata": {},
   "outputs": [
    {
     "name": "stdout",
     "output_type": "stream",
     "text": [
      "Apple Macbook marka dizüstü bilgisayarın fiyatı 1499 amerikan doları\n",
      "Huawei Matebook marka dizüstü bilgisayarın fiyatı 1199 amerikan doları\n",
      "Lenov ThinkPad marka dizüstü bilgisayarın fiyatı 1299 amerikan doları\n",
      "MSI Pro marka dizüstü bilgisayarın fiyatı 1399 amerikan doları\n",
      "Monster Notebook marka dizüstü bilgisayarın fiyatı 1099 amerikan doları\n"
     ]
    }
   ],
   "source": [
    "for i in laptops:\n",
    "    print(f'{i[\"nbname\"]} marka dizüstü bilgisayarın fiyatı {i[\"nbfiyat\"]} amerikan doları')"
   ]
  },
  {
   "cell_type": "code",
   "execution_count": 15,
   "metadata": {},
   "outputs": [
    {
     "name": "stdout",
     "output_type": "stream",
     "text": [
      "1499\n",
      "2698\n",
      "3997\n",
      "5396\n",
      "6495\n"
     ]
    }
   ],
   "source": [
    "toplam = 0 \n",
    "for i in laptops:\n",
    "    toplam += i[\"nbfiyat\"]\n",
    "    print(toplam)"
   ]
  },
  {
   "cell_type": "code",
   "execution_count": 16,
   "metadata": {},
   "outputs": [
    {
     "name": "stdout",
     "output_type": "stream",
     "text": [
      "Apple Macbook\n",
      "Lenov ThinkPad\n",
      "MSI Pro\n"
     ]
    }
   ],
   "source": [
    "for i in laptops:\n",
    "    if  (1200 <= i[\"nbfiyat\"] <= 1500):\n",
    "        print(i[\"nbname\"])"
   ]
  },
  {
   "cell_type": "code",
   "execution_count": 22,
   "metadata": {},
   "outputs": [
    {
     "name": "stdout",
     "output_type": "stream",
     "text": [
      "Huawei Matebook\n"
     ]
    }
   ],
   "source": [
    "user = input(\"Notebook marka adı giriniz: \")\n",
    "\n",
    "for i in laptops:\n",
    "    \n",
    "    if i[\"nbname\"].lower().find(user.lower()) > -1:\n",
    "        print(i[\"nbname\"])\n",
    "\n",
    "     \n",
    "\n",
    "\n",
    "\n",
    "\n"
   ]
  },
  {
   "cell_type": "markdown",
   "metadata": {},
   "source": [
    "WHILE DÖNGÜSÜ\n",
    "\n",
    "koşullu bir durumda code bloğu çalıştırma"
   ]
  },
  {
   "cell_type": "code",
   "execution_count": 1,
   "metadata": {},
   "outputs": [
    {
     "name": "stdout",
     "output_type": "stream",
     "text": [
      "Selamın Hello!\n"
     ]
    }
   ],
   "source": [
    "while True:\n",
    "    print(\"Selamın Hello!\")\n",
    "    break"
   ]
  },
  {
   "cell_type": "code",
   "execution_count": 2,
   "metadata": {},
   "outputs": [
    {
     "name": "stdout",
     "output_type": "stream",
     "text": [
      "Selam\n",
      "Selam\n",
      "Selam\n",
      "Selam\n",
      "Selam\n",
      "Selam\n",
      "Selam\n"
     ]
    }
   ],
   "source": [
    "i= 0\n",
    "while i < 7:\n",
    "    print(\"Selam\")\n",
    "    i += 1"
   ]
  },
  {
   "cell_type": "code",
   "execution_count": 3,
   "metadata": {},
   "outputs": [
    {
     "name": "stdout",
     "output_type": "stream",
     "text": [
      "0\n",
      "1\n",
      "2\n",
      "3\n",
      "4\n",
      "5\n",
      "6\n"
     ]
    }
   ],
   "source": [
    "i = 0\n",
    "while i < 7:\n",
    "    print(i)\n",
    "    i +=1"
   ]
  },
  {
   "cell_type": "code",
   "execution_count": 13,
   "metadata": {},
   "outputs": [],
   "source": [
    "nums = [1, 2, 3, 4, 5, 6, 7, 8, 9]"
   ]
  },
  {
   "cell_type": "code",
   "execution_count": 23,
   "metadata": {},
   "outputs": [
    {
     "name": "stdout",
     "output_type": "stream",
     "text": [
      "1\n",
      "2\n",
      "3\n",
      "4\n",
      "5\n",
      "6\n",
      "7\n",
      "8\n"
     ]
    }
   ],
   "source": [
    "\n",
    "\n",
    "i = 0\n",
    "\n",
    "while nums[i] < len(nums):\n",
    "    print(nums[i])\n",
    "    i +=1"
   ]
  },
  {
   "cell_type": "code",
   "execution_count": 20,
   "metadata": {},
   "outputs": [
    {
     "name": "stdout",
     "output_type": "stream",
     "text": [
      "1\n",
      "2\n",
      "3\n",
      "4\n",
      "5\n",
      "6\n",
      "7\n",
      "8\n",
      "9\n"
     ]
    }
   ],
   "source": [
    "x = 0\n",
    "while x < len(nums):\n",
    "    print(nums[x])\n",
    "    x += 1"
   ]
  },
  {
   "cell_type": "code",
   "execution_count": 25,
   "metadata": {},
   "outputs": [
    {
     "name": "stdout",
     "output_type": "stream",
     "text": [
      "10\n",
      "12\n",
      "14\n",
      "16\n",
      "18\n"
     ]
    }
   ],
   "source": [
    "#user'dan iki input alıp arada ki çift değerleri ytazdırın\n",
    "\n",
    "user1 = int(input(\"1. sayıyı giriniz: \"))\n",
    "user2 = int(input(\"2. sayıyı giriniz: \"))\n",
    "\n",
    "i = user1\n",
    "while i < user2:\n",
    "    if i %2 == 0:\n",
    "        print(i)\n",
    "    i += 1"
   ]
  },
  {
   "cell_type": "code",
   "execution_count": 26,
   "metadata": {},
   "outputs": [
    {
     "name": "stdout",
     "output_type": "stream",
     "text": [
      "100\n",
      "99\n",
      "98\n",
      "97\n",
      "96\n",
      "95\n",
      "94\n",
      "93\n",
      "92\n",
      "91\n",
      "90\n",
      "89\n",
      "88\n",
      "87\n",
      "86\n",
      "85\n",
      "84\n",
      "83\n",
      "82\n",
      "81\n",
      "80\n",
      "79\n",
      "78\n",
      "77\n",
      "76\n",
      "75\n",
      "74\n",
      "73\n",
      "72\n",
      "71\n",
      "70\n",
      "69\n",
      "68\n",
      "67\n",
      "66\n",
      "65\n",
      "64\n",
      "63\n",
      "62\n",
      "61\n",
      "60\n",
      "59\n",
      "58\n",
      "57\n",
      "56\n",
      "55\n",
      "54\n",
      "53\n",
      "52\n",
      "51\n",
      "50\n",
      "49\n",
      "48\n",
      "47\n",
      "46\n",
      "45\n",
      "44\n",
      "43\n",
      "42\n",
      "41\n",
      "40\n",
      "39\n",
      "38\n",
      "37\n",
      "36\n",
      "35\n",
      "34\n",
      "33\n",
      "32\n",
      "31\n",
      "30\n",
      "29\n",
      "28\n",
      "27\n",
      "26\n",
      "25\n",
      "24\n",
      "23\n",
      "22\n",
      "21\n",
      "20\n",
      "19\n",
      "18\n",
      "17\n",
      "16\n",
      "15\n",
      "14\n",
      "13\n",
      "12\n",
      "11\n",
      "10\n",
      "9\n",
      "8\n",
      "7\n",
      "6\n",
      "5\n",
      "4\n",
      "3\n",
      "2\n"
     ]
    }
   ],
   "source": [
    "#1 ie 100 arasında sayıları azalarak yazıdırınız\n",
    "a = 99\n",
    "while a > 1:\n",
    "    print(a)\n",
    "    a -= 1"
   ]
  },
  {
   "cell_type": "code",
   "execution_count": 39,
   "metadata": {},
   "outputs": [
    {
     "name": "stdout",
     "output_type": "stream",
     "text": [
      "[21, 23, 36, 54, 85]\n",
      "21 23 36 54 85 [21, 23, 36, 54, 85]\n"
     ]
    }
   ],
   "source": [
    "#5 sayı girişi alıp sıralayın\n",
    "i = 0\n",
    "liste =[]\n",
    "while i < 5:\n",
    "    user = int(input(\"Bir sayı giriniz: \"))\n",
    "    i += 1\n",
    "    liste.append(user)\n",
    "else:\n",
    "    print(sorted(liste))\n",
    "\n",
    "for x in sorted(liste):\n",
    "    print(x, end= \" \")\n",
    "\n",
    "liste.sort()\n",
    "print(liste)\n"
   ]
  },
  {
   "cell_type": "code",
   "execution_count": 38,
   "metadata": {},
   "outputs": [
    {
     "name": "stdout",
     "output_type": "stream",
     "text": [
      "ali\n"
     ]
    }
   ],
   "source": [
    "\n",
    "while True:\n",
    "    username = input(\"Username giriniz: \")\n",
    "    if username != \"\":\n",
    "        break\n",
    "print(username)\n"
   ]
  },
  {
   "cell_type": "code",
   "execution_count": 40,
   "metadata": {},
   "outputs": [
    {
     "name": "stdout",
     "output_type": "stream",
     "text": [
      "ali\n"
     ]
    }
   ],
   "source": [
    "username = \"\"\n",
    "while not username:\n",
    "    username = input(\"username giriniz: \")\n",
    "\n",
    "print(username)"
   ]
  },
  {
   "cell_type": "code",
   "execution_count": 44,
   "metadata": {},
   "outputs": [
    {
     "name": "stdout",
     "output_type": "stream",
     "text": [
      "[{'ogrenciNo': 101, 'ogrenciAd': 'toygar', 'ogrenciSoyad': 'par'}]\n"
     ]
    }
   ],
   "source": [
    "#n sayıda öğrenci girişi alıp liste içinde sakla\n",
    "#dict list yapısı no ad ve soyad şeklinde olsun\n",
    "#işlme bittiğinde öğrencileri listeleyin\n",
    "\n",
    "students = []\n",
    "\n",
    "while True:\n",
    "    no = int(input(\"Öğrenci numarası giriniz\"))\n",
    "    name = input(\"Öğrenci İsmi Giriniz: \")\n",
    "    lname = input(\"Öğrenci SOyadı giriniz\")\n",
    "    devam = input(\"Girişe devam edilsin mi?  e/h \")\n",
    "\n",
    "    studict = {}\n",
    "    studict[\"ogrenciNo\"] = no\n",
    "    studict[\"ogrenciAd\"] = name\n",
    "    studict[\"ogrenciSoyad\"] = lname\n",
    "\n",
    "    students.append(studict)\n",
    "\n",
    "    if devam == \"h\":\n",
    "        break\n",
    "    else:\n",
    "        continue\n",
    "\n",
    "\n",
    "print(students)\n",
    "\n",
    "\n",
    "\n"
   ]
  },
  {
   "cell_type": "code",
   "execution_count": 45,
   "metadata": {},
   "outputs": [
    {
     "name": "stdout",
     "output_type": "stream",
     "text": [
      "[{'ogrenciNo': 101, 'ogrenciAd': 'toygar', 'ogrenciSoyad': 'par'}, {'ogrenciNo': 102, 'ogrenciAd': 'böçüş', 'ogrenciSoyad': 'par'}, {'ogrenciNo': 103, 'ogrenciAd': 'taco', 'ogrenciSoyad': 'par'}]\n",
      "101 numaralı öğrencinin adı, soyadı toygar par\n",
      "102 numaralı öğrencinin adı, soyadı böçüş par\n",
      "103 numaralı öğrencinin adı, soyadı taco par\n"
     ]
    }
   ],
   "source": [
    "devam = \"e\"\n",
    "\n",
    "students = []\n",
    "\n",
    "while devam != \"h\":\n",
    "    no = int(input(\"Öğrenci numarası giriniz\"))\n",
    "    name = input(\"Öğrenci İsmi Giriniz: \")\n",
    "    lname = input(\"Öğrenci SOyadı giriniz\")\n",
    "    \n",
    "\n",
    "    students.append({\n",
    "        \"ogrenciNo\": no,\n",
    "        \"ogrenciAd\" : name,\n",
    "        \"ogrenciSoyad\" : lname\n",
    "\n",
    "    })\n",
    "    \n",
    "\n",
    "    devam = input(\"Girişe devam edilsin mi?  e/h \")\n",
    "\n",
    "\n",
    "print(students)\n",
    "\n",
    "\n",
    "for stu in students:\n",
    "    print(f\"{stu[\"ogrenciNo\"]} numaralı öğrencinin adı, soyadı {stu[\"ogrenciAd\"]} {stu[\"ogrenciSoyad\"]}\")\n"
   ]
  },
  {
   "cell_type": "markdown",
   "metadata": {},
   "source": [
    "BREAK VE CONTINUE STATEMENTS\n"
   ]
  },
  {
   "cell_type": "code",
   "execution_count": 46,
   "metadata": {},
   "outputs": [
    {
     "name": "stdout",
     "output_type": "stream",
     "text": [
      "T\n",
      "o\n",
      "y\n",
      "g\n",
      "a\n",
      "r\n",
      " \n"
     ]
    }
   ],
   "source": [
    "name =  \"Toygar Par\"\n",
    "\n",
    "for x in name:\n",
    "    if x == \"P\":  #bu turla döngüyü sonlandır\n",
    "        break\n",
    "    print(x)"
   ]
  },
  {
   "cell_type": "code",
   "execution_count": 47,
   "metadata": {},
   "outputs": [
    {
     "name": "stdout",
     "output_type": "stream",
     "text": [
      "T\n",
      "o\n",
      "y\n",
      "g\n",
      "a\n",
      "r\n",
      " \n",
      "a\n",
      "r\n"
     ]
    }
   ],
   "source": [
    "name =  \"Toygar Par\"\n",
    "\n",
    "for x in name:\n",
    "    if x == \"P\":  #bu turun devam etmesini istemiyorsam\n",
    "        continue\n",
    "    print(x)"
   ]
  },
  {
   "cell_type": "code",
   "execution_count": 48,
   "metadata": {},
   "outputs": [
    {
     "name": "stdout",
     "output_type": "stream",
     "text": [
      "0\n",
      "1\n",
      "2\n",
      "3\n",
      "4\n",
      "5\n",
      "6\n"
     ]
    }
   ],
   "source": [
    "i = 0\n",
    "while i < 7:\n",
    "    print(i)\n",
    "    i += 1\n"
   ]
  },
  {
   "cell_type": "code",
   "execution_count": 50,
   "metadata": {},
   "outputs": [
    {
     "name": "stdout",
     "output_type": "stream",
     "text": [
      "0\n",
      "1\n",
      "3\n",
      "4\n",
      "5\n",
      "6\n",
      "7\n"
     ]
    }
   ],
   "source": [
    "i = -1\n",
    "while i < 7:\n",
    "    i += 1\n",
    "    if i == 2:\n",
    "        continue\n",
    "    print(i)\n",
    "   "
   ]
  },
  {
   "cell_type": "code",
   "execution_count": 51,
   "metadata": {},
   "outputs": [
    {
     "name": "stdout",
     "output_type": "stream",
     "text": [
      "0\n",
      "1\n",
      "2\n",
      "3\n",
      "4\n"
     ]
    }
   ],
   "source": [
    "i = -1\n",
    "while i < 7:\n",
    "    i += 1\n",
    "    if i == 5:\n",
    "        break\n",
    "    print(i)"
   ]
  },
  {
   "cell_type": "code",
   "execution_count": 81,
   "metadata": {},
   "outputs": [
    {
     "name": "stdout",
     "output_type": "stream",
     "text": [
      "2\n",
      "6\n",
      "12\n",
      "20\n",
      "30\n",
      "42\n",
      "56\n",
      "72\n",
      "90\n",
      "110\n",
      "132\n",
      "156\n",
      "182\n",
      "210\n",
      "240\n",
      "272\n",
      "306\n",
      "342\n",
      "380\n",
      "420\n",
      "462\n",
      "506\n",
      "552\n",
      "600\n",
      "650\n",
      "702\n",
      "756\n",
      "812\n",
      "870\n",
      "930\n",
      "992\n",
      "1056\n",
      "1122\n",
      "1190\n",
      "1260\n",
      "1332\n",
      "1406\n",
      "1482\n",
      "1560\n",
      "1640\n",
      "1722\n",
      "1806\n",
      "1892\n",
      "1980\n",
      "2070\n",
      "2162\n",
      "2256\n",
      "2352\n",
      "2450\n",
      "2550\n",
      "2550\n"
     ]
    }
   ],
   "source": [
    "i = 0\n",
    "toplam  = 0\n",
    "\n",
    "while i < 100:\n",
    "    i +=1\n",
    "    if i % 2:\n",
    "        continue  #çift sayıları değerlendirir tekleri continue yapıp atlar\n",
    "    toplam += i\n",
    "    print(toplam)\n",
    "\n",
    "print(toplam)"
   ]
  },
  {
   "cell_type": "code",
   "execution_count": 58,
   "metadata": {},
   "outputs": [
    {
     "name": "stdout",
     "output_type": "stream",
     "text": [
      "1\n",
      "4\n",
      "9\n",
      "16\n",
      "25\n",
      "36\n",
      "49\n",
      "64\n",
      "81\n",
      "100\n",
      "121\n",
      "144\n",
      "169\n",
      "196\n",
      "225\n",
      "256\n",
      "289\n",
      "324\n",
      "361\n",
      "400\n",
      "441\n",
      "484\n",
      "529\n",
      "576\n",
      "625\n",
      "676\n",
      "729\n",
      "784\n",
      "841\n",
      "900\n",
      "961\n",
      "1024\n",
      "1089\n",
      "1156\n",
      "1225\n",
      "1296\n",
      "1369\n",
      "1444\n",
      "1521\n",
      "1600\n",
      "1681\n",
      "1764\n",
      "1849\n",
      "1936\n",
      "2025\n",
      "2116\n",
      "2209\n",
      "2304\n",
      "2401\n",
      "2500\n",
      "2500\n"
     ]
    }
   ],
   "source": [
    "i = 0\n",
    "toplam  = 0\n",
    "\n",
    "while i < 100:\n",
    "    i +=1\n",
    "    if not i % 2:\n",
    "        continue  #tekli değerlendirir çiftleri continue yapıp atlar\n",
    "    toplam += i\n",
    "    print(toplam)\n",
    "\n",
    "print(toplam)"
   ]
  },
  {
   "cell_type": "markdown",
   "metadata": {},
   "source": [
    "RANGE METODU"
   ]
  },
  {
   "cell_type": "code",
   "execution_count": 59,
   "metadata": {},
   "outputs": [],
   "source": [
    "liste1 = [1, 2, 3, 4, 5]\n",
    "\n"
   ]
  },
  {
   "cell_type": "code",
   "execution_count": 60,
   "metadata": {},
   "outputs": [
    {
     "name": "stdout",
     "output_type": "stream",
     "text": [
      "[1, 2, 3, 4, 5]\n"
     ]
    }
   ],
   "source": [
    "liste2 = list(range(1,6))\n",
    "print(liste2)"
   ]
  },
  {
   "cell_type": "code",
   "execution_count": 61,
   "metadata": {},
   "outputs": [
    {
     "data": {
      "text/plain": [
       "True"
      ]
     },
     "execution_count": 61,
     "metadata": {},
     "output_type": "execute_result"
    }
   ],
   "source": [
    "liste1 == liste2"
   ]
  },
  {
   "cell_type": "code",
   "execution_count": 62,
   "metadata": {},
   "outputs": [
    {
     "data": {
      "text/plain": [
       "False"
      ]
     },
     "execution_count": 62,
     "metadata": {},
     "output_type": "execute_result"
    }
   ],
   "source": [
    "liste1 is liste2"
   ]
  },
  {
   "cell_type": "code",
   "execution_count": 63,
   "metadata": {},
   "outputs": [
    {
     "data": {
      "text/plain": [
       "132136080311872"
      ]
     },
     "execution_count": 63,
     "metadata": {},
     "output_type": "execute_result"
    }
   ],
   "source": [
    "id(liste1)"
   ]
  },
  {
   "cell_type": "code",
   "execution_count": 64,
   "metadata": {},
   "outputs": [
    {
     "data": {
      "text/plain": [
       "132136080357248"
      ]
     },
     "execution_count": 64,
     "metadata": {},
     "output_type": "execute_result"
    }
   ],
   "source": [
    "id(liste2)"
   ]
  },
  {
   "cell_type": "code",
   "execution_count": 65,
   "metadata": {},
   "outputs": [
    {
     "data": {
      "text/plain": [
       "list"
      ]
     },
     "execution_count": 65,
     "metadata": {},
     "output_type": "execute_result"
    }
   ],
   "source": [
    "type(liste2)"
   ]
  },
  {
   "cell_type": "code",
   "execution_count": 67,
   "metadata": {},
   "outputs": [
    {
     "name": "stdout",
     "output_type": "stream",
     "text": [
      "[10, 11, 12, 13, 14, 15, 16, 17, 18, 19]\n"
     ]
    }
   ],
   "source": [
    "rng = range(10,20)\n",
    "type(rng)\n",
    "res = list(rng)\n",
    "print(res)"
   ]
  },
  {
   "cell_type": "code",
   "execution_count": 69,
   "metadata": {},
   "outputs": [
    {
     "name": "stdout",
     "output_type": "stream",
     "text": [
      "[100, 110, 120, 130, 140, 150, 160, 170, 180, 190]\n"
     ]
    }
   ],
   "source": [
    "liste45 =  list(range(100,200, 10))\n",
    "print(liste45)"
   ]
  },
  {
   "cell_type": "code",
   "execution_count": 74,
   "metadata": {},
   "outputs": [
    {
     "name": "stdout",
     "output_type": "stream",
     "text": [
      "[0, -1, -2, -3, -4, -5, -6, -7, -8, -9, -10, -11, -12, -13, -14, -15, -16, -17, -18, -19]\n"
     ]
    }
   ],
   "source": [
    "liste5 =  list(range(0,-20, -1))\n",
    "print(liste5)"
   ]
  },
  {
   "cell_type": "markdown",
   "metadata": {},
   "source": [
    "i % 2 checks if i is odd or even:\n",
    "\n",
    "For odd numbers, i % 2 gives 1, which is truthy (evaluates to True).\n",
    "\n",
    "For even numbers, i % 2 gives 0, which is falsy (evaluates to False).\n",
    "\n",
    "Thus, when i % 2 is True (i.e., for odd numbers), the print(i) statement is executed.\n",
    "\n",
    "Result:\n",
    "\n",
    "This loop prints odd numbers in the range from 1 to 99."
   ]
  },
  {
   "cell_type": "code",
   "execution_count": 86,
   "metadata": {},
   "outputs": [
    {
     "name": "stdout",
     "output_type": "stream",
     "text": [
      "1\n",
      "3\n",
      "5\n",
      "7\n",
      "9\n",
      "11\n",
      "13\n",
      "15\n",
      "17\n",
      "19\n",
      "21\n",
      "23\n",
      "25\n",
      "27\n",
      "29\n",
      "31\n",
      "33\n",
      "35\n",
      "37\n",
      "39\n",
      "41\n",
      "43\n",
      "45\n",
      "47\n",
      "49\n",
      "51\n",
      "53\n",
      "55\n",
      "57\n",
      "59\n",
      "61\n",
      "63\n",
      "65\n",
      "67\n",
      "69\n",
      "71\n",
      "73\n",
      "75\n",
      "77\n",
      "79\n",
      "81\n",
      "83\n",
      "85\n",
      "87\n",
      "89\n",
      "91\n",
      "93\n",
      "95\n",
      "97\n",
      "99\n"
     ]
    }
   ],
   "source": [
    "for i in range(1, 100):\n",
    "    if i % 2:\n",
    "        print(i)"
   ]
  },
  {
   "cell_type": "markdown",
   "metadata": {},
   "source": [
    "the while loop increments i by 1 in each iteration.\n",
    "\n",
    "The if i % 2: statement checks if i is odd:\n",
    "\n",
    "For odd numbers, i % 2 == 1, so the continue statement is executed, which skips the rest of the loop (including the print(i) statement).\n",
    "\n",
    "For even numbers, i % 2 == 0, so the continue is not executed, and the loop proceeds to the print(i) statement, printing the even number.\n",
    "\n",
    "Result:\n",
    "\n",
    "This loop skips odd numbers (due to continue) and prints even numbers in the range from 1 to 99."
   ]
  },
  {
   "cell_type": "code",
   "execution_count": 85,
   "metadata": {},
   "outputs": [
    {
     "name": "stdout",
     "output_type": "stream",
     "text": [
      "2\n",
      "4\n",
      "6\n",
      "8\n",
      "10\n",
      "12\n",
      "14\n",
      "16\n",
      "18\n",
      "20\n",
      "22\n",
      "24\n",
      "26\n",
      "28\n",
      "30\n",
      "32\n",
      "34\n",
      "36\n",
      "38\n",
      "40\n",
      "42\n",
      "44\n",
      "46\n",
      "48\n",
      "50\n",
      "52\n",
      "54\n",
      "56\n",
      "58\n",
      "60\n",
      "62\n",
      "64\n",
      "66\n",
      "68\n",
      "70\n",
      "72\n",
      "74\n",
      "76\n",
      "78\n",
      "80\n",
      "82\n",
      "84\n",
      "86\n",
      "88\n",
      "90\n",
      "92\n",
      "94\n",
      "96\n",
      "98\n",
      "100\n",
      "100\n"
     ]
    }
   ],
   "source": [
    "i = 0\n",
    "\n",
    "\n",
    "while i < 100:\n",
    "    i +=1\n",
    "    if i % 2:\n",
    "        continue  #çift sayıları değerlendirir tekleri continue yapıp atlar\n",
    "   \n",
    "    print(i)\n",
    "\n",
    "print(i)"
   ]
  },
  {
   "cell_type": "markdown",
   "metadata": {},
   "source": [
    "ENUMURATE"
   ]
  },
  {
   "cell_type": "code",
   "execution_count": 87,
   "metadata": {},
   "outputs": [
    {
     "name": "stdout",
     "output_type": "stream",
     "text": [
      "dell\n",
      "lenovo\n",
      "huawei\n"
     ]
    }
   ],
   "source": [
    "comps = [\"dell\", \"lenovo\", \"huawei\"]\n",
    "\n",
    "for c in comps:\n",
    "    print(c)"
   ]
  },
  {
   "cell_type": "code",
   "execution_count": 88,
   "metadata": {},
   "outputs": [
    {
     "name": "stdout",
     "output_type": "stream",
     "text": [
      "1 dell\n",
      "1 lenovo\n",
      "1 huawei\n"
     ]
    }
   ],
   "source": [
    "i = 1\n",
    "for comp in comps:\n",
    "    print(i, comp)"
   ]
  },
  {
   "cell_type": "code",
   "execution_count": 96,
   "metadata": {},
   "outputs": [
    {
     "name": "stdout",
     "output_type": "stream",
     "text": [
      "(0, 'dell')\n",
      "(1, 'lenovo')\n",
      "(2, 'huawei')\n"
     ]
    }
   ],
   "source": [
    "for co in enumerate(comps):  #bizim için collectionı indeksler\n",
    "    print(co)"
   ]
  },
  {
   "cell_type": "code",
   "execution_count": 97,
   "metadata": {},
   "outputs": [
    {
     "name": "stdout",
     "output_type": "stream",
     "text": [
      "0 dell\n",
      "1 lenovo\n",
      "2 huawei\n"
     ]
    }
   ],
   "source": [
    "for co in enumerate(comps):\n",
    "    print(co[0], co[1])"
   ]
  },
  {
   "cell_type": "code",
   "execution_count": 98,
   "metadata": {},
   "outputs": [
    {
     "data": {
      "text/plain": [
       "enumerate"
      ]
     },
     "execution_count": 98,
     "metadata": {},
     "output_type": "execute_result"
    }
   ],
   "source": [
    "nesne = enumerate(comps, 1)\n",
    "type(nesne)"
   ]
  },
  {
   "cell_type": "code",
   "execution_count": 99,
   "metadata": {},
   "outputs": [
    {
     "name": "stdout",
     "output_type": "stream",
     "text": [
      "[(1, 'dell'), (2, 'lenovo'), (3, 'huawei')]\n"
     ]
    }
   ],
   "source": [
    "print(list(nesne))"
   ]
  },
  {
   "cell_type": "code",
   "execution_count": 100,
   "metadata": {},
   "outputs": [
    {
     "name": "stdout",
     "output_type": "stream",
     "text": [
      "0 - dell\n",
      "1 - lenovo\n",
      "2 - huawei\n"
     ]
    }
   ],
   "source": [
    "for index, co in enumerate(comps): \n",
    "    print(f\"{index} - {co}\")"
   ]
  },
  {
   "cell_type": "markdown",
   "metadata": {},
   "source": [
    "ZİP FONKSİYONU"
   ]
  },
  {
   "cell_type": "code",
   "execution_count": 101,
   "metadata": {},
   "outputs": [],
   "source": [
    "nums = [ 100, 101, 102, 103, 104]\n",
    "\n",
    "students  = [\"Toygar\", \"Taco\", \"Buzz\", \"Çıtır\", \"Böçüş\"]"
   ]
  },
  {
   "cell_type": "code",
   "execution_count": 102,
   "metadata": {},
   "outputs": [],
   "source": [
    "num_stu = zip(nums, students)"
   ]
  },
  {
   "cell_type": "code",
   "execution_count": 105,
   "metadata": {},
   "outputs": [
    {
     "data": {
      "text/plain": [
       "zip"
      ]
     },
     "execution_count": 105,
     "metadata": {},
     "output_type": "execute_result"
    }
   ],
   "source": [
    "type(num_stu)"
   ]
  },
  {
   "cell_type": "code",
   "execution_count": 104,
   "metadata": {},
   "outputs": [
    {
     "name": "stdout",
     "output_type": "stream",
     "text": [
      "[(100, 'Toygar'), (101, 'Taco'), (102, 'Buzz'), (103, 'Çıtır'), (104, 'Böçüş')]\n"
     ]
    }
   ],
   "source": [
    "print(list(num_stu))"
   ]
  },
  {
   "cell_type": "code",
   "execution_count": 108,
   "metadata": {},
   "outputs": [
    {
     "name": "stdout",
     "output_type": "stream",
     "text": [
      "100 Toygar\n",
      "101 Taco\n",
      "102 Buzz\n",
      "103 Çıtır\n",
      "104 Böçüş\n"
     ]
    }
   ],
   "source": [
    "for num, name in zip(nums, students):\n",
    "    print(num , name)\n"
   ]
  },
  {
   "cell_type": "code",
   "execution_count": 109,
   "metadata": {},
   "outputs": [
    {
     "name": "stdout",
     "output_type": "stream",
     "text": [
      "(100, 'Toygar')\n",
      "(101, 'Taco')\n",
      "(102, 'Buzz')\n",
      "(103, 'Çıtır')\n",
      "(104, 'Böçüş')\n"
     ]
    }
   ],
   "source": [
    "for x  in zip(nums, students):\n",
    "    print(x)"
   ]
  },
  {
   "cell_type": "code",
   "execution_count": 1,
   "metadata": {},
   "outputs": [
    {
     "name": "stdout",
     "output_type": "stream",
     "text": [
      "[]\n",
      "['a']\n",
      "['b']\n",
      "['a', 'b']\n",
      "['c']\n",
      "['a', 'c']\n",
      "['b', 'c']\n",
      "['a', 'b', 'c']\n"
     ]
    }
   ],
   "source": [
    "#input size of the set\n",
    "size = int(input(\"Enter size of the set: \"))\n",
    "\n",
    "#input elements of the set\n",
    "\n",
    "set = [input(f\"Enter {i +1} element: \") for i in range(size)]\n",
    "\n",
    "\n",
    "#initialize the result with an empty subset\n",
    "\n",
    "res = [[]]\n",
    "\n",
    "for i in set:\n",
    "    n = len(res)\n",
    "    for j in range(n):\n",
    "        r =  res[j] + [i]\n",
    "        res.append(r)\n",
    "\n",
    "\n",
    "#print all subsets\n",
    "\n",
    "for val in res:\n",
    "    print(val)"
   ]
  },
  {
   "cell_type": "code",
   "execution_count": 1,
   "metadata": {},
   "outputs": [
    {
     "name": "stdout",
     "output_type": "stream",
     "text": [
      "*     * *   *   * *     *     * *   *   * *     *"
     ]
    }
   ],
   "source": [
    "#print x pattrn\n",
    "\n",
    "def printx(n):\n",
    "    for i in range(n):\n",
    "        for j in range(n):\n",
    "            if j == i or j == n - i - 1:\n",
    "                print(\"*\", end =\"\")\n",
    "            else:\n",
    "                print(\" \", end = \"\")\n",
    "\n",
    "\n",
    "printx(7)"
   ]
  },
  {
   "cell_type": "markdown",
   "metadata": {},
   "source": [
    "how to reverse a list using for loop"
   ]
  },
  {
   "cell_type": "code",
   "execution_count": 1,
   "metadata": {},
   "outputs": [
    {
     "name": "stdout",
     "output_type": "stream",
     "text": [
      "[5, 4, 3, 2, 1]\n"
     ]
    }
   ],
   "source": [
    "liste = [1, 2, 3, 4, 5]\n",
    "reversed_liste = []\n",
    "\n",
    "for i in range(len(liste) - 1, -1, -1):\n",
    "    reversed_liste.append(liste[i])\n",
    "\n",
    "print(reversed_liste)\n"
   ]
  },
  {
   "cell_type": "markdown",
   "metadata": {},
   "source": [
    "range(len(liste) - 1, -1, -1) is used to iterate over the indices of the list in reverse order.\n",
    "\n",
    "The len(liste) function returns the length of the list, which is 5 in this case.\n",
    "\n",
    "len(liste) - 1 gives the last index of the list, which is 4 (because indices start from 0).\n",
    "\n",
    "range(4, -1, -1) generates numbers starting from 4 down to 0, i.e., [4, 3, 2, 1, 0]. This will allow you to access the list elements in reverse."
   ]
  },
  {
   "cell_type": "code",
   "execution_count": 2,
   "metadata": {},
   "outputs": [
    {
     "name": "stdout",
     "output_type": "stream",
     "text": [
      "[5, 4, 3, 2, 1]\n"
     ]
    }
   ],
   "source": [
    "liste2 = [1, 2, 3, 4, 5]\n",
    "r_liste2 = []\n",
    "for i in liste2:\n",
    "    r_liste2.insert(0, i)\n",
    "\n",
    "print(r_liste2)\n"
   ]
  },
  {
   "cell_type": "markdown",
   "metadata": {},
   "source": [
    "The insert(0, i) function inserts the value of i at index 0 of r_liste2. This means the current value of i is always placed at the start (beginning) of r_liste2.\n",
    "\n",
    "\n",
    "In each iteration, the element from liste2 gets inserted at the front of r_liste2, effectively building the list in reverse order."
   ]
  },
  {
   "cell_type": "code",
   "execution_count": 4,
   "metadata": {},
   "outputs": [],
   "source": [
    "#while döngüsüyle liste elemanlarını toplama\n",
    "\n",
    "liste3 = [1, 2, 3, 4, 5]\n",
    "\n",
    "\"\"\" \n",
    "his code calculates the sum of all elements in a sequence by iterating through each element and adding it to a running total called sum\n",
    "\n",
    "\n",
    "\"\"\"\n",
    "\n",
    "sum  = 0\n",
    "\n",
    "while liste3:\n",
    "    sum += liste3[0]\n",
    "    liste3 = liste3[1:]"
   ]
  },
  {
   "cell_type": "code",
   "execution_count": 5,
   "metadata": {},
   "outputs": [
    {
     "data": {
      "text/plain": [
       "15"
      ]
     },
     "execution_count": 5,
     "metadata": {},
     "output_type": "execute_result"
    }
   ],
   "source": [
    "sum"
   ]
  },
  {
   "cell_type": "code",
   "execution_count": null,
   "metadata": {},
   "outputs": [
    {
     "data": {
      "text/plain": [
       "15"
      ]
     },
     "execution_count": 7,
     "metadata": {},
     "output_type": "execute_result"
    }
   ],
   "source": [
    "#for döngüsüyle, for loops iterate for us automatically\n",
    "\n",
    "liste4  = [1, 2, 3, 4, 5]\n",
    "sum = 0\n",
    "\n",
    "for i in liste4: sum += i\n",
    "\n",
    "sum"
   ]
  },
  {
   "cell_type": "code",
   "execution_count": null,
   "metadata": {},
   "outputs": [],
   "source": []
  }
 ],
 "metadata": {
  "kernelspec": {
   "display_name": "base",
   "language": "python",
   "name": "python3"
  },
  "language_info": {
   "codemirror_mode": {
    "name": "ipython",
    "version": 3
   },
   "file_extension": ".py",
   "mimetype": "text/x-python",
   "name": "python",
   "nbconvert_exporter": "python",
   "pygments_lexer": "ipython3",
   "version": "3.12.7"
  }
 },
 "nbformat": 4,
 "nbformat_minor": 2
}
