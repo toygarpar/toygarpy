{
 "cells": [
  {
   "cell_type": "markdown",
   "metadata": {},
   "source": [
    "INSERT DATA"
   ]
  },
  {
   "cell_type": "code",
   "execution_count": 2,
   "metadata": {},
   "outputs": [],
   "source": [
    "import mysql.connector\n",
    "\n",
    "\n"
   ]
  },
  {
   "cell_type": "code",
   "execution_count": null,
   "metadata": {},
   "outputs": [],
   "source": [
    "\n",
    "db = mysql.connector.connect(\n",
    "    host = \"localhost\",\n",
    "    user = \"toygarpar\",\n",
    "    password = \"xxxxxxx\",\n",
    "    database = \"shopdb\"\n",
    ")"
   ]
  },
  {
   "cell_type": "code",
   "execution_count": 4,
   "metadata": {},
   "outputs": [],
   "source": [
    "cursor = db.cursor()"
   ]
  },
  {
   "cell_type": "code",
   "execution_count": null,
   "metadata": {},
   "outputs": [],
   "source": [
    "#insert product\n",
    "\n",
    "sql = \"INSERT INTO products (name, price, imageUrl, description) VALUES (%s, %s, %s, %s)\"\n",
    "\n",
    "value = (\"Huawei Mate 10\", \"18000\", \"3.jpg\", \"myphone is phone \")"
   ]
  },
  {
   "cell_type": "code",
   "execution_count": 6,
   "metadata": {},
   "outputs": [
    {
     "name": "stdout",
     "output_type": "stream",
     "text": [
      "1  kayıt edildi\n"
     ]
    }
   ],
   "source": [
    "cursor.execute(sql, value)\n",
    "\n",
    "db.commit()\n",
    "\n",
    "print(cursor.rowcount, \" kayıt edildi\")"
   ]
  },
  {
   "cell_type": "code",
   "execution_count": 2,
   "metadata": {},
   "outputs": [
    {
     "name": "stdout",
     "output_type": "stream",
     "text": [
      "database bağlantısı kapandı\n"
     ]
    }
   ],
   "source": [
    "def insertProduct():\n",
    "\n",
    "    import mysql.connector\n",
    "    \n",
    "    conn = mysql.connector.connect(\n",
    "        host = \"localhost\",\n",
    "        user = \"toygarpar\",\n",
    "        password = \"xxxxxxx\",\n",
    "        database = \"shopclassdb\"\n",
    "\n",
    "    )\n",
    "\n",
    "    cursor = conn.cursor()\n",
    "\n",
    "    sql = \"INSERT INTO products ( name,price, imageUrl,description) VALUES (%s, %s, %s, %s);\"\n",
    "    value = (\"Huawei Mate 10\", \"18000\", \"3.jpg\", \"myphone is phone \")\n",
    "\n",
    "    cursor.execute(sql, value)\n",
    "\n",
    "    try:\n",
    "\n",
    "        conn.commit()\n",
    "\n",
    "    except mysql.connector.Error as err:\n",
    "        print(\"hata : \", err)\n",
    "\n",
    "    finally:\n",
    "        conn.close()\n",
    "        print(\"database bağlantısı kapandı\")\n",
    "\n",
    "insertProduct()"
   ]
  },
  {
   "cell_type": "code",
   "execution_count": 9,
   "metadata": {},
   "outputs": [],
   "source": [
    "# insert products, liste kullanarak çoklu kayıt ekleme\n",
    "\n",
    "sql = \"INSERT INTO products (name, price, imageUrl, description) VALUES (%s, %s, %s, %s)\"\n",
    "\n",
    "values = [(\"Huawei Mate 20\", \"38000\", \"4.jpg\", \"good camera\"),\n",
    "         (\"Huawei Mate 30\", \"48000\", \"5.jpg\", \"better camera\"),\n",
    "         (\"Huawei Mate 40\", \"58000\", \"6.jpg\", \"best camera\"),\n",
    "         ]"
   ]
  },
  {
   "cell_type": "code",
   "execution_count": null,
   "metadata": {},
   "outputs": [
    {
     "name": "stdout",
     "output_type": "stream",
     "text": [
      "3 tane kayıt eklendi\n",
      "son eklenen kaydın id'si: 4\n"
     ]
    }
   ],
   "source": [
    "cursor.executemany(sql,values)\n",
    "\n",
    "db.commit()\n",
    "print(f\"{cursor.rowcount} tane kayıt eklendi\")\n",
    "print(f\"son eklenen kaydın id'si: {cursor.lastrowid}\")\n",
    "\n",
    "#bir önceki db bağlantısı kapatalım \n",
    "cursor.close()\n",
    "db.close()\n"
   ]
  },
  {
   "cell_type": "code",
   "execution_count": null,
   "metadata": {},
   "outputs": [
    {
     "name": "stdout",
     "output_type": "stream",
     "text": [
      "Kayıtlarınız veritabanına aktarılıyor...\n",
      "[('Samsung S25', 50000.0, '2.jpg', 'good good good phone'), ('Samsung S26', 60000.0, '3.jpg', 'better phone')]\n",
      "2 tane kayıt eklendi\n",
      "son eklenen kaydın id'si: 2\n",
      "database bağlantısı kapandı\n"
     ]
    }
   ],
   "source": []
  },
  {
   "cell_type": "code",
   "execution_count": null,
   "metadata": {},
   "outputs": [],
   "source": [
    "import mysql.connector\n",
    "\n",
    "#yeni bağlantı açalım\n",
    "conn = mysql.connector.connect(\n",
    "    host = \"localhost\",\n",
    "    user = \"toygarpar\",\n",
    "    password = \"xxxxxxx\",\n",
    "    database = \"shopdb\"\n",
    ")\n",
    "\n",
    "#cursor alalım\n",
    "cursor = conn.cursor()\n",
    "\n",
    "\n",
    "sql = \"INSERT INTO products (name, price, imageUrl, description) VALUES (%s, %s, %s, %s)\"\n",
    "\n",
    "values = [(\"Iphone 16\", \"80000\", \"7.jpg\", \"good camera\"),\n",
    "         (\"Iphone 17\", \"90000\", \"8.jpg\", \"better camera\"),\n",
    "         (\"Iphone 18\", \"100000\", \"9.jpg\", \"best camera\"),\n",
    "         ]\n",
    "\n",
    "cursor.executemany(sql, values)"
   ]
  },
  {
   "cell_type": "code",
   "execution_count": 14,
   "metadata": {},
   "outputs": [
    {
     "name": "stdout",
     "output_type": "stream",
     "text": [
      "3 tane kayıt eklendi\n",
      "son eklenen kaydın id'si: 7\n",
      "cursor objesi ve database bağlantısı kapandı\n"
     ]
    }
   ],
   "source": [
    "try:\n",
    "\n",
    "    conn.commit()\n",
    "    print(f\"{cursor.rowcount} tane kayıt eklendi\")\n",
    "    print(f\"son eklenen kaydın id'si: {cursor.lastrowid}\")\n",
    "\n",
    "except mysql.connector.Error as err:\n",
    "    print(\"hata : \", err)\n",
    "\n",
    "finally:\n",
    "    cursor.close()\n",
    "    conn.close()\n",
    "    print(\"cursor objesi ve database bağlantısı kapandı\")"
   ]
  },
  {
   "cell_type": "code",
   "execution_count": 4,
   "metadata": {},
   "outputs": [
    {
     "name": "stdout",
     "output_type": "stream",
     "text": [
      "Kayıtlarınız veritabanına aktarılıyor...\n",
      "[('Iphone 16', 80000.0, '5.jpg', 'good apple'), ('Iphone 17', 90000.0, '6.jpg', 'good apple'), ('Iphone 18', 10000.0, '7.jpg', 'good apple')]\n",
      "3 tane kayıt eklendi\n",
      "son eklenen kaydın id'si: 4\n",
      "database bağlantısı kapandı\n"
     ]
    }
   ],
   "source": [
    "def insertProducts(list):\n",
    "\n",
    "    import mysql.connector\n",
    "    conn = mysql.connector.connect(\n",
    "        host = \"localhost\",\n",
    "        user = \"toygarpar\",\n",
    "        password = \"xxxxxxx\",\n",
    "        database = \"shopclassdb\"\n",
    "\n",
    "    )\n",
    "\n",
    "    cursor = conn.cursor()\n",
    "\n",
    "    sql = \"INSERT INTO products ( name,price, imageUrl,description) VALUES (%s, %s, %s, %s);\"\n",
    "    values = list\n",
    "\n",
    "    cursor.executemany(sql, values)\n",
    "\n",
    "    try:\n",
    "\n",
    "        conn.commit()\n",
    "        print(f\"{cursor.rowcount} tane kayıt eklendi\")\n",
    "        print(f\"son eklenen kaydın id'si: {cursor.lastrowid}\")\n",
    "\n",
    "    except mysql.connector.Error as err:\n",
    "        print(\"hata : \", err)\n",
    "\n",
    "    finally:\n",
    "        conn.close()\n",
    "        print(\"database bağlantısı kapandı\")\n",
    "list = []\n",
    "while True:\n",
    "    name = input(\"Ürün adını girin: \")\n",
    "    price = float(input(\"Ürün fiyatı girin: \"))\n",
    "    imageUrl = input(\"İmage URL girin: \")\n",
    "    description = input(\"Ürün tanımı girin: \")\n",
    "\n",
    "    list.append((name, price, imageUrl, description))\n",
    "\n",
    "    result = input(\"devam etmek istiyor musunuz? (e/h)\")\n",
    "    if result == \"h\":\n",
    "        print(\"Kayıtlarınız veritabanına aktarılıyor...\")\n",
    "        print(list)\n",
    "        insertProducts(list) \n",
    "        break"
   ]
  },
  {
   "cell_type": "code",
   "execution_count": null,
   "metadata": {},
   "outputs": [],
   "source": [
    "\"\"\"\n",
    "UPDATE `shopclassdb`.`products` SET `imageUrl` = '4.jpg' WHERE (`Id` = '4');\n",
    "UPDATE `shopclassdb`.`products` SET `imageUrl` = '5.jpg', `description` = 'better apple' WHERE (`Id` = '5');\n",
    "UPDATE `shopclassdb`.`products` SET `imageUrl` = '6.jpg', `description` = 'best apple' WHERE (`Id` = '6');\n",
    "\"\"\""
   ]
  },
  {
   "cell_type": "code",
   "execution_count": 5,
   "metadata": {},
   "outputs": [
    {
     "name": "stdout",
     "output_type": "stream",
     "text": [
      "1 tane kayıt eklendi\n",
      "son eklenen kaydın id'si: 7\n",
      "database bağlantısı kapandı\n"
     ]
    }
   ],
   "source": [
    "def insertProduct(name, price, imageUrl, description):\n",
    "    import mysql.connector\n",
    "    conn = mysql.connector.connect(\n",
    "        host = \"localhost\",\n",
    "        user = \"toygarpar\",\n",
    "        password = \"xxxxxxx\",\n",
    "        database = \"shopclassdb\"\n",
    "\n",
    "    )\n",
    "\n",
    "    cursor = conn.cursor()\n",
    "\n",
    "    sql = \"INSERT INTO products ( name,price, imageUrl,description) VALUES (%s, %s, %s, %s);\"\n",
    "    value = ( name, price, imageUrl, description)\n",
    "\n",
    "    cursor.execute(sql, value)\n",
    "\n",
    "    try:\n",
    "\n",
    "        conn.commit()\n",
    "        print(f\"{cursor.rowcount} tane kayıt eklendi\")\n",
    "        print(f\"son eklenen kaydın id'si: {cursor.lastrowid}\")\n",
    "\n",
    "    except mysql.connector.Error as err:\n",
    "        print(\"hata : \", err)\n",
    "\n",
    "    finally:\n",
    "        conn.close()\n",
    "        print(\"database bağlantısı kapandı\")\n",
    "\n",
    "name = input(\"Ürün adını girin: \")\n",
    "price = float(input(\"Ürün fiyatı girin: \"))\n",
    "imageUrl = input(\"İmage URL girin: \")\n",
    "description = input(\"Ürün tanımı girin: \")\n",
    "\n",
    "insertProduct(name, price, imageUrl, description)"
   ]
  },
  {
   "cell_type": "code",
   "execution_count": null,
   "metadata": {},
   "outputs": [],
   "source": []
  }
 ],
 "metadata": {
  "kernelspec": {
   "display_name": "Python 3",
   "language": "python",
   "name": "python3"
  },
  "language_info": {
   "codemirror_mode": {
    "name": "ipython",
    "version": 3
   },
   "file_extension": ".py",
   "mimetype": "text/x-python",
   "name": "python",
   "nbconvert_exporter": "python",
   "pygments_lexer": "ipython3",
   "version": "3.13.0"
  }
 },
 "nbformat": 4,
 "nbformat_minor": 2
}
