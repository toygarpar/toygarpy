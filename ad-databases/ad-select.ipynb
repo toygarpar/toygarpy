{
 "cells": [
  {
   "cell_type": "markdown",
   "metadata": {},
   "source": [
    "DATA QUERY - VERİ SORGULAMA"
   ]
  },
  {
   "cell_type": "code",
   "execution_count": 2,
   "metadata": {},
   "outputs": [],
   "source": [
    "import mysql.connector"
   ]
  },
  {
   "cell_type": "code",
   "execution_count": 5,
   "metadata": {},
   "outputs": [],
   "source": [
    "\n",
    "conn = mysql.connector.connect(\n",
    "    host = \"localhost\",\n",
    "    user = \"toygarpar\",\n",
    "    password = \"xxxxxxx\",\n",
    "    database = \"shopdb\"\n",
    ")"
   ]
  },
  {
   "cell_type": "code",
   "execution_count": 6,
   "metadata": {},
   "outputs": [],
   "source": [
    "cursor = conn.cursor()"
   ]
  },
  {
   "cell_type": "code",
   "execution_count": 7,
   "metadata": {},
   "outputs": [],
   "source": [
    "#    cursor.execute(\"SELECT * FROM products\")\n",
    "\n",
    "sql =  \"select * from products\"\n",
    "\n"
   ]
  },
  {
   "cell_type": "code",
   "execution_count": 8,
   "metadata": {},
   "outputs": [],
   "source": [
    "cursor.execute(sql)"
   ]
  },
  {
   "cell_type": "code",
   "execution_count": 9,
   "metadata": {},
   "outputs": [
    {
     "name": "stdout",
     "output_type": "stream",
     "text": [
      "[(1, 'Samsung S25', Decimal('50000'), '1.jpg', 'güzel bir telefon'), (2, 'Samsung S26', Decimal('60000'), '2.jpg', 'mükemmel bir telefon'), (3, 'Huawei Mate 10', Decimal('18000'), '3.jpg', 'myphone'), (4, 'Huawei Mate 20', Decimal('38000'), '4.jpg', 'good camera'), (5, 'Huawei Mate 30', Decimal('48000'), '5.jpg', 'better camera'), (6, 'Huawei Mate 40', Decimal('58000'), '6.jpg', 'best camera'), (7, 'Iphone 16', Decimal('80000'), '7.jpg', 'good camera'), (8, 'Iphone 17', Decimal('90000'), '8.jpg', 'better camera'), (9, 'Iphone 18', Decimal('100000'), '9.jpg', 'best camera')]\n",
      "***********************\n"
     ]
    }
   ],
   "source": [
    "results = cursor.fetchall()\n",
    "\n",
    "print(results)\n",
    "print(\"***********************\")\n"
   ]
  },
  {
   "cell_type": "code",
   "execution_count": 10,
   "metadata": {},
   "outputs": [
    {
     "name": "stdout",
     "output_type": "stream",
     "text": [
      "name: Samsung S25, price: 50000\n",
      "name: Samsung S26, price: 60000\n",
      "name: Huawei Mate 10, price: 18000\n",
      "name: Huawei Mate 20, price: 38000\n",
      "name: Huawei Mate 30, price: 48000\n",
      "name: Huawei Mate 40, price: 58000\n",
      "name: Iphone 16, price: 80000\n",
      "name: Iphone 17, price: 90000\n",
      "name: Iphone 18, price: 100000\n"
     ]
    }
   ],
   "source": [
    "for p in results:\n",
    "    print(f\"name: {p[1]}, price: {p[2]}\")"
   ]
  },
  {
   "cell_type": "code",
   "execution_count": 11,
   "metadata": {},
   "outputs": [
    {
     "name": "stdout",
     "output_type": "stream",
     "text": [
      "database bağlantısı kapandı\n"
     ]
    }
   ],
   "source": [
    "\n",
    "conn.close()\n",
    "print(\"database bağlantısı kapandı\")"
   ]
  },
  {
   "cell_type": "code",
   "execution_count": 1,
   "metadata": {},
   "outputs": [
    {
     "name": "stdout",
     "output_type": "stream",
     "text": [
      "[(1, 'Huawei Mate 10', Decimal('18000'), '3.jpg', 'myphone is phone '), (2, 'Samsung S25', Decimal('50000'), '2.jpg', 'good good good phone'), (3, 'Samsung S26', Decimal('60000'), '3.jpg', 'better phone'), (4, 'Iphone 16', Decimal('80000'), '4.jpg', 'good apple'), (5, 'Iphone 17', Decimal('90000'), '5.jpg', 'better apple'), (6, 'Iphone 18', Decimal('10000'), '6.jpg', 'best apple'), (7, 'Huawei Mate 20', Decimal('40000'), '7.jpg', 'good huawei telephone camera')]\n",
      "************************************\n",
      " name: Huawei Mate 10, price: 18000\n",
      " name: Samsung S25, price: 50000\n",
      " name: Samsung S26, price: 60000\n",
      " name: Iphone 16, price: 80000\n",
      " name: Iphone 17, price: 90000\n",
      " name: Iphone 18, price: 10000\n",
      " name: Huawei Mate 20, price: 40000\n",
      "database bağlantısı kapandı\n"
     ]
    }
   ],
   "source": [
    "def getProducts():\n",
    "    import mysql.connector\n",
    "\n",
    "    conn = mysql.connector.connect(\n",
    "    host = \"localhost\",\n",
    "    user = \"toygarpar\",\n",
    "    password = \"xxxxxxx\",\n",
    "    database = \"shopclassdb\"\n",
    "    )\n",
    "\n",
    "\n",
    "    cursor =  conn.cursor()\n",
    "    \n",
    "    cursor.execute(\"select * from products\")\n",
    "\n",
    "    result = cursor.fetchall()\n",
    "\n",
    "    print(result)\n",
    "    print(\"************************************\")\n",
    "\n",
    "    for p in result:\n",
    "        print(f\" name: {p[1]}, price: {p[2]}\")\n",
    "\n",
    "    \n",
    "    conn.close()\n",
    "    print(\"database bağlantısı kapandı\")\n",
    "\n",
    "\n",
    "\n",
    "getProducts()\n",
    "    \n"
   ]
  },
  {
   "cell_type": "code",
   "execution_count": null,
   "metadata": {},
   "outputs": [],
   "source": []
  }
 ],
 "metadata": {
  "kernelspec": {
   "display_name": "Python 3",
   "language": "python",
   "name": "python3"
  },
  "language_info": {
   "codemirror_mode": {
    "name": "ipython",
    "version": 3
   },
   "file_extension": ".py",
   "mimetype": "text/x-python",
   "name": "python",
   "nbconvert_exporter": "python",
   "pygments_lexer": "ipython3",
   "version": "3.13.0"
  }
 },
 "nbformat": 4,
 "nbformat_minor": 2
}
