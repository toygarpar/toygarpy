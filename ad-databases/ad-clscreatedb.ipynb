{
 "cells": [
  {
   "cell_type": "markdown",
   "metadata": {},
   "source": [
    "CREATE DB"
   ]
  },
  {
   "cell_type": "code",
   "execution_count": null,
   "metadata": {},
   "outputs": [
    {
     "data": {
      "text/plain": [
       "<__main__.CreateDb at 0x27e41308830>"
      ]
     },
     "execution_count": 2,
     "metadata": {},
     "output_type": "execute_result"
    }
   ],
   "source": [
    "class CreateDb:\n",
    "    import mysql.connector\n",
    "\n",
    "    conn = mysql.connector.connect(\n",
    "        host = \"localhost\",\n",
    "        user = \"toygarpar\",\n",
    "        password = \"xxxxxxx\"\n",
    "    )\n",
    "\n",
    "    cursor = conn.cursor()\n",
    "\n",
    "    cursor.execute(\"CREATE DATABASE shopclassdb\")\n",
    "\n",
    "    cursor.execute(\"SHOW DATABASES\")\n",
    "\n",
    "    \n",
    "    cursor.close()\n",
    "    conn.close()\n",
    "\n",
    "\n",
    "CreateDb()"
   ]
  },
  {
   "cell_type": "code",
   "execution_count": null,
   "metadata": {},
   "outputs": [
    {
     "name": "stdout",
     "output_type": "stream",
     "text": [
      "('new_table',)\n"
     ]
    }
   ],
   "source": [
    "class CreateTable:\n",
    "    import mysql.connector\n",
    "\n",
    "    conn = mysql.connector.connect(\n",
    "        host = \"localhost\",\n",
    "        user = \"toygarpar\",\n",
    "        password = \"xxxxxxx\",\n",
    "        database = \"shopclassdb\"\n",
    "\n",
    "    )\n",
    "\n",
    "    cursor = conn.cursor()\n",
    "\n",
    "    sql = \"\"\"CREATE TABLE `shopclassdb`.`new_table` (\n",
    "  `Id` INT NOT NULL AUTO_INCREMENT,\n",
    "  `name` VARCHAR(255) NOT NULL,\n",
    "  `price` DECIMAL NOT NULL,\n",
    "  `imageUrl` VARCHAR(45) NULL,\n",
    "  `description` MEDIUMTEXT NULL,\n",
    "  PRIMARY KEY (`Id`),\n",
    "  UNIQUE INDEX `Id_UNIQUE` (`Id` ASC) VISIBLE);\"\"\"\n",
    "    \n",
    "\n",
    "\n",
    "    cursor.execute(sql)\n",
    "\n",
    "    cursor.execute(\"show tables\")\n",
    "\n",
    "    for i in cursor:\n",
    "\n",
    "        print(i)\n",
    "\n",
    "    cursor.close()\n",
    "    conn.close()"
   ]
  },
  {
   "cell_type": "code",
   "execution_count": null,
   "metadata": {},
   "outputs": [
    {
     "name": "stdout",
     "output_type": "stream",
     "text": [
      "('products',)\n"
     ]
    },
    {
     "data": {
      "text/plain": [
       "<__main__.AlterTable at 0x27e4130a510>"
      ]
     },
     "execution_count": 4,
     "metadata": {},
     "output_type": "execute_result"
    }
   ],
   "source": [
    "class AlterTable:\n",
    "    import mysql.connector\n",
    "\n",
    "    conn = mysql.connector.connect(\n",
    "        host = \"localhost\",\n",
    "        user = \"toygarpar\",\n",
    "        password = \"xxxxxxx\",\n",
    "        database = \"shopclassdb\"\n",
    "\n",
    "    )\n",
    "\n",
    "    cursor = conn.cursor()\n",
    "\n",
    "    sql = \"\"\"ALTER TABLE `shopclassdb`.`new_table` \n",
    "            RENAME TO  `shopclassdb`.`products` ;\"\"\"\n",
    "    \n",
    "\n",
    "\n",
    "    cursor.execute(sql)\n",
    "\n",
    "    cursor.execute(\"show tables\")\n",
    "\n",
    "    for i in cursor:\n",
    "\n",
    "        print(i)\n",
    "\n",
    "    cursor.close()\n",
    "    conn.close()\n",
    "\n",
    "\n",
    "AlterTable()"
   ]
  },
  {
   "cell_type": "code",
   "execution_count": null,
   "metadata": {},
   "outputs": [],
   "source": []
  }
 ],
 "metadata": {
  "kernelspec": {
   "display_name": "Python 3",
   "language": "python",
   "name": "python3"
  },
  "language_info": {
   "codemirror_mode": {
    "name": "ipython",
    "version": 3
   },
   "file_extension": ".py",
   "mimetype": "text/x-python",
   "name": "python",
   "nbconvert_exporter": "python",
   "pygments_lexer": "ipython3",
   "version": "3.13.0"
  }
 },
 "nbformat": 4,
 "nbformat_minor": 2
}
