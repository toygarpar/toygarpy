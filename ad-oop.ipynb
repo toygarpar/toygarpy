{
 "cells": [
  {
   "cell_type": "markdown",
   "metadata": {},
   "source": [
    "## OBJECT ORIENTED PROGRAMMING / NESNE YÖNELİMLİ PROGRAMLAMA\n",
    "\n",
    "Object-­oriented programming, including analysis and design, is a powerful methodology of thinking of how things are composed and work. \n",
    "\n",
    "made of objects, each of which has certain attributes and contains smaller objects.\n",
    "\n",
    "abstraction,information hiding, and inheritance.\n",
    "\n",
    "abstraction - This simplified model of a real-­world object is an abstraction of it.\n",
    "\n",
    "info  hiding - two reasons for hiding certain kinds of information: one is to protect the information, and the other is to make things easier and safer by hiding the details.\n",
    "\n",
    "\n",
    "inheritance - In such a tree-­like hierarchy, the root of the tree is the most generic class or concept, and the leaves are the most specific and often refer to specific objects. From the root down to the leaves, nodes on a lower level will inherit the properties of all the connected nodes at higher levels.\n",
    "\n",
    "\n",
    "much of the OOP story in Python boils down to this expression:\n",
    "```object.attribute```\n",
    "\n",
    "\n",
    "Find the first occurrence of attribute by looking in object, then in all classes above it,\n",
    "from bottom to top and left to right.\n",
    "\n"
   ]
  },
  {
   "cell_type": "markdown",
   "metadata": {},
   "source": [
    "CLASS CONSTRUCTOR\n",
    "\n",
    "\n",
    "in OOP, a class would include some attributes and methods, as well as a constructor or initiator for creating instances of the class."
   ]
  },
  {
   "cell_type": "code",
   "execution_count": 1,
   "metadata": {},
   "outputs": [],
   "source": [
    "class Computer:\n",
    "    pass"
   ]
  },
  {
   "cell_type": "code",
   "execution_count": 2,
   "metadata": {},
   "outputs": [
    {
     "name": "stdout",
     "output_type": "stream",
     "text": [
      "Help on class Computer in module __main__:\n",
      "\n",
      "class Computer(builtins.object)\n",
      " |  Data descriptors defined here:\n",
      " |\n",
      " |  __dict__\n",
      " |      dictionary for instance variables\n",
      " |\n",
      " |  __weakref__\n",
      " |      list of weak references to the object\n",
      "\n"
     ]
    }
   ],
   "source": [
    "help(Computer)"
   ]
  },
  {
   "cell_type": "code",
   "execution_count": 3,
   "metadata": {},
   "outputs": [],
   "source": [
    "class PC(Computer):\n",
    "    pass"
   ]
  },
  {
   "cell_type": "code",
   "execution_count": 4,
   "metadata": {},
   "outputs": [
    {
     "name": "stdout",
     "output_type": "stream",
     "text": [
      "Help on class PC in module __main__:\n",
      "\n",
      "class PC(Computer)\n",
      " |  Method resolution order:\n",
      " |      PC\n",
      " |      Computer\n",
      " |      builtins.object\n",
      " |\n",
      " |  Data descriptors inherited from Computer:\n",
      " |\n",
      " |  __dict__\n",
      " |      dictionary for instance variables\n",
      " |\n",
      " |  __weakref__\n",
      " |      list of weak references to the object\n",
      "\n"
     ]
    }
   ],
   "source": [
    "help(PC)"
   ]
  },
  {
   "cell_type": "code",
   "execution_count": 16,
   "metadata": {},
   "outputs": [],
   "source": [
    "pc = Computer()  # the constructor of class Computer"
   ]
  },
  {
   "cell_type": "code",
   "execution_count": 17,
   "metadata": {},
   "outputs": [],
   "source": [
    "#Set/add an attribute  to object , and assign value  to the attribute\n",
    "\n",
    "setattr(pc, \"CPU\", \"AMD Ryzen 7900\")"
   ]
  },
  {
   "cell_type": "code",
   "execution_count": 18,
   "metadata": {},
   "outputs": [
    {
     "data": {
      "text/plain": [
       "'AMD Ryzen 7900'"
      ]
     },
     "execution_count": 18,
     "metadata": {},
     "output_type": "execute_result"
    }
   ],
   "source": [
    "pc.CPU"
   ]
  },
  {
   "cell_type": "code",
   "execution_count": 19,
   "metadata": {},
   "outputs": [
    {
     "data": {
      "text/plain": [
       "{'CPU': 'AMD Ryzen 7900'}"
      ]
     },
     "execution_count": 19,
     "metadata": {},
     "output_type": "execute_result"
    }
   ],
   "source": [
    "pc.__dict__\n"
   ]
  },
  {
   "cell_type": "code",
   "execution_count": 20,
   "metadata": {},
   "outputs": [
    {
     "data": {
      "text/plain": [
       "<attribute '__weakref__' of 'Computer' objects>"
      ]
     },
     "execution_count": 20,
     "metadata": {},
     "output_type": "execute_result"
    }
   ],
   "source": [
    "Computer.__weakref__"
   ]
  },
  {
   "cell_type": "code",
   "execution_count": 21,
   "metadata": {},
   "outputs": [
    {
     "data": {
      "text/plain": [
       "'AMD Ryzen 7900'"
      ]
     },
     "execution_count": 21,
     "metadata": {},
     "output_type": "execute_result"
    }
   ],
   "source": [
    "#Return the value of object obj's attribute attr, same as obj.attr\n",
    "\n",
    "getattr(pc, \"CPU\")"
   ]
  },
  {
   "cell_type": "code",
   "execution_count": 22,
   "metadata": {},
   "outputs": [
    {
     "data": {
      "text/plain": [
       "True"
      ]
     },
     "execution_count": 22,
     "metadata": {},
     "output_type": "execute_result"
    }
   ],
   "source": [
    "hasattr(pc, \"CPU\")"
   ]
  },
  {
   "cell_type": "code",
   "execution_count": 25,
   "metadata": {},
   "outputs": [
    {
     "data": {
      "text/plain": [
       "True"
      ]
     },
     "execution_count": 25,
     "metadata": {},
     "output_type": "execute_result"
    }
   ],
   "source": [
    "isinstance(pc, Computer)  # Return true if class pc is a subclass of COmputer"
   ]
  },
  {
   "cell_type": "code",
   "execution_count": null,
   "metadata": {},
   "outputs": [
    {
     "data": {
      "text/plain": [
       "'<__main__.Computer object at 0x7797500e2b70>'"
      ]
     },
     "execution_count": 24,
     "metadata": {},
     "output_type": "execute_result"
    }
   ],
   "source": [
    "#Return string representation\n",
    "\n",
    "repr(pc)"
   ]
  },
  {
   "cell_type": "markdown",
   "metadata": {},
   "source": [
    "CLASS EXAMPLE\n",
    "\n",
    "the class starts with a header line that lists the class name, followed by a body of one or more nested and (usually) indented statements.\n",
    "\n",
    "the nested statements are defs; they define functions that implement the behavior the class means to export.\n",
    "\n",
    "Functions inside a class are usually called methods\n",
    "\n",
    "in a method function, the first argument automatically receives an implied instance object when called—the subject of the call"
   ]
  },
  {
   "cell_type": "code",
   "execution_count": null,
   "metadata": {},
   "outputs": [],
   "source": [
    "#class stanımla\n",
    "\n",
    "class Birinci:\n",
    "\n",
    "    #class method tanımla\n",
    "    def verigir(self, veri):\n",
    "        self.veri = veri  #self is the instance\n",
    "\n",
    "    def sergile(self):\n",
    "        print(self.veri)  #self.veri per instance"
   ]
  },
  {
   "cell_type": "code",
   "execution_count": 3,
   "metadata": {},
   "outputs": [],
   "source": [
    "#iki tane instance yarat\n",
    "a =  Birinci()\n",
    "b =  Birinci()"
   ]
  },
  {
   "cell_type": "code",
   "execution_count": null,
   "metadata": {},
   "outputs": [],
   "source": [
    "#they spring into existence the first time they are assigned values, just like simple variables.\n",
    "\n",
    "a.verigir(\"Toygar Par\")\n",
    "\n",
    "b.verigir(\"Veri Bilimi\")"
   ]
  },
  {
   "cell_type": "code",
   "execution_count": 5,
   "metadata": {},
   "outputs": [
    {
     "name": "stdout",
     "output_type": "stream",
     "text": [
      "Toygar Par\n"
     ]
    }
   ],
   "source": [
    "a.sergile()"
   ]
  },
  {
   "cell_type": "code",
   "execution_count": 7,
   "metadata": {},
   "outputs": [
    {
     "name": "stdout",
     "output_type": "stream",
     "text": [
      "Veri Bilimi\n"
     ]
    }
   ],
   "source": [
    "b.sergile()"
   ]
  },
  {
   "cell_type": "code",
   "execution_count": 8,
   "metadata": {},
   "outputs": [
    {
     "data": {
      "text/plain": [
       "'Toygar Par'"
      ]
     },
     "execution_count": 8,
     "metadata": {},
     "output_type": "execute_result"
    }
   ],
   "source": [
    "a.veri"
   ]
  },
  {
   "cell_type": "code",
   "execution_count": 9,
   "metadata": {},
   "outputs": [
    {
     "data": {
      "text/plain": [
       "'Veri Bilimi'"
      ]
     },
     "execution_count": 9,
     "metadata": {},
     "output_type": "execute_result"
    }
   ],
   "source": [
    "b.veri"
   ]
  },
  {
   "cell_type": "code",
   "execution_count": 10,
   "metadata": {},
   "outputs": [],
   "source": [
    "b.veri = \"Python ve Veri Bilimi\""
   ]
  },
  {
   "cell_type": "code",
   "execution_count": 11,
   "metadata": {},
   "outputs": [
    {
     "name": "stdout",
     "output_type": "stream",
     "text": [
      "Python ve Veri Bilimi\n"
     ]
    }
   ],
   "source": [
    "b.sergile()"
   ]
  },
  {
   "cell_type": "code",
   "execution_count": 12,
   "metadata": {},
   "outputs": [
    {
     "data": {
      "text/plain": [
       "'Python ve Veri Bilimi'"
      ]
     },
     "execution_count": 12,
     "metadata": {},
     "output_type": "execute_result"
    }
   ],
   "source": [
    "b.veri"
   ]
  },
  {
   "cell_type": "code",
   "execution_count": 13,
   "metadata": {},
   "outputs": [],
   "source": [
    "# generate an entirely new attribute in the instance’s namespace by assigning to its name outside the class’s method functions\n",
    "\n",
    "b.başkaveri = \"data science\""
   ]
  },
  {
   "cell_type": "code",
   "execution_count": 17,
   "metadata": {},
   "outputs": [],
   "source": [
    "class Ikinci(Birinci):  #inherits all attributes of Birinci\n",
    "    def sergile(self):\n",
    "        print(f\"Girilen değer: {self.veri}\")\n"
   ]
  },
  {
   "cell_type": "code",
   "execution_count": 15,
   "metadata": {},
   "outputs": [],
   "source": [
    "c = Ikinci()"
   ]
  },
  {
   "cell_type": "code",
   "execution_count": 16,
   "metadata": {},
   "outputs": [],
   "source": [
    "c.verigir(3.14159)"
   ]
  },
  {
   "cell_type": "code",
   "execution_count": 18,
   "metadata": {},
   "outputs": [
    {
     "name": "stdout",
     "output_type": "stream",
     "text": [
      "Girilen değer: 3.14159\n"
     ]
    }
   ],
   "source": [
    "c.sergile()"
   ]
  },
  {
   "cell_type": "code",
   "execution_count": 19,
   "metadata": {},
   "outputs": [
    {
     "name": "stdout",
     "output_type": "stream",
     "text": [
      "Toygar Par\n"
     ]
    }
   ],
   "source": [
    "a.sergile()"
   ]
  },
  {
   "cell_type": "code",
   "execution_count": 49,
   "metadata": {},
   "outputs": [],
   "source": [
    "class Ucuncu(Ikinci):\n",
    "    def __init__(self, veri):\n",
    "        self.veri = veri\n",
    "\n",
    "    def __add__(self, other):\n",
    "        return Ucuncu(self.veri + other)\n",
    "                \n",
    "    def __str__(self):\n",
    "        return f\"[Ucuncu: {self.veri} ]\"\n",
    "    \n",
    "    def mul(self, other):\n",
    "        self.veri *= other"
   ]
  },
  {
   "cell_type": "code",
   "execution_count": 50,
   "metadata": {},
   "outputs": [],
   "source": [
    "d = Ucuncu(\"the\")"
   ]
  },
  {
   "cell_type": "code",
   "execution_count": 51,
   "metadata": {},
   "outputs": [
    {
     "name": "stdout",
     "output_type": "stream",
     "text": [
      "Girilen değer: the\n"
     ]
    }
   ],
   "source": [
    "d.sergile()  #method inherited from Ikinci"
   ]
  },
  {
   "cell_type": "code",
   "execution_count": 52,
   "metadata": {},
   "outputs": [
    {
     "name": "stdout",
     "output_type": "stream",
     "text": [
      "[Ucuncu: the ]\n"
     ]
    }
   ],
   "source": [
    "print(d)  # __str__ returns sergilenen string"
   ]
  },
  {
   "cell_type": "code",
   "execution_count": 53,
   "metadata": {},
   "outputs": [],
   "source": [
    "e = d +\"end\""
   ]
  },
  {
   "cell_type": "code",
   "execution_count": 54,
   "metadata": {},
   "outputs": [
    {
     "name": "stdout",
     "output_type": "stream",
     "text": [
      "Girilen değer: theend\n"
     ]
    }
   ],
   "source": [
    "e.sergile()"
   ]
  },
  {
   "cell_type": "code",
   "execution_count": 55,
   "metadata": {},
   "outputs": [
    {
     "name": "stdout",
     "output_type": "stream",
     "text": [
      "[Ucuncu: theend ]\n"
     ]
    }
   ],
   "source": [
    "print(e)"
   ]
  },
  {
   "cell_type": "code",
   "execution_count": 56,
   "metadata": {},
   "outputs": [],
   "source": [
    "d.mul(2)   # changes instance in place"
   ]
  },
  {
   "cell_type": "code",
   "execution_count": 57,
   "metadata": {},
   "outputs": [
    {
     "name": "stdout",
     "output_type": "stream",
     "text": [
      "[Ucuncu: thethe ]\n"
     ]
    }
   ],
   "source": [
    "print(d)"
   ]
  },
  {
   "cell_type": "code",
   "execution_count": 60,
   "metadata": {},
   "outputs": [
    {
     "data": {
      "text/plain": [
       "__main__.Ucuncu"
      ]
     },
     "execution_count": 60,
     "metadata": {},
     "output_type": "execute_result"
    }
   ],
   "source": [
    "d.__class__   #Instance to class link"
   ]
  },
  {
   "cell_type": "code",
   "execution_count": null,
   "metadata": {},
   "outputs": [
    {
     "data": {
      "text/plain": [
       "(__main__.Birinci,)"
      ]
     },
     "execution_count": 59,
     "metadata": {},
     "output_type": "execute_result"
    }
   ],
   "source": [
    "Ikinci.__bases__  #Class to superclasses link"
   ]
  },
  {
   "cell_type": "code",
   "execution_count": null,
   "metadata": {},
   "outputs": [
    {
     "data": {
      "text/plain": [
       "'thethe'"
      ]
     },
     "execution_count": 61,
     "metadata": {},
     "output_type": "execute_result"
    }
   ],
   "source": [
    "d.__dict__[\"veri\"]  #  an attribute can also be fetched by dictionary indexing, but no inheritance seaech is done sice attr in only looked up at that instance."
   ]
  },
  {
   "cell_type": "code",
   "execution_count": 62,
   "metadata": {},
   "outputs": [
    {
     "data": {
      "text/plain": [
       "['__module__', 'sergile', '__doc__']"
      ]
     },
     "execution_count": 62,
     "metadata": {},
     "output_type": "execute_result"
    }
   ],
   "source": [
    "list(Ikinci.__dict__.keys())"
   ]
  },
  {
   "cell_type": "code",
   "execution_count": 63,
   "metadata": {},
   "outputs": [
    {
     "data": {
      "text/plain": [
       "['sergile']"
      ]
     },
     "execution_count": 63,
     "metadata": {},
     "output_type": "execute_result"
    }
   ],
   "source": [
    "list( name for name in Ikinci.__dict__ if not name.startswith(\"__\"))"
   ]
  },
  {
   "cell_type": "code",
   "execution_count": null,
   "metadata": {},
   "outputs": [],
   "source": [
    "def buyukharf(nesne):\n",
    "    return nesne.veri.upper()   #needs a self arg, nesne"
   ]
  },
  {
   "cell_type": "code",
   "execution_count": null,
   "metadata": {},
   "outputs": [
    {
     "data": {
      "text/plain": [
       "'TOYGAR PAR'"
      ]
     },
     "execution_count": 65,
     "metadata": {},
     "output_type": "execute_result"
    }
   ],
   "source": [
    "Birinci.method = buyukharf   #make it a class method\n",
    "\n",
    "a. method()  #run class method to process a"
   ]
  },
  {
   "cell_type": "code",
   "execution_count": 66,
   "metadata": {},
   "outputs": [
    {
     "data": {
      "text/plain": [
       "'PYTHON VE VERI BILIMI'"
      ]
     },
     "execution_count": 66,
     "metadata": {},
     "output_type": "execute_result"
    }
   ],
   "source": [
    "b.method()\n"
   ]
  },
  {
   "cell_type": "code",
   "execution_count": null,
   "metadata": {},
   "outputs": [
    {
     "data": {
      "text/plain": [
       "'THEEND'"
      ]
     },
     "execution_count": 67,
     "metadata": {},
     "output_type": "execute_result"
    }
   ],
   "source": [
    "Birinci.method(e)  #call thru class"
   ]
  },
  {
   "cell_type": "markdown",
   "metadata": {},
   "source": [
    "#### all the important concepts in Python’s OOP machinery:\n",
    "\n",
    "•••••\n",
    "\n",
    "Instance creation—filling out instance attributes\n",
    "\n",
    "Behavior methods—encapsulating logic in a class’s methods\n",
    "\n",
    "Operator overloading—providing behavior for built-in operations like printing\n",
    "\n",
    "Customizing behavior—redefining methods in subclasses to specialize them\n",
    "\n",
    "Customizing constructors—adding initialization logic to superclass steps\n",
    "\n",
    "\n",
    "##### three simple ideas: \n",
    "\n",
    "the inheritance search for attributes in object trees, \n",
    "\n",
    "the special self argument in methods, \n",
    "\n",
    "and operator overloading’s automatic dispatch to methods.\n",
    "\n",
    "•••••\n",
    "\n",
    "make our code easy to change in the future, by harnessing the class’s propensity for factoring code to reduce redundancy. For example, wrap up logic in methods and call back to superclass methods from extensions to avoid having multiple copies of the same code"
   ]
  },
  {
   "cell_type": "code",
   "execution_count": 143,
   "metadata": {},
   "outputs": [],
   "source": [
    "#code a full-blown class to implement the record and its processing\n",
    "from datetime import datetime\n",
    "\n",
    "class Player:\n",
    "    \n",
    "\n",
    "\n",
    "\n",
    "    def __init__(self, name, team, position, yob=None):\n",
    "        self.name = name\n",
    "        self.team = team\n",
    "        self.position = position     \n",
    "        self.yob = yob\n",
    "\n",
    "    def age(self):\n",
    "        \n",
    "        return datetime.now().year - self.yob\n",
    "\n",
    "    def info(self):\n",
    "        return (self.name, [self.team, self.position], self.age())\n",
    "    \n",
    "    def __str__(self):\n",
    "        return f\"Player Name: {self.name}, {self.age()} year old {self.position} at {self.team}\""
   ]
  },
  {
   "cell_type": "code",
   "execution_count": 144,
   "metadata": {},
   "outputs": [],
   "source": [
    "pla1 = Player(\"Zehra Güneş\", \"Vakıfbank\", \"Middle Blocker\", 1999)\n",
    "pla2 = Player(\"Melisa Teresa Vargas\", \"Fenerbahçe\", \"Opposite\", 2000)"
   ]
  },
  {
   "cell_type": "code",
   "execution_count": 145,
   "metadata": {},
   "outputs": [
    {
     "data": {
      "text/plain": [
       "'Middle Blocker'"
      ]
     },
     "execution_count": 145,
     "metadata": {},
     "output_type": "execute_result"
    }
   ],
   "source": [
    "pla1.position"
   ]
  },
  {
   "cell_type": "code",
   "execution_count": 146,
   "metadata": {},
   "outputs": [
    {
     "data": {
      "text/plain": [
       "('Melisa Teresa Vargas', ['Fenerbahçe', 'Opposite'], 24)"
      ]
     },
     "execution_count": 146,
     "metadata": {},
     "output_type": "execute_result"
    }
   ],
   "source": [
    "pla2.info()"
   ]
  },
  {
   "cell_type": "code",
   "execution_count": 147,
   "metadata": {},
   "outputs": [
    {
     "name": "stdout",
     "output_type": "stream",
     "text": [
      "Player Name: Melisa Teresa Vargas, 24 year old Opposite at Fenerbahçe\n"
     ]
    }
   ],
   "source": [
    "print(pla2)"
   ]
  },
  {
   "cell_type": "code",
   "execution_count": 148,
   "metadata": {},
   "outputs": [],
   "source": [
    "pla1.team = [\"Milli Takım\", \"Vakıfbank\"]"
   ]
  },
  {
   "cell_type": "code",
   "execution_count": 149,
   "metadata": {},
   "outputs": [
    {
     "data": {
      "text/plain": [
       "('Zehra Güneş', [['Milli Takım', 'Vakıfbank'], 'Middle Blocker'], 25)"
      ]
     },
     "execution_count": 149,
     "metadata": {},
     "output_type": "execute_result"
    }
   ],
   "source": [
    "pla1.info()"
   ]
  },
  {
   "cell_type": "code",
   "execution_count": 150,
   "metadata": {},
   "outputs": [
    {
     "name": "stdout",
     "output_type": "stream",
     "text": [
      "Player Name: Zehra Güneş, 25 year old Middle Blocker at ['Milli Takım', 'Vakıfbank']\n"
     ]
    }
   ],
   "source": [
    "print(pla1)"
   ]
  },
  {
   "cell_type": "code",
   "execution_count": 151,
   "metadata": {},
   "outputs": [],
   "source": [
    "pla2.team = [\"Milli Takım\", \"Fenerbahçe\"]"
   ]
  },
  {
   "cell_type": "code",
   "execution_count": 152,
   "metadata": {},
   "outputs": [
    {
     "name": "stdout",
     "output_type": "stream",
     "text": [
      "Player Name: Melisa Teresa Vargas, 24 year old Opposite at ['Milli Takım', 'Fenerbahçe']\n"
     ]
    }
   ],
   "source": [
    "print(pla2)"
   ]
  },
  {
   "cell_type": "code",
   "execution_count": 7,
   "metadata": {},
   "outputs": [],
   "source": [
    "\n",
    "\n",
    "\n",
    "\n",
    "\n",
    "class Person:   #start a class\n",
    "    #initializaition - Constructor takes three arguments, self is the new instance object\n",
    "    def __init__(self, name, job =  None, pay : float = 0 ): #In OO terms, self is the newly created instance object, and name, job, and pay become state information—descriptive data saved on an object for later use.\n",
    "        self.name = name\n",
    "        self.job = job\n",
    "        self.pay = pay\n",
    "        \n",
    "\n",
    "    def lname(self):\n",
    "        return self.name.split()[-1]\n",
    "\n",
    "    def fname(self):\n",
    "        return self.name.split()[0]\n",
    "\n",
    "    def giveRaise(self, percent):\n",
    "        self.pay = self.pay * (1 + percent)\n",
    "\n",
    "    def __repr__(self):\n",
    "        return \"Person: [{} {}, {:,.2f}]\".format(self.fname(), self.lname(), self.pay)\n",
    "\n",
    "\n",
    "class Manager(Person):\n",
    "\n",
    "    #redefine constructor for subclass by running original with \"Müdür\"\n",
    "    def __init__(self, name, pay):\n",
    "        #super().__init__(name, pay)\n",
    "        Person.__init__(self, name, \"Manager\", pay)\n",
    "    \n",
    "\n",
    "\n",
    "\n",
    "\n",
    "    #bad way\n",
    "    # def giveRaise(self, percent, bonus = .10):\n",
    "    #     self.pay = self.pay *(1 + percent + bonus)\n",
    "\n",
    "    def giveRaise(self, percent, bonus = .10):   #instance.method(args..) translated to class.method(instance, args....)\n",
    "        Person.giveRaise(self, percent + bonus)  #call Person's version of giveRaise()\n",
    "\n",
    "\n",
    "\n",
    "\n",
    "\n",
    "\n",
    "\n",
    "\n",
    "\n",
    "\n",
    "\n",
    "\n",
    "\n",
    "\n",
    "\n",
    "\n",
    "\n",
    "\n",
    "\n",
    "\n",
    "\n",
    "\n",
    "\n",
    "\n",
    "\n",
    "\n",
    "\n"
   ]
  },
  {
   "cell_type": "code",
   "execution_count": 8,
   "metadata": {},
   "outputs": [
    {
     "name": "stdout",
     "output_type": "stream",
     "text": [
      "Toygar Par 0\n",
      "Besen Par 45000\n",
      "Par\n",
      "Besen Par's pay is : 49,500.00\n"
     ]
    }
   ],
   "source": [
    "if __name__ == \"__main__\":\n",
    "    #test kodu\n",
    "    toygar = Person(\"Toygar Par\")\n",
    "    xxxxxxx = Person(\"Özdemir Par\")\n",
    "    besen = Person(\"Besen Par\", job=\"Manager\", pay = 45000)\n",
    "\n",
    "    print(toygar.name, toygar.pay)\n",
    "    print(besen.name, besen.pay)\n",
    "    print(toygar.name.split()[-1])\n",
    "    besen.giveRaise(.10)\n",
    "    print(f\"Besen {besen.lname()}'s pay is : {'{:,.2f}'.format(besen.pay)}\")\n",
    "\n",
    "  "
   ]
  },
  {
   "cell_type": "code",
   "execution_count": 9,
   "metadata": {},
   "outputs": [
    {
     "name": "stdout",
     "output_type": "stream",
     "text": [
      "Previous Pay: 75000\n",
      "Par , Taco\n",
      "Person: [Taco Par, 101,250.00]\n",
      "ALL Persons:\n",
      "Person: [Toygar Par, 0.00]\n",
      "Person: [Özdemir Par, 0.00]\n",
      "Person: [Besen Par, 54,450.00]\n",
      "Person: [Taco Par, 121,500.00]\n"
     ]
    }
   ],
   "source": [
    "taco = Manager(\"Taco Par\", 75000)    # __init__\n",
    "print(\"Previous Pay:\" , taco.pay)\n",
    "taco.giveRaise(.25)                           #run customized version giveRaise()\n",
    "print(taco.lname(), \",\", taco.fname())        #runs inherited methods\n",
    "print(taco)                                   #runs inherited __repr__\n",
    "\n",
    "\n",
    "\n",
    "print(\"ALL Persons:\")\n",
    "\n",
    "for obj in (toygar, xxxxxxx, besen, taco):\n",
    "    obj.giveRaise(.10)\n",
    "    print(obj)"
   ]
  },
  {
   "cell_type": "code",
   "execution_count": 37,
   "metadata": {},
   "outputs": [
    {
     "data": {
      "text/plain": [
       "('Toygar Par', 0)"
      ]
     },
     "execution_count": 37,
     "metadata": {},
     "output_type": "execute_result"
    }
   ],
   "source": [
    "toygar.name, toygar.pay  #fetch attached attributes"
   ]
  },
  {
   "cell_type": "code",
   "execution_count": 38,
   "metadata": {},
   "outputs": [
    {
     "data": {
      "text/plain": [
       "('Besen Par', 49500.0)"
      ]
     },
     "execution_count": 38,
     "metadata": {},
     "output_type": "execute_result"
    }
   ],
   "source": [
    "besen.name, round(besen.pay, 2 ) #attrs differ from toygar's"
   ]
  },
  {
   "cell_type": "code",
   "execution_count": 39,
   "metadata": {},
   "outputs": [
    {
     "data": {
      "text/plain": [
       "['Toygar', 'Par']"
      ]
     },
     "execution_count": 39,
     "metadata": {},
     "output_type": "execute_result"
    }
   ],
   "source": [
    "toygar.name.split()"
   ]
  },
  {
   "cell_type": "code",
   "execution_count": 40,
   "metadata": {},
   "outputs": [
    {
     "data": {
      "text/plain": [
       "'Par'"
      ]
     },
     "execution_count": 40,
     "metadata": {},
     "output_type": "execute_result"
    }
   ],
   "source": [
    "toygar.name.split()[-1]"
   ]
  },
  {
   "cell_type": "code",
   "execution_count": 41,
   "metadata": {},
   "outputs": [],
   "source": [
    "besen.giveRaise(0.15)"
   ]
  },
  {
   "cell_type": "code",
   "execution_count": 42,
   "metadata": {},
   "outputs": [
    {
     "name": "stdout",
     "output_type": "stream",
     "text": [
      "56925.00\n"
     ]
    }
   ],
   "source": [
    "print( \"%.2f\" % besen.pay )"
   ]
  },
  {
   "cell_type": "code",
   "execution_count": 43,
   "metadata": {},
   "outputs": [
    {
     "name": "stdout",
     "output_type": "stream",
     "text": [
      "Person: [Besen Par, 56,925.00]\n"
     ]
    }
   ],
   "source": [
    "print(besen)"
   ]
  },
  {
   "cell_type": "markdown",
   "metadata": {},
   "source": [
    "Method Example"
   ]
  },
  {
   "cell_type": "code",
   "execution_count": null,
   "metadata": {},
   "outputs": [],
   "source": [
    "class MetotDeneme:\n",
    "\n",
    "    def yaz(self, text):\n",
    "\n",
    "        self.text = text    #change instance\n",
    "        print(self.text)    #access instance"
   ]
  },
  {
   "cell_type": "code",
   "execution_count": null,
   "metadata": {},
   "outputs": [
    {
     "name": "stdout",
     "output_type": "stream",
     "text": [
      "instance call\n"
     ]
    }
   ],
   "source": [
    "a = MetotDeneme()\n",
    "\n",
    "a.yaz(\"instance call\")   #call method for the instance\n"
   ]
  },
  {
   "cell_type": "code",
   "execution_count": 13,
   "metadata": {},
   "outputs": [],
   "source": [
    "a.text = \"instance değiştir\""
   ]
  },
  {
   "cell_type": "code",
   "execution_count": 15,
   "metadata": {},
   "outputs": [
    {
     "data": {
      "text/plain": [
       "'instance değiştir'"
      ]
     },
     "execution_count": 15,
     "metadata": {},
     "output_type": "execute_result"
    }
   ],
   "source": [
    "a.text"
   ]
  },
  {
   "cell_type": "code",
   "execution_count": 16,
   "metadata": {},
   "outputs": [
    {
     "name": "stdout",
     "output_type": "stream",
     "text": [
      "class üzerinden çağırarak değiştir\n"
     ]
    }
   ],
   "source": [
    "MetotDeneme.yaz(a, \"class üzerinden çağırarak değiştir\")"
   ]
  },
  {
   "cell_type": "code",
   "execution_count": 17,
   "metadata": {},
   "outputs": [
    {
     "data": {
      "text/plain": [
       "'class üzerinden çağırarak değiştir'"
      ]
     },
     "execution_count": 17,
     "metadata": {},
     "output_type": "execute_result"
    }
   ],
   "source": [
    "a.text"
   ]
  },
  {
   "cell_type": "markdown",
   "metadata": {},
   "source": [
    "CALL SUPERCLASS CONTRUCTORS\n",
    "\n",
    " If subclass constructors need to guarantee that superclass construction-time logic runs, too, they generally must call the superclass’s __init__ method explicitly through the class:"
   ]
  },
  {
   "cell_type": "code",
   "execution_count": null,
   "metadata": {},
   "outputs": [],
   "source": [
    "class Super:\n",
    "    def __init__(self):\n",
    "        pass\n",
    "\n",
    "class Subclass(Super):\n",
    "    def __init__(self, x, y):\n",
    "        Super.__init__(self, x)\n",
    "        pass\n",
    "        "
   ]
  },
  {
   "cell_type": "code",
   "execution_count": 19,
   "metadata": {},
   "outputs": [],
   "source": [
    "s = Subclass(1,2)"
   ]
  },
  {
   "cell_type": "code",
   "execution_count": 20,
   "metadata": {},
   "outputs": [
    {
     "data": {
      "text/plain": [
       "<__main__.Subclass at 0x72bc485977d0>"
      ]
     },
     "execution_count": 20,
     "metadata": {},
     "output_type": "execute_result"
    }
   ],
   "source": [
    "s"
   ]
  },
  {
   "cell_type": "code",
   "execution_count": null,
   "metadata": {},
   "outputs": [],
   "source": []
  },
  {
   "cell_type": "code",
   "execution_count": 27,
   "metadata": {},
   "outputs": [],
   "source": [
    "s = Super()\n"
   ]
  },
  {
   "cell_type": "code",
   "execution_count": 28,
   "metadata": {},
   "outputs": [
    {
     "name": "stdout",
     "output_type": "stream",
     "text": [
      "Super.method called, NOW in Super.method\n"
     ]
    }
   ],
   "source": [
    "s.method()"
   ]
  },
  {
   "cell_type": "code",
   "execution_count": 29,
   "metadata": {},
   "outputs": [],
   "source": [
    "s = Subclass()"
   ]
  },
  {
   "cell_type": "code",
   "execution_count": 30,
   "metadata": {},
   "outputs": [
    {
     "name": "stdout",
     "output_type": "stream",
     "text": [
      "Sub.method started\n",
      "Super.method called, NOW in Super.method\n",
      "ended Sublass.method\n"
     ]
    }
   ],
   "source": [
    "s.method()  #runs Subclass.method, calls Super.method"
   ]
  },
  {
   "cell_type": "markdown",
   "metadata": {},
   "source": [
    "### WAYS TO INTERFACE WITH A SUPERCLASS"
   ]
  },
  {
   "cell_type": "code",
   "execution_count": 34,
   "metadata": {},
   "outputs": [],
   "source": [
    "class Super:     #Defines a method function and a delegate that expects an action in a subclass.\n",
    "    def method(self):\n",
    "        print(\"Super.method called, NOW in Super.method\")  #default\n",
    "\n",
    "    def delegate(self):\n",
    "        self.action()     #expected to be defined\n",
    "\n",
    "class Inheritor(Super): #Doesn’t provide any new names, so it gets everything defined in Super. Inherits method verbatim.\n",
    "\n",
    "    pass\n",
    "\n",
    "\n",
    "class Replacer(Super):    #Overrides Super’s method with a version of its own. Replace method completely\n",
    "\n",
    "    def method(self):\n",
    "        print(\"Now in Replacer.method\")\n",
    "\n",
    "\n",
    "\n",
    "class Extender_Subclass(Super):   #Customizes Super’s method by overriding and calling back to run the default. Extend method behavior\n",
    "    def method(self):\n",
    "        print(\"Extender_Subclass.method started\")\n",
    "\n",
    "        Super.method(self)\n",
    "        print(\"ended Extender_Subclass.method\")\n",
    "\n",
    "\n",
    "\n",
    "class Provider(Super): #Implements the action method expected by Super’s delegate method. Fill in a required method\n",
    "    def action(self):\n",
    "        print(\"NOW in Provider.action\")"
   ]
  },
  {
   "cell_type": "code",
   "execution_count": 45,
   "metadata": {},
   "outputs": [
    {
     "name": "stdout",
     "output_type": "stream",
     "text": [
      "\n",
      " @ Inheritor class\n",
      "Super.method called, NOW in Super.method\n",
      "\n",
      " @ Replacer class\n",
      "Now in Replacer.method\n",
      "\n",
      " @ Extender_Subclass class\n",
      "Extender_Subclass.method started\n",
      "Super.method called, NOW in Super.method\n",
      "ended Extender_Subclass.method\n",
      "\n",
      "Provider class\n"
     ]
    }
   ],
   "source": [
    "if __name__ == \"__main__\":\n",
    "\n",
    "    #create instances of three different classes in a for loop\n",
    "    for cl in (Inheritor, Replacer, Extender_Subclass):\n",
    "        print(\"\\n\", \"@\", cl.__name__, \"class\")\n",
    "        cl().method()\n",
    "\n",
    "    print(\"\\nProvider class\")\n"
   ]
  },
  {
   "cell_type": "code",
   "execution_count": 38,
   "metadata": {},
   "outputs": [],
   "source": [
    "x = Provider()"
   ]
  },
  {
   "cell_type": "code",
   "execution_count": 39,
   "metadata": {},
   "outputs": [
    {
     "name": "stdout",
     "output_type": "stream",
     "text": [
      "NOW in Provider.action\n"
     ]
    }
   ],
   "source": [
    "x.delegate()"
   ]
  },
  {
   "cell_type": "code",
   "execution_count": 41,
   "metadata": {},
   "outputs": [
    {
     "data": {
      "text/plain": [
       "__main__.Provider"
      ]
     },
     "execution_count": 41,
     "metadata": {},
     "output_type": "execute_result"
    }
   ],
   "source": [
    "x.__class__"
   ]
  },
  {
   "cell_type": "code",
   "execution_count": 43,
   "metadata": {},
   "outputs": [
    {
     "data": {
      "text/plain": [
       "(__main__.Super,)"
      ]
     },
     "execution_count": 43,
     "metadata": {},
     "output_type": "execute_result"
    }
   ],
   "source": [
    "Provider.__bases__"
   ]
  },
  {
   "cell_type": "code",
   "execution_count": null,
   "metadata": {},
   "outputs": [],
   "source": [
    "#NAMESPACES - WHERE A NAME WILL WIND UP\n",
    "\n",
    "val = 3         #module\n",
    "\n",
    "class NameSpace:\n",
    "    val = 5     #class attribute NameSpace.val\n",
    "    def deneme(self):\n",
    "        \n",
    "        val = 8  #local variable in method\n",
    "        \n",
    "        self.val = 13  #instance attribute - instance.val\n",
    "\n",
    "\n",
    "\n",
    "def yazdir():\n",
    "    print(val)  #access global val\n",
    "\n",
    "def yazdir2():\n",
    "    val = 21    #local func variable\n",
    "    print(val)\n",
    "\n",
    "def globally():\n",
    "    global val\n",
    "    val = 34    #change global in module\n",
    "\n",
    "\n",
    "\n",
    "def enclosing_scope():\n",
    "    val = 55    #local in function\n",
    "    def enclosed():\n",
    "\n",
    "      \n",
    "\n",
    "        nonlocal val\n",
    "        val = 89    #change local in enclosing scope\n",
    "    \n",
    "        return(val)\n",
    "    \n",
    "    return enclosed()  # Calling enclosed() within enclosing_scope(), To make enclosed() accessible, you could either:Call enclosed() inside enclosing_scope() and return its result or Return enclosed itself from enclosing_scope() so that it can be called later\n",
    "\n",
    "\n"
   ]
  },
  {
   "cell_type": "code",
   "execution_count": 6,
   "metadata": {},
   "outputs": [
    {
     "name": "stdout",
     "output_type": "stream",
     "text": [
      "3\n"
     ]
    }
   ],
   "source": [
    "print(val)"
   ]
  },
  {
   "cell_type": "code",
   "execution_count": 7,
   "metadata": {},
   "outputs": [
    {
     "name": "stdout",
     "output_type": "stream",
     "text": [
      "21\n"
     ]
    }
   ],
   "source": [
    "yazdir2()"
   ]
  },
  {
   "cell_type": "code",
   "execution_count": 8,
   "metadata": {},
   "outputs": [
    {
     "name": "stdout",
     "output_type": "stream",
     "text": [
      "3\n"
     ]
    }
   ],
   "source": [
    "yazdir()"
   ]
  },
  {
   "cell_type": "code",
   "execution_count": 9,
   "metadata": {},
   "outputs": [
    {
     "data": {
      "text/plain": [
       "5"
      ]
     },
     "execution_count": 9,
     "metadata": {},
     "output_type": "execute_result"
    }
   ],
   "source": [
    "NameSpace.val"
   ]
  },
  {
   "cell_type": "code",
   "execution_count": 10,
   "metadata": {},
   "outputs": [
    {
     "data": {
      "text/plain": [
       "5"
      ]
     },
     "execution_count": 10,
     "metadata": {},
     "output_type": "execute_result"
    }
   ],
   "source": [
    "x = NameSpace()\n",
    "x.val"
   ]
  },
  {
   "cell_type": "code",
   "execution_count": 11,
   "metadata": {},
   "outputs": [
    {
     "name": "stdout",
     "output_type": "stream",
     "text": [
      "34\n"
     ]
    }
   ],
   "source": [
    "globally()\n",
    "print(val)"
   ]
  },
  {
   "cell_type": "code",
   "execution_count": 12,
   "metadata": {},
   "outputs": [
    {
     "data": {
      "text/plain": [
       "89"
      ]
     },
     "execution_count": 12,
     "metadata": {},
     "output_type": "execute_result"
    }
   ],
   "source": [
    "enclosing_scope()\n"
   ]
  },
  {
   "cell_type": "markdown",
   "metadata": {},
   "source": [
    "A Tree of Namespace Links\n"
   ]
  },
  {
   "cell_type": "code",
   "execution_count": null,
   "metadata": {},
   "outputs": [],
   "source": [
    "# a quick display of a physical class tree\n",
    "\n",
    "\"\"\"\n",
    "Climb inheritance trees using namespace links,\n",
    "displaying higher superclasses with indentation for height\n",
    "\"\"\"\n",
    "\n",
    "def klastree(cls, indent):\n",
    "    print(\".\" * indent + cls.__name__)\n",
    "    for supercls in cls.__bases__:\n",
    "        klastree(supercls, indent + 3)\n",
    "\n",
    "\n",
    "def instatree(insta):\n",
    "    print(f\"Tree of {insta}\")\n",
    "    klastree(insta.__class__, 3)\n",
    "\n",
    "\n",
    "\n",
    "def test_tree():\n",
    "    class A: pass\n",
    "    class B(A): pass\n",
    "    class C(A): pass\n",
    "    class D(B, C): pass\n",
    "    class E: pass\n",
    "    class F(D, E): pass\n",
    "\n",
    "    instatree(B())\n",
    "    instatree(F())\n"
   ]
  },
  {
   "cell_type": "code",
   "execution_count": 27,
   "metadata": {},
   "outputs": [
    {
     "name": "stdout",
     "output_type": "stream",
     "text": [
      "Tree of <__main__.test_tree.<locals>.B object at 0x71deec2a3110>\n",
      "...B\n",
      "......A\n",
      ".........object\n",
      "Tree of <__main__.test_tree.<locals>.F object at 0x71deec2a3110>\n",
      "...F\n",
      "......D\n",
      ".........B\n",
      "............A\n",
      "...............object\n",
      ".........C\n",
      "............A\n",
      "...............object\n",
      "......E\n",
      ".........object\n"
     ]
    }
   ],
   "source": [
    "test_tree()"
   ]
  },
  {
   "cell_type": "code",
   "execution_count": null,
   "metadata": {},
   "outputs": [
    {
     "data": {
      "text/plain": [
       "<__main__.F at 0x7b4f811edb50>"
      ]
     },
     "execution_count": 15,
     "metadata": {},
     "output_type": "execute_result"
    }
   ],
   "source": [
    "\n",
    "\"\"\"\n",
    "This code defines a set of classes with inheritance relationships and then prints information about each class, including its name and the classes it inherits from (its \"base classes\")\n",
    "\n",
    "\"\"\"\n",
    "\n",
    "\n",
    "class A: pass\n",
    "class B(A): pass\n",
    "class C(A): pass\n",
    "class D(B, C): pass\n",
    "class E: pass\n",
    "class F(D, E): pass\n",
    "F()\n",
    "\n",
    "\n",
    "\n",
    "\"\"\"\n",
    "This code demonstrates the structure and inheritance hierarchy among the defined classes. It effectively shows the relationships between the classes, especially in a multiple inheritance scenario. The use of __bases__ to display the base classes helps clarify the inheritance chain.\n",
    "\"\"\""
   ]
  },
  {
   "cell_type": "code",
   "execution_count": 16,
   "metadata": {},
   "outputs": [
    {
     "data": {
      "text/plain": [
       "['__class__',\n",
       " '__delattr__',\n",
       " '__dict__',\n",
       " '__dir__',\n",
       " '__doc__',\n",
       " '__eq__',\n",
       " '__format__',\n",
       " '__ge__',\n",
       " '__getattribute__',\n",
       " '__getstate__',\n",
       " '__gt__',\n",
       " '__hash__',\n",
       " '__init__',\n",
       " '__init_subclass__',\n",
       " '__le__',\n",
       " '__lt__',\n",
       " '__module__',\n",
       " '__ne__',\n",
       " '__new__',\n",
       " '__reduce__',\n",
       " '__reduce_ex__',\n",
       " '__repr__',\n",
       " '__setattr__',\n",
       " '__sizeof__',\n",
       " '__str__',\n",
       " '__subclasshook__',\n",
       " '__weakref__']"
      ]
     },
     "execution_count": 16,
     "metadata": {},
     "output_type": "execute_result"
    }
   ],
   "source": [
    "dir(F)"
   ]
  },
  {
   "cell_type": "code",
   "execution_count": 17,
   "metadata": {},
   "outputs": [
    {
     "data": {
      "text/plain": [
       "(__main__.D, __main__.E)"
      ]
     },
     "execution_count": 17,
     "metadata": {},
     "output_type": "execute_result"
    }
   ],
   "source": [
    "F.__bases__"
   ]
  },
  {
   "cell_type": "code",
   "execution_count": null,
   "metadata": {},
   "outputs": [
    {
     "name": "stdout",
     "output_type": "stream",
     "text": [
      "\n",
      " @ A class\n",
      "class A\n",
      "<class 'object'>\n",
      "\n",
      " @ B class\n",
      "class B\n",
      "<class '__main__.A'>\n",
      "\n",
      " @ C class\n",
      "class C\n",
      "<class '__main__.A'>\n",
      "\n",
      " @ D class\n",
      "class D\n",
      "<class '__main__.B'>\n",
      "<class '__main__.C'>\n",
      "\n",
      " @ E class\n",
      "class E\n",
      "<class 'object'>\n",
      "\n",
      " @ F class\n",
      "class F\n",
      "<class '__main__.D'>\n",
      "<class '__main__.E'>\n"
     ]
    }
   ],
   "source": [
    "\n",
    "\n",
    "\"\"\"\n",
    "Loop Over Each Class and Print Information\n",
    "and iterate over each class in the tuple\n",
    "\n",
    "\"\"\"\n",
    "\n",
    "#For each class (cl), it performs the following actions:\n",
    "for cl in (A, B, C, D, E, F):\n",
    "\n",
    "    #Prints the class name:It prints a separator line and the class name in a formatted string.\n",
    "    \n",
    "    print(\"\\n\", \"@\", cl.__name__, \"class\")  \n",
    "\n",
    "    print(\"class \"  + cl.__name__)     # simulates the class declaration by printing\n",
    "\n",
    "\n",
    "    for supercls in cl.__bases__:       #the line for supercls in cl.__bases__ iterates over the __bases__ attribute of each class, which contains a tuple of its base classes.\n",
    "        \n",
    "        print(supercls)                 #prints the base classes, \n",
    "    \n",
    "    \n",
    "    cl()                                #creates an instance of the class, though this instance is not assigned or used further. primarily done to verify that each class can be instantiated without errors.\n",
    "\n"
   ]
  },
  {
   "cell_type": "code",
   "execution_count": null,
   "metadata": {},
   "outputs": [],
   "source": []
  },
  {
   "cell_type": "code",
   "execution_count": null,
   "metadata": {},
   "outputs": [],
   "source": []
  }
 ],
 "metadata": {
  "kernelspec": {
   "display_name": "base",
   "language": "python",
   "name": "python3"
  },
  "language_info": {
   "codemirror_mode": {
    "name": "ipython",
    "version": 3
   },
   "file_extension": ".py",
   "mimetype": "text/x-python",
   "name": "python",
   "nbconvert_exporter": "python",
   "pygments_lexer": "ipython3",
   "version": "3.12.7"
  }
 },
 "nbformat": 4,
 "nbformat_minor": 2
}
