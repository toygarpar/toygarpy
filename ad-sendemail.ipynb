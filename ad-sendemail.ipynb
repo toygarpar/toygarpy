{
 "cells": [
  {
   "cell_type": "markdown",
   "metadata": {},
   "source": [
    "SEND EMAİL USING APP:BREVO:COM"
   ]
  },
  {
   "cell_type": "code",
   "execution_count": null,
   "metadata": {},
   "outputs": [
    {
     "name": "stdout",
     "output_type": "stream",
     "text": [
      "Eposta mesajı gönderildi!\n"
     ]
    }
   ],
   "source": [
    "import smtplib\n",
    "from email.mime.text import MIMEText\n",
    "\n",
    "\n",
    "\n",
    "\n",
    "port = 587\n",
    "smtp_server= \"smtp-relay.brevo.com\"\n",
    "login = \"8099e3001@smtp-brevo.com\"\n",
    "passwd = \"mEUrsNSnRc1wXLFt\"\n",
    "\n",
    "\n",
    "sender_email = \"toygar.par@gmail.com\"\n",
    "\n",
    "receiver_email = \"mr.flzrt@gmail.com\"\n",
    "\n",
    "#email_list = [\"abc@gmail.com, xyz@gmail.com\"]\n",
    "\n",
    "\n",
    "\n",
    "text = \"\"\" \n",
    "Selamun Hello Everyone,\n",
    "\n",
    "Bu eposta PYTHON uygulamasından gönderildi.\n",
    "\n",
    "\n",
    "\"\"\"\n",
    "\n",
    "\n",
    "message = MIMEText(text, \"plain\")\n",
    "\n",
    "message[\"Subject\"] = \"Merhaba\"\n",
    "message[\"From\"] = sender_email\n",
    "message[\"To\"] =  receiver_email\n",
    "\n",
    "#birden fazla kişiye göndermek için:\n",
    "#message[\"To\"] = \"abc@gmail.com, xyz@gmail.com\"\n",
    "#yada\n",
    "#message[\"To\"] = \",\".join(email_list)\n",
    "\n",
    "\n",
    "\n",
    "with smtplib.SMTP(smtp_server, port) as server:\n",
    "    server.starttls()\n",
    "    server.login(login,passwd)\n",
    "    server.sendmail( sender_email, receiver_email, message.as_string())\n",
    "\n",
    "\n",
    "\n",
    "print(\"Eposta mesajı gönderildi!\")\n",
    "\n"
   ]
  },
  {
   "cell_type": "code",
   "execution_count": null,
   "metadata": {},
   "outputs": [],
   "source": []
  }
 ],
 "metadata": {
  "kernelspec": {
   "display_name": "base",
   "language": "python",
   "name": "python3"
  },
  "language_info": {
   "codemirror_mode": {
    "name": "ipython",
    "version": 3
   },
   "file_extension": ".py",
   "mimetype": "text/x-python",
   "name": "python",
   "nbconvert_exporter": "python",
   "pygments_lexer": "ipython3",
   "version": "3.12.7"
  }
 },
 "nbformat": 4,
 "nbformat_minor": 2
}
