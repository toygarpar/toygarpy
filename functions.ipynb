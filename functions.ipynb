{
 "cells": [
  {
   "cell_type": "markdown",
   "metadata": {},
   "source": [
    "FUNCTIONS\n",
    "\n",
    "fonsiyonlar istek dahilinde belirli statementları gruplayarak bir programda bir kereden çok çalıştırılmayı bekleyen paketlenmiş prosedür halinde kod satırlarıdır.\n",
    "\n",
    "Tekrar tekrar kod yazmak yerine fonksiyonları kodlar ve o kod dizisi gerektiğinde fonksiyonu çağırırız.\n",
    "\n",
    "Procedural\n",
    "\n",
    "Sadece çağırıldığında çalıştırılır\n",
    "\n",
    "Dışarıdan parametreler gönderilebilir\n",
    "\n",
    "Zaman kazandırır, tekrarı engeller, copy - paste alternatifidir\n",
    "\n",
    "Daha temiz kod yazmamızı sağlar\n",
    "\n",
    "Built-in ve user-defined olarak ikiye ayrılırlar\n",
    "\n",
    "Güncelleme yapmak ve kodun değişmesi lazım olduğunda, bir çok yerde değişiklik yapmak yerine, fonksiyon kodunda değişiklik yaparak işimizi görürüz\n",
    "\n",
    "python'da def veya lambda yoluyla oluşturulur, tanımlanır\n",
    "\n",
    "python'da olan herşey gibi fonksiyonlarda bir nesnedir.\n",
    "\n",
    "return ve yield kullanılarak fonsiyon çağrısına iki yoldan sonuç / cevap verirler\n",
    "\n",
    "\n",
    "\n",
    "\n",
    "\n"
   ]
  },
  {
   "cell_type": "code",
   "execution_count": 4,
   "metadata": {},
   "outputs": [],
   "source": [
    "#fonksiyon tanımlama\n",
    "def selam():\n",
    "    print(\"Selamın  Hello!\")\n",
    "\n"
   ]
  },
  {
   "cell_type": "code",
   "execution_count": 2,
   "metadata": {},
   "outputs": [
    {
     "name": "stdout",
     "output_type": "stream",
     "text": [
      "Selamın  Hello!\n"
     ]
    }
   ],
   "source": [
    "selam()"
   ]
  },
  {
   "cell_type": "code",
   "execution_count": 5,
   "metadata": {},
   "outputs": [
    {
     "name": "stdout",
     "output_type": "stream",
     "text": [
      "Selamın  Hello!\n",
      "Selamın  Hello!\n",
      "Selamın  Hello!\n",
      "Selamın  Hello!\n",
      "Selamın  Hello!\n",
      "Selamın  Hello!\n",
      "Selamın  Hello!\n"
     ]
    }
   ],
   "source": [
    "for i in range(7):\n",
    "    selam()"
   ]
  },
  {
   "cell_type": "code",
   "execution_count": 6,
   "metadata": {},
   "outputs": [],
   "source": [
    "def toplam():\n",
    "    print(1 + 2)"
   ]
  },
  {
   "cell_type": "code",
   "execution_count": 7,
   "metadata": {},
   "outputs": [
    {
     "name": "stdout",
     "output_type": "stream",
     "text": [
      "3\n"
     ]
    }
   ],
   "source": [
    "toplam()"
   ]
  },
  {
   "cell_type": "code",
   "execution_count": 8,
   "metadata": {},
   "outputs": [],
   "source": [
    "a = 7\n",
    "b = 10\n",
    "def toplama():\n",
    "    print(a + b)"
   ]
  },
  {
   "cell_type": "code",
   "execution_count": 9,
   "metadata": {},
   "outputs": [
    {
     "name": "stdout",
     "output_type": "stream",
     "text": [
      "17\n"
     ]
    }
   ],
   "source": [
    "toplama()"
   ]
  },
  {
   "cell_type": "code",
   "execution_count": 10,
   "metadata": {},
   "outputs": [],
   "source": [
    "def toplama2():\n",
    "    a = 5\n",
    "    b = 6\n",
    "    print(a + b)"
   ]
  },
  {
   "cell_type": "code",
   "execution_count": 11,
   "metadata": {},
   "outputs": [
    {
     "name": "stdout",
     "output_type": "stream",
     "text": [
      "11\n"
     ]
    }
   ],
   "source": [
    "toplama2()"
   ]
  },
  {
   "cell_type": "code",
   "execution_count": 13,
   "metadata": {},
   "outputs": [],
   "source": [
    "#fonsiyondan değer geri döndürme\n",
    "def toplama3():\n",
    "    a = 5\n",
    "    b = 6\n",
    "    return (a + b)"
   ]
  },
  {
   "cell_type": "code",
   "execution_count": 14,
   "metadata": {},
   "outputs": [
    {
     "data": {
      "text/plain": [
       "11"
      ]
     },
     "execution_count": 14,
     "metadata": {},
     "output_type": "execute_result"
    }
   ],
   "source": [
    "toplama3()"
   ]
  },
  {
   "cell_type": "code",
   "execution_count": 15,
   "metadata": {},
   "outputs": [
    {
     "name": "stdout",
     "output_type": "stream",
     "text": [
      "11\n"
     ]
    }
   ],
   "source": [
    "res = toplama3()\n",
    "print(res)"
   ]
  },
  {
   "cell_type": "code",
   "execution_count": 21,
   "metadata": {},
   "outputs": [],
   "source": [
    "\n",
    "def year():\n",
    "    import datetime\n",
    "    return datetime.datetime.now().year\n",
    "\n",
    "\n",
    "def saat():\n",
    "    import datetime\n",
    "    return datetime.datetime.now().hour\n",
    "\n",
    "\n",
    "\n",
    "def yasHesapla():\n",
    "    bugun = year()\n",
    "    userbtd = int(input(\"doğum yılınızı giriniz: \"))\n",
    "    return bugun - userbtd\n",
    "\n",
    "\n",
    "def selamla():\n",
    "    if saat() < 12:\n",
    "        return \"Günaydın\"\n",
    "    else:\n",
    "        return \"Selamlar olsun\""
   ]
  },
  {
   "cell_type": "code",
   "execution_count": 23,
   "metadata": {},
   "outputs": [
    {
     "name": "stdout",
     "output_type": "stream",
     "text": [
      "Selamlar olsun , 50 yaşındasın\n"
     ]
    }
   ],
   "source": [
    "res2 = yasHesapla()\n",
    "res3 = selamla()\n",
    "print(f\"{res3} , {res2} yaşındasın\")"
   ]
  },
  {
   "cell_type": "code",
   "execution_count": 27,
   "metadata": {},
   "outputs": [],
   "source": [
    "#fonsiyona dışarıdan parametre gönderme\n",
    "\n",
    "\n",
    "def selamlama2(name):\n",
    "    print(f\"Selam {name}\")"
   ]
  },
  {
   "cell_type": "code",
   "execution_count": 28,
   "metadata": {},
   "outputs": [
    {
     "name": "stdout",
     "output_type": "stream",
     "text": [
      "Selam toygar\n"
     ]
    }
   ],
   "source": [
    "selamlama2(\"toygar\")"
   ]
  },
  {
   "cell_type": "code",
   "execution_count": 29,
   "metadata": {},
   "outputs": [],
   "source": [
    "def toplam(num1, num2):\n",
    "    return num1 + num2"
   ]
  },
  {
   "cell_type": "code",
   "execution_count": 30,
   "metadata": {},
   "outputs": [
    {
     "data": {
      "text/plain": [
       "3"
      ]
     },
     "execution_count": 30,
     "metadata": {},
     "output_type": "execute_result"
    }
   ],
   "source": [
    "toplam(1, 2)"
   ]
  },
  {
   "cell_type": "code",
   "execution_count": 47,
   "metadata": {},
   "outputs": [],
   "source": [
    "def year():\n",
    "    import datetime\n",
    "    return datetime.datetime.now().year\n",
    "\n",
    "def yasHesap(dogumyil):\n",
    "    return year() - dogumyil\n",
    "\n",
    "def emeklilikHesap(dogumyil, isim ):\n",
    "    yas = yasHesap(dogumyil)\n",
    "    kalanSure = 65 - yas\n",
    "\n",
    "    if kalanSure > 0:\n",
    "        return f\"{isim} emekliliğine {kalanSure} yıl kalmış.\"\n",
    "    else:\n",
    "        print(f\"{isim}, zaten emeklilik yaşı gelmiş! Üzerinden {abs(kalanSure)} yıl geçmiş.\")"
   ]
  },
  {
   "cell_type": "code",
   "execution_count": 48,
   "metadata": {},
   "outputs": [
    {
     "data": {
      "text/plain": [
       "50"
      ]
     },
     "execution_count": 48,
     "metadata": {},
     "output_type": "execute_result"
    }
   ],
   "source": [
    "yasHesap(1974)"
   ]
  },
  {
   "cell_type": "code",
   "execution_count": 50,
   "metadata": {},
   "outputs": [
    {
     "data": {
      "text/plain": [
       "'Toygar emekliliğine 15 yıl kalmış.'"
      ]
     },
     "execution_count": 50,
     "metadata": {},
     "output_type": "execute_result"
    }
   ],
   "source": [
    "emeklilikHesap(1974, \"Toygar\")"
   ]
  },
  {
   "cell_type": "code",
   "execution_count": 51,
   "metadata": {},
   "outputs": [
    {
     "name": "stdout",
     "output_type": "stream",
     "text": [
      "Toygar, zaten emeklilik yaşı gelmiş! Üzerinden 5 yıl geçmiş.\n"
     ]
    }
   ],
   "source": [
    "emeklilikHesap(1954, \"Toygar\")"
   ]
  },
  {
   "cell_type": "code",
   "execution_count": 54,
   "metadata": {},
   "outputs": [],
   "source": [
    "#gönderilen bir kelimeyi belirtilen kez ekranda yazdır\n",
    "def echo(kelime, kez):\n",
    "    print(kelime * kez)"
   ]
  },
  {
   "cell_type": "code",
   "execution_count": 56,
   "metadata": {},
   "outputs": [
    {
     "name": "stdout",
     "output_type": "stream",
     "text": [
      "alialiali\n"
     ]
    }
   ],
   "source": [
    "echo(\"ali\", 3)"
   ]
  },
  {
   "cell_type": "code",
   "execution_count": 95,
   "metadata": {},
   "outputs": [],
   "source": [
    "#dikdörtgenin alan ve çevresi\n",
    "\n",
    "def perimeter(a, b):\n",
    "    return 2 *( a+ b )\n",
    "\n",
    "def alan(a, b):\n",
    "    return a * b\n",
    "\n",
    "def calc(a,b):\n",
    "    cevre = perimeter(a, b)\n",
    "    area = alan(a, b)\n",
    "    return f\"Perimeter : {cevre}, Alan: {area}\""
   ]
  },
  {
   "cell_type": "code",
   "execution_count": 87,
   "metadata": {},
   "outputs": [
    {
     "data": {
      "text/plain": [
       "15"
      ]
     },
     "execution_count": 87,
     "metadata": {},
     "output_type": "execute_result"
    }
   ],
   "source": [
    "alan(3, 5)"
   ]
  },
  {
   "cell_type": "code",
   "execution_count": 88,
   "metadata": {},
   "outputs": [
    {
     "data": {
      "text/plain": [
       "16"
      ]
     },
     "execution_count": 88,
     "metadata": {},
     "output_type": "execute_result"
    }
   ],
   "source": [
    "perimeter(3, 5)"
   ]
  },
  {
   "cell_type": "code",
   "execution_count": 96,
   "metadata": {},
   "outputs": [
    {
     "data": {
      "text/plain": [
       "'Perimeter : 16, Alan: 15'"
      ]
     },
     "execution_count": 96,
     "metadata": {},
     "output_type": "execute_result"
    }
   ],
   "source": [
    "calc(3,5)"
   ]
  },
  {
   "cell_type": "code",
   "execution_count": 82,
   "metadata": {},
   "outputs": [
    {
     "data": {
      "text/plain": [
       "'yazı'"
      ]
     },
     "execution_count": 82,
     "metadata": {},
     "output_type": "execute_result"
    }
   ],
   "source": [
    "#random modülü, yazı tura fonksiyonu\n",
    "def yazitura():\n",
    "    import random\n",
    "    sec = [\"yazı\", \"tura\"]\n",
    "    x = random.choice(sec)\n",
    "    return x\n",
    "\n",
    "yazitura()"
   ]
  },
  {
   "cell_type": "code",
   "execution_count": 84,
   "metadata": {},
   "outputs": [
    {
     "data": {
      "text/plain": [
       "'Tails'"
      ]
     },
     "execution_count": 84,
     "metadata": {},
     "output_type": "execute_result"
    }
   ],
   "source": [
    "def headTail():\n",
    "    import random\n",
    "    num = random.random()\n",
    "\n",
    "    if num >= 0.5:\n",
    "        return (\"Heads\")\n",
    "    else:\n",
    "        return (\"Tails\")\n",
    "    \n",
    "headTail()"
   ]
  },
  {
   "cell_type": "code",
   "execution_count": 37,
   "metadata": {},
   "outputs": [
    {
     "name": "stdout",
     "output_type": "stream",
     "text": [
      "[23, 29, 31, 37, 41, 43, 47, 53, 59, 61, 67, 71, 73, 79, 83, 89, 97]\n"
     ]
    }
   ],
   "source": [
    "#gönderilen iki sayı arasındaki tüm asal sayıları bulun, asal sayılar ancak 1 ve kendilerine bölünebilirler\n",
    "asalliste =[]\n",
    "\n",
    "\n",
    "def asal(n , m):\n",
    "    \n",
    "    \n",
    "    for i in range(n,  m+1):\n",
    "        \n",
    "\n",
    "        if  i > 1:\n",
    "\n",
    "            for j in range(2, i): #kendisine kadar olan sayıları kendisine bölüceğiz\n",
    "\n",
    "                if i % j == 0:\n",
    "                    break\n",
    "            else:   #else for döngüsünden sonra çalışır, eğer döngü break olursa else çalışmaz\n",
    "                asalliste.append(i)\n",
    "        i += 1\n",
    "    return asalliste\n",
    "        \n",
    "\n",
    "\n",
    "print(asal(20, 100))\n",
    "\n"
   ]
  },
  {
   "cell_type": "code",
   "execution_count": 2,
   "metadata": {},
   "outputs": [
    {
     "data": {
      "text/plain": [
       "False"
      ]
     },
     "execution_count": 2,
     "metadata": {},
     "output_type": "execute_result"
    }
   ],
   "source": [
    "str1 = \"abc\"\n",
    "str2 = str1\n",
    "str1 += \"d\"\n",
    "\n",
    "str1 is str2"
   ]
  },
  {
   "cell_type": "code",
   "execution_count": 3,
   "metadata": {},
   "outputs": [
    {
     "data": {
      "text/plain": [
       "'abcd'"
      ]
     },
     "execution_count": 3,
     "metadata": {},
     "output_type": "execute_result"
    }
   ],
   "source": [
    "str1"
   ]
  },
  {
   "cell_type": "code",
   "execution_count": 4,
   "metadata": {},
   "outputs": [
    {
     "data": {
      "text/plain": [
       "'abc'"
      ]
     },
     "execution_count": 4,
     "metadata": {},
     "output_type": "execute_result"
    }
   ],
   "source": [
    "str2"
   ]
  },
  {
   "cell_type": "code",
   "execution_count": 38,
   "metadata": {},
   "outputs": [
    {
     "name": "stdout",
     "output_type": "stream",
     "text": [
      "11\n",
      "13\n",
      "17\n",
      "19\n"
     ]
    }
   ],
   "source": [
    "def asalSayilariBul(sayi1, sayi2):\n",
    "    for sayi in range(sayi1, sayi2 +1):\n",
    "        if sayi > 1:\n",
    "            for i in range(2, sayi):\n",
    "                if sayi % i == 0:\n",
    "                    break\n",
    "            else:\n",
    "                print(sayi)\n",
    "\n",
    "asalSayilariBul(10 , 20 )"
   ]
  },
  {
   "cell_type": "code",
   "execution_count": 40,
   "metadata": {},
   "outputs": [
    {
     "name": "stdout",
     "output_type": "stream",
     "text": [
      "2 3 5 7 11 13 17 19 23 29 31 37 41 43 47 53 59 61 67\n"
     ]
    }
   ],
   "source": [
    "def asalgen(num):\n",
    "    \"\"\"verilen sayıya kadar asal sayı oluşturma\"\"\"\n",
    "    primes = set()\n",
    "    for n in range(2, num):\n",
    "        if all(n % p > 0 for p in primes):\n",
    "            primes.add(n)\n",
    "            yield n\n",
    "\n",
    "print(*asalgen(70))"
   ]
  },
  {
   "cell_type": "code",
   "execution_count": 6,
   "metadata": {},
   "outputs": [
    {
     "data": {
      "text/plain": [
       "[2,\n",
       " 3,\n",
       " 5,\n",
       " 7,\n",
       " 11,\n",
       " 13,\n",
       " 17,\n",
       " 19,\n",
       " 23,\n",
       " 29,\n",
       " 31,\n",
       " 37,\n",
       " 41,\n",
       " 43,\n",
       " 47,\n",
       " 53,\n",
       " 59,\n",
       " 61,\n",
       " 67,\n",
       " 71,\n",
       " 73,\n",
       " 79,\n",
       " 83,\n",
       " 89,\n",
       " 97]"
      ]
     },
     "execution_count": 6,
     "metadata": {},
     "output_type": "execute_result"
    }
   ],
   "source": [
    "#yet another version using filter and lambda func\n",
    "\n",
    "asallar = list(filter(lambda x: all(x % y !=0  for y in range(2, x)), range(2, 100)))\n",
    "\n",
    "asallar"
   ]
  },
  {
   "cell_type": "code",
   "execution_count": 7,
   "metadata": {},
   "outputs": [
    {
     "name": "stdout",
     "output_type": "stream",
     "text": [
      "Prime numbers in the range: [11, 13, 17, 19, 23, 29, 31, 37, 41, 43, 47, 53, 59, 61, 67, 71, 73, 79, 83, 89, 97]\n"
     ]
    }
   ],
   "source": [
    "# Get two inputs from the user\n",
    "start = int(input(\"Enter the start of the range: \"))\n",
    "end = int(input(\"Enter the end of the range: \"))\n",
    "\n",
    "# Filter to find prime numbers between 'start' and 'end'\n",
    "prime_numbers = list(filter(lambda x: all(x % y != 0 for y in range(2, x)), range(start, end)))\n",
    "\n",
    "# Print the list of prime numbers\n",
    "print(\"Prime numbers in the range:\", prime_numbers)\n"
   ]
  },
  {
   "cell_type": "code",
   "execution_count": 42,
   "metadata": {},
   "outputs": [
    {
     "data": {
      "text/plain": [
       "[3, 9]"
      ]
     },
     "execution_count": 42,
     "metadata": {},
     "output_type": "execute_result"
    }
   ],
   "source": [
    "#kendisine verilen sayının tam bölenlerini bir liste şeklinde döndüren fonksiyon\n",
    "\n",
    "def tam(num):\n",
    "    tambolenler = []\n",
    "\n",
    "    for i in range (2, num):\n",
    "        if num % i == 0:\n",
    "            tambolenler.append(i)\n",
    "\n",
    "    return tambolenler\n",
    "\n",
    "tam(27)"
   ]
  },
  {
   "cell_type": "markdown",
   "metadata": {},
   "source": [
    "DEFAULT PARAMETERS\n",
    "\n",
    "\n",
    "    "
   ]
  },
  {
   "cell_type": "code",
   "execution_count": 43,
   "metadata": {},
   "outputs": [
    {
     "data": {
      "text/plain": [
       "'Selam  Toygar'"
      ]
     },
     "execution_count": 43,
     "metadata": {},
     "output_type": "execute_result"
    }
   ],
   "source": [
    "def selam(isim, mesaj):\n",
    "    return f\"{mesaj}  {isim}\"\n",
    "\n",
    "\n",
    "\n",
    "selam(\"Toygar\", \"Selam\")"
   ]
  },
  {
   "cell_type": "code",
   "execution_count": 44,
   "metadata": {},
   "outputs": [
    {
     "data": {
      "text/plain": [
       "'Selam  Toygar'"
      ]
     },
     "execution_count": 44,
     "metadata": {},
     "output_type": "execute_result"
    }
   ],
   "source": [
    "def selam(isim, mesaj=\"Selam\"):  #selamı default larak gönderiyoruz\n",
    "    return f\"{mesaj}  {isim}\"\n",
    "\n",
    "\n",
    "\n",
    "selam(\"Toygar\")"
   ]
  },
  {
   "cell_type": "code",
   "execution_count": 45,
   "metadata": {},
   "outputs": [
    {
     "data": {
      "text/plain": [
       "8"
      ]
     },
     "execution_count": 45,
     "metadata": {},
     "output_type": "execute_result"
    }
   ],
   "source": [
    "def usAL(taban, us):\n",
    "    return taban ** us\n",
    "\n",
    "usAL(2, 3)"
   ]
  },
  {
   "cell_type": "code",
   "execution_count": 46,
   "metadata": {},
   "outputs": [
    {
     "data": {
      "text/plain": [
       "81"
      ]
     },
     "execution_count": 46,
     "metadata": {},
     "output_type": "execute_result"
    }
   ],
   "source": [
    "def kareAL(taban, us=2):\n",
    "    return taban ** us\n",
    "\n",
    "\n",
    "kareAL(9)"
   ]
  },
  {
   "cell_type": "code",
   "execution_count": 47,
   "metadata": {},
   "outputs": [],
   "source": [
    "def toplam(a, b):\n",
    "    return a + b\n",
    "\n",
    "def cıkarma(a, b):\n",
    "    return a - b\n",
    "\n",
    "def islem(a, b):\n",
    "    sec = input(\"Toplam veya Çıkarma: t/ç\")\n",
    "    if sec == \"t\":\n",
    "        return toplam(a, b)\n",
    "    elif sec == \"ç\":\n",
    "        return cıkarma(a, b)\n",
    "    \n",
    "\n",
    "\n",
    "    "
   ]
  },
  {
   "cell_type": "code",
   "execution_count": 48,
   "metadata": {},
   "outputs": [
    {
     "data": {
      "text/plain": [
       "80"
      ]
     },
     "execution_count": 48,
     "metadata": {},
     "output_type": "execute_result"
    }
   ],
   "source": [
    "islem(30, 50)"
   ]
  },
  {
   "cell_type": "code",
   "execution_count": 51,
   "metadata": {},
   "outputs": [],
   "source": [
    "def toplam(a, b):\n",
    "    return a + b\n",
    "\n",
    "def cıkarma(a, b):\n",
    "    return a - b\n",
    "\n",
    "def islem(a, b, fn = toplam):  #fonksiyon referansı göndererek işlem seçme\n",
    "    return fn(a, b)"
   ]
  },
  {
   "cell_type": "code",
   "execution_count": 52,
   "metadata": {},
   "outputs": [
    {
     "data": {
      "text/plain": [
       "-20"
      ]
     },
     "execution_count": 52,
     "metadata": {},
     "output_type": "execute_result"
    }
   ],
   "source": [
    "islem(30, 50, cıkarma)"
   ]
  },
  {
   "cell_type": "markdown",
   "metadata": {},
   "source": [
    "KEYWORD ARGUMENTS\n",
    "\n",
    "isimlendirilmiş parametreler nasıl kullanılır"
   ]
  },
  {
   "cell_type": "code",
   "execution_count": 53,
   "metadata": {},
   "outputs": [],
   "source": [
    "def adSoyad(fname, lname):\n",
    "    return f\"Ad, Soyad: {fname} {lname}\""
   ]
  },
  {
   "cell_type": "code",
   "execution_count": 54,
   "metadata": {},
   "outputs": [
    {
     "data": {
      "text/plain": [
       "'Ad, Soyad: Toygar Par'"
      ]
     },
     "execution_count": 54,
     "metadata": {},
     "output_type": "execute_result"
    }
   ],
   "source": [
    "adSoyad(\"Toygar\", \"Par\")"
   ]
  },
  {
   "cell_type": "code",
   "execution_count": 55,
   "metadata": {},
   "outputs": [
    {
     "data": {
      "text/plain": [
       "'Ad, Soyad: Toygar Par'"
      ]
     },
     "execution_count": 55,
     "metadata": {},
     "output_type": "execute_result"
    }
   ],
   "source": [
    "adSoyad(lname = \"Par\", fname = \"Toygar\")"
   ]
  },
  {
   "cell_type": "code",
   "execution_count": 58,
   "metadata": {},
   "outputs": [],
   "source": [
    "def adSoyad2(fname : str, lname: str, age : int) -> str:   #define parameter and return  type\n",
    "    return f\"Ad, Soyad: {fname} {lname} {age}\""
   ]
  },
  {
   "cell_type": "code",
   "execution_count": 59,
   "metadata": {},
   "outputs": [
    {
     "data": {
      "text/plain": [
       "'Ad, Soyad: Toygar Par 50'"
      ]
     },
     "execution_count": 59,
     "metadata": {},
     "output_type": "execute_result"
    }
   ],
   "source": [
    "adSoyad2(\"Toygar\", \"Par\", 50)"
   ]
  },
  {
   "cell_type": "markdown",
   "metadata": {},
   "source": [
    "DEĞİŞKEN SAYIDA PARAMETRE - ARGS"
   ]
  },
  {
   "cell_type": "code",
   "execution_count": 60,
   "metadata": {},
   "outputs": [],
   "source": [
    "sayilar = (1, 2, 3, 4, 5)\n"
   ]
  },
  {
   "cell_type": "code",
   "execution_count": 63,
   "metadata": {},
   "outputs": [],
   "source": [
    "def toplam(liste):  #listedeki elementleri topla\n",
    "    res = 0\n",
    "    for i in liste:\n",
    "        res += i\n",
    "\n",
    "    return res\n",
    "\n",
    "\n"
   ]
  },
  {
   "cell_type": "code",
   "execution_count": 64,
   "metadata": {},
   "outputs": [
    {
     "data": {
      "text/plain": [
       "15"
      ]
     },
     "execution_count": 64,
     "metadata": {},
     "output_type": "execute_result"
    }
   ],
   "source": [
    "toplam(sayilar)"
   ]
  },
  {
   "cell_type": "code",
   "execution_count": 85,
   "metadata": {},
   "outputs": [],
   "source": [
    "def sumitup(*args):\n",
    "    print(*args)\n",
    "    print(type(args))\n",
    "    res1 = 0\n",
    "    for i in args:\n",
    "        res1 += i\n",
    "\n",
    "    return f\"Değişken parametre input: {args}, değişken parametre inputların toplamı: {res1}\"\n",
    "    "
   ]
  },
  {
   "cell_type": "code",
   "execution_count": 86,
   "metadata": {},
   "outputs": [
    {
     "name": "stdout",
     "output_type": "stream",
     "text": [
      "10 20 30 40 50\n",
      "<class 'tuple'>\n"
     ]
    },
    {
     "data": {
      "text/plain": [
       "'Değişken parametre input: (10, 20, 30, 40, 50), değiken parametre inputların toplamı: 150'"
      ]
     },
     "execution_count": 86,
     "metadata": {},
     "output_type": "execute_result"
    }
   ],
   "source": [
    "sumitup(10, 20 ,30 ,40 ,50)"
   ]
  },
  {
   "cell_type": "markdown",
   "metadata": {},
   "source": [
    "DEĞİŞKEN SAYIDA PARAMETRE - KWARGS"
   ]
  },
  {
   "cell_type": "code",
   "execution_count": 106,
   "metadata": {},
   "outputs": [],
   "source": [
    "def userinfo(**kwargs):\n",
    "    print(type(kwargs))\n",
    "    print(kwargs)\n",
    "    for x, y in kwargs.items():\n",
    "        print(f\" {x}: {y}\")\n"
   ]
  },
  {
   "cell_type": "code",
   "execution_count": 107,
   "metadata": {},
   "outputs": [
    {
     "name": "stdout",
     "output_type": "stream",
     "text": [
      "<class 'dict'>\n",
      "{}\n"
     ]
    }
   ],
   "source": [
    "userinfo()"
   ]
  },
  {
   "cell_type": "code",
   "execution_count": 108,
   "metadata": {},
   "outputs": [
    {
     "name": "stdout",
     "output_type": "stream",
     "text": [
      "<class 'dict'>\n",
      "{'username': 'toygarpar', 'password': 'passwd', 'email': 'toygar@par.com'}\n",
      " username: toygarpar\n",
      " password: passwd\n",
      " email: toygar@par.com\n"
     ]
    }
   ],
   "source": [
    "userinfo(username = \"toygarpar\", password = \"passwd\", email = \"toygar@par.com\")"
   ]
  },
  {
   "cell_type": "code",
   "execution_count": 114,
   "metadata": {},
   "outputs": [],
   "source": [
    "def fonk(a, b, *c, **d):\n",
    "    print(f\"a: {a} /// b: {b} /// c: {c} /// d: {d}\")"
   ]
  },
  {
   "cell_type": "code",
   "execution_count": 115,
   "metadata": {},
   "outputs": [
    {
     "name": "stdout",
     "output_type": "stream",
     "text": [
      "a: 1 /// b: 2 /// c: (3, 4, 5, [6, 7], {8: 9, 10: 11}) /// d: {'key1': 12, 'key2': 13, 'key3': 14}\n"
     ]
    }
   ],
   "source": [
    "fonk(1 ,2, 3, 4, 5,[6, 7], {8:9, 10:11}, key1 = 12, key2 = 13, key3 = 14)"
   ]
  },
  {
   "cell_type": "markdown",
   "metadata": {},
   "source": [
    "SCOPES - GLOBAL AND LOCAL"
   ]
  },
  {
   "cell_type": "code",
   "execution_count": 118,
   "metadata": {},
   "outputs": [
    {
     "name": "stdout",
     "output_type": "stream",
     "text": [
      "global\n",
      "local\n"
     ]
    }
   ],
   "source": [
    "x = \"global\"\n",
    "\n",
    "def scope():\n",
    "    x = \"local\"\n",
    "    print(x)\n",
    "\n",
    "print(x)\n",
    "scope()"
   ]
  },
  {
   "cell_type": "code",
   "execution_count": 120,
   "metadata": {},
   "outputs": [
    {
     "name": "stdout",
     "output_type": "stream",
     "text": [
      "Kendall Kipp\n",
      "Marina Markova\n"
     ]
    }
   ],
   "source": [
    "player = \"Marina Markova\"\n",
    "\n",
    "def change_player(newplayer):\n",
    "    player = newplayer\n",
    "    print(player)\n",
    "\n",
    "change_player(\"Kendall Kipp\")\n",
    "print(player)"
   ]
  },
  {
   "cell_type": "code",
   "execution_count": 121,
   "metadata": {},
   "outputs": [
    {
     "name": "stdout",
     "output_type": "stream",
     "text": [
      "Kendall Kipp\n",
      "Kendall Kipp\n"
     ]
    }
   ],
   "source": [
    "player = \"Marina Markova\"\n",
    "\n",
    "def change_player(newplayer):\n",
    "    global player\n",
    "    player = newplayer\n",
    "    print(player)\n",
    "\n",
    "change_player(\"Kendall Kipp\")\n",
    "print(player)"
   ]
  },
  {
   "cell_type": "code",
   "execution_count": 124,
   "metadata": {},
   "outputs": [
    {
     "name": "stdout",
     "output_type": "stream",
     "text": [
      "Merhaba Böçüş\n"
     ]
    }
   ],
   "source": [
    "isim = \"Taco\"\n",
    "\n",
    "def selam():\n",
    "    isim = \"Toygar\"\n",
    "\n",
    "    def merhaba():\n",
    "        isim = \"Böçüş\"\n",
    "        print(\"Merhaba\", isim)\n",
    "\n",
    "    merhaba()\n",
    "\n",
    "selam()"
   ]
  },
  {
   "cell_type": "code",
   "execution_count": 125,
   "metadata": {},
   "outputs": [
    {
     "name": "stdout",
     "output_type": "stream",
     "text": [
      "Merhaba Toygar\n"
     ]
    }
   ],
   "source": [
    "isim = \"Taco\"\n",
    "\n",
    "def selam():\n",
    "    isim = \"Toygar\"\n",
    "\n",
    "    def merhaba():\n",
    "        #isim = \"Böçüş\"\n",
    "        print(\"Merhaba\", isim)\n",
    "\n",
    "    merhaba()\n",
    "\n",
    "selam()"
   ]
  },
  {
   "cell_type": "code",
   "execution_count": 127,
   "metadata": {},
   "outputs": [
    {
     "name": "stdout",
     "output_type": "stream",
     "text": [
      "a: 5\n",
      "a değişti: 10\n",
      "5\n"
     ]
    }
   ],
   "source": [
    "a = 5\n",
    "\n",
    "def test(a):\n",
    "    print(f\"a: {a}\")\n",
    "\n",
    "    a = 10\n",
    "    print(f\"a değişti: {a}\")\n",
    "\n",
    "\n",
    "test(a)\n",
    "print(a)"
   ]
  },
  {
   "cell_type": "code",
   "execution_count": 132,
   "metadata": {},
   "outputs": [
    {
     "name": "stdout",
     "output_type": "stream",
     "text": [
      "a: 5\n",
      "a değişti: 10\n",
      "10\n"
     ]
    }
   ],
   "source": [
    "a = 5\n",
    "\n",
    "def test():\n",
    "    global a\n",
    "    print(f\"a: {a}\")\n",
    "\n",
    "    a = 10\n",
    "    print(f\"a değişti: {a}\")\n",
    "\n",
    "\n",
    "test()\n",
    "print(a)"
   ]
  },
  {
   "cell_type": "code",
   "execution_count": null,
   "metadata": {},
   "outputs": [],
   "source": []
  }
 ],
 "metadata": {
  "kernelspec": {
   "display_name": "base",
   "language": "python",
   "name": "python3"
  },
  "language_info": {
   "codemirror_mode": {
    "name": "ipython",
    "version": 3
   },
   "file_extension": ".py",
   "mimetype": "text/x-python",
   "name": "python",
   "nbconvert_exporter": "python",
   "pygments_lexer": "ipython3",
   "version": "3.12.4"
  }
 },
 "nbformat": 4,
 "nbformat_minor": 2
}
