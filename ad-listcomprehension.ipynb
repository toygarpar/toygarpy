{
 "cells": [
  {
   "cell_type": "markdown",
   "metadata": {},
   "source": [
    "LİST COMPREHENSION\n",
    "\n",
    "liste = []\n",
    "\n",
    "for i in iterable:\n",
    "    liste.append(i)\n",
    "\n",
    "```liste = [expression for item in iterable]```\n",
    "\n",
    "list comprehensions are one of the most prominent contexts in which the iteration protocol is applied.\n",
    "\n",
    "The list comprehension isn’t exactly the same as the for loop statement version because it makes a new list object\n",
    "\n",
    "applies an operation to each item in a set\n",
    "\n",
    "List comprehensions are written in square brackets because they are ultimately a way to construct a new list\n",
    "\n",
    "\n",
    "liste = [x * 2 for x in liste]\n",
    "\n",
    "They begin with an arbitrary expression that we make up, which uses a loop variable that we make up (x * 2*). That is followed by what you should now recognize as the header of a for loop, which names the loop variable, and an iterable object (for x in liste).\n",
    "\n",
    "To run the expression, Python executes an iteration across liste inside the interpreter, assigning x to each item in turn, and collects the results of running the items through the expression on the left side."
   ]
  },
  {
   "cell_type": "code",
   "execution_count": 3,
   "metadata": {},
   "outputs": [
    {
     "name": "stdout",
     "output_type": "stream",
     "text": [
      "[0, 1, 2, 3, 4]\n"
     ]
    }
   ],
   "source": [
    "liste = []\n",
    "for i in range(5):\n",
    "    liste.append(i)\n",
    "print(liste)"
   ]
  },
  {
   "cell_type": "code",
   "execution_count": 4,
   "metadata": {},
   "outputs": [
    {
     "name": "stdout",
     "output_type": "stream",
     "text": [
      "[0, 1, 2, 3, 4]\n"
     ]
    }
   ],
   "source": [
    "#yukardaki for loop'un list comprehension karşılığı\n",
    "liste = [ x for x in range(5)]\n",
    "\n",
    "print(liste)"
   ]
  },
  {
   "cell_type": "code",
   "execution_count": 6,
   "metadata": {},
   "outputs": [
    {
     "name": "stdout",
     "output_type": "stream",
     "text": [
      "nums:  [0, 1, 2, 3, 4, 5, 6, 7, 8, 9]\n",
      "nums2:  [0, 1, 2, 3, 4, 5, 6, 7, 8, 9]\n"
     ]
    }
   ],
   "source": [
    "nums = []\n",
    "\n",
    "for i in range(10):\n",
    "    nums.append(i)\n",
    "\n",
    "print(\"nums: \", nums)\n",
    "\n",
    "nums2 = [ i for i in range(10)]\n",
    "\n",
    "print(\"nums2: \", nums2)"
   ]
  },
  {
   "cell_type": "code",
   "execution_count": 9,
   "metadata": {},
   "outputs": [
    {
     "name": "stdout",
     "output_type": "stream",
     "text": [
      "T O Y G A R P Y L I B R A R Y "
     ]
    }
   ],
   "source": [
    "lib = \"ToygarPyLibrary\"\n",
    "\n",
    "for x in lib:\n",
    "    print(x.upper(), end= \" \")"
   ]
  },
  {
   "cell_type": "code",
   "execution_count": 10,
   "metadata": {},
   "outputs": [
    {
     "name": "stdout",
     "output_type": "stream",
     "text": [
      "['T', 'O', 'Y', 'G', 'A', 'R', 'P', 'Y', 'L', 'I', 'B', 'R', 'A', 'R', 'Y']\n"
     ]
    }
   ],
   "source": [
    "lib1 = [ x.upper() for x in lib]\n",
    "\n",
    "print(lib1)"
   ]
  },
  {
   "cell_type": "markdown",
   "metadata": {},
   "source": [
    "KOŞULLU DURUMLARI / CONDITIONALS İN LİST COMPPREHENSION\n",
    "\n",
    "for i in liste:\n",
    "    if(condition):\n",
    "        expression\n",
    "\n",
    "```[expression for i in liste if condition]```\n",
    "\n",
    "- if used here filters out the expression, conditional on the iterator"
   ]
  },
  {
   "cell_type": "code",
   "execution_count": 34,
   "metadata": {},
   "outputs": [],
   "source": [
    "nums = [1, 3, 5, 7, 4, 45, 33, 44, 88]\n",
    "\n",
    "result = []"
   ]
  },
  {
   "cell_type": "code",
   "execution_count": 14,
   "metadata": {},
   "outputs": [
    {
     "name": "stdout",
     "output_type": "stream",
     "text": [
      "[4, 44, 88]\n"
     ]
    }
   ],
   "source": [
    "for i in nums:\n",
    "    if i % 2 == 0:\n",
    "        result.append(i)\n",
    "\n",
    "print(result)"
   ]
  },
  {
   "cell_type": "markdown",
   "metadata": {},
   "source": [
    "Filter Clauses : If\n",
    "\n",
    "the for loop nested in a comprehension expression can have an associated if clause to filter out of the result items for which the test is not true"
   ]
  },
  {
   "cell_type": "code",
   "execution_count": 27,
   "metadata": {},
   "outputs": [
    {
     "name": "stdout",
     "output_type": "stream",
     "text": [
      "[\"output = open(r'C:\\\\data', 'w')  - Create output file ('w' means write)\", 'output.write(aString)    - Write a string of characters (or bytes) into file', 'output.writelines(aList)  -   Write all line strings in a list into file', 'output.close()  - Manual close', 'output.flush()  - Flush output buffer to disk without closing', \"open('f.txt', encoding='latin-1') - Python 3.X Unicode text files (str strings)\", \"open('f.bin', 'rb') - Python 3.X bytes files (bytes strings)\"]\n"
     ]
    }
   ],
   "source": [
    "with open(\"deneme.txt\") as file:\n",
    "    lines = file.readlines()\n",
    "\n",
    "res4 = [x.rstrip() for x in lines if x[0] == \"o\"]\n",
    "\n",
    "print(res4)"
   ]
  },
  {
   "cell_type": "code",
   "execution_count": 16,
   "metadata": {},
   "outputs": [
    {
     "name": "stdout",
     "output_type": "stream",
     "text": [
      "[4, 44, 88]\n"
     ]
    }
   ],
   "source": [
    "result1 = [ x for x in nums if x %2 == 0]   #filters out numbers in list divisible by 2\n",
    "\n",
    "print(result1)"
   ]
  },
  {
   "cell_type": "code",
   "execution_count": 19,
   "metadata": {},
   "outputs": [
    {
     "name": "stdout",
     "output_type": "stream",
     "text": [
      "[1, 3, 5, 7, False, 45, 33, False, False]\n"
     ]
    }
   ],
   "source": [
    "#if else kullanıp determine what to include in the list\n",
    "res1 = [ x if x % 2 else not x for x in nums]\n",
    "print(res1)"
   ]
  },
  {
   "cell_type": "code",
   "execution_count": 39,
   "metadata": {},
   "outputs": [
    {
     "name": "stdout",
     "output_type": "stream",
     "text": [
      "['tek sayı', 'tek sayı', 'tek sayı', 'tek sayı', 4, 'tek sayı', 'tek sayı', 44, 88]\n",
      "[1, 3, 5, 7, 'çift sayı', 45, 33, 'çift sayı', 'çift sayı']\n"
     ]
    }
   ],
   "source": [
    " #conditional on the value, bütün değerler gelsin, farklı işlemler yapabileyim\n",
    "\n",
    "res2 = [ x if x % 2 == 0 else \"tek sayı\"  for x in nums]   \n",
    "res2_2 = [ x if x % 2  else \"çift sayı\"  for x in nums]   #if clause'da truthy=1 falsy=0 değerlerini alarak\n",
    "print(res2)\n",
    "print(res2_2)"
   ]
  },
  {
   "cell_type": "code",
   "execution_count": 23,
   "metadata": {},
   "outputs": [
    {
     "name": "stdout",
     "output_type": "stream",
     "text": [
      "[1, 3, 5, 7, 45, 33]\n"
     ]
    }
   ],
   "source": [
    "#if else and if kullanıp determine what to include and filter out\n",
    "res3 = [ x if x % 2 else not x for x in nums if x % 2]\n",
    "print(res3)"
   ]
  },
  {
   "cell_type": "code",
   "execution_count": 28,
   "metadata": {},
   "outputs": [
    {
     "name": "stdout",
     "output_type": "stream",
     "text": [
      "['A1', 'A2', 'A3', 'B1', 'B2', 'B3', 'C1', 'C2', 'C3']\n"
     ]
    }
   ],
   "source": [
    "#nested loops\n",
    "\n",
    "res5 = []\n",
    "\n",
    "for i in \"ABC\":\n",
    "    for j in \"123\":\n",
    "        res5.append(i + j)\n",
    "\n",
    "\n",
    "print(res5)"
   ]
  },
  {
   "cell_type": "code",
   "execution_count": 31,
   "metadata": {},
   "outputs": [
    {
     "name": "stdout",
     "output_type": "stream",
     "text": [
      "['A3', 'B3', 'C3']\n",
      "['A1', 'A2', 'A3', 'B1', 'B2', 'B3', 'C1', 'C2', 'C3']\n"
     ]
    }
   ],
   "source": [
    "#nested loops in list comprehension allows for any number of for clauses, each of which can have an optional associated if clause.\n",
    "res6 = [ i + j for i in \"ABC\" for j in \"123\" if j == \"3\"]\n",
    "res7 = [ i + j for i in \"ABC\" for j in \"123\" ]\n",
    "\n",
    "\n",
    "print(res6)\n",
    "print(res7)"
   ]
  },
  {
   "cell_type": "markdown",
   "metadata": {},
   "source": [
    "List comprehensions with if clauses can be thought of as analogous to the filter built, they skip an iterable’s items for which the if clause is not true."
   ]
  },
  {
   "cell_type": "code",
   "execution_count": 43,
   "metadata": {},
   "outputs": [
    {
     "name": "stdout",
     "output_type": "stream",
     "text": [
      "[210.00000000000003, 280.0, 350.00000000000006, 420.00000000000006]\n"
     ]
    }
   ],
   "source": [
    "prices = [ 3000, 4000, 5000, 0, 6000]\n",
    "\n",
    "taxes = [ ]\n",
    "\n",
    "for urun in prices:\n",
    "    if urun > 0:\n",
    "        taxes.append(urun * 0.07)\n",
    "\n",
    "\n",
    "print(taxes)"
   ]
  },
  {
   "cell_type": "code",
   "execution_count": 48,
   "metadata": {},
   "outputs": [
    {
     "name": "stdout",
     "output_type": "stream",
     "text": [
      "[210.00000000000003, 280.0, 350.00000000000006, 420.00000000000006]\n",
      "[3210.0, 4280.0, 5350.0, 6420.0]\n",
      "[3210.0, 4280.0, 5350.0, 'no tax calculated', 6420.0]\n"
     ]
    }
   ],
   "source": [
    "taxez = [ urun * 0.07 for urun in prices if urun > 0] # code an if clause after the for to add selection logic.\n",
    "prices_plus_taxez = [ urun * 1.07 for urun in prices if urun > 0]  # code an if clause after the for to add selection logic.\n",
    "prices_plus_taxez2 = [ urun * 1.07 if urun != 0 else \"no tax calculated\" for urun in prices ]\n",
    "\n",
    "\n",
    "print(taxez)\n",
    "print(prices_plus_taxez)\n",
    "print(prices_plus_taxez2)"
   ]
  },
  {
   "cell_type": "code",
   "execution_count": 53,
   "metadata": {},
   "outputs": [
    {
     "name": "stdout",
     "output_type": "stream",
     "text": [
      "res8:[65, 116, 97, 116, 252, 114, 107]\n",
      "resmap:[65, 116, 97, 116, 252, 114, 107]\n",
      "res9:[65, 116, 97, 116, 252, 114, 107]\n"
     ]
    }
   ],
   "source": [
    "res8 = []\n",
    "\n",
    "for x in \"Atatürk\":\n",
    "    res8.append(ord(x))\n",
    "    \n",
    "print(f\"res8:{res8}\")\n",
    "\n",
    "resmap = list(map(ord, \"Atatürk\"))\n",
    "print(f\"resmap:{resmap}\")\n",
    "\n",
    "\n",
    "res9 = [ord(x) for x in \"Atatürk\"] # list comprehensions map an expression over a sequence or other iterable:\n",
    "\n",
    "print(f\"res9:{res9}\")"
   ]
  },
  {
   "cell_type": "code",
   "execution_count": 55,
   "metadata": {},
   "outputs": [
    {
     "name": "stdout",
     "output_type": "stream",
     "text": [
      "[0, 1, 4, 9, 16, 25, 36]\n",
      "**************\n",
      "[0, 1, 4, 9, 16, 25, 36]\n"
     ]
    }
   ],
   "source": [
    "#map - lambda func\n",
    "\n",
    "res10 =  list(map((lambda x: x **2), range(7)))\n",
    "\n",
    "#list comprhnsn\n",
    "\n",
    "res11 = [x ** 2 for x in range(7)]\n",
    "\n",
    "\n",
    "\n",
    "print(res10)\n",
    "print(\"**************\")\n",
    "print(res11)"
   ]
  },
  {
   "cell_type": "markdown",
   "metadata": {},
   "source": [
    "FILTER\n",
    "List comprehensions with if clauses can be thought of as analogous to the filter built, they skip an iterable’s items for which the if clause is not true."
   ]
  },
  {
   "cell_type": "code",
   "execution_count": 56,
   "metadata": {},
   "outputs": [
    {
     "data": {
      "text/plain": [
       "[0, 2, 4, 6]"
      ]
     },
     "execution_count": 56,
     "metadata": {},
     "output_type": "execute_result"
    }
   ],
   "source": [
    "[x for x in range(7) if x % 2 == 0]"
   ]
  },
  {
   "cell_type": "code",
   "execution_count": 58,
   "metadata": {},
   "outputs": [
    {
     "data": {
      "text/plain": [
       "[0, 2, 4, 6]"
      ]
     },
     "execution_count": 58,
     "metadata": {},
     "output_type": "execute_result"
    }
   ],
   "source": [
    "list(filter((lambda x: x % 2 == 0), range(7)))"
   ]
  },
  {
   "cell_type": "code",
   "execution_count": 1,
   "metadata": {},
   "outputs": [
    {
     "name": "stdout",
     "output_type": "stream",
     "text": [
      "[1, 3, 5, 7, 9, 11, 13, 15, 17, 19, 21, 23, 25, 27, 29, 31, 33, 35, 37, 39, 41, 43, 45, 47, 49, 51, 53, 55, 57, 59, 61, 63, 65, 67, 69, 71, 73, 75, 77, 79, 81, 83, 85, 87, 89, 91, 93, 95, 97, 99]\n"
     ]
    }
   ],
   "source": [
    "# let's construct a list of odd numbers from 1 to 100\n",
    "\n",
    "res12 = [ x * 2 + 1 for x in range(50)]\n",
    "\n",
    "print(res12)"
   ]
  },
  {
   "cell_type": "code",
   "execution_count": 2,
   "metadata": {},
   "outputs": [
    {
     "name": "stdout",
     "output_type": "stream",
     "text": [
      "[1, 3, 5, 7, 9, 11, 13, 15, 17, 19, 21, 23, 25, 27, 29, 31, 33, 35, 37, 39, 41, 43, 45, 47, 49, 51, 53, 55, 57, 59, 61, 63, 65, 67, 69, 71, 73, 75, 77, 79, 81, 83, 85, 87, 89, 91, 93, 95, 97, 99]\n"
     ]
    }
   ],
   "source": [
    "#the list item expression will be evaluated in every iteration of the for loop only if the condition of the if clause is met\n",
    "\n",
    "res13 = [ x for x in range(100) if x % 2 != 0]\n",
    "\n",
    "print(res13)"
   ]
  },
  {
   "cell_type": "code",
   "execution_count": 3,
   "metadata": {},
   "outputs": [
    {
     "name": "stdout",
     "output_type": "stream",
     "text": [
      "['0 is even', '1 is odd', '2 is even', '3 is odd', '4 is even', '5 is odd', '6 is even', '7 is odd', '8 is even', '9 is odd']\n"
     ]
    }
   ],
   "source": [
    "tekcift = [f\"{x} is odd\" if x % 2 !=0 else f\"{x} is even\" for x in range(10)]\n",
    "\n",
    "print(tekcift)"
   ]
  },
  {
   "cell_type": "code",
   "execution_count": 5,
   "metadata": {},
   "outputs": [
    {
     "name": "stdout",
     "output_type": "stream",
     "text": [
      "['202001', '202002', '202003', '202004', '202005', '202006', '202007', '202008', '202009', '202010', '202011', '202012', '202101', '202102', '202103', '202104', '202105', '202106', '202107', '202108', '202109', '202110', '202111', '202112', '202301', '202302', '202303', '202304', '202305', '202306', '202307', '202308', '202309', '202310', '202311', '202312', '202401', '202402', '202403', '202404', '202405', '202406', '202407', '202408', '202409', '202410', '202411', '202412', '202501', '202502', '202503', '202504', '202505', '202506', '202507', '202508', '202509', '202510', '202511', '202512']\n"
     ]
    }
   ],
   "source": [
    "#For item expressions involving two variables or more, nested for statements can be used.\n",
    "\n",
    "years = [\"2020\", \"2021\", \"2023\", \"2024\",\"2025\"]\n",
    "yilay_format = [ year + str(month).rjust(2, \"0\") for year in years for month in range(1, 13)]\n",
    "\n",
    "print(yilay_format)"
   ]
  },
  {
   "cell_type": "code",
   "execution_count": 12,
   "metadata": {},
   "outputs": [
    {
     "name": "stdout",
     "output_type": "stream",
     "text": [
      "3368 {'ile', '110', 'A’raf', 'site_id', 'Bountiful', 'replaced', '2-4', '-', 'Meali', 'class', 'aFTR7PB1QTsUX8KYvrGyIYGnbKX9Rlk', 'i\\\\u00e7in', '=', 'No', 'has-fira-sans-font-family', '8', '9-113', 'ilişip', 'column', '--wp--preset--font-size--huge', '--wp--preset--font-family--cormorant', '150', 'wp-block-button-inline-css', 'edileceği', '107', '24', 'is-style-rounded', '7677V19C21', 'wp-mediaelement', 'neml-suresi-27-48', 'wp-element-button', '--wp--preset--font-family--dm-sans', '--wp--preset--font-family--raleway', '--wp--preset--spacing--40', '#maskClose', 'wp-block-group-inline-css', 'wp-block-page-list', 'wp-i18n-js', '_inc\\\\', '124', '12', 's2', 'kaf-suresi-50-32', 'Courier', '--wp-admin-theme-color--rgb', 'auto-generated', 'has-foreground-dark-background-color', 'has-background-dim-20', 'munafikun-suresi-63-103', 'all-css-44-1', 'setCcpaAppliesCookie', 'have', 'Source', '249643311490', '--navigation-layout-direction', 'baseUrl', '4em', '--wp--preset--font-family--jost', 'wp-block-jetpack-layout-grid__padding-none', 'içeriği', 'margin-inline-start', 'Mozilla', 'blocks', '#ffffff', 'all-css-38-1', 'else', 'kopyala', 'jp-carousel-info-content-wrapper', 'in', 'is-content-justification-center', '140', 'cookie', '12C20', 'ilgiden', '6496', 'vertical-align', '3905', '223', '24x24', 'do', '3432', '\\\\ud83d\\\\udc26\\\\u200d\\\\u2b1b', 'Implement', '5H11', 'adserver-us', '167', '652', 'action', '04', '1YNN', 'tasarlayın', 'jp-search', 'jquery_core_js', '7', 'no_comment_text', '_trackPageview', 'ID', 'valueOf', 'z', 'dmmono', 'We', '31729L2', '45l1', 'secde-suresi-32-75', 'has-dm-sans-font-family', 'column1-desktop-grid__span-12', '802', 'DOMContentLoaded', '22386', 'wp-block-navigation__responsive-close', 'actionbar-follow', '8335', 'ihlas-suresi-112-23', 'closeMenuOnClick', 'Fotoğraf', '44-64', '\\\\u015feridi', '151', 'isIPad', '55-89', 'ad', '5V3H4H16H17', 'alignwide', 'terminate', 'wp-block-search', 'coblocks-masonry', 'jp-carousel-icon-info', '2916666666666667rem', 'push', '#FFFFFF', '2d', 'all-css-36-1', 'Secde', 'span', '1023', '19L12', '12c0', 'Mülk', 'jetpack-boost-speed-score', 'happen', '25h-1', 'tarik-suresi-86-33', 'Found', '199', 'text-align', 'unfoldBar', 'sems-suresi-91-25', '--wp--preset--spacing--50', 'kefh-suresi-18-69', 'Libre', '589', 'kamer-suresi-54-37', 'core-block-supports-inline-css', 'wa_smart', 'end', 'jp-carousel-swiper-container', 'gridicon', 'textarea', 'display_exif', 'body', 'Duhan', 'is_public', 'Playfair', 'Lord', 'given', 'dialog', 'Rad', 'Firefox', '134071', 'Many', 'has-ibm-plex-sans-font-family', '_self', 'Bodoni', '594', 'Cookie', '604800', 'has-uni-05-53-font-family', 'omnitagjs', '11H13V12H12V11ZM10', 'concatemoji', 'focus', '5-2', '12L10', 'advertising-program-optout', '47-1', '#31cdcf', 'content', 'leftLabel', 'quot', '\\\\ud83c\\\\udff4\\\\u200b\\\\udb40\\\\udc67\\\\u200b\\\\udb40\\\\udc62\\\\u200b\\\\udb40\\\\udc65\\\\u200b\\\\udb40\\\\udc6e\\\\u200b\\\\udb40\\\\udc67\\\\u200b\\\\udb40\\\\udc7f', '8-93', 'Ahkaf', 'Read', '304', 'jp-carousel-comment-form-container', 'indexOf', 'h1', '20241015', 'Fraunces', 'tabindex', '1720530689i', '25em', '\\\\ud83c\\\\udff3\\\\ufe0f\\\\u200b\\\\u26a7\\\\ufe0f', 'has-arvo-font-family', 'grofiles-cards-js', '200', 'geç', 'rapor', 'Bakara', 'cookie_framework', '-eJyVUMtuAjEM', 'meta', 'wordpress', 'Talak', 'method', 'Kamera', 'Arvo', '2388', 'avatar', 'meta_data', 'hesabınız', 'page', 'ahkaf-suresi-46-66', 'max-image-preview', '36531', 'Montserrat', 'login_url', 'lib\\\\', 'rehberliği', 'is-larger-text', '300', 'WordPress', '2ZM11', 'has-cormorant-font-family', 'data-orig-size', 'hud-suresi-11-52', 'has-background-dim-10', 'Pen', 'src\\\\', 'muminun-23-74', 'nplurals', 'isLOHP', '--wp--preset--aspect-ratio--9-16', '142', 'Promise', 'Noto', '90', 'overflow-wrap', 'rum-suresi-30-84', 'Early', 'wp-block-post-content-inline-css', 'm', 'wptheme', 'width', 'all-css-10-1', 'wp-container-core-group-is-layout-4', 'nur-suresi-24-102', 'cache', 'flex-wrap', '2761', 'write_comment', 'mask', 'home', 'Inject', '60', '25%', 'loading', '7677', 'text-transform', 'Reklam', '11-52', '2s', 'postId', 'Wisdom', 'charset', 'submit', 'padding-left', 'Ayarları', 'Segoe', 'widgets', 'margin-inline-end', 'column2-desktop-grid__row-1', 'lokman-suresi-31-57', '101-30', 'Al’a', 'has-background-gradient', 'rubiconproject', 'link-ui-block-inserter', 'min', 'wp-block-button__width-25', '238', 'Sebe', 'footer_website', 'tin-suresi-95-27', 'us_privacy', 'single_image_gallery_media_file', 'right', 'jetpack-publicize', '8822', 'posts', '--wp--preset--font-family--piazzolla', 'Literata', 'sonsuz', '15px', 'w', 'match', 'GPC', 'tahrim-suresi-66-106', 'sımsıkı', 'jl', '48', '--wp--preset--font-family--work-sans', '22', 'catch', 'yasin-suresi-41-36', 'eposta', 'has-custom-width', 'ad\\\\u0131n\\\\u0131z\\\\u0131', 'aFTR7PB1QTsUX8KYvumzIYGnbKX9Rlk', 'blog_id', 'wp-block-group-is-layout-flow', 'furkan-suresi-25-42', 'core-compat', 'fonts', 'Document', 'Do', 'rltInitialize', '896-2', 'classList', 'aria-expanded', '110354', 'insirah-suresi-94-12', 'widget_search', 'pt', 'fb', 'has-lora-font-family', '#maskPrev', 'column2-desktop-grid__span-3', 'gridicons-ellipsis', '5h2', 'Ubuntu', 'isMenuOpen', 'vertical_footer', '1023px', 'vary', 'UTF-8', '86', 'isLoggedIn', 'Kevser', '725', 'jetpack-explat', 'osd', 'hb-api', 'pre-wrap', 'knew', '5baa98e4345eccc97e24', 'column1-mobile-grid__span-4', '89-10', '300w', '--wp--preset--font-family--plus-jakarta-sans', '59L6', 'currentColor', 'sad-38-38', 'bu', 'color', '152', 'has-global-padding', '58-104', '17', '212', '282', 'jp-carousel-comment-form', '5H13H12H10', '4-98', '--wp--preset--color--luminous-vivid-orange', 'colorado', 'toygarpar', '64-107', '--wp--preset--font-family--open-sans', '5V8H5', 'ga', '700', 'wp-block-library-inline-css', 'bildir\\\\', 'wp-block-search__inside-wrapper', '409668', 'split', 'decodeURIComponent', '--wp--preset--color--tertiary', '--wp--preset--font-family--newsreader', 'has-very-light-gray-color', '25z', 'is_logged_in', '16H20', 'svg', '3s', 'jetpack-image-cdn', 'swiper-container', '--wp--preset--spacing--60', 'aria-haspopup', '59Z', '75', 'Şimdi', 'wp-container-core-group-is-layout-2', '_gaq', '25v-1', '725-', '_tkq', 'Fri', 'jp-carousel-close-hint', 'border', 'sura-suresi-42-62', '\\\\\\\\s*', 'wpcom-actionbar-placeholder-js-extra', '18L16', 'on', 'jp-swiper-pagination', '#f0f0f0', 'tag', 'querySelector', 'blog-2', 'jetpack-filters', 'actnbr-subs', 'mı', 'yazmayı', 'jp-carousel-comment-form-url-field', 'column2-tablet-grid__row-1', '130', 'Poppins', 'boyutta', 'imports', 'defQueue', 'hooks', 'is-style-outline', 'wp-block-heading-inline-css', 'has-border-color', '5c0', 'jp-swiper-button-next', 'client', '135deg', '\\\\u00d7', 'require_name_email', 'has-luminous-vivid-amber-to-luminous-vivid-orange-gradient-background', '90-35', 'M8', 'yorumlar', 'WP', 'Müzemmil', 'inherit', 'protocol', 'has-poppins-font-family', '4V16C22', 'nahl-suresi-16-70', 'author', 'zuhruf-suresi-43-63', 'beginning', 'background-color', 'kureys-suresi-106-29', 'tv', 'has-nightshade-gradient-background', 'olu\\\\u015ftu', 'yirnI8ua6yt', 'ie-sitemode', 'stroke-width', 'jetpack-mu-wpcom-settings-js-before', '--wp--preset--font-size--normal', 'Figtree', 'instant-search', 'block', 'is-vertical', '--wp--preset--gradient--pale-ocean', '40', 'Graph', 'Satma', '19L19', 'has-petrona-font-family', '103-3', '16x16', 'Newest', '19V5C3', 'constructor', '5v-1', 'enbiya-suresi-21-73', '2403846153846154vw', '1719498190i', '2486', 'has-black-background-color', 'bridgeUrl', 'none', '41L9', '100-14', 'virginia', 'localeData', 'Minimal', 'ajaxUrl', '517px', 'single_image_gallery', 'statusMessage', '184', '08', 'skip-link', 'art\\\\u0131k', 'wp_template', 'the', 'google_analytics_uacct', '76-90', 'için', 'OffscreenCanvas', '3h-4v1', 'Epilogue', '84615ZM14', 'Asr', 'report_url', '__ATA_PP', '--wp--preset--shadow--deep', '#8ed1fc', '120', 'sitesi', '--wp--preset--shadow--crisp', 'abese-suresi-80-24', '36-41', 'gönder', '59261', '007L18', 'Nova', 'innerWidth', '714', 'is-responsive', 'jetpack-waf', '0096153846153846rem', 'has-very-light-gray-to-cyan-bluish-gray-gradient-background', 'card', 'Image', 'naziat-suresi-79-81', '-1px', '896-2-2-2zm-7', '5H14', '--wp--preset--font-family--playfair-display', 'nas-suresi-114-22', 'Telif', 'Hud', 'jp-carousel-comment-form-button', 'thy', 'shortlink', 'jetpack-search-filters-1-wrapper', '1046', 'fwLTSGOI', 'auto', 'wp-block-navigation-link', 'wp-block-post-content-is-layout-flow', 'margin-right', 'has-pt-serif-font-family', 'oldonload', '1', 'Nunito', 'has-vivid-green-cyan-border-color', 'saff-suresi-61-108', 'has-piazzolla-font-family', 'but', 'first-letter', '73-3', 'jp-carousel-image-meta', 'has-text-align-left', '41-61', '155', '5-1', 'has-vivid-purple-color', '12H9', '896', 'Swiper', 'jp-carousel-overlay', 'originalURL', '#000', '--wp--preset--font-size--x-large', '_blank', 'Teğabün', 'www', 'JSON', '7488V11H11', 'actnbr-button-wrap', 'comment_post_error', 'wpcom-proxy-request', 'json', '98c-', 'Siteyi', '205', 'style*', 'Kıyamet', 'jetpack-mu-wpcom\\\\', 'user_id', 'value', '333em', 'Baskerville', 'r', 'br', '5h9zm-5', '59L13', '--wp--preset--color--primary', '225', '008', '46-66', '85-27', 'tip-top-left', '177217700', 'jp-carousel-has-comments-indicator', 'white-space', 'function', 'background', 'don', 'verilerinin', '12L5', 'onayland\\\\u0131', 'Fatr', 'call', 'wpcom_reblog', 'has-cabin-font-family', 'Merriweather', 'Albert', '7488V7H11', 'mumtehine-suresi-60-111', '#330968', '32px', '--wp--preset--color--vivid-green-cyan', '255', '476', 'appendChild', 'serif', '59L11', 'current-menu-item', 'Yorum', 'DM', 'privacySettings', 'insertAdjacentElement', 'ver', 'has-dm-mono-font-family', 'with', 'then', 'first', 'wpcom_mobile_user_agent_info', 'source', '\\\\u00d6nceki', 'Gabarito', 'DOMReady', 'widths', 'justify-content', 'monospace', 'div', '182', 'profile', 'done', 'is-regular-text', 'ariaModal', 'has-pale-cyan-blue-background-color', 'has-cool-to-warm-spectrum-gradient-background', 'ads', 'Alak', 'Server', '5H5', 'indirmiştir', 'flb-report', 'editor', 'gravatars', 'postID', '--wp-admin--admin-bar--position-offset', 'Display', 'He', 'yunus-suresi-10-51', 'overlay', 'jetpack-my-jetpack', '2px', 'nisa-suresi-4-98', 'maskNext', 'fatr-suresi-43-35-calisma-suruyor', 'wp-block-navigation-link-inline-css', 'navigation', '--navigation-layout-wrap', '977z', '59', 'toString', 'wp-block-post-content-is-layout-constrained', 'aria-current', 'apple-touch-icon', 'setDefaultNotApplicableCookie', 'actnbr-action', 'alignfull', 'tpc', 'has-vivid-green-cyan-color', '26-47', 'Search', 'actionbar', '15-1', 'İmran', '12C2', 'domainPaths', 'nebe-suresi-78-80', 'Mono', 'link', '39-59', 'has-bricolage-grotesque-font-family', '18-69', 'element', 'F', '--wp--preset--color--background', 'jp-carousel-info-footer', 'Ideally', 'googlesyndication', 'gdpr_applies', 'google-site-verification', '1xOQEZzCKWdDoAf', 'has-pale-cyan-blue-border-color', 'Cabin', 'box-shadow', 'BlinkMacSystemFont', 'const', '657', 'jp-carousel-loading-overlay', 'proxyScriptUrl', '0o', '--wp--preset--font-family--ibarra-real-nova', 'saffat-suresi-37-56', 'Is', 'has-luminous-vivid-orange-color', 'ipad_views', 'JetpackInstantSearchOptions', '5ZM5', '51', 'jp-carousel-image-map', 'sarılın', 'dahil', '50', 'toLowerCase', 'token-bridge', 'Fountain', 'has-pale-cyan-blue-color', 'wp-block-site-title-inline-css', 'Şura', '_gat', '06L13', '87-8', '44', 'parse', 'sibling', 'Tags', 'window', 'wp-block-pages-list__item__link', 'apply', 'jp-carousel-title-and-caption', 'IBM', 'data-large-file', '--wp--preset--spacing--20', '4C8', '41L14', 'jpg', 'Zuhruf', 'js', 'logged_in', 'onerror', 'aç', 'Âli', 'g\\\\u00f6r\\\\u00fcnecektir', 'has-courier-prime-font-family', 'A', 'gutenberg_leaderboard', 'widget', 'override', 'Prime', 'innerHeight', 'font-weight', '62', '25rem', 'hellip', 'headers', 'nowrap', 'image', '--', 'Everything', '--wp--preset--spacing--70', 'Send', 'automattic', 'moon\\\\', 'has-tertiary-color', 'clip-rule', 'jetpack-forms', 'com%2F', 'side', '875rem', 'M19', 'noopener', 'post`', 'this', 'uloggedin', 'IZQMaxYPxWyolBroLhC3t70vSgw3HeZk3GdwLuJxWn1bkBoXaNyRBl5k7AgqLF4wDUFEueBL', 'items', 'skipLinkTargetID', 'h3', 'comment-like-js-extra', 'aFTU7PB1QTsUX8KYhhiaBYyMcKw', 's0', 'Tarık', 'Nahl', 'Yap\\\\u0131n', '112-22', '\\\\ud83c\\\\udff3\\\\ufe0f\\\\u200d\\\\u26a7\\\\ufe0f', '25v2', 'column1-mobile-grid__row-1', 'Kamer', 'underline', 'maskComments', '`', '3H12', 'jetpack-backup', '2023', 'jquery', '--wp--preset--aspect-ratio--3-2', 'themes', 'actnbr-signup', 'grid', '99569', '--wp--preset--font-size--large', 'max-width', 'indiana', 'readyState', '06', 'consent', 'wp-block-site-logo', 'baba', '33691', '--wp--preset--font-family--bodoni-moda', 'wptheme_is_block', 'module', 'is-content-justification-left', 'coblocks-lightbox', 'slice', 'Plugins', '#039', '--wp--preset--font-family--ibm-plex-mono', 'wp-block-navigation-is-layout-constrained', 'fil-suresi-105-19', '52-76', '5h-1', 'has-ibm-plex-mono-font-family', 'utah', 'font-display', 'has-vivid-purple-border-color', 'jDuwC319', 'Nebe', 'post', 'jp-carousel-photo-caption', 'geni\\\\u015flet', 'kabul', 'has-albert-sans-font-family', 'CDATA', 'src', '5v-2', '365', 'solid', 'floor', 'DMMono-LightItalic', 'wp-block-template-part', 'enfal-suresi-8-93', 'ccpaCookie', 'has-cyan-bluish-gray-border-color', 'languages', 'avatar-50', 'Beyyine', '66-106', '20l2', 'core', 'wp-emoji-release', 'border-right-width', '--wp--preset--font-family--libre-baskerville', '47-99', 'jp-carousel-photo-title-container', '109-18', 'jp-carousel-container', 'g\\\\u00f6r', '--wp--preset--font-family--dm-mono', 'wp-image-282', 'wpcom-auto-discovery', '09', '007L3', 'Kur’an’a', '283', 'flag', '82-82', 'onreadystatechange', 'Newsreader', 'toolbar', 'outline', 'has-vivid-green-cyan-to-vivid-cyan-blue-gradient-background', 'adnxs', 'has-rubik-font-family', 'olunmuş', 'jetpack-blaze', '7b370e821516feba4955', 'document', 'wp-block-navigation__responsive-container-content', 'Helvetica', 'swipeUrl', 'has-nunito-font-family', 'Sonraki', '236', '--wp--preset--font-family--texturina', 'nonce', '448-5', 'Mürselat', '#0693e3', 'com%22%2C%22locale%22%3A%22en-US%22%2C%22postsPerPage%22%3A10%2C%22siteId%22%3A177217700%2C%22postTypes%22%3A%7B%22post%22%3A%7B%22singular_name%22%3A%22Yaz%5Cu0131%22%2C%22name%22%3A%22Yaz%5Cu0131lar%22%7D%2C%22page%22%3A%7B%22singular_name%22%3A%22Sayfa%22%2C%22name%22%3A%22Sayfalar%22%7D%2C%22attachment%22%3A%7B%22singular_name%22%3A%22Ortam%22%2C%22name%22%3A%22Ortam%22%7D%7D%2C%22webpackPublicPath%22%3A%22https%3A%5C%2F%5C%2Fs2', 'coblocks_lightbox_js', 'info', 'parentNode', '06-1', 'redirect_to', 'g\\\\u00f6nderilirken', '8px', 'bilmur', 'swiper-pagination', 'alak-suresi-96-1', '2239-', '386-', 'wp-site-blocks', '1oeyWwSN0lZpkMCFPFS', 'try', 'actnbr-shortlink', 'ads-active', 'Rabbin', 'async', 'me', '114-21', 'setDefaultOptInCookie', '848c1', 'com%5C%2Fwp-content%5C%2Fmu-plugins%5C%2Fjetpack-plugin%5C%2Fmoon%5C%2Fjetpack_vendor%5C%2Fautomattic%5C%2Fjetpack-search%5C%2Fbuild%5C%2Finstant-search%5C%2F%22%2C%22isPhotonEnabled%22%3Atrue%2C%22isFreePlan%22%3Afalse%2C%22apiRoot%22%3A%22https%3A%5C%2F%5C%2Fpublic-api', 'gasiye-suresi-88-68', 'has-chivo-font-family', 'Eski', '94', '60%', 'clear', 'wp-block-group-is-layout-constrained', '896-2-2-2z', '1400', 'url', '06L12', 'column1-tablet-grid__span-8', 'max\\\\-age', 'is_post_share', 'wpTestEmojiSupports', 'actnbr-login', '#313131', 'border-bottom-color', 'country', 'Web', '#00d084', 'Too', 'out', 'has-blush-light-purple-gradient-background', 'stats_query_args', 'İnfitar', 'is_current_user_blog_owner', 'applies', 'mtrx', '1rem', '2em', 'column2-tablet-grid__start-5', 'initialization', 'ib', 'column1-tablet-grid__row-1', '2-2', 'has-gabarito-font-family', 'Müddessir', '2h-9v1', 'has-eb-garamond-font-family', 'he', 'coblocks_masonry_js', 'background_color', '5H16V4', '48rem', 'M7', '4166666666666667vw', 'View', 'Şuara', 'Got', 'humeze-104-30', 'jersey', 'rlt-proxy-js-after', '-0', 'path', 'Münafikun', 'Josefin', '--wp--preset--gradient--blush-light-purple', 'sonobi', 'Reklamı', '#fdd79a', 'has-pale-pink-background-color', 'kurun', '1133px', 'rlt-proxy', 'll', 'gizle', 'inis-sirasina-gore-kurani-kerim', 'Oylama', 'Kickoff', 'v14', 'Of', 'jp-carousel-caption', 'jtb8N4zB', 'interactivity-js-modulepreload', '31-57', 'ftfroAJCebiA', 'jp-carousel-comment-form-spinner', '1442307692307692rem', 'has-pale-ocean-gradient-background', '105-19', '30-84', 'Neue', '45', 'M4', 'is-small-text', 'Instrument', 'jetpack-reblog-enabled', 'uni', '7537', '--wp-bound-block-color', 'follow-bubble', 'DMMono-MediumItalic', 'userAgent', '209', 'wp-block-post-featured-image', 'Ol', 'actnbr-notice', 'JETPACK_MU_WPCOM_SETTINGS', 'has-instrument-serif-font-family', 'öğreten', '5V12', 'has-white-color', 'twitter', 'evenodd', '42-62', 'subscribe', 'data-permalink', 'fecr-suresi-89-10', 'data-wp-context', 'setupPrivacy', '5v-6', 'comment_unapproved', 'z-index', '9135', 'kadir-suresi-97-24', 'subd', '885', '14px', 'Furkan', 'hasr-suresi-59-95', 'wpcom-no-pv', 'O', 'Initialization', 'jetpack-search', 'API', '--font-headings-default', '24px', 'has-large-font-size', 'marketing-bar-text', '-eJx9zU0OwiAQQOELCSPEn7owngWmE0I7AhmgDbfXGBN3Lt', '01', '600', 'view-js-module', 'vp', 'Fecr', '6L8', 'hadid-suresi-57-112', '--wp--preset--font-family--cabin', 'userSpaceOnUse', 'coblocks\\\\', 'has-overpass-font-family', '--wp--preset--color--cyan-bluish-gray', 'make', '248', 'x-icon', '25-42', 'head', 'wp-block-template-skip-link-inline-css', '--wp--preset--font-family--source-sans-3', 'querySelectorAll', '\\\\-\\\\', 'değiştir', 'jp-carousel-download-text', 'I', 'siteID', 'Kendisinde', 'oregon', 'Date', 'rgb', 'wp-container-core-group-is-layout-13', 'adresinizi', '#8211', 'jetpack-instant-search__widget-area', '--wp--preset--aspect-ratio--4-3', 'k', '80273', 'XMLHttpRequest', 'role', 'wp-block-post-terms__separator', 'title', 'has-montserrat-font-family', 'html', '_setAccount', 'media', 'build', '192dpi', '@wordpress', '27614', '607', 'casiye-suresi-45-65', '#maskNext', 'toUTCString', '6L15', '--wp--preset--font-family--fahkwang', 'skipLink', '--wp--preset--font-family--petrona', '\\\\ud83c\\\\uddfa\\\\ud83c\\\\uddf3', 'delaware', '813rem', 'Raleway', 'ht', 'wpEmojiSettingsSupports', 'break-word', 'header', 'has-atomic-cream-gradient-background', 'modal-2-content', 'Tin', '173', 'tuuid', 'geo', 'İnşikak', 'alignleft', 'h5', 'has-hazy-dawn-gradient-background', 'callback', 'Domine', 'swiper-button-prev', 'shortcut', 'jp-carousel-comment-form-button-submit', 'border-right-style', '9999', '896-2-2', 'yorumunuz', '--wp--style--root--padding-right', 'plugins\\\\', 'gutenberg_rectangle', 'Çerez', 'icon', '5C3', 'jetpack-ip', 'target', 'Tur', 'join', 'post_id', 'wp-block-search__text-button', '-2', '--wp--preset--aspect-ratio--3-4', 'imagesloaded_js', 'build-module\\\\', '5h-1v1h1zm-1-1', 'openx', '--font-base', '#008A20', 'has-vivid-cyan-blue-background-color', 'rel', 'i\\\\u00e7inde', 'wpgroho', 'profile_cb', 'stored', 'view', 'menu-item-type-post_type', 'Blog', 'Not', 'has-background-dim-50', 'Inter', 'simple', '10px', 'ie4kxWc5leGJLIN33gtV9ok3hVR', '--wp--preset--font-family--ibm-plex-sans', 'true', '11V17H13', 'Speed', '31', '--wp--preset--color--pale-cyan-blue', '752-', 'close', 'initMenu', 'http', '21H5', '--wp--preset--font-family--commissioner', 'yorum', 'onmessage', 'yeni', 'jetpack-boost-core', 'cin-suresi-72-40', 'has-marketing-bar', 'Taha', 'because', 'wp-container-core-buttons-is-layout-1', 'fussilet-suresi-41-61', 'marketingbar', 'matchedUserAgentName', 'network_id', 'openMenuOnClick', '488', 'transition-duration', 'swid', 'Giriş', '105', '28-49', 'H\\\\u0131z\\\\u0131', 'skip', 'YIfW0uhfH7TGSLJ3dE6uJaLneww2mkYT', 'overflow', '#marketingbar', 'sitede', 'actnbr-actn-follow', 'is-large-text', 'cssminify', 'flex-direction', '--wp--preset--gradient--light-green-cyan-to-vivid-green-cyan', 'amp', 'interactivity', 'has-fjalla-one-font-family', 'buruc-suresi-85-26', 'border-left-width', '3271', 'jps-theme-pub', 'initial-scale', 'Müminun', '103', '43-63', 'has-foreground-background-color', '0012', '5-4', '%7B%22overlayOptions%22%3A%7B%22colorTheme%22%3A%22light%22%2C%22enableInfScroll%22%3Atrue%2C%22enableFilteringOpensOverlay%22%3Atrue%2C%22enablePostDate%22%3Atrue%2C%22enableSort%22%3Atrue%2C%22highlightColor%22%3A%22%23e6ffcc%22%2C%22overlayTrigger%22%3A%22submit%22%2C%22resultFormat%22%3A%22expanded%22%2C%22showPoweredBy%22%3Atrue%2C%22defaultSort%22%3A%22relevance%22%2C%22excludedPostTypes%22%3A%5B%5D%7D%2C%22homeUrl%22%3A%22https%3A%5C%2F%5C%2Ftoygarpar', 'araf-suresi-7-39', 'IGjYR2YP4LdkaSl3alCZl', 'cumua-suresi', 'let', 'Kafirun', 'sitedeki', '--wp--preset--font-family--merriweather', 'created_timestamp', '\\\\ud83d\\\\udc26\\\\u200b\\\\u2b1b', 'Adiyat', 'Kehf', 'g', '61-108', 'l', 'fazla', '9', 'tekrar', 'border-bottom-style', 'wp-block-navigation__container', 'send', 'stats', 'bidswitch', '1E13*Math', 'insikak-suresi-84-83', '695-2', 'Abese', '188-1', '#007cba', 'border-top-color', 'syncProfileData', '100px', '#fcb900', 'uppercase', 'Sell', 'has-crimson-pro-font-family', 'alignright', 'form', 'cookieLib', 'actnbr-has-follow', 'denetim', 'comment_approved', 'Bu', 'coblocks-loader-js-extra', 'column1-desktop-grid__start-3', '40%', 'application-name', 'utf-8', 'rtl', 'Which', 'EditURI', 'black', '#mask0', 'Mücadile', 'roleAttribute', '3', 'data-align', '51-67', '0', 'redirect', 'static', '455', 'too', '--wp--preset--font-family--josefin-sans', '38rem', 'opt-in', '__ATA_CC', 'düzenle', '7046', 'msapplication-tooltip', 'jetpack-classic-theme-helper', '2rem', '425', 'wpcom_marketing_bar_cta_click', 'modal-3-content', 'max_blaze_slots', '--wp--custom--gap--vertical', '1023w', 'has-background-dim-30', 'q', 'all-css-26-1', '--wp--preset--font-family--uni-05-53', '5v2', '206', '94-12', 'Abone', '3744', '__ATA_tuuid', 'hata', 'itemscope', '202443448e29c9ec460f70535c7958cd60e9e2980f935c5309d61d08f40d080a876779', '--wp--preset--font-family--roboto-slab', 'Most', '05_53', 'sonra', 'cookies', 'jetpack-admin-ui', 'MbUOlJHA', 'wp-emoji-styles-inline-css', 'Jakarta', '#4721fb', 'jp-carousel-icon', 'g\\\\u00f6nder', 'jetpack-instant-search-js-translations', 'Create', '79-4-4zm12', 'criteo', 'M13', 'M2', 'Chivo', '6', '#005a87', '117571', 'i', 'cb', 'prototype', 'forEach', 'nndztdPZXOxklxd3tTyP', 'wp-block-post-featured-image-inline-css', '600px', 'ImageGallery', 'assets', 'text', '46', 'data-wp-on-async--click', '53', 'jp-carousel-pagination-container', 'alaktan', 'Ankebut', '10c-2', 'mobile_devices', 'data-wp-bind--aria-label', 'command', 'gravatar', '06rem', 'Arial', 'Çerezler', '192C6', '5L5', 'locale', 'is-layout-grid', 'learn', 'tekasur-suresi-102-16', 'no-display', 'column1-desktop-grid__row-1', 'wp-block-post-content-is-layout-flex', '108-15', '-apple-system', 'And', 'active', '16Z', 'has-midnight-gradient-background', 'direction\\\\u0004ltr', '__ATA', 'has-medium-font-size', 'vakia-suresi-56-46', '--navigation-layout-align', 'sitesini', 'wp-container-core-group-is-layout-3', '91-26', 'ref', '425c-1', 'sas_fallback', 'Menu', 'will', '116', 'has-larger-font-size', 'wpcom_wp_footer', '#040DE1', 'border-right-color', 'parentElement', 'clip', 'rect', 'itemprop', '5v1', 'data-orig-file', 's', 'library', 'size', '30', 'init', '--wp--preset--font-family--rufina', 'bidder', 'ı', 'ederek', 'screen-reader-text', 'has-very-light-gray-background-color', 'has-playfair-display-font-family', 'Naziat', 'Gizlilik\\\\', 'block-library', 'Uzunlu\\\\u011fu', '14', 'wp-block-navigation-is-layout-flex', 'hLhqQssgCyYYBH27fLXNJT9V9tJkE-4mx68HvYwLzqc', 'CVwNFqu', 'gif', 'Uint32Array', 'bakın', '--wp--preset--font-family--space-mono', 'svg\\\\', 'padding-top', '`https', 'actnbr-reader', 'itemtype', '485', 'italic', '1133', 'from', 'jetpack-publicize-pkg', 'california', '--wp--style--root--padding-bottom', 'Maun', 'ssl', 'leyl-suresi-92-09', '165', 'Rahman', '71', 'stroke', '--wp--preset--aspect-ratio--square', '--wp--style--root--padding-left', 'gutenberg_mobile_leaderboard', '\\\\', 'Alegreya', 'modal-2', 'border-left-style', 'photo-size-times\\\\', 'geldiniz', 'Work', 'test', 'has-luminous-vivid-orange-background-color', 'Security', '93-11', 'page_item', 'copyright', 'CetMFnNwI1ZY0f1mK9', 'crossorigin', 'Cherisher', '845', '-eJx9jtEKwjAMRX', '169', '5-110', 'Garamond', '37-56', 'nuh-suresi-71-71', '7586', 'Slab', 'createElement', 'data-wp-on--keydown', 'h4', 'xhrURL', 'actnbr-message', 'device-width', 'actnbr-btn', 'has-luminous-dusk-gradient-background', 'rahman-suresi-55-89', 'format', 'has-source-sans-3-font-family', '#9b51e0', 'mobile_platforms', 'd', 'Nasr', 'flex-shrink', '47', 'jp-carousel-photo-title', '-eJxNjl0KwzAMgy', 'DMMono-Regular', 'views', 'domainMap', 'jp-carousel-loading-wrapper', 'dns-prefetch', 'blood', 'Kapat', '10', '16L15', '96-1', '2466', '--wp--preset--font-family--crimson-pro', 'swipe', 'handleMenuKeydown', 'viewBox', 'videopressAjax', 'nav', 'taha-suresi-20-45-calisma-suruyor', 'jquery-migrate', 'böylece', 'jp-carousel-image-download', '--wp--preset--font-family--albert-sans', '1---', 'c', '_static', 'margin', 'jetpack-plugin', 'has-source-serif-4-font-family', 'exist', 'mW2YEFcyODEkU', 'UI', 'has-primary-background-color', '1681832297i', 'Franklin', 'timestamp', 'safe', '6-55', '579102', 'wp-block-search__input', 'default', '2072', 'Plex', 'swiper-button-next', 'clamp', '505636d725', '768w', '_initData', 'wp-block-navigation-item__description', 'no_comment_author', 'wp-image-714', 'data-attachment-id', 'instantly', 'Tevbe', '80%', '224', '20', 'hash', 'location', 'has-regular-font-size', '--wp--preset--color--vivid-cyan-blue', 'Gerekli', 'var', 'wp-block-page-list-inline-css', '454-1', 'abuse', 'post_comment', '214-1', '--wp--preset--color--luminous-vivid-amber', 'jetpack-mu-wpcom-plugin\\\\', 'ahzab-suresi-33-97', '135073', '--wp--preset--shadow--sharp', 'has-light-green-cyan-color', '69-78', 'followedText', '67', 'has-huge-font-size', 'tip-inner', '181', 'account', '387', 'are', '--wp--preset--font-family--figtree', 'pixl-header', 'Lora', 'edinmek', 'actnbr-email-field', 'com%5C%2F%22%2C%22apiNonce%22%3A%229c5384cad3%22%2C%22isPrivateSite%22%3Afalse%2C%22isWpcom%22%3Atrue%2C%22hasOverlayWidgets%22%3Atrue%2C%22widgets%22%3A%5B%7B%22filters%22%3A%5B%7B%22name%22%3A%22Mentions%22%2C%22type%22%3A%22taxonomy%22%2C%22taxonomy%22%3A%22mentions%22%2C%22count%22%3A5%2C%22widget_id%22%3A%22jetpack-search-filters-1%22%2C%22filter_id%22%3A%22taxonomy_0%22%7D%2C%7B%22name%22%3A%22Kategoriler%22%2C%22type%22%3A%22taxonomy%22%2C%22taxonomy%22%3A%22category%22%2C%22count%22%3A5%2C%22widget_id%22%3A%22jetpack-search-filters-1%22%2C%22filter_id%22%3A%22taxonomy_1%22%7D%2C%7B%22name%22%3A%22Etiketler%22%2C%22type%22%3A%22taxonomy%22%2C%22taxonomy%22%3A%22post_tag%22%2C%22count%22%3A5%2C%22widget_id%22%3A%22jetpack-search-filters-1%22%2C%22filter_id%22%3A%22taxonomy_2%22%7D%2C%7B%22name%22%3A%22Y%5Cu0131l%22%2C%22type%22%3A%22date_histogram%22%2C%22count%22%3A5%2C%22field%22%3A%22post_date%22%2C%22interval%22%3A%22year%22%2C%22widget_id%22%3A%22jetpack-search-filters-1%22%2C%22filter_id%22%3A%22date_histogram_3%22%7D%5D%2C%22widget_id%22%3A%22jetpack-search-filters-1%22%7D%5D%2C%22widgetsOutsideOverlay%22%3A%5B%5D%2C%22hasNonSearchWidgets%22%3Afalse%2C%22preventTrackingCookiesReset%22%3Afalse%7D', '--wp--preset--font-family--fira-sans', '--wp--preset--spacing--30', 'actnbr-login-nudge', 'webclip', '474853', 'rotate', 'creative', 'modulepreload', 'postMessage', '--wp--preset--shadow--natural', 'and', 'sahibidir', '67-77', 'an', '310', 'has-luminous-vivid-amber-background-color', 'wp-container-core-group-is-layout-9', 'can', 'jp-carousel-comment-form-textarea', 'foldBar', '52', 'ext', 'Jetpack', 'wp-block-post-content-is-layout-grid', '1024', 'Kalem', 'jetpack-wordads', 'data-service', 'gutenberg_skyscraper', '16-70', 'Internal', 'has-icon', 'wp_blog_id', 'jp-carousel-comment-form-text-field', 'Düzenleyin', 'alpha', 'tutunan', 'kafirun-suresi-109-18', 'added', 'wpcom_marketing_bar_impression', '7586ZM11', 'yorumlarının', 'both', 'kiyamet-suresi-75-29', '#ddd', 'RegExp', '220', 'Fil', 'is', 'version', 'delivery', 'sudan', 'maskUnits', 'Serif', 'String', 'has-luminous-vivid-orange-to-vivid-red-gradient-background', '85596', '667em', 'doNotSellCallback', '2325', '80-24', 'PT', 'noscript', 'font', '7775V12H21', '#abb8c3', '076dc778ca', 'Kişisel', 'Oxygen-Sans', 'xmlns', 'wpcom-bbpress-premium-themes', 'clearRect', 'Oku', 'instanceof', 'permalink', '7144', 'duhan-suresi-44-64', 'status', 'hucurat-suresi-49-105', '18H6', 'Relevance', '@font-face', 'ibrahim-suresi-14-72', 'ilgili', 'jetpack-post-list', 'has-foreground-color', 'Cumua', 'olmayan', '2zm12-2c-1', 'Failed', 'download_original', '68', '185', 'İnşirah', 'jp-tracks-js', 'padding-bottom', 'Ahzab', 'actionbardata', '5V17H4', 'privacy_settings', '5V12V11V9', '--wp--preset--font-family--libre-franklin', 'Petrona', 'ankebut-suresi-29-85', 'ki', 'jp-carousel-icon-btn', '#7bdcb5', 'has-sora-font-family', 'Hadid', 'Grotesque', '7775V6', 'postEndpoint', 'Yorumunuz', 'their', '35-43', 'ariaLabel', 'build-module', 'mu-plugins', '#7a00df', 'Reklamlar\\\\', '--wp--preset--font-family--pt-serif', 'olun', 'Urbanist', 'jetpack_vendor', 'Real', 'eu-cookie-law', 'jetpack-videopress', 'gnfevrWaOR1Q9wP', 'file', 'yaz\\\\u0131lar', '#8217', 'fieldset', 'çerez', '128', '--wp--preset--font-family--nunito', '62-96', '5H9', 'font-size', 'kapat', 'kClQW68yR3KMCxilwmikoPZg', 'column1-desktop-grid__span-6', '--wp--preset--font-family--syne', 'afterend', '21-73', 'Plus', 'Fussilet', 'jp-carousel-comment-form-comment-field', 'L\\\\u00fctfen', 'site', 'primary', 'Zilzal', 'has-inter-font-family', 'label', 'cmd', '-3px', 'talak-suresi-65-100', '1728516282i', 'googletagservices', '12l-6', '092-5', 'cas', 'aax', 'muzemmil-suresi-73-3', 'cdn', 'jp-carousel-comment-form-field', '--wp--style--block-gap', 'wp-image-', '29-85', '+', 'has-luminous-vivid-orange-border-color', 'plugins', 'be', '36', 'clip-path', 'has-background-background-color', '135088', 'nofollow', 'İhlas', 'no-border-radius', '#maskInfo', 'jetpack-instant-search-wrapper', 'my_hash', 'has-vivid-purple-background-color', 'hakk\\\\u0131', '50%', '34375', 'wpemoji', 'bunların', 'insan-suresi-76-90', 'vertical-rl', 'has-libre-baskerville-font-family', 'important', '001', 'Zariyat', 'jetpack-protect-models', 'Deklan\\\\u015f\\\\u00f6r', 'crypt', 'Casiye', '84615C4', '245', 'is-nowrap', 'yt3', 'Ibarra', 'truetype', 'meryem-suresi-19-44', 'jp-carousel-comments-loading', 'Get', '0c-1', 'Oldest', 'located', 'current_page_item', '34-58', 'addLoadEvent', 'wp-block-cover', '_stq', 'overlayOpenedBy', 'external', 'would', 'wp-login', 'DMMono-Light', 'aFTW7PB1QTsUX8KYth-QBK6JYKzkXw', '507C18', 'getItem', '32x32', 'wp-block-search__button-only', 'le6fbad69JyeKgcp6qOeSFm7', '\\\\*', 'swiper-wrapper', 'y\\\\u00fckse\\\\u011fe', 'callbacks', 'has-dm-serif-display-font-family', '1000', 'Go', '81L8', 'name', '2486V4H4', 'mearic-suresi-70-79', 'Tebbet', '47-6', 'ala-suresi-87-8', 'J', 'has-vivid-red-border-color', 'token', '#004a59', 'fetih-suresi-48-109', 'low', 'jetpack-global-styles-frontend-style-inline-css', 'jp-carousel-photo-description', 'y\\\\u00fcksekten', '23px', 'theme', '#67a671', 'boolean', 'locale_data', '4px', '—', 'li', 'just', 'Ara', 'all-css-42-1', 'jetpack-videopress-pkg', 'text-bottom', 'caption', 'has-cyan-bluish-gray-color', '192', 'pubmatic', 'has-luminous-vivid-amber-border-color', 'actnbr-popover', 'masonry_js', '14-72', 'items-justified-center', 'C', 'bir', '84615', 'atatags-26942-', 'blogs', '--wp--preset--font-family--overpass', 'Yaratan', 'new', 'response', 'has-light-green-cyan-background-color', 'has-epilogue-font-family', 'config', 'calc', '5h12v6', 'mutaffifin-suresi-83-86', '78-80', '--wp--style--global--content-size', '9px', 'Enbiya', 'has-alegreya-font-family', 'wp-block-group', 'javascript', '#end-resizable-editor-section', '1x', '5h-7c-', '_wpnonce', 'jpI18nLoader', '20%', '\\\\\\\\', '9l-2-2', 'v', 'func', 'sizes', 'data-comments-opened', 'bildir', 'hicr-suresi-15-54', '42px', 'Saffat', 'jquery_migrate_js', 'initDynamicSlot', 'clickTrackerInit', 'after', '802Z', 'actnbr-hidden', 'sidebar', '--wp--preset--font-family--instrument-serif', 'loading_comments', 'Y\\\\u00fckleniyor', 'supportTests', 'google-analytics', 'hidden', 'Hucurat', 'jetpack-assets', 'sans-serif', 'Ğaşiye', 'rsd', 'exit', 'siteURL', 'here', 'jetpack-sync', 'is-position-sticky', 'createObjectURL', '42', 'Fatiha', 'handleMenuFocusout', 'One', 'rgba', 'actnbr-more', 'Parse', 'aN5Kc', 'placeholder', '77-33', 'sub-type', '#faaca8', '--wp-admin-theme-color-darker-20', 'v19', '9478', 'wp-block-site-title', 'pointer', 'jetpack-compat', 'emin', 'Vakia', 'credit', 'has-background-dim-60', 'Kaf', 'only', 'flex-start', 'wpgroho-js-extra', 'data-wp-class--has-modal-open', '1024w', 'fortunately', 'Fjalla', '1YYN', '493', '#444', 'href^', 'Al-i', 'if', 're', 'wp-content\\\\', 'wp-block-navigation__responsive-container', 'viewport', 'no', 'adtech', 'xmlrpc', '5h-4v1', '#wp-admin-bar-my-account', 'toggle_reblog_box_flair', 'jetpack-backup-pkg', 'dnw4SVpbLUtsYSY1VCthazB4TEJDaHxGfHBSQ3VmU3Y4fC14VH5ENHRXYTVTOEp0RmNnUzV', '400', 'Worker', 'wp-block-post-featured-image__overlay', 'RSD', 'Göre', 'aperture', 'items-justified-right', 'zigottan', 'aligncenter', 'substring', 'org', 'bilgi', '2ZM6', 'border-top', '#f78da7', 'jp-carousel-comments', 'logo', '72x72\\\\', 'has-background-border-color', 'pub\\\\', 'menu-item-object-page', 'Odak', 'shutter_speed', 'following-icon-tick', 's1', 'tegabun-suresi-64-107', 'keeps', 'class*', 'null', 'has-black-color', '5zm-2', 'xml', 'min-height', 'wpcom-smileys\\\\', '15V4', '18L8', '20C17', 'center', '44rem', 'If', '25v1', 'Initialize', 'media-video-jwt-bridge-js-extra', 'max-age', 'dist', 'indicates', 'svgExt', '05em', '--wp--preset--gradient--very-light-gray-to-cyan-bluish-gray', 'asılıp', '59814', '\\\\ud83c\\\\udff4\\\\udb40\\\\udc67\\\\udb40\\\\udc62\\\\udb40\\\\udc65\\\\udb40\\\\udc6e\\\\udb40\\\\udc67\\\\udb40\\\\udc7f', '3166', '370', 'insana', 'main', '84e753e2b66eb7028d38', '1432920480j', 'Fiyat', 'wp-admin\\\\', '5V12Z', 'SERVER', 'jp-carousel-info', 'gads', 'alternate', '81', '100vw', 'wp-block-post-title', 'cursor', '768', '129', 'hide-on-button', 'açın', 'link-ui-tools', 'size-large', 'Rating', 'gum', '12C22', 'needs', '5h4zm3', 'every', 'Jost', 'data-object-fit', 'skipLinkTarget', 'jetpack-import', 'Felak', '92', '100', 'return', 'En’am', 'has-normal-font-size', 'has-background-dim-80', 'wp-block-search__button-inside', 'carousel\\\\', '84-83', 'is-layout-constrained', '75rem', 'has-newsreader-font-family', 'marketing-bar', '--wp--preset--aspect-ratio--2-3', 'index', 'y', '12-53', 'widget_eu_cookie_law_widget', 'has-luminous-vivid-amber-color', 'need', 'Politikası', 'h', '34-1', 'googleads', 'emoji', 'wp-block-navigation-item__content', 'oturum', 'stringify', 'jp-carousel-image-exif', 'php', '1133w', 'en-US', '8982', 'Saff', 'actnbr-ellipsis', 'has-libre-franklin-font-family', 'footer', 'recordEvent', 'Enam', 'generate', 'data-customproperties', 'jetpack-search-pkg', 'geolocate', 'focusFirstElement', 'Karia', 'DMMono-Italic', 'Development', 'email', 'column2-tablet-grid__span-4', 'Nisa', '753', '53-23', 'has-x-large-font-size', '50px', 'where', '2', 'data-wp-class--is-menu-open', '78834', 'it', '--wp--preset--font-family--gabarito', '@wordpress\\\\', 'metin', 'PduIOgUfAnc5NxDYClukmyUDUaW4Aq3ELPCItWjVwgsI', 'inline', 'orientation', '88', '148', 'tevbe-suresi-9-113', 'wp-fonts-local', 'public-api', 's0Lm9XC0fs', 'has-commissioner-font-family', 'This', 'typeof', '19-44', 'border-box', 'has-figtree-font-family', 'all-css-0-1', 'display', 'flex', 'Taught', 'yaratmıştır', 'tekvir-suresi-7-81', '505', 'flex-end', 'robots', 'duha-suresi-93-11', '#000000', '5V9', 'Nuh', 'jp-carousel-comment-form-submit-and-info-wrapper', 'use', '34c', 'âlemlerin', '--wp--preset--font-family--urbanist', 'all-css-28-1', 'wp-block-buttons-is-layout-flex', '92-09', 'maskPrev', 'kontrol', 'URL', 'Error', 'Hicr', 'self', 'wp-block-search__input-1', 'rootDomain', '#maskComments', 'ttf', 'et', 'x_', 'fallback', 'wp-block-button', '2s-2-', 'apex', 'data-wp-bind--aria-modal', '507-3', '99-91', 'Abonelikleri', 'imagesloaded', 'unset', '--wp--preset--font-family--eb-garamond', 'keys', '002\\\\', '928', 'mulk-suresi-67-77', '15-54', 'jetpack', 'tip', 'margin-block-start', 'kullanmaya', 'bail', 'data-wp-on-async--focusout', 'Mumin', 'proper', '38525', 'kasas-suresi-28-49', 'yapışan', '#fafae1', '--wp--preset--font-family--alegreya', '8118V5H5', 'blogid', '--wp--custom--shadow', 'marketing_bar', 'assume', 'mzi3YIMZnK4LHBwFfKmzDRwwxmRhqOyae5XGbhnGe5', '41L17', '7V9H13', '17-50', 'Yusuf', '8823', '202443', 'column1-tablet-grid__span-4', 'İsim', 'automattic\\\\', 'jp-carousel-comment-form-commenting-as', 'has-domine-font-family', 'Bricolage', '--wp--preset--font-family--courier-prime', 'WorkerGlobalScope', 'has-ibarra-real-nova-font-family', 'oembed', '001\\\\', 'has-roboto-slab-font-family', 'veya', '20131008', 'Welcome', '180deg', '65', 'beled-suresi-90-34', 'woff2', 'add', 'reportAd', 'obj_id', 'has-syne-font-family', 'Kadir', 'wp-block-button__width-75', 'now', 'Could', '--wp-admin--admin-bar--height', 'm4', 'fillText', 'Commissioner', 'infitar-82-82', 'i18n', 'kalem-suresi-68-2', 'zumer-suresi-39-59', '95-28', '147', 'any', '5px', 'figure', 'nasıl', '2\\\\', 'wp-block-image', 'load', 'Fire', 'closeLabel', '104-32', 'wp-block-cover__background', 'has-purple-crush-gradient-background', 'has-background-dim-100', 'false', '--wp-admin-theme-color-darker-10--rgb', '--wp--preset--color--pale-pink', 'sessionStorage', 'iso', 'felak-113-21', '227', 'Rufina', '74', 'Çerezlerin', 'İniş', '5vw', 'wpcom_coblocks_js', 'jp-carousel-photo-info', 'wp-block-site-logo-inline-css', 'language', 'first-child', 'murselat-suresi-77-31', 'wp-admin', 'textBaseline', '16px', 'gu3RmMeJrAULJvRd4UXdadGHzQDoHrSthZ5hP8WIOoQzxjzbqtd4aQ0nYmIWSwuiRhJODFZyzKSJz', 'Hakkında', 'secure', 'tur-suresi-52-76', 'site_name', 'is-horizontal', '#038', '74-4', 'Kalemle', 'jp-carousel-pagination', '#34e2e4', 'msapplication-window', 'jetpack-connection', 'switch', 'gt', 'opensearch', 'rightLabel', 'qRvOQdZj6SgB5Wn2VXFI4975yFRzE0', 'jp-carousel-library-loading', 'data-wp-watch', 'word-wrap', '41Z', 'advertising', '5zm10', 't', 'globalPrivacyControl', 'moon', 'Gizlilik', 'translations', 'Kur', '83L18', 'has-background-dim-70', 'Duha', 'css', 'setTimeout', 'Nur', 'Mümtehine', 'has-raleway-font-family', '--wp--preset--font-family--noto-sans-mono', 'stylesheet', '12L14', 'jetpack-instant-search-js-before', 'Başlayın', '--wp-admin-border-width-focus', '492', 'da', 'has-vivid-cyan-blue-border-color', 'pixl-shadow', 'Fahkwang', 'padding', '59-95', '--wp--preset--font-family--roboto', 'has-space-mono-font-family', '#949494', 'comment_like_text', '9999px', 'generator', '#eee', '98', 'data-image-meta', '7586ZM4', 'rss', 'prebid-server', 'has-text-align-justify', 'jetpack-config', 'border-left-color', 'wp-block-navigation-item', 'me\\\\', 'sevgi', 'encodeURIComponent', 'font-stretch', 'items-justified-left', '2020', 'has-vivid-cyan-blue-color', 'has-pale-pink-color', 'align-items', 'wp-block-navigation__responsive-container-close', 'accept-charset', 'wp-block-navigation', 'jetpack-masterbar', 'entry-content', '6px', 'wp-block-post-content', 'has-background-dim', '122', '_anonymizeIp', 'Check', 'srcset', '86-36', 'beklemede', 'doesn', 'actnbr-folded-follow', '49-105', '-eJytjFkKwzAMRC9UR03okn6UnsV2hHEqL1hWQ25fhxDoAfojeJqZB0tWNsWKsUImcT4yOGlosLiWFIRP', 'necm-suresi-53-23', 'wp-block-navigation__responsive-dialog', '12L8', '--wp--custom--gap--horizontal', 'selector', 'insertBefore', '207', 'app_id', '40-60', 'canonical', '8041', 'H', 'A\\\\u00e7\\\\u0131kl\\\\u0131k', '5V13', 'plural', 'see', '0zKzQtS9jRxn5MSFtYofYaa', '25h2', 'hac-suresi-22-88', 'trcUkGtDEXA95QA5OVBekYxrKUS8LnKBP6LLHE', '113-20', 'Carousel', 'min-width', '79292', '67rem', 'unique_id', 'Rum', 'jp-carousel-comment-form-author-field', '3rem', '60-111', 'actnbr-sitename', 'sitenizi', '62-', 'actnbr-actn-following', '13', 'congealed', '--wp--preset--color--black', '126', 'tr_TR', 'w3', 'birlikte', 'go', 'wp-block-buttons', 'page-template-default', 'alt', 'has-vivid-green-cyan-background-color', 'Salsabil', 'msIsSiteMode', 'jquery\\\\', 'build\\\\', '9718', 'Mearic', '_wpemojiSettings', 'has-background', 'has-jost-font-family', '23-74', 'wp-block-button__link', 'aFTT7PB1QTsUX8KYth-o9YetbYf4VllXuA', 'texas', 'facebook', 'is-style-squared', '--wp--preset--gradient--luminous-vivid-amber-to-luminous-vivid-orange', '5rem', 'break', '--wp--preset--color--vivid-purple', 'createdAt', 'extra', 'nbsp', 'B', 'expires', 'fill', '--wp--preset--gradient--electric-grass', 'all', 'Neml', 'for', 'font-style', 'so', 'plural_forms', 'writing-mode', 'Price', 'https', 'Roboto', 'way', 'data-image-caption', 'Gravatar', 'd\\\\u00fc\\\\u015f\\\\u00fckten', 'atatags-26942-671cb18b4ac93', 'wp-block-button__width-50', 'hakka-suresi-69-78', 'data-wp-interactive', 've', 'jp-carousel-info-extra', 'com', 'Tekasur', 'Gallery', '--wp--preset--gradient--midnight', '1200', 'fatiha-suresi-1-7', 'jp-carousel-comment-post-results', 'has-fraunces-font-family', 'Yunus', 'void', 'Hakka', '--wp--preset--gradient--vivid-cyan-blue-to-vivid-purple', 'margin-bottom', 'has-background-dim-40', 'b', 'Sans', 'wrapper', '72-40', 'hostname', 'personalized-ads-consent', '5-12-1', 'application', 'coblocks', 'has-text-color', 'jp-carousel-transitions', 'wp-block-navigation-is-layout-grid', 'WordPresscom', 'Simple_document', 'görünürlüğünü', 'tr-TR', '--wp-admin-theme-color-darker-20--rgb', 'bottom', 'mu-plugins\\\\', 'font-family', 'serverDomain', 'Stbv0w7kfTl1', '20231122', '34668', '30px', 'replace', 'Cantarell', 'GMT', 'Hac', 'asr-suresi-103-13', 'u', 'provided', 'deneyin', 'MP1', 'data-hide-timeout', 'dist\\\\', '57-112', '-14', 'prebid', '1em', 'article', 'does', 'actnbr-follow-bubble', 'noskim', 'jetpack-stats', 'canvas', '12px', 'CCPA', 'maskClose', 'Yapın', 'İnternet', 'j5R47lmAyPGbf9l8ooDgW3ypJ', 'https%3A%2F%2Ftoygarpar', 'documentElement', '2000', '--wp--custom--spacing--outer', 'ajaxurl', '32-75', 'trunk', 'actnbr-folded-customize', 'actnbr-pub-pixl', '25h-2', 'jetpack-protect-status', '--wp--style--global--wide-size', 'teads', 'ltr', 'Blob', 'wp-block-navigation-is-layout-flow', 'opensearchdescription', 'coblocksLigthboxData', 'tennessee', 'id', 'jetpack-search-filters-1', '#', 'has-background-color', 'E-posta', 'şeridi', 'callback__', '24-102', '98-101', '78-3', 'o', 'Haşr', 'has-work-sans-font-family', '0-4-1', 'bottom_sticky', 'description', 'daha', 'Fetih', 'Meryem', '716-1', '112', '38-38', 'wp-block-search__button-outside', 'Kaydolun', 'zariyat-suresi-51-67', 'getContext', 'jetpack-carousel-js-extra', '4807692307692308vw', '195', 'adiyat-suresi-100-14', '5H12H13H14', 'absolute', '25', '97-25', '106-29', 'blog_lang', '22-88', 'UA-52447-2', '__uspapi', 'twemoji\\\\', '0-', 'once', 'tn', 'data', '5em', 'appearance', 'as', 'Cormorant', '48x48', 'data-consent-expiration', 'interactivity\\\\', 'jetpackCarouselStrings', '500', '120px', '83-86', 'has-vivid-red-background-color', '--wp--preset--font-family--domine', 'UE5XaGUuOTlwaD85flAmcm1mcmZsaDhkV11YdWtpP0NsWnVkPS9sL0ViLndld3AvT3pYfCUzQ00ldWhGVW8wb18lU1tUSiY0WDNlR0Eual9Zd1tUVS8tZnxBa0dCW1BdQ189JWdNPTNpSXMtTjJ', '5-', 'has-tertiary-background-color', 'usprivacy', 'Growth', '--wp--preset--shadow--outlined', 'Open', 'gerçek', '33-97', '81-7', 'görselle', 'do-not-sell-link', '161', '100%', '625em', 'search', 'formFactor', 'Lokman', 'amazon-adsystem', 'items-justified-space-between', 'Knowledge', 'type', '-eJyNjcEKwjAQRH', 'admin-ajax', 'wp-block-jetpack-layout-grid', '12L19', 'g\\\\u00f6nderdi\\\\u011finizden', 'buraya', 'devam', 'assetsUrl', '5h-2', 'dotted', 'page_id', '252', 'having', 'wp-block-post-title-inline-css', 'comment_registration', 'wp-block-navigation-item__label', '5V4', 'bildiren', 'readyCallback', 'Hep', '7t72H6', 'favicon', 'jetpack-jitm', 'G', 'has-light-green-cyan-to-vivid-green-cyan-gradient-background', 'signup_flow', 'wp-block-spacer', 'Crimson', 'attach', '--wp-admin-theme-color', 'h6', 'gap', 'girin', 'is-layout-flow', 'substr', 'pp', 'el', 'pixl', '54-37', 'jp-carousel-icon-comments', 'GET', 'has-white-border-color', 'wp-i18n-js-after', 'aria-label', 'found', 'wp-block-navigation__responsive-container-open', 'text-decoration', 'has-marketing-bar-theme-pixl', 'website', 'wp-block-pages-list__item', 'column2-mobile-grid__span-4', 'wp-url-js', 'Syne', 'Overpass', 'large', '--wp--preset--gradient--luminous-vivid-orange-to-vivid-red', '111-6', 'wp-block-jetpack-layout-grid-column', 'wp-container-core-navigation-is-layout-1', '135', 'İbrahim', 'mask0', 'actnbr-fold', 'jetpack-plugins-installer', 'ul', '75-31', 'a', '71-71', 'has-vivid-cyan-blue-to-vivid-purple-gradient-background', '#cf2e2e', 'Yükleniyor', 'has-rufina-font-family', 'random', 'mumin-suresi-40-60', 'log-in', 'screen', 'Moda', 'height', 'has-plus-jakarta-sans-font-family', 'M16', 'pixel', '--wp--style--root--padding-top', 'us', 'Suresi', 'comments', 'wp-block-group-is-layout-flex', 'page-id-6', '620px', '76', 'setLocaleData', '-eJx9jV0OwjAMgy9ECUz8PiDOslWhBNKmWlMNbk8ACQZIvNlfYhuG7LwkxaQQq8tcA6UCXmI05JjOaK58kamRCRAkUbJ0eYnnYdSpR4zWkGsHmS4MRa', 'importmap', 'summary_large_image', 'inset', 'böyle', 'bl', '43043875289a4019ddc0', 'link-ui-block-inserter__back', 'return-1', 'web', 'ico', 'cover', 'word-break', '5h1', 'jetpackSwiperLibraryPath', '848-6', 'has-custom-font-size', '--wp--preset--font-family--literata', 'margin-block-end', '625rem', '7677V10H19', 'column2-mobile-grid__row-2', '26076', '22V4C2', 'gridicons-customize', 'initial', 'has-fahkwang-font-family', 'Created', '--wp--preset--gradient--blush-bordeaux', 'Piazzolla', 'ccpa_applies', 'has-roboto-font-family', 'Zümer', '754', 'DOCTYPE', 'f', '240', '--wp--preset--font-family--sora', '2C7', 'M5', '-eJxdjsEOwiAQRH', 'setItem', 'DrayJyEh9An2ajyTIimUbmruMZHAglqtX78eCjP9steGFLiB7crFqiZ', 'Invalid', 'data-medium-file', '135098', 'hfghfghj', 'AdiDX9c', '202', 'format_id', 'nasr-suresi-110-114', 'Yönet', 'innerHTML', 'data-image-description', 'defer', '--wp--preset--gradient--cool-to-warm-spectrum', '--wp--preset--color--white', 'Validate', 'of', '2h7v-1', 'Hoş', '3271V18L6', '104', 'float', 'camera', '--wp-block-synced-color--rgb', 'Sırasına', 'getElementsByTagName', 'wp-block-post-terms-inline-css', '24L8', 'event', 'jp-carousel-comment-form-email-field', 'adresi', 'has-light-green-cyan-border-color', 'Edit', 'has-very-dark-gray-color', '977', 'Şüphesiz', '20211021', 'has-link-color', 'therefore', 'DZyLL6E', '16', 'Bilgilerimi', 'Okuyucu', 'unable', 'we', 'jp-swiper-button-prev', 'belirtin', 'min-resolution', 'custom-jumplist', '*', 'ReImJKmb3eAmFP9eW3oRL16GeTC8gaUaFG6BG5RuKvWYWWEOrTp87AxFZA3fKShocs', '107-17', '5h4zm6', 'maybeCallDoNotSellCallback', 'uploads', 'jp-carousel-photo-icons-container', 'blog_tz', 'tr', 'jetpack-videopress\\\\', 'h2', '41', 'not', '\\\\\\\\s*\\\\\\\\', 'Şems', 'has-text-align-center', '12C4', '#ccc', 'has-background-dim-0', '375rem', '2019', 'has-small-font-size', 'adıyla', 'gutenberg-core\\\\', 'white', '875em', 'Look', '#ff6900', 'switchadhub', 'edersiniz', '11', 'has-primary-border-color', '--wp--preset--font-family--dm-serif-display', '0%', '100000', 'object', 'wp-block-buttons-inline-css', '4', '493-2', 'İletişim', 'YDtKx2MTvsKzvw', 'lang', '--wp--preset--font-family--fjalla-one', 'Paylaşma', 'wpcom-gray-white', 'coblocks-style', '375em', 'wp-block-template-skip-link-js-after', 'string', 'everythingExceptFlag', 'has-subdued-olive-gradient-background', 'Tam', 'al-i-imran-3-94', '186', 'Reader', 'hover', 'left', '7uar7aZpFuvZ8nQDWDZb2Q', '135099', 'border-color', 'get', 'accept', 'user_lang', 'is-style-default', 'isra-suresi-17-50', 'Mutaffifin', '104-', '1572546', 'rehberliktir', 'D', '113', '0px', 'mere', 'conf', '4-', 'marketing-bar-button', 'script', 'menu-item-home', '12Z', 'sebe-suresi-34-58', 'Cin', '442', 's6', 'hovercards', 'padding-right', 'wrap', '13-87', 'İçeriğe', 'Hümeze', 'has-very-dark-gray-background-color', 'oku', '#2874fc', 'clot', 'uspString', 'Who', 'wp--skip-link--target', 'jetpack-stats-admin', 'Pro', 'iframeOrigins', 'linear-gradient', 'disabled_slot_formats', 'ipine', '6c0-1', 'has-cyan-bluish-gray-background-color', '--wp--preset--font-family--source-serif-4', 'getImageData', '8125', 'functions', 'flex-basis', 'has-text-align-right', 'system-ui', 'yusuf-suresi-12-53', 'jp-carousel-wrap', 'fakat', 'charAt', 'uni05_53', '343', 'ekran-goruntusu-2023-01-16-214108-1', 'number', 'getUSPData', 'aria-hidden', 'gravatar-hovercards', 'has-bodoni-moda-font-family', 'actions', 'needed', '5H4V15C4', '89543', '--wp-admin-theme-color-darker-10', '63-103', '--wp--preset--font-family--bricolage-grotesque', 'beyyine-suresi-98-101', '\\\\ud83c\\\\uddfa\\\\u200b\\\\ud83c\\\\uddf3', '015', '31729', 'marketing-bar-link', '640', 'Leyl', 'bilmediğini', '807-2', 'feed', 'The', 'undefined', '07em', '-2px', 'has-tertiary-border-color', 'everything', 'onload', 'ayrılmayın', 'wp-block-block', 'wp-block-cover__inner-container', 'messages', 'Close', 'subsEmailDefault', '--navigation-layout-justify', 'man', 'Kerim', '3-94', '--wp--preset--font-size--small', 'input', 'Array', 'maun-suresi-107-11', '5V11V12V13', 'şüphe', 'Daha', '1vw', '75%', 'root', 'border-width', '--wp--preset--gradient--luminous-dusk', '003\\\\', '18L19', 'opt-OUT', '251', 'Rabbinin', '69', '45-65', 'KEGA1Vfh6qfgryJWXlx4ihxuuLvCWKXVhwq9ejxzHjGMGfnNRklg6lC1IGFXKtUcOyY43TUzVSf4BdvEB1dljZyqjBrCRiq84K1Ur2azGjyqIntR8FhJKtArW', 'insanı', 'border-bottom-width', '5L12', '#020381', 'enabled', '2-2-', 'kullanımını', '150w', 'Tahrim', 'iowa', '#ab1dfe', 'woocommerce-analytics', 'publisher', 'usprivacyCookie', 'contact', '--wp--preset--font-family--fraunces', '3em', 'belowpost', '1728589033i', '180', 'Muhammed', 'fiZpXV94K0NnbzJlR2F8fHlfdXxUclpDZEdZP3VtOVk5WjZ8LHJNY3FtLTZDXW5YVy5Wc0V4LFd', 'gutenberg-core', 'menu-item', 'kerem', 'willReadFrequently', 'wp-includes\\\\', 'tip-arrow', 'wp-block-search__searchfield-hidden', 'margin-left', 'referrer', '21', '06l6', 'getMobileUserAgentInfo', 'position', 'Nas', 'open', 'is-content-justification-right', '20-45', 'box-sizing', 'start', 'has-foreground-border-color', '52-4', 'tz', 'muddessir-suresi-74-4', 'End', 'click', 'doubleclick', 'pubmine', 'has-literata-font-family', '\\\\u00dczg\\\\u00fcn\\\\u00fcz', 'yes', '56-46', 'jetpack-licensing', '7775', 'kullanılmaktadır', 'Beslemesi', '1610363240i', '4a38a9230b5be1bd6e68', 'California', 'wpcom', 'og', '23', '--wp--preset--aspect-ratio--16-9', '--wp--preset--font-family--chivo', 'state', 'karia-101-28', '--font-base-default', 'style', '19', 'PbZAq0-6', 'has-josefin-sans-font-family', 'customizer-styles-applied', 'domain', 'case', 'Proclaim', 'relative', 'border-top-style', 'checks', 'M12', 'Math', 'comment-likes\\\\', 'lt', '1200px', 'is-default-size', 'has-open-sans-font-family', '234', '188', 'taught', '--wp--preset--font-family--lora', 'wp-block-cover-is-layout-flow', '41L10', 'processing', 'montana', 'muhammed-suresi-47-99', 'Tekvir', 'no_comment_email', '--wp--preset--color--light-green-cyan', 'your', 'linkElements', '74159', '5ZM12', '5V19H19', '--wp-block-synced-color', 'wp-block-paragraph-inline-css', '1557', 'has-merriweather-font-family', 'L3KNrggMnD0NjCeCxaO8hd94KbCKnf9ou2OGbUtAC2EwjmrG', 'schema', 'wp-block-button__width-100', 'rad-suresi-13-87', '--wp--preset--font-size--medium', '134788', 'jetpack-plugin\\\\', '\\\\u0130lgi', '-1', 'border-radius', '^', 'Reklamlar', 'kevser-suresi-108-15', 'Necm', 'Sad', '--wp--preset--font-family--epilogue', 'LUNXY05YMWFkZlV8eXwwfGxjZFR4UDJSJmt4b3R8Tl1yPURpVFgreFhpQUNJZDEseg', 'Rabbi', 'set', 'jp-carousel-comments-wrapper', 'border-style', 'IAB', 'E', 'Dec', '0\\\\', 'wp-jp-i18n-loader-js-after', 'wp-block-search__button', 'DMMono-Medium', 'Profilinizi', 'about', 'has-vivid-red-color', 'Texturina', 'has-pale-pink-border-color', 'modal-3', 'top', 'Space', 'one', '79-81', 'jetpack_vendor\\\\', 'En', 'addEventListener', '870605', 'table', 'showing', 'jp-carousel', '--font-headings', '5V6', 'has-noto-sans-mono-font-family', '110-114', 'masonry', 'Set', '103-13', '25h1', 'noreferrer', '1px', '75em', '5V3H21', '--wp--preset--font-family--poppins', '_', 'max_slots', 'adflow_enabled', 'request', 'site-editor', 'to', 'jetpack-password-checker', 'our', '1346153846153846rem', 'wp-block-post-terms', 'm13', 'zilzal-suresi-99-91', 'wp-block-cover__image-background', 'Menüyü', '10-51', '22C18', 'fill-rule', 'mozilla', 'required', '7-beta3-59268', '102-16', 'Yasin', 'e', 'Lehep', 'supports', 'Rubik', 'suara-suresi-26-47', '2849e94ac3', '--wp--preset--color--vivid-red', 'has-primary-color', 'ol', '70-79', 'USP', 'transition-property', 'wp-block-spacer-inline-css', 'has-electric-grass-gradient-background', 'Buruc', 'letter-spacing', 'connecticut', 'net', 'dnsLink', 'Sorry', '5V11H5', 'they', 'normal', 'data-provider', 'wp-content', '1-simple-rev', '#CDBAF9', 'maide-suresi-5-110', 'border-top-width', 'justify', '--wp--preset--font-family--montserrat', 'bakara-suresi-2-92', 'high', 'read', 'matchedPlatformName', 'navigator', '2H20', '65-100', '4\\\\', 'js\\\\', 'Allah’ın', '--wp--preset--font-family--rubik', 'has-white-background-color', 'İnsan', 'has-drop-cap', 'n', 'De', '5', 'maskInfo', '8721', '--wp--preset--spacing--80', 'was', 'Seeketh', 'IuA1aehI', 'error', '2486C21', 'footer_blog', 'comment', 'button', 'Object', 'has-urbanist-font-family', 'has-black-border-color', '88-68', 'focusable', 'anonymous', 'lehep-tebbet-suresi-111-6', 'focal_length', 'aFTT7PB1QTsUX8KYth-orYatbYf4VllXuA', 'footer_segment_', 'more', 'buton', 'wp-smiley', 'developer', 'wp-hooks-js', 'device-height', 'Enfal', '#DDCFFF', 'data-wp-bind--role', 'svgUrl', 'Kısa', 'embriyodan', '7-39', 'mucadile-suresi-58-104', 'is-content-justification-space-between', '254', 'photo-size\\\\', 'blog', 'yapmak', '3509', 'Requests', 'wp', 'Backup', '848l1', 'vendor\\\\', 'wp-block-heading', 'injected', 'APUR0rO', 'data-image-title', 'check', 'project_id_version', 'flex-grow', 'marginLeft', 'swiper-bundle', '--wp--preset--color--foreground', 'storeContext', 'background-image', '--wp--preset--font-family--arvo', '125rem', 'rid', 'wp-block-search-inline-css', 'WPGroHo', '5-1-1', '68-2', 'd\\\\u00fc\\\\u015f\\\\u00fc\\\\u011fe', 'opacity', 'Number', '50-34', 'setDefaultOptOutCookie', '18', 'textContent', 'wl35hiN1780vfrbZXY56P', 'wp-importmap', 'wp-embed-responsive', 'mask-type', 'pub', '0-2', 'wp-block', 'frequently', 'enam-suresi-6-55', 'Beled', 'last-child', '--wp--preset--font-family--inter', 'x', 'com\\\\', 'me7AXhTk1Sg0K9xBThdDf6UmC8pxxrbBQKw5XxW7k3lSQOENtg0ljrQf4S2AWgs3c9EkfwffIM3xUxdGLkwHfB', 'Kitap’ı', 'that', 'inline-block', 'p', 'Sora', 'space-between', 'creditLinks', 'page-item-6', 'docs', 'filter', '27-48', 'Kasas', 'line-height', 'Maide', '874', 'display_comments', 'property', '2-', '15', 'Kureyş', 'postType', '203', 'png', 'has-background-dim-90', 'Fira', '#006ba1', '48-109', 'href', 'mobileStatsQueryString', 'EB', 'ait', 'JxUj3AB5vam4w', 'wp-block-search__label', 'Isra', 'is-layout-flex', 'vertical-lr', '_setDomainName', 'global-styles-inline-css', 'gdpr', 'region', '39543', 'Yorumlar', 'fastlane', '@media', 'has-blush-bordeaux-gradient-background', 'visitor', '134686', '#dad0ec', 'siteid', '12L16', 'img', '208', 'length', 'twemoji', 'column2-desktop-grid__start-10', 'has-texturina-font-family', 'raquo'}\n"
     ]
    }
   ],
   "source": [
    "# find out all the unique words contained in a web document using set comprehension \n",
    "\n",
    "import requests\n",
    " # import requests module to handle requests for web resources\n",
    "\n",
    "content = requests.get(\"https://toygarpar.wordpress.com\").text \n",
    "seps = [',', '.', '\"', \"'\", '>', '<', '-­ -­  ', '!', '|', ']', '[', '?', ';', '/']  # separators used to separate words\n",
    "\n",
    "seps += [')', '(', '$', '&', ':', '}', '{']\n",
    "ops = ['=', '+']\n",
    "\n",
    "for sp in seps:\n",
    "    content = content.replace(sp, ' ')\n",
    "\n",
    "# replace each of the separators with a space\n",
    "\n",
    "for op in ops:\n",
    "    content = content.replace(op, f' {op} ')\n",
    "\n",
    "# add a space before and after each operator\n",
    "\n",
    "unique = {w for w in content.split()}\n",
    "print(len(unique), unique)"
   ]
  },
  {
   "cell_type": "code",
   "execution_count": 2,
   "metadata": {},
   "outputs": [
    {
     "data": {
      "text/plain": [
       "[12, 24, 36, 48, 60, 72, 84, 96]"
      ]
     },
     "execution_count": 2,
     "metadata": {},
     "output_type": "execute_result"
    }
   ],
   "source": [
    "#1 ile 100 arasında 12'ye bölünebilen sayılar\n",
    "\n",
    "uyg1 = [x for x in range(1, 100) if x %12 == 0]\n",
    "\n",
    "uyg1"
   ]
  },
  {
   "cell_type": "code",
   "execution_count": 24,
   "metadata": {},
   "outputs": [
    {
     "data": {
      "text/plain": [
       "[12, 24, 36, 48, 60, 72, 84, 96]"
      ]
     },
     "execution_count": 24,
     "metadata": {},
     "output_type": "execute_result"
    }
   ],
   "source": [
    "uyg2 = [x for x in range(1, 100) if x % 4 == 0 if x % 3 == 0]\n",
    "\n",
    "uyg2"
   ]
  },
  {
   "cell_type": "code",
   "execution_count": 4,
   "metadata": {},
   "outputs": [
    {
     "name": "stdout",
     "output_type": "stream",
     "text": [
      "[1, 2, 3, 4, 5]\n"
     ]
    }
   ],
   "source": [
    "#uyg verilen text içinde oluşan rakamlardan bir liste oluşturunuz.\n",
    "\n",
    "text = \"Hello 12345 World\"\n",
    "a, b ,c = text.split(\" \")\n",
    "liste = [int(x) for x  in b]\n",
    "print(liste)"
   ]
  },
  {
   "cell_type": "code",
   "execution_count": 25,
   "metadata": {},
   "outputs": [
    {
     "data": {
      "text/plain": [
       "[1, 2, 3, 4, 5]"
      ]
     },
     "execution_count": 25,
     "metadata": {},
     "output_type": "execute_result"
    }
   ],
   "source": [
    "liste2 = [int(x) for x in text if x.isdigit()]\n",
    "\n",
    "liste2"
   ]
  },
  {
   "cell_type": "code",
   "execution_count": 26,
   "metadata": {},
   "outputs": [
    {
     "data": {
      "text/plain": [
       "[20, 15, 'ice hazard', 'ice hazard', 'ice hazard']"
      ]
     },
     "execution_count": 26,
     "metadata": {},
     "output_type": "execute_result"
    }
   ],
   "source": [
    "#uygulama  ice hazard - buzlanma tehlikesi\n",
    "\n",
    "temps = [ 20, 15, 0, -5, -2]\n",
    "\n",
    "ice = [ x if x > 0 else \"ice hazard\" for x in temps]\n",
    "\n",
    "ice"
   ]
  },
  {
   "cell_type": "code",
   "execution_count": 27,
   "metadata": {},
   "outputs": [
    {
     "data": {
      "text/plain": [
       "{'Mike': 65, 'Ross': 85}"
      ]
     },
     "execution_count": 27,
     "metadata": {},
     "output_type": "execute_result"
    }
   ],
   "source": [
    "#notu 50'den fazla olan öğrencileri dict verisinde yazdırın\n",
    "\n",
    "students = [\"John\", \"Mike\", \"Ross\"]\n",
    "\n",
    "grades = [40, 65, 85]\n",
    "\n",
    "zipped = list(zip(students, grades))\n",
    "\n",
    "dict = { stu[0]:stu[1] for stu in zipped if stu[1]> 50}\n",
    "\n",
    "dict"
   ]
  },
  {
   "cell_type": "code",
   "execution_count": 36,
   "metadata": {},
   "outputs": [
    {
     "name": "stdout",
     "output_type": "stream",
     "text": [
      "[('John', 40), ('Mike', 65), ('Ross', 85)]\n"
     ]
    },
    {
     "data": {
      "text/plain": [
       "{'Mike': 65, 'Ross': 85}"
      ]
     },
     "execution_count": 36,
     "metadata": {},
     "output_type": "execute_result"
    }
   ],
   "source": [
    "students = [\"John\", \"Mike\", \"Ross\"]\n",
    "\n",
    "grades = [40, 65, 85]\n",
    "\n",
    "notlistesi = [ (students[i], grades[i]) for i in range(0, len(students))]\n",
    "print(notlistesi)\n",
    "\n",
    "liste_dict = { key : value for (key, value) in notlistesi if value > 50}\n",
    "liste_dict"
   ]
  },
  {
   "cell_type": "code",
   "execution_count": 38,
   "metadata": {},
   "outputs": [
    {
     "data": {
      "text/plain": [
       "[(0, 0, 0),\n",
       " (0, 0, 1),\n",
       " (0, 0, 2),\n",
       " (0, 1, 0),\n",
       " (0, 1, 1),\n",
       " (0, 1, 2),\n",
       " (0, 2, 0),\n",
       " (0, 2, 1),\n",
       " (0, 2, 2),\n",
       " (1, 0, 0),\n",
       " (1, 0, 1),\n",
       " (1, 0, 2),\n",
       " (1, 1, 0),\n",
       " (1, 1, 1),\n",
       " (1, 1, 2),\n",
       " (1, 2, 0),\n",
       " (1, 2, 1),\n",
       " (1, 2, 2),\n",
       " (2, 0, 0),\n",
       " (2, 0, 1),\n",
       " (2, 0, 2),\n",
       " (2, 1, 0),\n",
       " (2, 1, 1),\n",
       " (2, 1, 2),\n",
       " (2, 2, 0),\n",
       " (2, 2, 1),\n",
       " (2, 2, 2)]"
      ]
     },
     "execution_count": 38,
     "metadata": {},
     "output_type": "execute_result"
    }
   ],
   "source": [
    "#uyg for loop ile yazılan uygulamayı list compa çevirin\n",
    "\n",
    "res = []\n",
    "\n",
    "for a in range(3):\n",
    "    for b in range(3):\n",
    "        for c in range(3):\n",
    "            res.append((a, b, c))\n",
    "\n",
    "res"
   ]
  },
  {
   "cell_type": "code",
   "execution_count": 37,
   "metadata": {},
   "outputs": [
    {
     "data": {
      "text/plain": [
       "[(0, 0, 0),\n",
       " (0, 0, 1),\n",
       " (0, 0, 2),\n",
       " (0, 1, 0),\n",
       " (0, 1, 1),\n",
       " (0, 1, 2),\n",
       " (0, 2, 0),\n",
       " (0, 2, 1),\n",
       " (0, 2, 2),\n",
       " (1, 0, 0),\n",
       " (1, 0, 1),\n",
       " (1, 0, 2),\n",
       " (1, 1, 0),\n",
       " (1, 1, 1),\n",
       " (1, 1, 2),\n",
       " (1, 2, 0),\n",
       " (1, 2, 1),\n",
       " (1, 2, 2),\n",
       " (2, 0, 0),\n",
       " (2, 0, 1),\n",
       " (2, 0, 2),\n",
       " (2, 1, 0),\n",
       " (2, 1, 1),\n",
       " (2, 1, 2),\n",
       " (2, 2, 0),\n",
       " (2, 2, 1),\n",
       " (2, 2, 2)]"
      ]
     },
     "execution_count": 37,
     "metadata": {},
     "output_type": "execute_result"
    }
   ],
   "source": [
    "listcomp = [ (x, y, z ) for x in range(3) for y in range(3) for z in range(3)]\n",
    "\n",
    "listcomp"
   ]
  },
  {
   "cell_type": "code",
   "execution_count": null,
   "metadata": {},
   "outputs": [],
   "source": []
  }
 ],
 "metadata": {
  "kernelspec": {
   "display_name": "base",
   "language": "python",
   "name": "python3"
  },
  "language_info": {
   "codemirror_mode": {
    "name": "ipython",
    "version": 3
   },
   "file_extension": ".py",
   "mimetype": "text/x-python",
   "name": "python",
   "nbconvert_exporter": "python",
   "pygments_lexer": "ipython3",
   "version": "3.12.7"
  }
 },
 "nbformat": 4,
 "nbformat_minor": 2
}
