{
 "cells": [
  {
   "cell_type": "markdown",
   "metadata": {},
   "source": [
    "Mantıksal Operatörler\n",
    "\n",
    "And - her bir koşul True olmalı\n",
    "\n",
    "True, True => True\n",
    "True, False => False\n",
    "False,False => False\n",
    "\n",
    "Or - Koşullardan biri True olmalı\n",
    "\n",
    "True,True => True\n",
    "True,False=>> True\n",
    "False,False => False\n",
    "\n",
    "Not - Sonucun Tersi True olmalı\n",
    "False=> True\n",
    "True=> False"
   ]
  },
  {
   "cell_type": "code",
   "execution_count": 3,
   "metadata": {},
   "outputs": [
    {
     "name": "stdout",
     "output_type": "stream",
     "text": [
      "True\n"
     ]
    }
   ],
   "source": [
    "age = 21\n",
    "mezuniyet = \"üniversite\"\n",
    "res = (age >= 18) and ((mezuniyet == \"lise\") or (mezuniyet == \"üniversite\"))\n",
    "print(res)"
   ]
  },
  {
   "cell_type": "code",
   "execution_count": 5,
   "metadata": {},
   "outputs": [
    {
     "name": "stdout",
     "output_type": "stream",
     "text": [
      "False\n"
     ]
    }
   ],
   "source": [
    "x = 11\n",
    "\n",
    "res1 = x > 5 and x < 10\n",
    "\n",
    "print(res1)"
   ]
  },
  {
   "cell_type": "code",
   "execution_count": 6,
   "metadata": {},
   "outputs": [
    {
     "name": "stdout",
     "output_type": "stream",
     "text": [
      "False\n"
     ]
    }
   ],
   "source": [
    "res2 = x > 0 and x % 2 == 0\n",
    "print(res2)"
   ]
  },
  {
   "cell_type": "code",
   "execution_count": 7,
   "metadata": {},
   "outputs": [
    {
     "name": "stdout",
     "output_type": "stream",
     "text": [
      "True\n"
     ]
    }
   ],
   "source": [
    "res3 = x > 0 or x % 2 == 0\n",
    "print(res3)"
   ]
  },
  {
   "cell_type": "code",
   "execution_count": 8,
   "metadata": {},
   "outputs": [
    {
     "name": "stdout",
     "output_type": "stream",
     "text": [
      "True\n"
     ]
    }
   ],
   "source": [
    "res4 = x > 0 or not x % 2 == 0\n",
    "print(res4)"
   ]
  },
  {
   "cell_type": "code",
   "execution_count": 23,
   "metadata": {},
   "outputs": [
    {
     "name": "stdout",
     "output_type": "stream",
     "text": [
      "İzin var: True\n"
     ]
    }
   ],
   "source": [
    "#uygulama\n",
    "age = 19\n",
    "izin = \"var\"\n",
    "res5 = age > 18 or izin == \"var\"\n",
    "print(f\"İzin var: {res5}\")"
   ]
  },
  {
   "cell_type": "code",
   "execution_count": 24,
   "metadata": {},
   "outputs": [
    {
     "name": "stdout",
     "output_type": "stream",
     "text": [
      "Sınıfı Geçti: True, Teşekkür belgesi ama durumu: False\n"
     ]
    }
   ],
   "source": [
    "notliste = [ 50 ,60 ,70]\n",
    "gecme = 50 <= ((notliste[0] + notliste[1] + notliste[2]) / len(notliste)) <=100\n",
    "tesekkur = gecme >= 70\n",
    "print(f\"Sınıfı Geçti: {gecme}, Teşekkür belgesi ama durumu: {tesekkur}\")"
   ]
  },
  {
   "cell_type": "code",
   "execution_count": 19,
   "metadata": {},
   "outputs": [
    {
     "name": "stdout",
     "output_type": "stream",
     "text": [
      "İşe alınabilir:False\n"
     ]
    }
   ],
   "source": [
    "diploma = \"lisans\"\n",
    "sigara = True\n",
    "work = (diploma == \"lisans\") and not (sigara == True)\n",
    "print(f\"İşe alınabilir:{work}\")"
   ]
  },
  {
   "cell_type": "code",
   "execution_count": 26,
   "metadata": {},
   "outputs": [
    {
     "name": "stdout",
     "output_type": "stream",
     "text": [
      "Eriişim verilebilir: True\n"
     ]
    }
   ],
   "source": [
    "username = \"toygar\"\n",
    "email =\"toygar@par.com\"\n",
    "parola = \"passwd\"\n",
    "\n",
    "entered_username = input(\"username veya email giriniz: \")\n",
    "entered_parola = input(\"Parola giriniz: \")\n",
    "\n",
    "\n",
    "erisim = (username == entered_username or email == entered_username) and (parola == entered_parola)\n",
    "\n",
    "print(f\"Eriişim verilebilir: {erisim}\")"
   ]
  },
  {
   "cell_type": "markdown",
   "metadata": {},
   "source": [
    "Identity and Membership Operators\n",
    "\n",
    "is - nesnenin aynılığını kontrol eder\n",
    "\n",
    "is - nesnein farklı olup olmadığını kontrol eder\n",
    "\n",
    "in  - collectionda üyelik kontrolü yapar\n",
    "\n",
    "not in -  collectionda olmadığının kontrolünü yapar"
   ]
  },
  {
   "cell_type": "code",
   "execution_count": 33,
   "metadata": {},
   "outputs": [],
   "source": [
    "nums = [3, 5, 7]\n",
    "nums1 = [3, 5, 7]\n",
    "nums2 = nums\n"
   ]
  },
  {
   "cell_type": "code",
   "execution_count": 28,
   "metadata": {},
   "outputs": [
    {
     "data": {
      "text/plain": [
       "True"
      ]
     },
     "execution_count": 28,
     "metadata": {},
     "output_type": "execute_result"
    }
   ],
   "source": [
    "nums == nums1"
   ]
  },
  {
   "cell_type": "code",
   "execution_count": 29,
   "metadata": {},
   "outputs": [
    {
     "data": {
      "text/plain": [
       "False"
      ]
     },
     "execution_count": 29,
     "metadata": {},
     "output_type": "execute_result"
    }
   ],
   "source": [
    "nums is nums1"
   ]
  },
  {
   "cell_type": "code",
   "execution_count": 31,
   "metadata": {},
   "outputs": [
    {
     "data": {
      "text/plain": [
       "(134742252806464, 134742252594240)"
      ]
     },
     "execution_count": 31,
     "metadata": {},
     "output_type": "execute_result"
    }
   ],
   "source": [
    "id(nums), id(nums1)"
   ]
  },
  {
   "cell_type": "code",
   "execution_count": 32,
   "metadata": {},
   "outputs": [
    {
     "data": {
      "text/plain": [
       "True"
      ]
     },
     "execution_count": 32,
     "metadata": {},
     "output_type": "execute_result"
    }
   ],
   "source": [
    "nums is not nums1"
   ]
  },
  {
   "cell_type": "code",
   "execution_count": 34,
   "metadata": {},
   "outputs": [
    {
     "data": {
      "text/plain": [
       "True"
      ]
     },
     "execution_count": 34,
     "metadata": {},
     "output_type": "execute_result"
    }
   ],
   "source": [
    "nums2 == nums"
   ]
  },
  {
   "cell_type": "code",
   "execution_count": 35,
   "metadata": {},
   "outputs": [
    {
     "data": {
      "text/plain": [
       "True"
      ]
     },
     "execution_count": 35,
     "metadata": {},
     "output_type": "execute_result"
    }
   ],
   "source": [
    "nums2 is nums"
   ]
  },
  {
   "cell_type": "code",
   "execution_count": 36,
   "metadata": {},
   "outputs": [
    {
     "data": {
      "text/plain": [
       "True"
      ]
     },
     "execution_count": 36,
     "metadata": {},
     "output_type": "execute_result"
    }
   ],
   "source": [
    "nums1 is not nums2"
   ]
  },
  {
   "cell_type": "code",
   "execution_count": 37,
   "metadata": {},
   "outputs": [
    {
     "data": {
      "text/plain": [
       "False"
      ]
     },
     "execution_count": 37,
     "metadata": {},
     "output_type": "execute_result"
    }
   ],
   "source": [
    "9 in nums"
   ]
  },
  {
   "cell_type": "code",
   "execution_count": 38,
   "metadata": {},
   "outputs": [
    {
     "data": {
      "text/plain": [
       "True"
      ]
     },
     "execution_count": 38,
     "metadata": {},
     "output_type": "execute_result"
    }
   ],
   "source": [
    "9 not in nums"
   ]
  },
  {
   "cell_type": "code",
   "execution_count": null,
   "metadata": {},
   "outputs": [],
   "source": []
  }
 ],
 "metadata": {
  "kernelspec": {
   "display_name": "base",
   "language": "python",
   "name": "python3"
  },
  "language_info": {
   "codemirror_mode": {
    "name": "ipython",
    "version": 3
   },
   "file_extension": ".py",
   "mimetype": "text/x-python",
   "name": "python",
   "nbconvert_exporter": "python",
   "pygments_lexer": "ipython3",
   "version": "3.12.4"
  }
 },
 "nbformat": 4,
 "nbformat_minor": 2
}
