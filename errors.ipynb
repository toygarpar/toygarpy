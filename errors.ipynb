{
 "cells": [
  {
   "cell_type": "markdown",
   "metadata": {},
   "source": [
    "ERROR MANAGEMENT / HATA YÖNETİMİ\n",
    "\n",
    "HOW TO HANDLE ERRORS\n",
    "\n",
    "wang203\n",
    "\n",
    "When programming, you should put a code block in a try-­except statement if\n",
    "you know that an error or errors might occur and you may even know what kind\n",
    "of error it may be. \n",
    "\n",
    "\n",
    "NameError - tanımlanmamış bir değişken kullanımı\n",
    "\n",
    "TYpeError - hatalı parametre kullanımı\n",
    "\n",
    "IndexError - yanlış index kullanımı\n",
    "\n",
    "Syntax Error - Yazım hatası\n",
    "\n",
    "ZeroDivisionError - 0 ile bölmeye çalışmak\n",
    "\n",
    "KeyError - dictte hatalı key kullanımı\n",
    "\n",
    "Attribute Error  - olmayan bir özelliğe ulaşmak istediğimizde"
   ]
  },
  {
   "cell_type": "code",
   "execution_count": 2,
   "metadata": {},
   "outputs": [
    {
     "data": {
      "text/plain": [
       "3000"
      ]
     },
     "execution_count": 2,
     "metadata": {},
     "output_type": "execute_result"
    }
   ],
   "source": [
    "import sys  # the set recursion depth\n",
    "sys.getrecursionlimit()"
   ]
  },
  {
   "cell_type": "code",
   "execution_count": null,
   "metadata": {},
   "outputs": [],
   "source": []
  },
  {
   "cell_type": "code",
   "execution_count": null,
   "metadata": {},
   "outputs": [
    {
     "ename": "SyntaxError",
     "evalue": "invalid syntax (3658363191.py, line 1)",
     "output_type": "error",
     "traceback": [
      "\u001b[0;36m  Cell \u001b[0;32mIn[6], line 1\u001b[0;36m\u001b[0m\n",
      "\u001b[0;31m    def yazim_hata(()):\u001b[0m\n",
      "\u001b[0m                   ^\u001b[0m\n",
      "\u001b[0;31mSyntaxError\u001b[0m\u001b[0;31m:\u001b[0m invalid syntax\n"
     ]
    }
   ],
   "source": [
    "def yazim_hata(()):\n",
    "    pass"
   ]
  },
  {
   "cell_type": "code",
   "execution_count": null,
   "metadata": {},
   "outputs": [
    {
     "ename": "NameError",
     "evalue": "name 'toygar' is not defined",
     "output_type": "error",
     "traceback": [
      "\u001b[0;31m---------------------------------------------------------------------------\u001b[0m\n",
      "\u001b[0;31mNameError\u001b[0m                                 Traceback (most recent call last)\n",
      "Cell \u001b[0;32mIn[7], line 1\u001b[0m\n",
      "\u001b[0;32m----> 1\u001b[0m \u001b[38;5;28mprint\u001b[39m(toygar)\n",
      "\n",
      "\u001b[0;31mNameError\u001b[0m: name 'toygar' is not defined"
     ]
    }
   ],
   "source": [
    "print(toygar)"
   ]
  },
  {
   "cell_type": "code",
   "execution_count": null,
   "metadata": {},
   "outputs": [
    {
     "ename": "TypeError",
     "evalue": "object of type 'int' has no len()",
     "output_type": "error",
     "traceback": [
      "\u001b[0;31m---------------------------------------------------------------------------\u001b[0m\n",
      "\u001b[0;31mTypeError\u001b[0m                                 Traceback (most recent call last)\n",
      "Cell \u001b[0;32mIn[8], line 1\u001b[0m\n",
      "\u001b[0;32m----> 1\u001b[0m \u001b[38;5;28mlen\u001b[39m(\u001b[38;5;241m15\u001b[39m)\n",
      "\n",
      "\u001b[0;31mTypeError\u001b[0m: object of type 'int' has no len()"
     ]
    }
   ],
   "source": [
    "len(15)"
   ]
  },
  {
   "cell_type": "code",
   "execution_count": 9,
   "metadata": {},
   "outputs": [
    {
     "ename": "IndexError",
     "evalue": "list index out of range",
     "output_type": "error",
     "traceback": [
      "\u001b[0;31m---------------------------------------------------------------------------\u001b[0m",
      "\u001b[0;31mIndexError\u001b[0m                                Traceback (most recent call last)",
      "Cell \u001b[0;32mIn[9], line 2\u001b[0m\n\u001b[1;32m      1\u001b[0m liste \u001b[38;5;241m=\u001b[39m[\u001b[38;5;241m10\u001b[39m]\n\u001b[0;32m----> 2\u001b[0m liste[\u001b[38;5;241m1\u001b[39m]\n",
      "\u001b[0;31mIndexError\u001b[0m: list index out of range"
     ]
    }
   ],
   "source": [
    "liste =[10]\n",
    "liste[1]"
   ]
  },
  {
   "cell_type": "code",
   "execution_count": 10,
   "metadata": {},
   "outputs": [
    {
     "ename": "KeyError",
     "evalue": "'key'",
     "output_type": "error",
     "traceback": [
      "\u001b[0;31m---------------------------------------------------------------------------\u001b[0m",
      "\u001b[0;31mKeyError\u001b[0m                                  Traceback (most recent call last)",
      "Cell \u001b[0;32mIn[10], line 2\u001b[0m\n\u001b[1;32m      1\u001b[0m a \u001b[38;5;241m=\u001b[39m {}\n\u001b[0;32m----> 2\u001b[0m a[\u001b[38;5;124m\"\u001b[39m\u001b[38;5;124mkey\u001b[39m\u001b[38;5;124m\"\u001b[39m]\n",
      "\u001b[0;31mKeyError\u001b[0m: 'key'"
     ]
    }
   ],
   "source": [
    "a = {}\n",
    "a[\"key\"]"
   ]
  },
  {
   "cell_type": "code",
   "execution_count": 11,
   "metadata": {},
   "outputs": [
    {
     "ename": "AttributeError",
     "evalue": "'str' object has no attribute 'Lower'",
     "output_type": "error",
     "traceback": [
      "\u001b[0;31m---------------------------------------------------------------------------\u001b[0m",
      "\u001b[0;31mAttributeError\u001b[0m                            Traceback (most recent call last)",
      "Cell \u001b[0;32mIn[11], line 1\u001b[0m\n\u001b[0;32m----> 1\u001b[0m \u001b[38;5;124m\"\u001b[39m\u001b[38;5;124mhello\u001b[39m\u001b[38;5;124m\"\u001b[39m\u001b[38;5;241m.\u001b[39mLower()\n",
      "\u001b[0;31mAttributeError\u001b[0m: 'str' object has no attribute 'Lower'"
     ]
    }
   ],
   "source": [
    "\"hello\".Lower()"
   ]
  },
  {
   "cell_type": "code",
   "execution_count": 6,
   "metadata": {},
   "outputs": [
    {
     "name": "stdout",
     "output_type": "stream",
     "text": [
      "Invalid input. Please enter numbers only.\n"
     ]
    }
   ],
   "source": [
    "#hataların ve istisnaların nasıl işlendiğini gösteren bir python programı\n",
    "\n",
    "# ask for user input for two numbers\n",
    "\n",
    "num1 = input(\"Enter the first integer number: \")\n",
    "num2 = input(\"Enter the second integer number: \")\n",
    "\n",
    "\n",
    "#try block\n",
    "\n",
    "try:\n",
    "    result = int(num1) / int(num2)\n",
    "    print(f\"The result of dividing {num1} by {num2} is {result}.\")\n",
    "\n",
    "#handle the possible errors and exceptions\n",
    "\n",
    "except ValueError:\n",
    "    print(\"Invalid input. Please enter numbers only.\")\n",
    "except ZeroDivisionError:\n",
    "    print(\"Cannot divide by zero. Please enter a nonzero number.\")\n",
    "except Exception as err:\n",
    "    print(f\"An unexpected error occurred: {err}\")"
   ]
  },
  {
   "cell_type": "code",
   "execution_count": 2,
   "metadata": {},
   "outputs": [
    {
     "name": "stdout",
     "output_type": "stream",
     "text": [
      "hata oluştu\n",
      "hata oluştu\n",
      "hata oluştu\n",
      "hata oluştu\n",
      "72\n"
     ]
    }
   ],
   "source": [
    "success = False\n",
    "\n",
    "while not success:\n",
    "\n",
    "    try:\n",
    "\n",
    "\n",
    "        x = int(input(\"X: \"))\n",
    "        y = int(input(\"Y: \"))\n",
    "\n",
    "        print(x + y)\n",
    "\n",
    "        success = True\n",
    "\n",
    "\n",
    "    except:\n",
    "        print(\"hata oluştu\")"
   ]
  },
  {
   "cell_type": "code",
   "execution_count": 4,
   "metadata": {},
   "outputs": [
    {
     "ename": "ValueError",
     "evalue": "invalid literal for int() with base 10: '20a'",
     "output_type": "error",
     "traceback": [
      "\u001b[0;31m---------------------------------------------------------------------------\u001b[0m",
      "\u001b[0;31mValueError\u001b[0m                                Traceback (most recent call last)",
      "Cell \u001b[0;32mIn[4], line 2\u001b[0m\n\u001b[1;32m      1\u001b[0m x \u001b[38;5;241m=\u001b[39m \u001b[38;5;28mint\u001b[39m(\u001b[38;5;28minput\u001b[39m(\u001b[38;5;124m\"\u001b[39m\u001b[38;5;124mX: \u001b[39m\u001b[38;5;124m\"\u001b[39m))\n\u001b[0;32m----> 2\u001b[0m y \u001b[38;5;241m=\u001b[39m \u001b[38;5;28mint\u001b[39m(\u001b[38;5;28minput\u001b[39m(\u001b[38;5;124m\"\u001b[39m\u001b[38;5;124mY: \u001b[39m\u001b[38;5;124m\"\u001b[39m))\n\u001b[1;32m      4\u001b[0m \u001b[38;5;28mprint\u001b[39m(x \u001b[38;5;241m/\u001b[39m y)\n",
      "\u001b[0;31mValueError\u001b[0m: invalid literal for int() with base 10: '20a'"
     ]
    }
   ],
   "source": [
    "x = int(input(\"X: \"))\n",
    "y = int(input(\"Y: \"))\n",
    "\n",
    "print(x / y)"
   ]
  },
  {
   "cell_type": "code",
   "execution_count": 5,
   "metadata": {},
   "outputs": [
    {
     "name": "stdout",
     "output_type": "stream",
     "text": [
      "hata oluştu division by zero\n",
      "hata oluştu invalid literal for int() with base 10: '20a'\n",
      "0.6\n"
     ]
    }
   ],
   "source": [
    "success = False\n",
    "\n",
    "while not success:\n",
    "\n",
    "    try:\n",
    "\n",
    "\n",
    "        x = int(input(\"X: \"))\n",
    "        y = int(input(\"Y: \"))\n",
    "\n",
    "        print(x / y)\n",
    "\n",
    "        success = True\n",
    "\n",
    "\n",
    "    except Exception as err:\n",
    "        print(\"hata oluştu:\", err)"
   ]
  },
  {
   "cell_type": "code",
   "execution_count": 16,
   "metadata": {},
   "outputs": [
    {
     "name": "stdout",
     "output_type": "stream",
     "text": [
      "Please enter a nonzero  integer number:  invalid literal for int() with base 10: '2a'\n"
     ]
    }
   ],
   "source": [
    "# ask for user input for two numbers\n",
    "\n",
    "num1 = input(\"Enter the first integer number: \")\n",
    "num2 = input(\"Enter the second integer number: \")\n",
    "\n",
    "\n",
    "#try block\n",
    "\n",
    "try:\n",
    "    result = int(num1) / int(num2)\n",
    "    print(f\"The result of dividing {num1} by {num2} is {result}.\")\n",
    "\n",
    "#handle the possible errors and exceptions\n",
    "\n",
    "\n",
    "except (ZeroDivisionError, ValueError) as err0:\n",
    "    print(\"Please enter a nonzero  integer number: \", err0)\n",
    "except Exception as err:\n",
    "    print(f\"An unexpected error occurred: {err}\")"
   ]
  },
  {
   "cell_type": "code",
   "execution_count": 2,
   "metadata": {},
   "outputs": [
    {
     "name": "stdout",
     "output_type": "stream",
     "text": [
      "Perfect numbers found between 3 and 10: \n",
      "[6, [1, 2, 3]] "
     ]
    }
   ],
   "source": [
    "#düzeltilen kod\n",
    "\n",
    "success = False\n",
    "\n",
    "# ask for user input for two numbers\n",
    "\n",
    "while not success:\n",
    "\n",
    "    num1 = input(\"Enter the first integer number: \")\n",
    "    num2 = input(\"Enter the second integer number: \")\n",
    "\n",
    "    try:\n",
    "        x, y  = int(num1), int(num2)\n",
    "\n",
    "        success = True\n",
    "\n",
    "        if x > y:\n",
    "            x, y = y, x\n",
    "\n",
    "        liste = []\n",
    "\n",
    "\n",
    "        for n in range(x, y+1):\n",
    "            fliste = [1]\n",
    "\n",
    "            for f in range(2, n):\n",
    "                if n % f == 0:\n",
    "                    if not f in fliste:\n",
    "                        fliste.append(f)\n",
    "\n",
    "            if n == sum(fliste):\n",
    "                liste.append([n, fliste])\n",
    "\n",
    "\n",
    "\n",
    "        print(f\"Perfect numbers found between {x} and {y}: \")\n",
    "\n",
    "        for n in liste:\n",
    "            print(n, end=\" \")\n",
    "\n",
    "    except ValueError as verr:\n",
    "        print(\"invalid input: please enter numbers only \", verr)\n",
    "\n",
    "    except ZeroDivisionError as zerr:\n",
    "        print(\"can not divide by zero, please enter a nonzero number \", zerr)\n",
    "\n",
    "    except Exception as err:\n",
    "        print(\"an unexpected error has occured \", err)\n",
    "\n"
   ]
  },
  {
   "cell_type": "code",
   "execution_count": 1,
   "metadata": {},
   "outputs": [
    {
     "name": "stdout",
     "output_type": "stream",
     "text": [
      "Perfect numbers found between 3 and 10: \n",
      "Number: 6, Divisors: [1, 2, 3]\n",
      "finally bloğu çalıştı\n"
     ]
    }
   ],
   "source": [
    "#find perfect numbers and their divisors\n",
    "\n",
    "success = False\n",
    "\n",
    "# Ask for user input for two numbers\n",
    "while not success:\n",
    "    num1 = input(\"Enter the first integer number: \")\n",
    "    num2 = input(\"Enter the second integer number: \")\n",
    "\n",
    "    try:\n",
    "        x, y = int(num1), int(num2)  # Convert input to integers\n",
    "        success = True  # If no exception, set success to True\n",
    "\n",
    "        # Ensure x is the smaller number\n",
    "        if x > y:\n",
    "            x, y = y, x\n",
    "\n",
    "        liste = []\n",
    "\n",
    "        # Loop through the range from x to y (inclusive)\n",
    "        for n in range(x, y + 1):\n",
    "            fliste = [1]  # Start with 1 as a factor\n",
    "\n",
    "            # Find divisors (excluding the number itself)\n",
    "            for f in range(2, n):\n",
    "                if n % f == 0:\n",
    "                    fliste.append(f)\n",
    "\n",
    "            # Check if the sum of divisors equals the number (perfect number)\n",
    "            if n == sum(fliste):\n",
    "                liste.append([n, fliste])  # Append the perfect number and its divisors\n",
    "\n",
    "        # Output the result\n",
    "        print(f\"Perfect numbers found between {x} and {y}: \")\n",
    "        if liste:\n",
    "            for n in liste:\n",
    "                print(f\"Number: {n[0]}, Divisors: {n[1]}\")\n",
    "        else:\n",
    "            print(\"No perfect numbers found.\")\n",
    "\n",
    "    except ValueError as verr:\n",
    "        print(\"Invalid input: please enter numbers only.\", verr)\n",
    "\n",
    "    except ZeroDivisionError as zerr:\n",
    "        print(\"Cannot divide by zero, please enter a non-zero number.\", zerr)\n",
    "\n",
    "    except Exception as err:\n",
    "        print(\"An unexpected error has occurred.\", err)\n",
    "\n",
    "    else:\n",
    "        break\n",
    "\n",
    "    finally:\n",
    "        print(\"finally bloğu çalıştı\")  #her halikarda çalışır\n"
   ]
  },
  {
   "cell_type": "code",
   "execution_count": 2,
   "metadata": {},
   "outputs": [],
   "source": [
    "#sadece sayısal değerleri bulunuz\n",
    "\n",
    "liste1 = [\"1\",\"2\",\"3\",\"5\",\"8\",\"13\",\"21\", \"23a\", \"xyz\", \"9c\", \"63\"]"
   ]
  },
  {
   "cell_type": "code",
   "execution_count": 4,
   "metadata": {},
   "outputs": [
    {
     "name": "stdout",
     "output_type": "stream",
     "text": [
      "1\n",
      "2\n",
      "3\n",
      "5\n",
      "8\n",
      "13\n",
      "21\n",
      "63\n"
     ]
    }
   ],
   "source": [
    "\n",
    "for i in liste1:\n",
    "    try:\n",
    "\n",
    "        res = int(i)\n",
    "        print(res)\n",
    "    except ValueError:\n",
    "        continue\n"
   ]
  },
  {
   "cell_type": "code",
   "execution_count": 4,
   "metadata": {},
   "outputs": [
    {
     "name": "stdout",
     "output_type": "stream",
     "text": [
      "sayısal değer giriniiz!\n",
      "sayısal değer giriniiz!\n",
      "sayısal değer giriniiz!\n",
      "sayısal değer giriniiz!\n",
      "Girdiğiniz sayı geçerli: 63\n"
     ]
    }
   ],
   "source": [
    "#kullanıcı q değeri girmedikçe aldığınız her inputun sayı olduğundan emin olunuz aksi halde hata mesajı\n",
    "\n",
    "while True:\n",
    "    x = input(\"Sayısal bir değer giriniz: \")\n",
    "    if x == \"q\":\n",
    "        break\n",
    "\n",
    "    try:\n",
    "        x = int(x)\n",
    "        if int(x):\n",
    "            print(f\"Girdiğiniz sayı geçerli: {int(x)}\")\n",
    "            break\n",
    "    except ValueError as err:\n",
    "        print(\"sayısal değer giriniiz!\")\n",
    "        continue\n",
    "   "
   ]
  },
  {
   "cell_type": "code",
   "execution_count": 15,
   "metadata": {},
   "outputs": [],
   "source": [
    "#dict ve key bilgilerini parametre olarak lan get(dict, key)  fonku hazırla\n",
    "\n",
    "phone = { \"product_name\" : \"Huawei Matebook\"}\n",
    "\n",
    "phone1 = { \"product_name\" : \"Huawei Matebook\", \"price\" : 15000}\n",
    "\n",
    "\n",
    "\n",
    "def get(liste, key):\n",
    "    try:\n",
    "        return liste[key]\n",
    "    except KeyError:\n",
    "        return None\n",
    "\n"
   ]
  },
  {
   "cell_type": "code",
   "execution_count": 12,
   "metadata": {},
   "outputs": [
    {
     "name": "stdout",
     "output_type": "stream",
     "text": [
      "None\n"
     ]
    }
   ],
   "source": [
    "result = get(phone, \"price\")\n",
    "print(result)"
   ]
  },
  {
   "cell_type": "code",
   "execution_count": 14,
   "metadata": {},
   "outputs": [
    {
     "data": {
      "text/plain": [
       "'Huawei Matebook'"
      ]
     },
     "execution_count": 14,
     "metadata": {},
     "output_type": "execute_result"
    }
   ],
   "source": [
    "get(phone, \"product_name\")"
   ]
  },
  {
   "cell_type": "code",
   "execution_count": 16,
   "metadata": {},
   "outputs": [
    {
     "data": {
      "text/plain": [
       "15000"
      ]
     },
     "execution_count": 16,
     "metadata": {},
     "output_type": "execute_result"
    }
   ],
   "source": [
    "get(phone1, \"price\")"
   ]
  },
  {
   "cell_type": "code",
   "execution_count": 1,
   "metadata": {},
   "outputs": [
    {
     "ename": "ValueError",
     "evalue": "x 5'den büyük olamaz",
     "output_type": "error",
     "traceback": [
      "\u001b[0;31m---------------------------------------------------------------------------\u001b[0m",
      "\u001b[0;31mValueError\u001b[0m                                Traceback (most recent call last)",
      "Cell \u001b[0;32mIn[1], line 9\u001b[0m\n\u001b[1;32m      5\u001b[0m x \u001b[38;5;241m=\u001b[39m \u001b[38;5;241m7\u001b[39m\n\u001b[1;32m      8\u001b[0m \u001b[38;5;28;01mif\u001b[39;00m x \u001b[38;5;241m>\u001b[39m \u001b[38;5;241m5\u001b[39m:\n\u001b[0;32m----> 9\u001b[0m  \u001b[38;5;28;01mraise\u001b[39;00m \u001b[38;5;167;01mValueError\u001b[39;00m (\u001b[38;5;124m\"\u001b[39m\u001b[38;5;124mx 5\u001b[39m\u001b[38;5;124m'\u001b[39m\u001b[38;5;124mden büyük olamaz\u001b[39m\u001b[38;5;124m\"\u001b[39m)\n",
      "\u001b[0;31mValueError\u001b[0m: x 5'den büyük olamaz"
     ]
    }
   ],
   "source": [
    "#Raise Error\n",
    "\n",
    "\n",
    "\n",
    "x = 7\n",
    "\n",
    "\n",
    "if x > 5:\n",
    " raise ValueError (\"x 5'den büyük olamaz\")\n",
    " "
   ]
  },
  {
   "cell_type": "code",
   "execution_count": 24,
   "metadata": {},
   "outputs": [],
   "source": [
    "# text  = input(\"Mesaj giriniz: \")\n",
    "# color = input(\"color giriniz: \")\n",
    "\n",
    "\n",
    "def color_me(text , color):\n",
    "    colors = (\"blue\", \"red\", \"white\", \"orange\", \"black\")\n",
    "    if type(text) is not str:\n",
    "        raise TypeError(\"text str tipinde olmalıdır\")\n",
    "    elif type(color) is not str:\n",
    "        raise  TypeError(\"color str olmalıdır\")\n",
    "    elif color not in colors:\n",
    "        raise ValueError(\"geçersiz color girildi\")\n",
    "    else:\n",
    "        print(f\"{text}, {color} olarak yazıldı\")\n",
    "    \n",
    "\n"
   ]
  },
  {
   "cell_type": "code",
   "execution_count": 25,
   "metadata": {},
   "outputs": [
    {
     "name": "stdout",
     "output_type": "stream",
     "text": [
      "Selam, red olarak yazıldı\n"
     ]
    }
   ],
   "source": [
    "color_me(\"Selam\", \"red\")\n"
   ]
  },
  {
   "cell_type": "code",
   "execution_count": 26,
   "metadata": {},
   "outputs": [
    {
     "ename": "ValueError",
     "evalue": "geçersiz color girildi",
     "output_type": "error",
     "traceback": [
      "\u001b[0;31m---------------------------------------------------------------------------\u001b[0m",
      "\u001b[0;31mValueError\u001b[0m                                Traceback (most recent call last)",
      "Cell \u001b[0;32mIn[26], line 1\u001b[0m\n\u001b[0;32m----> 1\u001b[0m color_me(\u001b[38;5;124m\"\u001b[39m\u001b[38;5;124mHi\u001b[39m\u001b[38;5;124m\"\u001b[39m, \u001b[38;5;124m\"\u001b[39m\u001b[38;5;124myellow\u001b[39m\u001b[38;5;124m\"\u001b[39m)\n",
      "Cell \u001b[0;32mIn[24], line 12\u001b[0m, in \u001b[0;36mcolor_me\u001b[0;34m(text, color)\u001b[0m\n\u001b[1;32m     10\u001b[0m     \u001b[38;5;28;01mraise\u001b[39;00m  \u001b[38;5;167;01mTypeError\u001b[39;00m(\u001b[38;5;124m\"\u001b[39m\u001b[38;5;124mcolor str olmalıdır\u001b[39m\u001b[38;5;124m\"\u001b[39m)\n\u001b[1;32m     11\u001b[0m \u001b[38;5;28;01melif\u001b[39;00m color \u001b[38;5;129;01mnot\u001b[39;00m \u001b[38;5;129;01min\u001b[39;00m colors:\n\u001b[0;32m---> 12\u001b[0m     \u001b[38;5;28;01mraise\u001b[39;00m \u001b[38;5;167;01mValueError\u001b[39;00m(\u001b[38;5;124m\"\u001b[39m\u001b[38;5;124mgeçersiz color girildi\u001b[39m\u001b[38;5;124m\"\u001b[39m)\n\u001b[1;32m     13\u001b[0m \u001b[38;5;28;01melse\u001b[39;00m:\n\u001b[1;32m     14\u001b[0m     \u001b[38;5;28mprint\u001b[39m(\u001b[38;5;124mf\u001b[39m\u001b[38;5;124m\"\u001b[39m\u001b[38;5;132;01m{\u001b[39;00mtext\u001b[38;5;132;01m}\u001b[39;00m\u001b[38;5;124m, \u001b[39m\u001b[38;5;132;01m{\u001b[39;00mcolor\u001b[38;5;132;01m}\u001b[39;00m\u001b[38;5;124m olarak yazıldı\u001b[39m\u001b[38;5;124m\"\u001b[39m)\n",
      "\u001b[0;31mValueError\u001b[0m: geçersiz color girildi"
     ]
    }
   ],
   "source": [
    "color_me(\"Hi\", \"yellow\")"
   ]
  },
  {
   "cell_type": "code",
   "execution_count": 29,
   "metadata": {},
   "outputs": [
    {
     "name": "stdout",
     "output_type": "stream",
     "text": [
      "hi, orange olarak yazıldı\n"
     ]
    }
   ],
   "source": [
    "color_me(\"hi\", \"orange\")"
   ]
  },
  {
   "cell_type": "code",
   "execution_count": 30,
   "metadata": {},
   "outputs": [
    {
     "name": "stdout",
     "output_type": "stream",
     "text": [
      "Selam, red olarak yazıldı\n",
      "geçersiz color girildi\n"
     ]
    }
   ],
   "source": [
    "try:\n",
    "    color_me(\"Selam\", \"red\")\n",
    "    color_me(\"Hi\", \"yellow\")\n",
    "\n",
    "except (TypeError, ValueError) as errs:\n",
    "    print(errs)\n"
   ]
  },
  {
   "cell_type": "code",
   "execution_count": 32,
   "metadata": {},
   "outputs": [],
   "source": [
    "#uygulamam raise error\n",
    "\n",
    "#faktöriyel fonku oluştur, hatalı girilen değerler için error mesaj oluştur\n",
    "\n",
    "def fakt(x):\n",
    "    int(x)\n",
    "    if x < 0:\n",
    "        raise ValueError(\"Negatif Değer Girildi\")\n",
    "    \n",
    "    result = 1\n",
    "\n",
    "    for i in range(1, x+1):\n",
    "        result *= i\n",
    "\n",
    "    return result"
   ]
  },
  {
   "cell_type": "code",
   "execution_count": 33,
   "metadata": {},
   "outputs": [
    {
     "ename": "ValueError",
     "evalue": "Negatif Değer Girildi",
     "output_type": "error",
     "traceback": [
      "\u001b[0;31m---------------------------------------------------------------------------\u001b[0m",
      "\u001b[0;31mValueError\u001b[0m                                Traceback (most recent call last)",
      "Cell \u001b[0;32mIn[33], line 1\u001b[0m\n\u001b[0;32m----> 1\u001b[0m fakt(\u001b[38;5;241m-\u001b[39m\u001b[38;5;241m1\u001b[39m)\n",
      "Cell \u001b[0;32mIn[32], line 8\u001b[0m, in \u001b[0;36mfakt\u001b[0;34m(x)\u001b[0m\n\u001b[1;32m      6\u001b[0m \u001b[38;5;28mint\u001b[39m(x)\n\u001b[1;32m      7\u001b[0m \u001b[38;5;28;01mif\u001b[39;00m x \u001b[38;5;241m<\u001b[39m \u001b[38;5;241m0\u001b[39m:\n\u001b[0;32m----> 8\u001b[0m     \u001b[38;5;28;01mraise\u001b[39;00m \u001b[38;5;167;01mValueError\u001b[39;00m(\u001b[38;5;124m\"\u001b[39m\u001b[38;5;124mNegatif Değer Girildi\u001b[39m\u001b[38;5;124m\"\u001b[39m)\n\u001b[1;32m     10\u001b[0m result \u001b[38;5;241m=\u001b[39m \u001b[38;5;241m1\u001b[39m\n\u001b[1;32m     12\u001b[0m \u001b[38;5;28;01mfor\u001b[39;00m i \u001b[38;5;129;01min\u001b[39;00m \u001b[38;5;28mrange\u001b[39m(\u001b[38;5;241m1\u001b[39m, x\u001b[38;5;241m+\u001b[39m\u001b[38;5;241m1\u001b[39m):\n",
      "\u001b[0;31mValueError\u001b[0m: Negatif Değer Girildi"
     ]
    }
   ],
   "source": [
    "fakt(-1)"
   ]
  },
  {
   "cell_type": "code",
   "execution_count": 34,
   "metadata": {},
   "outputs": [
    {
     "data": {
      "text/plain": [
       "3628800"
      ]
     },
     "execution_count": 34,
     "metadata": {},
     "output_type": "execute_result"
    }
   ],
   "source": [
    "fakt(10)"
   ]
  },
  {
   "cell_type": "code",
   "execution_count": 35,
   "metadata": {},
   "outputs": [
    {
     "name": "stdout",
     "output_type": "stream",
     "text": [
      "3\n",
      "5\n",
      "8\n",
      "13\n",
      "invalid literal for int() with base 10: '3b'\n",
      "Negatif Değer Girildi\n",
      "Negatif Değer Girildi\n",
      "Negatif Değer Girildi\n"
     ]
    }
   ],
   "source": [
    "for x in [3, 5, 8, 13, \"3b\", -1, -21, -34]:\n",
    "    try:\n",
    "        z = fakt(x)\n",
    "\n",
    "    except ValueError as err:\n",
    "        print(err)\n",
    "        continue\n",
    "\n",
    "    else:\n",
    "        print(x)"
   ]
  },
  {
   "cell_type": "code",
   "execution_count": 39,
   "metadata": {},
   "outputs": [
    {
     "name": "stdout",
     "output_type": "stream",
     "text": [
      "Türkçe karakter girdiniz, tekrar deneyiniz\n"
     ]
    }
   ],
   "source": [
    "#uygulama parola, türkçe karakterlere hata mesajı verin\n",
    "\n",
    "\n",
    "\n",
    "def passwd_control(parola):\n",
    "    turkish = \"öüşğçıİ\"\n",
    "    for i in parola:\n",
    "\n",
    "        if i in turkish:\n",
    "            raise ValueError(\"Türkçe karakter girdiniz, tekrar deneyiniz\")\n",
    "        \n",
    "        else:\n",
    "            print(\"Parola karakterleri kabul edilir\")\n",
    "\n",
    "parola = input(\"Parola Giriniz: \")\n",
    "\n",
    "try:\n",
    "    passwd_control(parola)\n",
    "except ValueError as err:\n",
    "    print(err)"
   ]
  },
  {
   "cell_type": "code",
   "execution_count": 43,
   "metadata": {},
   "outputs": [
    {
     "name": "stdout",
     "output_type": "stream",
     "text": [
      "--Return--\n",
      "None\n",
      "> \u001b[0;32m/tmp/ipykernel_6749/1882732346.py\u001b[0m(8)\u001b[0;36m<module>\u001b[0;34m()\u001b[0m\n",
      "\u001b[0;32m      6 \u001b[0;31m\u001b[0mtwo\u001b[0m \u001b[0;34m=\u001b[0m \u001b[0;34m\"two\"\u001b[0m\u001b[0;34m\u001b[0m\u001b[0;34m\u001b[0m\u001b[0m\n",
      "\u001b[0m\u001b[0;32m      7 \u001b[0;31m\u001b[0;34m\u001b[0m\u001b[0m\n",
      "\u001b[0m\u001b[0;32m----> 8 \u001b[0;31m\u001b[0mpdb\u001b[0m\u001b[0;34m.\u001b[0m\u001b[0mset_trace\u001b[0m\u001b[0;34m(\u001b[0m\u001b[0;34m)\u001b[0m  \u001b[0;31m#uygulama bu aşamada durdurulur, L tuşu kodları listeler, n next linea götürür, c to continue\u001b[0m\u001b[0;34m\u001b[0m\u001b[0;34m\u001b[0m\u001b[0m\n",
      "\u001b[0m\u001b[0;32m      9 \u001b[0;31m\u001b[0;34m\u001b[0m\u001b[0m\n",
      "\u001b[0m\u001b[0;32m     10 \u001b[0;31m\u001b[0mresult\u001b[0m  \u001b[0;34m=\u001b[0m \u001b[0mone\u001b[0m \u001b[0;34m+\u001b[0m \u001b[0mtwo\u001b[0m\u001b[0;34m\u001b[0m\u001b[0;34m\u001b[0m\u001b[0m\n",
      "\u001b[0m\n",
      "'one'\n",
      "\u001b[0;31m    [... skipped 1 hidden frame]\u001b[0m\n",
      "\n",
      "> \u001b[0;32m/home/toygar/anaconda3/lib/python3.12/site-packages/IPython/core/interactiveshell.py\u001b[0m(3580)\u001b[0;36mrun_code\u001b[0;34m()\u001b[0m\n",
      "\u001b[0;32m   3578 \u001b[0;31m            \u001b[0;32mfinally\u001b[0m\u001b[0;34m:\u001b[0m\u001b[0;34m\u001b[0m\u001b[0;34m\u001b[0m\u001b[0m\n",
      "\u001b[0m\u001b[0;32m   3579 \u001b[0;31m                \u001b[0;31m# Reset our crash handler in place\u001b[0m\u001b[0;34m\u001b[0m\u001b[0;34m\u001b[0m\u001b[0m\n",
      "\u001b[0m\u001b[0;32m-> 3580 \u001b[0;31m                \u001b[0msys\u001b[0m\u001b[0;34m.\u001b[0m\u001b[0mexcepthook\u001b[0m \u001b[0;34m=\u001b[0m \u001b[0mold_excepthook\u001b[0m\u001b[0;34m\u001b[0m\u001b[0;34m\u001b[0m\u001b[0m\n",
      "\u001b[0m\u001b[0;32m   3581 \u001b[0;31m        \u001b[0;32mexcept\u001b[0m \u001b[0mSystemExit\u001b[0m \u001b[0;32mas\u001b[0m \u001b[0me\u001b[0m\u001b[0;34m:\u001b[0m\u001b[0;34m\u001b[0m\u001b[0;34m\u001b[0m\u001b[0m\n",
      "\u001b[0m\u001b[0;32m   3582 \u001b[0;31m            \u001b[0;32mif\u001b[0m \u001b[0mresult\u001b[0m \u001b[0;32mis\u001b[0m \u001b[0;32mnot\u001b[0m \u001b[0;32mNone\u001b[0m\u001b[0;34m:\u001b[0m\u001b[0;34m\u001b[0m\u001b[0;34m\u001b[0m\u001b[0m\n",
      "\u001b[0m\n"
     ]
    }
   ],
   "source": [
    "#Debugging\n",
    "import pdb\n",
    "\n",
    "one = \"one\"\n",
    "\n",
    "two = \"two\"\n",
    "\n",
    "pdb.set_trace()  #uygulama bu aşamada durdurulur, L tuşu kodları listeler, n next linea götürür, c to continue\n",
    "\n",
    "result  = one + two\n",
    "\n",
    "three = \"three\"\n",
    "\n",
    "result += three"
   ]
  },
  {
   "cell_type": "code",
   "execution_count": 41,
   "metadata": {},
   "outputs": [
    {
     "name": "stdout",
     "output_type": "stream",
     "text": [
      "onetwothree\n"
     ]
    }
   ],
   "source": [
    "print(result)"
   ]
  },
  {
   "cell_type": "code",
   "execution_count": 48,
   "metadata": {},
   "outputs": [],
   "source": [
    "def toplam(x ,y, z):\n",
    "    import pdb; pdb.set_trace()  #debugging\n",
    "    return x + y + z"
   ]
  },
  {
   "cell_type": "code",
   "execution_count": 47,
   "metadata": {},
   "outputs": [
    {
     "name": "stdout",
     "output_type": "stream",
     "text": [
      "> \u001b[0;32m/tmp/ipykernel_6749/1396137239.py\u001b[0m(3)\u001b[0;36mtoplam\u001b[0;34m()\u001b[0m\n",
      "\u001b[0;32m      1 \u001b[0;31m\u001b[0;32mdef\u001b[0m \u001b[0mtoplam\u001b[0m\u001b[0;34m(\u001b[0m\u001b[0mx\u001b[0m \u001b[0;34m,\u001b[0m\u001b[0my\u001b[0m\u001b[0;34m,\u001b[0m \u001b[0mz\u001b[0m\u001b[0;34m)\u001b[0m\u001b[0;34m:\u001b[0m\u001b[0;34m\u001b[0m\u001b[0;34m\u001b[0m\u001b[0m\n",
      "\u001b[0m\u001b[0;32m      2 \u001b[0;31m    \u001b[0;32mimport\u001b[0m \u001b[0mpdb\u001b[0m\u001b[0;34m;\u001b[0m \u001b[0mpdb\u001b[0m\u001b[0;34m.\u001b[0m\u001b[0mset_trace\u001b[0m\u001b[0;34m(\u001b[0m\u001b[0;34m)\u001b[0m\u001b[0;34m\u001b[0m\u001b[0;34m\u001b[0m\u001b[0m\n",
      "\u001b[0m\u001b[0;32m----> 3 \u001b[0;31m    \u001b[0;32mreturn\u001b[0m \u001b[0mx\u001b[0m \u001b[0;34m+\u001b[0m \u001b[0my\u001b[0m \u001b[0;34m+\u001b[0m \u001b[0mz\u001b[0m\u001b[0;34m\u001b[0m\u001b[0;34m\u001b[0m\u001b[0m\n",
      "\u001b[0m\n",
      "1\n",
      "2\n",
      "2\n",
      "3\n",
      "1\n"
     ]
    },
    {
     "data": {
      "text/plain": [
       "6"
      ]
     },
     "execution_count": 47,
     "metadata": {},
     "output_type": "execute_result"
    }
   ],
   "source": [
    "toplam(1, 2, 3)"
   ]
  },
  {
   "cell_type": "code",
   "execution_count": null,
   "metadata": {},
   "outputs": [],
   "source": []
  }
 ],
 "metadata": {
  "kernelspec": {
   "display_name": "base",
   "language": "python",
   "name": "python3"
  },
  "language_info": {
   "codemirror_mode": {
    "name": "ipython",
    "version": 3
   },
   "file_extension": ".py",
   "mimetype": "text/x-python",
   "name": "python",
   "nbconvert_exporter": "python",
   "pygments_lexer": "ipython3",
   "version": "3.12.4"
  }
 },
 "nbformat": 4,
 "nbformat_minor": 2
}
