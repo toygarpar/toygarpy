{
 "cells": [
  {
   "cell_type": "markdown",
   "metadata": {},
   "source": [
    "### Class Contructors\n",
    "bir kalıp üzerinden örnekler üretmek\n",
    "ortak olarak kullanılan erişilen özellikler\n",
    "bilgileri tanımlamayı bir standarda bağlamamız gerekiyor"
   ]
  },
  {
   "cell_type": "code",
   "execution_count": null,
   "metadata": {},
   "outputs": [],
   "source": [
    "class Sepet:\n",
    "\n",
    "   \n",
    "\n",
    "    #constructor\n",
    "    def __init__(self, name, price, quantity):  # bir sepet versiyonunu yapıcı ile tanımlıyoruz\n",
    "\n",
    "        #instance attributes\n",
    "        self.name = name\n",
    "        self.price = price\n",
    "        self.quantity =  quantity\n",
    "\n",
    "\n",
    "        #instance methods\n",
    "    def total(self):\n",
    "        return self.price * self.quantity\n",
    "    \n",
    "    def indirim(self, rate):\n",
    "        self.price = self.price *(1- rate)\n",
    "        \n",
    "\n"
   ]
  },
  {
   "cell_type": "code",
   "execution_count": 46,
   "metadata": {},
   "outputs": [],
   "source": [
    "urun1 = Sepet(\"Monitor\", 15000, 3)\n",
    "\n",
    "urun2 = Sepet(\"Bilgisayar\", 55000, 1)\n",
    "\n",
    "urun3 = Sepet(\"Telefon\", 25000, 2)\n",
    "\n",
    "urun4 = Sepet(\"Tablet\", 30000, 1)"
   ]
  },
  {
   "cell_type": "markdown",
   "metadata": {},
   "source": [
    "### Instance Methods\n",
    "\n",
    "her bir nesneye hizmet edecek olan metotlar"
   ]
  },
  {
   "cell_type": "code",
   "execution_count": 47,
   "metadata": {},
   "outputs": [
    {
     "data": {
      "text/plain": [
       "45000"
      ]
     },
     "execution_count": 47,
     "metadata": {},
     "output_type": "execute_result"
    }
   ],
   "source": [
    "urun1.total()"
   ]
  },
  {
   "cell_type": "code",
   "execution_count": 48,
   "metadata": {},
   "outputs": [],
   "source": [
    "urun1.indirim(.20)"
   ]
  },
  {
   "cell_type": "code",
   "execution_count": 49,
   "metadata": {},
   "outputs": [
    {
     "data": {
      "text/plain": [
       "36000.0"
      ]
     },
     "execution_count": 49,
     "metadata": {},
     "output_type": "execute_result"
    }
   ],
   "source": [
    "urun1.total()"
   ]
  },
  {
   "cell_type": "code",
   "execution_count": 50,
   "metadata": {},
   "outputs": [
    {
     "data": {
      "text/plain": [
       "49500.0"
      ]
     },
     "execution_count": 50,
     "metadata": {},
     "output_type": "execute_result"
    }
   ],
   "source": [
    "urun2.indirim(.10)\n",
    "urun2.total()"
   ]
  },
  {
   "cell_type": "markdown",
   "metadata": {},
   "source": [
    "### Class Attributes"
   ]
  },
  {
   "cell_type": "code",
   "execution_count": 80,
   "metadata": {},
   "outputs": [],
   "source": [
    "#klas seviyesinde indirim oranı tanımlama\n",
    "\n",
    "\n",
    "\n",
    "class Sepet:\n",
    "\n",
    "    indirim_orani = 0.2   #her nesnenin ortal olarak kullandığı bir alan, class attribute\n",
    "\n",
    "    urun_count = 0\n",
    "\n",
    "   \n",
    "\n",
    "    #constructor\n",
    "    def __init__(self, name, price, quantity):  # bir sepet versiyonunu yapıcı ile tanımlıyoruz\n",
    "\n",
    "        #instance attributes\n",
    "        self.name = name\n",
    "        self.price = price\n",
    "        self.quantity =  quantity\n",
    "        Sepet.urun_count += 1   #init çağrıldığında count 1 artar\n",
    "\n",
    "\n",
    "        #instance methods\n",
    "    def total(self):\n",
    "        return self.price * self.quantity\n",
    "    \n",
    "    def indirim(self):\n",
    "        self.price = self.price *(1- Sepet.indirim_orani)"
   ]
  },
  {
   "cell_type": "code",
   "execution_count": 81,
   "metadata": {},
   "outputs": [],
   "source": [
    "urun1 = Sepet(\"Monitor\", 15000, 3)\n",
    "\n",
    "urun2 = Sepet(\"Bilgisayar\", 55000, 1)\n",
    "\n",
    "urun3 = Sepet(\"Telefon\", 25000, 2)\n",
    "\n",
    "urun4 = Sepet(\"Tablet\", 30000, 1)"
   ]
  },
  {
   "cell_type": "code",
   "execution_count": 70,
   "metadata": {},
   "outputs": [],
   "source": [
    "urun2.indirim()"
   ]
  },
  {
   "cell_type": "code",
   "execution_count": 71,
   "metadata": {},
   "outputs": [
    {
     "data": {
      "text/plain": [
       "44000.0"
      ]
     },
     "execution_count": 71,
     "metadata": {},
     "output_type": "execute_result"
    }
   ],
   "source": [
    "urun2.total()"
   ]
  },
  {
   "cell_type": "code",
   "execution_count": 72,
   "metadata": {},
   "outputs": [
    {
     "data": {
      "text/plain": [
       "0.2"
      ]
     },
     "execution_count": 72,
     "metadata": {},
     "output_type": "execute_result"
    }
   ],
   "source": [
    "urun2.indirim_orani"
   ]
  },
  {
   "cell_type": "code",
   "execution_count": 73,
   "metadata": {},
   "outputs": [
    {
     "data": {
      "text/plain": [
       "0.2"
      ]
     },
     "execution_count": 73,
     "metadata": {},
     "output_type": "execute_result"
    }
   ],
   "source": [
    "Sepet.indirim_orani"
   ]
  },
  {
   "cell_type": "code",
   "execution_count": 74,
   "metadata": {},
   "outputs": [
    {
     "data": {
      "text/plain": [
       "{'name': 'Bilgisayar', 'price': 44000.0, 'quantity': 1}"
      ]
     },
     "execution_count": 74,
     "metadata": {},
     "output_type": "execute_result"
    }
   ],
   "source": [
    "urun2.__dict__"
   ]
  },
  {
   "cell_type": "code",
   "execution_count": 75,
   "metadata": {},
   "outputs": [
    {
     "data": {
      "text/plain": [
       "__main__.Sepet"
      ]
     },
     "execution_count": 75,
     "metadata": {},
     "output_type": "execute_result"
    }
   ],
   "source": [
    "urun2.__class__"
   ]
  },
  {
   "cell_type": "code",
   "execution_count": 76,
   "metadata": {},
   "outputs": [
    {
     "data": {
      "text/plain": [
       "(object,)"
      ]
     },
     "execution_count": 76,
     "metadata": {},
     "output_type": "execute_result"
    }
   ],
   "source": [
    "Sepet.__bases__"
   ]
  },
  {
   "cell_type": "code",
   "execution_count": 77,
   "metadata": {},
   "outputs": [
    {
     "data": {
      "text/plain": [
       "mappingproxy({'__module__': '__main__',\n",
       "              'indirim_orani': 0.2,\n",
       "              '__init__': <function __main__.Sepet.__init__(self, name, price, quantity)>,\n",
       "              'total': <function __main__.Sepet.total(self)>,\n",
       "              'indirim': <function __main__.Sepet.indirim(self)>,\n",
       "              '__dict__': <attribute '__dict__' of 'Sepet' objects>,\n",
       "              '__weakref__': <attribute '__weakref__' of 'Sepet' objects>,\n",
       "              '__doc__': None})"
      ]
     },
     "execution_count": 77,
     "metadata": {},
     "output_type": "execute_result"
    }
   ],
   "source": [
    "Sepet.__dict__"
   ]
  },
  {
   "cell_type": "code",
   "execution_count": 78,
   "metadata": {},
   "outputs": [
    {
     "data": {
      "text/plain": [
       "['__class__',\n",
       " '__delattr__',\n",
       " '__dict__',\n",
       " '__dir__',\n",
       " '__doc__',\n",
       " '__eq__',\n",
       " '__format__',\n",
       " '__ge__',\n",
       " '__getattribute__',\n",
       " '__getstate__',\n",
       " '__gt__',\n",
       " '__hash__',\n",
       " '__init__',\n",
       " '__init_subclass__',\n",
       " '__le__',\n",
       " '__lt__',\n",
       " '__module__',\n",
       " '__ne__',\n",
       " '__new__',\n",
       " '__reduce__',\n",
       " '__reduce_ex__',\n",
       " '__repr__',\n",
       " '__setattr__',\n",
       " '__sizeof__',\n",
       " '__str__',\n",
       " '__subclasshook__',\n",
       " '__weakref__',\n",
       " 'indirim',\n",
       " 'indirim_orani',\n",
       " 'total']"
      ]
     },
     "execution_count": 78,
     "metadata": {},
     "output_type": "execute_result"
    }
   ],
   "source": [
    "dir(Sepet)"
   ]
  },
  {
   "cell_type": "code",
   "execution_count": 82,
   "metadata": {},
   "outputs": [
    {
     "data": {
      "text/plain": [
       "4"
      ]
     },
     "execution_count": 82,
     "metadata": {},
     "output_type": "execute_result"
    }
   ],
   "source": [
    "Sepet.urun_count"
   ]
  },
  {
   "cell_type": "markdown",
   "metadata": {},
   "source": [
    "### Class Methods"
   ]
  },
  {
   "cell_type": "code",
   "execution_count": 11,
   "metadata": {},
   "outputs": [],
   "source": [
    "\n",
    "class SepetUrunu:\n",
    "\n",
    "    indirim_orani = [0.1, 0.15,  0.2, 0.25, 0.3, 0.35]   #her nesnenin ortal olarak kullandığı bir alan, class attribute\n",
    "\n",
    "    urun_count = 0\n",
    "\n",
    "   #class method - bu artık instance seviyesinde üretilen bir metot değil\n",
    "    @classmethod\n",
    "    def urun_sayisi_goster(cls):\n",
    "        return f\"Alışveriş sepetinizde {cls.urun_count} tane urun mevcuttur\"\n",
    "    \n",
    "\n",
    "    @classmethod\n",
    "    def urun_ekle(cls, urun_str):\n",
    "        name, price, quantity = urun_str.split(\",\")\n",
    "        return cls(name, float(price), float(quantity))   #cls yerine SepetUrunu de kullanılabilir\n",
    "\n",
    "\n",
    "    #constructor\n",
    "    def __init__(self, name, price, quantity):  # bir sepet versiyonunu yapıcı ile tanımlıyoruz\n",
    "\n",
    "        #instance attributes\n",
    "        self.name = name\n",
    "        self.price = price\n",
    "        self.quantity =  quantity\n",
    "        SepetUrunu.urun_count += 1   #init çağrıldığında count 1 artar\n",
    "\n",
    "\n",
    "        #instance methods\n",
    "    def total(self):\n",
    "        return self.price * self.quantity\n",
    "    \n",
    "    def indirim(self):\n",
    "        self.price = self.price *(1- SepetUrunu.indirim_orani[2])\n",
    "\n",
    "\n",
    "\n",
    "\n",
    "\n",
    "class Coupon:\n",
    "    def __init__(self, code, discount):\n",
    "        self.code = code\n",
    "        self.discount = discount\n",
    "\n",
    "\n",
    "    \n",
    "\n",
    "            "
   ]
  },
  {
   "cell_type": "code",
   "execution_count": 12,
   "metadata": {},
   "outputs": [
    {
     "data": {
      "text/plain": [
       "'Alışveriş sepetinizde 0 tane urun mevcuttur'"
      ]
     },
     "execution_count": 12,
     "metadata": {},
     "output_type": "execute_result"
    }
   ],
   "source": [
    "SepetUrunu.urun_sayisi_goster()"
   ]
  },
  {
   "cell_type": "code",
   "execution_count": 13,
   "metadata": {},
   "outputs": [],
   "source": [
    "urun1 = SepetUrunu(\"Monitor\", 15000, 3)\n",
    "\n",
    "urun2 = SepetUrunu(\"Bilgisayar\", 55000, 1)\n",
    "\n",
    "urun3 = SepetUrunu(\"Telefon\", 25000, 2)\n",
    "\n",
    "urun4 = SepetUrunu(\"Tablet\", 30000, 1)"
   ]
  },
  {
   "cell_type": "code",
   "execution_count": 14,
   "metadata": {},
   "outputs": [
    {
     "data": {
      "text/plain": [
       "'Alışveriş sepetinizde 4 tane urun mevcuttur'"
      ]
     },
     "execution_count": 14,
     "metadata": {},
     "output_type": "execute_result"
    }
   ],
   "source": [
    "SepetUrunu.urun_sayisi_goster()"
   ]
  },
  {
   "cell_type": "code",
   "execution_count": 15,
   "metadata": {},
   "outputs": [],
   "source": [
    "#SepetUrunu.urun_ekle(\"Klavye,999,1\")"
   ]
  },
  {
   "cell_type": "code",
   "execution_count": 16,
   "metadata": {},
   "outputs": [
    {
     "data": {
      "text/plain": [
       "'Alışveriş sepetinizde 4 tane urun mevcuttur'"
      ]
     },
     "execution_count": 16,
     "metadata": {},
     "output_type": "execute_result"
    }
   ],
   "source": [
    "SepetUrunu.urun_sayisi_goster()"
   ]
  },
  {
   "cell_type": "code",
   "execution_count": 17,
   "metadata": {},
   "outputs": [],
   "source": [
    "c1 = Coupon(\"code1\", 0.1)\n",
    "c2 = Coupon(\"code2\", 0.15)\n",
    "c3 = Coupon(\"code3\", 0.2)"
   ]
  },
  {
   "cell_type": "markdown",
   "metadata": {},
   "source": [
    "ALIŞVERİŞ SEPETİ/SHOPPING CART"
   ]
  },
  {
   "cell_type": "code",
   "execution_count": null,
   "metadata": {},
   "outputs": [],
   "source": [
    "class ShoppingCart:\n",
    "\n",
    "    coupon_list = [c1, c2, c3]\n",
    "\n",
    "\n",
    "    def __init__(self, liste):\n",
    "        self.liste = liste\n",
    "        \n",
    "    \n",
    "\n",
    "\n",
    "\n",
    "    def add_item(self, item):\n",
    "        self.liste.append(item)\n",
    "\n",
    "\n",
    "\n",
    "    def display_items(self):\n",
    "        for i in self.liste:\n",
    "            print(f\"{i.name} : {i.price}\")\n",
    "        \n",
    "\n",
    "    def remove_item(self,cart_item):\n",
    "        self.liste = [ item for item in self.liste if item != cart_item]\n",
    "\n",
    "    def clear(self):\n",
    "        self.liste = []\n",
    "\n",
    "    \n",
    "    \n",
    "    def apply_coupon(cls,code):\n",
    "        return cls.calc_total() *(1- cls.get_coupon(code))\n",
    "        \n",
    "\n",
    "    @classmethod\n",
    "    def get_coupons(cls):\n",
    "        return SepetUrunu.indirim_orani\n",
    "        \n",
    "    \n",
    "\n",
    "\n",
    "    @classmethod\n",
    "    def get_coupon(cls, code):\n",
    "        if code == \"code1\": return cls.get_coupons()[0]\n",
    "        elif code == \"code2\": return cls.get_coupons()[1]\n",
    "        elif code == \"code3\": return cls.get_coupons()[2]\n",
    "        elif code == \"code4\": return cls.get_coupons()[3]\n",
    "        elif code == \"code5\": return cls.get_coupons()[4]\n",
    "        else: print(\"Geçersiz indirim kodu girildi!\") \n",
    "\n",
    "\n",
    "\n",
    "\n",
    "\n",
    "    \n",
    "\n",
    "\n",
    "    def calc_total(self):\n",
    "        #return sum([ item.price * item.quantity for item in self.liste])\n",
    "        return sum([item.total() for item in self.liste])\n",
    "    \n",
    "\n",
    "\n",
    "\n",
    "    #alternatice kupon metotları\n",
    "    @classmethod    \n",
    "    def get_kupons(cls):\n",
    "\n",
    "        return [ c.code for c in cls.coupon_list]\n",
    "\n",
    "    @classmethod\n",
    "    def get_kupon(cls, code):\n",
    "        return next(filter(lambda c: c.code == code, ShoppingCart.coupon_list))\n",
    "    \n",
    "    def apply_kupon(self, code):\n",
    "        if code not in ShoppingCart.get_kupons():\n",
    "            raise ValueError(f\"Geçersiz Kupon Kodu: {code}\")\n",
    "        \n",
    "        kupon = ShoppingCart.get_kupon(code)\n",
    "\n",
    "        for index in range(0, len(self.liste)):\n",
    "            self.liste[index].price -= self.liste[index].price * kupon.discount\n",
    "\n",
    "\n",
    "        \n"
   ]
  },
  {
   "cell_type": "code",
   "execution_count": 36,
   "metadata": {},
   "outputs": [
    {
     "name": "stdout",
     "output_type": "stream",
     "text": [
      "Monitor : 15000\n",
      "Bilgisayar : 55000\n",
      "Telefon : 25000\n",
      "Tablet : 30000\n"
     ]
    }
   ],
   "source": [
    "sc = ShoppingCart([ urun1, urun2])\n",
    "sc.add_item(urun3)\n",
    "sc.add_item(urun4)\n",
    "sc.display_items()"
   ]
  },
  {
   "cell_type": "code",
   "execution_count": 37,
   "metadata": {},
   "outputs": [
    {
     "data": {
      "text/plain": [
       "180000"
      ]
     },
     "execution_count": 37,
     "metadata": {},
     "output_type": "execute_result"
    }
   ],
   "source": [
    "sc.calc_total()"
   ]
  },
  {
   "cell_type": "code",
   "execution_count": 38,
   "metadata": {},
   "outputs": [],
   "source": [
    "sc.remove_item(urun4)"
   ]
  },
  {
   "cell_type": "code",
   "execution_count": 39,
   "metadata": {},
   "outputs": [
    {
     "name": "stdout",
     "output_type": "stream",
     "text": [
      "Monitor : 15000\n",
      "Bilgisayar : 55000\n",
      "Telefon : 25000\n"
     ]
    }
   ],
   "source": [
    "sc.display_items()"
   ]
  },
  {
   "cell_type": "code",
   "execution_count": 40,
   "metadata": {},
   "outputs": [],
   "source": [
    "sc.clear()"
   ]
  },
  {
   "cell_type": "code",
   "execution_count": 41,
   "metadata": {},
   "outputs": [],
   "source": [
    "sc.display_items()"
   ]
  },
  {
   "cell_type": "code",
   "execution_count": 42,
   "metadata": {},
   "outputs": [],
   "source": [
    "sc = ShoppingCart([ urun1, urun2, urun3, urun4])"
   ]
  },
  {
   "cell_type": "code",
   "execution_count": 43,
   "metadata": {},
   "outputs": [
    {
     "name": "stdout",
     "output_type": "stream",
     "text": [
      "Monitor : 15000\n",
      "Bilgisayar : 55000\n",
      "Telefon : 25000\n",
      "Tablet : 30000\n"
     ]
    }
   ],
   "source": [
    "sc.display_items()"
   ]
  },
  {
   "cell_type": "code",
   "execution_count": 44,
   "metadata": {},
   "outputs": [
    {
     "data": {
      "text/plain": [
       "[0.1, 0.15, 0.2, 0.25, 0.3, 0.35]"
      ]
     },
     "execution_count": 44,
     "metadata": {},
     "output_type": "execute_result"
    }
   ],
   "source": [
    "ShoppingCart.get_coupons()"
   ]
  },
  {
   "cell_type": "code",
   "execution_count": 45,
   "metadata": {},
   "outputs": [
    {
     "data": {
      "text/plain": [
       "0.1"
      ]
     },
     "execution_count": 45,
     "metadata": {},
     "output_type": "execute_result"
    }
   ],
   "source": [
    "ShoppingCart.get_coupon(\"code1\")"
   ]
  },
  {
   "cell_type": "code",
   "execution_count": 46,
   "metadata": {},
   "outputs": [
    {
     "data": {
      "text/plain": [
       "162000.0"
      ]
     },
     "execution_count": 46,
     "metadata": {},
     "output_type": "execute_result"
    }
   ],
   "source": [
    "sc.apply_coupon(\"code1\")"
   ]
  },
  {
   "cell_type": "code",
   "execution_count": 47,
   "metadata": {},
   "outputs": [],
   "source": [
    "sc.apply_kupon(\"code2\")"
   ]
  },
  {
   "cell_type": "code",
   "execution_count": 48,
   "metadata": {},
   "outputs": [
    {
     "data": {
      "text/plain": [
       "153000.0"
      ]
     },
     "execution_count": 48,
     "metadata": {},
     "output_type": "execute_result"
    }
   ],
   "source": [
    "sc.calc_total()"
   ]
  },
  {
   "cell_type": "code",
   "execution_count": null,
   "metadata": {},
   "outputs": [],
   "source": []
  },
  {
   "cell_type": "markdown",
   "metadata": {},
   "source": [
    "## Corrected Code for SepetUrunu and ShoppingCart\n",
    "\n",
    "This code defines a shopping cart system with two classes, `SepetUrunu` and `ShoppingCart`. Here’s a breakdown of each part:\n",
    "\n",
    "### Class: `SepetUrunu`\n",
    "This class represents individual products (items) in the cart.\n",
    "\n",
    "1. **Class Attributes**:\n",
    "   - `indirim_orani`: A list of discount rates (class attribute), shared across all instances.\n",
    "   - `urun_count`: Tracks the number of products created.\n",
    "\n",
    "2. **Class Methods**:\n",
    "   - `urun_sayisi_goster()`: Returns a string indicating how many products are currently in the shopping cart by using the `urun_count` class attribute.\n",
    "   - `urun_ekle(urun_str)`: Creates a new `SepetUrunu` instance by parsing a string (`urun_str`) in the format `\"name,price,quantity\"`. The `cls` parameter here refers to the `SepetUrunu` class, allowing us to instantiate an object of the class.\n",
    "\n",
    "3. **Constructor (`__init__` Method)**:\n",
    "   - Accepts `name`, `price`, and `quantity` as parameters and initializes an instance of `SepetUrunu` with these attributes.\n",
    "   - Increments `urun_count` by 1 whenever a new item is created.\n",
    "\n",
    "4. **Instance Methods**:\n",
    "   - `total()`: Calculates the total cost of the item by multiplying `price` with `quantity`.\n",
    "   - `indirim()`: Applies a specific discount (the third discount rate, `indirim_orani[2]`, or 0.2) to the item's price.\n",
    "\n",
    "5. **Creating Items**:\n",
    "   Four `SepetUrunu` instances (`urun1`, `urun2`, `urun3`, `urun4`) are created with specific names, prices, and quantities.\n",
    "\n",
    "### Class: `ShoppingCart`\n",
    "The `ShoppingCart` class inherits from `SepetUrunu` and represents a collection of items in the cart.\n",
    "\n",
    "1. **Class Attribute**:\n",
    "   - `liste`: A list used to store instances of `SepetUrunu`.\n",
    "\n",
    "2. **Constructor (`__init__` Method)**:\n",
    "   - Initializes an instance of `ShoppingCart` and assigns the provided list (`liste`) to hold items in the cart.\n",
    "\n",
    "3. **Instance Methods**:\n",
    "   - `add_item(item)`: Adds an `item` (a `SepetUrunu` instance) to `liste`.\n",
    "   - `display_items()`: Loops through each item in `liste` and prints the name and price of each.\n",
    "   - `remove_item(cart_item)`: Removes a specified item from `liste` by filtering out the provided `cart_item`.\n",
    "   - `clear()`: Clears all items in `liste`.\n",
    "   - `apply_coupon(code)`: Calculates the total after applying a discount based on the provided `code`.\n",
    "\n",
    "4. **Class Methods**:\n",
    "   - `get_coupons()`: Returns the `indirim_orani` list from `SepetUrunu`, showing all available discounts.\n",
    "   - `get_coupon(code)`: Maps specific discount codes to corresponding discount rates. If a valid code (`code1` to `code5`) is passed, it returns the corresponding discount rate. Otherwise, it prints an invalid code message.\n",
    "\n",
    "5. **Helper Method**:\n",
    "   - `calc_total()`: Calculates the total price for all items in `liste` by summing the result of each item’s `total()` method.\n",
    "\n",
    "### Code Execution\n",
    "1. **Creating the ShoppingCart Instance**:\n",
    "   - `sc = ShoppingCart([urun1, urun2])` creates a `ShoppingCart` instance, initially containing `urun1` and `urun2`.\n",
    "\n",
    "2. **Adding Items to the Cart**:\n",
    "   - `sc.add_item(urun3)` and `sc.add_item(urun4)` add `urun3` and `urun4` to the cart.\n",
    "\n",
    "3. **Displaying Cart Items**:\n",
    "   - `sc.display_items()` outputs the name and price of each item in the cart.\n",
    "\n",
    "4. **Calculating Total**:\n",
    "   - `sc.calc_total()` calculates the total cost of all items in the cart.\n",
    "\n",
    "5. **Removing an Item**:\n",
    "   - `sc.remove_item(urun4)` removes `urun4` from the cart.\n",
    "\n",
    "6. **Clearing the Cart**:\n",
    "   - `sc.clear()` removes all items from the cart.\n",
    "\n",
    "7. **Reinitializing the Cart**:\n",
    "   - `sc = ShoppingCart([urun1, urun2, urun3, urun4])` re-creates the cart with all four items again.\n",
    "\n",
    "8. **Getting Available Discounts**:\n",
    "   - `ShoppingCart.get_coupons()` returns the list of discount rates.\n",
    "\n",
    "9. **Applying a Coupon**:\n",
    "   - `ShoppingCart.get_coupon(\"code1\")` fetches the discount rate associated with `\"code1\"`.\n",
    "   - `sc.apply_coupon(\"code1\")` applies this discount rate to the total price of items in the cart and calculates the discounted total."
   ]
  },
  {
   "cell_type": "code",
   "execution_count": null,
   "metadata": {},
   "outputs": [],
   "source": [
    "class SepetUrunu:\n",
    "    # Class attribute for discount rates\n",
    "    indirim_orani = [0.1, 0.15, 0.2, 0.25, 0.3, 0.35]\n",
    "    urun_count = 0\n",
    "\n",
    "    # Class method to show the count of items\n",
    "    @classmethod\n",
    "    def urun_sayisi_goster(cls):\n",
    "        return f\"Alışveriş sepetinizde {cls.urun_count} tane urun mevcuttur\"\n",
    "\n",
    "    # Class method to create an item from a string\n",
    "    @classmethod\n",
    "    def urun_ekle(cls, urun_str):\n",
    "        name, price, quantity = urun_str.split(\",\")\n",
    "        return cls(name, float(price), float(quantity))\n",
    "\n",
    "    # Constructor to initialize the item\n",
    "    def __init__(self, name, price, quantity):\n",
    "        self.name = name\n",
    "        self.price = price\n",
    "        self.quantity = quantity\n",
    "        SepetUrunu.urun_count += 1  # Increase count when a new item is created\n",
    "\n",
    "    # Calculate total cost of this item\n",
    "    def total(self):\n",
    "        return self.price * self.quantity\n",
    "\n",
    "    # Apply a specific discount to this item\n",
    "    def indirim(self):\n",
    "        self.price = self.price * (1 - SepetUrunu.indirim_orani[2])\n",
    "\n",
    "\n",
    "# Creating items\n",
    "urun1 = SepetUrunu(\"Monitor\", 15000, 3)\n",
    "urun2 = SepetUrunu(\"Bilgisayar\", 55000, 1)\n",
    "urun3 = SepetUrunu(\"Telefon\", 25000, 2)\n",
    "urun4 = SepetUrunu(\"Tablet\", 30000, 1)\n",
    "\n",
    "\n",
    "class Coupon:\n",
    "    def __init__(self, code, discount):\n",
    "        self.code = code\n",
    "        self.discount = discount\n",
    "\n",
    "\n",
    "c1 = Coupon(\"code1\", 0.1)\n",
    "c2 = Coupon(\"code2\", 0.15)\n",
    "c3 = Coupon(\"code3\", 0.2)\n",
    "\n",
    "\n",
    "\n",
    "class ShoppingCart:\n",
    "\n",
    "    #alternatif kupon indirim listesi utilizing Coupon Class\n",
    "    coupon_list = [c1, c2, c3]\n",
    "\n",
    "\n",
    "    # Initialize with a list of items\n",
    "    def __init__(self, liste=None):\n",
    "        self.liste = liste if liste is not None else []\n",
    "\n",
    "    # Add an item to the cart\n",
    "    def add_item(self, item):\n",
    "        self.liste.append(item)\n",
    "\n",
    "    # Display each item’s name and price\n",
    "    def display_items(self):\n",
    "        for i in self.liste:\n",
    "            print(f\"{i.name} : {i.price}\")\n",
    "\n",
    "    # Remove a specific item from the cart\n",
    "    def remove_item(self, cart_item):\n",
    "        self.liste = [item for item in self.liste if item != cart_item]\n",
    "\n",
    "    # Clear all items in the cart\n",
    "    def clear(self):\n",
    "        self.liste = []\n",
    "\n",
    "    # Apply a discount based on the coupon code\n",
    "    def apply_coupon(self, code):\n",
    "        return self.calc_total() * (1 - self.get_coupon(code))\n",
    "\n",
    "    # Class method to return all discount rates\n",
    "    @classmethod\n",
    "    def get_coupons(cls):\n",
    "        return SepetUrunu.indirim_orani\n",
    "\n",
    "    # Get a specific discount rate based on a coupon code\n",
    "    @classmethod\n",
    "    def get_coupon(cls, code):\n",
    "        if code == \"code1\": return cls.get_coupons()[0]\n",
    "        elif code == \"code2\": return cls.get_coupons()[1]\n",
    "        elif code == \"code3\": return cls.get_coupons()[2]\n",
    "        elif code == \"code4\": return cls.get_coupons()[3]\n",
    "        elif code == \"code5\": return cls.get_coupons()[4]\n",
    "        else:\n",
    "            print(\"Geçersiz indirim kodu girildi!\")\n",
    "            return 0  # Return 0 for invalid codes to avoid errors in `apply_coupon`\n",
    "\n",
    "    # Calculate the total price of items in the cart\n",
    "    def calc_total(self):\n",
    "        return sum([item.total() for item in self.liste])\n",
    "    \n",
    "\n",
    "\n",
    "    #***************************************************************************************\n",
    "\n",
    "\n",
    "    #alternative kupon indirim  metotları utilizing Coupon class\n",
    "    @classmethod    \n",
    "    def get_kupons(cls):\n",
    "\n",
    "        return [ c.code for c in cls.coupon_list]\n",
    "\n",
    "    @classmethod\n",
    "    def get_kupon(cls, code):\n",
    "        return next(filter(lambda c: c.code == code, ShoppingCart.coupon_list))\n",
    "    \n",
    "    def apply_kupon(self, code):\n",
    "        if code not in ShoppingCart.get_kupons():\n",
    "            raise ValueError(f\"Geçersiz Kupon Kodu: {code}\")\n",
    "        \n",
    "        kupon = ShoppingCart.get_kupon(code)\n",
    "\n",
    "        for index in range(0, len(self.liste)):\n",
    "            self.liste[index].price -= self.liste[index].price * kupon.discount"
   ]
  },
  {
   "cell_type": "code",
   "execution_count": 50,
   "metadata": {},
   "outputs": [
    {
     "name": "stdout",
     "output_type": "stream",
     "text": [
      "Monitor : 15000\n",
      "Bilgisayar : 55000\n",
      "Telefon : 25000\n",
      "Tablet : 30000\n",
      "Total: 180000\n",
      "**************************************\n",
      "Total after removal: 150000\n",
      "******************************************\n",
      "Total after clearing: 0\n"
     ]
    }
   ],
   "source": [
    "\n",
    "# Testing the ShoppingCart class\n",
    "sc = ShoppingCart([urun1, urun2])\n",
    "sc.add_item(urun3)\n",
    "sc.add_item(urun4)\n",
    "sc.display_items()\n",
    "print(\"Total:\", sc.calc_total())\n",
    "\n",
    "\n",
    "print(\"**************************************\")\n",
    "sc.remove_item(urun4)\n",
    "print(\"Total after removal:\", sc.calc_total())\n",
    "print(\"******************************************\")\n",
    "sc.clear()\n",
    "print(\"Total after clearing:\", sc.calc_total())\n",
    "\n"
   ]
  },
  {
   "cell_type": "code",
   "execution_count": 51,
   "metadata": {},
   "outputs": [
    {
     "name": "stdout",
     "output_type": "stream",
     "text": [
      "Available coupons: [0.1, 0.15, 0.2, 0.25, 0.3, 0.35]\n",
      "Coupon 'code1' discount: 0.1\n",
      "Total after applying 'code1': 162000.0\n"
     ]
    }
   ],
   "source": [
    "# Adding items again and applying a discount\n",
    "sc = ShoppingCart([urun1, urun2, urun3, urun4])\n",
    "print(\"Available coupons:\", ShoppingCart.get_coupons())\n",
    "print(\"Coupon 'code1' discount:\", ShoppingCart.get_coupon(\"code1\"))\n",
    "print(\"Total after applying 'code1':\", sc.apply_coupon(\"code1\"))"
   ]
  },
  {
   "cell_type": "markdown",
   "metadata": {},
   "source": [
    "### Kalıtım\n",
    "\n",
    "\n",
    "Person Student Teacher\n",
    "\n",
    "Person - AdSoyad, Age, YemekYe()\n",
    "\n",
    "Student - Öğrenci No, DersCalıs()\n",
    "\n",
    "Teacher - Dept, DersAnlat()\n"
   ]
  },
  {
   "cell_type": "code",
   "execution_count": 160,
   "metadata": {},
   "outputs": [],
   "source": [
    "class Person:\n",
    "    \n",
    "    def __init__(self, fname, lname, age):\n",
    "        self.fname = fname\n",
    "\n",
    "        self.lname = lname\n",
    "\n",
    "        self.age = age\n",
    "\n",
    "        print(\"Person class türetildi\")\n",
    "\n",
    "\n",
    "    def intro(self):\n",
    "        print(self.fname, self.lname, self.age)\n",
    "\n",
    "\n",
    "    def eatsfood(self):\n",
    "        print(\"Eats Food.\")\n",
    "\n",
    "\n",
    "class Student(Person):\n",
    "    def __init__(self, fname, lname, age, number):\n",
    "        super().__init__(fname, lname, age)\n",
    "        #Person.__init__(self,fname, lname, age)\n",
    "\n",
    "        self.number = number\n",
    "        print(\"Student class türetildi\")\n",
    "\n",
    "    def study(self):\n",
    "        print(f\"{self.fname} ders çalışıyor\")\n",
    "\n",
    "    def intro(self):\n",
    "        print(self.fname, self.lname, self.age, self.number)\n",
    "    \n",
    "        \n",
    "\n",
    "\n",
    "class Teacher(Person):\n",
    "    def __init__(self, fname, lname, age, dept):\n",
    "         super().__init__(fname, lname, age)\n",
    "         #Person.__init__(self,fname, lname, age)\n",
    "\n",
    "         self.dept = dept\n",
    "         print(\"Teacher class türetildi\")\n",
    "\n",
    "    def teach(self):\n",
    "        print(f\"{self.fname} {self.dept} dersi anlatıyor\")\n",
    "\n",
    "    def intro(self):\n",
    "        print(self.fname, self.lname, self.age, self.dept)\n",
    "\n"
   ]
  },
  {
   "cell_type": "code",
   "execution_count": 161,
   "metadata": {},
   "outputs": [
    {
     "name": "stdout",
     "output_type": "stream",
     "text": [
      "Person class türetildi\n"
     ]
    }
   ],
   "source": [
    "p1 =  Person(\"Toygar\", \"Par\", 50)"
   ]
  },
  {
   "cell_type": "code",
   "execution_count": 162,
   "metadata": {},
   "outputs": [
    {
     "name": "stdout",
     "output_type": "stream",
     "text": [
      "Toygar Par 50\n"
     ]
    }
   ],
   "source": [
    "print(p1.fname, p1.lname, p1.age)"
   ]
  },
  {
   "cell_type": "code",
   "execution_count": 163,
   "metadata": {},
   "outputs": [
    {
     "name": "stdout",
     "output_type": "stream",
     "text": [
      "Person class türetildi\n",
      "Student class türetildi\n"
     ]
    }
   ],
   "source": [
    "s1 = Student(\"Böçüş\", \"Par\", 10, 1001)"
   ]
  },
  {
   "cell_type": "code",
   "execution_count": 164,
   "metadata": {},
   "outputs": [
    {
     "name": "stdout",
     "output_type": "stream",
     "text": [
      "Böçüş Par 10\n"
     ]
    }
   ],
   "source": [
    "print(s1.fname, s1.lname, s1.age)"
   ]
  },
  {
   "cell_type": "code",
   "execution_count": 165,
   "metadata": {},
   "outputs": [
    {
     "name": "stdout",
     "output_type": "stream",
     "text": [
      "Person class türetildi\n",
      "Teacher class türetildi\n"
     ]
    }
   ],
   "source": [
    "t1 = Teacher(\"Özdemir\", \"Par\", 78, \"Matematik\")"
   ]
  },
  {
   "cell_type": "code",
   "execution_count": 166,
   "metadata": {},
   "outputs": [
    {
     "name": "stdout",
     "output_type": "stream",
     "text": [
      "Özdemir Par 78\n"
     ]
    }
   ],
   "source": [
    "print(t1.fname, t1.lname, t1.age)"
   ]
  },
  {
   "cell_type": "code",
   "execution_count": 167,
   "metadata": {},
   "outputs": [
    {
     "name": "stdout",
     "output_type": "stream",
     "text": [
      "Toygar Par 50\n",
      "Böçüş Par 10 1001\n",
      "Özdemir Par 78 Matematik\n"
     ]
    },
    {
     "data": {
      "text/plain": [
       "(None, None, None)"
      ]
     },
     "execution_count": 167,
     "metadata": {},
     "output_type": "execute_result"
    }
   ],
   "source": [
    "p1.intro(), s1.intro(), t1.intro()\n"
   ]
  },
  {
   "cell_type": "code",
   "execution_count": 168,
   "metadata": {},
   "outputs": [
    {
     "data": {
      "text/plain": [
       "1001"
      ]
     },
     "execution_count": 168,
     "metadata": {},
     "output_type": "execute_result"
    }
   ],
   "source": [
    "s1.number"
   ]
  },
  {
   "cell_type": "code",
   "execution_count": 169,
   "metadata": {},
   "outputs": [
    {
     "data": {
      "text/plain": [
       "'Matematik'"
      ]
     },
     "execution_count": 169,
     "metadata": {},
     "output_type": "execute_result"
    }
   ],
   "source": [
    "t1.dept"
   ]
  },
  {
   "cell_type": "code",
   "execution_count": 170,
   "metadata": {},
   "outputs": [
    {
     "name": "stdout",
     "output_type": "stream",
     "text": [
      "Böçüş ders çalışıyor\n"
     ]
    }
   ],
   "source": [
    "s1.study()"
   ]
  },
  {
   "cell_type": "code",
   "execution_count": 171,
   "metadata": {},
   "outputs": [
    {
     "name": "stdout",
     "output_type": "stream",
     "text": [
      "Özdemir Matematik dersi anlatıyor\n"
     ]
    }
   ],
   "source": [
    "t1.teach()"
   ]
  },
  {
   "cell_type": "markdown",
   "metadata": {},
   "source": [
    "Properties"
   ]
  },
  {
   "cell_type": "code",
   "execution_count": null,
   "metadata": {},
   "outputs": [],
   "source": [
    "class Product:\n",
    "    def __init__(self, name, price):\n",
    "        self.name = name\n",
    "        if price > 0:\n",
    "            self._price = price\n",
    "        else:\n",
    "            raise ValueError(\"ürün fiyatı için negatif değer ataması yapılamaz\")\n",
    "\n",
    "    # def set_price(self, value):\n",
    "    #     if value > 0 :\n",
    "    #         self._price = value\n",
    "    #     else:\n",
    "    #         raise ValueError(\"ürün fiyatı için negatif değer ataması yapılamaz\")\n",
    "\n",
    "    # def get_price(self):\n",
    "    #     return self._price\n",
    "    \n",
    "    @property               #metotu property olarak kullanmak için\n",
    "    def price(self):\n",
    "        return self._price\n",
    "    \n",
    "    @price.setter\n",
    "    def price(self, value):\n",
    "        if value > 0 :\n",
    "            self._price = value\n",
    "        else:\n",
    "            raise ValueError(\"ürün fiyatı için negatif değer ataması yapılamaz\")\n",
    "\n",
    "        "
   ]
  },
  {
   "cell_type": "code",
   "execution_count": 217,
   "metadata": {},
   "outputs": [],
   "source": [
    "p = Product(\"MSI 40 inch Monitor\", 15000)"
   ]
  },
  {
   "cell_type": "code",
   "execution_count": 218,
   "metadata": {},
   "outputs": [
    {
     "name": "stdout",
     "output_type": "stream",
     "text": [
      "MSI 40 inch Monitor 15000\n"
     ]
    }
   ],
   "source": [
    "print(p.name, p.price)"
   ]
  },
  {
   "cell_type": "code",
   "execution_count": 219,
   "metadata": {},
   "outputs": [
    {
     "ename": "ValueError",
     "evalue": "ürün fiyatı için negatif değer ataması yapılamaz",
     "output_type": "error",
     "traceback": [
      "\u001b[0;31m---------------------------------------------------------------------------\u001b[0m",
      "\u001b[0;31mValueError\u001b[0m                                Traceback (most recent call last)",
      "Cell \u001b[0;32mIn[219], line 1\u001b[0m\n\u001b[0;32m----> 1\u001b[0m p\u001b[38;5;241m.\u001b[39mprice \u001b[38;5;241m=\u001b[39m \u001b[38;5;241m-\u001b[39m\u001b[38;5;241m75000\u001b[39m\n",
      "Cell \u001b[0;32mIn[216], line 27\u001b[0m, in \u001b[0;36mProduct.price\u001b[0;34m(self, value)\u001b[0m\n\u001b[1;32m     25\u001b[0m     \u001b[38;5;28mself\u001b[39m\u001b[38;5;241m.\u001b[39m_price \u001b[38;5;241m=\u001b[39m value\n\u001b[1;32m     26\u001b[0m \u001b[38;5;28;01melse\u001b[39;00m:\n\u001b[0;32m---> 27\u001b[0m     \u001b[38;5;28;01mraise\u001b[39;00m \u001b[38;5;167;01mValueError\u001b[39;00m(\u001b[38;5;124m\"\u001b[39m\u001b[38;5;124mürün fiyatı için negatif değer ataması yapılamaz\u001b[39m\u001b[38;5;124m\"\u001b[39m)\n",
      "\u001b[0;31mValueError\u001b[0m: ürün fiyatı için negatif değer ataması yapılamaz"
     ]
    }
   ],
   "source": [
    "p.price = -75000  #consturctor dışında neg atamanın önüne geçmek için insta method kullanmamız gerekiyor"
   ]
  },
  {
   "cell_type": "code",
   "execution_count": 220,
   "metadata": {},
   "outputs": [
    {
     "data": {
      "text/plain": [
       "15000"
      ]
     },
     "execution_count": 220,
     "metadata": {},
     "output_type": "execute_result"
    }
   ],
   "source": [
    "p.price"
   ]
  },
  {
   "cell_type": "code",
   "execution_count": 221,
   "metadata": {},
   "outputs": [
    {
     "ename": "ValueError",
     "evalue": "ürün fiyatı için negatif değer ataması yapılamaz",
     "output_type": "error",
     "traceback": [
      "\u001b[0;31m---------------------------------------------------------------------------\u001b[0m",
      "\u001b[0;31mValueError\u001b[0m                                Traceback (most recent call last)",
      "Cell \u001b[0;32mIn[221], line 1\u001b[0m\n\u001b[0;32m----> 1\u001b[0m p\u001b[38;5;241m.\u001b[39mset_price(\u001b[38;5;241m-\u001b[39m\u001b[38;5;241m15000\u001b[39m)\n",
      "Cell \u001b[0;32mIn[216], line 13\u001b[0m, in \u001b[0;36mProduct.set_price\u001b[0;34m(self, value)\u001b[0m\n\u001b[1;32m     11\u001b[0m     \u001b[38;5;28mself\u001b[39m\u001b[38;5;241m.\u001b[39m_price \u001b[38;5;241m=\u001b[39m value\n\u001b[1;32m     12\u001b[0m \u001b[38;5;28;01melse\u001b[39;00m:\n\u001b[0;32m---> 13\u001b[0m     \u001b[38;5;28;01mraise\u001b[39;00m \u001b[38;5;167;01mValueError\u001b[39;00m(\u001b[38;5;124m\"\u001b[39m\u001b[38;5;124mürün fiyatı için negatif değer ataması yapılamaz\u001b[39m\u001b[38;5;124m\"\u001b[39m)\n",
      "\u001b[0;31mValueError\u001b[0m: ürün fiyatı için negatif değer ataması yapılamaz"
     ]
    }
   ],
   "source": [
    "p.set_price(-15000)"
   ]
  },
  {
   "cell_type": "code",
   "execution_count": 222,
   "metadata": {},
   "outputs": [],
   "source": [
    "p.set_price(15000)"
   ]
  },
  {
   "cell_type": "code",
   "execution_count": 223,
   "metadata": {},
   "outputs": [
    {
     "data": {
      "text/plain": [
       "<bound method Product.get_price of <__main__.Product object at 0x7cb35c490ce0>>"
      ]
     },
     "execution_count": 223,
     "metadata": {},
     "output_type": "execute_result"
    }
   ],
   "source": [
    "p.get_price"
   ]
  },
  {
   "cell_type": "code",
   "execution_count": 224,
   "metadata": {},
   "outputs": [
    {
     "data": {
      "text/plain": [
       "15000"
      ]
     },
     "execution_count": 224,
     "metadata": {},
     "output_type": "execute_result"
    }
   ],
   "source": [
    "p.price"
   ]
  },
  {
   "cell_type": "code",
   "execution_count": 225,
   "metadata": {},
   "outputs": [],
   "source": [
    "p.price = 18799"
   ]
  },
  {
   "cell_type": "code",
   "execution_count": 226,
   "metadata": {},
   "outputs": [
    {
     "data": {
      "text/plain": [
       "18799"
      ]
     },
     "execution_count": 226,
     "metadata": {},
     "output_type": "execute_result"
    }
   ],
   "source": [
    "p.price"
   ]
  },
  {
   "cell_type": "markdown",
   "metadata": {},
   "source": [
    "SPECIAL METHODS"
   ]
  },
  {
   "cell_type": "code",
   "execution_count": 227,
   "metadata": {},
   "outputs": [
    {
     "name": "stdout",
     "output_type": "stream",
     "text": [
      "3\n"
     ]
    }
   ],
   "source": [
    "liste = [1, 2, 3]\n",
    "\n",
    "print(len(liste))"
   ]
  },
  {
   "cell_type": "code",
   "execution_count": 228,
   "metadata": {},
   "outputs": [
    {
     "name": "stdout",
     "output_type": "stream",
     "text": [
      "23\n"
     ]
    }
   ],
   "source": [
    "dizi = \"Toygar Py'dan Selamlar!\"\n",
    "\n",
    "print(len(dizi))"
   ]
  },
  {
   "cell_type": "code",
   "execution_count": 343,
   "metadata": {},
   "outputs": [],
   "source": [
    "class Movie:\n",
    "    def __init__(self, title, director, year, duration):\n",
    "        self.title = title\n",
    "        self.director = director\n",
    "        self.year = year\n",
    "        self.duration = duration\n",
    "\n",
    "    # def  __repr__(self):\n",
    "    #     return ( f\"Movie('{self.title}', '{self.director}', {self.year}, {self.duration})\" )\n",
    "    \n",
    "    def __str__(self):\n",
    "        return f\"{self.title}, {self.director} tarafında {self.year} yılında çekilmiştir\"\n",
    "    \n",
    "\n",
    "    def __len__(self):\n",
    "        return self.duration\n",
    "    \n",
    "    def __del__(self):\n",
    "        print(f\"{self.title} filmi silindi\")\n",
    "\n",
    "    @property\n",
    "    def show_attr(self):\n",
    "        return self.attrToparla()\n",
    "\n",
    "    def attrToparla(self):\n",
    "        attrs = []\n",
    "        for key in sorted(self.__dict__):\n",
    "            attrs.append(\"{} = {}\".format(key, getattr(self, key)))\n",
    "\n",
    "        return \", \".join(attrs)\n",
    "    \n",
    "    def __repr__(self):\n",
    "        return \"[{}: {}]\".format(self.__class__.__name__, self.attrToparla())\n",
    "\n",
    "\n"
   ]
  },
  {
   "cell_type": "code",
   "execution_count": 354,
   "metadata": {},
   "outputs": [],
   "source": [
    "m = Movie(\"Star Wars: Empire Strikes Back\", \"Geoge Lucas\", 1977, 187)"
   ]
  },
  {
   "cell_type": "code",
   "execution_count": 355,
   "metadata": {},
   "outputs": [
    {
     "name": "stdout",
     "output_type": "stream",
     "text": [
      "Star Wars: Empire Strikes Back, Geoge Lucas tarafında 1977 yılında çekilmiştir\n"
     ]
    }
   ],
   "source": [
    "print(m)"
   ]
  },
  {
   "cell_type": "code",
   "execution_count": 356,
   "metadata": {},
   "outputs": [
    {
     "data": {
      "text/plain": [
       "'[Movie: director = Geoge Lucas, duration = 187, title = Star Wars: Empire Strikes Back, year = 1977]'"
      ]
     },
     "execution_count": 356,
     "metadata": {},
     "output_type": "execute_result"
    }
   ],
   "source": [
    "m.__repr__()"
   ]
  },
  {
   "cell_type": "code",
   "execution_count": 357,
   "metadata": {},
   "outputs": [
    {
     "data": {
      "text/plain": [
       "'Star Wars: Empire Strikes Back, Geoge Lucas tarafında 1977 yılında çekilmiştir'"
      ]
     },
     "execution_count": 357,
     "metadata": {},
     "output_type": "execute_result"
    }
   ],
   "source": [
    "m.__str__()"
   ]
  },
  {
   "cell_type": "code",
   "execution_count": 358,
   "metadata": {},
   "outputs": [
    {
     "name": "stdout",
     "output_type": "stream",
     "text": [
      "Star Wars: Empire Strikes Back, Geoge Lucas tarafında 1977 yılında çekilmiştir\n"
     ]
    }
   ],
   "source": [
    "print(m)"
   ]
  },
  {
   "cell_type": "code",
   "execution_count": 359,
   "metadata": {},
   "outputs": [
    {
     "data": {
      "text/plain": [
       "187"
      ]
     },
     "execution_count": 359,
     "metadata": {},
     "output_type": "execute_result"
    }
   ],
   "source": [
    "len(m)"
   ]
  },
  {
   "cell_type": "code",
   "execution_count": 350,
   "metadata": {},
   "outputs": [
    {
     "name": "stdout",
     "output_type": "stream",
     "text": [
      "Star Wars: Empire Strikes Back filmi silindi\n"
     ]
    }
   ],
   "source": [
    "del m\n"
   ]
  },
  {
   "cell_type": "code",
   "execution_count": 360,
   "metadata": {},
   "outputs": [
    {
     "data": {
      "text/plain": [
       "'director = Geoge Lucas, duration = 187, title = Star Wars: Empire Strikes Back, year = 1977'"
      ]
     },
     "execution_count": 360,
     "metadata": {},
     "output_type": "execute_result"
    }
   ],
   "source": [
    "m.attrToparla()"
   ]
  },
  {
   "cell_type": "code",
   "execution_count": 361,
   "metadata": {},
   "outputs": [
    {
     "data": {
      "text/plain": [
       "'director = Geoge Lucas, duration = 187, title = Star Wars: Empire Strikes Back, year = 1977'"
      ]
     },
     "execution_count": 361,
     "metadata": {},
     "output_type": "execute_result"
    }
   ],
   "source": [
    "m.show_attr"
   ]
  },
  {
   "cell_type": "markdown",
   "metadata": {},
   "source": [
    "SIMPLE EXAMPLE OF CONSTRUCTORS AND EXPRESSIONS"
   ]
  },
  {
   "cell_type": "code",
   "execution_count": 433,
   "metadata": {},
   "outputs": [],
   "source": [
    "class Num:\n",
    "    def __init__(self, start):\n",
    "        self.bilgi = start\n",
    "        \n",
    "\n",
    "    def __sub__(self, val):\n",
    "        return Num(self.bilgi - val)"
   ]
  },
  {
   "cell_type": "code",
   "execution_count": null,
   "metadata": {},
   "outputs": [],
   "source": [
    "a = Num(7)    #Num.__init__.(x,7)"
   ]
  },
  {
   "cell_type": "code",
   "execution_count": null,
   "metadata": {},
   "outputs": [],
   "source": [
    "b = a - 5    #Num.__sub__.(x,5)"
   ]
  },
  {
   "cell_type": "code",
   "execution_count": 436,
   "metadata": {},
   "outputs": [
    {
     "data": {
      "text/plain": [
       "2"
      ]
     },
     "execution_count": 436,
     "metadata": {},
     "output_type": "execute_result"
    }
   ],
   "source": [
    "b.bilgi"
   ]
  },
  {
   "cell_type": "markdown",
   "metadata": {},
   "source": [
    "METACLASS\n"
   ]
  },
  {
   "cell_type": "code",
   "execution_count": 362,
   "metadata": {},
   "outputs": [],
   "source": [
    "class Test:\n",
    "    pass"
   ]
  },
  {
   "cell_type": "code",
   "execution_count": 363,
   "metadata": {},
   "outputs": [
    {
     "data": {
      "text/plain": [
       "<__main__.Test at 0x7cb35c5409e0>"
      ]
     },
     "execution_count": 363,
     "metadata": {},
     "output_type": "execute_result"
    }
   ],
   "source": [
    "res =  Test()\n",
    "res"
   ]
  },
  {
   "cell_type": "code",
   "execution_count": 364,
   "metadata": {},
   "outputs": [
    {
     "data": {
      "text/plain": [
       "__main__.Test"
      ]
     },
     "execution_count": 364,
     "metadata": {},
     "output_type": "execute_result"
    }
   ],
   "source": [
    "Test"
   ]
  },
  {
   "cell_type": "code",
   "execution_count": null,
   "metadata": {},
   "outputs": [
    {
     "data": {
      "text/plain": [
       "type"
      ]
     },
     "execution_count": 365,
     "metadata": {},
     "output_type": "execute_result"
    }
   ],
   "source": [
    "type(Test)   #type temeldeki sınıf, metaclass, kuralların ne olacağını temel sınıfa kodlayabiliriz"
   ]
  },
  {
   "cell_type": "code",
   "execution_count": 366,
   "metadata": {},
   "outputs": [
    {
     "data": {
      "text/plain": [
       "int"
      ]
     },
     "execution_count": 366,
     "metadata": {},
     "output_type": "execute_result"
    }
   ],
   "source": [
    "type(2)"
   ]
  },
  {
   "cell_type": "code",
   "execution_count": 368,
   "metadata": {},
   "outputs": [
    {
     "data": {
      "text/plain": [
       "type"
      ]
     },
     "execution_count": 368,
     "metadata": {},
     "output_type": "execute_result"
    }
   ],
   "source": [
    "type(int)  #en temede type sınıfımız var\n"
   ]
  },
  {
   "cell_type": "code",
   "execution_count": null,
   "metadata": {},
   "outputs": [],
   "source": [
    "#Test class'i type constructor aracılığı ile oluşturabiliriz, tuple: bases , dict: class attrs\n",
    "\n",
    "class BaseClass:\n",
    "    def show(self):\n",
    "        return \"Selam\"\n",
    "    \n",
    "\n",
    "\n",
    "\n",
    "\n",
    "def add_attribute(self):\n",
    "        self.b = 10\n",
    "\n",
    "\n",
    "\n",
    "\n",
    "\n",
    "#type constructor\n",
    "Test = type(\"Test\", (BaseClass,), {\"a\" : 5, \"add_attribute\": add_attribute})"
   ]
  },
  {
   "cell_type": "code",
   "execution_count": 382,
   "metadata": {},
   "outputs": [],
   "source": [
    "t = Test()"
   ]
  },
  {
   "cell_type": "code",
   "execution_count": 383,
   "metadata": {},
   "outputs": [
    {
     "data": {
      "text/plain": [
       "'Selam'"
      ]
     },
     "execution_count": 383,
     "metadata": {},
     "output_type": "execute_result"
    }
   ],
   "source": [
    "t.show()"
   ]
  },
  {
   "cell_type": "code",
   "execution_count": 384,
   "metadata": {},
   "outputs": [
    {
     "data": {
      "text/plain": [
       "5"
      ]
     },
     "execution_count": 384,
     "metadata": {},
     "output_type": "execute_result"
    }
   ],
   "source": [
    "t.a"
   ]
  },
  {
   "cell_type": "code",
   "execution_count": 385,
   "metadata": {},
   "outputs": [],
   "source": [
    "t.add_attribute()"
   ]
  },
  {
   "cell_type": "code",
   "execution_count": null,
   "metadata": {},
   "outputs": [
    {
     "data": {
      "text/plain": [
       "10"
      ]
     },
     "execution_count": 386,
     "metadata": {},
     "output_type": "execute_result"
    }
   ],
   "source": [
    "t.b"
   ]
  },
  {
   "cell_type": "code",
   "execution_count": 422,
   "metadata": {},
   "outputs": [],
   "source": [
    "\n",
    "#tanımlanacak olan classlerin nasıl davranması gerektiği meta classler içerisinnde tanımlayabiliyoruz\n",
    "\n",
    "\n",
    "class Meta(type):\n",
    "\n",
    "    def __new__(self, class_name, bases, attrs):\n",
    "        print(attrs)\n",
    "\n",
    "\n",
    "        a={}\n",
    "\n",
    "        for name, val in attrs.items():\n",
    "            if name.startswith(\"_\"):\n",
    "                a[name] =  val\n",
    "\n",
    "            else:\n",
    "                a[name.upper()] = val\n",
    "\n",
    "\n",
    "\n",
    "\n",
    "\n",
    "        return type(class_name, bases, a)\n"
   ]
  },
  {
   "cell_type": "code",
   "execution_count": 423,
   "metadata": {},
   "outputs": [
    {
     "name": "stdout",
     "output_type": "stream",
     "text": [
      "{'__module__': '__main__', '__qualname__': 'Person', 'x': 5, 'y': 10, '_age': 20, 'hello': <function Person.hello at 0x7cb35c1f4400>}\n"
     ]
    }
   ],
   "source": [
    "class Person(metaclass=Meta):\n",
    "    x = 5\n",
    "    y = 10\n",
    "    _age = 20\n",
    "\n",
    "\n",
    "    def hello(self):\n",
    "        print(\"Selam!\")"
   ]
  },
  {
   "cell_type": "code",
   "execution_count": 424,
   "metadata": {},
   "outputs": [],
   "source": [
    "p = Person()"
   ]
  },
  {
   "cell_type": "code",
   "execution_count": 425,
   "metadata": {},
   "outputs": [
    {
     "ename": "AttributeError",
     "evalue": "'Person' object has no attribute 'x'",
     "output_type": "error",
     "traceback": [
      "\u001b[0;31m---------------------------------------------------------------------------\u001b[0m",
      "\u001b[0;31mAttributeError\u001b[0m                            Traceback (most recent call last)",
      "Cell \u001b[0;32mIn[425], line 1\u001b[0m\n\u001b[0;32m----> 1\u001b[0m p\u001b[38;5;241m.\u001b[39mx\n",
      "\u001b[0;31mAttributeError\u001b[0m: 'Person' object has no attribute 'x'"
     ]
    }
   ],
   "source": [
    "p.x"
   ]
  },
  {
   "cell_type": "code",
   "execution_count": 426,
   "metadata": {},
   "outputs": [
    {
     "data": {
      "text/plain": [
       "5"
      ]
     },
     "execution_count": 426,
     "metadata": {},
     "output_type": "execute_result"
    }
   ],
   "source": [
    "p.X"
   ]
  },
  {
   "cell_type": "code",
   "execution_count": 427,
   "metadata": {},
   "outputs": [
    {
     "data": {
      "text/plain": [
       "10"
      ]
     },
     "execution_count": 427,
     "metadata": {},
     "output_type": "execute_result"
    }
   ],
   "source": [
    "p.Y"
   ]
  },
  {
   "cell_type": "code",
   "execution_count": 428,
   "metadata": {},
   "outputs": [
    {
     "data": {
      "text/plain": [
       "20"
      ]
     },
     "execution_count": 428,
     "metadata": {},
     "output_type": "execute_result"
    }
   ],
   "source": [
    "p._age"
   ]
  },
  {
   "cell_type": "markdown",
   "metadata": {},
   "source": [
    "Common Operator Overloading Methods\n",
    "\n",
    "\n",
    "__init__\n",
    " Constructor\n",
    "\n",
    " Object creation: X = Class(args)\n",
    " \n",
    "__del__\n",
    " Destructor\n",
    " \n",
    " Object reclamation of X\n",
    "\n",
    "__add__\n",
    " Operator +\n",
    "\n",
    " X + Y, X += Y if no __iadd__\n",
    "\n",
    "__or__\n",
    " Operator | (bitwise OR)\n",
    "\n",
    " X | Y, X |= Y if no __ior__\n",
    "\n",
    "__repr__, __str__\n",
    " Printing, conversions\n",
    "\n",
    " print(X), repr(X), str(X)\n",
    "\n",
    "__call__\n",
    " Function calls\n",
    "\n",
    " X(*args, **kargs)\n",
    "\n",
    "__getattr__\n",
    " Attribute fetch\n",
    "\n",
    " X.undefined\n",
    "\n",
    "__setattr__\n",
    " Attribute assignment\n",
    "\n",
    " X.any = value\n",
    "\n",
    "__delattr__\n",
    " Attribute deletion\n",
    "\n",
    " del X.any\n",
    "\n",
    "__getattribute__\n",
    " Attribute fetch\n",
    "\n",
    " X.any\n",
    "\n",
    "__getitem__\n",
    " Indexing, slicing, iteration\n",
    "\n",
    " X[key], X[i:j], for loops and other iterations if no __iter__\n",
    "\n",
    "__setitem__\n",
    " Index and slice assignment\n",
    "\n",
    " X[key] = value, X[i:j] = iterable\n",
    "\n",
    "__delitem__\n",
    " Index and slice deletion\n",
    "\n",
    " del X[key], del X[i:j]\n",
    "\n",
    "__len__\n",
    " Length\n",
    "\n",
    " len(X), truth tests if no __bool__\n",
    "\n",
    "__bool__\n",
    " Boolean tests\n",
    "\n",
    " bool(X), truth tests (named __nonzero__ in 2.X)\n",
    "\n",
    "__lt__, __gt__,\n",
    "__le__, __ge__,\n",
    "__eq__, __ne__\n",
    " Comparisons\n",
    "\n",
    " X < Y, X > Y, X <= Y, X >= Y, X == Y, X != Y\n",
    "\n",
    "\n",
    "\n",
    "__radd__\n",
    " Right-side operators\n",
    "\n",
    " Other + X\n",
    "\n",
    "__iadd__\n",
    " In-place augmented operators\n",
    "\n",
    " X += Y (or else __add__)\n",
    "\n",
    "__iter__, __next__\n",
    " Iteration contexts\n",
    "\n",
    " I=iter(X), next(I); for loops, in if no __contains__, all comprehensions, map(F,X), others\n",
    "\n",
    "__contains__\n",
    " Membership test\n",
    "\n",
    " item in X (any iterable)\n",
    "\n",
    "__index__\n",
    " Integer value\n",
    "\n",
    " hex(X), bin(X), oct(X), O[X], O[X:] (replaces 2.X\n",
    "__oct__, __hex__)\n",
    "__enter__, __exit__\n",
    " Context manager \n",
    "\n",
    " with obj as var:\n",
    "\n",
    "__get__, __set__,\n",
    " Descriptor attributes \n",
    "\n",
    " X.attr, X.attr = value, del X.attr\n",
    "\n",
    "__delete__\n",
    "\n",
    "__new__\n",
    " Creation \n",
    " \n",
    " Object creation, before __init__"
   ]
  },
  {
   "cell_type": "markdown",
   "metadata": {},
   "source": [
    "#### Indexing\n",
    "\n",
    " ```__getitem__  ```\n",
    "\n",
    "allows your classes to mimic some of the behaviors of sequences and mappings\n",
    "\n",
    "defined in a class (or inherited by it), the __getitem__ method is called automatically for instance-indexing operations. \n",
    "\n",
    " X[i], Python calls the __getitem__ method inherited by the instance, passing X to the first argument and the index in brackets to the second argument.\n"
   ]
  },
  {
   "cell_type": "code",
   "execution_count": 445,
   "metadata": {},
   "outputs": [],
   "source": [
    "class Indeks:\n",
    "    def __getitem__(self, indexval):\n",
    "        return indexval ** 3"
   ]
  },
  {
   "cell_type": "code",
   "execution_count": 446,
   "metadata": {},
   "outputs": [],
   "source": [
    "a = Indeks()"
   ]
  },
  {
   "cell_type": "code",
   "execution_count": 447,
   "metadata": {},
   "outputs": [
    {
     "data": {
      "text/plain": [
       "<__main__.Indeks at 0x7cb35ffa71a0>"
      ]
     },
     "execution_count": 447,
     "metadata": {},
     "output_type": "execute_result"
    }
   ],
   "source": [
    "a\n"
   ]
  },
  {
   "cell_type": "code",
   "execution_count": null,
   "metadata": {},
   "outputs": [
    {
     "data": {
      "text/plain": [
       "8"
      ]
     },
     "execution_count": 448,
     "metadata": {},
     "output_type": "execute_result"
    }
   ],
   "source": [
    "#  a[indexval] calls a.__getitem__(indexval)\n",
    "\n",
    "a[2]"
   ]
  },
  {
   "cell_type": "code",
   "execution_count": null,
   "metadata": {},
   "outputs": [
    {
     "name": "stdout",
     "output_type": "stream",
     "text": [
      "0 1 8 27 64 125 216 "
     ]
    }
   ],
   "source": [
    "for i in  range(7):\n",
    "    print(a[i], end=\" \")   # Runs __getitem__(a, i) each time"
   ]
  },
  {
   "cell_type": "code",
   "execution_count": null,
   "metadata": {},
   "outputs": [],
   "source": []
  },
  {
   "cell_type": "markdown",
   "metadata": {},
   "source": [
    "#### Intercepting Slices\n",
    "\n",
    "\n",
    "a ```__getitem__ ``` will be called both for basic indexing (with an index) and for slicing (with a slice object)"
   ]
  },
  {
   "cell_type": "code",
   "execution_count": 437,
   "metadata": {},
   "outputs": [],
   "source": [
    "liste = [ 11, 12, 13, 14, 15]"
   ]
  },
  {
   "cell_type": "code",
   "execution_count": 438,
   "metadata": {},
   "outputs": [
    {
     "data": {
      "text/plain": [
       "[12, 13]"
      ]
     },
     "execution_count": 438,
     "metadata": {},
     "output_type": "execute_result"
    }
   ],
   "source": [
    "liste[1:3]"
   ]
  },
  {
   "cell_type": "code",
   "execution_count": 439,
   "metadata": {},
   "outputs": [
    {
     "data": {
      "text/plain": [
       "[12, 13]"
      ]
     },
     "execution_count": 439,
     "metadata": {},
     "output_type": "execute_result"
    }
   ],
   "source": [
    "liste[slice(1,3)]"
   ]
  },
  {
   "cell_type": "code",
   "execution_count": 440,
   "metadata": {},
   "outputs": [
    {
     "data": {
      "text/plain": [
       "[12, 13, 14, 15]"
      ]
     },
     "execution_count": 440,
     "metadata": {},
     "output_type": "execute_result"
    }
   ],
   "source": [
    "liste[1:]"
   ]
  },
  {
   "cell_type": "code",
   "execution_count": 441,
   "metadata": {},
   "outputs": [
    {
     "data": {
      "text/plain": [
       "[12, 13, 14, 15]"
      ]
     },
     "execution_count": 441,
     "metadata": {},
     "output_type": "execute_result"
    }
   ],
   "source": [
    "liste[slice(1,None)]"
   ]
  },
  {
   "cell_type": "code",
   "execution_count": 442,
   "metadata": {},
   "outputs": [
    {
     "data": {
      "text/plain": [
       "[15, 14, 13, 12, 11]"
      ]
     },
     "execution_count": 442,
     "metadata": {},
     "output_type": "execute_result"
    }
   ],
   "source": [
    "liste[::-1]"
   ]
  },
  {
   "cell_type": "code",
   "execution_count": 443,
   "metadata": {},
   "outputs": [
    {
     "data": {
      "text/plain": [
       "[15, 14, 13, 12, 11]"
      ]
     },
     "execution_count": 443,
     "metadata": {},
     "output_type": "execute_result"
    }
   ],
   "source": [
    "liste[(slice(None, None, -1))]"
   ]
  },
  {
   "cell_type": "code",
   "execution_count": 462,
   "metadata": {},
   "outputs": [],
   "source": [
    "class Slicer:\n",
    "    \"\"\"\n",
    "    When called for indexing, the argument is an integer \n",
    "    When called for slicing, though, the method receives a slice object, which is simply passed along to the embedded list indexer in a new index expression\n",
    "\n",
    "    \"\"\"\n",
    "    liste = [ 11, 12, 13, 14, 15]\n",
    "\n",
    "    def __getitem__(self, val):  #called for index or slice\n",
    "        print(\"getitem:\", val )\n",
    "\n",
    "        if isinstance(val, int):\n",
    "            print(\"Indexing\", val)\n",
    "        else:\n",
    "            print(\"Slicing\", val.start, val.stop, val.step)\n",
    "\n",
    "        return self.liste[val]   # performs index or slice\n",
    "    \n",
    "        \n",
    "    "
   ]
  },
  {
   "cell_type": "code",
   "execution_count": 463,
   "metadata": {},
   "outputs": [],
   "source": [
    "ind = Slicer()"
   ]
  },
  {
   "cell_type": "code",
   "execution_count": 464,
   "metadata": {},
   "outputs": [
    {
     "name": "stdout",
     "output_type": "stream",
     "text": [
      "getitem: 0\n",
      "Indexing 0\n"
     ]
    },
    {
     "data": {
      "text/plain": [
       "11"
      ]
     },
     "execution_count": 464,
     "metadata": {},
     "output_type": "execute_result"
    }
   ],
   "source": [
    "ind[0]   #sends __getitem__ an integer"
   ]
  },
  {
   "cell_type": "code",
   "execution_count": 465,
   "metadata": {},
   "outputs": [],
   "source": [
    "#When called for slicing, though, the method receives a slice object, which is simply passed along to the embedded list indexer in a new index expression\n",
    "\n",
    "sl = Slicer()"
   ]
  },
  {
   "cell_type": "code",
   "execution_count": 466,
   "metadata": {},
   "outputs": [
    {
     "name": "stdout",
     "output_type": "stream",
     "text": [
      "getitem: slice(1, 3, None)\n",
      "Slicing 1 3 None\n"
     ]
    },
    {
     "data": {
      "text/plain": [
       "[12, 13]"
      ]
     },
     "execution_count": 466,
     "metadata": {},
     "output_type": "execute_result"
    }
   ],
   "source": [
    "sl[1:3]"
   ]
  },
  {
   "cell_type": "code",
   "execution_count": 488,
   "metadata": {},
   "outputs": [],
   "source": [
    "class SlicerSetItem:\n",
    "    \"\"\"\n",
    "    If used, the __setitem__ index assignment method similarly intercepts both index and\n",
    "    slice. It receives a slice object for the latter, \n",
    "    which may be passed along in another index assignment or used directly in the same\n",
    "    way.\n",
    "    \"\"\"\n",
    "    liste = [11, 12, 13, 14, 15]\n",
    "\n",
    "    def __setitem__(self, index_or_slice_obj, val):  # called for index or slice\n",
    "        print(\"setitem:\", index_or_slice_obj)\n",
    "        \n",
    "        # Check if it's an integer index or a slice object\n",
    "        if isinstance(index_or_slice_obj, int):\n",
    "            print(\"Indexing\", index_or_slice_obj)\n",
    "        else:\n",
    "            print(\"Slicing\", index_or_slice_obj.start, index_or_slice_obj.stop, index_or_slice_obj.step)\n",
    "        \n",
    "        # Perform assignment on the class attribute 'liste'\n",
    "        self.liste[index_or_slice_obj] = val # assign index or slice\n",
    "\n",
    "\n"
   ]
  },
  {
   "cell_type": "code",
   "execution_count": 489,
   "metadata": {},
   "outputs": [
    {
     "name": "stdout",
     "output_type": "stream",
     "text": [
      "setitem: 0\n",
      "Indexing 0\n",
      "setitem: slice(1, 4, None)\n",
      "Slicing 1 4 None\n",
      "[99, 21, 22, 23, 15]\n"
     ]
    }
   ],
   "source": [
    "# Testing the class\n",
    "obj = SlicerSetItem()\n",
    "obj[0] = 99        # Should update the second element\n",
    "obj[1:4] = [21, 22, 23]  # Should update a slice\n",
    "print(obj.liste)  # To see the final list after assignment"
   ]
  },
  {
   "cell_type": "code",
   "execution_count": 490,
   "metadata": {},
   "outputs": [
    {
     "data": {
      "text/plain": [
       "'\\n    If used, the __setitem__ index assignment method similarly intercepts both index and\\n    slice. It receives a slice object for the latter, \\n    which may be passed along in another index assignment or used directly in the same\\n    way.\\n    '"
      ]
     },
     "execution_count": 490,
     "metadata": {},
     "output_type": "execute_result"
    }
   ],
   "source": [
    "obj.__doc__"
   ]
  },
  {
   "cell_type": "code",
   "execution_count": null,
   "metadata": {},
   "outputs": [],
   "source": [
    "\n",
    "class dog:\n",
    "    \"\"\" \n",
    "    dog class code dynamically assigns the walk function to dog.on_leash using a decorator, and then calling dog.on_leash() triggers the function, printing \"hav hav\"\n",
    "    \n",
    "    \n",
    "    \"\"\"\n",
    "    pass\n",
    "\n",
    "\n",
    "@(lambda f: setattr(dog, \"on_leash\", f))   # The setattr function sets an attribute called \"on_leash\" on the dog class and assigns it the value of f , f becomes the walk function, sets dog.on_leash to the walk function, essentially adding walk as an attribute of the dog class under the name on_leash\n",
    "\n",
    "\n",
    "def walk():             #When walk is defined, the lambda decorator is applied to it, passing the walk function as f to the lambda.\n",
    "    print(\"hav hav\")\n",
    "\n"
   ]
  },
  {
   "cell_type": "code",
   "execution_count": null,
   "metadata": {},
   "outputs": [
    {
     "name": "stdout",
     "output_type": "stream",
     "text": [
      "hav hav\n"
     ]
    }
   ],
   "source": [
    "#a reference to the walk function. When you call dog.on_leash(), it’s the same as calling walk() directly.\n",
    "\n",
    "dog.on_leash()"
   ]
  },
  {
   "cell_type": "code",
   "execution_count": null,
   "metadata": {},
   "outputs": [],
   "source": []
  }
 ],
 "metadata": {
  "kernelspec": {
   "display_name": "base",
   "language": "python",
   "name": "python3"
  },
  "language_info": {
   "codemirror_mode": {
    "name": "ipython",
    "version": 3
   },
   "file_extension": ".py",
   "mimetype": "text/x-python",
   "name": "python",
   "nbconvert_exporter": "python",
   "pygments_lexer": "ipython3",
   "version": "3.12.7"
  }
 },
 "nbformat": 4,
 "nbformat_minor": 2
}
