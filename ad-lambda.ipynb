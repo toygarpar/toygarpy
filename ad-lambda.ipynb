{
 "cells": [
  {
   "cell_type": "markdown",
   "metadata": {},
   "source": [
    "LAMBDA FUNCTIONS - LAMBDA FONKSİYONLARI\n",
    "\n",
    "Besides the def statement, Python also provides an expression form that generates function objects. \n",
    "\n",
    "this expression creates a function to be called later, but it returns the function instead of assigning it to a name. This is why lambdas are sometimes known as anonymous (i.e., unnamed) functions.\n",
    "\n",
    "Sometimes, especially when the operations of the function are simple and used only once, it is more convenient to simply use a\n",
    "small code block as a function without defining a function with a name.\n",
    "\n",
    "Uygulamada, sıklıkla bir fonksiyon tanımını satır içine yerleştirmenin veya bir kod parçasının yürütülmesini ertelemenin bir yolu olarak kullanılırlar.\n",
    "\n",
    "\n",
    "\n",
    "lambda argument1, argument2,... argumentN : expression using arguments\n",
    "\n",
    "\n",
    "```lambda <formal argument list> : <expression whose value is to be returned>```\n",
    "\n",
    "\n",
    "\n",
    "lambda is an expression, not a statement.\n",
    "\n",
    "lambda’s body is a single expression, not a block of statements."
   ]
  },
  {
   "cell_type": "code",
   "execution_count": 1,
   "metadata": {},
   "outputs": [
    {
     "name": "stdout",
     "output_type": "stream",
     "text": [
      "4\n"
     ]
    }
   ],
   "source": [
    "#how to make a function with a def statement:\n",
    "\n",
    "def karesi(x):\n",
    "    return x ** 2\n",
    "\n",
    "karesi(2)\n",
    "\n"
   ]
  },
  {
   "cell_type": "code",
   "execution_count": 3,
   "metadata": {},
   "outputs": [
    {
     "name": "stdout",
     "output_type": "stream",
     "text": [
      "4\n"
     ]
    }
   ],
   "source": [
    "#lambdanın dışına bir parantez açıp arg vererek sonuç alabiliyoruz\n",
    "print((lambda x : x ** 2)(2))"
   ]
  },
  {
   "cell_type": "code",
   "execution_count": 4,
   "metadata": {},
   "outputs": [
    {
     "data": {
      "text/plain": [
       "6"
      ]
     },
     "execution_count": 4,
     "metadata": {},
     "output_type": "execute_result"
    }
   ],
   "source": [
    "#lambda için birden çok değişken tanımlama\n",
    "\n",
    "toplama = lambda a, b, c : a + b + c\n",
    "\n",
    "toplama(1, 2, 3)"
   ]
  },
  {
   "cell_type": "code",
   "execution_count": 6,
   "metadata": {},
   "outputs": [
    {
     "data": {
      "text/plain": [
       "9"
      ]
     },
     "execution_count": 6,
     "metadata": {},
     "output_type": "execute_result"
    }
   ],
   "source": [
    "#fonk içinde lambda fonk kullanmak\n",
    "def my_func(n):\n",
    "    return lambda a: a ** n\n",
    "\n",
    "my_func(2)(3)"
   ]
  },
  {
   "cell_type": "code",
   "execution_count": 13,
   "metadata": {},
   "outputs": [
    {
     "data": {
      "text/plain": [
       "9"
      ]
     },
     "execution_count": 13,
     "metadata": {},
     "output_type": "execute_result"
    }
   ],
   "source": [
    "#assign the function to a variable and use it as a func, farklı fonk üreterek\n",
    "karesi = my_func(2)\n",
    "\n",
    "karesi(3)\n",
    "\n"
   ]
  },
  {
   "cell_type": "code",
   "execution_count": 12,
   "metadata": {},
   "outputs": [
    {
     "data": {
      "text/plain": [
       "8"
      ]
     },
     "execution_count": 12,
     "metadata": {},
     "output_type": "execute_result"
    }
   ],
   "source": [
    "cube = my_func(3)\n",
    "\n",
    "cube(2)"
   ]
  },
  {
   "cell_type": "code",
   "execution_count": 1,
   "metadata": {},
   "outputs": [
    {
     "data": {
      "text/plain": [
       "8"
      ]
     },
     "execution_count": 1,
     "metadata": {},
     "output_type": "execute_result"
    }
   ],
   "source": [
    "#A lambda expression can also have two or more formal arguments\n",
    "\n",
    "(lambda x, y : x + y)(5,3)"
   ]
  },
  {
   "cell_type": "code",
   "execution_count": 9,
   "metadata": {},
   "outputs": [
    {
     "data": {
      "text/plain": [
       "45"
      ]
     },
     "execution_count": 9,
     "metadata": {},
     "output_type": "execute_result"
    }
   ],
   "source": [
    "#An anonymous function can even be defined to take a variable-­length list of arguments\n",
    "\n",
    "(lambda  *x: sum(x) * 3)(1,2,3,4,5)"
   ]
  },
  {
   "cell_type": "code",
   "execution_count": 10,
   "metadata": {},
   "outputs": [
    {
     "data": {
      "text/plain": [
       "14"
      ]
     },
     "execution_count": 10,
     "metadata": {},
     "output_type": "execute_result"
    }
   ],
   "source": [
    "#Although an anonymous function is meant to have no name, you still can:\n",
    "\n",
    "double_it = lambda x : x * 2\n",
    "double_it(7)"
   ]
  },
  {
   "cell_type": "code",
   "execution_count": 122,
   "metadata": {},
   "outputs": [
    {
     "data": {
      "text/plain": [
       "[11, 12, 13, 14, 15]"
      ]
     },
     "execution_count": 122,
     "metadata": {},
     "output_type": "execute_result"
    }
   ],
   "source": [
    "#updating all the counters in a list can be done easily with a for loop:\n",
    "\n",
    "sayac = [1, 2, 3, 4, 5]\n",
    "\n",
    "tik = []\n",
    "\n",
    "for x in sayac:\n",
    "    tik.append(x + 10)\n",
    "\n",
    "tik"
   ]
  },
  {
   "cell_type": "code",
   "execution_count": 127,
   "metadata": {},
   "outputs": [
    {
     "data": {
      "text/plain": [
       "[11, 12, 13, 14, 15]"
      ]
     },
     "execution_count": 127,
     "metadata": {},
     "output_type": "execute_result"
    }
   ],
   "source": [
    "def say(x):\n",
    "    return x + 10\n",
    "\n",
    "#The map function applies a passed-in function to each item in an iterable object and returns a list containing all the function call results. \n",
    "list(map(say, sayac))"
   ]
  },
  {
   "cell_type": "code",
   "execution_count": 124,
   "metadata": {},
   "outputs": [
    {
     "data": {
      "text/plain": [
       "[11, 12, 13, 14, 15]"
      ]
     },
     "execution_count": 124,
     "metadata": {},
     "output_type": "execute_result"
    }
   ],
   "source": [
    "#the function below adds 3 to each item in the counters list; as this little function isn’t needed elsewhere, it was written inline as a lambda:\n",
    "list(map((lambda x : x + 10), sayac))"
   ]
  },
  {
   "cell_type": "code",
   "execution_count": 126,
   "metadata": {},
   "outputs": [],
   "source": [
    "#code a general mapping utility yourself:\n",
    "\n",
    "def mymap(func, seq):\n",
    "    res = []\n",
    "    for x in seq: res.append(func(x))\n",
    "    return res"
   ]
  },
  {
   "cell_type": "code",
   "execution_count": 128,
   "metadata": {},
   "outputs": [
    {
     "data": {
      "text/plain": [
       "[11, 12, 13, 14, 15]"
      ]
     },
     "execution_count": 128,
     "metadata": {},
     "output_type": "execute_result"
    }
   ],
   "source": [
    "#map it across a sequence (or other iterable) \n",
    "\n",
    "mymap(say, sayac)"
   ]
  },
  {
   "cell_type": "code",
   "execution_count": 157,
   "metadata": {},
   "outputs": [
    {
     "data": {
      "text/plain": [
       "[11, 12, 13, 14, 15]"
      ]
     },
     "execution_count": 157,
     "metadata": {},
     "output_type": "execute_result"
    }
   ],
   "source": [
    "#use list comprehension to generate items using say()\n",
    "[say(x) for x in sayac]"
   ]
  },
  {
   "cell_type": "code",
   "execution_count": 162,
   "metadata": {},
   "outputs": [
    {
     "data": {
      "text/plain": [
       "[11, 12, 13, 14, 15]"
      ]
     },
     "execution_count": 162,
     "metadata": {},
     "output_type": "execute_result"
    }
   ],
   "source": [
    "#using a  generator object gnerating a value on request  to save memory and increase responsiveness\n",
    "list( (say(x) for x in sayac) )"
   ]
  },
  {
   "cell_type": "code",
   "execution_count": 158,
   "metadata": {},
   "outputs": [
    {
     "data": {
      "text/plain": [
       "[1, 8, 81]"
      ]
     },
     "execution_count": 158,
     "metadata": {},
     "output_type": "execute_result"
    }
   ],
   "source": [
    "list(map((lambda x, y: x ** y),[1,2,3], [2,3,4]))"
   ]
  },
  {
   "cell_type": "code",
   "execution_count": 159,
   "metadata": {},
   "outputs": [],
   "source": [
    "def usal(x, y):\n",
    "    \n",
    "    return  x ** y"
   ]
  },
  {
   "cell_type": "code",
   "execution_count": 160,
   "metadata": {},
   "outputs": [
    {
     "data": {
      "text/plain": [
       "[81, 1024, 15625]"
      ]
     },
     "execution_count": 160,
     "metadata": {},
     "output_type": "execute_result"
    }
   ],
   "source": [
    "#given multiple sequence arguments, map func sends items taken from sequences in parallel as distinct arguments to the function:\n",
    "\n",
    "z = list(map(usal, [3,4,5],[4,5,6]))\n",
    "\n",
    "z"
   ]
  },
  {
   "cell_type": "code",
   "execution_count": 8,
   "metadata": {},
   "outputs": [
    {
     "data": {
      "text/plain": [
       "'toygarvelikırkdokuzelli'"
      ]
     },
     "execution_count": 8,
     "metadata": {},
     "output_type": "execute_result"
    }
   ],
   "source": [
    "# Defaults work on lambda arguments, just like in a def\n",
    "res = (lambda a = \"ali\", b = \"veli\", c=\"kırkdokuzelli\": a + b + c)\n",
    "\n",
    "res(\"toygar\")"
   ]
  },
  {
   "cell_type": "code",
   "execution_count": 15,
   "metadata": {},
   "outputs": [
    {
     "name": "stdout",
     "output_type": "stream",
     "text": [
      "4\n",
      "8\n",
      "16\n"
     ]
    }
   ],
   "source": [
    "#to code jump tables\n",
    "liste = [ lambda x: x **2, lambda x : x **3, lambda x: x ** 4]\n",
    "\n",
    "for expo in liste:\n",
    "    print(expo(2))"
   ]
  },
  {
   "cell_type": "code",
   "execution_count": 16,
   "metadata": {},
   "outputs": [
    {
     "data": {
      "text/plain": [
       "8"
      ]
     },
     "execution_count": 16,
     "metadata": {},
     "output_type": "execute_result"
    }
   ],
   "source": [
    "liste[1](2)"
   ]
  },
  {
   "cell_type": "code",
   "execution_count": 18,
   "metadata": {},
   "outputs": [
    {
     "data": {
      "text/plain": [
       "8"
      ]
     },
     "execution_count": 18,
     "metadata": {},
     "output_type": "execute_result"
    }
   ],
   "source": [
    "# retrieved the lambda function (lambda: 2 * 4) accessed by dict key KEY, adding () at the end will call the function.\n",
    "\n",
    "\n",
    "key = 'got'\n",
    "{'already': (lambda: 2 + 2),\n",
    "'got':  (lambda: 2 * 4),\n",
    "'one': (lambda: 2 ** 6)}[key]()"
   ]
  },
  {
   "cell_type": "code",
   "execution_count": 19,
   "metadata": {},
   "outputs": [
    {
     "data": {
      "text/plain": [
       "8"
      ]
     },
     "execution_count": 19,
     "metadata": {},
     "output_type": "execute_result"
    }
   ],
   "source": [
    "dict1 = {'already': (lambda: 2 + 2),\n",
    "'got':  (lambda: 2 * 4),\n",
    "'one': (lambda: 2 ** 6)}\n",
    "\n",
    "dict1[key]()"
   ]
  },
  {
   "cell_type": "code",
   "execution_count": 12,
   "metadata": {},
   "outputs": [
    {
     "data": {
      "text/plain": [
       "'xx'"
      ]
     },
     "execution_count": 12,
     "metadata": {},
     "output_type": "execute_result"
    }
   ],
   "source": [
    "#nest a selection logic \n",
    "\n",
    "low = (lambda x, y: x if x < y else y)\n",
    "\n",
    "low(\"yy\", \"xx\")"
   ]
  },
  {
   "cell_type": "code",
   "execution_count": 112,
   "metadata": {},
   "outputs": [
    {
     "data": {
      "text/plain": [
       "9"
      ]
     },
     "execution_count": 112,
     "metadata": {},
     "output_type": "execute_result"
    }
   ],
   "source": [
    "# nested function scopes is that a lambda also has access to the names in any enclosing lambda\n",
    "\n",
    "# the nested lambda structure makes a function that makes a function when called.\n",
    "\n",
    "# the nested lambda’s code has access to the variable x in the enclosing lambda\n",
    "\n",
    "((lambda x : (lambda y: x + y))(4))(5)"
   ]
  },
  {
   "cell_type": "code",
   "execution_count": 120,
   "metadata": {},
   "outputs": [
    {
     "data": {
      "text/plain": [
       "<function __main__.topla.<locals>.<lambda>(y)>"
      ]
     },
     "execution_count": 120,
     "metadata": {},
     "output_type": "execute_result"
    }
   ],
   "source": [
    "#which can also be done by creating function with lambda func nested in:\n",
    "\n",
    "def topla(x):\n",
    "    return (lambda y : x + y)\n",
    "\n",
    "lambda_topl =  topla(4)\n",
    "lambda_topl"
   ]
  },
  {
   "cell_type": "code",
   "execution_count": 121,
   "metadata": {},
   "outputs": [
    {
     "data": {
      "text/plain": [
       "9"
      ]
     },
     "execution_count": 121,
     "metadata": {},
     "output_type": "execute_result"
    }
   ],
   "source": [
    "lambda_topl(5)"
   ]
  },
  {
   "cell_type": "markdown",
   "metadata": {},
   "source": [
    "## Map Fonksiyonu ile Kullanmak\n",
    "\n",
    "Elimizdeki bir listeye bir kriteri uygulamak için\n",
    "\n",
    "yeni liste oluşur, kaç eleman varsa çıktı da o kadar eleman olur"
   ]
  },
  {
   "cell_type": "code",
   "execution_count": 7,
   "metadata": {},
   "outputs": [],
   "source": [
    "nums = [1, 2, 3, 4, 5, 6, 7]\n",
    "\n",
    "squared = []"
   ]
  },
  {
   "cell_type": "code",
   "execution_count": 8,
   "metadata": {},
   "outputs": [
    {
     "name": "stdout",
     "output_type": "stream",
     "text": [
      "[1, 4, 9, 16, 25, 36, 49]\n"
     ]
    }
   ],
   "source": [
    "#for loop ile karelerini almak\n",
    "\n",
    "for num in nums:\n",
    "    squared.append(num ** 2)\n",
    "\n",
    "print(squared)\n"
   ]
  },
  {
   "cell_type": "code",
   "execution_count": 9,
   "metadata": {},
   "outputs": [
    {
     "data": {
      "text/plain": [
       "16"
      ]
     },
     "execution_count": 9,
     "metadata": {},
     "output_type": "execute_result"
    }
   ],
   "source": [
    "#fonk ile aynı işlemi yapmak\n",
    "\n",
    "def square(x):\n",
    "    return x ** 2\n",
    "\n",
    "square(4)"
   ]
  },
  {
   "cell_type": "code",
   "execution_count": 10,
   "metadata": {},
   "outputs": [
    {
     "data": {
      "text/plain": [
       "<map at 0x7419cac5f220>"
      ]
     },
     "execution_count": 10,
     "metadata": {},
     "output_type": "execute_result"
    }
   ],
   "source": [
    "#geriye bir map fonk nesnesi alırız\n",
    "res1 = map(square, nums)\n",
    "\n",
    "res1"
   ]
  },
  {
   "cell_type": "code",
   "execution_count": 11,
   "metadata": {},
   "outputs": [
    {
     "data": {
      "text/plain": [
       "[1, 4, 9, 16, 25, 36, 49]"
      ]
     },
     "execution_count": 11,
     "metadata": {},
     "output_type": "execute_result"
    }
   ],
   "source": [
    "#map fonk objeyi görüntelemek için list fonku kullanırız\n",
    "\n",
    "res2 = list(map(square, nums))\n",
    "\n",
    "res2"
   ]
  },
  {
   "cell_type": "code",
   "execution_count": 13,
   "metadata": {},
   "outputs": [
    {
     "data": {
      "text/plain": [
       "[1, 4, 9, 16, 25, 36, 49]"
      ]
     },
     "execution_count": 13,
     "metadata": {},
     "output_type": "execute_result"
    }
   ],
   "source": [
    "#lambda fonku kullanmak map içinde\n",
    "\n",
    "res3 = list(map((lambda x: x ** 2), nums))\n",
    "\n",
    "res3"
   ]
  },
  {
   "cell_type": "code",
   "execution_count": 23,
   "metadata": {},
   "outputs": [
    {
     "data": {
      "text/plain": [
       "[1, 2, 3]"
      ]
     },
     "execution_count": 23,
     "metadata": {},
     "output_type": "execute_result"
    }
   ],
   "source": [
    "#string rakamların oluşturduğu listeyi int e çevirmek\n",
    "nums_str = [\"1\", \"2\", \"3\"]\n",
    "\n",
    "res4 = list(map((lambda x : int(x)), nums_str))   #same map(int(x), nums_str)\n",
    "\n",
    "res4"
   ]
  },
  {
   "cell_type": "code",
   "execution_count": 26,
   "metadata": {},
   "outputs": [
    {
     "data": {
      "text/plain": [
       "['Zehra', 'Vargas', 'Hande', 'Eda', 'Cansu']"
      ]
     },
     "execution_count": 26,
     "metadata": {},
     "output_type": "execute_result"
    }
   ],
   "source": [
    "names = [\"zehra\", \"vargas\", \"hande\", \"eda\", \"cansu\"]\n",
    "\n",
    "res5 =  list(map(str.capitalize, names))\n",
    "\n",
    "res5"
   ]
  },
  {
   "cell_type": "code",
   "execution_count": 28,
   "metadata": {},
   "outputs": [],
   "source": [
    "users = [\n",
    "    {\"name\": \"Toygar\", \"lastname\": \"Par\"},\n",
    "    {\"name\": \"Böçüş\", \"lastname\": \"Par\"}\n",
    "\n",
    "]"
   ]
  },
  {
   "cell_type": "code",
   "execution_count": 29,
   "metadata": {},
   "outputs": [
    {
     "data": {
      "text/plain": [
       "['Toygar', 'Böçüş']"
      ]
     },
     "execution_count": 29,
     "metadata": {},
     "output_type": "execute_result"
    }
   ],
   "source": [
    "res6 = list(map((lambda user: user[\"name\"]), users))\n",
    "\n",
    "res6"
   ]
  },
  {
   "cell_type": "code",
   "execution_count": 34,
   "metadata": {},
   "outputs": [
    {
     "data": {
      "text/plain": [
       "['Toygar Par', 'Böçüş Par']"
      ]
     },
     "execution_count": 34,
     "metadata": {},
     "output_type": "execute_result"
    }
   ],
   "source": [
    "res7 = list(map((lambda user: f\"{user[\"name\"]} {user[\"lastname\"]}\"), users))\n",
    "res7"
   ]
  },
  {
   "cell_type": "markdown",
   "metadata": {},
   "source": [
    "## Filter Fonksiyonu\n",
    "\n",
    "liste elemanları üzerinde elimizdeki kritere göre geri dönecek liste elemanlarını belirleriz"
   ]
  },
  {
   "cell_type": "code",
   "execution_count": 48,
   "metadata": {},
   "outputs": [],
   "source": [
    "numf = [ 1, 3, 5, 4, 8, -7, -9]"
   ]
  },
  {
   "cell_type": "code",
   "execution_count": 49,
   "metadata": {},
   "outputs": [],
   "source": [
    "#neg sayıları almak için fonk yazalım:\n",
    "def neg_nums(x):\n",
    "    if x < 0:\n",
    "        return True\n",
    "    else:\n",
    "        return False\n",
    "   \n"
   ]
  },
  {
   "cell_type": "code",
   "execution_count": 50,
   "metadata": {},
   "outputs": [
    {
     "data": {
      "text/plain": [
       "<filter at 0x7419c8f26860>"
      ]
     },
     "execution_count": 50,
     "metadata": {},
     "output_type": "execute_result"
    }
   ],
   "source": [
    "res8 = list(filter(neg_nums, numf))\n",
    "filter(neg_nums, numf)\n"
   ]
  },
  {
   "cell_type": "code",
   "execution_count": 51,
   "metadata": {},
   "outputs": [
    {
     "data": {
      "text/plain": [
       "[-7, -9]"
      ]
     },
     "execution_count": 51,
     "metadata": {},
     "output_type": "execute_result"
    }
   ],
   "source": [
    "res8"
   ]
  },
  {
   "cell_type": "code",
   "execution_count": 52,
   "metadata": {},
   "outputs": [
    {
     "data": {
      "text/plain": [
       "[-7, -9]"
      ]
     },
     "execution_count": 52,
     "metadata": {},
     "output_type": "execute_result"
    }
   ],
   "source": [
    "#aynı işlemi lambda fonku ile yapmak\n",
    "\n",
    "res9 = list(filter((lambda x : x < 0), numf))\n",
    "\n",
    "res9"
   ]
  },
  {
   "cell_type": "code",
   "execution_count": 56,
   "metadata": {},
   "outputs": [
    {
     "data": {
      "text/plain": [
       "[1, 3, 5, -7, -9]"
      ]
     },
     "execution_count": 56,
     "metadata": {},
     "output_type": "execute_result"
    }
   ],
   "source": [
    "#tek sayıları getirelim\n",
    "\n",
    "res10 = list(filter((lambda x : x % 2 != 0), numf))\n",
    "\n",
    "res10"
   ]
  },
  {
   "cell_type": "code",
   "execution_count": 164,
   "metadata": {},
   "outputs": [
    {
     "data": {
      "text/plain": [
       "[-3, -2, -1, 0, 1, 2]"
      ]
     },
     "execution_count": 164,
     "metadata": {},
     "output_type": "execute_result"
    }
   ],
   "source": [
    "list(range(-3, 3))\n"
   ]
  },
  {
   "cell_type": "code",
   "execution_count": 167,
   "metadata": {},
   "outputs": [
    {
     "data": {
      "text/plain": [
       "[1, 2]"
      ]
     },
     "execution_count": 167,
     "metadata": {},
     "output_type": "execute_result"
    }
   ],
   "source": [
    "[x for x in range(-3, 3) if x > 0]"
   ]
  },
  {
   "cell_type": "code",
   "execution_count": 166,
   "metadata": {},
   "outputs": [
    {
     "data": {
      "text/plain": [
       "[1, 2]"
      ]
     },
     "execution_count": 166,
     "metadata": {},
     "output_type": "execute_result"
    }
   ],
   "source": [
    "list(filter((lambda x: x > 0), range(-3, 3)))"
   ]
  },
  {
   "cell_type": "code",
   "execution_count": null,
   "metadata": {},
   "outputs": [],
   "source": []
  },
  {
   "cell_type": "code",
   "execution_count": 57,
   "metadata": {},
   "outputs": [],
   "source": [
    "#m ile başlayan oyuncuları getirelim\n",
    "\n",
    "playerz = [ \"markova\", \"bosetti\", \"kipp\", \"zehra\", \"van ryk\"]"
   ]
  },
  {
   "cell_type": "code",
   "execution_count": 61,
   "metadata": {},
   "outputs": [
    {
     "data": {
      "text/plain": [
       "['markova']"
      ]
     },
     "execution_count": 61,
     "metadata": {},
     "output_type": "execute_result"
    }
   ],
   "source": [
    "res11 = list(filter((lambda x: x[0] == \"m\"), playerz))\n",
    "\n",
    "res11"
   ]
  },
  {
   "cell_type": "code",
   "execution_count": 78,
   "metadata": {},
   "outputs": [
    {
     "data": {
      "text/plain": [
       "['markova']"
      ]
     },
     "execution_count": 78,
     "metadata": {},
     "output_type": "execute_result"
    }
   ],
   "source": [
    "res12 = list(filter((lambda x: x.startswith(\"m\")), playerz))\n",
    "res12\n"
   ]
  },
  {
   "cell_type": "code",
   "execution_count": 73,
   "metadata": {},
   "outputs": [
    {
     "data": {
      "text/plain": [
       "['Markova']"
      ]
     },
     "execution_count": 73,
     "metadata": {},
     "output_type": "execute_result"
    }
   ],
   "source": [
    "res13 = list(filter(lambda x: x.startswith(\"M\") , map(lambda x: x.capitalize(), playerz)))\n",
    "\n",
    "res13"
   ]
  },
  {
   "cell_type": "code",
   "execution_count": 76,
   "metadata": {},
   "outputs": [
    {
     "data": {
      "text/plain": [
       "['MARKOVA']"
      ]
     },
     "execution_count": 76,
     "metadata": {},
     "output_type": "execute_result"
    }
   ],
   "source": [
    "res14 = list(map(lambda x: x.upper(),filter(lambda x: x.startswith(\"m\"), playerz)))\n",
    "\n",
    "res14"
   ]
  },
  {
   "cell_type": "code",
   "execution_count": 80,
   "metadata": {},
   "outputs": [
    {
     "data": {
      "text/plain": [
       "['MARKOVA']"
      ]
     },
     "execution_count": 80,
     "metadata": {},
     "output_type": "execute_result"
    }
   ],
   "source": [
    "filteredres = res12\n",
    "\n",
    "res15 = list(map(lambda x: x.upper(), filteredres))  #yukardaki map ve filter lamdba fonkları böylede yazılabilir daha okunabilir olması için\n",
    "\n",
    "res15"
   ]
  },
  {
   "cell_type": "code",
   "execution_count": 81,
   "metadata": {},
   "outputs": [],
   "source": [
    "userz = [\n",
    "    { \"username\" : \"toygarpar\", \"posts\": [\"post 1\", \"post 2\"]},\n",
    "    { \"username\" : \"tacopar\", \"posts\": [\"post 1\"]},\n",
    "    { \"username\" : \"buzzpar\", \"posts\": [\"post 1\", \"post 2\", \"post 3\"]}\n",
    "\n",
    "\n",
    "]"
   ]
  },
  {
   "cell_type": "code",
   "execution_count": 82,
   "metadata": {},
   "outputs": [
    {
     "data": {
      "text/plain": [
       "[{'username': 'toygarpar', 'posts': ['post 1', 'post 2']},\n",
       " {'username': 'tacopar', 'posts': ['post 1']}]"
      ]
     },
     "execution_count": 82,
     "metadata": {},
     "output_type": "execute_result"
    }
   ],
   "source": [
    "#t ile başlayan kullanıcıları getir\n",
    "\n",
    "res16 = list(filter(lambda x : x[\"username\"].startswith(\"t\"), userz))\n",
    "\n",
    "res16"
   ]
  },
  {
   "cell_type": "code",
   "execution_count": 83,
   "metadata": {},
   "outputs": [
    {
     "data": {
      "text/plain": [
       "[{'username': 'toygarpar', 'posts': ['post 1', 'post 2']},\n",
       " {'username': 'buzzpar', 'posts': ['post 1', 'post 2', 'post 3']}]"
      ]
     },
     "execution_count": 83,
     "metadata": {},
     "output_type": "execute_result"
    }
   ],
   "source": [
    "#birde fazla postu olan kullanıcıları filtrele\n",
    "\n",
    "res17 = list(filter(lambda x : len(x[\"posts\"]) > 1, userz))\n",
    "\n",
    "res17"
   ]
  },
  {
   "cell_type": "code",
   "execution_count": 85,
   "metadata": {},
   "outputs": [
    {
     "data": {
      "text/plain": [
       "['toygarpar', 'buzzpar']"
      ]
     },
     "execution_count": 85,
     "metadata": {},
     "output_type": "execute_result"
    }
   ],
   "source": [
    "#birden fazla postu olan kullanıcıların sadece isimlerini getir\n",
    "\n",
    "filteredres1 = list(filter(lambda x : len(x[\"posts\"]) > 1, userz))\n",
    "\n",
    "res18 = list(map(lambda x : x[\"username\"], filteredres1))\n",
    "\n",
    "res18"
   ]
  },
  {
   "cell_type": "code",
   "execution_count": 103,
   "metadata": {},
   "outputs": [
    {
     "name": "stdout",
     "output_type": "stream",
     "text": [
      "toygarpar\n",
      "buzzpar\n"
     ]
    },
    {
     "data": {
      "text/plain": [
       "[None, None]"
      ]
     },
     "execution_count": 103,
     "metadata": {},
     "output_type": "execute_result"
    }
   ],
   "source": [
    "[ print(x) for x in res18]"
   ]
  },
  {
   "cell_type": "code",
   "execution_count": 105,
   "metadata": {},
   "outputs": [
    {
     "data": {
      "text/plain": [
       "['TOYGARPAR', 'BUZZPAR']"
      ]
     },
     "execution_count": 105,
     "metadata": {},
     "output_type": "execute_result"
    }
   ],
   "source": [
    "[x[\"username\"].upper() for x in userz if len(x[\"posts\"]) > 1]"
   ]
  },
  {
   "cell_type": "code",
   "execution_count": 106,
   "metadata": {},
   "outputs": [
    {
     "name": "stdout",
     "output_type": "stream",
     "text": [
      "TOYGARPAR\n",
      "BUZZPAR\n"
     ]
    },
    {
     "data": {
      "text/plain": [
       "[None, None]"
      ]
     },
     "execution_count": 106,
     "metadata": {},
     "output_type": "execute_result"
    }
   ],
   "source": [
    "[print(x) for x in [x[\"username\"].upper() for x in userz if len(x[\"posts\"]) > 1]]"
   ]
  },
  {
   "cell_type": "markdown",
   "metadata": {},
   "source": [
    "## REDUCE - from functools\n",
    "\n",
    "\n",
    " It accepts an iterable to process, but it’s not an iterable itself—it returns a single result."
   ]
  },
  {
   "cell_type": "code",
   "execution_count": 1,
   "metadata": {},
   "outputs": [
    {
     "data": {
      "text/plain": [
       "6"
      ]
     },
     "execution_count": 1,
     "metadata": {},
     "output_type": "execute_result"
    }
   ],
   "source": [
    "from functools import reduce\n",
    "\n",
    "reduce((lambda x , y: x + y), [1, 2, 3])"
   ]
  },
  {
   "cell_type": "code",
   "execution_count": 2,
   "metadata": {},
   "outputs": [
    {
     "data": {
      "text/plain": [
       "24"
      ]
     },
     "execution_count": 2,
     "metadata": {},
     "output_type": "execute_result"
    }
   ],
   "source": [
    "reduce((lambda x , y: x * y ), [1, 2, 3, 4])"
   ]
  },
  {
   "cell_type": "code",
   "execution_count": 7,
   "metadata": {},
   "outputs": [],
   "source": [
    "\"\"\"\n",
    "The function myreduce mimics the behavior of Python's built-in reduce function. It takes two parameters:\n",
    "\n",
    "func: a function that will be applied to elements in the sequence.\n",
    "seq: a sequence (e.g., a list) of items on which func will be applied.\n",
    "\n",
    "\"\"\"\n",
    "\n",
    "\n",
    "\n",
    "\n",
    "\n",
    "def myreduce( func, seq):\n",
    "    sayim = seq[0]\n",
    "    for sonraki in seq[1:]:\n",
    "        sayim = func( sayim, sonraki)\n",
    "    return sayim"
   ]
  },
  {
   "cell_type": "code",
   "execution_count": 8,
   "metadata": {},
   "outputs": [
    {
     "data": {
      "text/plain": [
       "6"
      ]
     },
     "execution_count": 8,
     "metadata": {},
     "output_type": "execute_result"
    }
   ],
   "source": [
    "myreduce((lambda x, y: x + y),  [1, 2, 3])"
   ]
  },
  {
   "cell_type": "code",
   "execution_count": null,
   "metadata": {},
   "outputs": [],
   "source": []
  },
  {
   "cell_type": "markdown",
   "metadata": {},
   "source": [
    "ANY ve ALL FONKSİYON Metotları"
   ]
  },
  {
   "cell_type": "code",
   "execution_count": null,
   "metadata": {},
   "outputs": [
    {
     "data": {
      "text/plain": [
       "False"
      ]
     },
     "metadata": {},
     "output_type": "display_data"
    }
   ],
   "source": [
    "#and operatörü larşılığına geliyor\n",
    "\n",
    "#and - True and True ==> True  --> ALL\n",
    "\n",
    "res19 =  all([True, True, False])\n",
    "\n",
    "res19"
   ]
  },
  {
   "cell_type": "code",
   "execution_count": null,
   "metadata": {},
   "outputs": [
    {
     "data": {
      "text/plain": [
       "True"
      ]
     },
     "metadata": {},
     "output_type": "display_data"
    }
   ],
   "source": [
    "res20 = all([True, True, True])\n",
    "\n",
    "res20"
   ]
  },
  {
   "cell_type": "code",
   "execution_count": null,
   "metadata": {},
   "outputs": [
    {
     "data": {
      "text/plain": [
       "True"
      ]
     },
     "metadata": {},
     "output_type": "display_data"
    }
   ],
   "source": [
    "#OR operatçrü karşılığına geliyor\n",
    "\n",
    "#or -  True and False ==> TRue --> ANY\n",
    "\n",
    "res21 = any([True, True, False])\n",
    "\n",
    "res21"
   ]
  },
  {
   "cell_type": "code",
   "execution_count": 1,
   "metadata": {},
   "outputs": [
    {
     "data": {
      "text/plain": [
       "True"
      ]
     },
     "execution_count": 1,
     "metadata": {},
     "output_type": "execute_result"
    }
   ],
   "source": [
    "res22 = any([True, True, True])\n",
    "res22"
   ]
  },
  {
   "cell_type": "code",
   "execution_count": 2,
   "metadata": {},
   "outputs": [
    {
     "data": {
      "text/plain": [
       "[True, True, True, True, True, False]"
      ]
     },
     "execution_count": 2,
     "metadata": {},
     "output_type": "execute_result"
    }
   ],
   "source": [
    "numz = [2, 4, 7, 9, 63, 0]\n",
    "\n",
    "res23 = [bool(num) for num in numz]\n",
    "\n",
    "res23"
   ]
  },
  {
   "cell_type": "code",
   "execution_count": 3,
   "metadata": {},
   "outputs": [
    {
     "data": {
      "text/plain": [
       "False"
      ]
     },
     "execution_count": 3,
     "metadata": {},
     "output_type": "execute_result"
    }
   ],
   "source": [
    "#bütün sayılar 0'dan büyük mü?\n",
    "\n",
    "res24 = all([bool(num) for num in numz])\n",
    "\n",
    "res24"
   ]
  },
  {
   "cell_type": "code",
   "execution_count": 4,
   "metadata": {},
   "outputs": [
    {
     "data": {
      "text/plain": [
       "True"
      ]
     },
     "execution_count": 4,
     "metadata": {},
     "output_type": "execute_result"
    }
   ],
   "source": [
    "res25 = any([bool(num) for num in numz])\n",
    "\n",
    "res25"
   ]
  },
  {
   "cell_type": "code",
   "execution_count": 5,
   "metadata": {},
   "outputs": [
    {
     "data": {
      "text/plain": [
       "False"
      ]
     },
     "execution_count": 5,
     "metadata": {},
     "output_type": "execute_result"
    }
   ],
   "source": [
    "all([num % 2 == 0 for num in numz ])"
   ]
  },
  {
   "cell_type": "code",
   "execution_count": 7,
   "metadata": {},
   "outputs": [
    {
     "data": {
      "text/plain": [
       "False"
      ]
     },
     "execution_count": 7,
     "metadata": {},
     "output_type": "execute_result"
    }
   ],
   "source": [
    "all([num for num in numz if num % 2 ==0])"
   ]
  },
  {
   "cell_type": "code",
   "execution_count": 9,
   "metadata": {},
   "outputs": [
    {
     "data": {
      "text/plain": [
       "True"
      ]
     },
     "execution_count": 9,
     "metadata": {},
     "output_type": "execute_result"
    }
   ],
   "source": [
    "#nerhangi birçift sayı varmı liste içerisinde?\n",
    "\n",
    "any([num for num in numz if num % 2 ==0])"
   ]
  },
  {
   "cell_type": "code",
   "execution_count": 11,
   "metadata": {},
   "outputs": [
    {
     "data": {
      "text/plain": [
       "[True, True, False]"
      ]
     },
     "execution_count": 11,
     "metadata": {},
     "output_type": "execute_result"
    }
   ],
   "source": [
    "users1   = [\"toygar\", \"taco\", \"böçüş\"]\n",
    "\n",
    "[ user[0] == \"t\" for user in users1]"
   ]
  },
  {
   "cell_type": "code",
   "execution_count": 13,
   "metadata": {},
   "outputs": [
    {
     "data": {
      "text/plain": [
       "False"
      ]
     },
     "execution_count": 13,
     "metadata": {},
     "output_type": "execute_result"
    }
   ],
   "source": [
    "all([ user[0] == \"t\" for user in users1])"
   ]
  },
  {
   "cell_type": "code",
   "execution_count": null,
   "metadata": {},
   "outputs": [],
   "source": [
    "any([ user[0] == \"t\" for user in users1])"
   ]
  },
  {
   "cell_type": "markdown",
   "metadata": {},
   "source": [
    "SORTED FONKSİYONU\n",
    "\n",
    "returns a new sorted list of elements in an iterable "
   ]
  },
  {
   "cell_type": "code",
   "execution_count": 14,
   "metadata": {},
   "outputs": [],
   "source": [
    "nums1 = [2, 49, 6, 9, 75 ,33, 25]"
   ]
  },
  {
   "cell_type": "code",
   "execution_count": null,
   "metadata": {},
   "outputs": [
    {
     "data": {
      "text/plain": [
       "[2, 6, 9, 25, 33, 49, 75]"
      ]
     },
     "execution_count": 17,
     "metadata": {},
     "output_type": "execute_result"
    }
   ],
   "source": [
    "sorted(nums1)  #geriye yeni bir liste döndürür, nums1.sort() orijinal liste üzerinde bir güncellmeme yapmaz"
   ]
  },
  {
   "cell_type": "code",
   "execution_count": 18,
   "metadata": {},
   "outputs": [
    {
     "data": {
      "text/plain": [
       "[75, 49, 33, 25, 9, 6, 2]"
      ]
     },
     "execution_count": 18,
     "metadata": {},
     "output_type": "execute_result"
    }
   ],
   "source": [
    "sorted(nums1, reverse= True)"
   ]
  },
  {
   "cell_type": "code",
   "execution_count": 47,
   "metadata": {},
   "outputs": [],
   "source": [
    "userblog = [\n",
    "    {\"username\": \"toygarpar\", \"posts\": [\"post 1\", \"post 2\"], \"email\": \"toygar@par.com\", \"phone\": \"555-5555\"},\n",
    "    {\"username\": \"tacopar\", \"posts\": [\"post 1\",], \"email\": \"taco@par.com\"},\n",
    "    {\"username\": \"buzzpar\", \"posts\": [\"post 1\", \"post 2\", \"post 3\"], \"email\": \"buzz@par.com\"}\n",
    "]"
   ]
  },
  {
   "cell_type": "code",
   "execution_count": 25,
   "metadata": {},
   "outputs": [
    {
     "data": {
      "text/plain": [
       "[{'username': 'tacopar', 'posts': ['post 1'], 'email': 'taco@par.com'},\n",
       " {'username': 'buzzpar',\n",
       "  'posts': ['post 1', 'post 2', 'post 3'],\n",
       "  'email': 'buzz@par.com'},\n",
       " {'username': 'toygarpar',\n",
       "  'posts': ['post 1', 'post 2'],\n",
       "  'email': 'toygar@par.com',\n",
       "  'phone': '555-5555'}]"
      ]
     },
     "execution_count": 25,
     "metadata": {},
     "output_type": "execute_result"
    }
   ],
   "source": [
    "res26 =  sorted(userblog, key=len)\n",
    "res26"
   ]
  },
  {
   "cell_type": "code",
   "execution_count": 26,
   "metadata": {},
   "outputs": [
    {
     "data": {
      "text/plain": [
       "[{'username': 'toygarpar',\n",
       "  'posts': ['post 1', 'post 2'],\n",
       "  'email': 'toygar@par.com',\n",
       "  'phone': '555-5555'},\n",
       " {'username': 'tacopar', 'posts': ['post 1'], 'email': 'taco@par.com'},\n",
       " {'username': 'buzzpar',\n",
       "  'posts': ['post 1', 'post 2', 'post 3'],\n",
       "  'email': 'buzz@par.com'}]"
      ]
     },
     "execution_count": 26,
     "metadata": {},
     "output_type": "execute_result"
    }
   ],
   "source": [
    "sorted(userblog, key=len, reverse= True)"
   ]
  },
  {
   "cell_type": "code",
   "execution_count": null,
   "metadata": {},
   "outputs": [
    {
     "data": {
      "text/plain": [
       "[{'username': 'buzzpar',\n",
       "  'posts': ['post 1', 'post 2', 'post 3'],\n",
       "  'email': 'buzz@par.com'},\n",
       " {'username': 'tacopar', 'posts': ['post 1'], 'email': 'taco@par.com'},\n",
       " {'username': 'toygarpar',\n",
       "  'posts': ['post 1', 'post 2'],\n",
       "  'email': 'toygar@par.com',\n",
       "  'phone': '555-5555'}]"
      ]
     },
     "execution_count": 38,
     "metadata": {},
     "output_type": "execute_result"
    }
   ],
   "source": [
    "#alfabetik sıraya göre \n",
    "sorted(userblog, key=lambda x: x['username'])"
   ]
  },
  {
   "cell_type": "code",
   "execution_count": 39,
   "metadata": {},
   "outputs": [
    {
     "data": {
      "text/plain": [
       "[{'username': 'toygarpar',\n",
       "  'posts': ['post 1', 'post 2'],\n",
       "  'email': 'toygar@par.com',\n",
       "  'phone': '555-5555'},\n",
       " {'username': 'tacopar', 'posts': ['post 1'], 'email': 'taco@par.com'},\n",
       " {'username': 'buzzpar',\n",
       "  'posts': ['post 1', 'post 2', 'post 3'],\n",
       "  'email': 'buzz@par.com'}]"
      ]
     },
     "execution_count": 39,
     "metadata": {},
     "output_type": "execute_result"
    }
   ],
   "source": [
    "sorted(userblog, key=lambda x: x['username'], reverse=True)"
   ]
  },
  {
   "cell_type": "code",
   "execution_count": 35,
   "metadata": {},
   "outputs": [
    {
     "data": {
      "text/plain": [
       "[('username', 'toygarpar'),\n",
       " ('posts', ['post 1', 'post 2']),\n",
       " ('email', 'toygar@par.com'),\n",
       " ('phone', '555-5555'),\n",
       " ('username', 'tacopar'),\n",
       " ('posts', ['post 1']),\n",
       " ('email', 'taco@par.com'),\n",
       " ('username', 'buzzpar'),\n",
       " ('posts', ['post 1', 'post 2', 'post 3']),\n",
       " ('email', 'buzz@par.com')]"
      ]
     },
     "execution_count": 35,
     "metadata": {},
     "output_type": "execute_result"
    }
   ],
   "source": [
    "sorted_userblog = [(key, value) for user in sorted(userblog, key=lambda x: x['username'], reverse=True) for key, value in user.items()]\n",
    "\n",
    "\n",
    "\n",
    "sorted_userblog\n"
   ]
  },
  {
   "cell_type": "code",
   "execution_count": null,
   "metadata": {},
   "outputs": [
    {
     "data": {
      "text/plain": [
       "[{'username': 'tacopar', 'posts': ['post 1'], 'email': 'taco@par.com'},\n",
       " {'username': 'toygarpar',\n",
       "  'posts': ['post 1', 'post 2'],\n",
       "  'email': 'toygar@par.com',\n",
       "  'phone': '555-5555'},\n",
       " {'username': 'buzzpar',\n",
       "  'posts': ['post 1', 'post 2', 'post 3'],\n",
       "  'email': 'buzz@par.com'}]"
      ]
     },
     "execution_count": 41,
     "metadata": {},
     "output_type": "execute_result"
    }
   ],
   "source": [
    "#post sayılarına göre\n",
    "\n",
    "sorted(userblog, key= lambda x: len(x[\"posts\"]) > 1)"
   ]
  },
  {
   "cell_type": "code",
   "execution_count": 51,
   "metadata": {},
   "outputs": [
    {
     "data": {
      "text/plain": [
       "['buzzpar', 'toygarpar', 'tacopar']"
      ]
     },
     "execution_count": 51,
     "metadata": {},
     "output_type": "execute_result"
    }
   ],
   "source": [
    "list(map(lambda user: user[\"username\"], sorted(userblog, key= lambda user: len(user[\"posts\"]), reverse = True)))"
   ]
  },
  {
   "cell_type": "code",
   "execution_count": 59,
   "metadata": {},
   "outputs": [],
   "source": [
    "ders = [\n",
    "    {\"title\": \"python\", \"count\": 100},\n",
    "    {\"title\": \"golang\", \"count\": 25},\n",
    "    {\"title\": \"bash\", \"count\": 10},\n",
    "    {\"title\": \"javascript\", \"count\": 75},\n",
    "    {\"title\": \"kotlin\", \"count\": 10}\n",
    "\n",
    "]"
   ]
  },
  {
   "cell_type": "code",
   "execution_count": 63,
   "metadata": {},
   "outputs": [
    {
     "data": {
      "text/plain": [
       "[{'title': 'bash', 'count': 10},\n",
       " {'title': 'kotlin', 'count': 10},\n",
       " {'title': 'golang', 'count': 25},\n",
       " {'title': 'javascript', 'count': 75},\n",
       " {'title': 'python', 'count': 100}]"
      ]
     },
     "execution_count": 63,
     "metadata": {},
     "output_type": "execute_result"
    }
   ],
   "source": [
    "sorted( ders, key =  lambda x : x[\"count\"] )"
   ]
  },
  {
   "cell_type": "code",
   "execution_count": 64,
   "metadata": {},
   "outputs": [
    {
     "data": {
      "text/plain": [
       "[{'title': 'python', 'count': 100},\n",
       " {'title': 'javascript', 'count': 75},\n",
       " {'title': 'golang', 'count': 25},\n",
       " {'title': 'bash', 'count': 10},\n",
       " {'title': 'kotlin', 'count': 10}]"
      ]
     },
     "execution_count": 64,
     "metadata": {},
     "output_type": "execute_result"
    }
   ],
   "source": [
    "sorted( ders, key =  lambda x : x[\"count\"], reverse= True )"
   ]
  },
  {
   "cell_type": "code",
   "execution_count": 65,
   "metadata": {},
   "outputs": [
    {
     "data": {
      "text/plain": [
       "['bash', 'kotlin', 'golang', 'javascript', 'python']"
      ]
     },
     "execution_count": 65,
     "metadata": {},
     "output_type": "execute_result"
    }
   ],
   "source": [
    "list(map(lambda x : x[\"title\"], sorted(ders, key = lambda x: x[\"count\"])))"
   ]
  },
  {
   "cell_type": "code",
   "execution_count": 66,
   "metadata": {},
   "outputs": [
    {
     "data": {
      "text/plain": [
       "['python', 'javascript', 'golang', 'bash', 'kotlin']"
      ]
     },
     "execution_count": 66,
     "metadata": {},
     "output_type": "execute_result"
    }
   ],
   "source": [
    "list(map(lambda x : x[\"title\"], sorted(ders, key = lambda x: x[\"count\"], reverse = True)))"
   ]
  },
  {
   "cell_type": "markdown",
   "metadata": {},
   "source": [
    "MIN ve MAX FONSİYONLARI KULLANIMI"
   ]
  },
  {
   "cell_type": "code",
   "execution_count": 70,
   "metadata": {},
   "outputs": [],
   "source": [
    "numz = [1,3,5,42,33,17,28,56]\n",
    "charz = [\"a\", \"h\",\"m\", \"t\"]"
   ]
  },
  {
   "cell_type": "code",
   "execution_count": 71,
   "metadata": {},
   "outputs": [
    {
     "data": {
      "text/plain": [
       "1"
      ]
     },
     "execution_count": 71,
     "metadata": {},
     "output_type": "execute_result"
    }
   ],
   "source": [
    "min(numz)"
   ]
  },
  {
   "cell_type": "code",
   "execution_count": 72,
   "metadata": {},
   "outputs": [
    {
     "data": {
      "text/plain": [
       "56"
      ]
     },
     "execution_count": 72,
     "metadata": {},
     "output_type": "execute_result"
    }
   ],
   "source": [
    "max(numz)"
   ]
  },
  {
   "cell_type": "code",
   "execution_count": 73,
   "metadata": {},
   "outputs": [
    {
     "data": {
      "text/plain": [
       "'a'"
      ]
     },
     "execution_count": 73,
     "metadata": {},
     "output_type": "execute_result"
    }
   ],
   "source": [
    "min(charz)"
   ]
  },
  {
   "cell_type": "code",
   "execution_count": 77,
   "metadata": {},
   "outputs": [
    {
     "data": {
      "text/plain": [
       "'t'"
      ]
     },
     "execution_count": 77,
     "metadata": {},
     "output_type": "execute_result"
    }
   ],
   "source": [
    "max(charz)"
   ]
  },
  {
   "cell_type": "code",
   "execution_count": 79,
   "metadata": {},
   "outputs": [
    {
     "data": {
      "text/plain": [
       "116"
      ]
     },
     "execution_count": 79,
     "metadata": {},
     "output_type": "execute_result"
    }
   ],
   "source": [
    "ord(max(charz))"
   ]
  },
  {
   "cell_type": "code",
   "execution_count": 80,
   "metadata": {},
   "outputs": [
    {
     "data": {
      "text/plain": [
       "97"
      ]
     },
     "execution_count": 80,
     "metadata": {},
     "output_type": "execute_result"
    }
   ],
   "source": [
    "ord(min(charz))"
   ]
  },
  {
   "cell_type": "code",
   "execution_count": 1,
   "metadata": {},
   "outputs": [],
   "source": [
    "names = [ \"toygar\", \"taco\", \"buzz\"]"
   ]
  },
  {
   "cell_type": "code",
   "execution_count": 2,
   "metadata": {},
   "outputs": [
    {
     "data": {
      "text/plain": [
       "'buzz'"
      ]
     },
     "execution_count": 2,
     "metadata": {},
     "output_type": "execute_result"
    }
   ],
   "source": [
    "min(names)"
   ]
  },
  {
   "cell_type": "code",
   "execution_count": 3,
   "metadata": {},
   "outputs": [
    {
     "data": {
      "text/plain": [
       "'toygar'"
      ]
     },
     "execution_count": 3,
     "metadata": {},
     "output_type": "execute_result"
    }
   ],
   "source": [
    "max(names)"
   ]
  },
  {
   "cell_type": "code",
   "execution_count": 5,
   "metadata": {},
   "outputs": [
    {
     "data": {
      "text/plain": [
       "[6, 4, 4]"
      ]
     },
     "execution_count": 5,
     "metadata": {},
     "output_type": "execute_result"
    }
   ],
   "source": [
    "[len(name) for name in names]"
   ]
  },
  {
   "cell_type": "code",
   "execution_count": 6,
   "metadata": {},
   "outputs": [
    {
     "data": {
      "text/plain": [
       "4"
      ]
     },
     "execution_count": 6,
     "metadata": {},
     "output_type": "execute_result"
    }
   ],
   "source": [
    "min([len(name) for name in names])"
   ]
  },
  {
   "cell_type": "code",
   "execution_count": 8,
   "metadata": {},
   "outputs": [
    {
     "data": {
      "text/plain": [
       "'toygar'"
      ]
     },
     "execution_count": 8,
     "metadata": {},
     "output_type": "execute_result"
    }
   ],
   "source": [
    "res27 =  max(names, key= lambda name : len(name))\n",
    "\n",
    "res27"
   ]
  },
  {
   "cell_type": "code",
   "execution_count": 10,
   "metadata": {},
   "outputs": [],
   "source": [
    "monitors = [\n",
    "    {\"brand\" : \"Msi\", \"price\": 14999},\n",
    "    {\"brand\" : \"Samsung\", \"price\" : 18799 },\n",
    "    {\"brand\" : \"Lg\",   \"price\" : 13500}\n",
    "]"
   ]
  },
  {
   "cell_type": "code",
   "execution_count": 16,
   "metadata": {},
   "outputs": [
    {
     "data": {
      "text/plain": [
       "{'brand': 'Lg', 'price': 13500}"
      ]
     },
     "execution_count": 16,
     "metadata": {},
     "output_type": "execute_result"
    }
   ],
   "source": [
    "#en ucuz monitor \n",
    "\n",
    "min(monitors, key= lambda x : x[\"price\"])"
   ]
  },
  {
   "cell_type": "code",
   "execution_count": 18,
   "metadata": {},
   "outputs": [
    {
     "data": {
      "text/plain": [
       "'Samsung'"
      ]
     },
     "execution_count": 18,
     "metadata": {},
     "output_type": "execute_result"
    }
   ],
   "source": [
    "#en pahalı monitörü getir\n",
    "max(monitors, key = lambda monitor : monitor[\"price\"] )[\"brand\"]\n",
    "\n"
   ]
  },
  {
   "cell_type": "code",
   "execution_count": 28,
   "metadata": {},
   "outputs": [
    {
     "name": "stdout",
     "output_type": "stream",
     "text": [
      "Samsung 18799\n"
     ]
    }
   ],
   "source": [
    "#başa bir yol:\n",
    "\n",
    "max = 0\n",
    "\n",
    "for mon in monitors:\n",
    "    if mon[\"price\"] > max:\n",
    "        bra = mon[\"brand\"]\n",
    "        max = mon[\"price\"]\n",
    "\n",
    "\n",
    "print(bra, max)"
   ]
  },
  {
   "cell_type": "markdown",
   "metadata": {},
   "source": [
    "SUM FONKSİYONU"
   ]
  },
  {
   "cell_type": "code",
   "execution_count": 30,
   "metadata": {},
   "outputs": [],
   "source": [
    "numz1 = [1,3,5,42,33,17,28,56]"
   ]
  },
  {
   "cell_type": "code",
   "execution_count": 31,
   "metadata": {},
   "outputs": [
    {
     "data": {
      "text/plain": [
       "185"
      ]
     },
     "execution_count": 31,
     "metadata": {},
     "output_type": "execute_result"
    }
   ],
   "source": [
    "\n",
    "sum(numz1)"
   ]
  },
  {
   "cell_type": "code",
   "execution_count": 2,
   "metadata": {},
   "outputs": [],
   "source": [
    "monitors = [\n",
    "    {\"brand\" : \"Msi\", \"price\": 14999},\n",
    "    {\"brand\" : \"Samsung\", \"price\" : 18799 },\n",
    "    {\"brand\" : \"Lg\",   \"price\" : 13500}\n",
    "]"
   ]
  },
  {
   "cell_type": "code",
   "execution_count": 3,
   "metadata": {},
   "outputs": [
    {
     "data": {
      "text/plain": [
       "[{'brand': 'Msi', 'price': 14999},\n",
       " {'brand': 'Samsung', 'price': 18799},\n",
       " {'brand': 'Lg', 'price': 13500}]"
      ]
     },
     "execution_count": 3,
     "metadata": {},
     "output_type": "execute_result"
    }
   ],
   "source": [
    "[x for x in monitors]"
   ]
  },
  {
   "cell_type": "code",
   "execution_count": null,
   "metadata": {},
   "outputs": [
    {
     "data": {
      "text/plain": [
       "47298"
      ]
     },
     "execution_count": 5,
     "metadata": {},
     "output_type": "execute_result"
    }
   ],
   "source": [
    "#monitörlerin toplam fiyatı\n",
    "\n",
    "sum([x[\"price\"] for x in monitors]) "
   ]
  },
  {
   "cell_type": "code",
   "execution_count": null,
   "metadata": {},
   "outputs": [
    {
     "data": {
      "text/plain": [
       "15766.0"
      ]
     },
     "execution_count": 6,
     "metadata": {},
     "output_type": "execute_result"
    }
   ],
   "source": [
    "#ortalama fiyat\n",
    "\n",
    "sum([x[\"price\"] for x in monitors])  / len(monitors)"
   ]
  },
  {
   "cell_type": "markdown",
   "metadata": {},
   "source": [
    "ROUND"
   ]
  },
  {
   "cell_type": "code",
   "execution_count": 10,
   "metadata": {},
   "outputs": [
    {
     "data": {
      "text/plain": [
       "3.15"
      ]
     },
     "execution_count": 10,
     "metadata": {},
     "output_type": "execute_result"
    }
   ],
   "source": [
    "round(3.1459, 2)"
   ]
  },
  {
   "cell_type": "code",
   "execution_count": null,
   "metadata": {},
   "outputs": [],
   "source": []
  }
 ],
 "metadata": {
  "kernelspec": {
   "display_name": "base",
   "language": "python",
   "name": "python3"
  },
  "language_info": {
   "codemirror_mode": {
    "name": "ipython",
    "version": 3
   },
   "file_extension": ".py",
   "mimetype": "text/x-python",
   "name": "python",
   "nbconvert_exporter": "python",
   "pygments_lexer": "ipython3",
   "version": "3.12.7"
  }
 },
 "nbformat": 4,
 "nbformat_minor": 2
}
