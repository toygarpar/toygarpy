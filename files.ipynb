{
 "cells": [
  {
   "cell_type": "markdown",
   "metadata": {},
   "source": [
    "FILE MANAGEMENT, FILES\n",
    "\n",
    "open() - dosya açmak ve okumak için\n",
    "\n",
    "open(dosya_ismi, erişim_modu)\n",
    "\n",
    "r okuma w yazma \n",
    "\n",
    "r+  hem okuma yazma, dosya konumda yoksa hata verir\n",
    "\n",
    "a - ekleme, dosya konumda yoksa oluşturur\n",
    "\n",
    "seek - cursor konumu\n",
    "\n",
    "The built-in open function creates a Python file object, which serves as a link to a file residing on your machine. After calling open, you can transfer strings of data to and from the associated external file by calling the returned file object’s methods.\n",
    "\n",
    "Most file methods are concerned with performing input from and output to the external file associated with a file object, but other file methods allow us to seek to a new position in the file, flush output buffers, and so on"
   ]
  },
  {
   "cell_type": "code",
   "execution_count": 12,
   "metadata": {},
   "outputs": [],
   "source": [
    "\"\"\"\n",
    "To open a file, a program calls the built-in open function, with the external filename\n",
    "first, followed by a processing mode. 3\n",
    "\"\"\"\n",
    "\n",
    "file = open(\"deneme.txt\")    #create input file, same as open('deneme.txt', 'r'), \"r\" is the default\n"
   ]
  },
  {
   "cell_type": "code",
   "execution_count": 13,
   "metadata": {},
   "outputs": [
    {
     "name": "stdout",
     "output_type": "stream",
     "text": [
      "<_io.TextIOWrapper name='deneme.txt' mode='r' encoding='UTF-8'>\n"
     ]
    }
   ],
   "source": [
    "# The call returns a file object, which in turn has methods for data transfer\n",
    "\n",
    "print(file)   #bize bir object geri gönderir  textiowrapper nesnesi"
   ]
  },
  {
   "cell_type": "code",
   "execution_count": 14,
   "metadata": {},
   "outputs": [
    {
     "data": {
      "text/plain": [
       "\"Operation\\noutput = open(r'C:\\\\data', 'w')  - Create output file ('w' means write)\\ninput = open('data', 'r')  - Create input file ('r' means read)\\ninput = open('data') - Same as prior line ('r' is the default)\\naString = input.read() -Read entire file into a single string\\naString = input.read(N) - Read up to next N characters (or bytes) into a string\\naString = input.readline() -Read next line (including \\\\n newline) into a string\\naList = input.readlines() - Read entire file into list of line strings (with \\\\n)\\noutput.write(aString)    - Write a string of characters (or bytes) into file\\noutput.writelines(aList)  -   Write all line strings in a list into file\\noutput.close()  - Manual close\\noutput.flush()  - Flush output buffer to disk without closing\\nanyFile.seek(N)  - Change file position to offset N for next operation\\nfor line in open('data'): use line -  File iterators read line by line\\nopen('f.txt', encoding='latin-1') - Python 3.X Unicode text files (str strings)\\nopen('f.bin', 'rb') - Python 3.X bytes files (bytes strings)\\n\\n\\n\\n\\n\\n\\n\""
      ]
     },
     "execution_count": 14,
     "metadata": {},
     "output_type": "execute_result"
    }
   ],
   "source": [
    "file.read()  #read entire file into a string"
   ]
  },
  {
   "cell_type": "markdown",
   "metadata": {},
   "source": [
    "The first argument to open, the external filename, may include a platform-specific and absolute or relative directory path prefix.\n",
    "\n",
    "The second argument to open, processing mode, is typically the string 'r' to open for text input (the default), 'w' to create and open for text output, or 'a' to open for appending text to the end. Adding a + opens the file for both input and output.\n",
    "\n",
    "An optional third argument can be used to control output buffering—passing a zero means that output is unbuffered. "
   ]
  },
  {
   "cell_type": "code",
   "execution_count": 24,
   "metadata": {},
   "outputs": [
    {
     "data": {
      "text/plain": [
       "0"
      ]
     },
     "execution_count": 24,
     "metadata": {},
     "output_type": "execute_result"
    }
   ],
   "source": [
    "file.seek(0)     #cursorü en başa almak için"
   ]
  },
  {
   "cell_type": "code",
   "execution_count": 25,
   "metadata": {},
   "outputs": [
    {
     "data": {
      "text/plain": [
       "'Operation\\n'"
      ]
     },
     "execution_count": 25,
     "metadata": {},
     "output_type": "execute_result"
    }
   ],
   "source": [
    "file.readline() # Read next line (including \\n newline) into a string"
   ]
  },
  {
   "cell_type": "code",
   "execution_count": 26,
   "metadata": {},
   "outputs": [
    {
     "data": {
      "text/plain": [
       "0"
      ]
     },
     "execution_count": 26,
     "metadata": {},
     "output_type": "execute_result"
    }
   ],
   "source": [
    "file.seek(0)\n"
   ]
  },
  {
   "cell_type": "code",
   "execution_count": 27,
   "metadata": {},
   "outputs": [
    {
     "data": {
      "text/plain": [
       "['Operation\\n',\n",
       " \"output = open(r'C:\\\\data', 'w')  - Create output file ('w' means write)\\n\",\n",
       " \"input = open('data', 'r')  - Create input file ('r' means read)\\n\",\n",
       " \"input = open('data') - Same as prior line ('r' is the default)\\n\",\n",
       " 'aString = input.read() -Read entire file into a single string\\n',\n",
       " 'aString = input.read(N) - Read up to next N characters (or bytes) into a string\\n',\n",
       " 'aString = input.readline() -Read next line (including \\\\n newline) into a string\\n',\n",
       " 'aList = input.readlines() - Read entire file into list of line strings (with \\\\n)\\n',\n",
       " 'output.write(aString)    - Write a string of characters (or bytes) into file\\n',\n",
       " 'output.writelines(aList)  -   Write all line strings in a list into file\\n',\n",
       " 'output.close()  - Manual close\\n',\n",
       " 'output.flush()  - Flush output buffer to disk without closing\\n',\n",
       " 'anyFile.seek(N)  - Change file position to offset N for next operation\\n',\n",
       " \"for line in open('data'): use line -  File iterators read line by line\\n\",\n",
       " \"open('f.txt', encoding='latin-1') - Python 3.X Unicode text files (str strings)\\n\",\n",
       " \"open('f.bin', 'rb') - Python 3.X bytes files (bytes strings)\\n\",\n",
       " '\\n',\n",
       " '\\n',\n",
       " '\\n',\n",
       " '\\n',\n",
       " '\\n',\n",
       " '\\n']"
      ]
     },
     "execution_count": 27,
     "metadata": {},
     "output_type": "execute_result"
    }
   ],
   "source": [
    "file.readlines()  # input.readlines() - Read entire file into list of line strings (with \\n)"
   ]
  },
  {
   "cell_type": "code",
   "execution_count": 28,
   "metadata": {},
   "outputs": [
    {
     "data": {
      "text/plain": [
       "0"
      ]
     },
     "execution_count": 28,
     "metadata": {},
     "output_type": "execute_result"
    }
   ],
   "source": [
    "file.seek(0)"
   ]
  },
  {
   "cell_type": "code",
   "execution_count": 29,
   "metadata": {},
   "outputs": [
    {
     "data": {
      "text/plain": [
       "'Operation\\n'"
      ]
     },
     "execution_count": 29,
     "metadata": {},
     "output_type": "execute_result"
    }
   ],
   "source": [
    "lines = file.readlines() #assign the list of line strings to a variable\n",
    "\n",
    "lines[0]"
   ]
  },
  {
   "cell_type": "code",
   "execution_count": 30,
   "metadata": {},
   "outputs": [
    {
     "data": {
      "text/plain": [
       "'aList = input.readlines() - Read entire file into list of line strings (with \\\\n)\\n'"
      ]
     },
     "execution_count": 30,
     "metadata": {},
     "output_type": "execute_result"
    }
   ],
   "source": [
    "lines[7]"
   ]
  },
  {
   "cell_type": "code",
   "execution_count": 31,
   "metadata": {},
   "outputs": [
    {
     "data": {
      "text/plain": [
       "False"
      ]
     },
     "execution_count": 31,
     "metadata": {},
     "output_type": "execute_result"
    }
   ],
   "source": [
    "file.closed  #nesne kapalı mı?"
   ]
  },
  {
   "cell_type": "code",
   "execution_count": 32,
   "metadata": {},
   "outputs": [],
   "source": [
    "file.close()  #nesneyi kapa"
   ]
  },
  {
   "cell_type": "code",
   "execution_count": 33,
   "metadata": {},
   "outputs": [],
   "source": [
    "#Once you make a file object with open, you can call its methods to read from or write to the associated external file. \n",
    "\n",
    "# reading a file returns its content in strings, and content is passed to the write methods as strings. \n",
    "\n",
    "file = open(\"deneme.txt\") "
   ]
  },
  {
   "cell_type": "code",
   "execution_count": 34,
   "metadata": {},
   "outputs": [
    {
     "data": {
      "text/plain": [
       "\"Operation\\noutput = open(r'C:\\\\data', 'w')  - Create output file ('w' means write)\\ninput = open('data', 'r')  - Create input file ('r' means read)\\ninput = open('data') - Same as prior line ('r' is the default)\\naString = input.read() -Read entire file into a single string\\naString = input.read(N) - Read up to next N characters (or bytes) into a string\\naString = input.readline() -Read next line (including \\\\n newline) into a string\\naList = input.readlines() - Read entire file into list of line strings (with \\\\n)\\noutput.write(aString)    - Write a string of characters (or bytes) into file\\noutput.writelines(aList)  -   Write all line strings in a list into file\\noutput.close()  - Manual close\\noutput.flush()  - Flush output buffer to disk without closing\\nanyFile.seek(N)  - Change file position to offset N for next operation\\nfor line in open('data'): use line -  File iterators read line by line\\nopen('f.txt', encoding='latin-1') - Python 3.X Unicode text files (str strings)\\nopen('f.bin', 'rb') - Python 3.X bytes files (bytes strings)\\n\""
      ]
     },
     "execution_count": 34,
     "metadata": {},
     "output_type": "execute_result"
    }
   ],
   "source": [
    "file.read()"
   ]
  },
  {
   "cell_type": "code",
   "execution_count": 35,
   "metadata": {},
   "outputs": [],
   "source": [
    "#Calling the file close method terminates your connection to the external file, releases its system resources, and flushes its buffered output to disk if any is still in memory.\n",
    "\n",
    "file.close()  "
   ]
  },
  {
   "cell_type": "markdown",
   "metadata": {},
   "source": [
    "File Context Managers\n",
    "\n",
    "allows us to wrap file-processing code in a logic layer that ensures that the file will be closed automatically on exit"
   ]
  },
  {
   "cell_type": "code",
   "execution_count": 37,
   "metadata": {},
   "outputs": [
    {
     "name": "stdout",
     "output_type": "stream",
     "text": [
      "Operation\n",
      "output = open(r'C:\\data', 'w')  - Create output file ('w' means write)\n",
      "input = open('data', 'r')  - Create input file ('r' means read)\n",
      "input = open('data') - Same as prior line ('r' is the default)\n",
      "aString = input.read() -Read entire file into a single string\n",
      "aString = input.read(N) - Read up to next N characters (or bytes) into a string\n",
      "aString = input.readline() -Read next line (including \\n newline) into a string\n",
      "aList = input.readlines() - Read entire file into list of line strings (with \\n)\n",
      "output.write(aString)    - Write a string of characters (or bytes) into file\n",
      "output.writelines(aList)  -   Write all line strings in a list into file\n",
      "output.close()  - Manual close\n",
      "output.flush()  - Flush output buffer to disk without closing\n",
      "anyFile.seek(N)  - Change file position to offset N for next operation\n",
      "for line in open('data'): use line -  File iterators read line by line\n",
      "open('f.txt', encoding='latin-1') - Python 3.X Unicode text files (str strings)\n",
      "open('f.bin', 'rb') - Python 3.X bytes files (bytes strings)\n",
      "\n"
     ]
    }
   ],
   "source": [
    "with open(\"deneme.txt\", encoding =\"utf-8\") as file:\n",
    "    print(file.read())"
   ]
  },
  {
   "cell_type": "code",
   "execution_count": 38,
   "metadata": {},
   "outputs": [
    {
     "name": "stdout",
     "output_type": "stream",
     "text": [
      "Operati\n",
      "7\n",
      "on\n",
      "output = open(r'C:\\data', 'w')  - Create output file ('w' means write)\n",
      "input = open('data', 'r')  - Create input file ('r' means read)\n",
      "input = open('data') - Same as prior line ('r' is the default)\n",
      "aString = input.read() -Read entire file into a single string\n",
      "aString = input.read(N) - Read up to next N characters (or bytes) into a string\n",
      "aString = input.readline() -Read next line (including \\n newline) into a string\n",
      "aList = input.readlines() - Read entire file into list of line strings (with \\n)\n",
      "output.write(aString)    - Write a string of characters (or bytes) into file\n",
      "output.writelines(aList)  -   Write all line strings in a list into file\n",
      "output.close()  - Manual close\n",
      "output.flush()  - Flush output buffer to disk without closing\n",
      "anyFile.seek(N)  - Change file position to offset N for next operation\n",
      "for line in open('data'): use line -  File iterators read line by line\n",
      "open('f.txt', encoding='latin-1') - Python 3.X Unicode text files (str strings)\n",
      "open('f.bin', 'rb') - Python 3.X bytes files (bytes strings)\n",
      "\n",
      "1037\n"
     ]
    }
   ],
   "source": [
    "with open(\"deneme.txt\", encoding =\"utf-8\") as file:\n",
    "    print(file.read(7))\n",
    "    print(file.tell())\n",
    "    print(file.read())\n",
    "    print(file.tell())"
   ]
  },
  {
   "cell_type": "code",
   "execution_count": 39,
   "metadata": {},
   "outputs": [
    {
     "name": "stdout",
     "output_type": "stream",
     "text": [
      "Operation\n",
      "\n",
      "output = open(r'C:\\data', 'w')  - Create output file ('w' means write)\n",
      "\n",
      "input = open('data', 'r')  - Create input file ('r' means read)\n",
      "\n",
      "input = open('data') - Same as prior line ('r' is the default)\n",
      "\n",
      "aString = input.read() -Read entire file into a single string\n",
      "\n",
      "aString = input.read(N) - Read up to next N characters (or bytes) into a string\n",
      "\n",
      "aString = input.readline() -Read next line (including \\n newline) into a string\n",
      "\n",
      "aList = input.readlines() - Read entire file into list of line strings (with \\n)\n",
      "\n",
      "output.write(aString)    - Write a string of characters (or bytes) into file\n",
      "\n",
      "output.writelines(aList)  -   Write all line strings in a list into file\n",
      "\n",
      "output.close()  - Manual close\n",
      "\n",
      "output.flush()  - Flush output buffer to disk without closing\n",
      "\n",
      "anyFile.seek(N)  - Change file position to offset N for next operation\n",
      "\n",
      "for line in open('data'): use line -  File iterators read line by line\n",
      "\n",
      "open('f.txt', encoding='latin-1') - Python 3.X Unicode text files (str strings)\n",
      "\n",
      "open('f.bin', 'rb') - Python 3.X bytes files (bytes strings)\n",
      "\n"
     ]
    }
   ],
   "source": [
    "# you want to scan a text file line by line, file iterators are often your best option\n",
    "#files also have an iterator that automatically reads one line at a time in a for loop, list comprehension, or other iteration context\n",
    "\n",
    "\n",
    "with open(\"deneme.txt\", encoding =\"utf-8\") as file:\n",
    "    for line in file:\n",
    "        print(line)"
   ]
  },
  {
   "cell_type": "code",
   "execution_count": 41,
   "metadata": {},
   "outputs": [
    {
     "name": "stdout",
     "output_type": "stream",
     "text": [
      "Operation\n",
      "output = open(r'C:\\data', 'w')  - Create output file ('w' means write)\n",
      "input = open('data', 'r')  - Create input file ('r' means read)\n",
      "input = open('data') - Same as prior line ('r' is the default)\n",
      "aString = input.read() -Read entire file into a single string\n",
      "aString = input.read(N) - Read up to next N characters (or bytes) into a string\n",
      "aString = input.readline() -Read next line (including \\n newline) into a string\n",
      "aList = input.readlines() - Read entire file into list of line strings (with \\n)\n",
      "output.write(aString)    - Write a string of characters (or bytes) into file\n",
      "output.writelines(aList)  -   Write all line strings in a list into file\n",
      "output.close()  - Manual close\n",
      "output.flush()  - Flush output buffer to disk without closing\n",
      "anyFile.seek(N)  - Change file position to offset N for next operation\n",
      "for line in open('data'): use line -  File iterators read line by line\n",
      "open('f.txt', encoding='latin-1') - Python 3.X Unicode text files (str strings)\n",
      "open('f.bin', 'rb') - Python 3.X bytes files (bytes strings)\n"
     ]
    }
   ],
   "source": [
    "with open(\"deneme.txt\", encoding =\"utf-8\") as file:\n",
    "    for line in file:\n",
    "        print(line, end= \"\")"
   ]
  },
  {
   "cell_type": "code",
   "execution_count": 45,
   "metadata": {},
   "outputs": [
    {
     "name": "stdout",
     "output_type": "stream",
     "text": [
      "File Not Found FileNotFoundError(2, 'No such file or directory')\n"
     ]
    }
   ],
   "source": [
    "#print the error message if the file is not found \n",
    "\n",
    "try:\n",
    "    with open(\"deneme2.txt\", encoding =\"utf-8\") as file:\n",
    "        for line in file:\n",
    "            print(line, end= \"\")\n",
    "\n",
    "except FileNotFoundError as err:\n",
    "    print(\"File Not Found\", repr(err))   #or use str"
   ]
  },
  {
   "cell_type": "markdown",
   "metadata": {},
   "source": [
    "YAZMA İŞLEM MODU\n",
    "\n",
    "w dosyayı oluşturur\n",
    "\n",
    "dosya yoksa o konumda oluşturulur\n",
    "\n",
    "eğer dosya varsa, doya içeriği silinir ve yeni dosya boş biçimde oluşturulur\n"
   ]
  },
  {
   "cell_type": "code",
   "execution_count": 13,
   "metadata": {},
   "outputs": [],
   "source": [
    "file = open(\"w-deneme.txt\", \"w\", encoding = \"utf-8\")"
   ]
  },
  {
   "cell_type": "code",
   "execution_count": 14,
   "metadata": {},
   "outputs": [],
   "source": [
    "file.write(\"Toygar Par\\n\")\n",
    "\n",
    "file.close()"
   ]
  },
  {
   "cell_type": "code",
   "execution_count": 44,
   "metadata": {},
   "outputs": [
    {
     "data": {
      "text/plain": [
       "11"
      ]
     },
     "execution_count": 44,
     "metadata": {},
     "output_type": "execute_result"
    }
   ],
   "source": [
    "file = open(\"w-deneme.txt\", \"w\", encoding = \"utf-8\")\n",
    "file.write(\"Toygar Par\\n\")"
   ]
  },
  {
   "cell_type": "code",
   "execution_count": 45,
   "metadata": {},
   "outputs": [
    {
     "data": {
      "text/plain": [
       "10"
      ]
     },
     "execution_count": 45,
     "metadata": {},
     "output_type": "execute_result"
    }
   ],
   "source": [
    "bocus = \"Böçüş Par\"\n",
    "file.write(bocus + \"\\n\")"
   ]
  },
  {
   "cell_type": "code",
   "execution_count": 46,
   "metadata": {},
   "outputs": [
    {
     "data": {
      "text/plain": [
       "9"
      ]
     },
     "execution_count": 46,
     "metadata": {},
     "output_type": "execute_result"
    }
   ],
   "source": [
    "file.write(\"Taco Par\\n\")"
   ]
  },
  {
   "cell_type": "code",
   "execution_count": 47,
   "metadata": {},
   "outputs": [],
   "source": [
    "a, b, c = 1, 2, 3\n",
    "buzz = \"Buzz Par\"\n",
    "dikt = {\"x \": 1, \"y\" : 2}\n",
    "Liste = [ \"Buzz\", \"Taco\", \"Çıtır\", [1, 2, 3, [a, b, c]]]"
   ]
  },
  {
   "cell_type": "code",
   "execution_count": 48,
   "metadata": {},
   "outputs": [
    {
     "data": {
      "text/plain": [
       "18"
      ]
     },
     "execution_count": 48,
     "metadata": {},
     "output_type": "execute_result"
    }
   ],
   "source": [
    "file.write(buzz + \"\\n\")\n",
    "file.write(\"%s, %s, %s\\n\" % (a, b, c))\n",
    "file.write(str(Liste)+\"\\n\")\n",
    "file.write(str(dikt)+\"\\n\")"
   ]
  },
  {
   "cell_type": "code",
   "execution_count": 49,
   "metadata": {},
   "outputs": [],
   "source": [
    "file.close()"
   ]
  },
  {
   "cell_type": "code",
   "execution_count": 50,
   "metadata": {},
   "outputs": [
    {
     "data": {
      "text/plain": [
       "['Toygar Par\\n',\n",
       " 'Böçüş Par\\n',\n",
       " 'Taco Par\\n',\n",
       " 'Buzz Par\\n',\n",
       " '1, 2, 3\\n',\n",
       " \"['Buzz', 'Taco', 'Çıtır', [1, 2, 3, [1, 2, 3]]]\\n\",\n",
       " \"{'x ': 1, 'y': 2}\\n\"]"
      ]
     },
     "execution_count": 50,
     "metadata": {},
     "output_type": "execute_result"
    }
   ],
   "source": [
    "file = open(\"w-deneme.txt\")\n",
    "file.readlines()"
   ]
  },
  {
   "cell_type": "code",
   "execution_count": 51,
   "metadata": {},
   "outputs": [],
   "source": [
    "file.close()"
   ]
  },
  {
   "cell_type": "code",
   "execution_count": 57,
   "metadata": {},
   "outputs": [],
   "source": [
    "with open(\"w-deneme.txt\", \"w\", encoding = \"utf-8\") as file:\n",
    "    file.write(\"Toygar Par\\n\")\n",
    "    bocus = \"Böçüş Par\"\n",
    "    file.write(bocus + \"\\n\")\n",
    "    a, b, c = 1, 2, 3\n",
    "    buzz = \"Buzz Par\"\n",
    "    dikt = {\"x \": 1, \"y\" : 2}\n",
    "    Liste = [ \"Buzz\", \"Taco\", \"Çıtır\", [1, 2, 3, [a, b, c]]]\n",
    "    file.write(buzz + \"\\n\")\n",
    "    file.write(\"%s, %s, %s\\n\" % (a, b, c))\n",
    "    file.write(str(Liste)+\"\\n\")\n",
    "    file.write(str(dikt)+\"\\n\")\n"
   ]
  },
  {
   "cell_type": "code",
   "execution_count": 55,
   "metadata": {},
   "outputs": [
    {
     "name": "stdout",
     "output_type": "stream",
     "text": [
      "Toygar Par\n",
      "\n",
      "Böçüş Par\n",
      "\n",
      "Buzz Par\n",
      "\n",
      "1, 2, 3\n",
      "\n",
      "['Buzz', 'Taco', 'Çıtır', [1, 2, 3, [1, 2, 3]]]\n",
      "\n",
      "{'x ': 1, 'y': 2}\n",
      "\n",
      "a modunda yeni satır ekleme\n",
      "\n"
     ]
    }
   ],
   "source": [
    "with open(\"w-deneme.txt\", \"r\", encoding = \"utf-8\") as file:\n",
    "    for line in file:\n",
    "        print(line)"
   ]
  },
  {
   "cell_type": "code",
   "execution_count": 54,
   "metadata": {},
   "outputs": [],
   "source": [
    "with open(\"w-deneme.txt\", \"a\", encoding = \"utf-8\") as file:\n",
    "    file.write(\"a modunda yeni satır ekleme\\n\")"
   ]
  },
  {
   "cell_type": "code",
   "execution_count": 58,
   "metadata": {},
   "outputs": [
    {
     "name": "stdout",
     "output_type": "stream",
     "text": [
      "Toygar Par\n",
      "Böçüş Par\n",
      "Buzz Par\n",
      "1, 2, 3\n",
      "['Buzz', 'Taco', 'Çıtır', [1, 2, 3, [1, 2, 3]]]\n",
      "{'x ': 1, 'y': 2}\n",
      "\n"
     ]
    }
   ],
   "source": [
    "with open(\"w-deneme.txt\", \"r+\", encoding = \"utf-8\") as file:  #defaultu en baştan itibaren yazıyor\n",
    "    print(file.read()) #hespini okuduktan sonra son satıra eklemeye hazır hale gelir\n",
    "    file.write(\"r+ modunda son satıra ekleme\")"
   ]
  },
  {
   "cell_type": "code",
   "execution_count": 60,
   "metadata": {},
   "outputs": [
    {
     "name": "stdout",
     "output_type": "stream",
     "text": [
      "Toygar Par\n",
      "\n",
      "Böçüş Par\n",
      "\n",
      "Buzz Par\n",
      "\n",
      "1, 2, 3\n",
      "\n",
      "['Buzz', 'Taco', 'Çıtır', [1, 2, 3, [1, 2, 3]]]\n",
      "\n",
      "{'x ': 1, 'y': 2}\n",
      "\n",
      "r+ modunda son satıra ekleme\n"
     ]
    }
   ],
   "source": [
    "with open(\"w-deneme.txt\", \"r\", encoding = \"utf-8\") as file:\n",
    "    for line in file:\n",
    "        print(line)"
   ]
  },
  {
   "cell_type": "markdown",
   "metadata": {},
   "source": [
    "DOSYA GÜNCELLEME"
   ]
  },
  {
   "cell_type": "code",
   "execution_count": 3,
   "metadata": {},
   "outputs": [
    {
     "name": "stdout",
     "output_type": "stream",
     "text": [
      "2 - Samsung\n",
      "4 - MSI\n",
      "5 - LGCasper6 - Casper\n",
      "6 - Casper\n",
      "\n"
     ]
    }
   ],
   "source": [
    "with open(\"file-update.txt\", \"a\") as file:\n",
    "    file.write(\"6 - Casper\\n\")\n",
    "\n",
    "with open(\"file-update.txt\", \"r\", encoding = \"utf-8\") as file:\n",
    "    print(file.read())"
   ]
  },
  {
   "cell_type": "code",
   "execution_count": 4,
   "metadata": {},
   "outputs": [
    {
     "name": "stdout",
     "output_type": "stream",
     "text": [
      "SonySamsung\n",
      "4 - MSI\n",
      "5 - LGCasper6 - Casper\n",
      "6 - Casper\n",
      "\n"
     ]
    }
   ],
   "source": [
    "with open(\"file-update.txt\", \"r+\") as file:\n",
    "    \n",
    "    file.seek(0)\n",
    "    file.write(\"1 - Sony\\n\")\n",
    "\n",
    "\n",
    "with open(\"file-update.txt\", \"r\", encoding = \"utf-8\") as file:\n",
    "    print(file.read())"
   ]
  },
  {
   "cell_type": "code",
   "execution_count": 7,
   "metadata": {},
   "outputs": [
    {
     "name": "stdout",
     "output_type": "stream",
     "text": [
      "1 - Vestel\n",
      "1 - VestelSonySamsung\n",
      "4 - MSI\n",
      "5 - LGCasper6 - Casper\n",
      "6 - Casper\n",
      "\n"
     ]
    }
   ],
   "source": [
    "with open(\"file-update.txt\", \"r+\") as file:\n",
    "    brands = file.read()\n",
    "    brands = \"1 - Vestel\\n\" + brands\n",
    "    file.seek(0)\n",
    "    file.write(brands)\n",
    "\n",
    "\n",
    "with open(\"file-update.txt\", \"r\", encoding = \"utf-8\") as file:\n",
    "    print(file.read())"
   ]
  },
  {
   "cell_type": "code",
   "execution_count": 10,
   "metadata": {},
   "outputs": [
    {
     "name": "stdout",
     "output_type": "stream",
     "text": [
      "['1 - Vestel\\n', '2 - Sony\\n', '3 - Samsung\\n', '5 - LG\\n', '6 - Casper\\n', '7 - MSI\\n', '\\n']\n",
      "1 - Vestel\n",
      "2 - Sony\n",
      "3 - Samsung\n",
      "5 - LG\n",
      "6 - Casper\n",
      "7 - MSI\n",
      "\n",
      "\n"
     ]
    }
   ],
   "source": [
    "with open(\"file-update.txt\", \"r+\", encoding = \"utf-8\") as file:\n",
    "    brands = file.readlines()\n",
    "    brands\n",
    "    print(brands)\n",
    "\n",
    "\n",
    "with open(\"file-update.txt\", \"r\", encoding = \"utf-8\") as file:\n",
    "    print(file.read())"
   ]
  },
  {
   "cell_type": "code",
   "execution_count": 11,
   "metadata": {},
   "outputs": [
    {
     "name": "stdout",
     "output_type": "stream",
     "text": [
      "1 - Vestel\n",
      "2 - Sony\n",
      "3 - Samsung\n",
      "4 - AOC\n",
      "5 - LG\n",
      "6 - Casper\n",
      "7 - MSI\n",
      "\n",
      "\n"
     ]
    }
   ],
   "source": [
    "with open(\"file-update.txt\", \"r+\", encoding = \"utf-8\") as file:\n",
    "    brands = file.readlines()\n",
    "    brands.insert(3, \"4 - AOC\\n\")\n",
    "    file.seek(0)\n",
    "    for brand in brands:\n",
    "        file.write(brand)\n",
    "    \n",
    "\n",
    "\n",
    "with open(\"file-update.txt\", \"r\", encoding = \"utf-8\") as file:\n",
    "    print(file.read())"
   ]
  },
  {
   "cell_type": "code",
   "execution_count": 12,
   "metadata": {},
   "outputs": [
    {
     "name": "stdout",
     "output_type": "stream",
     "text": [
      "1 - Vestel\n",
      "2 - Sony\n",
      "3 - Samsung\n",
      "4.5 - AOC\n",
      "4 - AOC\n",
      "5 - LG\n",
      "6 - Casper\n",
      "7 - MSI\n",
      "\n",
      "\n"
     ]
    }
   ],
   "source": [
    "with open(\"file-update.txt\", \"r+\", encoding = \"utf-8\") as file:\n",
    "    brands = file.readlines()\n",
    "    brands.insert(3, \"4.5 - AOC\\n\")\n",
    "    file.seek(0)\n",
    "    file.writelines(brands)\n",
    "    \n",
    "\n",
    "\n",
    "with open(\"file-update.txt\", \"r\", encoding = \"utf-8\") as file:\n",
    "    print(file.read())"
   ]
  },
  {
   "cell_type": "markdown",
   "metadata": {},
   "source": [
    "NOT ORTALAMASI UYGULAMASI\n",
    "\n",
    "Bu Python kodu, öğrenci notlarını kaydetme, okuma, ortalama hesaplama ve harf notuna çevirme işlemlerini gerçekleştiren basit bir not sistemi uygulamasıdır.\n",
    "\n",
    "Kodun Genel Yapısı\n",
    "Kod, öncelikle bir menü sunar ve kullanıcının seçimine göre farklı fonksiyonları çağırır. Bu fonksiyonlar, notların dosyaya yazılması, okunması, ortalamasının hesaplanması ve harf notuna çevrilmesi gibi işlemleri gerçekleştirir."
   ]
  },
  {
   "cell_type": "code",
   "execution_count": 7,
   "metadata": {},
   "outputs": [],
   "source": [
    "#uygulama\n",
    "\n",
    "\"\"\"\n",
    "MENU\n",
    "1- Not Gir\n",
    "2- Notları Göster\n",
    "3- notort Göster(90-100 -> A, 85-89 -> BA)\n",
    "4- Notları Kayıt Et\n",
    "5- Çıkış\n",
    "\n",
    "\"\"\"\n",
    "\n",
    "\n",
    "\n",
    "\n",
    "def nothesap(line):   #satırdaki not verilerini alır, ortalamasını hesaplar ve harf notunu belirler\n",
    "    \n",
    "    line = line[:-1]\n",
    "    liste = line.split(\":\")\n",
    "\n",
    "    ogrenciAd = liste[0]\n",
    "    notsplit = liste[1].split(\",\")\n",
    "\n",
    "    not1 = int(notsplit[0])\n",
    "    not2 = int(notsplit[1])\n",
    "    not3 = int(notsplit[2])\n",
    "\n",
    "\n",
    "    notort = (not1 + not2 +not3)/len(notsplit) \n",
    "\n",
    "\n",
    "    if notort>=90 and notort<=100:\n",
    "        harf = \"AA\"\n",
    "    elif notort>=85 and notort<=89:\n",
    "        harf = \"BA\"\n",
    "    elif notort>=80 and notort<=84:\n",
    "        harf = \"BB\"\n",
    "    elif notort>=75 and notort<=79:\n",
    "        harf = \"CB\"\n",
    "    elif notort>=70 and notort<=74:\n",
    "        harf = \"CC\"\n",
    "    elif notort>=65 and notort<=69:\n",
    "        harf = \"DC\"\n",
    "    elif notort>=60 and notort<=64:\n",
    "        harf = \"DD\"\n",
    "    elif notort>=50 and notort<=59:\n",
    "        harf = \"FD\"\n",
    "    else:\n",
    "        harf = \"FF\"\n",
    "\n",
    "    return ogrenciAd + \": \" + harf + \", \"+ str(notort) + \"\\n\"\n",
    "\n",
    "\n",
    "\n",
    "\n",
    "\n",
    "\n",
    "\n",
    "def notortoku():  #sinav_notlari.txt\" dosyasındaki tüm notları okur, her bir satır için nothesap fonksiyonunu çağırır ve sonuçları ekrana yazdırır.\n",
    "\n",
    "    with open(\"sinav_notlari.txt\", \"r\", encoding = \"utf-8\") as file:\n",
    "        for line in file:\n",
    "            \n",
    "            print(nothesap(line))\n",
    "\n",
    "\n",
    "\n",
    "\n",
    "\n",
    "\n",
    "\n",
    "def notgir():  #Kullanıcıdan öğrenci adı ve notlarını alır ve bu bilgileri \"sinav_notlari.txt\" dosyasına ekler.\n",
    "\n",
    "    ad = input(\"Öğrenci Adı: \")\n",
    "    soyad = input(\"Öğrenci Soyadı: \")\n",
    "    not1 = input(\"1. Notu Giriniz: \")\n",
    "    not2 = input(\"2. Notu Giriniz: \")\n",
    "    not3 = input(\"3. Notu Giriniz: \")\n",
    "\n",
    "\n",
    "    with open(\"sinav_notlari.txt\", \"a\", encoding = \"utf-8\") as file:\n",
    "        file.write(ad + \" \" + soyad + \":\" + not1 + \", \" + not2 + \", \" +  not3 + \"\\n\")\n",
    "\n",
    "\n",
    "\n",
    "def notoku():   #sinav_notlari.txt\" dosyasındaki tüm satırları ekrana yazdırır.\n",
    "\n",
    "    with open(\"sinav_notlari.txt\", \"r\", encoding = \"utf-8\") as file:\n",
    "        for line in file:\n",
    "            print(line)\n",
    "            \n",
    "\n",
    "\n",
    "\n",
    "def notkayit():    #\"sinav_notlari.txt\" dosyasındaki tüm notları okur, her bir satır için nothesap fonksiyonunu çağırır ve sonuçları \"sonuclar.txt\" dosyasına yazar.\n",
    "\n",
    "    with open(\"sinav_notlari.txt\", \"r\", encoding=\"utf-8\")as file:\n",
    "        liste = []\n",
    "\n",
    "        for i in file:\n",
    "            liste.append(nothesap(i))\n",
    "\n",
    "\n",
    "\n",
    "    with open(\"sonuclar.txt\", \"w\", encoding=\"utf-8\") as file2:\n",
    "        for i in liste:\n",
    "            file2.write(i)\n",
    "\n",
    "\n",
    "\n",
    "\n",
    "#Kullanıcıdan sürekli olarak bir işlem seçmesi istenir.Seçilen işlemeye göre ilgili fonksiyon çağrılır.Kullanıcı \"5\" seçeneğini girene kadar döngü devam eder.\n",
    "\n",
    "while True:\n",
    "    islem = input(\"1- Not Gir\\n2- Notları Oku\\n3-Öğrenci Not Ortalamasını Oku Et\\n4- Notları Kayıt Et\\n5- Çıkış\\nSeçiminiz: \")\n",
    "\n",
    "\n",
    "    if islem == \"1\":\n",
    "        notgir()\n",
    "    elif islem ==\"2\":\n",
    "        notoku()\n",
    "    elif islem == \"3\":\n",
    "        notortoku()\n",
    "    elif islem == \"4\":\n",
    "        notkayit()\n",
    "    else:\n",
    "        break\n",
    "\n",
    "\n",
    "\n",
    "\n",
    "\n",
    "\n",
    "\n",
    "\n"
   ]
  },
  {
   "cell_type": "code",
   "execution_count": null,
   "metadata": {},
   "outputs": [],
   "source": []
  },
  {
   "cell_type": "code",
   "execution_count": null,
   "metadata": {},
   "outputs": [],
   "source": []
  }
 ],
 "metadata": {
  "kernelspec": {
   "display_name": "base",
   "language": "python",
   "name": "python3"
  },
  "language_info": {
   "codemirror_mode": {
    "name": "ipython",
    "version": 3
   },
   "file_extension": ".py",
   "mimetype": "text/x-python",
   "name": "python",
   "nbconvert_exporter": "python",
   "pygments_lexer": "ipython3",
   "version": "3.12.4"
  }
 },
 "nbformat": 4,
 "nbformat_minor": 2
}
