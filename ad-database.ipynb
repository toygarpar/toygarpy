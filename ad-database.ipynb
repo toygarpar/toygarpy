{
 "cells": [
  {
   "cell_type": "markdown",
   "metadata": {},
   "source": [
    "<div style=\"padding:20px; \n",
    "            height: 30px;\n",
    "            width: 500px;\n",
    "            color:#36FF00;\n",
    "            margin:10px;\n",
    "            font-size:110%;\n",
    "            display:fill;\n",
    "            border-radius:10px;\n",
    "            border-style: solid;\n",
    "            border-color: #36FF00;\n",
    "            background-color:#000000;\n",
    "            overflow:hidden;\n",
    "            font-weight:500\">DATABASES\n",
    "            </div>"
   ]
  },
  {
   "cell_type": "markdown",
   "metadata": {},
   "source": []
  }
 ],
 "metadata": {
  "language_info": {
   "name": "python"
  }
 },
 "nbformat": 4,
 "nbformat_minor": 2
}
