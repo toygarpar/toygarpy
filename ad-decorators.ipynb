{
 "cells": [
  {
   "cell_type": "markdown",
   "metadata": {},
   "source": [
    "ADVANCED FUNCTIONS - DECORATORS\n",
    "\n",
    "\n",
    "Bir func çalıştırmak istediğimizde fonk öncesi veya sonrası çalıştırmak, otomatiğe bağlamak  istediğimiz kodlarımız olabilir.\n",
    "\n",
    "just syntactic sugar that runs one function through another at the end of a def statement\n",
    "\n",
    "rebinds the original function name to the result\n",
    "\n",
    "state retention\n",
    "\n",
    "**Decoration** is a way to specify management or augmentation code for functions and classes.\n",
    "\n",
    "Function decorators do name rebinding at function definition time, providing a layer of logic that can manage functions and methods, or later calls to them. Function decorators can be used to manage both function calls and function objects.\n",
    "\n",
    "Class decorators do name rebinding at class definition time, providing a layer of logic that can manage classes, or the instances created by later calls to them. Class decorators can be used to manage both class instances and classes themselves.\n",
    "\n",
    "Decorators helps us with code maintanance and consistency, naturally fosters encapsulation of code, which reduces redundancy and easy future changes in code when needed.\n",
    "\n",
    "A decorator itself is a callable that returns a callable.\n",
    "\n",
    "Decorators can be any type of callable and return any type of callable.\n",
    "\n"
   ]
  },
  {
   "cell_type": "markdown",
   "metadata": {},
   "source": []
  },
  {
   "cell_type": "markdown",
   "metadata": {},
   "source": [
    "It is a protocol for passing functions and classes through any callable immediately after they are created."
   ]
  },
  {
   "cell_type": "code",
   "execution_count": null,
   "metadata": {},
   "outputs": [],
   "source": [
    "# decorator -  a callable that returns a callable2\n",
    "\n",
    "def greetings(fn):\n",
    "    def wrapper():\n",
    "        print(\"Welcome!\")\n",
    "        fn()\n",
    "        print(\"See you later\")\n",
    "\n",
    "    return wrapper\n",
    "\n",
    "\n",
    "\n",
    "def guten_morgen():\n",
    "    \n",
    "    print(\"Good morning, My name is Toygar.\")\n",
    "    \n",
    "\n",
    "\n",
    "def good_day():\n",
    "    \n",
    "    print(\"Good day sir, My name is Toygar.\")\n",
    "    \n",
    "\n",
    "\n",
    "\n"
   ]
  },
  {
   "cell_type": "code",
   "execution_count": 4,
   "metadata": {},
   "outputs": [
    {
     "name": "stdout",
     "output_type": "stream",
     "text": [
      "Welcome!\n",
      "Good morning, My name is Toygar.\n",
      "See you later\n"
     ]
    }
   ],
   "source": [
    "gm = greetings(guten_morgen)\n",
    "gm()"
   ]
  },
  {
   "cell_type": "code",
   "execution_count": 5,
   "metadata": {},
   "outputs": [
    {
     "name": "stdout",
     "output_type": "stream",
     "text": [
      "Welcome!\n",
      "Good day sir, My name is Toygar.\n",
      "See you later\n"
     ]
    }
   ],
   "source": [
    "gd = greetings(good_day)\n",
    "gd()"
   ]
  },
  {
   "cell_type": "markdown",
   "metadata": {},
   "source": [
    "The decorator is coded on a line just before the def statement that defines a function or method, and it consists of the @ symbol followed by a reference to a metafunction—a function (or other callable object) that manages another function.\n",
    "\n",
    "function decorators automatically map the following syntax:\n",
    "\n",
    "```\n",
    "@decorator  # Decorate function\n",
    "\n",
    "def func(arg):\n",
    "...\n",
    "\n",
    "\n",
    "func(99)  # Call function\n",
    "```\n",
    "\n",
    "\n",
    "where decorator is a one-argument callable object that returns a callable object with the same number of arguments as **func**\n",
    "\n",
    "\n",
    "\n",
    "When the function `**func** is later called, it’s actually calling the object returned by the decorator, which may be either another object that implements required wrapping logic, or the original function itself.\n",
    "\n",
    "This decorator is invoked at decoration time, and the callable it returns is invoked when the original function name is later called. The decorator itself receives the decorated function; the callable returned receives whatever arguments are later passed to the decorated function’s name.\n"
   ]
  },
  {
   "cell_type": "markdown",
   "metadata": {},
   "source": [
    "Both function and class decorators can take arguments, although really these arguments are passed to a callable that in effect returns the decorator, which in turn returns a callable.\n",
    "\n",
    "```\n",
    "\n",
    "def decorator(A, B):\n",
    "    # Save or use A, B\n",
    "    def actualDecorator(F):\n",
    "        # Save or use function F\n",
    "        # Return a callable: nested def, class with __call__, etc.\n",
    "        return callable\n",
    "    return actualDecorator\n",
    "\n",
    "\n",
    "\n",
    "\n",
    "````"
   ]
  },
  {
   "cell_type": "code",
   "execution_count": 14,
   "metadata": {},
   "outputs": [],
   "source": [
    "def greetings(fn):\n",
    "    def wrapper(name):\n",
    "        print(\"Welcome!\")\n",
    "        fn(name)\n",
    "        print(\"See you later\")\n",
    "\n",
    "    return wrapper\n",
    "\n",
    "\n",
    "@greetings\n",
    "def guten_morgen(name):\n",
    "    \n",
    "    print(f\"Good morning, My name is {name}.\")\n",
    "    \n",
    "\n",
    "@greetings\n",
    "def good_day(name):\n",
    "    \n",
    "    print(f\"Good day sir, My name is {name}.\")"
   ]
  },
  {
   "cell_type": "code",
   "execution_count": 15,
   "metadata": {},
   "outputs": [
    {
     "name": "stdout",
     "output_type": "stream",
     "text": [
      "Welcome!\n",
      "Good morning, My name is Toygar.\n",
      "See you later\n"
     ]
    }
   ],
   "source": [
    "guten_morgen(\"Toygar\")"
   ]
  },
  {
   "cell_type": "code",
   "execution_count": 16,
   "metadata": {},
   "outputs": [
    {
     "name": "stdout",
     "output_type": "stream",
     "text": [
      "Welcome!\n",
      "Good day sir, My name is Toygar.\n",
      "See you later\n"
     ]
    }
   ],
   "source": [
    "good_day(\"Toygar\")"
   ]
  },
  {
   "cell_type": "markdown",
   "metadata": {},
   "source": [
    "Decorator Parametreleri"
   ]
  },
  {
   "cell_type": "code",
   "execution_count": 44,
   "metadata": {},
   "outputs": [],
   "source": [
    "def double(fn):\n",
    "    def wrapper(*args, **kwargs):  #parametre olarak değişken sayıda argumnet veya keyword bekleyelim\n",
    "        fn(*args, **kwargs)\n",
    "        return fn(*args, **kwargs) \n",
    "        \n",
    "    return wrapper\n",
    "\n",
    "@double\n",
    "def hi():\n",
    "    print(\"hi\")\n",
    "\n",
    "@double\n",
    "def hello(name):\n",
    "    print(f\"hello, {name}\")\n",
    "\n",
    "@double\n",
    "def g_day():\n",
    "    return \"Good day to you, Sir\"\n"
   ]
  },
  {
   "cell_type": "code",
   "execution_count": 45,
   "metadata": {},
   "outputs": [
    {
     "name": "stdout",
     "output_type": "stream",
     "text": [
      "hi\n",
      "hi\n"
     ]
    }
   ],
   "source": [
    "hi()"
   ]
  },
  {
   "cell_type": "code",
   "execution_count": 46,
   "metadata": {},
   "outputs": [
    {
     "name": "stdout",
     "output_type": "stream",
     "text": [
      "hello, Toygar\n",
      "hello, Toygar\n"
     ]
    }
   ],
   "source": [
    "hello(\"Toygar\")"
   ]
  },
  {
   "cell_type": "code",
   "execution_count": 47,
   "metadata": {},
   "outputs": [
    {
     "data": {
      "text/plain": [
       "'Good day to you, Sir'"
      ]
     },
     "execution_count": 47,
     "metadata": {},
     "output_type": "execute_result"
    }
   ],
   "source": [
    "g_day()"
   ]
  },
  {
   "cell_type": "markdown",
   "metadata": {},
   "source": [
    "DECORATOR UYGULAMA : HIZ TESTİ"
   ]
  },
  {
   "cell_type": "code",
   "execution_count": 55,
   "metadata": {},
   "outputs": [],
   "source": [
    "import time\n",
    "\n",
    "def time_it(fn):\n",
    "    def wrapper(*args, **kwargs):\n",
    "        #start = time.time()\n",
    "        start = time. perf_counter()\n",
    "        print(f\"{fn.__name__} fonksiyonu çalışıyor.\")\n",
    "\n",
    "        result = fn(*args, **kwargs)\n",
    "\n",
    "        end = time.perf_counter()\n",
    "        total_run_time = end - start\n",
    "        print(f\"İşlem Süresi: {total_run_time}\")\n",
    "        return result\n",
    "            \n",
    "              \n",
    "    return wrapper\n",
    "\n",
    "\n",
    "@time_it\n",
    "def sum_gen():\n",
    "    return sum((x for x in range(100000000)))\n",
    "\n",
    "@time_it\n",
    "def sum_list():\n",
    "    return sum([x for x in range(100000000)])\n"
   ]
  },
  {
   "cell_type": "code",
   "execution_count": 56,
   "metadata": {},
   "outputs": [
    {
     "name": "stdout",
     "output_type": "stream",
     "text": [
      "sum_gen fonksiyonu çalışıyor.\n",
      "İşlem Süresi: 1.7252380290001383\n"
     ]
    },
    {
     "data": {
      "text/plain": [
       "4999999950000000"
      ]
     },
     "execution_count": 56,
     "metadata": {},
     "output_type": "execute_result"
    }
   ],
   "source": [
    "sum_gen()"
   ]
  },
  {
   "cell_type": "code",
   "execution_count": 57,
   "metadata": {},
   "outputs": [
    {
     "name": "stdout",
     "output_type": "stream",
     "text": [
      "sum_list fonksiyonu çalışıyor.\n",
      "İşlem Süresi: 2.7375209209994864\n"
     ]
    },
    {
     "data": {
      "text/plain": [
       "4999999950000000"
      ]
     },
     "execution_count": 57,
     "metadata": {},
     "output_type": "execute_result"
    }
   ],
   "source": [
    "sum_list()"
   ]
  },
  {
   "cell_type": "markdown",
   "metadata": {},
   "source": [
    "DECORATOR FONKA DIŞARIDAN NASIL PARAMETRE GÖNDERİRİZ"
   ]
  },
  {
   "cell_type": "code",
   "execution_count": 59,
   "metadata": {},
   "outputs": [],
   "source": [
    "def deco_gre_count(count):\n",
    "\n",
    "    def greetings(fn):\n",
    "        def wrapper(name):\n",
    "            print(\"Welcome!\")\n",
    "            for _ in range(count):\n",
    "                fn(name)\n",
    "            print(\"See you later\")\n",
    "\n",
    "        return wrapper\n",
    "    return greetings\n",
    "\n",
    "\n",
    "@deco_gre_count(count=2)\n",
    "def guten_morgen(name):\n",
    "    \n",
    "    print(f\"Good morning, My name is {name}.\")\n",
    "    \n",
    "\n",
    "@deco_gre_count(count=3)\n",
    "def good_day(name):\n",
    "    \n",
    "    print(f\"Good day sir, My name is {name}.\")"
   ]
  },
  {
   "cell_type": "code",
   "execution_count": 61,
   "metadata": {},
   "outputs": [
    {
     "name": "stdout",
     "output_type": "stream",
     "text": [
      "Welcome!\n",
      "Good morning, My name is Toygar.\n",
      "Good morning, My name is Toygar.\n",
      "See you later\n"
     ]
    }
   ],
   "source": [
    "guten_morgen(\"Toygar\")"
   ]
  },
  {
   "cell_type": "code",
   "execution_count": 62,
   "metadata": {},
   "outputs": [
    {
     "name": "stdout",
     "output_type": "stream",
     "text": [
      "Welcome!\n",
      "Good day sir, My name is Toygar.\n",
      "Good day sir, My name is Toygar.\n",
      "Good day sir, My name is Toygar.\n",
      "See you later\n"
     ]
    }
   ],
   "source": [
    "good_day(\"Toygar\")"
   ]
  },
  {
   "cell_type": "code",
   "execution_count": 66,
   "metadata": {},
   "outputs": [],
   "source": [
    "#uygulamayı dinamik hale getirelim:\n",
    "\n",
    "import time\n",
    "\n",
    "def speed_test(count):\n",
    "    def time_it(fn):\n",
    "        def wrapper(*args, **kwargs):\n",
    "            #start = time.time()\n",
    "            start = time. perf_counter()\n",
    "            print(f\"{fn.__name__} fonksiyonu çalışıyor.\")\n",
    "\n",
    "\n",
    "            for _ in range(count):\n",
    "                result = fn(*args, **kwargs)\n",
    "\n",
    "                end = time.perf_counter()\n",
    "                total_run_time = end - start\n",
    "                print(f\"İşlem Süresi: {total_run_time}\")\n",
    "\n",
    "            return result                \n",
    "                \n",
    "        return wrapper\n",
    "    \n",
    "    return time_it\n",
    "\n",
    "\n",
    "@speed_test(count=2)\n",
    "def sum_gen():\n",
    "    return sum((x for x in range(10000000)))\n",
    "\n",
    "@speed_test(count=3)\n",
    "def sum_list():\n",
    "    return sum([x for x in range(10000000)])"
   ]
  },
  {
   "cell_type": "code",
   "execution_count": 67,
   "metadata": {},
   "outputs": [
    {
     "name": "stdout",
     "output_type": "stream",
     "text": [
      "sum_gen fonksiyonu çalışıyor.\n",
      "İşlem Süresi: 0.21100713399937376\n",
      "İşlem Süresi: 0.42592319899995346\n"
     ]
    },
    {
     "data": {
      "text/plain": [
       "49999995000000"
      ]
     },
     "execution_count": 67,
     "metadata": {},
     "output_type": "execute_result"
    }
   ],
   "source": [
    "sum_gen()"
   ]
  },
  {
   "cell_type": "code",
   "execution_count": 68,
   "metadata": {},
   "outputs": [
    {
     "name": "stdout",
     "output_type": "stream",
     "text": [
      "sum_list fonksiyonu çalışıyor.\n",
      "İşlem Süresi: 0.3450463490007678\n",
      "İşlem Süresi: 0.686784790999809\n",
      "İşlem Süresi: 0.9784216070002003\n"
     ]
    },
    {
     "data": {
      "text/plain": [
       "49999995000000"
      ]
     },
     "execution_count": 68,
     "metadata": {},
     "output_type": "execute_result"
    }
   ],
   "source": [
    "sum_list()"
   ]
  },
  {
   "cell_type": "code",
   "execution_count": 42,
   "metadata": {},
   "outputs": [],
   "source": [
    "import time, sys\n",
    "#force = list if sys.version_info[0] == 3 else (lambda X: X)\n",
    "\n",
    "\n",
    "class time_it:\n",
    "    def __init__(self, fn):\n",
    "        self.fn = fn\n",
    "        self.time = 0\n",
    "\n",
    "    def __call__(self, *args,**kwargs):\n",
    "        start = time.time()\n",
    "        result = self.fn(*args, **kwargs)\n",
    "        runtime = time.time() - start\n",
    "        self.time += runtime\n",
    "        print(f\"FN Name:{self.fn.__name__}, Runtime:{runtime}, Total Runtimes:{self.time}\")\n",
    "        return result\n"
   ]
  },
  {
   "cell_type": "code",
   "execution_count": 43,
   "metadata": {},
   "outputs": [],
   "source": [
    "@time_it\n",
    "def sum_gen(num):\n",
    "    return sum((x for x in range(num)))\n",
    "\n",
    "@time_it\n",
    "def sum_list(num):\n",
    "    return sum([x for x in range(num)])"
   ]
  },
  {
   "cell_type": "code",
   "execution_count": 30,
   "metadata": {},
   "outputs": [
    {
     "name": "stdout",
     "output_type": "stream",
     "text": [
      "FN Name:sum_gen, Runtime:0.2092597484588623, Total Runtimes:0.2092597484588623\n"
     ]
    },
    {
     "data": {
      "text/plain": [
       "49999995000000"
      ]
     },
     "execution_count": 30,
     "metadata": {},
     "output_type": "execute_result"
    }
   ],
   "source": [
    "sum_gen(10000000)"
   ]
  },
  {
   "cell_type": "code",
   "execution_count": 31,
   "metadata": {},
   "outputs": [
    {
     "name": "stdout",
     "output_type": "stream",
     "text": [
      "FN Name:sum_list, Runtime:0.34249329566955566, Total Runtimes:0.34249329566955566\n"
     ]
    },
    {
     "data": {
      "text/plain": [
       "49999995000000"
      ]
     },
     "execution_count": 31,
     "metadata": {},
     "output_type": "execute_result"
    }
   ],
   "source": [
    "sum_list(10000000)"
   ]
  },
  {
   "cell_type": "code",
   "execution_count": 45,
   "metadata": {},
   "outputs": [
    {
     "name": "stdout",
     "output_type": "stream",
     "text": [
      "FN Name:sum_gen, Runtime:2.3126602172851562e-05, Total Runtimes:1.7364308834075928\n",
      "FN Name:sum_gen, Runtime:0.0022830963134765625, Total Runtimes:1.7387139797210693\n",
      "FN Name:sum_gen, Runtime:2.010544538497925, Total Runtimes:3.749258518218994\n"
     ]
    },
    {
     "data": {
      "text/plain": [
       "3.749258518218994"
      ]
     },
     "execution_count": 45,
     "metadata": {},
     "output_type": "execute_result"
    }
   ],
   "source": [
    "sum_gen(1000)\n",
    "sum_gen(100000)\n",
    "sum_gen(100000000)\n",
    "sum_gen.time"
   ]
  },
  {
   "cell_type": "code",
   "execution_count": 46,
   "metadata": {},
   "outputs": [
    {
     "name": "stdout",
     "output_type": "stream",
     "text": [
      "FN Name:sum_list, Runtime:2.3365020751953125e-05, Total Runtimes:2.3365020751953125e-05\n",
      "FN Name:sum_list, Runtime:0.002441883087158203, Total Runtimes:0.0024652481079101562\n",
      "FN Name:sum_list, Runtime:2.7713708877563477, Total Runtimes:2.773836135864258\n"
     ]
    },
    {
     "data": {
      "text/plain": [
       "2.773836135864258"
      ]
     },
     "execution_count": 46,
     "metadata": {},
     "output_type": "execute_result"
    }
   ],
   "source": [
    "sum_list(1000)\n",
    "sum_list(100000)\n",
    "sum_list(100000000)\n",
    "sum_list.time"
   ]
  },
  {
   "cell_type": "code",
   "execution_count": 86,
   "metadata": {},
   "outputs": [],
   "source": [
    "# The following defines and applies a function decorator that counts the number of calls made to the decorated function and prints a trace message for each call:\n",
    "\n",
    "class tracker:\n",
    "    def __init__(self, func):\n",
    "        self.calls = 0\n",
    "        self.func = func\n",
    "\n",
    "    def __call__(self, *args):\n",
    "        self.calls += 1\n",
    "        print(\"call #{} to {}\".format(self.calls, self.func.__name__))\n",
    "        self.func(*args)\n",
    "\n",
    "\n",
    "\n",
    "@tracker\n",
    "def toplam(x ,y, z):\n",
    "    print(x + y + z)"
   ]
  },
  {
   "cell_type": "code",
   "execution_count": 87,
   "metadata": {},
   "outputs": [
    {
     "name": "stdout",
     "output_type": "stream",
     "text": [
      "call #1 to toplam\n",
      "6\n"
     ]
    }
   ],
   "source": [
    "toplam(1,2,3) # # Really calls the tracer wrapper object,  Invokes __call__ in class"
   ]
  },
  {
   "cell_type": "code",
   "execution_count": 88,
   "metadata": {},
   "outputs": [
    {
     "name": "stdout",
     "output_type": "stream",
     "text": [
      "call #2 to toplam\n",
      "ABC\n"
     ]
    }
   ],
   "source": [
    "toplam(\"A\", \"B\", \"C\")"
   ]
  },
  {
   "cell_type": "code",
   "execution_count": 89,
   "metadata": {},
   "outputs": [
    {
     "data": {
      "text/plain": [
       "2"
      ]
     },
     "execution_count": 89,
     "metadata": {},
     "output_type": "execute_result"
    }
   ],
   "source": [
    "toplam.calls  ## Number calls in wrapper state information"
   ]
  },
  {
   "cell_type": "code",
   "execution_count": 90,
   "metadata": {},
   "outputs": [
    {
     "data": {
      "text/plain": [
       "<__main__.tracker at 0x75231bf36db0>"
      ]
     },
     "execution_count": 90,
     "metadata": {},
     "output_type": "execute_result"
    }
   ],
   "source": [
    "toplam"
   ]
  },
  {
   "cell_type": "code",
   "execution_count": 94,
   "metadata": {},
   "outputs": [],
   "source": [
    "#func call -nondecorator\n",
    "\n",
    "calls = 0\n",
    "def tracker_fn(fn, *args):\n",
    "    global calls\n",
    "    calls += 1\n",
    "    print(\"call #{} to {}\".format(calls, fn.__name__))\n",
    "    fn(*args)\n",
    "\n",
    "def mul(a, b, c):\n",
    "    print(a * b * c)"
   ]
  },
  {
   "cell_type": "code",
   "execution_count": 95,
   "metadata": {},
   "outputs": [
    {
     "name": "stdout",
     "output_type": "stream",
     "text": [
      "24\n"
     ]
    }
   ],
   "source": [
    "mul(2,3,4)"
   ]
  },
  {
   "cell_type": "code",
   "execution_count": 96,
   "metadata": {},
   "outputs": [
    {
     "name": "stdout",
     "output_type": "stream",
     "text": [
      "call #1 to mul\n",
      "24\n"
     ]
    }
   ],
   "source": [
    "tracker_fn(mul, 2, 3, 4)"
   ]
  },
  {
   "cell_type": "code",
   "execution_count": 101,
   "metadata": {},
   "outputs": [],
   "source": [
    "#returns the wrapped function’s result\n",
    "\n",
    "class tracker:\n",
    "    def __init__(self, func):\n",
    "        self.calls = 0\n",
    "        self.func = func\n",
    "\n",
    "    def __call__(self, *args, **kwargs):\n",
    "        self.calls += 1\n",
    "        print(\"call #{} to {}\".format(self.calls, self.func.__name__))\n",
    "        return self.func(*args, **kwargs)\n",
    "    \n",
    "\n",
    "@tracker\n",
    "def toplam(x ,y, z):            # same as fn = tracker(fn), triggers tracker.__init__, wrap fn in a tracker object \n",
    "    print(x + y + z)\n",
    "\n",
    "@tracker\n",
    "def mul(a, b):\n",
    "    print(a * b)\n",
    "\n",
    "@tracker\n",
    "def expo(a, b):\n",
    "    print(a ** b)\n",
    "\n"
   ]
  },
  {
   "cell_type": "code",
   "execution_count": 102,
   "metadata": {},
   "outputs": [
    {
     "name": "stdout",
     "output_type": "stream",
     "text": [
      "call #1 to toplam\n",
      "6\n"
     ]
    }
   ],
   "source": [
    "toplam(1,2,3)  # Really calls tracker instance: runs tracker.__call__, self.fn is toplam , toplam is an instance attribute "
   ]
  },
  {
   "cell_type": "code",
   "execution_count": 103,
   "metadata": {},
   "outputs": [
    {
     "name": "stdout",
     "output_type": "stream",
     "text": [
      "call #1 to mul\n",
      "28\n"
     ]
    }
   ],
   "source": [
    "mul(a= 4, b = 7) # self.calls is per-decoration here"
   ]
  },
  {
   "cell_type": "code",
   "execution_count": 104,
   "metadata": {},
   "outputs": [
    {
     "name": "stdout",
     "output_type": "stream",
     "text": [
      "call #2 to mul\n",
      "49\n"
     ]
    }
   ],
   "source": [
    "mul(7,7)"
   ]
  },
  {
   "cell_type": "code",
   "execution_count": 105,
   "metadata": {},
   "outputs": [
    {
     "name": "stdout",
     "output_type": "stream",
     "text": [
      "call #1 to expo\n",
      "16\n"
     ]
    }
   ],
   "source": [
    "expo(2, b=4)"
   ]
  },
  {
   "cell_type": "code",
   "execution_count": 109,
   "metadata": {},
   "outputs": [],
   "source": [
    "#Closure functions—with enclosing def scope references and nested defs\n",
    "\n",
    "calls = 0  \n",
    "def tracker_closure(fn):\n",
    "    def wrapper(*args, **kwargs):\n",
    "        global calls            # # Global calls is not per-decoration here!\n",
    "        calls +=1\n",
    "        print(\"call #{} to {}\".format(calls, fn.__name__))\n",
    "        return fn(*args, **kwargs)\n",
    "    return wrapper\n",
    "\n",
    "@tracker_closure\n",
    "def toplam(x ,y, z):            # really calls wrapper, assigned to toplam, wrapper calls toplam\n",
    "    print(x + y + z)\n",
    "\n",
    "@tracker_closure\n",
    "def mul(a, b):\n",
    "    print(a * b)\n",
    "\n",
    "@tracker_closure\n",
    "def expo(a, b):\n",
    "    print(a ** b)"
   ]
  },
  {
   "cell_type": "code",
   "execution_count": 110,
   "metadata": {},
   "outputs": [
    {
     "name": "stdout",
     "output_type": "stream",
     "text": [
      "call #1 to toplam\n",
      "6\n"
     ]
    }
   ],
   "source": [
    "toplam(1,2,3)"
   ]
  },
  {
   "cell_type": "code",
   "execution_count": null,
   "metadata": {},
   "outputs": [
    {
     "name": "stdout",
     "output_type": "stream",
     "text": [
      "call #2 to mul\n",
      "40\n"
     ]
    }
   ],
   "source": [
    "mul(a= 5, b = 8) #cals wrapper, assigned to mul"
   ]
  },
  {
   "cell_type": "code",
   "execution_count": 112,
   "metadata": {},
   "outputs": [
    {
     "name": "stdout",
     "output_type": "stream",
     "text": [
      "call #3 to expo\n",
      "243\n"
     ]
    }
   ],
   "source": [
    "expo(3, b=5)"
   ]
  },
  {
   "cell_type": "code",
   "execution_count": null,
   "metadata": {},
   "outputs": [],
   "source": [
    "#enclosing scopes and nonlocals \n",
    "def tracker_closure(fn):\n",
    "    calls = 0            #move calls variable to enclosing function scope\n",
    "    def wrapper(*args, **kwargs):\n",
    "        nonlocal calls   # nonlocal calls is per-decoration here!, allows enclosing function scope variables to be changed,\n",
    "        calls +=1\n",
    "        print(\"call #{} to {}\".format(calls, fn.__name__))\n",
    "        return fn(*args, **kwargs)\n",
    "    return wrapper\n",
    "\n",
    "@tracker_closure\n",
    "def toplam(x ,y, z):     # really calls wrapper, assigned to toplam, wrapper calls toplam\n",
    "    print(x + y + z)\n",
    "\n",
    "@tracker_closure\n",
    "def mul(a, b):\n",
    "    print(a * b)\n",
    "\n",
    "@tracker_closure\n",
    "def expo(a, b):\n",
    "    print(a ** b)"
   ]
  },
  {
   "cell_type": "code",
   "execution_count": 115,
   "metadata": {},
   "outputs": [
    {
     "name": "stdout",
     "output_type": "stream",
     "text": [
      "call #1 to toplam\n",
      "24\n"
     ]
    }
   ],
   "source": [
    "toplam(7,8,9)"
   ]
  },
  {
   "cell_type": "code",
   "execution_count": 116,
   "metadata": {},
   "outputs": [
    {
     "name": "stdout",
     "output_type": "stream",
     "text": [
      "call #2 to toplam\n",
      "6\n"
     ]
    }
   ],
   "source": [
    "toplam(1,2,3)"
   ]
  },
  {
   "cell_type": "code",
   "execution_count": 117,
   "metadata": {},
   "outputs": [
    {
     "name": "stdout",
     "output_type": "stream",
     "text": [
      "call #1 to expo\n",
      "15625\n"
     ]
    }
   ],
   "source": [
    "expo(5,6)"
   ]
  },
  {
   "cell_type": "code",
   "execution_count": 118,
   "metadata": {},
   "outputs": [
    {
     "name": "stdout",
     "output_type": "stream",
     "text": [
      "call #1 to mul\n",
      "12\n"
     ]
    }
   ],
   "source": [
    "mul(3,4)"
   ]
  },
  {
   "cell_type": "code",
   "execution_count": 133,
   "metadata": {},
   "outputs": [],
   "source": [
    "# making use of function attributes for some changeable state\n",
    "\n",
    "\n",
    "def tracker_fnattr(fn):     #State via enclosing scope and func attr,  calls is per-function, not global\n",
    "    \n",
    "    def wrapper(*args, **kwargs):\n",
    "        wrapper.calls +=1   # wrapper.calls _is_ per-decoration here\n",
    "        print(\"call #{} to {}\".format(wrapper.calls, fn.__name__))\n",
    "        return fn(*args, **kwargs)\n",
    "    wrapper.calls = 0\n",
    "    return wrapper\n",
    "\n",
    "@tracker_fnattr\n",
    "def toplam(x ,y, z):       # really calls wrapper, assigned to toplam, wrapper calls toplam\n",
    "    print(x + y + z)\n",
    "\n",
    "@tracker_fnattr\n",
    "def mul(a, b):\n",
    "    print(a * b)\n",
    "\n",
    "@tracker_fnattr\n",
    "def expo(a, b):\n",
    "    print(a ** b)\n"
   ]
  },
  {
   "cell_type": "code",
   "execution_count": 134,
   "metadata": {},
   "outputs": [
    {
     "name": "stdout",
     "output_type": "stream",
     "text": [
      "call #1 to toplam\n",
      "6\n"
     ]
    }
   ],
   "source": [
    "toplam(1,2,3)"
   ]
  },
  {
   "cell_type": "markdown",
   "metadata": {},
   "source": [
    "\n",
    "Using nested funcs to decorate methods work on both simple funcs and class-level methods\n",
    "\n",
    "func decorator as nested defs"
   ]
  },
  {
   "cell_type": "code",
   "execution_count": 3,
   "metadata": {},
   "outputs": [],
   "source": [
    "#using nested funcs to decorate methods work on both simple funcs and class-level methods\n",
    "def tracker_nested(fn):\n",
    "    calls = 0            #move calls variable to enclosing function scope\n",
    "    def wrapper(*args, **kwargs):\n",
    "        nonlocal calls   # nonlocal calls is per-decoration here!, allows enclosing function scope variables to be changed,\n",
    "        calls +=1\n",
    "        print(\"call #{} to {}\".format(calls, fn.__name__))\n",
    "        return fn(*args, **kwargs)\n",
    "    return wrapper\n",
    "\n",
    "\n",
    "\n",
    "if __name__ == '__main__': #indented the file’s self-test code under a __name__ test so the decorator can be imported and used elsewhere.\n",
    "\n",
    "    @tracker_nested\n",
    "    def toplam(x ,y, z):     # really calls wrapper, assigned to toplam, wrapper calls toplam\n",
    "        print(x + y + z)\n",
    "\n",
    "    @tracker_nested\n",
    "    def mul(a, b):\n",
    "        print(a * b)\n",
    "\n",
    "    @tracker_nested\n",
    "    def expo(a, b):\n",
    "        print(a ** b)\n",
    "\n",
    "\n",
    "\n",
    "    # Applies to class-level method functions too!\n",
    "    class Person:\n",
    "        def __init__(self, name, pay):\n",
    "            self.name = name\n",
    "            self.pay = pay\n",
    "\n",
    "        @tracker_nested\n",
    "        def giveRaise(self, percent):\n",
    "            self.pay *= (1.0 + percent)   \n",
    "\n",
    "\n",
    "        @tracker_nested\n",
    "        def lastName(self):\n",
    "            return self.name.split()[-1]"
   ]
  },
  {
   "cell_type": "code",
   "execution_count": 4,
   "metadata": {},
   "outputs": [
    {
     "name": "stdout",
     "output_type": "stream",
     "text": [
      "methods...\n",
      "Bob Smith Sue Jones\n",
      "call #1 to giveRaise\n",
      "110000\n",
      "call #1 to lastName\n",
      "call #2 to lastName\n",
      "Smith Jones\n"
     ]
    }
   ],
   "source": [
    "print('methods...')\n",
    "bob = Person('Bob Smith', 50000)\n",
    "sue = Person('Sue Jones', 100000)\n",
    "print(bob.name, sue.name)\n",
    "sue.giveRaise(.10)\n",
    "print(int(sue.pay))\n",
    "print(bob.lastName(), sue.lastName())"
   ]
  },
  {
   "cell_type": "code",
   "execution_count": null,
   "metadata": {},
   "outputs": [],
   "source": [
    "# a descriptor  used for a class-level method\n",
    "\n",
    "class tracker:\n",
    "    \n",
    "    def __init__(self, fn):\n",
    "        self.calls = 0\n",
    "        self.fn = fn\n",
    "\n",
    "    def __call__(self, *args, **kwargs):\n",
    "        self.calls +=1\n",
    "        print(\"Call #{} to {}\".format(self.calls, self.fn.__name__))\n",
    "        return self.fn(*args, **kwargs)\n",
    "    \n",
    "    #checks if the decorated function is being called as a method of a class (like Person.giveRaise)\n",
    "    def __get__(self, instance, owner):  #triggered when an attribute is accessed from an instance, On method attribute fetch\n",
    "        return wrapper(self, instance)   #pass self (the tracker instance) and instance (the instance of the class calling the method) to wrapper\n",
    "    \n",
    "\n",
    "\n",
    "class wrapper:  #holds a reference to both the tracer instance (the decorator) and the instance of the class calling it.(like Person)\n",
    "    \n",
    "    def __init__(self, descriptor, subject): #descriptor is the tracer instance that decorates the function, and subject is the instance of the class \n",
    "        self.descriptor = descriptor\n",
    "        self.subject =subject\n",
    "\n",
    "    def __call__(self, *args, **kwargs): #calling the tracker's __call__ method with the class instance self.subject as the first argument.\n",
    "        return self.descriptor(self.subject, *args, **kwargs)\n",
    "    \n",
    "\n",
    "\n",
    "\n",
    "\n",
    "@tracker\n",
    "def toplam(x ,y, z):     # really calls wrapper, assigned to toplam, wrapper calls toplam\n",
    "    print(x + y + z)\n",
    "\n",
    "@tracker\n",
    "def mul(a, b):\n",
    "    print(a * b)\n",
    "\n",
    "@tracker\n",
    "def expo(a, b):\n",
    "    print(a ** b)\n",
    "\n",
    "\n",
    "\n",
    "# Applies to class-level method functions too!\n",
    "class Person:\n",
    "    def __init__(self, name, pay):\n",
    "        self.name = name\n",
    "        self.pay = pay\n",
    "\n",
    "    @tracker\n",
    "    def giveRaise(self, percent):\n",
    "        self.pay *= (1.0 + percent)   \n",
    "\n",
    "\n",
    "    @tracker\n",
    "    def lastName(self):\n",
    "            return self.name.split()[-1]\n",
    "\n"
   ]
  },
  {
   "cell_type": "code",
   "execution_count": null,
   "metadata": {},
   "outputs": [
    {
     "name": "stdout",
     "output_type": "stream",
     "text": [
      "methods...\n",
      "Bob Smith Sue Jones\n",
      "Call #1 to giveRaise\n",
      "110000\n",
      "Call #1 to lastName\n",
      "Call #2 to lastName\n",
      "Smith Jones\n"
     ]
    }
   ],
   "source": [
    "# Test the functionality\n",
    "\n",
    "print('methods...')\n",
    "bob = Person('Bob Smith', 50000)\n",
    "sue = Person('Sue Jones', 100000)\n",
    "print(bob.name, sue.name)\n",
    "sue.giveRaise(.10)\n",
    "print(int(sue.pay))\n",
    "print(bob.lastName(), sue.lastName())"
   ]
  },
  {
   "cell_type": "code",
   "execution_count": 22,
   "metadata": {},
   "outputs": [],
   "source": [
    "#use an alternative nested fntion and enclosing scope references to achieve the same effect\n",
    "\n",
    "class tracer(object):\n",
    "    def __init__(self, fn):\n",
    "        # On @ decorator\n",
    "        self.calls = 0\n",
    "        # Save fn for later call\n",
    "        self.fn = fn\n",
    "        \n",
    "        def __call__(self, *args, **kwargs):\n",
    "            # On call to original fn\n",
    "            self.calls += 1\n",
    "            print('call %s to %s' % (self.calls, self.fn.__name__))\n",
    "            return self.fn(*args, **kwargs)\n",
    "\n",
    "        def __get__(self, instance, owner):\n",
    "            # On method fetch\n",
    "            def wrapper(*args, **kwargs):\n",
    "                # Retain both inst\n",
    "                return self(instance, *args, **kwargs)\n",
    "            # Runs __call__\n",
    "            return wrapper"
   ]
  },
  {
   "cell_type": "code",
   "execution_count": 23,
   "metadata": {},
   "outputs": [
    {
     "name": "stdout",
     "output_type": "stream",
     "text": [
      "methods...\n",
      "Bob Smith Sue Jones\n",
      "Call #6 to giveRaise\n",
      "110000\n",
      "Call #11 to lastName\n",
      "Call #12 to lastName\n",
      "Smith Jones\n"
     ]
    }
   ],
   "source": [
    "# Test the functionality\n",
    "\n",
    "print('methods...')\n",
    "bob = Person('Bob Smith', 50000)\n",
    "sue = Person('Sue Jones', 100000)\n",
    "print(bob.name, sue.name)\n",
    "sue.giveRaise(.10)\n",
    "print(int(sue.pay))\n",
    "print(bob.lastName(), sue.lastName())"
   ]
  },
  {
   "cell_type": "code",
   "execution_count": null,
   "metadata": {},
   "outputs": [],
   "source": []
  }
 ],
 "metadata": {
  "kernelspec": {
   "display_name": "base",
   "language": "python",
   "name": "python3"
  },
  "language_info": {
   "codemirror_mode": {
    "name": "ipython",
    "version": 3
   },
   "file_extension": ".py",
   "mimetype": "text/x-python",
   "name": "python",
   "nbconvert_exporter": "python",
   "pygments_lexer": "ipython3",
   "version": "3.12.7"
  }
 },
 "nbformat": 4,
 "nbformat_minor": 2
}
