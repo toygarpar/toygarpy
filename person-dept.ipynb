{
 "cells": [
  {
   "cell_type": "code",
   "execution_count": 5,
   "metadata": {},
   "outputs": [],
   "source": [
    "class Person:   #start a class\n",
    "    #initializaition - Constructor takes three arguments, self is the new instance object\n",
    "    def __init__(self, name, job =  None, pay : float = 0 ): #In OO terms, self is the newly created instance object, and name, job, and pay become state information—descriptive data saved on an object for later use.\n",
    "        self.name = name\n",
    "        self.job = job\n",
    "        self.pay = pay\n",
    "        \n",
    "\n",
    "    def lname(self):\n",
    "        return self.name.split()[-1]\n",
    "\n",
    "    def fname(self):\n",
    "        return self.name.split()[0]\n",
    "\n",
    "    def giveRaise(self, percent):\n",
    "        self.pay = self.pay * (1 + percent)\n",
    "\n",
    "    def __repr__(self):\n",
    "        return \"Person: [{} {}, {:,.2f}]\".format(self.fname(), self.lname(), self.pay)\n",
    "\n",
    "\n",
    "class Manager(Person):\n",
    "\n",
    "    #redefine constructor for subclass by running original with \"Müdür\"\n",
    "    def __init__(self, name, pay):\n",
    "        #super().__init__(name, pay)\n",
    "        #Person.__init__(self, name, \"Manager\", pay)\n",
    "        self.person = Person(name, \"Manager\", pay)\n",
    "    \n",
    "\n",
    "\n",
    "\n",
    "\n",
    "    #bad way\n",
    "    # def giveRaise(self, percent, bonus = .10):\n",
    "    #     self.pay = self.pay *(1 + percent + bonus)\n",
    "\n",
    "    def giveRaise(self, percent, bonus = .10):   #instance.method(args..) translated to class.method(instance, args....)\n",
    "        self.person.giveRaise( percent + bonus)  #call Person's version of giveRaise()\n",
    "\n",
    "\n",
    "    def __getattr__(self, attr):\n",
    "        return getattr(self.person, attr)\n",
    "    \n",
    "    def __repr__(self):\n",
    "        return str(self.person)\n",
    "\n",
    "\n",
    "\n",
    "# Aggregate embedded objects into a composite\n",
    "class Department:\n",
    "    def __init__(self, *args):\n",
    "        self.members = list(args)\n",
    "\n",
    "    def addMember(self, person):\n",
    "        self.members.append(person)\n",
    "\n",
    "    def giveRaises(self, percent):\n",
    "        for person in self.members:\n",
    "            person.giveRaise(percent)\n",
    "\n",
    "    def listAll(self):\n",
    "        for person in self.members:\n",
    "            print(person)"
   ]
  },
  {
   "cell_type": "code",
   "execution_count": 6,
   "metadata": {},
   "outputs": [],
   "source": [
    "if __name__ == \"__main__\":\n",
    "    toygar = Person(\"Toygar Par\")\n",
    "    besen = Person(\"Besen Par\", job = \"Anne\", pay = 1000000)\n",
    "    taco = Manager(\"Taco Par\", 75000)\n"
   ]
  },
  {
   "cell_type": "code",
   "execution_count": 7,
   "metadata": {},
   "outputs": [
    {
     "name": "stdout",
     "output_type": "stream",
     "text": [
      "Person: [Toygar Par, 0.00]\n",
      "Person: [Besen Par, 1,100,000.00]\n",
      "Person: [Taco Par, 90,000.00]\n"
     ]
    }
   ],
   "source": [
    "dev = Department(toygar, besen)\n",
    "dev.addMember(taco)\n",
    "dev.giveRaises(.10)\n",
    "dev.listAll()"
   ]
  },
  {
   "cell_type": "code",
   "execution_count": null,
   "metadata": {},
   "outputs": [
    {
     "data": {
      "text/plain": [
       "__main__.Manager"
      ]
     },
     "execution_count": 12,
     "metadata": {},
     "output_type": "execute_result"
    }
   ],
   "source": [
    "taco.__class__  #.__class__ attribute provides a link from an instance to the class from which it was created. "
   ]
  },
  {
   "cell_type": "code",
   "execution_count": null,
   "metadata": {},
   "outputs": [
    {
     "data": {
      "text/plain": [
       "(__main__.Person,)"
      ]
     },
     "execution_count": 14,
     "metadata": {},
     "output_type": "execute_result"
    }
   ],
   "source": [
    "Manager.__bases__ # sequence that provides access to superclasses."
   ]
  },
  {
   "cell_type": "code",
   "execution_count": 15,
   "metadata": {},
   "outputs": [
    {
     "data": {
      "text/plain": [
       "{'person': Person: [Taco Par, 90,000.00]}"
      ]
     },
     "execution_count": 15,
     "metadata": {},
     "output_type": "execute_result"
    }
   ],
   "source": [
    "taco.__dict__  # provides a dictionary with one key/value pair for every attribute attached to a namespace object (including modules, classes, and instances)."
   ]
  },
  {
   "cell_type": "code",
   "execution_count": 16,
   "metadata": {},
   "outputs": [
    {
     "data": {
      "text/plain": [
       "'Manager'"
      ]
     },
     "execution_count": 16,
     "metadata": {},
     "output_type": "execute_result"
    }
   ],
   "source": [
    "taco.__class__.__name__"
   ]
  },
  {
   "cell_type": "code",
   "execution_count": null,
   "metadata": {},
   "outputs": [
    {
     "data": {
      "text/plain": [
       "Person: [Taco Par, 90,000.00]"
      ]
     },
     "execution_count": 17,
     "metadata": {},
     "output_type": "execute_result"
    }
   ],
   "source": [
    "taco  # Show taco's __repr__ (not __str__)"
   ]
  },
  {
   "cell_type": "code",
   "execution_count": null,
   "metadata": {},
   "outputs": [
    {
     "name": "stdout",
     "output_type": "stream",
     "text": [
      "Person: [Taco Par, 90,000.00]\n"
     ]
    }
   ],
   "source": [
    "print(taco)  #print => __str__ or __repr__"
   ]
  },
  {
   "cell_type": "code",
   "execution_count": null,
   "metadata": {},
   "outputs": [
    {
     "data": {
      "text/plain": [
       "['person']"
      ]
     },
     "execution_count": 20,
     "metadata": {},
     "output_type": "execute_result"
    }
   ],
   "source": [
    "list(taco.__dict__.keys()) # # Attributes are really dict keys"
   ]
  },
  {
   "cell_type": "code",
   "execution_count": 21,
   "metadata": {},
   "outputs": [
    {
     "data": {
      "text/plain": [
       "[Person: [Taco Par, 90,000.00]]"
      ]
     },
     "execution_count": 21,
     "metadata": {},
     "output_type": "execute_result"
    }
   ],
   "source": [
    "list(taco.__dict__.values()) "
   ]
  },
  {
   "cell_type": "code",
   "execution_count": 22,
   "metadata": {},
   "outputs": [
    {
     "data": {
      "text/plain": [
       "[('person', Person: [Taco Par, 90,000.00])]"
      ]
     },
     "execution_count": 22,
     "metadata": {},
     "output_type": "execute_result"
    }
   ],
   "source": [
    "list(taco.__dict__.items()) "
   ]
  },
  {
   "cell_type": "code",
   "execution_count": 24,
   "metadata": {},
   "outputs": [
    {
     "name": "stdout",
     "output_type": "stream",
     "text": [
      "person Person: [Taco Par, 90,000.00]\n"
     ]
    }
   ],
   "source": [
    "for key, value in taco.__dict__.items():\n",
    "    print(key, value)"
   ]
  },
  {
   "cell_type": "code",
   "execution_count": 25,
   "metadata": {},
   "outputs": [
    {
     "data": {
      "text/plain": [
       "['name', 'job', 'pay']"
      ]
     },
     "execution_count": 25,
     "metadata": {},
     "output_type": "execute_result"
    }
   ],
   "source": [
    "list(toygar.__dict__.keys()) "
   ]
  },
  {
   "cell_type": "code",
   "execution_count": 29,
   "metadata": {},
   "outputs": [
    {
     "data": {
      "text/plain": [
       "['Toygar Par', None, 0.0]"
      ]
     },
     "execution_count": 29,
     "metadata": {},
     "output_type": "execute_result"
    }
   ],
   "source": [
    "list(toygar.__dict__.values()) "
   ]
  },
  {
   "cell_type": "code",
   "execution_count": 30,
   "metadata": {},
   "outputs": [
    {
     "name": "stdout",
     "output_type": "stream",
     "text": [
      "name --> Toygar Par\n",
      "job --> None\n",
      "pay --> 0.0\n"
     ]
    }
   ],
   "source": [
    "for key, value in toygar.__dict__.items():\n",
    "    print(key,\"-->\", value)"
   ]
  },
  {
   "cell_type": "code",
   "execution_count": 31,
   "metadata": {},
   "outputs": [
    {
     "data": {
      "text/plain": [
       "__main__.Person"
      ]
     },
     "execution_count": 31,
     "metadata": {},
     "output_type": "execute_result"
    }
   ],
   "source": [
    "toygar.__class__"
   ]
  },
  {
   "cell_type": "code",
   "execution_count": 32,
   "metadata": {},
   "outputs": [
    {
     "data": {
      "text/plain": [
       "'Person'"
      ]
     },
     "execution_count": 32,
     "metadata": {},
     "output_type": "execute_result"
    }
   ],
   "source": [
    "toygar.__class__.__name__"
   ]
  },
  {
   "cell_type": "code",
   "execution_count": null,
   "metadata": {},
   "outputs": [],
   "source": []
  }
 ],
 "metadata": {
  "kernelspec": {
   "display_name": "base",
   "language": "python",
   "name": "python3"
  },
  "language_info": {
   "codemirror_mode": {
    "name": "ipython",
    "version": 3
   },
   "file_extension": ".py",
   "mimetype": "text/x-python",
   "name": "python",
   "nbconvert_exporter": "python",
   "pygments_lexer": "ipython3",
   "version": "3.12.7"
  }
 },
 "nbformat": 4,
 "nbformat_minor": 2
}
