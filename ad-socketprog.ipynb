{
 "cells": [
  {
   "cell_type": "markdown",
   "metadata": {},
   "source": [
    "\n",
    "<div style=\"padding:20px; \n",
    "            color:#36FF00;\n",
    "            margin:10px;\n",
    "            font-size:110%;\n",
    "            display:fill;\n",
    "            border-radius:10px;\n",
    "            border-style: solid;\n",
    "            border-color: #36FF00;\n",
    "            background-color:#000000;\n",
    "            overflow:hidden;\n",
    "            font-weight:500\">SOCKET PROGRAMMING\n",
    "            </div>\n",
    "\n",
    "INTERNET - Milyarlarca elektronik cihazın haberleşme amacıyla bağlandığı global ağ sistemi\n",
    "\n",
    "Global ağ sistemine dahil olan cihazları server ve client olarak gruplayabiliriz.\n",
    "\n",
    "Serverler clientlere bilgi servis eder clientler bu bilgileri tüketir.\n",
    "\n",
    "BU cihazlar nasıl birbirlerine bağlanıyıorlar ve iletişim içinde oluyorlar?\n",
    "\n",
    "\n",
    "WAN - Wide Area Network ex. internet\n",
    "\n",
    "LAN - Local Area Network ex. home network\n",
    "\n",
    "IP Adress: Internet ağına bağlı olan cihaza verielen benzersiz kimlik. \n",
    "\n",
    "Modemin internet ağında  aldığı tek IP adresine, public IP adresi denir.\n",
    "Ev ağınıza bağlı olan her cihazın aldığı IP adresine local IP adresi denir.\n",
    "\n",
    "SOCKET\n",
    "\n",
    "A socket is much like a file, except that a single socket provides a two-way connection between two programs. You can both read from and write to the same socket. If you write something to a socket, it is sent to the application at the other end of the socket. If you read from the socket, you are given the data which the other application has sent.\n",
    "\n",
    "HTTP - HyperText Transfer Protocol - makes itasy to make network connecttions and retrieve data over those soeckets\n",
    "\n",
    "\n",
    "A protocol is a set of precise rules that determine who is to go first, what they are to do, and then what the responses are to that message, and who sends next, and so on.\n",
    "\n",
    "Port Address\n",
    "\n",
    "Bir IP adresine sahip bir bilgisayardaki uygulamalar iletişim için farklı port numaraları kullanırlar.\n",
    "\n",
    "Between 0-65535\n",
    "\n",
    "FTP -21, SMTP -25, HTTP 80, HTTPs-443\n",
    "\n",
    "\n",
    "\n",
    "\n",
    "\n",
    "\n",
    "\n"
   ]
  },
  {
   "cell_type": "code",
   "execution_count": null,
   "metadata": {},
   "outputs": [
    {
     "name": "stdout",
     "output_type": "stream",
     "text": [
      "127.0.1.1\n"
     ]
    },
    {
     "ename": "OSError",
     "evalue": "[Errno 98] Address already in use",
     "output_type": "error",
     "traceback": [
      "\u001b[0;31m---------------------------------------------------------------------------\u001b[0m",
      "\u001b[0;31mOSError\u001b[0m                                   Traceback (most recent call last)",
      "Cell \u001b[0;32mIn[6], line 10\u001b[0m\n\u001b[1;32m      7\u001b[0m \u001b[38;5;28mprint\u001b[39m(HOST)\n\u001b[1;32m      8\u001b[0m PORT \u001b[38;5;241m=\u001b[39m \u001b[38;5;241m12345\u001b[39m\n\u001b[0;32m---> 10\u001b[0m server_socket\u001b[38;5;241m.\u001b[39mbind((HOST,PORT))\n\u001b[1;32m     11\u001b[0m server_socket\u001b[38;5;241m.\u001b[39mlisten()\n\u001b[1;32m     12\u001b[0m server_socket\u001b[38;5;241m.\u001b[39mclose()\n",
      "\u001b[0;31mOSError\u001b[0m: [Errno 98] Address already in use"
     ]
    }
   ],
   "source": [
    "import socket\n",
    "\n",
    "server_socket = socket.socket(socket.AF_INET, socket.SOCK_STREAM) #AF_INET - IP4 formatında bir sabiti tanımlıyoruz, SOCK_STREAM - TCP Protocol\n",
    "\n",
    "#HOST = \"127.0.0.1\"\n",
    "HOST = socket.gethostbyname( socket.gethostname() )\n",
    "print(HOST)\n",
    "PORT = 12345\n",
    "\n",
    "server_socket.bind((HOST,PORT))\n",
    "server_socket.listen()\n"
   ]
  },
  {
   "cell_type": "code",
   "execution_count": 4,
   "metadata": {},
   "outputs": [
    {
     "ename": "OSError",
     "evalue": "[Errno 22] Invalid argument",
     "output_type": "error",
     "traceback": [
      "\u001b[0;31m---------------------------------------------------------------------------\u001b[0m",
      "\u001b[0;31mOSError\u001b[0m                                   Traceback (most recent call last)",
      "Cell \u001b[0;32mIn[4], line 2\u001b[0m\n\u001b[1;32m      1\u001b[0m \u001b[38;5;28;01mwhile\u001b[39;00m \u001b[38;5;28;01mTrue\u001b[39;00m:\n\u001b[0;32m----> 2\u001b[0m     client_socket, client_address \u001b[38;5;241m=\u001b[39m server_socket\u001b[38;5;241m.\u001b[39maccept() \u001b[38;5;66;03m#bağlantı kabul etmek için \u001b[39;00m\n\u001b[1;32m      5\u001b[0m     \u001b[38;5;28mprint\u001b[39m(\u001b[38;5;124mf\u001b[39m\u001b[38;5;124m\"\u001b[39m\u001b[38;5;124mBağlantı yapıldı: \u001b[39m\u001b[38;5;132;01m{\u001b[39;00mclient_address\u001b[38;5;132;01m}\u001b[39;00m\u001b[38;5;124m\"\u001b[39m)\n\u001b[1;32m      7\u001b[0m     \u001b[38;5;28mprint\u001b[39m(client_socket, client_address)\n",
      "File \u001b[0;32m~/anaconda3/lib/python3.12/socket.py:295\u001b[0m, in \u001b[0;36msocket.accept\u001b[0;34m(self)\u001b[0m\n\u001b[1;32m    288\u001b[0m \u001b[38;5;28;01mdef\u001b[39;00m \u001b[38;5;21maccept\u001b[39m(\u001b[38;5;28mself\u001b[39m):\n\u001b[1;32m    289\u001b[0m \u001b[38;5;250m    \u001b[39m\u001b[38;5;124;03m\"\"\"accept() -> (socket object, address info)\u001b[39;00m\n\u001b[1;32m    290\u001b[0m \n\u001b[1;32m    291\u001b[0m \u001b[38;5;124;03m    Wait for an incoming connection.  Return a new socket\u001b[39;00m\n\u001b[1;32m    292\u001b[0m \u001b[38;5;124;03m    representing the connection, and the address of the client.\u001b[39;00m\n\u001b[1;32m    293\u001b[0m \u001b[38;5;124;03m    For IP sockets, the address info is a pair (hostaddr, port).\u001b[39;00m\n\u001b[1;32m    294\u001b[0m \u001b[38;5;124;03m    \"\"\"\u001b[39;00m\n\u001b[0;32m--> 295\u001b[0m     fd, addr \u001b[38;5;241m=\u001b[39m \u001b[38;5;28mself\u001b[39m\u001b[38;5;241m.\u001b[39m_accept()\n\u001b[1;32m    296\u001b[0m     sock \u001b[38;5;241m=\u001b[39m socket(\u001b[38;5;28mself\u001b[39m\u001b[38;5;241m.\u001b[39mfamily, \u001b[38;5;28mself\u001b[39m\u001b[38;5;241m.\u001b[39mtype, \u001b[38;5;28mself\u001b[39m\u001b[38;5;241m.\u001b[39mproto, fileno\u001b[38;5;241m=\u001b[39mfd)\n\u001b[1;32m    297\u001b[0m     \u001b[38;5;66;03m# Issue #7995: if no default timeout is set and the listening\u001b[39;00m\n\u001b[1;32m    298\u001b[0m     \u001b[38;5;66;03m# socket had a (non-zero) timeout, force the new socket in blocking\u001b[39;00m\n\u001b[1;32m    299\u001b[0m     \u001b[38;5;66;03m# mode to override platform-specific socket flags inheritance.\u001b[39;00m\n",
      "\u001b[0;31mOSError\u001b[0m: [Errno 22] Invalid argument"
     ]
    }
   ],
   "source": [
    "while True:\n",
    "    client_socket, client_address = server_socket.accept() #bağlantı kabul etmek için \n",
    "\n",
    "\n",
    "    print(f\"Bağlantı yapıldı: {client_address}\")\n",
    "\n",
    "    print(client_socket, client_address)\n",
    "\n",
    "\n",
    "\n",
    "    break"
   ]
  },
  {
   "cell_type": "code",
   "execution_count": null,
   "metadata": {},
   "outputs": [],
   "source": []
  },
  {
   "cell_type": "code",
   "execution_count": null,
   "metadata": {},
   "outputs": [],
   "source": [
    "import socket\n",
    "client_socket =  socket.socket(socket.AF_INET, socket.SOCK_STREAM)\n",
    "\n",
    "HOST = socket.gethostbyname( socket.gethostname() )\n",
    "print(HOST)\n",
    "PORT = 12345\n",
    "\n",
    "client_socket.connect((HOST,PORT))\n"
   ]
  },
  {
   "cell_type": "code",
   "execution_count": null,
   "metadata": {},
   "outputs": [],
   "source": [
    "server_socket.close()\n",
    "client_socket.close()"
   ]
  },
  {
   "cell_type": "code",
   "execution_count": null,
   "metadata": {},
   "outputs": [],
   "source": []
  },
  {
   "cell_type": "code",
   "execution_count": null,
   "metadata": {},
   "outputs": [],
   "source": []
  }
 ],
 "metadata": {
  "kernelspec": {
   "display_name": "base",
   "language": "python",
   "name": "python3"
  },
  "language_info": {
   "codemirror_mode": {
    "name": "ipython",
    "version": 3
   },
   "file_extension": ".py",
   "mimetype": "text/x-python",
   "name": "python",
   "nbconvert_exporter": "python",
   "pygments_lexer": "ipython3",
   "version": "3.12.7"
  }
 },
 "nbformat": 4,
 "nbformat_minor": 2
}
