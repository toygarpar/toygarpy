{
 "cells": [
  {
   "cell_type": "markdown",
   "metadata": {},
   "source": [
    "<div style=\"padding:20px; \n",
    "            color:#36FF00;\n",
    "            margin:10px;\n",
    "            font-size:110%;\n",
    "            display:fill;\n",
    "            border-radius:10px;\n",
    "            border-style: solid;\n",
    "            border-color: #36FF00;\n",
    "            background-color:#000000;\n",
    "            overflow:hidden;\n",
    "            font-weight:500\">CSV FILES\n",
    "            </div>"
   ]
  },
  {
   "cell_type": "code",
   "execution_count": null,
   "metadata": {},
   "outputs": [],
   "source": [
    "CSV - comma separated values "
   ]
  },
  {
   "cell_type": "code",
   "execution_count": null,
   "metadata": {},
   "outputs": [
    {
     "name": "stdout",
     "output_type": "stream",
     "text": [
      "Id, ProductName,Price,IsActive,Category,Rating\n",
      "1, Iphone 13 128 GMb Sİyah,4449,Active,Telefon,5\n",
      "2, Honor 200 512 GB 12 GB Ram, 19999, False, Telefon,4.4\n",
      "3, Xiaomi Redmi Note 13 Pro 512GB 12GB,15599,Active,Telefon,4.3\n",
      "4, Poco C65 256GB 8GB Ram,6999,False,Telefon,4.0\n",
      "5,Samsung Galaxy M34 5G 6GB,8599,True,Telefon,4.5\n",
      "6,Samsun Galaxy A55 256GB 8GB,18259,True,Telefon,4.6\n",
      "7, Iphone 15 128GB Siyah,51999,True,Telefon,4.9\n",
      "8,Dell Inspiron 3520 Intel Core i5 8GB 512 GB Ubuntu,13498,True,Bilgisayar,4.2\n",
      "9,MacBook Pro,100000,True,Bilgisayar,4.8\n",
      "10,MacBook Air,90000,True,Bilgisayar,4.7\n",
      "\n"
     ]
    }
   ],
   "source": [
    "#csv dosyadan bilgi okuma\n",
    "\n",
    "with open(\"urunler.csv\") as file:\n",
    "    print(file.read())"
   ]
  },
  {
   "cell_type": "code",
   "execution_count": 2,
   "metadata": {},
   "outputs": [],
   "source": [
    "import csv"
   ]
  },
  {
   "cell_type": "code",
   "execution_count": 21,
   "metadata": {},
   "outputs": [
    {
     "name": "stdout",
     "output_type": "stream",
     "text": [
      "<_csv.reader object at 0x7e3a9d5a0510>\n",
      "[['Id', ' ProductName', 'Price', 'IsActive', 'Category', 'Rating'], ['1', ' Iphone 13 128 GMb Sİyah', '4449', 'Active', 'Telefon', '5'], ['2', ' Honor 200 512 GB 12 GB Ram', ' 19999', ' False', ' Telefon', '4.4'], ['3', ' Xiaomi Redmi Note 13 Pro 512GB 12GB', '15599', 'Active', 'Telefon', '4.3'], ['4', ' Poco C65 256GB 8GB Ram', '6999', 'False', 'Telefon', '4.0'], ['5', 'Samsung Galaxy M34 5G 6GB', '8599', 'True', 'Telefon', '4.5'], ['6', 'Samsun Galaxy A55 256GB 8GB', '18259', 'True', 'Telefon', '4.6'], ['7', ' Iphone 15 128GB Siyah', '51999', 'True', 'Telefon', '4.9'], ['8', 'Dell Inspiron 3520 Intel Core i5 8GB 512 GB Ubuntu', '13498', 'True', 'Bilgisayar', '4.2'], ['9', 'MacBook Pro', '100000', 'True', 'Bilgisayar', '4.8'], ['10', 'MacBook Air', '90000', 'True', 'Bilgisayar', '4.7']]\n"
     ]
    }
   ],
   "source": [
    "#liste içersinde her satır bir liste olarak getiriliyor\n",
    "\n",
    "with open(\"urunler.csv\") as file:\n",
    "    csv_reader = csv.reader(file)\n",
    "    print(csv_reader)\n",
    "    liste = list(csv_reader)\n",
    "    print(liste)"
   ]
  },
  {
   "cell_type": "code",
   "execution_count": 19,
   "metadata": {},
   "outputs": [
    {
     "name": "stdout",
     "output_type": "stream",
     "text": [
      "[['Id', ' ProductName', 'Price', 'IsActive', 'Category', 'Rating'], ['1', ' Iphone 13 128 GMb Sİyah', '4449', 'Active', 'Telefon', '5'], ['2', ' Honor 200 512 GB 12 GB Ram', ' 19999', ' False', ' Telefon', '4.4'], ['3', ' Xiaomi Redmi Note 13 Pro 512GB 12GB', '15599', 'Active', 'Telefon', '4.3'], ['4', ' Poco C65 256GB 8GB Ram', '6999', 'False', 'Telefon', '4.0'], ['5', 'Samsung Galaxy M34 5G 6GB', '8599', 'True', 'Telefon', '4.5'], ['6', 'Samsun Galaxy A55 256GB 8GB', '18259', 'True', 'Telefon', '4.6'], ['7', ' Iphone 15 128GB Siyah', '51999', 'True', 'Telefon', '4.9'], ['8', 'Dell Inspiron 3520 Intel Core i5 8GB 512 GB Ubuntu', '13498', 'True', 'Bilgisayar', '4.2'], ['9', 'MacBook Pro', '100000', 'True', 'Bilgisayar', '4.8'], ['10', 'MacBook Air', '90000', 'True', 'Bilgisayar', '4.7']]\n"
     ]
    }
   ],
   "source": [
    "with open(\"urunler.csv\") as file:\n",
    "    csv_reader = csv.reader(file)\n",
    "    print([x for x in csv_reader])"
   ]
  },
  {
   "cell_type": "code",
   "execution_count": 25,
   "metadata": {},
   "outputs": [
    {
     "name": "stdout",
     "output_type": "stream",
     "text": [
      "<_csv.reader object at 0x7e3a9d5a1f50>\n",
      "['Id', ' ProductName', 'Price', 'IsActive', 'Category', 'Rating']\n"
     ]
    }
   ],
   "source": [
    "with open(\"urunler.csv\") as file:\n",
    "    csv_reader = csv.reader(file)\n",
    "    print(csv_reader)\n",
    "    liste = list(csv_reader)\n",
    "    print(liste[0])"
   ]
  },
  {
   "cell_type": "code",
   "execution_count": 26,
   "metadata": {},
   "outputs": [
    {
     "data": {
      "text/plain": [
       "[['Id', ' ProductName', 'Price', 'IsActive', 'Category', 'Rating'],\n",
       " ['1', ' Iphone 13 128 GMb Sİyah', '4449', 'Active', 'Telefon', '5'],\n",
       " ['2', ' Honor 200 512 GB 12 GB Ram', ' 19999', ' False', ' Telefon', '4.4'],\n",
       " ['3',\n",
       "  ' Xiaomi Redmi Note 13 Pro 512GB 12GB',\n",
       "  '15599',\n",
       "  'Active',\n",
       "  'Telefon',\n",
       "  '4.3'],\n",
       " ['4', ' Poco C65 256GB 8GB Ram', '6999', 'False', 'Telefon', '4.0'],\n",
       " ['5', 'Samsung Galaxy M34 5G 6GB', '8599', 'True', 'Telefon', '4.5'],\n",
       " ['6', 'Samsun Galaxy A55 256GB 8GB', '18259', 'True', 'Telefon', '4.6'],\n",
       " ['7', ' Iphone 15 128GB Siyah', '51999', 'True', 'Telefon', '4.9'],\n",
       " ['8',\n",
       "  'Dell Inspiron 3520 Intel Core i5 8GB 512 GB Ubuntu',\n",
       "  '13498',\n",
       "  'True',\n",
       "  'Bilgisayar',\n",
       "  '4.2'],\n",
       " ['9', 'MacBook Pro', '100000', 'True', 'Bilgisayar', '4.8'],\n",
       " ['10', 'MacBook Air', '90000', 'True', 'Bilgisayar', '4.7']]"
      ]
     },
     "execution_count": 26,
     "metadata": {},
     "output_type": "execute_result"
    }
   ],
   "source": [
    "[x for x in liste]"
   ]
  },
  {
   "cell_type": "code",
   "execution_count": 30,
   "metadata": {},
   "outputs": [
    {
     "name": "stdout",
     "output_type": "stream",
     "text": [
      "Id\n",
      "1\n",
      "2\n",
      "3\n",
      "4\n",
      "5\n",
      "6\n",
      "7\n",
      "8\n",
      "9\n",
      "10\n"
     ]
    }
   ],
   "source": [
    "with open(\"urunler.csv\") as file:\n",
    "    csv_reader = csv.reader(file)\n",
    "\n",
    "\n",
    "    for i in csv_reader:\n",
    "        print(i[0])"
   ]
  },
  {
   "cell_type": "code",
   "execution_count": 31,
   "metadata": {},
   "outputs": [
    {
     "name": "stdout",
     "output_type": "stream",
     "text": [
      "Id\n",
      "1\n",
      "2\n",
      "3\n",
      "4\n",
      "5\n",
      "6\n",
      "7\n",
      "8\n",
      "9\n",
      "10\n"
     ]
    }
   ],
   "source": [
    "for i in liste:\n",
    "    print(i[0])"
   ]
  },
  {
   "cell_type": "code",
   "execution_count": 36,
   "metadata": {},
   "outputs": [
    {
     "name": "stdout",
     "output_type": "stream",
     "text": [
      "1  Iphone 13 128 GMb Sİyah 4449\n",
      "2  Honor 200 512 GB 12 GB Ram  19999\n",
      "3  Xiaomi Redmi Note 13 Pro 512GB 12GB 15599\n",
      "4  Poco C65 256GB 8GB Ram 6999\n",
      "5 Samsung Galaxy M34 5G 6GB 8599\n",
      "6 Samsun Galaxy A55 256GB 8GB 18259\n",
      "7  Iphone 15 128GB Siyah 51999\n",
      "8 Dell Inspiron 3520 Intel Core i5 8GB 512 GB Ubuntu 13498\n",
      "9 MacBook Pro 100000\n",
      "10 MacBook Air 90000\n"
     ]
    }
   ],
   "source": [
    "with open(\"urunler.csv\") as file:\n",
    "    csv_reader1 = csv.reader(file)\n",
    "    next(csv_reader1)\n",
    "    for i in csv_reader1:\n",
    "        print(i[0], i[1], i[2])"
   ]
  },
  {
   "cell_type": "code",
   "execution_count": null,
   "metadata": {},
   "outputs": [
    {
     "data": {
      "text/plain": [
       "[('Id', ' ProductName', 'Price'),\n",
       " ('1', ' Iphone 13 128 GMb Sİyah', '4449'),\n",
       " ('2', ' Honor 200 512 GB 12 GB Ram', ' 19999'),\n",
       " ('3', ' Xiaomi Redmi Note 13 Pro 512GB 12GB', '15599'),\n",
       " ('4', ' Poco C65 256GB 8GB Ram', '6999'),\n",
       " ('5', 'Samsung Galaxy M34 5G 6GB', '8599'),\n",
       " ('6', 'Samsun Galaxy A55 256GB 8GB', '18259'),\n",
       " ('7', ' Iphone 15 128GB Siyah', '51999'),\n",
       " ('8', 'Dell Inspiron 3520 Intel Core i5 8GB 512 GB Ubuntu', '13498'),\n",
       " ('9', 'MacBook Pro', '100000'),\n",
       " ('10', 'MacBook Air', '90000')]"
      ]
     },
     "execution_count": 38,
     "metadata": {},
     "output_type": "execute_result"
    }
   ],
   "source": [
    "#using list comprehension\n",
    "\n",
    "[(x[0], x[1], x[2]) for x in liste]"
   ]
  },
  {
   "cell_type": "code",
   "execution_count": 44,
   "metadata": {},
   "outputs": [
    {
     "name": "stdout",
     "output_type": "stream",
     "text": [
      "[('1', ' Iphone 13 128 GMb Sİyah', '4449'), ('2', ' Honor 200 512 GB 12 GB Ram', ' 19999'), ('3', ' Xiaomi Redmi Note 13 Pro 512GB 12GB', '15599'), ('4', ' Poco C65 256GB 8GB Ram', '6999'), ('5', 'Samsung Galaxy M34 5G 6GB', '8599'), ('6', 'Samsun Galaxy A55 256GB 8GB', '18259'), ('7', ' Iphone 15 128GB Siyah', '51999'), ('8', 'Dell Inspiron 3520 Intel Core i5 8GB 512 GB Ubuntu', '13498'), ('9', 'MacBook Pro', '100000'), ('10', 'MacBook Air', '90000')]\n"
     ]
    }
   ],
   "source": [
    "#tuple in a list\n",
    "\n",
    "with open(\"urunler.csv\") as file:\n",
    "    csv_reader1 = csv.reader(file)\n",
    "    next(csv_reader1)\n",
    "    print([(x[0], x[1], x[2]) for x in csv_reader1])"
   ]
  },
  {
   "cell_type": "code",
   "execution_count": 51,
   "metadata": {},
   "outputs": [
    {
     "name": "stdout",
     "output_type": "stream",
     "text": [
      "id:5, Product Name:Samsung Galaxy M34 5G 6GB,Price: 8599\n",
      "id:6, Product Name:Samsun Galaxy A55 256GB 8GB,Price: 18259\n",
      "id:7, Product Name: Iphone 15 128GB Siyah,Price: 51999\n",
      "id:8, Product Name:Dell Inspiron 3520 Intel Core i5 8GB 512 GB Ubuntu,Price: 13498\n",
      "id:9, Product Name:MacBook Pro,Price: 100000\n",
      "id:10, Product Name:MacBook Air,Price: 90000\n"
     ]
    }
   ],
   "source": [
    "#sadece satışta olan ürünleri bana getir\n",
    "\n",
    "with open(\"urunler.csv\") as file:\n",
    "    csv_reader1 = csv.reader(file)\n",
    "    next(csv_reader1)\n",
    "    for i in csv_reader1:\n",
    "        if i[3] == \"True\": \n",
    "            print(f\"id:{i[0]}, Product Name:{i[1]},Price: {i[2]}\")"
   ]
  },
  {
   "cell_type": "code",
   "execution_count": 50,
   "metadata": {},
   "outputs": [
    {
     "data": {
      "text/plain": [
       "[('5', 'Samsung Galaxy M34 5G 6GB', '8599'),\n",
       " ('6', 'Samsun Galaxy A55 256GB 8GB', '18259'),\n",
       " ('7', ' Iphone 15 128GB Siyah', '51999'),\n",
       " ('8', 'Dell Inspiron 3520 Intel Core i5 8GB 512 GB Ubuntu', '13498'),\n",
       " ('9', 'MacBook Pro', '100000'),\n",
       " ('10', 'MacBook Air', '90000')]"
      ]
     },
     "execution_count": 50,
     "metadata": {},
     "output_type": "execute_result"
    }
   ],
   "source": [
    "[(x[0], x[1], x[2]) for x in liste if x[3] == \"True\"]"
   ]
  },
  {
   "cell_type": "markdown",
   "metadata": {},
   "source": [
    "<code style=\"background:red;color:white\">\n",
    "DictReader\n",
    "</code>"
   ]
  },
  {
   "cell_type": "code",
   "execution_count": null,
   "metadata": {},
   "outputs": [
    {
     "name": "stdout",
     "output_type": "stream",
     "text": [
      "[{'Id': '1', ' ProductName': 'Iphone 13 128 GMb Sİyah', 'Price': '4449', 'IsActive': 'Active', 'Category': 'Telefon', 'Rating': '5'}, {'Id': '2', ' ProductName': 'Honor 200 512 GB 12 GB Ram', 'Price': ' 19999', 'IsActive': ' False', 'Category': ' Telefon', 'Rating': '4.4'}, {'Id': '3', ' ProductName': 'Xiaomi Redmi Note 13 Pro 512GB 12GB', 'Price': '15599', 'IsActive': 'Active', 'Category': 'Telefon', 'Rating': '4.3'}, {'Id': '4', ' ProductName': 'Poco C65 256GB 8GB Ram', 'Price': '6999', 'IsActive': 'False', 'Category': 'Telefon', 'Rating': '4.0'}, {'Id': '5', ' ProductName': 'Samsung Galaxy M34 5G 6GB', 'Price': '8599', 'IsActive': 'True', 'Category': 'Telefon', 'Rating': '4.5'}, {'Id': '6', ' ProductName': 'Samsun Galaxy A55 256GB 8GB', 'Price': '18259', 'IsActive': 'True', 'Category': 'Telefon', 'Rating': '4.6'}, {'Id': '7', ' ProductName': 'Iphone 15 128GB Siyah', 'Price': '51999', 'IsActive': 'True', 'Category': 'Telefon', 'Rating': '4.9'}, {'Id': '8', ' ProductName': 'Dell Inspiron 3520 Intel Core i5 8GB 512 GB Ubuntu', 'Price': '13498', 'IsActive': 'True', 'Category': 'Bilgisayar', 'Rating': '4.2'}, {'Id': '9', ' ProductName': 'MacBook Pro', 'Price': '100000', 'IsActive': 'True', 'Category': 'Bilgisayar', 'Rating': '4.8'}, {'Id': '10', ' ProductName': 'MacBook Air', 'Price': '90000', 'IsActive': 'True', 'Category': 'Bilgisayar', 'Rating': '4.7'}]\n"
     ]
    }
   ],
   "source": [
    "import csv\n",
    "\n",
    "#brings every line as a dict in a list\n",
    "\n",
    "with open(\"urunler.csv\") as file:\n",
    "    csv_reader = csv.DictReader(file)\n",
    "    liste = list(csv_reader)\n",
    "    print(liste)\n"
   ]
  },
  {
   "cell_type": "code",
   "execution_count": null,
   "metadata": {},
   "outputs": [
    {
     "name": "stdout",
     "output_type": "stream",
     "text": [
      "{'Id': '1', ' ProductName': 'Iphone 13 128 GMb Sİyah', 'Price': '4449', 'IsActive': 'Active', 'Category': 'Telefon', 'Rating': '5'}\n",
      "{'Id': '2', ' ProductName': 'Honor 200 512 GB 12 GB Ram', 'Price': ' 19999', 'IsActive': ' False', 'Category': ' Telefon', 'Rating': '4.4'}\n",
      "{'Id': '3', ' ProductName': 'Xiaomi Redmi Note 13 Pro 512GB 12GB', 'Price': '15599', 'IsActive': 'Active', 'Category': 'Telefon', 'Rating': '4.3'}\n",
      "{'Id': '4', ' ProductName': 'Poco C65 256GB 8GB Ram', 'Price': '6999', 'IsActive': 'False', 'Category': 'Telefon', 'Rating': '4.0'}\n",
      "{'Id': '5', ' ProductName': 'Samsung Galaxy M34 5G 6GB', 'Price': '8599', 'IsActive': 'True', 'Category': 'Telefon', 'Rating': '4.5'}\n",
      "{'Id': '6', ' ProductName': 'Samsun Galaxy A55 256GB 8GB', 'Price': '18259', 'IsActive': 'True', 'Category': 'Telefon', 'Rating': '4.6'}\n",
      "{'Id': '7', ' ProductName': 'Iphone 15 128GB Siyah', 'Price': '51999', 'IsActive': 'True', 'Category': 'Telefon', 'Rating': '4.9'}\n",
      "{'Id': '8', ' ProductName': 'Dell Inspiron 3520 Intel Core i5 8GB 512 GB Ubuntu', 'Price': '13498', 'IsActive': 'True', 'Category': 'Bilgisayar', 'Rating': '4.2'}\n",
      "{'Id': '9', ' ProductName': 'MacBook Pro', 'Price': '100000', 'IsActive': 'True', 'Category': 'Bilgisayar', 'Rating': '4.8'}\n",
      "{'Id': '10', ' ProductName': 'MacBook Air', 'Price': '90000', 'IsActive': 'True', 'Category': 'Bilgisayar', 'Rating': '4.7'}\n"
     ]
    }
   ],
   "source": [
    "#satır satır yazdıralım\n",
    "\n",
    "with open(\"urunler.csv\") as file:\n",
    "    csv_reader = csv.DictReader(file)\n",
    "    for x in csv_reader:\n",
    "        print(x)"
   ]
  },
  {
   "cell_type": "code",
   "execution_count": null,
   "metadata": {},
   "outputs": [
    {
     "name": "stdout",
     "output_type": "stream",
     "text": [
      "Iphone 13 128 GMb Sİyah 4449\n",
      "Honor 200 512 GB 12 GB Ram  19999\n",
      "Xiaomi Redmi Note 13 Pro 512GB 12GB 15599\n",
      "Poco C65 256GB 8GB Ram 6999\n",
      "Samsung Galaxy M34 5G 6GB 8599\n",
      "Samsun Galaxy A55 256GB 8GB 18259\n",
      "Iphone 15 128GB Siyah 51999\n",
      "Dell Inspiron 3520 Intel Core i5 8GB 512 GB Ubuntu 13498\n",
      "MacBook Pro 100000\n",
      "MacBook Air 90000\n"
     ]
    }
   ],
   "source": [
    "#sadece urun ve fiyat getirmek istersek\n",
    "\n",
    "with open(\"urunler.csv\") as file:\n",
    "    csv_reader = csv.DictReader(file)\n",
    "    for x in csv_reader:\n",
    "        print(x[\" ProductName\"], x[\"Price\"])"
   ]
  },
  {
   "cell_type": "code",
   "execution_count": 5,
   "metadata": {},
   "outputs": [
    {
     "name": "stdout",
     "output_type": "stream",
     "text": [
      "Iphone 13 128 GMb Sİyah 4449\n",
      "Xiaomi Redmi Note 13 Pro 512GB 12GB 15599\n",
      "Poco C65 256GB 8GB Ram 6999\n",
      "Samsung Galaxy M34 5G 6GB 8599\n",
      "Samsun Galaxy A55 256GB 8GB 18259\n",
      "Iphone 15 128GB Siyah 51999\n"
     ]
    }
   ],
   "source": [
    "with open(\"urunler.csv\") as file:\n",
    "    csv_reader = csv.DictReader(file)\n",
    "    for x in csv_reader:\n",
    "        if x[\"Category\"] == \"Telefon\":\n",
    "            print(x[\" ProductName\"], x[\"Price\"])"
   ]
  },
  {
   "cell_type": "code",
   "execution_count": 11,
   "metadata": {},
   "outputs": [
    {
     "name": "stdout",
     "output_type": "stream",
     "text": [
      "[('Iphone 13 128 GMb Sİyah', '4449'), ('Samsun Galaxy A55 256GB 8GB', '18259'), ('Iphone 15 128GB Siyah', '51999')]\n"
     ]
    }
   ],
   "source": [
    "#hem telefon hem ratingi 4.5'dan büyük olanları getir\n",
    "with open(\"urunler.csv\") as file:\n",
    "    csv_reader = csv.DictReader(file)\n",
    "\n",
    "    print([(x[\" ProductName\"], x[\"Price\"]) for x in csv_reader if x[\"Category\"] == \"Telefon\" and float(x[\"Rating\"]) > 4.5])"
   ]
  },
  {
   "cell_type": "code",
   "execution_count": 12,
   "metadata": {},
   "outputs": [
    {
     "ename": "TypeError",
     "evalue": "'delimiter' is an invalid keyword argument for open()",
     "output_type": "error",
     "traceback": [
      "\u001b[0;31m---------------------------------------------------------------------------\u001b[0m",
      "\u001b[0;31mTypeError\u001b[0m                                 Traceback (most recent call last)",
      "Cell \u001b[0;32mIn[12], line 1\u001b[0m\n\u001b[0;32m----> 1\u001b[0m \u001b[38;5;28;01mwith\u001b[39;00m \u001b[38;5;28mopen\u001b[39m(\u001b[38;5;124m\"\u001b[39m\u001b[38;5;124murunler.csv\u001b[39m\u001b[38;5;124m\"\u001b[39m, delimiter\u001b[38;5;241m=\u001b[39m\u001b[38;5;124m\"\u001b[39m\u001b[38;5;124m|\u001b[39m\u001b[38;5;124m\"\u001b[39m) \u001b[38;5;28;01mas\u001b[39;00m file:  \u001b[38;5;66;03m#eğer comma yerine csv dosyasında bilgileri ayıran | işareti olursa\u001b[39;00m\n\u001b[1;32m      2\u001b[0m     csv_reader \u001b[38;5;241m=\u001b[39m csv\u001b[38;5;241m.\u001b[39mDictReader(file)\n\u001b[1;32m      3\u001b[0m     \u001b[38;5;28;01mfor\u001b[39;00m x \u001b[38;5;129;01min\u001b[39;00m csv_reader:\n",
      "File \u001b[0;32m~/anaconda3/lib/python3.12/site-packages/IPython/core/interactiveshell.py:324\u001b[0m, in \u001b[0;36m_modified_open\u001b[0;34m(file, *args, **kwargs)\u001b[0m\n\u001b[1;32m    317\u001b[0m \u001b[38;5;28;01mif\u001b[39;00m file \u001b[38;5;129;01min\u001b[39;00m {\u001b[38;5;241m0\u001b[39m, \u001b[38;5;241m1\u001b[39m, \u001b[38;5;241m2\u001b[39m}:\n\u001b[1;32m    318\u001b[0m     \u001b[38;5;28;01mraise\u001b[39;00m \u001b[38;5;167;01mValueError\u001b[39;00m(\n\u001b[1;32m    319\u001b[0m         \u001b[38;5;124mf\u001b[39m\u001b[38;5;124m\"\u001b[39m\u001b[38;5;124mIPython won\u001b[39m\u001b[38;5;124m'\u001b[39m\u001b[38;5;124mt let you open fd=\u001b[39m\u001b[38;5;132;01m{\u001b[39;00mfile\u001b[38;5;132;01m}\u001b[39;00m\u001b[38;5;124m by default \u001b[39m\u001b[38;5;124m\"\u001b[39m\n\u001b[1;32m    320\u001b[0m         \u001b[38;5;124m\"\u001b[39m\u001b[38;5;124mas it is likely to crash IPython. If you know what you are doing, \u001b[39m\u001b[38;5;124m\"\u001b[39m\n\u001b[1;32m    321\u001b[0m         \u001b[38;5;124m\"\u001b[39m\u001b[38;5;124myou can use builtins\u001b[39m\u001b[38;5;124m'\u001b[39m\u001b[38;5;124m open.\u001b[39m\u001b[38;5;124m\"\u001b[39m\n\u001b[1;32m    322\u001b[0m     )\n\u001b[0;32m--> 324\u001b[0m \u001b[38;5;28;01mreturn\u001b[39;00m io_open(file, \u001b[38;5;241m*\u001b[39margs, \u001b[38;5;241m*\u001b[39m\u001b[38;5;241m*\u001b[39mkwargs)\n",
      "\u001b[0;31mTypeError\u001b[0m: 'delimiter' is an invalid keyword argument for open()"
     ]
    }
   ],
   "source": [
    "with open(\"urunler.csv\", delimiter=\"|\") as file:  #eğer comma yerine csv dosyasında bilgileri ayıran | işareti olursa\n",
    "    csv_reader = csv.DictReader(file)\n",
    "    for x in csv_reader:\n",
    "        if x[\"Category\"] == \"Telefon\":\n",
    "            print(x[\" ProductName\"], x[\"Price\"])"
   ]
  },
  {
   "cell_type": "markdown",
   "metadata": {},
   "source": [
    "<code style=\"background:#000000;color:#36ff00\">\n",
    "CVS Dosyaya Bilgi Yazma\n",
    "</code>"
   ]
  },
  {
   "cell_type": "code",
   "execution_count": 17,
   "metadata": {},
   "outputs": [],
   "source": [
    "with open(\"arabalar.csv\", \"w\") as file:\n",
    "    csv_writer = csv.writer(file)\n",
    "    csv_writer.writerow([\"Marka\", \"Model\", \"Type\"])\n",
    "    csv_writer.writerow([\"Toyota\", \"Prius\", \"Electric\"])\n",
    "    csv_writer.writerow([\"Nissan\", \"Leaf\", \"Electric\"])\n",
    "\n",
    "\n"
   ]
  },
  {
   "cell_type": "code",
   "execution_count": null,
   "metadata": {},
   "outputs": [],
   "source": [
    "#writerow metodu kullanımı, newline satır aralarında boşluklar varsa yok eder\n",
    "\n",
    "with open(\"arabalar.csv\", \"w\", newline=\"\") as file:\n",
    "    csv_writer = csv.writer(file)\n",
    "    csv_writer.writerow([\"Marka\", \"Model\", \"Type\"])\n",
    "    csv_writer.writerow([\"Toyota\", \"Prius\", \"Electric\"])\n",
    "    csv_writer.writerow([\"Nissan\", \"Leaf\", \"Electric\"])"
   ]
  },
  {
   "cell_type": "code",
   "execution_count": 20,
   "metadata": {},
   "outputs": [],
   "source": [
    "#writerows metodu\n",
    "\n",
    "with open(\"arabalar.csv\", \"w\", newline=\"\") as file:\n",
    "    csv_writer = csv.writer(file)\n",
    "    \n",
    "    csv_writer.writerows([[\"Marka\", \"Model\", \"Type\"],[\"Toyota\", \"Prius\", \"Electric\"],[\"Nissan\", \"Leaf\", \"Electric\"], [\"Chevrolet\", \"Volt\", \"Electric\"]])"
   ]
  },
  {
   "cell_type": "code",
   "execution_count": null,
   "metadata": {},
   "outputs": [],
   "source": [
    "#writer append modda yeni satır eklemek\n",
    "\n",
    "with open(\"arabalar.csv\", \"a\") as file:\n",
    "    csv_writer = csv.writer(file)\n",
    "    csv_writer.writerow([\"Togg\", \"10x\", \"Electric\"])"
   ]
  },
  {
   "cell_type": "code",
   "execution_count": 22,
   "metadata": {},
   "outputs": [],
   "source": [
    "#mevcut dosyadan yeni dosyaya bilgileri aktarmak\n",
    "\n",
    "with open(\"urunler1.csv\") as file:\n",
    "    csv_reader = csv.reader(file) #csv.reader metodundan akış almak\n",
    "    with open(\"yeni_urunler.csv\", \"w\", newline=\"\") as f:\n",
    "        csv_writer =  csv.writer(f)\n",
    "\n",
    "        for urun in csv_reader:\n",
    "            csv_writer.writerow(urun)"
   ]
  },
  {
   "cell_type": "code",
   "execution_count": 23,
   "metadata": {},
   "outputs": [],
   "source": [
    "#mevcut dosyadan yeni dosyaya urun bilgilerini  guncelleyip aktarmak \n",
    "\n",
    "with open(\"urunler1.csv\") as file:\n",
    "    csv_reader = csv.reader(file) #csv.reader metodundan akış almak\n",
    "    with open(\"yeni_urunler.csv\", \"w\", newline=\"\") as f:\n",
    "        csv_writer =  csv.writer(f)\n",
    "\n",
    "        for urun in csv_reader:\n",
    "            csv_writer.writerow([u.upper() for u in urun])"
   ]
  },
  {
   "cell_type": "code",
   "execution_count": 25,
   "metadata": {},
   "outputs": [],
   "source": [
    "#r+ ile açmak:hem okuma hem yazma modunda, bilgileri belleğe alıp fiyata yüzde 20 zam yapmak ve tekrar yazdırmak\n",
    "with open(\"urunler1.csv\", \"r+\") as file:\n",
    "    csv_reader = csv.reader(file) #csv.reader metodundan akış almak\n",
    "    csv_writer = csv.writer(file)\n",
    "\n",
    "    next(csv_reader) #csv_readerı bir alt satıra ilerlet\n",
    "\n",
    "    urunler = [[urun[0], urun[1], float(urun[2])*1.20, urun[3], urun[4], urun[5]] for urun in csv_reader]\n",
    "\n",
    "    file.seek(0)\n",
    "\n",
    "    csv_writer.writerow([\"ID\", \"PRODUCTNAME\",\"PRICE\",\"ISACTIVE\",\"CATEGORY\",\"RATING\"])\n",
    "    csv_writer.writerows(urunler)"
   ]
  },
  {
   "cell_type": "markdown",
   "metadata": {},
   "source": [
    "<code style=\"background:#000000;color:#36ff00\">\n",
    "DictWriter\n",
    "</code>"
   ]
  },
  {
   "cell_type": "code",
   "execution_count": 28,
   "metadata": {},
   "outputs": [],
   "source": [
    "#writeheader metodu\n",
    "\n",
    "with open(\"urunler1.csv\", \"w\") as file:\n",
    "    headers = [\"Id\", \"ProductName\",\"Price\",\"IsActive\",\"Category\",\"Rating\"]\n",
    "\n",
    "    csv_writer = csv.DictWriter(file, headers)\n",
    "    csv_writer.writeheader()"
   ]
  },
  {
   "cell_type": "code",
   "execution_count": 30,
   "metadata": {},
   "outputs": [],
   "source": [
    "with open(\"urunler.csv\") as file:\n",
    "    csv_reader = csv.reader(file) #csv.reader metodundan akış almak\n",
    "    next(csv_reader)\n",
    "    with open(\"urunler1.csv\", \"a\", newline=\"\") as f:\n",
    "        csv_writer =  csv.writer(f)\n",
    "\n",
    "        for urun in csv_reader:\n",
    "            csv_writer.writerow(urun)"
   ]
  },
  {
   "cell_type": "code",
   "execution_count": null,
   "metadata": {},
   "outputs": [],
   "source": [
    "#writerow\n",
    "with open(\"urunler2.csv\", \"w\") as file:\n",
    "    headers = [\"Id\", \"ProductName\",\"Price\",\"IsActive\",\"Category\",\"Rating\"]\n",
    "\n",
    "    csv_writer = csv.DictWriter(file, headers)\n",
    "    csv_writer.writeheader()\n",
    "    csv_writer.writerow({\n",
    "        \"Id\" : 1,\n",
    "        \"ProductName\": \"Huawei Mate 10\",\n",
    "        \"Price\": 5000,\n",
    "        \"IsActive\": True,\n",
    "        \"Category\": \"Telefon\",\n",
    "        \"Rating\": 5.0\n",
    "\n",
    "\n",
    "\n",
    "\n",
    "\n",
    "    })"
   ]
  },
  {
   "cell_type": "code",
   "execution_count": null,
   "metadata": {},
   "outputs": [],
   "source": [
    "#append modunda writerows\n",
    "\n",
    "with open(\"urunler2.csv\", \"a\") as file:\n",
    "    \n",
    "\n",
    "    headers = [\"Id\", \"ProductName\",\"Price\",\"IsActive\",\"Category\",\"Rating\"]\n",
    "\n",
    "    csv_writer = csv.DictWriter(file, headers)\n",
    "    \n",
    "    csv_writer.writerows([\n",
    "        \n",
    "        {\n",
    "        \"Id\" : 2,\n",
    "        \"ProductName\": \"Iphone 16\",\n",
    "        \"Price\": 120000,\n",
    "        \"IsActive\": True,\n",
    "        \"Category\": \"Telefon\",\n",
    "        \"Rating\": 4.9   \n",
    "        },\n",
    "        {\n",
    "        \"Id\" : 3,\n",
    "        \"ProductName\": \"Samsung Flip\",\n",
    "        \"Price\": 70000,\n",
    "        \"IsActive\": True,\n",
    "        \"Category\": \"Telefon\",\n",
    "        \"Rating\": 4.7   \n",
    "        }\n",
    "    \n",
    "    \n",
    "    \n",
    "    \n",
    "    ])"
   ]
  },
  {
   "cell_type": "code",
   "execution_count": 2,
   "metadata": {},
   "outputs": [],
   "source": [
    "import csv\n",
    "\n",
    "def price_with_tax(price):\n",
    "    return float(price) * 1.20\n",
    "\n",
    "with open(\"urunler.csv\") as file:\n",
    "    csv_reader =  csv.DictReader(file)\n",
    "\n",
    "\n",
    "    urunler = list(csv_reader)\n",
    "\n",
    "\n",
    "    \n",
    "\n",
    "\n",
    "    with open(\"urunler3.csv\", \"w\") as file:\n",
    "    \n",
    "\n",
    "        headers = [\"Id\",\"ProductName\",\"Price\",\"IsActive\",\"Category\",\"Rating\"]\n",
    "\n",
    "        csv_writer = csv.DictWriter(file, headers)\n",
    "        csv_writer.writeheader()\n",
    "\n",
    "        for urun in urunler:\n",
    "            csv_writer.writerow({\n",
    "                \"Id\" : urun[\"Id\"],\n",
    "                \"ProductName\": urun[\"ProductName\"],\n",
    "                \"Price\": price_with_tax(urun[\"Price\"]),\n",
    "                \"IsActive\": urun[\"IsActive\"],\n",
    "                \"Category\": urun[\"Category\"],\n",
    "                \"Rating\": urun[\"Rating\"]\n",
    "\n",
    "\n",
    "\n",
    "\n",
    "\n",
    "        })\n",
    "\n",
    "\n",
    "\n",
    "\n",
    "\n",
    "\n",
    "        \n",
    "\n"
   ]
  },
  {
   "cell_type": "code",
   "execution_count": 3,
   "metadata": {},
   "outputs": [
    {
     "name": "stdout",
     "output_type": "stream",
     "text": [
      "CSV Headers: dict_keys(['Id', 'ProductName', 'Price', 'IsActive', 'Category', 'Rating'])\n"
     ]
    }
   ],
   "source": [
    "#code to Check if the column names match exactly\n",
    "\n",
    "import csv\n",
    "\n",
    "def price_with_tax(price):\n",
    "    return float(price) * 1.20\n",
    "\n",
    "with open(\"urunler.csv\") as file:\n",
    "    csv_reader = csv.DictReader(file)\n",
    "    urunler = list(csv_reader)\n",
    "\n",
    "    # Print keys from the first row to verify the headers\n",
    "    if urunler:\n",
    "        print(\"CSV Headers:\", urunler[0].keys())\n",
    "\n",
    "    with open(\"urunler3.csv\", \"w\") as file:\n",
    "        headers = [\"Id\", \"ProductName\", \"Price\", \"IsActive\", \"Category\", \"Rating\"]\n",
    "        csv_writer = csv.DictWriter(file, headers)\n",
    "        csv_writer.writeheader()\n",
    "\n",
    "        for urun in urunler:\n",
    "            try:\n",
    "                csv_writer.writerow({\n",
    "                    \"Id\": urun[\"Id\"],\n",
    "                    \"ProductName\": urun[\"ProductName\"],\n",
    "                    \"Price\": price_with_tax(urun[\"Price\"]),\n",
    "                    \"IsActive\": urun[\"IsActive\"],\n",
    "                    \"Category\": urun[\"Category\"],\n",
    "                    \"Rating\": urun[\"Rating\"]\n",
    "                })\n",
    "            except KeyError as e:\n",
    "                print(f\"KeyError: {e} - Check if the column names match exactly.\")\n"
   ]
  },
  {
   "cell_type": "markdown",
   "metadata": {},
   "source": [
    "\n",
    "<code style=\"background:yellow;color:red\">Uygulama</code>"
   ]
  },
  {
   "cell_type": "markdown",
   "metadata": {},
   "source": [
    "#onlinefoods.csv - online food siparişi veren kaç kişi var"
   ]
  },
  {
   "cell_type": "code",
   "execution_count": 5,
   "metadata": {},
   "outputs": [
    {
     "name": "stdout",
     "output_type": "stream",
     "text": [
      "388\n"
     ]
    }
   ],
   "source": [
    "import csv\n",
    "\n",
    "with open(\"onlinefoods.csv\") as file:\n",
    "    csv_reader = csv.reader(file)\n",
    "\n",
    "    liste = list(csv_reader)\n",
    "\n",
    "    print(len(liste)-1)  #len(liste) - 1 kolon başlıklarını toplamdan çıkarmak için \n"
   ]
  },
  {
   "cell_type": "code",
   "execution_count": 13,
   "metadata": {},
   "outputs": [
    {
     "name": "stdout",
     "output_type": "stream",
     "text": [
      "207\n",
      "['20', 'Female', 'Single', 'Student', 'No Income', 'Post Graduate', '4', '12.9766', '77.5993', '560001', 'Yes', 'Positive', 'Yes']\n",
      "['24', 'Female', 'Single', 'Student', 'Below Rs.10000', 'Graduate', '3', '12.977', '77.5773', '560009', 'Yes', 'Positive', 'Yes']\n",
      "['22', 'Male', 'Single', 'Student', 'Below Rs.10000', 'Post Graduate', '3', '12.9551', '77.6593', '560017', 'Yes', 'Negative ', 'Yes']\n",
      "['22', 'Female', 'Single', 'Student', 'No Income', 'Graduate', '6', '12.9473', '77.5616', '560019', 'Yes', 'Positive', 'Yes']\n",
      "['22', 'Male', 'Single', 'Student', 'Below Rs.10000', 'Post Graduate', '4', '12.985', '77.5533', '560010', 'Yes', 'Positive', 'Yes']\n",
      "['22', 'Male', 'Single', 'Student', 'No Income', 'Graduate', '3', '12.977', '77.5773', '560009', 'Yes', 'Positive', 'Yes']\n",
      "['24', 'Female', 'Single', 'Student', 'No Income', 'Post Graduate', '3', '12.9828', '77.6131', '560042', 'Yes', 'Positive', 'Yes']\n",
      "['23', 'Female', 'Single', 'Student', 'No Income', 'Post Graduate', '2', '12.9766', '77.5993', '560001', 'Yes', 'Positive', 'Yes']\n",
      "['23', 'Female', 'Single', 'Student', 'No Income', 'Post Graduate', '4', '12.9854', '77.7081', '560048', 'Yes', 'Positive', 'Yes']\n",
      "['22', 'Female', 'Single', 'Student', 'No Income', 'Post Graduate', '5', '12.985', '77.5533', '560010', 'Yes', 'Positive', 'Yes']\n",
      "['23', 'Male', 'Single', 'Student', 'Below Rs.10000', 'Post Graduate', '2', '12.977', '77.5773', '560009', 'Yes', 'Negative ', 'Yes']\n",
      "['23', 'Male', 'Single', 'Student', 'No Income', 'Post Graduate', '5', '12.8988', '77.5764', '560078', 'Yes', 'Positive', 'Yes']\n",
      "['21', 'Male', 'Single', 'Student', 'No Income', 'Graduate', '4', '12.977', '77.5773', '560009', 'Yes', 'Positive', 'Yes']\n",
      "['24', 'Female', 'Single', 'Student', 'No Income', 'Post Graduate', '6', '12.8893', '77.6399', '560068', 'Yes', 'Positive', 'Yes']\n",
      "['23', 'Female', 'Single', 'Student', 'No Income', 'Graduate', '3', '12.982', '77.6256', '560008', 'Yes', 'Negative ', 'Yes']\n",
      "['25', 'Male', 'Single', 'Student', 'No Income', 'Graduate', '4', '12.8988', '77.5764', '560078', 'Yes', 'Negative ', 'Yes']\n",
      "['21', 'Female', 'Single', 'Student', 'Below Rs.10000', 'Post Graduate', '1', '12.9783', '77.6408', '560038', 'Yes', 'Positive', 'Yes']\n",
      "['24', 'Male', 'Single', 'Student', 'No Income', 'Post Graduate', '3', '12.977', '77.5773', '560009', 'Yes', 'Positive', 'Yes']\n",
      "['22', 'Male', 'Single', 'Student', 'No Income', 'Post Graduate', '4', '13.0298', '77.6047', '560032', 'Yes', 'Positive', 'Yes']\n",
      "['22', 'Female', 'Single', 'Student', 'No Income', 'Graduate', '4', '12.9983', '77.6409', '560033', 'Yes', 'Positive', 'Yes']\n",
      "['23', 'Male', 'Single', 'Student', 'No Income', 'Graduate', '4', '12.9925', '77.5633', '560021', 'Yes', 'Positive', 'Yes']\n",
      "['21', 'Male', 'Single', 'Student', 'Below Rs.10000', 'Post Graduate', '3', '12.9306', '77.5434', '560085', 'Yes', 'Positive', 'Yes']\n",
      "['25', 'Male', 'Single', 'Student', 'No Income', 'Post Graduate', '3', '12.982', '77.6256', '560008', 'Yes', 'Positive', 'Yes']\n",
      "['22', 'Female', 'Single', 'Student', 'No Income', 'Post Graduate', '5', '12.9353', '77.5585', '560050', 'Yes', 'Positive', 'Yes']\n",
      "['22', 'Male', 'Single', 'Student', 'No Income', 'Post Graduate', '3', '12.9155', '77.5135', '560098', 'Yes', 'Positive', 'Yes']\n",
      "['22', 'Male', 'Single', 'Student', 'Below Rs.10000', 'Post Graduate', '4', '13.0019', '77.5713', '560003', 'Yes', 'Positive', 'Yes']\n",
      "['22', 'Male', 'Single', 'Student', 'No Income', 'Post Graduate', '4', '12.9783', '77.6408', '560038', 'Yes', 'Positive', 'Yes']\n",
      "['22', 'Female', 'Single', 'Student', '10001 to 25000', 'Post Graduate', '5', '12.985', '77.5533', '560010', 'Yes', 'Positive', 'Yes']\n",
      "['22', 'Female', 'Single', 'Student', 'No Income', 'Post Graduate', '2', '12.9119', '77.6446', '560102', 'Yes', 'Positive', 'Yes']\n",
      "['25', 'Male', 'Single', 'Student', '10001 to 25000', 'Post Graduate', '3', '12.9306', '77.5434', '560085', 'Yes', 'Positive', 'Yes']\n",
      "['25', 'Male', 'Single', 'Student', 'No Income', 'Post Graduate', '5', '12.977', '77.5773', '560009', 'No', 'Positive', 'No']\n",
      "['23', 'Female', 'Single', 'Student', 'No Income', 'Post Graduate', '3', '12.9438', '77.5738', '560004', 'Yes', 'Positive', 'Yes']\n",
      "['23', 'Female', 'Single', 'Student', 'No Income', 'Post Graduate', '4', '12.8988', '77.5764', '560078', 'Yes', 'Positive', 'Yes']\n",
      "['23', 'Male', 'Single', 'Student', 'No Income', 'Graduate', '3', '12.9565', '77.5484', '560026', 'Yes', 'Positive', 'Yes']\n",
      "['23', 'Male', 'Single', 'Student', 'No Income', 'Post Graduate', '4', '12.9925', '77.5633', '560021', 'Yes', 'Positive', 'Yes']\n",
      "['22', 'Female', 'Single', 'Student', 'No Income', 'Post Graduate', '5', '12.985', '77.5533', '560010', 'Yes', 'Positive', 'Yes']\n",
      "['22', 'Male', 'Single', 'Student', 'No Income', 'Graduate', '5', '12.985', '77.5533', '560010', 'Yes', 'Positive', 'Yes']\n",
      "['24', 'Female', 'Single', 'Student', 'No Income', 'Post Graduate', '3', '12.977', '77.5773', '560009', 'Yes', 'Positive', 'Yes']\n",
      "['23', 'Male', 'Single', 'Student', 'No Income', 'Post Graduate', '2', '12.977', '77.5773', '560009', 'Yes', 'Positive', 'Yes']\n",
      "['23', 'Female', 'Single', 'Student', 'No Income', 'Graduate', '3', '12.982', '77.6256', '560008', 'Yes', 'Negative ', 'Yes']\n",
      "['22', 'Female', 'Single', 'Student', '10001 to 25000', 'Post Graduate', '5', '12.985', '77.5533', '560010', 'Yes', 'Positive', 'Yes']\n",
      "['23', 'Female', 'Single', 'Student', 'No Income', 'Graduate', '5', '13.0206', '77.6479', '560043', 'Yes', 'Positive', 'Yes']\n",
      "['23', 'Female', 'Single', 'Student', 'No Income', 'Post Graduate', '2', '12.977', '77.5773', '560009', 'Yes', 'Positive', 'Yes']\n",
      "['24', 'Male', 'Single', 'Student', 'No Income', 'Post Graduate', '3', '12.977', '77.5773', '560009', 'Yes', 'Positive', 'Yes']\n",
      "['25', 'Male', 'Single', 'Student', 'No Income', 'Post Graduate', '2', '12.9635', '77.5821', '560002', 'Yes', 'Positive', 'Yes']\n",
      "['22', 'Male', 'Single', 'Student', 'No Income', 'Post Graduate', '3', '12.9306', '77.5434', '560085', 'Yes', 'Positive', 'Yes']\n",
      "['28', 'Female', 'Married', 'Student', 'No Income', 'Graduate', '2', '13.0067', '77.545', '560086', 'Yes', 'Positive', 'Yes']\n",
      "['22', 'Female', 'Single', 'Student', 'No Income', 'Post Graduate', '1', '12.8845', '77.6036', '560076', 'Yes', 'Positive', 'Yes']\n",
      "['24', 'Female', 'Single', 'Student', 'No Income', 'Graduate', '3', '12.977', '77.5773', '560009', 'Yes', 'Positive', 'Yes']\n",
      "['25', 'Male', 'Single', 'Student', 'No Income', 'Post Graduate', '4', '13.0067', '77.545', '560086', 'Yes', 'Positive', 'Yes']\n",
      "['23', 'Male', 'Single', 'Student', 'No Income', 'Post Graduate', '5', '12.8988', '77.5764', '560078', 'Yes', 'Positive', 'Yes']\n",
      "['22', 'Male', 'Single', 'Student', 'No Income', 'Post Graduate', '3', '12.8845', '77.6036', '560076', 'Yes', 'Positive', 'Yes']\n",
      "['23', 'Male', 'Single', 'Student', '25001 to 50000', 'Post Graduate', '1', '13.0158', '77.539', '560096', 'Yes', 'Positive', 'Yes']\n",
      "['23', 'Male', 'Single', 'Student', 'No Income', 'Graduate', '4', '12.9343', '77.6044', '560029', 'Yes', 'Positive', 'Yes']\n",
      "['23', 'Female', 'Single', 'Student', 'No Income', 'Post Graduate', '2', '13.0019', '77.5713', '560003', 'Yes', 'Positive', 'Yes']\n",
      "['25', 'Male', 'Single', 'Student', 'No Income', 'Post Graduate', '6', '13.0012', '77.5995', '560046', 'Yes', 'Positive', 'Yes']\n",
      "['23', 'Female', 'Single', 'Student', 'No Income', 'Post Graduate', '4', '13.0487', '77.5923', '560024', 'Yes', 'Positive', 'Yes']\n",
      "['23', 'Female', 'Single', 'Student', 'No Income', 'Post Graduate', '4', '13.0487', '77.5923', '560024', 'Yes', 'Positive', 'Yes']\n",
      "['22', 'Male', 'Single', 'Student', 'No Income', 'Graduate', '4', '12.9889', '77.5741', '560020', 'Yes', 'Positive', 'Yes']\n",
      "['24', 'Female', 'Single', 'Student', '10001 to 25000', 'Post Graduate', '3', '12.9335', '77.5691', '560028', 'No', 'Positive', 'No']\n",
      "['25', 'Female', 'Single', 'Student', 'No Income', 'Post Graduate', '3', '12.9766', '77.5993', '560001', 'Yes', 'Positive', 'Yes']\n",
      "['23', 'Male', 'Single', 'Student', 'No Income', 'Post Graduate', '2', '12.8845', '77.6036', '560076', 'Yes', 'Positive', 'Yes']\n",
      "['26', 'Male', 'Single', 'Student', 'No Income', 'Post Graduate', '4', '13.0019', '77.5713', '560003', 'Yes', 'Positive', 'Yes']\n",
      "['24', 'Female', 'Single', 'Student', '25001 to 50000', 'Post Graduate', '3', '13.102', '77.5864', '560064', 'Yes', 'Positive', 'Yes']\n",
      "['26', 'Male', 'Single', 'Student', 'No Income', 'Post Graduate', '4', '12.9048', '77.6821', '560036', 'Yes', 'Positive', 'Yes']\n",
      "['21', 'Male', 'Single', 'Student', 'No Income', 'Graduate', '4', '12.977', '77.5773', '560009', 'Yes', 'Positive', 'Yes']\n",
      "['22', 'Female', 'Single', 'Student', 'No Income', 'Post Graduate', '3', '12.977', '77.5773', '560009', 'Yes', 'Positive', 'Yes']\n",
      "['24', 'Male', 'Single', 'Student', 'No Income', 'Post Graduate', '5', '12.9337', '77.59', '560011', 'Yes', 'Positive', 'Yes']\n",
      "['24', 'Male', 'Single', 'Student', '10001 to 25000', 'Post Graduate', '4', '12.9037', '77.5376', '560061', 'Yes', 'Positive', 'Yes']\n",
      "['23', 'Female', 'Single', 'Student', 'No Income', 'Post Graduate', '3', '12.977', '77.5773', '560009', 'Yes', 'Positive', 'Yes']\n",
      "['23', 'Male', 'Single', 'Student', 'No Income', 'Post Graduate', '3', '12.9343', '77.6044', '560029', 'Yes', 'Positive', 'Yes']\n",
      "['22', 'Male', 'Single', 'Student', 'No Income', 'Post Graduate', '3', '12.9438', '77.5738', '560004', 'Yes', 'Positive', 'Yes']\n",
      "['23', 'Male', 'Single', 'Student', 'No Income', 'Post Graduate', '3', '12.977', '77.5773', '560009', 'Yes', 'Positive', 'Yes']\n",
      "['24', 'Female', 'Single', 'Student', 'No Income', 'Post Graduate', '4', '12.9783', '77.6408', '560038', 'Yes', 'Positive', 'Yes']\n",
      "['24', 'Male', 'Single', 'Student', 'No Income', 'Post Graduate', '5', '12.9337', '77.59', '560011', 'Yes', 'Positive', 'Yes']\n",
      "['25', 'Male', 'Single', 'Student', 'No Income', 'Graduate', '1', '12.977', '77.5773', '560009', 'Yes', 'Positive', 'Yes']\n",
      "['25', 'Male', 'Single', 'Student', 'No Income', 'Post Graduate', '5', '12.977', '77.5773', '560009', 'No', 'Positive', 'No']\n",
      "['22', 'Male', 'Single', 'Student', 'No Income', 'Post Graduate', '2', '12.977', '77.5773', '560009', 'Yes', 'Positive', 'Yes']\n",
      "['24', 'Female', 'Single', 'Student', 'No Income', 'Post Graduate', '3', '12.977', '77.5773', '560009', 'Yes', 'Positive', 'Yes']\n",
      "['23', 'Male', 'Single', 'Student', 'No Income', 'Post Graduate', '1', '12.9561', '77.5921', '560027', 'Yes', 'Positive', 'Yes']\n",
      "['25', 'Male', 'Single', 'Student', 'No Income', 'Graduate', '1', '12.977', '77.5773', '560009', 'Yes', 'Positive', 'Yes']\n",
      "['23', 'Female', 'Single', 'Student', 'No Income', 'Graduate', '5', '13.0206', '77.6479', '560043', 'Yes', 'Positive', 'Yes']\n",
      "['23', 'Female', 'Single', 'Student', 'No Income', 'Graduate', '5', '13.0206', '77.6479', '560043', 'Yes', 'Positive', 'Yes']\n",
      "['24', 'Female', 'Single', 'Student', '10001 to 25000', 'Post Graduate', '3', '12.9335', '77.5691', '560028', 'No', 'Positive', 'No']\n",
      "['23', 'Male', 'Single', 'Student', 'No Income', 'Post Graduate', '2', '12.9442', '77.6076', '560030', 'Yes', 'Positive', 'Yes']\n",
      "['24', 'Female', 'Single', 'Student', 'No Income', 'Ph.D', '3', '12.9438', '77.5738', '560004', 'Yes', 'Positive', 'Yes']\n",
      "['25', 'Male', 'Single', 'Student', 'No Income', 'Post Graduate', '1', '12.9343', '77.6044', '560029', 'Yes', 'Positive', 'Yes']\n",
      "['18', 'Male', 'Single', 'Student', 'No Income', 'Graduate', '5', '12.9635', '77.5821', '560002', 'Yes', 'Positive', 'Yes']\n",
      "['21', 'Male', 'Single', 'Student', 'No Income', 'Post Graduate', '4', '12.977', '77.5773', '560009', 'Yes', 'Positive', 'Yes']\n",
      "['25', 'Male', 'Single', 'Student', 'No Income', 'Post Graduate', '1', '12.9343', '77.6044', '560029', 'Yes', 'Positive', 'Yes']\n",
      "['25', 'Male', 'Single', 'Student', 'Below Rs.10000', 'Post Graduate', '2', '12.9925', '77.5633', '560021', 'Yes', 'Positive', 'Yes']\n",
      "['23', 'Female', 'Single', 'Student', 'No Income', 'Graduate', '5', '13.0206', '77.6479', '560043', 'Yes', 'Positive', 'Yes']\n",
      "['23', 'Male', 'Single', 'Student', 'No Income', 'Post Graduate', '3', '12.977', '77.5773', '560009', 'Yes', 'Positive', 'Yes']\n",
      "['25', 'Male', 'Single', 'Student', 'No Income', 'Post Graduate', '4', '12.977', '77.5773', '560009', 'Yes', 'Positive', 'Yes']\n",
      "['23', 'Male', 'Single', 'Student', 'No Income', 'Post Graduate', '3', '12.977', '77.5773', '560009', 'Yes', 'Positive', 'Yes']\n",
      "['23', 'Female', 'Single', 'Student', 'No Income', 'Post Graduate', '4', '13.0487', '77.5923', '560024', 'Yes', 'Positive', 'Yes']\n",
      "['23', 'Male', 'Single', 'Student', 'No Income', 'Post Graduate', '2', '13.0019', '77.5713', '560003', 'Yes', 'Positive', 'Yes']\n",
      "['19', 'Male', 'Single', 'Student', 'No Income', 'Graduate', '2', '13.0019', '77.5713', '560003', 'No', 'Negative ', 'No']\n",
      "['19', 'Female', 'Single', 'Student', 'No Income', 'Graduate', '4', '12.9537', '77.6176', '560047', 'Yes', 'Positive', 'Yes']\n",
      "['22', 'Female', 'Single', 'Student', 'Below Rs.10000', 'Post Graduate', '4', '12.9343', '77.6044', '560029', 'Yes', 'Positive', 'Yes']\n",
      "['23', 'Male', 'Single', 'Student', 'No Income', 'Post Graduate', '3', '13.102', '77.5864', '560064', 'No', 'Positive', 'No']\n",
      "['22', 'Female', 'Single', 'Student', 'No Income', 'Graduate', '3', '13.0158', '77.539', '560096', 'Yes', 'Negative ', 'Yes']\n",
      "['24', 'Male', 'Single', 'Student', 'No Income', 'Post Graduate', '3', '13.0138', '77.5877', '560006', 'No', 'Negative ', 'No']\n",
      "['23', 'Male', 'Single', 'Student', 'More than 50000', 'Post Graduate', '3', '12.977', '77.5773', '560009', 'Yes', 'Positive', 'Yes']\n",
      "['24', 'Female', 'Single', 'Student', 'No Income', 'Post Graduate', '4', '13.0496', '77.4941', '560073', 'Yes', 'Positive', 'Yes']\n",
      "['22', 'Male', 'Single', 'Student', 'No Income', 'Post Graduate', '4', '12.9889', '77.5741', '560020', 'Yes', 'Positive', 'Yes']\n",
      "['23', 'Male', 'Single', 'Student', 'More than 50000', 'Post Graduate', '3', '12.977', '77.5773', '560009', 'Yes', 'Positive', 'Yes']\n",
      "['23', 'Female', 'Single', 'Student', 'No Income', 'Post Graduate', '4', '13.0487', '77.5923', '560024', 'Yes', 'Positive', 'Yes']\n",
      "['20', 'Male', 'Single', 'Student', 'No Income', 'Graduate', '2', '12.9579', '77.6309', '560007', 'Yes', 'Positive', 'Yes']\n",
      "['21', 'Male', 'Single', 'Student', 'No Income', 'Graduate', '2', '12.9579', '77.6309', '560007', 'Yes', 'Positive', 'Yes']\n",
      "['23', 'Female', 'Single', 'Student', 'No Income', 'Post Graduate', '4', '13.0487', '77.5923', '560024', 'Yes', 'Positive', 'Yes']\n",
      "['20', 'Female', 'Single', 'Student', 'No Income', 'Graduate', '2', '12.9337', '77.59', '560011', 'Yes', 'Positive', 'Yes']\n",
      "['21', 'Male', 'Single', 'Student', 'No Income', 'Graduate', '2', '12.9337', '77.59', '560011', 'Yes', 'Positive', 'Yes']\n",
      "['27', 'Female', 'Single', 'Student', 'No Income', 'Ph.D', '5', '13.0503', '77.5529', '560013', 'No', 'Negative ', 'No']\n",
      "['24', 'Female', 'Single', 'Student', 'No Income', 'Post Graduate', '5', '12.9883', '77.5987', '560051', 'Yes', 'Positive', 'Yes']\n",
      "['20', 'Male', 'Single', 'Student', 'No Income', 'Graduate', '2', '13.0626', '77.5284', '560015', 'No', 'Negative ', 'No']\n",
      "['22', 'Male', 'Single', 'Student', 'No Income', 'Post Graduate', '1', '13.0626', '77.5284', '560015', 'Yes', 'Positive', 'Yes']\n",
      "['26', 'Female', 'Married', 'Student', 'Below Rs.10000', 'Ph.D', '3', '13.0166', '77.6804', '560016', 'Yes', 'Positive', 'Yes']\n",
      "['25', 'Female', 'Single', 'Student', 'No Income', 'Post Graduate', '3', '12.9551', '77.6593', '560017', 'Yes', 'Positive', 'Yes']\n",
      "['22', 'Male', 'Single', 'Student', 'No Income', 'Graduate', '2', '12.957', '77.5637', '560018', 'No', 'Positive', 'No']\n",
      "['23', 'Male', 'Single', 'Student', 'Below Rs.10000', 'Graduate', '3', '12.8652', '77.524', '560109', 'Yes', 'Negative ', 'Yes']\n",
      "['22', 'Male', 'Single', 'Student', 'No Income', 'Graduate', '2', '12.9889', '77.5741', '560020', 'No', 'Positive', 'No']\n",
      "['22', 'Male', 'Single', 'Student', 'No Income', 'Post Graduate', '2', '12.977', '77.5773', '560009', 'Yes', 'Positive', 'Yes']\n",
      "['24', 'Male', 'Single', 'Student', 'No Income', 'Post Graduate', '3', '13.0487', '77.5923', '560024', 'No', 'Negative ', 'No']\n",
      "['22', 'Female', 'Single', 'Student', 'No Income', 'Graduate', '3', '12.9343', '77.6044', '560029', 'Yes', 'Positive', 'Yes']\n",
      "['19', 'Male', 'Single', 'Student', 'No Income', 'Graduate', '6', '12.9442', '77.6076', '560030', 'Yes', 'Positive', 'Yes']\n",
      "['23', 'Female', 'Single', 'Student', 'No Income', 'Graduate', '2', '13.0298', '77.6047', '560032', 'No', 'Negative ', 'No']\n",
      "['23', 'Male', 'Single', 'Student', 'No Income', 'Post Graduate', '2', '12.9261', '77.6221', '560034', 'Yes', 'Positive', 'Yes']\n",
      "['24', 'Male', 'Single', 'Student', 'No Income', 'Post Graduate', '5', '12.9621', '77.5376', '560104', 'Yes', 'Positive', 'Yes']\n",
      "['25', 'Female', 'Single', 'Student', 'No Income', 'Ph.D', '3', '12.9048', '77.6821', '560036', 'Yes', 'Positive', 'Yes']\n",
      "['20', 'Male', 'Single', 'Student', 'No Income', 'Graduate', '2', '12.9261', '77.6221', '560034', 'Yes', 'Positive', 'Yes']\n",
      "['23', 'Female', 'Single', 'Student', 'No Income', 'Graduate', '1', '12.977', '77.5773', '560009', 'Yes', 'Positive', 'Yes']\n",
      "['21', 'Male', 'Single', 'Student', 'No Income', 'Graduate', '2', '13.0012', '77.5995', '560046', 'No', 'Negative ', 'No']\n",
      "['23', 'Male', 'Single', 'Student', 'No Income', 'Graduate', '3', '13.0223', '77.7132', '560049', 'Yes', 'Positive', 'Yes']\n",
      "['21', 'Female', 'Single', 'Student', 'No Income', 'Post Graduate', '1', '12.9217', '77.5936', '560041', 'Yes', 'Positive', 'Yes']\n",
      "['23', 'Female', 'Single', 'Student', 'No Income', 'Graduate', '2', '12.9105', '77.4842', '560060', 'No', 'Positive', 'No']\n",
      "['25', 'Female', 'Married', 'Student', 'No Income', 'Post Graduate', '2', '12.8834', '77.5486', '560062', 'Yes', 'Positive', 'Yes']\n",
      "['21', 'Female', 'Single', 'Student', 'No Income', 'Post Graduate', '3', '12.9149', '77.5635', '560070', 'Yes', 'Positive', 'Yes']\n",
      "['24', 'Male', 'Single', 'Student', 'No Income', 'Post Graduate', '2', '12.9706', '77.6529', '560075', 'Yes', 'Positive', 'Yes']\n",
      "['21', 'Male', 'Single', 'Student', 'No Income', 'Graduate', '5', '12.9783', '77.6408', '560038', 'Yes', 'Positive', 'Yes']\n",
      "['22', 'Male', 'Single', 'Student', 'No Income', 'Graduate', '3', '13.0158', '77.539', '560096', 'Yes', 'Positive', 'Yes']\n",
      "['24', 'Male', 'Single', 'Student', 'No Income', 'Graduate', '2', '12.9561', '77.5921', '560027', 'Yes', 'Positive', 'Yes']\n",
      "['23', 'Female', 'Single', 'Student', 'No Income', 'Post Graduate', '3', '12.9369', '77.6407', '560095', 'No', 'Positive', 'No']\n",
      "['22', 'Female', 'Single', 'Student', 'No Income', 'Graduate', '2', '12.9369', '77.6407', '560095', 'Yes', 'Positive', 'Yes']\n",
      "['23', 'Female', 'Single', 'Student', 'No Income', 'Post Graduate', '2', '13.0158', '77.539', '560096', 'Yes', 'Positive', 'Yes']\n",
      "['21', 'Male', 'Single', 'Student', 'No Income', 'Graduate', '3', '13.0641', '77.5931', '560092', 'Yes', 'Positive', 'Yes']\n",
      "['21', 'Male', 'Single', 'Student', 'No Income', 'Graduate', '6', '12.9847', '77.5491', '560100', 'Yes', 'Positive', 'Yes']\n",
      "['20', 'Male', 'Single', 'Student', 'No Income', 'Graduate', '3', '12.9299', '77.6848', '560103', 'Yes', 'Positive', 'Yes']\n",
      "['23', 'Male', 'Single', 'Student', 'No Income', 'Post Graduate', '2', '12.977', '77.5773', '560009', 'No', 'Negative ', 'No']\n",
      "['23', 'Male', 'Single', 'Student', 'No Income', 'Post Graduate', '3', '12.9967', '77.7582', '560067', 'Yes', 'Positive', 'Yes']\n",
      "['21', 'Male', 'Single', 'Student', 'No Income', 'Graduate', '2', '12.957', '77.5637', '560018', 'No', 'Negative ', 'No']\n",
      "['22', 'Male', 'Single', 'Student', '25001 to 50000', 'Graduate', '3', '12.9783', '77.6408', '560038', 'Yes', 'Positive', 'Yes']\n",
      "['22', 'Male', 'Married', 'Student', 'No Income', 'Graduate', '2', '13.0734', '77.5464', '560014', 'Yes', 'Positive', 'Yes']\n",
      "['23', 'Female', 'Single', 'Student', 'No Income', 'Post Graduate', '4', '13.0487', '77.5923', '560024', 'Yes', 'Positive', 'Yes']\n",
      "['22', 'Female', 'Single', 'Student', 'No Income', 'Graduate', '2', '12.9515', '77.4921', '560056', 'Yes', 'Positive', 'Yes']\n",
      "['19', 'Male', 'Single', 'Student', 'No Income', 'Graduate', '6', '12.9048', '77.6821', '560036', 'Yes', 'Positive', 'Yes']\n",
      "['21', 'Female', 'Single', 'Student', 'No Income', 'Graduate', '2', '13.0103', '77.5796', '560080', 'Yes', 'Positive', 'Yes']\n",
      "['23', 'Male', 'Single', 'Student', 'No Income', 'Graduate', '4', '13.0103', '77.5796', '560080', 'Yes', 'Positive', 'Yes']\n",
      "['26', 'Female', 'Single', 'Student', 'No Income', 'Ph.D', '2', '12.9757', '77.5586', '560023', 'Yes', 'Positive', 'Yes']\n",
      "['25', 'Female', 'Single', 'Student', '10001 to 25000', 'Graduate', '2', '12.9757', '77.5586', '560023', 'Yes', 'Positive', 'Yes']\n",
      "['25', 'Female', 'Single', 'Student', 'No Income', 'Post Graduate', '3', '13.0734', '77.5464', '560014', 'Yes', 'Positive', 'Yes']\n",
      "['20', 'Female', 'Single', 'Student', 'No Income', 'Graduate', '2', '13.0734', '77.5464', '560014', 'Yes', 'Positive', 'Yes']\n",
      "['24', 'Female', 'Single', 'Student', 'No Income', 'Post Graduate', '5', '13.0626', '77.5284', '560015', 'No', 'Negative ', 'No']\n",
      "['24', 'Female', 'Married', 'Student', 'Below Rs.10000', 'Ph.D', '5', '13.0626', '77.5284', '560015', 'Yes', 'Positive', 'Yes']\n",
      "['24', 'Male', 'Single', 'Student', 'No Income', 'Post Graduate', '3', '13.0626', '77.5284', '560015', 'Yes', 'Positive', 'Yes']\n",
      "['22', 'Male', 'Single', 'Student', 'Below Rs.10000', 'Post Graduate', '3', '12.9551', '77.6593', '560017', 'Yes', 'Negative ', 'Yes']\n",
      "['22', 'Female', 'Single', 'Student', 'No Income', 'Graduate', '6', '12.9473', '77.5616', '560019', 'Yes', 'Positive', 'Yes']\n",
      "['22', 'Male', 'Single', 'Student', 'Below Rs.10000', 'Post Graduate', '4', '12.985', '77.5533', '560010', 'Yes', 'Positive', 'Yes']\n",
      "['22', 'Male', 'Single', 'Student', 'No Income', 'Graduate', '3', '12.977', '77.5773', '560009', 'Yes', 'Positive', 'Yes']\n",
      "['24', 'Female', 'Single', 'Student', 'No Income', 'Post Graduate', '3', '12.9828', '77.6131', '560042', 'Yes', 'Positive', 'Yes']\n",
      "['23', 'Female', 'Single', 'Student', 'No Income', 'Post Graduate', '2', '12.9766', '77.5993', '560001', 'Yes', 'Positive', 'Yes']\n",
      "['23', 'Female', 'Single', 'Student', 'No Income', 'Post Graduate', '4', '12.9854', '77.7081', '560048', 'Yes', 'Positive', 'Yes']\n",
      "['22', 'Female', 'Single', 'Student', 'No Income', 'Post Graduate', '5', '12.985', '77.5533', '560010', 'Yes', 'Positive', 'Yes']\n",
      "['23', 'Male', 'Single', 'Student', 'Below Rs.10000', 'Post Graduate', '2', '12.977', '77.5773', '560009', 'Yes', 'Negative ', 'Yes']\n",
      "['25', 'Female', 'Married', 'Student', 'No Income', 'Post Graduate', '2', '12.8834', '77.5486', '560062', 'Yes', 'Positive', 'Yes']\n",
      "['21', 'Female', 'Single', 'Student', 'No Income', 'Post Graduate', '3', '12.9149', '77.5635', '560070', 'Yes', 'Positive', 'Yes']\n",
      "['24', 'Male', 'Single', 'Student', 'No Income', 'Post Graduate', '2', '12.9706', '77.6529', '560075', 'Yes', 'Positive', 'Yes']\n",
      "['21', 'Male', 'Single', 'Student', 'No Income', 'Graduate', '5', '12.9783', '77.6408', '560038', 'Yes', 'Positive', 'Yes']\n",
      "['22', 'Male', 'Single', 'Student', 'No Income', 'Graduate', '3', '13.0158', '77.539', '560096', 'Yes', 'Positive', 'Yes']\n",
      "['24', 'Male', 'Single', 'Student', 'No Income', 'Graduate', '2', '12.9561', '77.5921', '560027', 'Yes', 'Positive', 'Yes']\n",
      "['23', 'Female', 'Single', 'Student', 'No Income', 'Post Graduate', '3', '12.9369', '77.6407', '560095', 'No', 'Positive', 'No']\n",
      "['22', 'Female', 'Single', 'Student', 'No Income', 'Graduate', '2', '12.9369', '77.6407', '560095', 'Yes', 'Positive', 'Yes']\n",
      "['25', 'Female', 'Single', 'Student', 'No Income', 'Ph.D', '3', '12.9048', '77.6821', '560036', 'Yes', 'Positive', 'Yes']\n",
      "['20', 'Male', 'Single', 'Student', 'No Income', 'Graduate', '2', '12.9261', '77.6221', '560034', 'Yes', 'Positive', 'Yes']\n",
      "['23', 'Female', 'Single', 'Student', 'No Income', 'Graduate', '1', '12.977', '77.5773', '560009', 'Yes', 'Positive', 'Yes']\n",
      "['21', 'Male', 'Single', 'Student', 'No Income', 'Graduate', '2', '13.0012', '77.5995', '560046', 'No', 'Negative ', 'No']\n",
      "['23', 'Male', 'Single', 'Student', 'No Income', 'Graduate', '3', '13.0223', '77.7132', '560049', 'Yes', 'Positive', 'Yes']\n",
      "['25', 'Female', 'Single', 'Student', 'No Income', 'Ph.D', '3', '12.9048', '77.6821', '560036', 'Yes', 'Positive', 'Yes']\n",
      "['20', 'Male', 'Single', 'Student', 'No Income', 'Graduate', '2', '12.9261', '77.6221', '560034', 'Yes', 'Positive', 'Yes']\n",
      "['23', 'Female', 'Single', 'Student', 'No Income', 'Graduate', '1', '12.977', '77.5773', '560009', 'Yes', 'Positive', 'Yes']\n",
      "['21', 'Male', 'Single', 'Student', 'No Income', 'Graduate', '2', '13.0012', '77.5995', '560046', 'No', 'Positive', 'No']\n",
      "['24', 'Male', 'Single', 'Student', 'No Income', 'Post Graduate', '2', '12.9706', '77.6529', '560075', 'Yes', 'Positive', 'Yes']\n",
      "['21', 'Male', 'Single', 'Student', 'No Income', 'Graduate', '5', '12.9783', '77.6408', '560038', 'Yes', 'Positive', 'Yes']\n",
      "['22', 'Male', 'Single', 'Student', 'No Income', 'Graduate', '3', '13.0158', '77.539', '560096', 'Yes', 'Positive', 'Yes']\n",
      "['24', 'Male', 'Single', 'Student', 'No Income', 'Graduate', '2', '12.9561', '77.5921', '560027', 'Yes', 'Positive', 'Yes']\n",
      "['23', 'Female', 'Single', 'Student', 'No Income', 'Post Graduate', '3', '12.9369', '77.6407', '560095', 'No', 'Positive', 'No']\n",
      "['22', 'Female', 'Single', 'Student', 'No Income', 'Graduate', '2', '12.9369', '77.6407', '560095', 'Yes', 'Positive', 'Yes']\n",
      "['23', 'Female', 'Single', 'Student', 'No Income', 'Post Graduate', '2', '13.0158', '77.539', '560096', 'Yes', 'Positive', 'Yes']\n",
      "['21', 'Male', 'Single', 'Student', 'No Income', 'Graduate', '3', '13.0641', '77.5931', '560092', 'Yes', 'Negative ', 'Yes']\n",
      "['22', 'Male', 'Single', 'Student', 'Below Rs.10000', 'Post Graduate', '4', '12.985', '77.5533', '560010', 'Yes', 'Positive', 'Yes']\n",
      "['22', 'Male', 'Single', 'Student', 'No Income', 'Graduate', '3', '12.977', '77.5773', '560009', 'Yes', 'Positive', 'Yes']\n",
      "['24', 'Female', 'Single', 'Student', 'No Income', 'Post Graduate', '3', '12.9828', '77.6131', '560042', 'Yes', 'Positive', 'Yes']\n",
      "['23', 'Female', 'Single', 'Student', 'No Income', 'Post Graduate', '2', '12.9766', '77.5993', '560001', 'Yes', 'Positive', 'Yes']\n",
      "['23', 'Female', 'Single', 'Student', 'No Income', 'Post Graduate', '4', '12.9854', '77.7081', '560048', 'Yes', 'Positive', 'Yes']\n",
      "['22', 'Female', 'Single', 'Student', 'No Income', 'Post Graduate', '5', '12.985', '77.5533', '560010', 'Yes', 'Positive', 'Yes']\n",
      "['23', 'Male', 'Single', 'Student', 'Below Rs.10000', 'Post Graduate', '2', '12.977', '77.5773', '560009', 'Yes', 'Positive', 'Yes']\n",
      "['23', 'Male', 'Single', 'Student', 'No Income', 'Post Graduate', '5', '12.8988', '77.5764', '560078', 'Yes', 'Positive', 'Yes']\n"
     ]
    }
   ],
   "source": [
    "#online yemek siparişi veren öğrencileri listeleyin\n",
    "\n",
    "with open(\"onlinefoods.csv\") as file:\n",
    "    csv_reader = csv.reader(file)\n",
    "\n",
    "    liste = list(csv_reader)\n",
    "\n",
    "    print(len([x for x in liste if x[3] == \"Student\"]))\n",
    "\n",
    "    for o in liste:\n",
    "        if o[3] == \"Student\":\n",
    "            print(o)"
   ]
  },
  {
   "cell_type": "code",
   "execution_count": null,
   "metadata": {},
   "outputs": [
    {
     "name": "stdout",
     "output_type": "stream",
     "text": [
      "207\n"
     ]
    }
   ],
   "source": [
    "#DictReader'ı kullanarak\n",
    "\n",
    "with open(\"onlinefoods.csv\") as file:\n",
    "    csv_reader = csv.DictReader(file)\n",
    "\n",
    "    print( len([user for user in csv_reader if user[\"Occupation\"] == \"Student\"]) )"
   ]
  },
  {
   "cell_type": "code",
   "execution_count": 28,
   "metadata": {},
   "outputs": [
    {
     "name": "stdout",
     "output_type": "stream",
     "text": [
      "[['77.5993', '560001'], ['77.5773', '560009'], ['77.6593', '560017'], ['77.5616', '560019'], ['77.5533', '560010'], ['77.6848', '560103'], ['77.5773', '560009'], ['77.6131', '560042'], ['77.5993', '560001'], ['77.7081', '560048'], ['77.5533', '560010'], ['77.5773', '560009'], ['77.5764', '560078'], ['77.5773', '560009'], ['77.5738', '560004'], ['77.6399', '560068'], ['77.6408', '560038'], ['77.6256', '560008'], ['77.5764', '560078'], ['77.6408', '560038'], ['77.5773', '560009'], ['77.6047', '560032'], ['77.6409', '560033'], ['77.5633', '560021'], ['77.5434', '560085'], ['77.6256', '560008'], ['77.5585', '560050'], ['77.5135', '560098'], ['77.7081', '560048'], ['77.5713', '560003'], ['77.75', '560066'], ['77.6408', '560038'], ['77.6221', '560034'], ['77.5533', '560010'], ['77.6446', '560102'], ['77.5434', '560085'], ['77.5773', '560009'], ['77.5738', '560004'], ['77.5764', '560078'], ['77.6068', '560025'], ['77.5484', '560026'], ['77.5633', '560021'], ['77.5533', '560010'], ['77.5533', '560010'], ['77.6221', '560034'], ['77.5773', '560009'], ['77.5773', '560009'], ['77.6256', '560008'], ['77.5533', '560010'], ['77.6479', '560043'], ['77.5773', '560009'], ['77.5773', '560009'], ['77.5821', '560002'], ['77.5434', '560085'], ['77.545', '560086'], ['77.6036', '560076'], ['77.5773', '560009'], ['77.545', '560086'], ['77.5764', '560078'], ['77.6036', '560076'], ['77.539', '560096'], ['77.6044', '560029'], ['77.5713', '560003'], ['77.5995', '560046'], ['77.6076', '560030'], ['77.5923', '560024'], ['77.5923', '560024'], ['77.5738', '560004'], ['77.5741', '560020'], ['77.5691', '560028'], ['77.5993', '560001'], ['77.6036', '560076'], ['77.5713', '560003'], ['77.5864', '560064'], ['77.6821', '560036'], ['77.5773', '560009'], ['77.5773', '560009'], ['77.59', '560011'], ['77.5376', '560061'], ['77.5773', '560009'], ['77.6044', '560029'], ['77.5738', '560004'], ['77.5773', '560009'], ['77.6408', '560038'], ['77.59', '560011'], ['77.5773', '560009'], ['77.5773', '560009'], ['77.54', '560022'], ['77.54', '560022'], ['77.75', '560066'], ['77.5773', '560009'], ['77.5773', '560009'], ['77.5921', '560027'], ['77.5773', '560009'], ['77.6479', '560043'], ['77.6479', '560043'], ['77.6309', '560007'], ['77.5691', '560028'], ['77.6076', '560030'], ['77.75', '560066'], ['77.5738', '560004'], ['77.6221', '560034'], ['77.75', '560066'], ['77.75', '560066'], ['77.6044', '560029'], ['77.75', '560066'], ['77.5773', '560009'], ['77.6044', '560029'], ['77.5633', '560021'], ['77.6479', '560043'], ['77.5533', '560010'], ['77.6593', '560017'], ['77.5877', '560006'], ['77.5993', '560001'], ['77.5993', '560001'], ['77.5993', '560001'], ['77.5821', '560002'], ['77.5821', '560002'], ['77.5821', '560002'], ['77.5773', '560009'], ['77.5773', '560009'], ['77.5773', '560009'], ['77.5923', '560024'], ['77.5713', '560003'], ['77.5713', '560003'], ['77.75', '560066'], ['77.6227', '560005'], ['77.6227', '560005'], ['77.6044', '560029'], ['77.5864', '560064'], ['77.539', '560096'], ['77.6227', '560005'], ['77.6227', '560005'], ['77.5877', '560006'], ['77.5877', '560006'], ['77.5773', '560009'], ['77.4941', '560073'], ['77.5741', '560020'], ['77.5773', '560009'], ['77.5923', '560024'], ['77.6309', '560007'], ['77.6309', '560007'], ['77.6309', '560007'], ['77.5923', '560024'], ['77.5533', '560010'], ['77.5533', '560010'], ['77.59', '560011'], ['77.59', '560011'], ['77.59', '560011'], ['77.6804', '560016'], ['77.5658', '560012'], ['77.5658', '560012'], ['77.5529', '560013'], ['77.5529', '560013'], ['77.5987', '560051'], ['77.5284', '560015'], ['77.5284', '560015'], ['77.5284', '560015'], ['77.6804', '560016'], ['77.6804', '560016'], ['77.6593', '560017'], ['77.6593', '560017'], ['77.6593', '560017'], ['77.5637', '560018'], ['77.5637', '560018'], ['77.5637', '560018'], ['77.5637', '560018'], ['77.5637', '560018'], ['77.524', '560109'], ['77.75', '560066'], ['77.5741', '560020'], ['77.5633', '560021'], ['77.5773', '560009'], ['77.5586', '560023'], ['77.5586', '560023'], ['77.5923', '560024'], ['77.6068', '560025'], ['77.6044', '560029'], ['77.6044', '560029'], ['77.6044', '560029'], ['77.6076', '560030'], ['77.6076', '560030'], ['77.6047', '560032'], ['77.6221', '560034'], ['77.5376', '560104'], ['77.6036', '560076'], ['77.6821', '560036'], ['77.6821', '560036'], ['77.6221', '560034'], ['77.6221', '560034'], ['77.5773', '560009'], ['77.6408', '560038'], ['77.6408', '560038'], ['77.5936', '560041'], ['77.6479', '560043'], ['77.5995', '560046'], ['77.7132', '560049'], ['77.59', '560011'], ['77.62', '560045'], ['77.5936', '560041'], ['77.5577', '560055'], ['77.5936', '560041'], ['77.4842', '560060'], ['77.4842', '560060'], ['77.5486', '560062'], ['77.5635', '560070'], ['77.5635', '560070'], ['77.6529', '560075'], ['77.6529', '560075'], ['77.6036', '560076'], ['77.6408', '560038'], ['77.5796', '560080'], ['77.5796', '560080'], ['77.5434', '560085'], ['77.5931', '560092'], ['77.539', '560096'], ['77.5921', '560027'], ['77.6036', '560076'], ['77.6407', '560095'], ['77.6407', '560095'], ['77.6407', '560095'], ['77.539', '560096'], ['77.5565', '560097'], ['77.5931', '560092'], ['77.6713', '560093'], ['77.6713', '560093'], ['77.5491', '560100'], ['77.5491', '560100'], ['77.5491', '560100'], ['77.6848', '560103'], ['77.6848', '560103'], ['77.6131', '560042'], ['77.5332', '560079'], ['77.5773', '560009'], ['77.4992', '560059'], ['77.7582', '560067'], ['77.7582', '560067'], ['77.7582', '560067'], ['77.5637', '560018'], ['77.5637', '560018'], ['77.5741', '560020'], ['77.6479', '560043'], ['77.6399', '560068'], ['77.6399', '560068'], ['77.7582', '560067'], ['77.6408', '560038'], ['77.6408', '560038'], ['77.5633', '560021'], ['77.5633', '560021'], ['77.5921', '560027'], ['77.5921', '560027'], ['77.5464', '560014'], ['77.5923', '560024'], ['77.4921', '560056'], ['77.4921', '560056'], ['77.5128', '560072'], ['77.6821', '560036'], ['77.5796', '560080'], ['77.5796', '560080'], ['77.6399', '560068'], ['77.6131', '560042'], ['77.5586', '560023'], ['77.5586', '560023'], ['77.5586', '560023'], ['77.5464', '560014'], ['77.5464', '560014'], ['77.5464', '560014'], ['77.5284', '560015'], ['77.5284', '560015'], ['77.5773', '560009'], ['77.6227', '560005'], ['77.5284', '560015'], ['77.5284', '560015'], ['77.5877', '560006'], ['77.5877', '560006'], ['77.5658', '560012'], ['77.6593', '560017'], ['77.5616', '560019'], ['77.5533', '560010'], ['77.6848', '560103'], ['77.5773', '560009'], ['77.6131', '560042'], ['77.5993', '560001'], ['77.7081', '560048'], ['77.5533', '560010'], ['77.5773', '560009'], ['77.5486', '560062'], ['77.5635', '560070'], ['77.5635', '560070'], ['77.6529', '560075'], ['77.6529', '560075'], ['77.6036', '560076'], ['77.6408', '560038'], ['77.5796', '560080'], ['77.5796', '560080'], ['77.5434', '560085'], ['77.5931', '560092'], ['77.539', '560096'], ['77.5921', '560027'], ['77.6036', '560076'], ['77.6407', '560095'], ['77.6407', '560095'], ['77.6036', '560076'], ['77.6821', '560036'], ['77.6821', '560036'], ['77.6221', '560034'], ['77.6221', '560034'], ['77.5773', '560009'], ['77.6408', '560038'], ['77.6408', '560038'], ['77.5936', '560041'], ['77.6479', '560043'], ['77.5995', '560046'], ['77.7132', '560049'], ['77.59', '560011'], ['77.6256', '560008'], ['77.62', '560045'], ['77.5936', '560041'], ['77.6036', '560076'], ['77.6821', '560036'], ['77.6821', '560036'], ['77.6221', '560034'], ['77.6221', '560034'], ['77.5773', '560009'], ['77.6408', '560038'], ['77.6408', '560038'], ['77.5936', '560041'], ['77.6479', '560043'], ['77.5995', '560046'], ['77.6529', '560075'], ['77.6529', '560075'], ['77.6036', '560076'], ['77.6408', '560038'], ['77.5796', '560080'], ['77.5796', '560080'], ['77.5931', '560092'], ['77.539', '560096'], ['77.5921', '560027'], ['77.6036', '560076'], ['77.6407', '560095'], ['77.6407', '560095'], ['77.6407', '560095'], ['77.6407', '560095'], ['77.539', '560096'], ['77.5565', '560097'], ['77.5931', '560092'], ['77.6713', '560093'], ['77.6713', '560093'], ['77.5491', '560100'], ['77.5533', '560010'], ['77.6848', '560103'], ['77.5773', '560009'], ['77.6131', '560042'], ['77.5993', '560001'], ['77.7081', '560048'], ['77.5533', '560010'], ['77.5773', '560009'], ['77.5764', '560078']]\n"
     ]
    }
   ],
   "source": [
    "#20-30 yaş aralağındaki kişilerin konum listesini hazırlayın\n",
    "\n",
    "with open(\"onlinefoods.csv\") as file:\n",
    "    csv_reader = csv.reader(file)\n",
    "    liste= list(csv_reader)\n",
    "\n",
    "    \n",
    "\n",
    "    lat_long = [[x[8], x[9]] for x in liste[1:] if (20 <= int(x[0]) <=30)]\n",
    "\n",
    "    print(lat_long)\n",
    "\n",
    "   "
   ]
  },
  {
   "cell_type": "code",
   "execution_count": 31,
   "metadata": {},
   "outputs": [
    {
     "name": "stdout",
     "output_type": "stream",
     "text": [
      "[['12.9766', '77.5993'], ['12.977', '77.5773'], ['12.9551', '77.6593'], ['12.9473', '77.5616'], ['12.985', '77.5533'], ['12.9299', '77.6848'], ['12.977', '77.5773'], ['12.9828', '77.6131'], ['12.9766', '77.5993'], ['12.9854', '77.7081'], ['12.985', '77.5533'], ['12.977', '77.5773'], ['12.8988', '77.5764'], ['12.977', '77.5773'], ['12.9438', '77.5738'], ['12.8893', '77.6399'], ['12.9783', '77.6408'], ['12.982', '77.6256'], ['12.8988', '77.5764'], ['12.9783', '77.6408'], ['12.977', '77.5773'], ['13.0298', '77.6047'], ['12.9983', '77.6409'], ['12.9925', '77.5633'], ['12.9306', '77.5434'], ['12.982', '77.6256'], ['12.9353', '77.5585'], ['12.9155', '77.5135'], ['12.9854', '77.7081'], ['13.0019', '77.5713'], ['12.9698', '77.75'], ['12.9783', '77.6408'], ['12.9261', '77.6221'], ['12.985', '77.5533'], ['12.9119', '77.6446'], ['12.9306', '77.5434'], ['12.977', '77.5773'], ['12.9438', '77.5738'], ['12.8988', '77.5764'], ['12.9662', '77.6068'], ['12.9565', '77.5484'], ['12.9925', '77.5633'], ['12.985', '77.5533'], ['12.985', '77.5533'], ['12.9261', '77.6221'], ['12.977', '77.5773'], ['12.977', '77.5773'], ['12.982', '77.6256'], ['12.985', '77.5533'], ['13.0206', '77.6479'], ['12.977', '77.5773'], ['12.977', '77.5773'], ['12.9635', '77.5821'], ['12.9306', '77.5434'], ['13.0067', '77.545'], ['12.8845', '77.6036'], ['12.977', '77.5773'], ['13.0067', '77.545'], ['12.8988', '77.5764'], ['12.8845', '77.6036'], ['13.0158', '77.539'], ['12.9343', '77.6044'], ['13.0019', '77.5713'], ['13.0012', '77.5995'], ['12.9442', '77.6076'], ['13.0487', '77.5923'], ['13.0487', '77.5923'], ['12.9438', '77.5738'], ['12.9889', '77.5741'], ['12.9335', '77.5691'], ['12.9766', '77.5993'], ['12.8845', '77.6036'], ['13.0019', '77.5713'], ['13.102', '77.5864'], ['12.9048', '77.6821'], ['12.977', '77.5773'], ['12.977', '77.5773'], ['12.9337', '77.59'], ['12.9037', '77.5376'], ['12.977', '77.5773'], ['12.9343', '77.6044'], ['12.9438', '77.5738'], ['12.977', '77.5773'], ['12.9783', '77.6408'], ['12.9337', '77.59'], ['12.977', '77.5773'], ['12.977', '77.5773'], ['13.0289', '77.54'], ['13.0289', '77.54'], ['12.9698', '77.75'], ['12.977', '77.5773'], ['12.977', '77.5773'], ['12.9561', '77.5921'], ['12.977', '77.5773'], ['13.0206', '77.6479'], ['13.0206', '77.6479'], ['12.9579', '77.6309'], ['12.9335', '77.5691'], ['12.9442', '77.6076'], ['12.9698', '77.75'], ['12.9438', '77.5738'], ['12.9261', '77.6221'], ['12.9698', '77.75'], ['12.9698', '77.75'], ['12.9343', '77.6044'], ['12.9698', '77.75'], ['12.977', '77.5773'], ['12.9343', '77.6044'], ['12.9925', '77.5633'], ['13.0206', '77.6479'], ['12.985', '77.5533'], ['12.9551', '77.6593'], ['13.0138', '77.5877'], ['12.9766', '77.5993'], ['12.9766', '77.5993'], ['12.9766', '77.5993'], ['12.9635', '77.5821'], ['12.9635', '77.5821'], ['12.9635', '77.5821'], ['12.977', '77.5773'], ['12.977', '77.5773'], ['12.977', '77.5773'], ['13.0487', '77.5923'], ['13.0019', '77.5713'], ['13.0019', '77.5713'], ['12.9698', '77.75'], ['12.998', '77.6227'], ['12.998', '77.6227'], ['12.9343', '77.6044'], ['13.102', '77.5864'], ['13.0158', '77.539'], ['12.998', '77.6227'], ['12.998', '77.6227'], ['13.0138', '77.5877'], ['13.0138', '77.5877'], ['12.977', '77.5773'], ['13.0496', '77.4941'], ['12.9889', '77.5741'], ['12.977', '77.5773'], ['13.0487', '77.5923'], ['12.9579', '77.6309'], ['12.9579', '77.6309'], ['12.9579', '77.6309'], ['13.0487', '77.5923'], ['12.985', '77.5533'], ['12.985', '77.5533'], ['12.9337', '77.59'], ['12.9337', '77.59'], ['12.9337', '77.59'], ['13.0166', '77.6804'], ['13.014', '77.5658'], ['13.014', '77.5658'], ['13.0503', '77.5529'], ['13.0503', '77.5529'], ['12.9883', '77.5987'], ['13.0626', '77.5284'], ['13.0626', '77.5284'], ['13.0626', '77.5284'], ['13.0166', '77.6804'], ['13.0166', '77.6804'], ['12.9551', '77.6593'], ['12.9551', '77.6593'], ['12.9551', '77.6593'], ['12.957', '77.5637'], ['12.957', '77.5637'], ['12.957', '77.5637'], ['12.957', '77.5637'], ['12.957', '77.5637'], ['12.8652', '77.524'], ['12.9698', '77.75'], ['12.9889', '77.5741'], ['12.9925', '77.5633'], ['12.977', '77.5773'], ['12.9757', '77.5586'], ['12.9757', '77.5586'], ['13.0487', '77.5923'], ['12.9662', '77.6068'], ['12.9343', '77.6044'], ['12.9343', '77.6044'], ['12.9343', '77.6044'], ['12.9442', '77.6076'], ['12.9442', '77.6076'], ['13.0298', '77.6047'], ['12.9261', '77.6221'], ['12.9621', '77.5376'], ['12.8845', '77.6036'], ['12.9048', '77.6821'], ['12.9048', '77.6821'], ['12.9261', '77.6221'], ['12.9261', '77.6221'], ['12.977', '77.5773'], ['12.9783', '77.6408'], ['12.9783', '77.6408'], ['12.9217', '77.5936'], ['13.0206', '77.6479'], ['13.0012', '77.5995'], ['13.0223', '77.7132'], ['12.9337', '77.59'], ['13.0262', '77.62'], ['12.9217', '77.5936'], ['13.0078', '77.5577'], ['12.9217', '77.5936'], ['12.9105', '77.4842'], ['12.9105', '77.4842'], ['12.8834', '77.5486'], ['12.9149', '77.5635'], ['12.9149', '77.5635'], ['12.9706', '77.6529'], ['12.9706', '77.6529'], ['12.8845', '77.6036'], ['12.9783', '77.6408'], ['13.0103', '77.5796'], ['13.0103', '77.5796'], ['12.9306', '77.5434'], ['13.0641', '77.5931'], ['13.0158', '77.539'], ['12.9561', '77.5921'], ['12.8845', '77.6036'], ['12.9369', '77.6407'], ['12.9369', '77.6407'], ['12.9369', '77.6407'], ['13.0158', '77.539'], ['13.0809', '77.5565'], ['13.0641', '77.5931'], ['12.9859', '77.6713'], ['12.9859', '77.6713'], ['12.9847', '77.5491'], ['12.9847', '77.5491'], ['12.9847', '77.5491'], ['12.9299', '77.6848'], ['12.9299', '77.6848'], ['12.9828', '77.6131'], ['12.989', '77.5332'], ['12.977', '77.5773'], ['12.9251', '77.4992'], ['12.9967', '77.7582'], ['12.9967', '77.7582'], ['12.9967', '77.7582'], ['12.957', '77.5637'], ['12.957', '77.5637'], ['12.9889', '77.5741'], ['13.0206', '77.6479'], ['12.8893', '77.6399'], ['12.8893', '77.6399'], ['12.9967', '77.7582'], ['12.9783', '77.6408'], ['12.9783', '77.6408'], ['12.9925', '77.5633'], ['12.9925', '77.5633'], ['12.9561', '77.5921'], ['12.9561', '77.5921'], ['13.0734', '77.5464'], ['13.0487', '77.5923'], ['12.9515', '77.4921'], ['12.9515', '77.4921'], ['12.9719', '77.5128'], ['12.9048', '77.6821'], ['13.0103', '77.5796'], ['13.0103', '77.5796'], ['12.8893', '77.6399'], ['12.9828', '77.6131'], ['12.9757', '77.5586'], ['12.9757', '77.5586'], ['12.9757', '77.5586'], ['13.0734', '77.5464'], ['13.0734', '77.5464'], ['13.0734', '77.5464'], ['13.0626', '77.5284'], ['13.0626', '77.5284'], ['12.977', '77.5773'], ['12.998', '77.6227'], ['13.0626', '77.5284'], ['13.0626', '77.5284'], ['13.0138', '77.5877'], ['13.0138', '77.5877'], ['13.014', '77.5658'], ['12.9551', '77.6593'], ['12.9473', '77.5616'], ['12.985', '77.5533'], ['12.9299', '77.6848'], ['12.977', '77.5773'], ['12.9828', '77.6131'], ['12.9766', '77.5993'], ['12.9854', '77.7081'], ['12.985', '77.5533'], ['12.977', '77.5773'], ['12.8834', '77.5486'], ['12.9149', '77.5635'], ['12.9149', '77.5635'], ['12.9706', '77.6529'], ['12.9706', '77.6529'], ['12.8845', '77.6036'], ['12.9783', '77.6408'], ['13.0103', '77.5796'], ['13.0103', '77.5796'], ['12.9306', '77.5434'], ['13.0641', '77.5931'], ['13.0158', '77.539'], ['12.9561', '77.5921'], ['12.8845', '77.6036'], ['12.9369', '77.6407'], ['12.9369', '77.6407'], ['12.8845', '77.6036'], ['12.9048', '77.6821'], ['12.9048', '77.6821'], ['12.9261', '77.6221'], ['12.9261', '77.6221'], ['12.977', '77.5773'], ['12.9783', '77.6408'], ['12.9783', '77.6408'], ['12.9217', '77.5936'], ['13.0206', '77.6479'], ['13.0012', '77.5995'], ['13.0223', '77.7132'], ['12.9337', '77.59'], ['12.982', '77.6256'], ['13.0262', '77.62'], ['12.9217', '77.5936'], ['12.8845', '77.6036'], ['12.9048', '77.6821'], ['12.9048', '77.6821'], ['12.9261', '77.6221'], ['12.9261', '77.6221'], ['12.977', '77.5773'], ['12.9783', '77.6408'], ['12.9783', '77.6408'], ['12.9217', '77.5936'], ['13.0206', '77.6479'], ['13.0012', '77.5995'], ['12.9706', '77.6529'], ['12.9706', '77.6529'], ['12.8845', '77.6036'], ['12.9783', '77.6408'], ['13.0103', '77.5796'], ['13.0103', '77.5796'], ['13.0641', '77.5931'], ['13.0158', '77.539'], ['12.9561', '77.5921'], ['12.8845', '77.6036'], ['12.9369', '77.6407'], ['12.9369', '77.6407'], ['12.9369', '77.6407'], ['12.9369', '77.6407'], ['13.0158', '77.539'], ['13.0809', '77.5565'], ['13.0641', '77.5931'], ['12.9859', '77.6713'], ['12.9859', '77.6713'], ['12.9847', '77.5491'], ['12.985', '77.5533'], ['12.9299', '77.6848'], ['12.977', '77.5773'], ['12.9828', '77.6131'], ['12.9766', '77.5993'], ['12.9854', '77.7081'], ['12.985', '77.5533'], ['12.977', '77.5773'], ['12.8988', '77.5764']]\n"
     ]
    }
   ],
   "source": [
    "#using DictReader\n",
    "\n",
    "with open(\"onlinefoods.csv\") as file:\n",
    "    csv_reader = csv.DictReader(file)\n",
    "\n",
    "    latlong2 = [[x[\"latitude\"], x[\"longitude\"]] for x in csv_reader if (20 <= int(x[\"Age\"]) <=30)]\n",
    "    print(latlong2)"
   ]
  },
  {
   "cell_type": "code",
   "execution_count": null,
   "metadata": {},
   "outputs": [],
   "source": []
  }
 ],
 "metadata": {
  "kernelspec": {
   "display_name": "base",
   "language": "python",
   "name": "python3"
  },
  "language_info": {
   "codemirror_mode": {
    "name": "ipython",
    "version": 3
   },
   "file_extension": ".py",
   "mimetype": "text/x-python",
   "name": "python",
   "nbconvert_exporter": "python",
   "pygments_lexer": "ipython3",
   "version": "3.12.7"
  }
 },
 "nbformat": 4,
 "nbformat_minor": 2
}
