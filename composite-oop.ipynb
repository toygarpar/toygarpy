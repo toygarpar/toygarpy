{
 "cells": [
  {
   "cell_type": "code",
   "execution_count": 1,
   "metadata": {},
   "outputs": [],
   "source": [
    "class Person:   #start a class\n",
    "    #initializaition - Constructor takes three arguments, self is the new instance object\n",
    "    def __init__(self, name, job =  None, pay : float = 0 ): #In OO terms, self is the newly created instance object, and name, job, and pay become state information—descriptive data saved on an object for later use.\n",
    "        self.name = name\n",
    "        self.job = job\n",
    "        self.pay = pay\n",
    "        \n",
    "\n",
    "    def lname(self):\n",
    "        return self.name.split()[-1]\n",
    "\n",
    "    def fname(self):\n",
    "        return self.name.split()[0]\n",
    "\n",
    "    def giveRaise(self, percent):\n",
    "        self.pay = self.pay * (1 + percent)\n",
    "\n",
    "    def __repr__(self):\n",
    "        return \"Person: [{} {}, {:,.2f}]\".format(self.fname(), self.lname(), self.pay)\n",
    "\n",
    "\n",
    "class Manager:\n",
    "\n",
    "    #redefine constructor for subclass by running original with \"Müdür\"\n",
    "    def __init__(self, name, pay):\n",
    "        #super().__init__(name, pay)\n",
    "        #Person.__init__(self, name, \"Manager\", pay)\n",
    "        self.person = Person(name, \"Manager\", pay) #embed a Person obj\n",
    "    \n",
    "\n",
    "\n",
    "\n",
    "\n",
    "    #bad way\n",
    "    # def giveRaise(self, percent, bonus = .10):\n",
    "    #     self.pay = self.pay *(1 + percent + bonus)\n",
    "\n",
    "    def giveRaise(self, percent, bonus = .10):   #instance.method(args..) translated to class.method(instance, args....)\n",
    "        self.person.giveRaise( percent + bonus)  #intercept and delegate\n",
    "\n",
    "\n",
    "    def __getattr__(self, attr):\n",
    "        return getattr(self.person, attr)  #delegare all aother attrs\n",
    "    \n",
    "    def __repr__(self):\n",
    "        return str(self.person)\n"
   ]
  },
  {
   "cell_type": "code",
   "execution_count": 2,
   "metadata": {},
   "outputs": [
    {
     "name": "stdout",
     "output_type": "stream",
     "text": [
      "Toygar Par 0\n",
      "Besen Par 45000\n",
      "Par\n",
      "Besen Par's pay is : 49,500.00\n"
     ]
    }
   ],
   "source": [
    "if __name__ == \"__main__\":\n",
    "    #test kodu\n",
    "    toygar = Person(\"Toygar Par\")\n",
    "    xxxxxxx = Person(\"Özdemir Par\")\n",
    "    besen = Person(\"Besen Par\", job=\"Manager\", pay = 45000)\n",
    "\n",
    "    print(toygar.name, toygar.pay)\n",
    "    print(besen.name, besen.pay)\n",
    "    print(toygar.name.split()[-1])\n",
    "    besen.giveRaise(.10)\n",
    "    print(f\"Besen {besen.lname()}'s pay is : {'{:,.2f}'.format(besen.pay)}\")"
   ]
  },
  {
   "cell_type": "code",
   "execution_count": 3,
   "metadata": {},
   "outputs": [
    {
     "name": "stdout",
     "output_type": "stream",
     "text": [
      "Previous Pay: 75000\n",
      "Par , Taco\n",
      "Person: [Taco Par, 101,250.00]\n",
      "ALL Persons:\n",
      "Person: [Toygar Par, 0.00]\n",
      "Person: [Özdemir Par, 0.00]\n",
      "Person: [Besen Par, 54,450.00]\n",
      "Person: [Taco Par, 121,500.00]\n"
     ]
    }
   ],
   "source": [
    "taco = Manager(\"Taco Par\", 75000)    # __init__\n",
    "print(\"Previous Pay:\" , taco.pay)\n",
    "taco.giveRaise(.25)                           #run customized version giveRaise()\n",
    "print(taco.lname(), \",\", taco.fname())        #runs inherited methods\n",
    "print(taco)                                   #runs inherited __repr__\n",
    "\n",
    "\n",
    "\n",
    "print(\"ALL Persons:\")\n",
    "\n",
    "for obj in (toygar, xxxxxxx, besen, taco):\n",
    "    obj.giveRaise(.10)\n",
    "    print(obj)"
   ]
  },
  {
   "cell_type": "code",
   "execution_count": null,
   "metadata": {},
   "outputs": [],
   "source": []
  }
 ],
 "metadata": {
  "kernelspec": {
   "display_name": "base",
   "language": "python",
   "name": "python3"
  },
  "language_info": {
   "codemirror_mode": {
    "name": "ipython",
    "version": 3
   },
   "file_extension": ".py",
   "mimetype": "text/x-python",
   "name": "python",
   "nbconvert_exporter": "python",
   "pygments_lexer": "ipython3",
   "version": "3.12.7"
  }
 },
 "nbformat": 4,
 "nbformat_minor": 2
}
