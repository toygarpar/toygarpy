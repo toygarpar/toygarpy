{
 "cells": [
  {
   "cell_type": "markdown",
   "metadata": {},
   "source": [
    "## REGULAR EXPRESSIONS\n",
    "\n",
    "\n"
   ]
  },
  {
   "cell_type": "code",
   "execution_count": 2,
   "metadata": {},
   "outputs": [],
   "source": [
    "#re module\n",
    "import re"
   ]
  },
  {
   "cell_type": "code",
   "execution_count": null,
   "metadata": {},
   "outputs": [
    {
     "name": "stderr",
     "output_type": "stream",
     "text": [
      "<>:1: SyntaxWarning: invalid escape sequence '\\s'\n",
      "<>:1: SyntaxWarning: invalid escape sequence '\\s'\n",
      "/tmp/ipykernel_276751/3899364004.py:1: SyntaxWarning: invalid escape sequence '\\s'\n",
      "  \"\"\"\n"
     ]
    },
    {
     "data": {
      "text/plain": [
       "\"\\nPython Regular Expression Quick Guide\\n\\n^        Matches the beginning of a line\\n$        Matches the end of the line\\n.        Matches any character\\n\\\\s       Matches whitespace\\n\\\\S       Matches any non-whitespace character\\n*        Repeats a character zero or more times\\n*?       Repeats a character zero or more times         (non-greedy)\\n+        Repeats a character one or more times\\n+?       Repeats a character one or more times          (non-greedy)\\n[aeiou]  Matches a single character in the listed set\\n[^XYZ]   Matches a single character not in the listed set\\n[a-z0-9] The set of characters can include a range\\n(        Indicates where string extraction is to start\\n)        Indicates where string extraction is to end\\n\\n\\n[]       Belirli karakterler\\n\\\\        Özel karakterler\\n{}       Karakter adedi\\n|        İkisinden biri\\n\\n\\nSpecial Sequences\\n\\n\\\\A       Aranan kelime yazının başındaysa\\n\\x08       Başında veya sonundaysa\\n\\\\B       Başında veya sonunda değilse\\n\\\\d       Eğer sayı/sayılar içeriyorsa\\n\\\\D       Eğer sayı içermiyorsa\\n\\\\w       Eğer a-z, A-Z, sayılar (0-9) ve alt çizgi içeriyorsa\\n\\\\W       \\\\w'nun tam tersi\\n\\\\Z       Aranan kelime yazının sonundaysa\\n\\n\\n\""
      ]
     },
     "execution_count": 3,
     "metadata": {},
     "output_type": "execute_result"
    }
   ],
   "source": [
    "\"\"\"\n",
    "Python Regular Expression Quick Guide\n",
    "\n",
    "^        Matches the beginning of a line\n",
    "$        Matches the end of the line\n",
    ".        Matches any character\n",
    "\\s       Matches whitespace\n",
    "\\S       Matches any non-whitespace character\n",
    "*        Repeats a character zero or more times\n",
    "*?       Repeats a character zero or more times         (non-greedy)\n",
    "+        Repeats a character one or more times\n",
    "+?       Repeats a character one or more times          (non-greedy)\n",
    "[aeiou]  Matches a single character in the listed set\n",
    "[^XYZ]   Matches a single character not in the listed set\n",
    "[a-z0-9] The set of characters can include a range\n",
    "(        Indicates where string extraction is to start\n",
    ")        Indicates where string extraction is to end\n",
    "\n",
    "\n",
    "[]       Belirli karakterler\n",
    "\\        Özel karakterler\n",
    "{}       Karakter adedi\n",
    "|        İkisinden biri\n",
    "\n",
    "\n",
    "{} karakter sayısını kontrol eder\n",
    "\n",
    "al{2}   a karakterinin arkasına l karakteri 2 kez tekrarlanmalı\n",
    "\n",
    "al{2, 3} a karakterinin arkasına l en az iki, en fazla 3 kez tekrarlanmalı\n",
    "\n",
    "[0-9]{2,4}  en az 2 en çok 4 basamaklı sayılar\n",
    "\n",
    "\n",
    "\n",
    "\n",
    "Special Sequences\n",
    "\n",
    "\\A       Aranan kelime yazının başındaysa\n",
    "\\b       Başında veya sonundaysa\n",
    "\\B       Başında veya sonunda değilse\n",
    "\\d       Eğer sayı/sayılar içeriyorsa\n",
    "\\D       Eğer sayı içermiyorsa\n",
    "\\w       Eğer a-z, A-Z, sayılar (0-9) ve alt çizgi içeriyorsa\n",
    "\\W       \\w'nun tam tersi\n",
    "\\Z       Aranan kelime yazının sonundaysa\n",
    "\n",
    "\n",
    "\"\"\""
   ]
  },
  {
   "cell_type": "code",
   "execution_count": 4,
   "metadata": {},
   "outputs": [
    {
     "data": {
      "text/plain": [
       "['A',\n",
       " 'ASCII',\n",
       " 'DEBUG',\n",
       " 'DOTALL',\n",
       " 'I',\n",
       " 'IGNORECASE',\n",
       " 'L',\n",
       " 'LOCALE',\n",
       " 'M',\n",
       " 'MULTILINE',\n",
       " 'Match',\n",
       " 'NOFLAG',\n",
       " 'Pattern',\n",
       " 'RegexFlag',\n",
       " 'S',\n",
       " 'Scanner',\n",
       " 'T',\n",
       " 'TEMPLATE',\n",
       " 'U',\n",
       " 'UNICODE',\n",
       " 'VERBOSE',\n",
       " 'X',\n",
       " '_MAXCACHE',\n",
       " '_MAXCACHE2',\n",
       " '__all__',\n",
       " '__builtins__',\n",
       " '__cached__',\n",
       " '__doc__',\n",
       " '__file__',\n",
       " '__loader__',\n",
       " '__name__',\n",
       " '__package__',\n",
       " '__path__',\n",
       " '__spec__',\n",
       " '__version__',\n",
       " '_cache',\n",
       " '_cache2',\n",
       " '_casefix',\n",
       " '_compile',\n",
       " '_compile_template',\n",
       " '_compiler',\n",
       " '_constants',\n",
       " '_parser',\n",
       " '_pickle',\n",
       " '_special_chars_map',\n",
       " '_sre',\n",
       " 'compile',\n",
       " 'copyreg',\n",
       " 'enum',\n",
       " 'error',\n",
       " 'escape',\n",
       " 'findall',\n",
       " 'finditer',\n",
       " 'fullmatch',\n",
       " 'functools',\n",
       " 'match',\n",
       " 'purge',\n",
       " 'search',\n",
       " 'split',\n",
       " 'sub',\n",
       " 'subn',\n",
       " 'template']"
      ]
     },
     "execution_count": 4,
     "metadata": {},
     "output_type": "execute_result"
    }
   ],
   "source": [
    "dir(re)"
   ]
  },
  {
   "cell_type": "code",
   "execution_count": 5,
   "metadata": {},
   "outputs": [],
   "source": [
    "dizi  = \"Toygar Py referans kütüphanesi ile Python Programlama ve Veri Bilimi öğreniyorum. \""
   ]
  },
  {
   "cell_type": "code",
   "execution_count": 6,
   "metadata": {},
   "outputs": [
    {
     "data": {
      "text/plain": [
       "<re.Match object; span=(35, 41), match='Python'>"
      ]
     },
     "execution_count": 6,
     "metadata": {},
     "output_type": "execute_result"
    }
   ],
   "source": [
    "# re.search \n",
    "\n",
    "pattern = \"Python\"\n",
    "\n",
    "re.search(pattern, dizi)"
   ]
  },
  {
   "cell_type": "code",
   "execution_count": 7,
   "metadata": {},
   "outputs": [
    {
     "data": {
      "text/plain": [
       "'Python'"
      ]
     },
     "execution_count": 7,
     "metadata": {},
     "output_type": "execute_result"
    }
   ],
   "source": [
    "dizi[35:41]"
   ]
  },
  {
   "cell_type": "code",
   "execution_count": 8,
   "metadata": {},
   "outputs": [
    {
     "data": {
      "text/plain": [
       "<function Match.span(group=0, /)>"
      ]
     },
     "execution_count": 8,
     "metadata": {},
     "output_type": "execute_result"
    }
   ],
   "source": [
    "match = re.search(pattern, dizi)\n",
    "\n",
    "match.span"
   ]
  },
  {
   "cell_type": "code",
   "execution_count": 9,
   "metadata": {},
   "outputs": [
    {
     "data": {
      "text/plain": [
       "35"
      ]
     },
     "execution_count": 9,
     "metadata": {},
     "output_type": "execute_result"
    }
   ],
   "source": [
    "match.start()"
   ]
  },
  {
   "cell_type": "code",
   "execution_count": 10,
   "metadata": {},
   "outputs": [
    {
     "data": {
      "text/plain": [
       "41"
      ]
     },
     "execution_count": 10,
     "metadata": {},
     "output_type": "execute_result"
    }
   ],
   "source": [
    "match.end()"
   ]
  },
  {
   "cell_type": "code",
   "execution_count": 11,
   "metadata": {},
   "outputs": [],
   "source": [
    "# re.findall()\n",
    "pattern1 = \"Py\"\n",
    "match1 = re.findall(pattern1, dizi)"
   ]
  },
  {
   "cell_type": "code",
   "execution_count": 12,
   "metadata": {},
   "outputs": [
    {
     "data": {
      "text/plain": [
       "['Py', 'Py']"
      ]
     },
     "execution_count": 12,
     "metadata": {},
     "output_type": "execute_result"
    }
   ],
   "source": [
    "match1"
   ]
  },
  {
   "cell_type": "code",
   "execution_count": 13,
   "metadata": {},
   "outputs": [],
   "source": [
    "#METAKARAKTERLERİ\n",
    "\n",
    "text = r\"toygar@par.com ABC 123 XYZ 456 @&% 789 7 5 23\""
   ]
  },
  {
   "cell_type": "code",
   "execution_count": 14,
   "metadata": {},
   "outputs": [],
   "source": [
    "pattern2 =  \"\\\\d\\\\d\\\\d\"\n",
    "\n",
    "# r kullanarak raw str tanımlarsak invalid escape sequence uyarısını almayız \n",
    "\n",
    "pattern3 = r\"\\D\\D\\D\"   #raw str olarak tanımlama"
   ]
  },
  {
   "cell_type": "code",
   "execution_count": 15,
   "metadata": {},
   "outputs": [
    {
     "data": {
      "text/plain": [
       "<re.Match object; span=(19, 22), match='123'>"
      ]
     },
     "execution_count": 15,
     "metadata": {},
     "output_type": "execute_result"
    }
   ],
   "source": [
    "matches = re.search(pattern2,  text)\n",
    "\n",
    "matches"
   ]
  },
  {
   "cell_type": "code",
   "execution_count": 16,
   "metadata": {},
   "outputs": [
    {
     "data": {
      "text/plain": [
       "<re.Match object; span=(0, 3), match='toy'>"
      ]
     },
     "execution_count": 16,
     "metadata": {},
     "output_type": "execute_result"
    }
   ],
   "source": [
    "matches2 = re.search(pattern3, text)\n",
    "\n",
    "matches2"
   ]
  },
  {
   "cell_type": "code",
   "execution_count": 17,
   "metadata": {},
   "outputs": [
    {
     "data": {
      "text/plain": [
       "['toy', 'gar', '@pa', 'r.c', 'om ', 'ABC', ' XY', ' @&']"
      ]
     },
     "execution_count": 17,
     "metadata": {},
     "output_type": "execute_result"
    }
   ],
   "source": [
    "re.findall(pattern3, text)"
   ]
  },
  {
   "cell_type": "code",
   "execution_count": 18,
   "metadata": {},
   "outputs": [
    {
     "data": {
      "text/plain": [
       "[<re.Match object; span=(19, 22), match='123'>,\n",
       " <re.Match object; span=(27, 30), match='456'>,\n",
       " <re.Match object; span=(35, 38), match='789'>]"
      ]
     },
     "execution_count": 18,
     "metadata": {},
     "output_type": "execute_result"
    }
   ],
   "source": [
    "# re.finditer()\n",
    "\n",
    "list(re.finditer(pattern2, text))"
   ]
  },
  {
   "cell_type": "code",
   "execution_count": 19,
   "metadata": {},
   "outputs": [
    {
     "name": "stdout",
     "output_type": "stream",
     "text": [
      "<re.Match object; span=(0, 3), match='toy'>\n",
      "<re.Match object; span=(3, 6), match='gar'>\n",
      "<re.Match object; span=(6, 9), match='@pa'>\n",
      "<re.Match object; span=(9, 12), match='r.c'>\n",
      "<re.Match object; span=(12, 15), match='om '>\n",
      "<re.Match object; span=(15, 18), match='ABC'>\n",
      "<re.Match object; span=(22, 25), match=' XY'>\n",
      "<re.Match object; span=(30, 33), match=' @&'>\n"
     ]
    }
   ],
   "source": [
    "for match in re.finditer(pattern3, text):\n",
    "    print(match)"
   ]
  },
  {
   "cell_type": "code",
   "execution_count": 20,
   "metadata": {},
   "outputs": [
    {
     "name": "stdout",
     "output_type": "stream",
     "text": [
      "toy\n",
      "gar\n",
      "@pa\n",
      "r.c\n",
      "om \n",
      "ABC\n",
      " XY\n",
      " @&\n"
     ]
    }
   ],
   "source": [
    "# X.group()\n",
    "for match in re.finditer(pattern3, text):\n",
    "    print(match.group())"
   ]
  },
  {
   "cell_type": "code",
   "execution_count": 21,
   "metadata": {},
   "outputs": [
    {
     "data": {
      "text/plain": [
       "['123', '456', '789']"
      ]
     },
     "execution_count": 21,
     "metadata": {},
     "output_type": "execute_result"
    }
   ],
   "source": [
    "re.findall(pattern2, text)"
   ]
  },
  {
   "cell_type": "code",
   "execution_count": 22,
   "metadata": {},
   "outputs": [
    {
     "data": {
      "text/plain": [
       "<re.Match object; span=(23, 26), match='XYZ'>"
      ]
     },
     "execution_count": 22,
     "metadata": {},
     "output_type": "execute_result"
    }
   ],
   "source": [
    "re.search(\"XYZ\", text)"
   ]
  },
  {
   "cell_type": "code",
   "execution_count": 23,
   "metadata": {},
   "outputs": [
    {
     "data": {
      "text/plain": [
       "23"
      ]
     },
     "execution_count": 23,
     "metadata": {},
     "output_type": "execute_result"
    }
   ],
   "source": [
    "re.search(\"XYZ\", text).start()"
   ]
  },
  {
   "cell_type": "code",
   "execution_count": 24,
   "metadata": {},
   "outputs": [
    {
     "data": {
      "text/plain": [
       "26"
      ]
     },
     "execution_count": 24,
     "metadata": {},
     "output_type": "execute_result"
    }
   ],
   "source": [
    "re.search(\"XYZ\", text).end()"
   ]
  },
  {
   "cell_type": "code",
   "execution_count": 25,
   "metadata": {},
   "outputs": [
    {
     "data": {
      "text/plain": [
       "(23, 26)"
      ]
     },
     "execution_count": 25,
     "metadata": {},
     "output_type": "execute_result"
    }
   ],
   "source": [
    "re.search(\"XYZ\", text).span()"
   ]
  },
  {
   "cell_type": "code",
   "execution_count": 26,
   "metadata": {},
   "outputs": [
    {
     "data": {
      "text/plain": [
       "'XYZ'"
      ]
     },
     "execution_count": 26,
     "metadata": {},
     "output_type": "execute_result"
    }
   ],
   "source": [
    "re.search(\"XYZ\", text).group()"
   ]
  },
  {
   "cell_type": "code",
   "execution_count": 27,
   "metadata": {},
   "outputs": [
    {
     "data": {
      "text/plain": [
       "'toygar@par.com ABC 123 XYZ 456 @&% 789 7 5 23'"
      ]
     },
     "execution_count": 27,
     "metadata": {},
     "output_type": "execute_result"
    }
   ],
   "source": [
    "re.search(\"XYZ\", text).string"
   ]
  },
  {
   "cell_type": "code",
   "execution_count": 28,
   "metadata": {},
   "outputs": [
    {
     "data": {
      "text/plain": [
       "<re.Match object; span=(19, 22), match='123'>"
      ]
     },
     "execution_count": 28,
     "metadata": {},
     "output_type": "execute_result"
    }
   ],
   "source": [
    "re.search(r\"\\d+\", text)"
   ]
  },
  {
   "cell_type": "code",
   "execution_count": 29,
   "metadata": {},
   "outputs": [
    {
     "name": "stdout",
     "output_type": "stream",
     "text": [
      "<re.Match object; span=(19, 22), match='123'>\n",
      "<re.Match object; span=(27, 30), match='456'>\n",
      "<re.Match object; span=(35, 38), match='789'>\n",
      "<re.Match object; span=(39, 40), match='7'>\n",
      "<re.Match object; span=(41, 42), match='5'>\n",
      "<re.Match object; span=(43, 45), match='23'>\n"
     ]
    }
   ],
   "source": [
    "for x in re.finditer(r\"\\d\\S*\", text):\n",
    "    print(x)"
   ]
  },
  {
   "cell_type": "code",
   "execution_count": 30,
   "metadata": {},
   "outputs": [
    {
     "data": {
      "text/plain": [
       "<re.Match object; span=(19, 22), match='123'>"
      ]
     },
     "execution_count": 30,
     "metadata": {},
     "output_type": "execute_result"
    }
   ],
   "source": [
    "re.search(r\"\\d{3}\", text)"
   ]
  },
  {
   "cell_type": "code",
   "execution_count": 31,
   "metadata": {},
   "outputs": [],
   "source": [
    "matches3 = re.finditer(r\"\\d{3}\", text)"
   ]
  },
  {
   "cell_type": "code",
   "execution_count": 32,
   "metadata": {},
   "outputs": [
    {
     "name": "stdout",
     "output_type": "stream",
     "text": [
      "123\n",
      "456\n",
      "789\n"
     ]
    }
   ],
   "source": [
    "for match in matches3:\n",
    "    print(match.group())"
   ]
  },
  {
   "cell_type": "code",
   "execution_count": 33,
   "metadata": {},
   "outputs": [
    {
     "data": {
      "text/plain": [
       "[<re.Match object; span=(19, 22), match='123'>,\n",
       " <re.Match object; span=(27, 30), match='456'>,\n",
       " <re.Match object; span=(35, 38), match='789'>,\n",
       " <re.Match object; span=(43, 45), match='23'>]"
      ]
     },
     "execution_count": 33,
     "metadata": {},
     "output_type": "execute_result"
    }
   ],
   "source": [
    "#min 2 max 5 basamaklı sayıları bul\n",
    "list(re.finditer(r\"\\d{2,5}\", text))"
   ]
  },
  {
   "cell_type": "code",
   "execution_count": 34,
   "metadata": {},
   "outputs": [
    {
     "name": "stdout",
     "output_type": "stream",
     "text": [
      "123\n",
      "456\n",
      "789\n",
      "23\n"
     ]
    }
   ],
   "source": [
    "for  match in re.finditer(r\"\\d{2,5}\", text):\n",
    "    print(match.group())"
   ]
  },
  {
   "cell_type": "code",
   "execution_count": 35,
   "metadata": {},
   "outputs": [
    {
     "name": "stdout",
     "output_type": "stream",
     "text": [
      "(19, 22) : 123\n",
      "(27, 30) : 456\n",
      "(35, 38) : 789\n",
      "(43, 45) : 23\n"
     ]
    }
   ],
   "source": [
    "for  span in re.finditer(r\"\\d{2,5}\", text):\n",
    "    print(span.span(), \":\", span.group())"
   ]
  },
  {
   "cell_type": "code",
   "execution_count": 36,
   "metadata": {},
   "outputs": [
    {
     "data": {
      "text/plain": [
       "[<re.Match object; span=(19, 22), match='123'>,\n",
       " <re.Match object; span=(27, 30), match='456'>,\n",
       " <re.Match object; span=(35, 38), match='789'>,\n",
       " <re.Match object; span=(39, 42), match='7 5'>]"
      ]
     },
     "execution_count": 36,
     "metadata": {},
     "output_type": "execute_result"
    }
   ],
   "source": [
    "#aralarında herhangi bir char olabilecek şekilde sayıları bul,\n",
    "list(re.finditer(r\"\\d.\\d\", text))"
   ]
  },
  {
   "cell_type": "code",
   "execution_count": 37,
   "metadata": {},
   "outputs": [
    {
     "data": {
      "text/plain": [
       "[<re.Match object; span=(0, 1), match='t'>,\n",
       " <re.Match object; span=(1, 2), match='o'>,\n",
       " <re.Match object; span=(2, 3), match='y'>,\n",
       " <re.Match object; span=(3, 4), match='g'>,\n",
       " <re.Match object; span=(4, 5), match='a'>,\n",
       " <re.Match object; span=(5, 6), match='r'>,\n",
       " <re.Match object; span=(7, 8), match='p'>,\n",
       " <re.Match object; span=(8, 9), match='a'>,\n",
       " <re.Match object; span=(9, 10), match='r'>,\n",
       " <re.Match object; span=(11, 12), match='c'>,\n",
       " <re.Match object; span=(12, 13), match='o'>,\n",
       " <re.Match object; span=(13, 14), match='m'>,\n",
       " <re.Match object; span=(15, 16), match='A'>,\n",
       " <re.Match object; span=(16, 17), match='B'>,\n",
       " <re.Match object; span=(17, 18), match='C'>,\n",
       " <re.Match object; span=(23, 24), match='X'>,\n",
       " <re.Match object; span=(24, 25), match='Y'>,\n",
       " <re.Match object; span=(25, 26), match='Z'>]"
      ]
     },
     "execution_count": 37,
     "metadata": {},
     "output_type": "execute_result"
    }
   ],
   "source": [
    "list(re.finditer(r\"[a-zA-Z]\", text))"
   ]
  },
  {
   "cell_type": "code",
   "execution_count": 38,
   "metadata": {},
   "outputs": [
    {
     "data": {
      "text/plain": [
       "['t',\n",
       " 'o',\n",
       " 'y',\n",
       " 'g',\n",
       " 'a',\n",
       " 'r',\n",
       " 'p',\n",
       " 'a',\n",
       " 'r',\n",
       " 'c',\n",
       " 'o',\n",
       " 'm',\n",
       " '1',\n",
       " '2',\n",
       " '3',\n",
       " '4',\n",
       " '5',\n",
       " '6',\n",
       " '7',\n",
       " '8',\n",
       " '9',\n",
       " '7',\n",
       " '5',\n",
       " '2',\n",
       " '3']"
      ]
     },
     "execution_count": 38,
     "metadata": {},
     "output_type": "execute_result"
    }
   ],
   "source": [
    "#text içindeki sayı ve küçük harfli karakterleri bul\n",
    "\n",
    "[x.group() for x in re.finditer(r\"\\d|[a-z]\", text)]"
   ]
  },
  {
   "cell_type": "code",
   "execution_count": 39,
   "metadata": {},
   "outputs": [
    {
     "name": "stdout",
     "output_type": "stream",
     "text": [
      "123\n",
      "456\n",
      "789\n"
     ]
    },
    {
     "data": {
      "text/plain": [
       "[None, None, None]"
      ]
     },
     "execution_count": 39,
     "metadata": {},
     "output_type": "execute_result"
    }
   ],
   "source": [
    "#ilk karakteri sayı sonraki iki karakteri alfanumerik olabilen değerleri getir\n",
    "\n",
    "[print(x.group()) for x in re.finditer(r\"\\d\\w\\w\", text)]"
   ]
  },
  {
   "cell_type": "code",
   "execution_count": null,
   "metadata": {},
   "outputs": [
    {
     "data": {
      "text/plain": [
       "[<re.Match object; span=(0, 3), match='toy'>]"
      ]
     },
     "execution_count": 43,
     "metadata": {},
     "output_type": "execute_result"
    }
   ],
   "source": [
    "#stringin en başında 3 haneli alfa karakter varsa bul\n",
    "pattern4 = r\"^\\w\\w\\w\"\n",
    "\n",
    "[ x for x in re.finditer(pattern4, text)]"
   ]
  },
  {
   "cell_type": "code",
   "execution_count": null,
   "metadata": {},
   "outputs": [
    {
     "data": {
      "text/plain": [
       "[<re.Match object; span=(43, 45), match='23'>]"
      ]
     },
     "execution_count": 44,
     "metadata": {},
     "output_type": "execute_result"
    }
   ],
   "source": [
    "#stringin en sonunda iki basamaklı sayı varsa bul\n",
    "\n",
    "[ x for x in re.finditer(r\"\\d\\d$\", text)]"
   ]
  },
  {
   "cell_type": "code",
   "execution_count": 45,
   "metadata": {},
   "outputs": [],
   "source": [
    "text = \"Python ve Veri Bilimi Kütüphanesi: Toygar Py ile Python Programlama ve Veri Bilimi öğrenin ve Python dilini kullanarak kariyer hedeflerinize sağlam adımlarla ilerleyin. Bana 11/November/2024 - 31/December/2024 (15.11.2024-31.12.2004) arasında ulaşmak isterseniz telefon numaram: +90-555-555-5555. Mail adresim: toygar@par.com\""
   ]
  },
  {
   "cell_type": "code",
   "execution_count": null,
   "metadata": {},
   "outputs": [
    {
     "data": {
      "text/plain": [
       "['Python', 'Python', 'Python']"
      ]
     },
     "execution_count": 46,
     "metadata": {},
     "output_type": "execute_result"
    }
   ],
   "source": [
    "#re.findall\n",
    "\n",
    "re.findall(\"Python\", text)"
   ]
  },
  {
   "cell_type": "code",
   "execution_count": 48,
   "metadata": {},
   "outputs": [
    {
     "data": {
      "text/plain": [
       "3"
      ]
     },
     "execution_count": 48,
     "metadata": {},
     "output_type": "execute_result"
    }
   ],
   "source": [
    "text.count(\"Python\")"
   ]
  },
  {
   "cell_type": "code",
   "execution_count": 49,
   "metadata": {},
   "outputs": [
    {
     "data": {
      "text/plain": [
       "['Python',\n",
       " 've',\n",
       " 'Veri',\n",
       " 'Bilimi',\n",
       " 'Kütüphanesi:',\n",
       " 'Toygar',\n",
       " 'Py',\n",
       " 'ile',\n",
       " 'Python',\n",
       " 'Programlama',\n",
       " 've',\n",
       " 'Veri',\n",
       " 'Bilimi',\n",
       " 'öğrenin',\n",
       " 've',\n",
       " 'Python',\n",
       " 'dilini',\n",
       " 'kullanarak',\n",
       " 'kariyer',\n",
       " 'hedeflerinize',\n",
       " 'sağlam',\n",
       " 'adımlarla',\n",
       " 'ilerleyin.',\n",
       " 'Bana',\n",
       " '11/November/2024',\n",
       " '-',\n",
       " '31/December/2024',\n",
       " '(15.11.2024-31.12.2004)',\n",
       " 'arasında',\n",
       " 'ulaşmak',\n",
       " 'isterseniz',\n",
       " 'telefon',\n",
       " 'numaram:',\n",
       " '+90-555-555-5555.',\n",
       " 'Mail',\n",
       " 'adresim:',\n",
       " 'toygar@par.com']"
      ]
     },
     "execution_count": 49,
     "metadata": {},
     "output_type": "execute_result"
    }
   ],
   "source": [
    "#re.split\n",
    "\n",
    "re.split(\" \", text)"
   ]
  },
  {
   "cell_type": "code",
   "execution_count": 50,
   "metadata": {},
   "outputs": [
    {
     "data": {
      "text/plain": [
       "'Python-ve-Veri-Bilimi-Kütüphanesi:-Toygar-Py-ile-Python-Programlama-ve-Veri-Bilimi-öğrenin-ve-Python-dilini-kullanarak-kariyer-hedeflerinize-sağlam-adımlarla-ilerleyin.-Bana-11/November/2024---31/December/2024-(15.11.2024-31.12.2004)-arasında-ulaşmak-isterseniz-telefon-numaram:-+90-555-555-5555.-Mail-adresim:-toygar@par.com'"
      ]
     },
     "execution_count": 50,
     "metadata": {},
     "output_type": "execute_result"
    }
   ],
   "source": [
    "# re.sub\n",
    "\n",
    "re.sub(\" \", \"-\", text)"
   ]
  },
  {
   "cell_type": "code",
   "execution_count": null,
   "metadata": {},
   "outputs": [
    {
     "data": {
      "text/plain": [
       "<re.Match object; span=(0, 6), match='Python'>"
      ]
     },
     "execution_count": 51,
     "metadata": {},
     "output_type": "execute_result"
    }
   ],
   "source": [
    "#re.search\n",
    "\n",
    "re.search(\"Python\", text) #  match objesi : <re.Match object; span=(0, 6), match='Python'>"
   ]
  },
  {
   "cell_type": "code",
   "execution_count": null,
   "metadata": {},
   "outputs": [
    {
     "data": {
      "text/plain": [
       "(0, 6)"
      ]
     },
     "execution_count": 52,
     "metadata": {},
     "output_type": "execute_result"
    }
   ],
   "source": [
    "re.search(\"Python\", text).span() # #♣string içinde konumunu veriyor"
   ]
  },
  {
   "cell_type": "code",
   "execution_count": null,
   "metadata": {},
   "outputs": [
    {
     "data": {
      "text/plain": [
       "0"
      ]
     },
     "execution_count": 53,
     "metadata": {},
     "output_type": "execute_result"
    }
   ],
   "source": [
    "re.search(\"Python\", text).start() # #♠str içinde sıfırıncı karakterden başladığını söylüyor"
   ]
  },
  {
   "cell_type": "code",
   "execution_count": 54,
   "metadata": {},
   "outputs": [
    {
     "data": {
      "text/plain": [
       "6"
      ]
     },
     "execution_count": 54,
     "metadata": {},
     "output_type": "execute_result"
    }
   ],
   "source": [
    "re.search(\"Python\", text).end() #str içinde hangi karakterde bitiyor"
   ]
  },
  {
   "cell_type": "code",
   "execution_count": 56,
   "metadata": {},
   "outputs": [
    {
     "data": {
      "text/plain": [
       "'Python'"
      ]
     },
     "execution_count": 56,
     "metadata": {},
     "output_type": "execute_result"
    }
   ],
   "source": [
    "re.search(\"Python\", text).group() #bulduğumuz değeri bize geri gönderir"
   ]
  },
  {
   "cell_type": "code",
   "execution_count": 57,
   "metadata": {},
   "outputs": [
    {
     "data": {
      "text/plain": [
       "'Python ve Veri Bilimi Kütüphanesi: Toygar Py ile Python Programlama ve Veri Bilimi öğrenin ve Python dilini kullanarak kariyer hedeflerinize sağlam adımlarla ilerleyin. Bana 11/November/2024 - 31/December/2024 (15.11.2024-31.12.2004) arasında ulaşmak isterseniz telefon numaram: +90-555-555-5555. Mail adresim: toygar@par.com'"
      ]
     },
     "execution_count": 57,
     "metadata": {},
     "output_type": "execute_result"
    }
   ],
   "source": [
    "re.search(\"Python\", text).string # arama hangi str için kullanıldı"
   ]
  },
  {
   "cell_type": "code",
   "execution_count": 58,
   "metadata": {},
   "outputs": [
    {
     "data": {
      "text/plain": [
       "['a',\n",
       " 'a',\n",
       " 'a',\n",
       " 'a',\n",
       " 'a',\n",
       " 'a',\n",
       " 'a',\n",
       " 'a',\n",
       " 'a',\n",
       " 'a',\n",
       " 'a',\n",
       " 'a',\n",
       " 'a',\n",
       " 'a',\n",
       " 'a',\n",
       " 'a',\n",
       " 'b',\n",
       " 'c',\n",
       " 'b',\n",
       " 'a',\n",
       " 'a',\n",
       " 'a',\n",
       " 'a',\n",
       " 'a',\n",
       " 'a',\n",
       " 'a',\n",
       " 'a',\n",
       " 'a',\n",
       " 'a',\n",
       " 'a',\n",
       " 'c']"
      ]
     },
     "execution_count": 58,
     "metadata": {},
     "output_type": "execute_result"
    }
   ],
   "source": [
    "#[a-z] köşeli parantez içine yazılan bütün karakterler aranır\n",
    "re.findall(\"[abc]\" , text) #köseli parantez içinde str'de bulduğu karakterler "
   ]
  },
  {
   "cell_type": "code",
   "execution_count": 59,
   "metadata": {},
   "outputs": [
    {
     "data": {
      "text/plain": [
       "['t',\n",
       " 't',\n",
       " 'a',\n",
       " 's',\n",
       " 'a',\n",
       " 't',\n",
       " 'a',\n",
       " 'a',\n",
       " 'a',\n",
       " 't',\n",
       " 'a',\n",
       " 'a',\n",
       " 'a',\n",
       " 'a',\n",
       " 's',\n",
       " 'a',\n",
       " 'a',\n",
       " 'a',\n",
       " 'a',\n",
       " 'a',\n",
       " 'a',\n",
       " 'a',\n",
       " 'a',\n",
       " 'a',\n",
       " 's',\n",
       " 'a',\n",
       " 'a',\n",
       " 'a',\n",
       " 's',\n",
       " 't',\n",
       " 's',\n",
       " 't',\n",
       " 'a',\n",
       " 'a',\n",
       " 'a',\n",
       " 'a',\n",
       " 's',\n",
       " 't',\n",
       " 'a',\n",
       " 'a']"
      ]
     },
     "execution_count": 59,
     "metadata": {},
     "output_type": "execute_result"
    }
   ],
   "source": [
    "re.findall(\"[sat]\" , text) "
   ]
  },
  {
   "cell_type": "code",
   "execution_count": 60,
   "metadata": {},
   "outputs": [
    {
     "data": {
      "text/plain": [
       "['P',\n",
       " 'y',\n",
       " 't',\n",
       " 'h',\n",
       " 'o',\n",
       " 'n',\n",
       " ' ',\n",
       " 'v',\n",
       " 'e',\n",
       " ' ',\n",
       " 'V',\n",
       " 'e',\n",
       " 'r',\n",
       " 'i',\n",
       " ' ',\n",
       " 'B',\n",
       " 'i',\n",
       " 'l',\n",
       " 'i',\n",
       " 'm',\n",
       " 'i',\n",
       " ' ',\n",
       " 'K',\n",
       " 'ü',\n",
       " 't',\n",
       " 'ü',\n",
       " 'p',\n",
       " 'h',\n",
       " 'n',\n",
       " 'e',\n",
       " 's',\n",
       " 'i',\n",
       " ':',\n",
       " ' ',\n",
       " 'T',\n",
       " 'o',\n",
       " 'y',\n",
       " 'g',\n",
       " 'r',\n",
       " ' ',\n",
       " 'P',\n",
       " 'y',\n",
       " ' ',\n",
       " 'i',\n",
       " 'l',\n",
       " 'e',\n",
       " ' ',\n",
       " 'P',\n",
       " 'y',\n",
       " 't',\n",
       " 'h',\n",
       " 'o',\n",
       " 'n',\n",
       " ' ',\n",
       " 'P',\n",
       " 'r',\n",
       " 'o',\n",
       " 'g',\n",
       " 'r',\n",
       " 'm',\n",
       " 'l',\n",
       " 'm',\n",
       " ' ',\n",
       " 'v',\n",
       " 'e',\n",
       " ' ',\n",
       " 'V',\n",
       " 'e',\n",
       " 'r',\n",
       " 'i',\n",
       " ' ',\n",
       " 'B',\n",
       " 'i',\n",
       " 'l',\n",
       " 'i',\n",
       " 'm',\n",
       " 'i',\n",
       " ' ',\n",
       " 'ö',\n",
       " 'ğ',\n",
       " 'r',\n",
       " 'e',\n",
       " 'n',\n",
       " 'i',\n",
       " 'n',\n",
       " ' ',\n",
       " 'v',\n",
       " 'e',\n",
       " ' ',\n",
       " 'P',\n",
       " 'y',\n",
       " 't',\n",
       " 'h',\n",
       " 'o',\n",
       " 'n',\n",
       " ' ',\n",
       " 'd',\n",
       " 'i',\n",
       " 'l',\n",
       " 'i',\n",
       " 'n',\n",
       " 'i',\n",
       " ' ',\n",
       " 'k',\n",
       " 'u',\n",
       " 'l',\n",
       " 'l',\n",
       " 'n',\n",
       " 'r',\n",
       " 'k',\n",
       " ' ',\n",
       " 'k',\n",
       " 'r',\n",
       " 'i',\n",
       " 'y',\n",
       " 'e',\n",
       " 'r',\n",
       " ' ',\n",
       " 'h',\n",
       " 'e',\n",
       " 'd',\n",
       " 'e',\n",
       " 'f',\n",
       " 'l',\n",
       " 'e',\n",
       " 'r',\n",
       " 'i',\n",
       " 'n',\n",
       " 'i',\n",
       " 'z',\n",
       " 'e',\n",
       " ' ',\n",
       " 's',\n",
       " 'ğ',\n",
       " 'l',\n",
       " 'm',\n",
       " ' ',\n",
       " 'd',\n",
       " 'ı',\n",
       " 'm',\n",
       " 'l',\n",
       " 'r',\n",
       " 'l',\n",
       " ' ',\n",
       " 'i',\n",
       " 'l',\n",
       " 'e',\n",
       " 'r',\n",
       " 'l',\n",
       " 'e',\n",
       " 'y',\n",
       " 'i',\n",
       " 'n',\n",
       " '.',\n",
       " ' ',\n",
       " 'B',\n",
       " 'n',\n",
       " ' ',\n",
       " '1',\n",
       " '1',\n",
       " '/',\n",
       " 'N',\n",
       " 'o',\n",
       " 'v',\n",
       " 'e',\n",
       " 'm',\n",
       " 'e',\n",
       " 'r',\n",
       " '/',\n",
       " '2',\n",
       " '0',\n",
       " '2',\n",
       " '4',\n",
       " ' ',\n",
       " '-',\n",
       " ' ',\n",
       " '3',\n",
       " '1',\n",
       " '/',\n",
       " 'D',\n",
       " 'e',\n",
       " 'e',\n",
       " 'm',\n",
       " 'e',\n",
       " 'r',\n",
       " '/',\n",
       " '2',\n",
       " '0',\n",
       " '2',\n",
       " '4',\n",
       " ' ',\n",
       " '(',\n",
       " '1',\n",
       " '5',\n",
       " '.',\n",
       " '1',\n",
       " '1',\n",
       " '.',\n",
       " '2',\n",
       " '0',\n",
       " '2',\n",
       " '4',\n",
       " '-',\n",
       " '3',\n",
       " '1',\n",
       " '.',\n",
       " '1',\n",
       " '2',\n",
       " '.',\n",
       " '2',\n",
       " '0',\n",
       " '0',\n",
       " '4',\n",
       " ')',\n",
       " ' ',\n",
       " 'r',\n",
       " 's',\n",
       " 'ı',\n",
       " 'n',\n",
       " 'd',\n",
       " ' ',\n",
       " 'u',\n",
       " 'l',\n",
       " 'ş',\n",
       " 'm',\n",
       " 'k',\n",
       " ' ',\n",
       " 'i',\n",
       " 's',\n",
       " 't',\n",
       " 'e',\n",
       " 'r',\n",
       " 's',\n",
       " 'e',\n",
       " 'n',\n",
       " 'i',\n",
       " 'z',\n",
       " ' ',\n",
       " 't',\n",
       " 'e',\n",
       " 'l',\n",
       " 'e',\n",
       " 'f',\n",
       " 'o',\n",
       " 'n',\n",
       " ' ',\n",
       " 'n',\n",
       " 'u',\n",
       " 'm',\n",
       " 'r',\n",
       " 'm',\n",
       " ':',\n",
       " ' ',\n",
       " '+',\n",
       " '9',\n",
       " '0',\n",
       " '-',\n",
       " '5',\n",
       " '5',\n",
       " '5',\n",
       " '-',\n",
       " '5',\n",
       " '5',\n",
       " '5',\n",
       " '-',\n",
       " '5',\n",
       " '5',\n",
       " '5',\n",
       " '5',\n",
       " '.',\n",
       " ' ',\n",
       " 'M',\n",
       " 'i',\n",
       " 'l',\n",
       " ' ',\n",
       " 'd',\n",
       " 'r',\n",
       " 'e',\n",
       " 's',\n",
       " 'i',\n",
       " 'm',\n",
       " ':',\n",
       " ' ',\n",
       " 't',\n",
       " 'o',\n",
       " 'y',\n",
       " 'g',\n",
       " 'r',\n",
       " '@',\n",
       " 'p',\n",
       " 'r',\n",
       " '.',\n",
       " 'o',\n",
       " 'm']"
      ]
     },
     "execution_count": 60,
     "metadata": {},
     "output_type": "execute_result"
    }
   ],
   "source": [
    "re.findall(\"[^abc]\", text) #abc dışında bütün karakterler "
   ]
  },
  {
   "cell_type": "code",
   "execution_count": 61,
   "metadata": {},
   "outputs": [
    {
     "data": {
      "text/plain": [
       "['1',\n",
       " '1',\n",
       " '2',\n",
       " '2',\n",
       " '4',\n",
       " '3',\n",
       " '1',\n",
       " '2',\n",
       " '2',\n",
       " '4',\n",
       " '1',\n",
       " '5',\n",
       " '1',\n",
       " '1',\n",
       " '2',\n",
       " '2',\n",
       " '4',\n",
       " '3',\n",
       " '1',\n",
       " '1',\n",
       " '2',\n",
       " '2',\n",
       " '4',\n",
       " '5',\n",
       " '5',\n",
       " '5',\n",
       " '5',\n",
       " '5',\n",
       " '5',\n",
       " '5',\n",
       " '5',\n",
       " '5',\n",
       " '5']"
      ]
     },
     "execution_count": 61,
     "metadata": {},
     "output_type": "execute_result"
    }
   ],
   "source": [
    "re.findall(\"[1-5]\" , text) "
   ]
  },
  {
   "cell_type": "code",
   "execution_count": 62,
   "metadata": {},
   "outputs": [
    {
     "data": {
      "text/plain": [
       "['Pyt',\n",
       " 'hon',\n",
       " ' ve',\n",
       " ' Ve',\n",
       " 'ri ',\n",
       " 'Bil',\n",
       " 'imi',\n",
       " ' Kü',\n",
       " 'tüp',\n",
       " 'han',\n",
       " 'esi',\n",
       " ': T',\n",
       " 'oyg',\n",
       " 'ar ',\n",
       " 'Py ',\n",
       " 'ile',\n",
       " ' Py',\n",
       " 'tho',\n",
       " 'n P',\n",
       " 'rog',\n",
       " 'ram',\n",
       " 'lam',\n",
       " 'a v',\n",
       " 'e V',\n",
       " 'eri',\n",
       " ' Bi',\n",
       " 'lim',\n",
       " 'i ö',\n",
       " 'ğre',\n",
       " 'nin',\n",
       " ' ve',\n",
       " ' Py',\n",
       " 'tho',\n",
       " 'n d',\n",
       " 'ili',\n",
       " 'ni ',\n",
       " 'kul',\n",
       " 'lan',\n",
       " 'ara',\n",
       " 'k k',\n",
       " 'ari',\n",
       " 'yer',\n",
       " ' he',\n",
       " 'def',\n",
       " 'ler',\n",
       " 'ini',\n",
       " 'ze ',\n",
       " 'sağ',\n",
       " 'lam',\n",
       " ' ad',\n",
       " 'ıml',\n",
       " 'arl',\n",
       " 'a i',\n",
       " 'ler',\n",
       " 'ley',\n",
       " 'in.',\n",
       " ' Ba',\n",
       " 'na ',\n",
       " '11/',\n",
       " 'Nov',\n",
       " 'emb',\n",
       " 'er/',\n",
       " '202',\n",
       " '4 -',\n",
       " ' 31',\n",
       " '/De',\n",
       " 'cem',\n",
       " 'ber',\n",
       " '/20',\n",
       " '24 ',\n",
       " '(15',\n",
       " '.11',\n",
       " '.20',\n",
       " '24-',\n",
       " '31.',\n",
       " '12.',\n",
       " '200',\n",
       " '4) ',\n",
       " 'ara',\n",
       " 'sın',\n",
       " 'da ',\n",
       " 'ula',\n",
       " 'şma',\n",
       " 'k i',\n",
       " 'ste',\n",
       " 'rse',\n",
       " 'niz',\n",
       " ' te',\n",
       " 'lef',\n",
       " 'on ',\n",
       " 'num',\n",
       " 'ara',\n",
       " 'm: ',\n",
       " '+90',\n",
       " '-55',\n",
       " '5-5',\n",
       " '55-',\n",
       " '555',\n",
       " '5. ',\n",
       " 'Mai',\n",
       " 'l a',\n",
       " 'dre',\n",
       " 'sim',\n",
       " ': t',\n",
       " 'oyg',\n",
       " 'ar@',\n",
       " 'par',\n",
       " '.co']"
      ]
     },
     "execution_count": 62,
     "metadata": {},
     "output_type": "execute_result"
    }
   ],
   "source": [
    "# . herhangi bir karakteri ifade eder.\n",
    "\n",
    "re.findall(\"...\", text)"
   ]
  },
  {
   "cell_type": "code",
   "execution_count": 63,
   "metadata": {},
   "outputs": [
    {
     "data": {
      "text/plain": [
       "['Python', 'Python', 'Python']"
      ]
     },
     "execution_count": 63,
     "metadata": {},
     "output_type": "execute_result"
    }
   ],
   "source": [
    "re.findall(\"Py..on\", text)"
   ]
  },
  {
   "cell_type": "code",
   "execution_count": 64,
   "metadata": {},
   "outputs": [
    {
     "data": {
      "text/plain": [
       "['P']"
      ]
     },
     "execution_count": 64,
     "metadata": {},
     "output_type": "execute_result"
    }
   ],
   "source": [
    "# ^ carot - string belirtilen  karakterle başlıyor mu?\n",
    "\n",
    "re.findall(\"^P\", text)"
   ]
  },
  {
   "cell_type": "code",
   "execution_count": 65,
   "metadata": {},
   "outputs": [
    {
     "data": {
      "text/plain": [
       "['com']"
      ]
     },
     "execution_count": 65,
     "metadata": {},
     "output_type": "execute_result"
    }
   ],
   "source": [
    "# $ belirtilen karakterle bitiyor mu?\n",
    "\n",
    "re.findall(\"com$\", text)\n"
   ]
  },
  {
   "cell_type": "code",
   "execution_count": 88,
   "metadata": {},
   "outputs": [
    {
     "data": {
      "text/plain": [
       "['-', '-', '-', '555-', '555-']"
      ]
     },
     "execution_count": 88,
     "metadata": {},
     "output_type": "execute_result"
    }
   ],
   "source": [
    "# * bir karakterin sıfır ya da daha fazla sayıda olmasını kontrol eder  , a* mn , man , maaan ok\n",
    "\n",
    "\n",
    "re.findall(\"5*-\", text)"
   ]
  },
  {
   "cell_type": "code",
   "execution_count": 78,
   "metadata": {},
   "outputs": [
    {
     "data": {
      "text/plain": [
       "['555-555-5555']"
      ]
     },
     "execution_count": 78,
     "metadata": {},
     "output_type": "execute_result"
    }
   ],
   "source": [
    "# + bir karakterin bir ya da daha fazla sayıda olmasını konrol eder, a+ man, maan, maaan\n",
    "\n",
    "re.findall(\"5+-5+-5+\", text)"
   ]
  },
  {
   "cell_type": "code",
   "execution_count": 105,
   "metadata": {},
   "outputs": [
    {
     "data": {
      "text/plain": [
       "['5', '55', '5', '55', '5', '55', '55']"
      ]
     },
     "execution_count": 105,
     "metadata": {},
     "output_type": "execute_result"
    }
   ],
   "source": [
    "# ?  bir karakterin sıfır ya da bir kere olmasını kontrol eder\n",
    "\n",
    "re.findall(\"55?\", text)"
   ]
  },
  {
   "cell_type": "code",
   "execution_count": 108,
   "metadata": {},
   "outputs": [
    {
     "data": {
      "text/plain": [
       "['555', '555', '5555']"
      ]
     },
     "execution_count": 108,
     "metadata": {},
     "output_type": "execute_result"
    }
   ],
   "source": [
    "\"\"\"\n",
    "{} karakter sayısını kontrol eder\n",
    "\n",
    "al{2}   a karakterinin arkasına l karakteri 2 kez tekrarlanmalı\n",
    "\n",
    "al{2, 3} a karakterinin arkasına l en az iki, en fazla 3 kez tekrarlanmalı\n",
    "\n",
    "[0-9]{2,4}  en az 2 en çok 4 basamaklı sayılar\n",
    "\n",
    "\n",
    "\"\"\" \n",
    "re.findall(\"5{3,4}\", text) # 5'den bana 3 tane olanları getir\n"
   ]
  },
  {
   "cell_type": "code",
   "execution_count": 117,
   "metadata": {},
   "outputs": [
    {
     "data": {
      "text/plain": [
       "['-555-', '-5555']"
      ]
     },
     "execution_count": 117,
     "metadata": {},
     "output_type": "execute_result"
    }
   ],
   "source": [
    "re.findall(r\"\\S5{3}.\", text) "
   ]
  },
  {
   "cell_type": "code",
   "execution_count": 116,
   "metadata": {},
   "outputs": [
    {
     "data": {
      "text/plain": [
       "['Python']"
      ]
     },
     "execution_count": 116,
     "metadata": {},
     "output_type": "execute_result"
    }
   ],
   "source": [
    "r\"\"\" \\   özel karakter aramamızı sağlar  \\$ normal dolar işareti olarak görür\n",
    "\\A  belirtilen karakter stringin başında mı? \n",
    "\\Z  belirtilen karakter stringin sonunda mı?\n",
    "\\b belirtilen karakter kelimenin başında mı sonunda mı?\n",
    "\\B belirtilen karakter başında ya da sonunda olmayanlara verir\n",
    "\\w alfabetik karakterler rakamlar alt çizgi karakteri\n",
    "\\W   \\w nin tam tersi\n",
    "\n",
    "\"\"\"\n",
    "re.findall(r\"\\APython\", text)\n"
   ]
  },
  {
   "cell_type": "code",
   "execution_count": 119,
   "metadata": {},
   "outputs": [
    {
     "data": {
      "text/plain": [
       "['com']"
      ]
     },
     "execution_count": 119,
     "metadata": {},
     "output_type": "execute_result"
    }
   ],
   "source": [
    "re.findall(r\"com\\Z\", text)"
   ]
  },
  {
   "cell_type": "code",
   "execution_count": 58,
   "metadata": {},
   "outputs": [],
   "source": [
    "import re\n",
    "\n",
    "text = \"Python ve Veri Bilimi Kütüphanesi: Toygar Py ile Python Programlama ve Veri Bilimi öğrenin ve Python dilini kullanarak kariyer hedeflerinize sağlam adımlarla ilerleyin. Bana 11/November/2024 - 31-December-2024 (15.11.2024 - 31.12.2004) tarihlerinde her gün saat 10:-18:00 arasında ulaşmak isterseniz telefon numaram: +90-555-555-5555. Mail adresim: toygar@par.com toygar@partr.com.tr\""
   ]
  },
  {
   "cell_type": "code",
   "execution_count": 59,
   "metadata": {},
   "outputs": [],
   "source": [
    "pattern = r\"\\d\\d/[a-zA-Z]+/\\d\\d\\d\\d\""
   ]
  },
  {
   "cell_type": "code",
   "execution_count": 60,
   "metadata": {},
   "outputs": [
    {
     "name": "stdout",
     "output_type": "stream",
     "text": [
      "<re.Match object; span=(174, 190), match='11/November/2024'>\n"
     ]
    }
   ],
   "source": [
    "matches = re.finditer(pattern, text)\n",
    "\n",
    "for match in matches:\n",
    "    print(match)"
   ]
  },
  {
   "cell_type": "code",
   "execution_count": 71,
   "metadata": {},
   "outputs": [
    {
     "data": {
      "text/plain": [
       "[<re.Match object; span=(174, 190), match='11/November/2024'>]"
      ]
     },
     "execution_count": 71,
     "metadata": {},
     "output_type": "execute_result"
    }
   ],
   "source": [
    "#extract dates\n",
    "\n",
    "[x for x  in  re.finditer(pattern, text)]"
   ]
  },
  {
   "cell_type": "code",
   "execution_count": 72,
   "metadata": {},
   "outputs": [
    {
     "data": {
      "text/plain": [
       "[<re.Match object; span=(174, 190), match='11/November/2024'>]"
      ]
     },
     "execution_count": 72,
     "metadata": {},
     "output_type": "execute_result"
    }
   ],
   "source": [
    "[x for x  in  re.finditer(r\"\\d\\d/[a-zA-Z]+/\\d+\", text)]"
   ]
  },
  {
   "cell_type": "code",
   "execution_count": 73,
   "metadata": {},
   "outputs": [
    {
     "data": {
      "text/plain": [
       "[<re.Match object; span=(174, 190), match='11/November/2024'>,\n",
       " <re.Match object; span=(193, 209), match='31-December-2024'>]"
      ]
     },
     "execution_count": 73,
     "metadata": {},
     "output_type": "execute_result"
    }
   ],
   "source": [
    "[x for x  in  re.finditer(r\"\\d{2}[-./][a-zA-Z]{8}[-./]\\d{4}\", text)]"
   ]
  },
  {
   "cell_type": "code",
   "execution_count": 74,
   "metadata": {},
   "outputs": [
    {
     "data": {
      "text/plain": [
       "[<re.Match object; span=(174, 190), match='11/November/2024'>,\n",
       " <re.Match object; span=(193, 209), match='31-December-2024'>,\n",
       " <re.Match object; span=(211, 221), match='15.11.2024'>,\n",
       " <re.Match object; span=(224, 234), match='31.12.2004'>,\n",
       " <re.Match object; span=(322, 333), match='55-555-5555'>]"
      ]
     },
     "execution_count": 74,
     "metadata": {},
     "output_type": "execute_result"
    }
   ],
   "source": [
    "#stringde bütün tarihleri bulabilmek için pattern:\n",
    "\n",
    "[x for x  in  re.finditer(r\"\\d{2}[-./][a-zA-Z0-9]{2,8}[-./]\\d{4}\", text)]"
   ]
  },
  {
   "cell_type": "code",
   "execution_count": 75,
   "metadata": {},
   "outputs": [
    {
     "data": {
      "text/plain": [
       "[<re.Match object; span=(174, 190), match='11/November/2024'>,\n",
       " <re.Match object; span=(193, 209), match='31-December-2024'>,\n",
       " <re.Match object; span=(211, 221), match='15.11.2024'>,\n",
       " <re.Match object; span=(224, 234), match='31.12.2004'>]"
      ]
     },
     "execution_count": 75,
     "metadata": {},
     "output_type": "execute_result"
    }
   ],
   "source": [
    "#pipe işaretini kullanarak bulunan telefon numarasını eleyelim\n",
    "\n",
    "[x for x  in  re.finditer(r\"\\d{2}[-./]([a-zA-Z]{2,8}|\\d{2})[-./]\\d{4}\", text)]"
   ]
  },
  {
   "cell_type": "code",
   "execution_count": 76,
   "metadata": {},
   "outputs": [
    {
     "data": {
      "text/plain": [
       "[<re.Match object; span=(349, 363), match='toygar@par.com'>,\n",
       " <re.Match object; span=(364, 383), match='toygar@partr.com.tr'>]"
      ]
     },
     "execution_count": 76,
     "metadata": {},
     "output_type": "execute_result"
    }
   ],
   "source": [
    "#extract emails\n",
    "[x for x  in  re.finditer(r\"\\w+@[a-z]+(\\.[a-z]{2,3})+\", text)]"
   ]
  },
  {
   "cell_type": "code",
   "execution_count": 77,
   "metadata": {},
   "outputs": [
    {
     "data": {
      "text/plain": [
       "[<re.Match object; span=(317, 333), match='+90-555-555-5555'>]"
      ]
     },
     "execution_count": 77,
     "metadata": {},
     "output_type": "execute_result"
    }
   ],
   "source": [
    "#extract telephone\n",
    "\n",
    "[x for x  in  re.finditer(r\"\\+\\d{2}-\\d{3}-\\d{3}-\\d{4}\", text)]"
   ]
  },
  {
   "cell_type": "code",
   "execution_count": null,
   "metadata": {},
   "outputs": [],
   "source": [
    "\n"
   ]
  }
 ],
 "metadata": {
  "kernelspec": {
   "display_name": "base",
   "language": "python",
   "name": "python3"
  },
  "language_info": {
   "codemirror_mode": {
    "name": "ipython",
    "version": 3
   },
   "file_extension": ".py",
   "mimetype": "text/x-python",
   "name": "python",
   "nbconvert_exporter": "python",
   "pygments_lexer": "ipython3",
   "version": "3.12.7"
  }
 },
 "nbformat": 4,
 "nbformat_minor": 2
}
